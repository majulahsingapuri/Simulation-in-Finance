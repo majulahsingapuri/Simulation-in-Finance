{
 "cells": [
  {
   "cell_type": "code",
   "execution_count": 1,
   "metadata": {},
   "outputs": [],
   "source": [
    "import pandas as pd\n",
    "import numpy as np\n",
    "# import cupy as np\n",
    "import plotly.express as px\n",
    "import pandas_market_calendars as mcal\n",
    "from tqdm.notebook import tqdm"
   ]
  },
  {
   "cell_type": "markdown",
   "metadata": {},
   "source": [
    "## Payoff Function"
   ]
  },
  {
   "cell_type": "code",
   "execution_count": 2,
   "metadata": {},
   "outputs": [],
   "source": [
    "def payoff(paths, K, Barrier, remaining_steps):\n",
    "    Nsim = paths.shape[0]\n",
    "    interest_payment = min(6, ((remaining_steps // 63) + 1)) * 1.75\n",
    "    final_prices = paths[:, :, -1] #S_T\n",
    "    above_strike = np.all(final_prices >= K, axis=1)\n",
    "    barrier_event = np.any(paths.min(axis=2) <= Barrier, axis=1)\n",
    "\n",
    "    # No barrier event or (barrier event and above strike)\n",
    "    cash_payout = np.where(np.logical_or(np.logical_not(barrier_event), np.logical_and(barrier_event,  above_strike)), 1000 + interest_payment, 0)\n",
    "\n",
    "    # barrier event and below strike\n",
    "    percent_change = final_prices / K # Based on final strike price\n",
    "    min_loc = np.argmin(percent_change, axis=1) # Finding the worst performing underlying\n",
    "    j = np.indices(min_loc.shape)\n",
    "    payouts = 1000 * percent_change[j, min_loc] + interest_payment # certificate to stock ratio * final price of the stock + coupon payment\n",
    "    stock_payout = np.where(np.logical_and(barrier_event,  np.logical_not(above_strike)), payouts, 0)\n",
    "\n",
    "    return np.sum(np.concatenate((cash_payout.reshape(1, Nsim), stock_payout.reshape(1, Nsim))), axis=0)"
   ]
  },
  {
   "cell_type": "markdown",
   "metadata": {},
   "source": [
    "Expected Payoff: $ \\hat{f}(S, t) = \\frac{1}{n} \\sum^n_{i=1} e^{-r(T-t)} \\chi(S^{(i)})$"
   ]
  },
  {
   "cell_type": "code",
   "execution_count": 3,
   "metadata": {},
   "outputs": [],
   "source": [
    "def expected_payoff(payoffs, r, T, t):\n",
    "    return np.mean(np.exp(-r*(T-t)) * payoffs)"
   ]
  },
  {
   "cell_type": "markdown",
   "metadata": {},
   "source": [
    "## Plotting"
   ]
  },
  {
   "cell_type": "code",
   "execution_count": 4,
   "metadata": {},
   "outputs": [],
   "source": [
    "def plot_simulations(price_hist, Nsim, sim_paths, stock=0):\n",
    "    \"\"\"plots simulations for chosen stock\n",
    "\n",
    "    Args:\n",
    "        price_hist (df): df of historical prices\n",
    "        sim_paths (list): simulated price paths\n",
    "        stock (int, optional): index of stock. Defaults to 0.\n",
    "    \"\"\"\n",
    "    # df of historical prices\n",
    "    price_hist = price_hist.to_numpy()[:, [0]].reshape(-1)\n",
    "    price_hist = np.vstack([price_hist]*Nsim)\n",
    "    price_hist = pd.DataFrame(price_hist).transpose()\n",
    "\n",
    "    sim_paths = pd.DataFrame(sim_paths[:, stock, :]).transpose()\n",
    "    sim_paths = pd.concat((price_hist, sim_paths))\n",
    "    sim_paths = sim_paths.reset_index(drop=True)\n",
    "    fig = px.line(sim_paths)\n",
    "    return fig"
   ]
  },
  {
   "cell_type": "markdown",
   "metadata": {},
   "source": [
    "# GBM Simlulations\n"
   ]
  },
  {
   "cell_type": "markdown",
   "metadata": {},
   "source": [
    "## Standard MC"
   ]
  },
  {
   "cell_type": "code",
   "execution_count": 5,
   "metadata": {},
   "outputs": [],
   "source": [
    "def multi_asset_GBM(S0, v, r, Sigma, dt, m, p):\n",
    "    \"\"\"GBM simulation of multiple asset paths\n",
    "\n",
    "    Args:\n",
    "        S0 (vector of start prices): vector of starting prices\n",
    "        v (array): mu/dt\n",
    "        r (int): risk free interest rate\n",
    "        Sigma (matrix): covariance matrix\n",
    "        dt (float): delta between each time step\n",
    "        m (int): number of days simulated\n",
    "        p (int): number of assets\n",
    "    \"\"\"\n",
    "\n",
    "    S = np.zeros(shape=(m, p))\n",
    "    S[0] = S0\n",
    "\n",
    "    z = np.random.multivariate_normal(mean=np.zeros(p), cov=np.identity(p), size=m)\n",
    "    for step in range(1, m):\n",
    "        S[step] = S[step-1] * np.exp(( r * dt * np.ones(p) ) # Rate discount\n",
    "             - ( 0.5 * dt * np.diagonal(Sigma) ) # Volatility\n",
    "             + ( np.matmul(np.linalg.cholesky(Sigma * dt), z[step-1]) )) # Weiner process\n",
    "    return np.transpose(S)"
   ]
  },
  {
   "cell_type": "markdown",
   "metadata": {},
   "source": [
    "## Antithetic Variate"
   ]
  },
  {
   "cell_type": "code",
   "execution_count": 6,
   "metadata": {},
   "outputs": [],
   "source": [
    "def multi_asset_GBM_av(S0, v, r, Sigma, dt, m, p):\n",
    "    \"\"\"GBM simulation of multiple asset paths\n",
    "\n",
    "    Args:\n",
    "        S0 (vector of start prices): vector of starting prices\n",
    "        v (array): mu/dt\n",
    "        r (int): risk free interest rate\n",
    "        Sigma (matrix): covariance matrix\n",
    "        dt (float): delta between each time step\n",
    "        m (int): number of days simulated\n",
    "        p (int): number of assets\n",
    "    \"\"\"\n",
    "\n",
    "    S = np.zeros(shape=(m, p))\n",
    "    Stilde = np.zeros(shape=(m, p))\n",
    "    S[0] = S0\n",
    "    Stilde[0] = S0\n",
    "\n",
    "    z = np.random.multivariate_normal(mean=np.zeros(p), cov=np.identity(p), size=m)\n",
    "    for step in range(1, m):\n",
    "        S[step] = S[step-1] * np.exp(( r * dt * np.ones(p) ) # Rate discount\n",
    "             - ( 0.5 * dt * np.diagonal(Sigma) ) # Volatility\n",
    "             + ( np.matmul(np.linalg.cholesky(Sigma * dt), z[step-1]) )) # Weiner process\n",
    "\n",
    "        Stilde[step] = S[step-1] * np.exp(( r * dt * np.ones(p) ) # Rate discount\n",
    "             - ( 0.5 * dt * np.diagonal(Sigma) ) # Volatility\n",
    "             + ( np.matmul(np.linalg.cholesky(Sigma * dt), -z[step-1]) )) # Weiner process\n",
    "    return np.transpose(S), np.transpose(Stilde)"
   ]
  },
  {
   "cell_type": "markdown",
   "metadata": {},
   "source": [
    "## Helper Functions"
   ]
  },
  {
   "cell_type": "code",
   "execution_count": 7,
   "metadata": {},
   "outputs": [],
   "source": [
    "# function to get v and Sigma from within a 1 year window\n",
    "def get_simulation_params(asset_hist, t, dt):\n",
    "    prices = asset_hist[t: t+252, :]\n",
    "    log_returns = np.diff(np.log(prices), axis=0)\n",
    "    S0 = prices[-1, :]\n",
    "    v = np.mean(log_returns, axis=0)/dt\n",
    "    Sigma = np.cov(log_returns, rowvar=False)/dt\n",
    "    return S0, Sigma, v"
   ]
  },
  {
   "cell_type": "code",
   "execution_count": 9,
   "metadata": {},
   "outputs": [],
   "source": [
    "def n_path_sim(asset_hist, Nsim, t, r, dt, p, m, sim_func, var_reduction=None):\n",
    "\n",
    "    paths = None\n",
    "    remaining_steps = m-t\n",
    "\n",
    "\n",
    "    if var_reduction == None:\n",
    "        hist = np.repeat(asset_hist[252: 252+t].T[:, :, np.newaxis], Nsim, axis=2)\n",
    "        hist = np.moveaxis(hist, -1, 0)\n",
    "        paths = np.zeros(shape=(Nsim, p, remaining_steps))\n",
    "        for i in range(Nsim):\n",
    "            S0, Sigma, v = get_simulation_params(asset_hist, t, dt)\n",
    "            paths[i] = sim_func(S0, v, r, Sigma, dt, remaining_steps, p)\n",
    "\n",
    "    elif var_reduction == \"av\":\n",
    "        hist = np.repeat(asset_hist[252: 252+t].T[:, :, np.newaxis], Nsim*2, axis=2)\n",
    "        hist = np.moveaxis(hist, -1, 0)\n",
    "        paths = np.zeros(shape=(2 * Nsim, p, remaining_steps))\n",
    "        for i in range(Nsim):\n",
    "            S0, Sigma, v = get_simulation_params(asset_hist, t, dt)\n",
    "            paths[i], paths[Nsim + i] = sim_func(S0, v, r, Sigma, dt, remaining_steps, p)\n",
    "\n",
    "    # get historical prices up to current time step\n",
    "\n",
    "    paths = np.concatenate((hist, paths), axis=2)\n",
    "    return paths\n"
   ]
  },
  {
   "cell_type": "code",
   "execution_count": 10,
   "metadata": {},
   "outputs": [],
   "source": [
    "def n_path_sim_greeks(asset_hist, Nsim, t, r, dt, p, m, sim_func):\n",
    "\n",
    "    remaining_steps = m-t\n",
    "    paths = np.zeros(shape=(3, Nsim, p, remaining_steps))\n",
    "    for j, h in enumerate([1, 0.998, 1.002]):\n",
    "        for i in range(Nsim):\n",
    "            S0, Sigma, v = get_simulation_params(asset_hist, t, dt)\n",
    "            paths[j][i] = sim_func(S0 * h, v, r, Sigma, dt, remaining_steps, p)\n",
    "\n",
    "    return paths"
   ]
  },
  {
   "cell_type": "code",
   "execution_count": 11,
   "metadata": {},
   "outputs": [],
   "source": [
    "def calc_rates(t, m, rates):\n",
    "    if t + 251 < len(rates):\n",
    "        rates_today = rates[t + 251]\n",
    "    else:\n",
    "        rates_today = rates[-1]\n",
    "    time_frame = np.array([21, 42, 63, 126, 252, 504])\n",
    "    return np.interp(40, time_frame, rates_today)"
   ]
  },
  {
   "cell_type": "markdown",
   "metadata": {},
   "source": [
    "# Run Simulations"
   ]
  },
  {
   "cell_type": "code",
   "execution_count": 12,
   "metadata": {},
   "outputs": [
    {
     "data": {
      "text/plain": [
       "CVX    103.870003\n",
       "UNH    413.049988\n",
       "XOM     58.259998\n",
       "Name: 2021-05-25 00:00:00, dtype: float64"
      ]
     },
     "execution_count": 12,
     "metadata": {},
     "output_type": "execute_result"
    }
   ],
   "source": [
    "assets_df = pd.read_csv(\"assets.csv\", index_col='Date', parse_dates=True)\n",
    "assets_df.head()"
   ]
  },
  {
   "cell_type": "code",
   "execution_count": 13,
   "metadata": {},
   "outputs": [
    {
     "data": {
      "text/html": [
       "<div>\n",
       "<style scoped>\n",
       "    .dataframe tbody tr th:only-of-type {\n",
       "        vertical-align: middle;\n",
       "    }\n",
       "\n",
       "    .dataframe tbody tr th {\n",
       "        vertical-align: top;\n",
       "    }\n",
       "\n",
       "    .dataframe thead th {\n",
       "        text-align: right;\n",
       "    }\n",
       "</style>\n",
       "<table border=\"1\" class=\"dataframe\">\n",
       "  <thead>\n",
       "    <tr style=\"text-align: right;\">\n",
       "      <th></th>\n",
       "      <th>1 Mo</th>\n",
       "      <th>2 Mo</th>\n",
       "      <th>3 Mo</th>\n",
       "      <th>6 Mo</th>\n",
       "      <th>1 Yr</th>\n",
       "      <th>2 Yr</th>\n",
       "    </tr>\n",
       "    <tr>\n",
       "      <th>Date</th>\n",
       "      <th></th>\n",
       "      <th></th>\n",
       "      <th></th>\n",
       "      <th></th>\n",
       "      <th></th>\n",
       "      <th></th>\n",
       "    </tr>\n",
       "  </thead>\n",
       "  <tbody>\n",
       "    <tr>\n",
       "      <th>2020-05-26</th>\n",
       "      <td>0.10</td>\n",
       "      <td>0.12</td>\n",
       "      <td>0.14</td>\n",
       "      <td>0.17</td>\n",
       "      <td>0.17</td>\n",
       "      <td>0.18</td>\n",
       "    </tr>\n",
       "    <tr>\n",
       "      <th>2020-05-27</th>\n",
       "      <td>0.11</td>\n",
       "      <td>0.14</td>\n",
       "      <td>0.15</td>\n",
       "      <td>0.17</td>\n",
       "      <td>0.18</td>\n",
       "      <td>0.19</td>\n",
       "    </tr>\n",
       "    <tr>\n",
       "      <th>2020-05-28</th>\n",
       "      <td>0.14</td>\n",
       "      <td>0.15</td>\n",
       "      <td>0.15</td>\n",
       "      <td>0.18</td>\n",
       "      <td>0.17</td>\n",
       "      <td>0.17</td>\n",
       "    </tr>\n",
       "    <tr>\n",
       "      <th>2020-05-29</th>\n",
       "      <td>0.13</td>\n",
       "      <td>0.14</td>\n",
       "      <td>0.14</td>\n",
       "      <td>0.18</td>\n",
       "      <td>0.17</td>\n",
       "      <td>0.16</td>\n",
       "    </tr>\n",
       "    <tr>\n",
       "      <th>2020-06-01</th>\n",
       "      <td>0.12</td>\n",
       "      <td>0.14</td>\n",
       "      <td>0.14</td>\n",
       "      <td>0.18</td>\n",
       "      <td>0.17</td>\n",
       "      <td>0.14</td>\n",
       "    </tr>\n",
       "  </tbody>\n",
       "</table>\n",
       "</div>"
      ],
      "text/plain": [
       "            1 Mo  2 Mo  3 Mo  6 Mo  1 Yr  2 Yr\n",
       "Date                                          \n",
       "2020-05-26  0.10  0.12  0.14  0.17  0.17  0.18\n",
       "2020-05-27  0.11  0.14  0.15  0.17  0.18  0.19\n",
       "2020-05-28  0.14  0.15  0.15  0.18  0.17  0.17\n",
       "2020-05-29  0.13  0.14  0.14  0.18  0.17  0.16\n",
       "2020-06-01  0.12  0.14  0.14  0.18  0.17  0.14"
      ]
     },
     "execution_count": 13,
     "metadata": {},
     "output_type": "execute_result"
    }
   ],
   "source": [
    "rates_df = pd.read_csv(\"rates.csv\", index_col='Date', parse_dates=True)\n",
    "rates_df.head()"
   ]
  },
  {
   "cell_type": "code",
   "execution_count": 14,
   "metadata": {},
   "outputs": [
    {
     "data": {
      "text/html": [
       "<div>\n",
       "<style scoped>\n",
       "    .dataframe tbody tr th:only-of-type {\n",
       "        vertical-align: middle;\n",
       "    }\n",
       "\n",
       "    .dataframe tbody tr th {\n",
       "        vertical-align: top;\n",
       "    }\n",
       "\n",
       "    .dataframe thead th {\n",
       "        text-align: right;\n",
       "    }\n",
       "</style>\n",
       "<table border=\"1\" class=\"dataframe\">\n",
       "  <thead>\n",
       "    <tr style=\"text-align: right;\">\n",
       "      <th></th>\n",
       "      <th>Date</th>\n",
       "      <th>Price</th>\n",
       "    </tr>\n",
       "  </thead>\n",
       "  <tbody>\n",
       "    <tr>\n",
       "      <th>0</th>\n",
       "      <td>2021-06-02 00:00:00</td>\n",
       "      <td>1010.4</td>\n",
       "    </tr>\n",
       "    <tr>\n",
       "      <th>1</th>\n",
       "      <td>2021-06-03 00:00:00</td>\n",
       "      <td>1010.4</td>\n",
       "    </tr>\n",
       "    <tr>\n",
       "      <th>2</th>\n",
       "      <td>2021-06-04 00:00:00</td>\n",
       "      <td>1010.4</td>\n",
       "    </tr>\n",
       "    <tr>\n",
       "      <th>3</th>\n",
       "      <td>2021-06-07 00:00:00</td>\n",
       "      <td>1010.4</td>\n",
       "    </tr>\n",
       "    <tr>\n",
       "      <th>4</th>\n",
       "      <td>2021-06-08 00:00:00</td>\n",
       "      <td>1010.4</td>\n",
       "    </tr>\n",
       "  </tbody>\n",
       "</table>\n",
       "</div>"
      ],
      "text/plain": [
       "                  Date   Price\n",
       "0  2021-06-02 00:00:00  1010.4\n",
       "1  2021-06-03 00:00:00  1010.4\n",
       "2  2021-06-04 00:00:00  1010.4\n",
       "3  2021-06-07 00:00:00  1010.4\n",
       "4  2021-06-08 00:00:00  1010.4"
      ]
     },
     "execution_count": 14,
     "metadata": {},
     "output_type": "execute_result"
    }
   ],
   "source": [
    "actual_prices = pd.read_csv(\"actual.csv\")\n",
    "actual_prices.head()"
   ]
  },
  {
   "cell_type": "code",
   "execution_count": 15,
   "metadata": {},
   "outputs": [],
   "source": [
    "# Create a calendar\n",
    "nyse = mcal.get_calendar('NYSE')\n",
    "\n",
    "# set vars for product lifetime\n",
    "initial_fixing = pd.to_datetime(\"2021-06-02\")\n",
    "maturity = pd.to_datetime(\"2022-11-29\")\n",
    "lifetime = nyse.schedule(start_date=initial_fixing, end_date=maturity).index\n",
    "\n",
    "# if using cupy, move data to GPU\n",
    "asset_hist = np.asarray(assets_df.loc[\"2020-06-01\":].to_numpy())\n",
    "rates = np.asarray(rates_df.loc[\"2020-06-01\":].to_numpy()) / 100\n",
    "\n",
    "# gathered from product description\n",
    "K = np.array([103.87, 413.05, 58.26])\n",
    "Barrier = np.array([62.322, 247.830, 34.956])\n",
    "# ratio = np.array([9.6274, 2.4210, 17.1644])\n",
    "\n",
    "asset_hist = asset_hist / K\n",
    "Barrier = Barrier / K\n",
    "K = K / K\n",
    "\n",
    "m = len(lifetime)  # no of days product is active for \n",
    "T = m/252 # period in terms of no. of financial years\n",
    "dt = 1/252  # daily increment\n",
    "\n",
    "simulations = [(multi_asset_GBM, None), (multi_asset_GBM_av, \"av\")]"
   ]
  },
  {
   "cell_type": "code",
   "execution_count": 16,
   "metadata": {},
   "outputs": [
    {
     "data": {
      "text/plain": [
       "<AxesSubplot:xlabel='Date'>"
      ]
     },
     "execution_count": 16,
     "metadata": {},
     "output_type": "execute_result"
    },
    {
     "data": {
      "image/png": "[encoded data removed]",
      "text/plain": [
       "<Figure size 640x480 with 1 Axes>"
      ]
     },
     "metadata": {},
     "output_type": "display_data"
    }
   ],
   "source": [
    "assets_df.loc[lifetime[0]:].plot()"
   ]
  },
  {
   "cell_type": "code",
   "execution_count": 17,
   "metadata": {},
   "outputs": [],
   "source": [
    "S0, Sigma, v = get_simulation_params(asset_hist, 30, dt)\n",
    "test_paths = multi_asset_GBM(S0, v, 0.04, Sigma, dt, m-30, 3)"
   ]
  },
  {
   "cell_type": "code",
   "execution_count": 18,
   "metadata": {},
   "outputs": [
    {
     "data": {
      "text/html": [
       "<div>\n",
       "<style scoped>\n",
       "    .dataframe tbody tr th:only-of-type {\n",
       "        vertical-align: middle;\n",
       "    }\n",
       "\n",
       "    .dataframe tbody tr th {\n",
       "        vertical-align: top;\n",
       "    }\n",
       "\n",
       "    .dataframe thead th {\n",
       "        text-align: right;\n",
       "    }\n",
       "</style>\n",
       "<table border=\"1\" class=\"dataframe\">\n",
       "  <thead>\n",
       "    <tr style=\"text-align: right;\">\n",
       "      <th></th>\n",
       "      <th>Stock 1</th>\n",
       "      <th>stock 2</th>\n",
       "      <th>stock 3</th>\n",
       "    </tr>\n",
       "  </thead>\n",
       "  <tbody>\n",
       "    <tr>\n",
       "      <th>0</th>\n",
       "      <td>1.000578</td>\n",
       "      <td>1.013291</td>\n",
       "      <td>1.044971</td>\n",
       "    </tr>\n",
       "    <tr>\n",
       "      <th>1</th>\n",
       "      <td>0.997205</td>\n",
       "      <td>1.015558</td>\n",
       "      <td>1.026474</td>\n",
       "    </tr>\n",
       "    <tr>\n",
       "      <th>2</th>\n",
       "      <td>1.010434</td>\n",
       "      <td>1.010404</td>\n",
       "      <td>1.042062</td>\n",
       "    </tr>\n",
       "    <tr>\n",
       "      <th>3</th>\n",
       "      <td>1.017334</td>\n",
       "      <td>0.982267</td>\n",
       "      <td>1.052829</td>\n",
       "    </tr>\n",
       "    <tr>\n",
       "      <th>4</th>\n",
       "      <td>1.053159</td>\n",
       "      <td>1.022225</td>\n",
       "      <td>1.066575</td>\n",
       "    </tr>\n",
       "  </tbody>\n",
       "</table>\n",
       "</div>"
      ],
      "text/plain": [
       "    Stock 1   stock 2   stock 3\n",
       "0  1.000578  1.013291  1.044971\n",
       "1  0.997205  1.015558  1.026474\n",
       "2  1.010434  1.010404  1.042062\n",
       "3  1.017334  0.982267  1.052829\n",
       "4  1.053159  1.022225  1.066575"
      ]
     },
     "execution_count": 18,
     "metadata": {},
     "output_type": "execute_result"
    }
   ],
   "source": [
    "test_df = pd.DataFrame(data=test_paths.T, columns=[\"Stock 1\", \"stock 2\", \"stock 3\"])\n",
    "test_df.head()"
   ]
  },
  {
   "cell_type": "code",
   "execution_count": 19,
   "metadata": {},
   "outputs": [
    {
     "data": {
      "application/vnd.plotly.v1+json": {
       "config": {
        "plotlyServerURL": "https://plot.ly"
       },
       "data": [
        {
         "hovertemplate": "variable=Stock 1<br>index=%{x}<br>value=%{y}<extra></extra>",
         "legendgroup": "Stock 1",
         "line": {
          "color": "#636efa",
          "dash": "solid"
         },
         "marker": {
          "symbol": "circle"
         },
         "mode": "lines",
         "name": "Stock 1",
         "showlegend": true,
         "type": "scattergl",
         "x": [
          0,
          1,
          2,
          3,
          4,
          5,
          6,
          7,
          8,
          9,
          10,
          11,
          12,
          13,
          14,
          15,
          16,
          17,
          18,
          19,
          20,
          21,
          22,
          23,
          24,
          25,
          26,
          27,
          28,
          29,
          30,
          31,
          32,
          33,
          34,
          35,
          36,
          37,
          38,
          39,
          40,
          41,
          42,
          43,
          44,
          45,
          46,
          47,
          48,
          49,
          50,
          51,
          52,
          53,
          54,
          55,
          56,
          57,
          58,
          59,
          60,
          61,
          62,
          63,
          64,
          65,
          66,
          67,
          68,
          69,
          70,
          71,
          72,
          73,
          74,
          75,
          76,
          77,
          78,
          79,
          80,
          81,
          82,
          83,
          84,
          85,
          86,
          87,
          88,
          89,
          90,
          91,
          92,
          93,
          94,
          95,
          96,
          97,
          98,
          99,
          100,
          101,
          102,
          103,
          104,
          105,
          106,
          107,
          108,
          109,
          110,
          111,
          112,
          113,
          114,
          115,
          116,
          117,
          118,
          119,
          120,
          121,
          122,
          123,
          124,
          125,
          126,
          127,
          128,
          129,
          130,
          131,
          132,
          133,
          134,
          135,
          136,
          137,
          138,
          139,
          140,
          141,
          142,
          143,
          144,
          145,
          146,
          147,
          148,
          149,
          150,
          151,
          152,
          153,
          154,
          155,
          156,
          157,
          158,
          159,
          160,
          161,
          162,
          163,
          164,
          165,
          166,
          167,
          168,
          169,
          170,
          171,
          172,
          173,
          174,
          175,
          176,
          177,
          178,
          179,
          180,
          181,
          182,
          183,
          184,
          185,
          186,
          187,
          188,
          189,
          190,
          191,
          192,
          193,
          194,
          195,
          196,
          197,
          198,
          199,
          200,
          201,
          202,
          203,
          204,
          205,
          206,
          207,
          208,
          209,
          210,
          211,
          212,
          213,
          214,
          215,
          216,
          217,
          218,
          219,
          220,
          221,
          222,
          223,
          224,
          225,
          226,
          227,
          228,
          229,
          230,
          231,
          232,
          233,
          234,
          235,
          236,
          237,
          238,
          239,
          240,
          241,
          242,
          243,
          244,
          245,
          246,
          247,
          248,
          249,
          250,
          251,
          252,
          253,
          254,
          255,
          256,
          257,
          258,
          259,
          260,
          261,
          262,
          263,
          264,
          265,
          266,
          267,
          268,
          269,
          270,
          271,
          272,
          273,
          274,
          275,
          276,
          277,
          278,
          279,
          280,
          281,
          282,
          283,
          284,
          285,
          286,
          287,
          288,
          289,
          290,
          291,
          292,
          293,
          294,
          295,
          296,
          297,
          298,
          299,
          300,
          301,
          302,
          303,
          304,
          305,
          306,
          307,
          308,
          309,
          310,
          311,
          312,
          313,
          314,
          315,
          316,
          317,
          318,
          319,
          320,
          321,
          322,
          323,
          324,
          325,
          326,
          327,
          328,
          329,
          330,
          331,
          332,
          333,
          334,
          335,
          336,
          337,
          338,
          339,
          340,
          341,
          342,
          343,
          344,
          345,
          346,
          347
         ],
         "xaxis": "x",
         "y": [
          1.0005776451333397,
          0.9972052484209826,
          1.0104341980817393,
          1.0173343237672294,
          1.0531585663654095,
          1.0600645300867093,
          1.1236255788554088,
          1.1426438050547405,
          1.181651385199398,
          1.164342010746592,
          1.1557268720542953,
          1.1545456115114663,
          1.1489728814726472,
          1.1164973117729171,
          1.1009337438463993,
          1.142979648395908,
          1.1184210396328313,
          1.149708519980801,
          1.1322480409254687,
          1.1184011458783019,
          1.1182716529368768,
          1.110787888482511,
          1.1140835222371939,
          1.1113445290664539,
          1.1256413260891713,
          1.1749301664304344,
          1.2078047168323889,
          1.2195602672626116,
          1.2384995115387196,
          1.2562702364668383,
          1.2693724765449486,
          1.2850280106481595,
          1.2769375392538336,
          1.268105112869294,
          1.2552740954906103,
          1.2647103436816172,
          1.2633974704258017,
          1.2511648571009821,
          1.2139179959689812,
          1.2038906076466878,
          1.2624863149708914,
          1.210244814760431,
          1.1880772430220636,
          1.1619513161605088,
          1.1567248831020664,
          1.1431643099441053,
          1.1214577121061837,
          1.1024688901914137,
          1.103596028407969,
          1.1191565337112956,
          1.0828265910112704,
          1.0644442306944175,
          1.0817453660076848,
          1.1004541878907856,
          1.050534424706709,
          1.0445142125629516,
          1.0395491488623196,
          1.0603087418374062,
          1.064827150364765,
          1.046514902904889,
          1.0600904201108765,
          1.0495973162039984,
          1.0801698175278953,
          1.0851796995350762,
          1.0850714199272804,
          1.088751087617713,
          1.0892045180107466,
          1.0870335394382384,
          1.0744339698439902,
          1.0856001045682573,
          1.0703343907850396,
          1.074167441310581,
          1.0793589125823437,
          1.0735925589385131,
          1.0666399180478414,
          1.0304943333275858,
          1.0297545135891613,
          1.0320212577911907,
          1.0700749276445445,
          1.0755882890850983,
          1.0791560473607857,
          1.0656353870608082,
          1.0953324239565965,
          1.0507066901665623,
          1.0431830629807892,
          1.0054058863231743,
          0.9943355483851342,
          0.9741039989299919,
          0.9542234641719379,
          0.9716212944055802,
          1.0086413625336343,
          1.0147837954438736,
          1.0221385903893903,
          1.0093665211434717,
          0.9881877450110363,
          0.9918256984521223,
          1.006873640694442,
          1.018580954901359,
          1.0476001864472597,
          1.0256924204740026,
          1.0194677274032344,
          1.0446697320228364,
          1.0406633503836262,
          1.0419769591009334,
          1.0585700894916892,
          1.0661002670387267,
          1.0694056640544154,
          1.0828475426499211,
          1.1065409547384775,
          1.102298234731327,
          1.0708526394164397,
          1.0665698895915354,
          1.0921656087764755,
          1.1088126606712623,
          1.1028845302234378,
          1.0651176447789021,
          1.0965403534679585,
          1.0908923308840355,
          1.0901393286672993,
          1.0864891339660474,
          1.086920000615993,
          1.0988069792584783,
          1.1107212690975592,
          1.113171270822692,
          1.1151545857927812,
          1.1167787904076212,
          1.1450246206753376,
          1.1551639947865073,
          1.1361786480814902,
          1.1272490359999199,
          1.1127403850472284,
          1.1222800573171696,
          1.102576870832342,
          1.1225110690464621,
          1.1311565546961757,
          1.1347105485523727,
          1.1443346250252948,
          1.1404480321493775,
          1.1654586257225212,
          1.2015463077914499,
          1.2330095612281053,
          1.178748821011052,
          1.2163213225290535,
          1.2106271621977114,
          1.2129362500466645,
          1.21260172717217,
          1.2083042446895247,
          1.2115832645465114,
          1.2231256243556792,
          1.2400963280803114,
          1.2223108858107923,
          1.220679211635418,
          1.1793698153007355,
          1.1712652979278857,
          1.1910129836233339,
          1.1673659199841413,
          1.1510969523805588,
          1.142583647467913,
          1.1302243451006617,
          1.1265035224148172,
          1.1186813772411173,
          1.1325912108667484,
          1.1124581030782514,
          1.1197814907626449,
          1.1143976206462625,
          1.0850339048412732,
          1.1098840090610245,
          1.1012365238287956,
          1.0962006615233693,
          1.1055431869781578,
          1.1312390772692713,
          1.1095097402427938,
          1.1139160716177905,
          1.1311334306646583,
          1.1487193239776312,
          1.1636901989798574,
          1.1586399546976414,
          1.184990876534825,
          1.1729507370717491,
          1.1811120127834602,
          1.2238835551076703,
          1.1779309212812374,
          1.18503347298809,
          1.171248358739444,
          1.1822953106391771,
          1.2043441533891885,
          1.1912396397760403,
          1.2249746776709836,
          1.2511201657436841,
          1.2332226538666087,
          1.290575492237207,
          1.3456413361087198,
          1.3839969781244168,
          1.416832568462667,
          1.4305978291938797,
          1.4300082104497704,
          1.4789815131201536,
          1.4563905758528737,
          1.4748662108962467,
          1.433478235305934,
          1.4145938360506018,
          1.381077225874806,
          1.3682929930870869,
          1.3931182813530236,
          1.4061770194392267,
          1.3870675797409393,
          1.3962337695913443,
          1.375733502836075,
          1.3787779670067022,
          1.3851482552812424,
          1.3916619657267597,
          1.3466523139366295,
          1.3825706447072141,
          1.364153107786968,
          1.3632714279969567,
          1.3251964813855097,
          1.3628088500439042,
          1.3512684416899603,
          1.367534708283226,
          1.3204393289036422,
          1.3662850040905592,
          1.311988255472153,
          1.3588763995983877,
          1.3480335754927026,
          1.381656254199551,
          1.3948699879306512,
          1.4291405796671672,
          1.4376895885579548,
          1.3962008358928337,
          1.436412488855352,
          1.40328914615006,
          1.427822560115797,
          1.3801535710736088,
          1.4213562731487284,
          1.4142752335461632,
          1.3964408426878334,
          1.3998114123626468,
          1.431139170955518,
          1.3927345557985096,
          1.4333444210490376,
          1.4495404217722634,
          1.4667988401708127,
          1.5127456339504597,
          1.480149578569721,
          1.4520097625797261,
          1.5072479686983862,
          1.5087102376192316,
          1.4867758917494565,
          1.4671471333389234,
          1.4568399998104222,
          1.4640806437879936,
          1.4536765429130245,
          1.4823029882143486,
          1.4910117919869545,
          1.4793201868800663,
          1.5714327497195804,
          1.598584854966494,
          1.5991033379249047,
          1.583204323983934,
          1.6142972892681,
          1.5813723828599964,
          1.6492329950214457,
          1.6396870805334307,
          1.6369056300552294,
          1.5909385325814347,
          1.633942843534125,
          1.6668431409783684,
          1.666338163914628,
          1.676512036286717,
          1.6337593532672032,
          1.6262606551513015,
          1.6500945046374642,
          1.660740417330987,
          1.7316948279847233,
          1.7487051283888264,
          1.7226803221359897,
          1.6861591887053113,
          1.6552705558754848,
          1.6747920757201715,
          1.7146097721847062,
          1.734993352425008,
          1.7127213015373435,
          1.7783926580347653,
          1.7967063961088294,
          1.8594395148329326,
          1.8692686037117558,
          1.8317693568937672,
          1.8821275743889851,
          1.9147039468891873,
          1.9057186251090195,
          1.9097490316518144,
          1.917369644593875,
          1.9596539522012646,
          1.992109661287189,
          1.9706517568430078,
          1.9445498323081989,
          1.9277089449400582,
          2.0146406486573287,
          2.0158502960071774,
          2.0407642960004684,
          2.025165447231417,
          2.0526610902381353,
          2.0642489480194417,
          2.0450101549615645,
          1.974000705253207,
          1.9932751381638836,
          1.9732692708673678,
          2.0110023016932184,
          1.9385734601426847,
          1.9165531132334126,
          1.9354229601187236,
          1.944535561604152,
          1.9247341403606346,
          1.8596620438143172,
          1.8717236181998462,
          1.820765276649125,
          1.8539479248660935,
          1.8175534478506021,
          1.777251164696368,
          1.7364006407713832,
          1.7446977059337165,
          1.7236192734130245,
          1.7090466708633736,
          1.6985533828868364,
          1.6681501691429084,
          1.6277959850064367,
          1.6271867890450806,
          1.6176352218756813,
          1.6348686369525414,
          1.618814528911568,
          1.6548921074383185,
          1.624196478710737,
          1.6249851355195217,
          1.6309495409090113,
          1.6073097917613086,
          1.646351900568415,
          1.6182919178245616,
          1.5898297316141032,
          1.6502926354626952,
          1.685678316770878,
          1.6555618449496288,
          1.6889681182563578,
          1.6419657845950388,
          1.6119477167072147,
          1.6086550262166992,
          1.667081794578664,
          1.6126041799815771,
          1.6208559959670625
         ],
         "yaxis": "y"
        },
        {
         "hovertemplate": "variable=stock 2<br>index=%{x}<br>value=%{y}<extra></extra>",
         "legendgroup": "stock 2",
         "line": {
          "color": "#EF553B",
          "dash": "solid"
         },
         "marker": {
          "symbol": "circle"
         },
         "mode": "lines",
         "name": "stock 2",
         "showlegend": true,
         "type": "scattergl",
         "x": [
          0,
          1,
          2,
          3,
          4,
          5,
          6,
          7,
          8,
          9,
          10,
          11,
          12,
          13,
          14,
          15,
          16,
          17,
          18,
          19,
          20,
          21,
          22,
          23,
          24,
          25,
          26,
          27,
          28,
          29,
          30,
          31,
          32,
          33,
          34,
          35,
          36,
          37,
          38,
          39,
          40,
          41,
          42,
          43,
          44,
          45,
          46,
          47,
          48,
          49,
          50,
          51,
          52,
          53,
          54,
          55,
          56,
          57,
          58,
          59,
          60,
          61,
          62,
          63,
          64,
          65,
          66,
          67,
          68,
          69,
          70,
          71,
          72,
          73,
          74,
          75,
          76,
          77,
          78,
          79,
          80,
          81,
          82,
          83,
          84,
          85,
          86,
          87,
          88,
          89,
          90,
          91,
          92,
          93,
          94,
          95,
          96,
          97,
          98,
          99,
          100,
          101,
          102,
          103,
          104,
          105,
          106,
          107,
          108,
          109,
          110,
          111,
          112,
          113,
          114,
          115,
          116,
          117,
          118,
          119,
          120,
          121,
          122,
          123,
          124,
          125,
          126,
          127,
          128,
          129,
          130,
          131,
          132,
          133,
          134,
          135,
          136,
          137,
          138,
          139,
          140,
          141,
          142,
          143,
          144,
          145,
          146,
          147,
          148,
          149,
          150,
          151,
          152,
          153,
          154,
          155,
          156,
          157,
          158,
          159,
          160,
          161,
          162,
          163,
          164,
          165,
          166,
          167,
          168,
          169,
          170,
          171,
          172,
          173,
          174,
          175,
          176,
          177,
          178,
          179,
          180,
          181,
          182,
          183,
          184,
          185,
          186,
          187,
          188,
          189,
          190,
          191,
          192,
          193,
          194,
          195,
          196,
          197,
          198,
          199,
          200,
          201,
          202,
          203,
          204,
          205,
          206,
          207,
          208,
          209,
          210,
          211,
          212,
          213,
          214,
          215,
          216,
          217,
          218,
          219,
          220,
          221,
          222,
          223,
          224,
          225,
          226,
          227,
          228,
          229,
          230,
          231,
          232,
          233,
          234,
          235,
          236,
          237,
          238,
          239,
          240,
          241,
          242,
          243,
          244,
          245,
          246,
          247,
          248,
          249,
          250,
          251,
          252,
          253,
          254,
          255,
          256,
          257,
          258,
          259,
          260,
          261,
          262,
          263,
          264,
          265,
          266,
          267,
          268,
          269,
          270,
          271,
          272,
          273,
          274,
          275,
          276,
          277,
          278,
          279,
          280,
          281,
          282,
          283,
          284,
          285,
          286,
          287,
          288,
          289,
          290,
          291,
          292,
          293,
          294,
          295,
          296,
          297,
          298,
          299,
          300,
          301,
          302,
          303,
          304,
          305,
          306,
          307,
          308,
          309,
          310,
          311,
          312,
          313,
          314,
          315,
          316,
          317,
          318,
          319,
          320,
          321,
          322,
          323,
          324,
          325,
          326,
          327,
          328,
          329,
          330,
          331,
          332,
          333,
          334,
          335,
          336,
          337,
          338,
          339,
          340,
          341,
          342,
          343,
          344,
          345,
          346,
          347
         ],
         "xaxis": "x",
         "y": [
          1.0132913908727756,
          1.0155582562563268,
          1.0104037137294068,
          0.982266583527446,
          1.0222251185926399,
          1.0345811820429718,
          1.066838550184182,
          1.0531955085606701,
          1.0995385620517608,
          1.0844107537711696,
          1.0544711981940815,
          1.0413908135039738,
          1.0441756247519005,
          1.0576086485552538,
          1.0737082733934253,
          1.0703903701141875,
          1.077429496960619,
          1.0841543597300307,
          1.0992449093056758,
          1.1056462800767468,
          1.1010910602330812,
          1.103115880954357,
          1.119994105688319,
          1.1148376079892806,
          1.117883519972187,
          1.1334185009132862,
          1.1465245824514185,
          1.1585612566815386,
          1.1690238254235128,
          1.1692423176781381,
          1.1967430424574352,
          1.215094563282087,
          1.1971099587476297,
          1.187235243042437,
          1.1848977734954083,
          1.2135020518934936,
          1.1998199615302423,
          1.1709586178909042,
          1.1484180655400058,
          1.1358066476146167,
          1.1517792751239468,
          1.1406780003213042,
          1.166448953980696,
          1.1601714132870438,
          1.1713636994454455,
          1.1534987699460655,
          1.1701376931936602,
          1.190141136362944,
          1.2160794595093078,
          1.220745301550403,
          1.1883305186151756,
          1.1899249181687994,
          1.1761670370678772,
          1.175434068552351,
          1.1572389022681815,
          1.1493524303418927,
          1.1378029698095022,
          1.1321353369417009,
          1.1345537173488756,
          1.141752103123361,
          1.115540175411549,
          1.1357417099670242,
          1.1584652706445053,
          1.1643885797414129,
          1.162923619135163,
          1.1473580652072757,
          1.1593366102810716,
          1.1428198271732812,
          1.1444828774566314,
          1.1510455566063518,
          1.165980323008425,
          1.1533460671714657,
          1.1433054792132458,
          1.1481882143409632,
          1.1570269030405702,
          1.1359658058919215,
          1.141618069312742,
          1.1394705287685318,
          1.159825339884422,
          1.1397799238325357,
          1.1524184464124445,
          1.1653979102919987,
          1.1926479556641767,
          1.20652540275678,
          1.202280346134891,
          1.1850281149921411,
          1.1780241916981566,
          1.2020469948324914,
          1.1978676703020832,
          1.1917961845561549,
          1.2269412819071892,
          1.2253151661422408,
          1.2337947951013608,
          1.2055740983291,
          1.2336855438642227,
          1.2369181112275243,
          1.2425131074618798,
          1.266876025507579,
          1.2641569618012172,
          1.2589351062444873,
          1.2647408984382704,
          1.2851889853826495,
          1.246654757057244,
          1.223250805953358,
          1.2300494638208805,
          1.2308620089677385,
          1.2409953508695215,
          1.2437858029421816,
          1.2507774547357147,
          1.2490992576381728,
          1.247920576257532,
          1.2495141227560502,
          1.2366986271022073,
          1.249439115903057,
          1.2543980896270175,
          1.2342533776144298,
          1.214040726221388,
          1.2012788085367476,
          1.184484528721267,
          1.1928616083957735,
          1.2007353872968287,
          1.1715596392062748,
          1.1492887177198208,
          1.1376772160122828,
          1.1401259070354515,
          1.1469230609429195,
          1.1380790459975836,
          1.134301653566315,
          1.1028145983182343,
          1.1014257754815602,
          1.1011503948841042,
          1.0962513176322217,
          1.0740847247914576,
          1.0689699329186697,
          1.0666871598402279,
          1.0874861993973457,
          1.1033762860347687,
          1.111346780778669,
          1.0981607499804393,
          1.095230158728086,
          1.108368220793956,
          1.0810385229094748,
          1.0659727642291126,
          1.0642306279127798,
          1.0769639708309378,
          1.080115244623626,
          1.0827027228519224,
          1.0639749912008336,
          1.056084851304997,
          1.048266749468882,
          1.0390441744672623,
          1.0487120497181435,
          1.0012672221965662,
          0.9852092890402676,
          1.0113625471918712,
          1.0076863110076795,
          0.9981561506544107,
          1.0020784402550118,
          1.0105225192389442,
          1.0176464773212435,
          1.0139162139856506,
          1.0222062464067907,
          1.0053713400560103,
          1.0116431133998691,
          1.0387442758131253,
          1.0490212069201892,
          1.0471748107180698,
          1.0435693023848505,
          1.030764191054039,
          1.0381494553598687,
          1.033358122061574,
          1.023734689497557,
          1.013567789614601,
          1.0143460160111102,
          1.0405426061432532,
          1.0086705018752604,
          0.9968406122059369,
          0.9892375802412123,
          0.998946957248994,
          1.0049408589717759,
          1.0103402575865068,
          0.9948245453452467,
          1.0005609618475741,
          0.9867550110910753,
          0.9788873132489777,
          0.9950795182350248,
          0.9804430214068286,
          0.9749665862808838,
          0.9880655891888438,
          0.9743157950826389,
          0.9923636390757204,
          0.9834584181779974,
          0.9753070372196787,
          0.9760939424550342,
          0.974795840170165,
          0.960466090563476,
          0.9532395892573133,
          0.9510027899121106,
          0.9587344168470742,
          0.9682578424838921,
          0.9771180574070261,
          0.9725794424913823,
          0.9754196548983125,
          0.9681063804419917,
          0.9497127478165266,
          0.9643079783316582,
          0.9837776859464518,
          0.9960141346947587,
          0.9819048913671584,
          0.946625101839127,
          0.9363113620302377,
          0.9194852209255479,
          0.9242300910196585,
          0.920977598098321,
          0.9401649196107038,
          0.9341931536501207,
          0.9139881534300931,
          0.8940833047667799,
          0.8830297170984734,
          0.8683407688777135,
          0.8804914487256621,
          0.892481154444204,
          0.9224804174540318,
          0.9199091980444614,
          0.9349921141032481,
          0.9456375264539768,
          0.920151736811429,
          0.9171014841465316,
          0.9305602164280358,
          0.9280591995160948,
          0.9203265995205501,
          0.9174542033179712,
          0.9159305037177667,
          0.8889629010696318,
          0.8907599260926918,
          0.8827565853543555,
          0.8858195697258762,
          0.8947442416182598,
          0.869300055028198,
          0.850029865340082,
          0.8469791272919541,
          0.8452541767231427,
          0.846446456463923,
          0.8532647557638702,
          0.8420740837962598,
          0.849946095049707,
          0.8342504593580333,
          0.8209504292459598,
          0.8237764842727945,
          0.8234287805673581,
          0.8133738848878258,
          0.807281469021437,
          0.7882568235079014,
          0.7838035605949201,
          0.7681357219583792,
          0.7790627712309813,
          0.7852140091509967,
          0.7728261570540504,
          0.7606120274351315,
          0.7657447837917698,
          0.7586089918515148,
          0.7665014682709435,
          0.7740103241735391,
          0.7745569437441268,
          0.772896728657084,
          0.7860320200415934,
          0.7930561960506214,
          0.7854352978232766,
          0.7828148253982362,
          0.7967614191027809,
          0.778924379125743,
          0.7807777446887713,
          0.7828191380177311,
          0.8107275046680157,
          0.8086208830397501,
          0.8011348230926688,
          0.7717873806741701,
          0.7634721893926407,
          0.7668052914813188,
          0.7704222507173227,
          0.7636161090113464,
          0.7622756099653912,
          0.7490388548672606,
          0.7545534897078588,
          0.7606003493172583,
          0.7636789722005635,
          0.7632380777442338,
          0.7673011463170779,
          0.760592900231424,
          0.7651008680348702,
          0.7804198753020507,
          0.7927542230909701,
          0.8090061237514204,
          0.813415942170245,
          0.8215957019164644,
          0.8184336479294962,
          0.8251968850133183,
          0.8160886240938021,
          0.8226289696853489,
          0.8159717950652516,
          0.8192059881372032,
          0.8187702913929871,
          0.819390728475994,
          0.8280526848667341,
          0.8150993098657787,
          0.8161971015649762,
          0.8147790419537373,
          0.8129505030371353,
          0.8062549542274375,
          0.811372051194514,
          0.8246184153681084,
          0.8202410033225177,
          0.8126814452583926,
          0.8193998854673566,
          0.8331419164016259,
          0.849337431196838,
          0.8603839133054918,
          0.8606051508496071,
          0.859561852634009,
          0.8478719013390735,
          0.8565827245737497,
          0.852874934637239,
          0.8499654116732366,
          0.8276271105148287,
          0.8173210414186466,
          0.8105517897267379,
          0.7903605607062968,
          0.7861696840632761,
          0.7880553647667037,
          0.7852005231548074,
          0.7859374380899958,
          0.7643107109065997,
          0.7672571068674368,
          0.7727907066077628,
          0.7691429176824077,
          0.7661511717650625,
          0.7644235142599691,
          0.7646565468320815,
          0.773263164114101,
          0.7934761848919829,
          0.8022287362130753,
          0.8103461658873046,
          0.820237171868367,
          0.8246700513855139,
          0.8035894056709608,
          0.7996606051847123,
          0.7897077216565062,
          0.7738393145638112
         ],
         "yaxis": "y"
        },
        {
         "hovertemplate": "variable=stock 3<br>index=%{x}<br>value=%{y}<extra></extra>",
         "legendgroup": "stock 3",
         "line": {
          "color": "#00cc96",
          "dash": "solid"
         },
         "marker": {
          "symbol": "circle"
         },
         "mode": "lines",
         "name": "stock 3",
         "showlegend": true,
         "type": "scattergl",
         "x": [
          0,
          1,
          2,
          3,
          4,
          5,
          6,
          7,
          8,
          9,
          10,
          11,
          12,
          13,
          14,
          15,
          16,
          17,
          18,
          19,
          20,
          21,
          22,
          23,
          24,
          25,
          26,
          27,
          28,
          29,
          30,
          31,
          32,
          33,
          34,
          35,
          36,
          37,
          38,
          39,
          40,
          41,
          42,
          43,
          44,
          45,
          46,
          47,
          48,
          49,
          50,
          51,
          52,
          53,
          54,
          55,
          56,
          57,
          58,
          59,
          60,
          61,
          62,
          63,
          64,
          65,
          66,
          67,
          68,
          69,
          70,
          71,
          72,
          73,
          74,
          75,
          76,
          77,
          78,
          79,
          80,
          81,
          82,
          83,
          84,
          85,
          86,
          87,
          88,
          89,
          90,
          91,
          92,
          93,
          94,
          95,
          96,
          97,
          98,
          99,
          100,
          101,
          102,
          103,
          104,
          105,
          106,
          107,
          108,
          109,
          110,
          111,
          112,
          113,
          114,
          115,
          116,
          117,
          118,
          119,
          120,
          121,
          122,
          123,
          124,
          125,
          126,
          127,
          128,
          129,
          130,
          131,
          132,
          133,
          134,
          135,
          136,
          137,
          138,
          139,
          140,
          141,
          142,
          143,
          144,
          145,
          146,
          147,
          148,
          149,
          150,
          151,
          152,
          153,
          154,
          155,
          156,
          157,
          158,
          159,
          160,
          161,
          162,
          163,
          164,
          165,
          166,
          167,
          168,
          169,
          170,
          171,
          172,
          173,
          174,
          175,
          176,
          177,
          178,
          179,
          180,
          181,
          182,
          183,
          184,
          185,
          186,
          187,
          188,
          189,
          190,
          191,
          192,
          193,
          194,
          195,
          196,
          197,
          198,
          199,
          200,
          201,
          202,
          203,
          204,
          205,
          206,
          207,
          208,
          209,
          210,
          211,
          212,
          213,
          214,
          215,
          216,
          217,
          218,
          219,
          220,
          221,
          222,
          223,
          224,
          225,
          226,
          227,
          228,
          229,
          230,
          231,
          232,
          233,
          234,
          235,
          236,
          237,
          238,
          239,
          240,
          241,
          242,
          243,
          244,
          245,
          246,
          247,
          248,
          249,
          250,
          251,
          252,
          253,
          254,
          255,
          256,
          257,
          258,
          259,
          260,
          261,
          262,
          263,
          264,
          265,
          266,
          267,
          268,
          269,
          270,
          271,
          272,
          273,
          274,
          275,
          276,
          277,
          278,
          279,
          280,
          281,
          282,
          283,
          284,
          285,
          286,
          287,
          288,
          289,
          290,
          291,
          292,
          293,
          294,
          295,
          296,
          297,
          298,
          299,
          300,
          301,
          302,
          303,
          304,
          305,
          306,
          307,
          308,
          309,
          310,
          311,
          312,
          313,
          314,
          315,
          316,
          317,
          318,
          319,
          320,
          321,
          322,
          323,
          324,
          325,
          326,
          327,
          328,
          329,
          330,
          331,
          332,
          333,
          334,
          335,
          336,
          337,
          338,
          339,
          340,
          341,
          342,
          343,
          344,
          345,
          346,
          347
         ],
         "xaxis": "x",
         "y": [
          1.0449708376244422,
          1.0264742171070256,
          1.0420616199926314,
          1.0528291626640773,
          1.0665748503954056,
          1.0798757137645203,
          1.1387030423342681,
          1.1739229090060719,
          1.2170788599485427,
          1.232658191814865,
          1.2268594497488174,
          1.2118516272763142,
          1.185770346460763,
          1.1364045223794532,
          1.1057037236825162,
          1.1232521644725195,
          1.092747206640835,
          1.1144114314046643,
          1.0781423958313452,
          1.0464165624988289,
          1.0500714157357622,
          1.0368503660497803,
          1.0409622151213962,
          1.0370680119636844,
          1.0468925625885752,
          1.0960714259172257,
          1.1261811362619027,
          1.1239588201721626,
          1.1505704755975679,
          1.1469970595064147,
          1.1510681538966328,
          1.1580155794939584,
          1.150855196755683,
          1.1454077665577493,
          1.1326783809619723,
          1.1287875615380194,
          1.1212287184900926,
          1.1211297226806451,
          1.0803381003391348,
          1.0753361879870165,
          1.1303332614062933,
          1.0944591121046048,
          1.0705557500433884,
          1.0451781653728023,
          1.0215342234907947,
          1.0121111960894695,
          0.9900646557085584,
          0.9697652161494934,
          0.9551751438993131,
          0.9669350385612879,
          0.9285299846495184,
          0.9118219542202888,
          0.9316286293117402,
          0.9548944270852152,
          0.9269428142364619,
          0.9396566373878835,
          0.9521520928092202,
          0.9526909252358075,
          0.9603332183763105,
          0.9366037363387354,
          0.9556297829339878,
          0.9446795162175488,
          0.9558958874243514,
          0.9455346833495707,
          0.9373492262490442,
          0.9459269682683483,
          0.9463337817365687,
          0.9484889492369313,
          0.9480484218474593,
          0.9393844004691777,
          0.9367585736579958,
          0.9400993827333375,
          0.9424055487385096,
          0.951566302370095,
          0.941955255326578,
          0.903520733406751,
          0.9093139360431913,
          0.9125091165072332,
          0.9499232639574109,
          0.9456777305084179,
          0.94610219464916,
          0.9281946456607028,
          0.957476104034415,
          0.9269308169908027,
          0.9108510504443839,
          0.8640653221140938,
          0.8547977400870833,
          0.8510317356379626,
          0.8380155264009683,
          0.8675024140033762,
          0.9075112183711443,
          0.9077963122130648,
          0.9049133742697921,
          0.8743918023481443,
          0.8567255985937566,
          0.870691656895009,
          0.89363440021345,
          0.8949801267724813,
          0.9305895132198188,
          0.9206728042797542,
          0.9017800682294452,
          0.9199911885347171,
          0.9238036592875993,
          0.9180978918911008,
          0.9435931516278319,
          0.9700697111715595,
          0.9755314403882916,
          0.9952390974913782,
          1.0129958105977646,
          1.0143812433949857,
          0.9936396304862122,
          0.9888000361973924,
          1.0105239757032825,
          1.0171836666564715,
          1.0101992298763791,
          0.9790495915795734,
          1.0176878290812832,
          1.0172641145856263,
          1.0315326550995536,
          1.0249093195842929,
          1.0259684715140922,
          1.0497625070933558,
          1.0515906907848283,
          1.0407839007148392,
          1.0368646502393346,
          1.0258531857401476,
          1.0453954754680865,
          1.0310138284833288,
          1.0104154282697366,
          1.0001728010225202,
          0.9931995123485969,
          1.0031592289751363,
          0.9806777558483024,
          0.9815482046160292,
          0.9789116515907029,
          0.9795633225195847,
          0.9870336415255344,
          0.9835379204686913,
          1.0103791460943317,
          1.034876212197027,
          1.0678530893828524,
          1.0351267417837673,
          1.0678069348539192,
          1.0740992496166941,
          1.0544835162900918,
          1.067396492724436,
          1.0696501776629814,
          1.0701214296982733,
          1.0790001189104146,
          1.1151975371051626,
          1.1001957843277799,
          1.115043994229044,
          1.0677649940442449,
          1.058852180566584,
          1.079665818369206,
          1.052345375981858,
          1.0159269668809339,
          1.0117159950895722,
          0.9952740457425024,
          0.9818800221405695,
          0.9871459058871173,
          1.0129007891141815,
          0.9762652524428271,
          0.9709613281248631,
          0.9650885138652167,
          0.9273255223829575,
          0.9640393111493016,
          0.9609427857717286,
          0.9583204863471595,
          0.9533156099299754,
          0.9652978902181801,
          0.9364679957923294,
          0.9473406157339397,
          0.9645001563191314,
          0.978873955000941,
          0.9873486851208003,
          0.9991333090001359,
          1.0373175627193356,
          1.0444939769774044,
          1.0512808279045938,
          1.0867694920549642,
          1.0492226336331671,
          1.0700895265222121,
          1.0512243107207437,
          1.0584910861019556,
          1.0832314602324051,
          1.075067188929271,
          1.1039130922457436,
          1.1291841928338229,
          1.1171098251130442,
          1.1625138485334896,
          1.2074132162003959,
          1.248792345821145,
          1.2831394715506366,
          1.3032809684253541,
          1.3094701360074077,
          1.379892447242017,
          1.361700908923122,
          1.372811163147356,
          1.3235913159325823,
          1.2917067877780655,
          1.257774353803335,
          1.2310676568640277,
          1.2944976910528956,
          1.2822046072558861,
          1.2706613103341777,
          1.2934996690198426,
          1.2971992556316192,
          1.3065883988380875,
          1.343297133779573,
          1.3352567352913307,
          1.3123229410765103,
          1.33343594085113,
          1.314814619003612,
          1.3194028827012394,
          1.2816805023962647,
          1.3324641225431813,
          1.2968198761451486,
          1.321894771120855,
          1.2819622991038448,
          1.3345430201425683,
          1.2664688694793438,
          1.3139788285401057,
          1.2898489909945348,
          1.3154611288126017,
          1.3374609240704636,
          1.368778813964721,
          1.3904704118667923,
          1.3569851008813718,
          1.4177532449071288,
          1.3687974296818683,
          1.3838771591889276,
          1.3444355285213168,
          1.3804708691429135,
          1.366991579729858,
          1.3568205494534697,
          1.3455079535691905,
          1.3574053743079624,
          1.3258992836427228,
          1.365864229971833,
          1.3997022411944737,
          1.4161440709749507,
          1.4666854249678525,
          1.4398721901486817,
          1.4264292486300798,
          1.4944848930685,
          1.5132246002682217,
          1.4958591604184936,
          1.4960175857585138,
          1.465050093607578,
          1.4432052417584713,
          1.447604196139991,
          1.4802389817113095,
          1.4839920057594516,
          1.4734352845968963,
          1.5838037784676455,
          1.5933930006679493,
          1.5948496681740578,
          1.5654367620017797,
          1.589658366402482,
          1.5577983442726628,
          1.614990306549385,
          1.6168905933877111,
          1.6383244350805206,
          1.578907765998128,
          1.6030756951176568,
          1.6324496660603194,
          1.645003069054658,
          1.6527632931363767,
          1.6149190904962454,
          1.6335180854156472,
          1.6448417629842098,
          1.6811070299138946,
          1.7156369253078536,
          1.7259904228850889,
          1.7112630133103537,
          1.6735861866832993,
          1.6696067011601674,
          1.7011923527950776,
          1.7474558340272568,
          1.781040197611589,
          1.7589309625558556,
          1.837985061382177,
          1.8817805290230083,
          1.9551214957920215,
          2.006238810373892,
          1.9798816230892602,
          1.9947245554450013,
          1.9852152264036866,
          1.9956212708606935,
          1.9418716352355894,
          1.9122688574909412,
          1.9466962046931757,
          1.9961452042700842,
          1.9546239885428678,
          1.95337884048489,
          1.969090644224696,
          2.0728884338917317,
          2.046414700568675,
          2.0403002403971437,
          2.0131316697339576,
          2.052173166601362,
          2.0901871647326846,
          2.066925278758011,
          1.9998501689749622,
          1.9849302730136085,
          1.9456322277107703,
          1.9947472757418572,
          1.9520691511302004,
          1.9120265379647063,
          1.9338643125998272,
          1.9277190610487447,
          1.884177388990776,
          1.8351432381061281,
          1.8312911976641164,
          1.7705678847407373,
          1.7762829083915241,
          1.7369739129376225,
          1.7016617895471067,
          1.6766827079265407,
          1.660390707508907,
          1.643066591807827,
          1.6268811126246974,
          1.64616238725669,
          1.6176181780698105,
          1.6058641826076248,
          1.5977974732587226,
          1.5825453704818986,
          1.612129738356576,
          1.585081446166804,
          1.6511046739487345,
          1.629394162057293,
          1.6367482479521418,
          1.658364705675264,
          1.6281736018974422,
          1.658274686275836,
          1.6388980755475149,
          1.6380271513112246,
          1.7139955175672141,
          1.7221557943283572,
          1.7057874160086794,
          1.7066464959966883,
          1.6562402486352574,
          1.6233728976343078,
          1.6516652292628475,
          1.6806313001640354,
          1.62897430061097,
          1.6248349274301357
         ],
         "yaxis": "y"
        }
       ],
       "layout": {
        "legend": {
         "title": {
          "text": "variable"
         },
         "tracegroupgap": 0
        },
        "margin": {
         "t": 60
        },
        "template": {
         "data": {
          "bar": [
           {
            "error_x": {
             "color": "#2a3f5f"
            },
            "error_y": {
             "color": "#2a3f5f"
            },
            "marker": {
             "line": {
              "color": "#E5ECF6",
              "width": 0.5
             },
             "pattern": {
              "fillmode": "overlay",
              "size": 10,
              "solidity": 0.2
             }
            },
            "type": "bar"
           }
          ],
          "barpolar": [
           {
            "marker": {
             "line": {
              "color": "#E5ECF6",
              "width": 0.5
             },
             "pattern": {
              "fillmode": "overlay",
              "size": 10,
              "solidity": 0.2
             }
            },
            "type": "barpolar"
           }
          ],
          "carpet": [
           {
            "aaxis": {
             "endlinecolor": "#2a3f5f",
             "gridcolor": "white",
             "linecolor": "white",
             "minorgridcolor": "white",
             "startlinecolor": "#2a3f5f"
            },
            "baxis": {
             "endlinecolor": "#2a3f5f",
             "gridcolor": "white",
             "linecolor": "white",
             "minorgridcolor": "white",
             "startlinecolor": "#2a3f5f"
            },
            "type": "carpet"
           }
          ],
          "choropleth": [
           {
            "colorbar": {
             "outlinewidth": 0,
             "ticks": ""
            },
            "type": "choropleth"
           }
          ],
          "contour": [
           {
            "colorbar": {
             "outlinewidth": 0,
             "ticks": ""
            },
            "colorscale": [
             [
              0,
              "#0d0887"
             ],
             [
              0.1111111111111111,
              "#46039f"
             ],
             [
              0.2222222222222222,
              "#7201a8"
             ],
             [
              0.3333333333333333,
              "#9c179e"
             ],
             [
              0.4444444444444444,
              "#bd3786"
             ],
             [
              0.5555555555555556,
              "#d8576b"
             ],
             [
              0.6666666666666666,
              "#ed7953"
             ],
             [
              0.7777777777777778,
              "#fb9f3a"
             ],
             [
              0.8888888888888888,
              "#fdca26"
             ],
             [
              1,
              "#f0f921"
             ]
            ],
            "type": "contour"
           }
          ],
          "contourcarpet": [
           {
            "colorbar": {
             "outlinewidth": 0,
             "ticks": ""
            },
            "type": "contourcarpet"
           }
          ],
          "heatmap": [
           {
            "colorbar": {
             "outlinewidth": 0,
             "ticks": ""
            },
            "colorscale": [
             [
              0,
              "#0d0887"
             ],
             [
              0.1111111111111111,
              "#46039f"
             ],
             [
              0.2222222222222222,
              "#7201a8"
             ],
             [
              0.3333333333333333,
              "#9c179e"
             ],
             [
              0.4444444444444444,
              "#bd3786"
             ],
             [
              0.5555555555555556,
              "#d8576b"
             ],
             [
              0.6666666666666666,
              "#ed7953"
             ],
             [
              0.7777777777777778,
              "#fb9f3a"
             ],
             [
              0.8888888888888888,
              "#fdca26"
             ],
             [
              1,
              "#f0f921"
             ]
            ],
            "type": "heatmap"
           }
          ],
          "heatmapgl": [
           {
            "colorbar": {
             "outlinewidth": 0,
             "ticks": ""
            },
            "colorscale": [
             [
              0,
              "#0d0887"
             ],
             [
              0.1111111111111111,
              "#46039f"
             ],
             [
              0.2222222222222222,
              "#7201a8"
             ],
             [
              0.3333333333333333,
              "#9c179e"
             ],
             [
              0.4444444444444444,
              "#bd3786"
             ],
             [
              0.5555555555555556,
              "#d8576b"
             ],
             [
              0.6666666666666666,
              "#ed7953"
             ],
             [
              0.7777777777777778,
              "#fb9f3a"
             ],
             [
              0.8888888888888888,
              "#fdca26"
             ],
             [
              1,
              "#f0f921"
             ]
            ],
            "type": "heatmapgl"
           }
          ],
          "histogram": [
           {
            "marker": {
             "pattern": {
              "fillmode": "overlay",
              "size": 10,
              "solidity": 0.2
             }
            },
            "type": "histogram"
           }
          ],
          "histogram2d": [
           {
            "colorbar": {
             "outlinewidth": 0,
             "ticks": ""
            },
            "colorscale": [
             [
              0,
              "#0d0887"
             ],
             [
              0.1111111111111111,
              "#46039f"
             ],
             [
              0.2222222222222222,
              "#7201a8"
             ],
             [
              0.3333333333333333,
              "#9c179e"
             ],
             [
              0.4444444444444444,
              "#bd3786"
             ],
             [
              0.5555555555555556,
              "#d8576b"
             ],
             [
              0.6666666666666666,
              "#ed7953"
             ],
             [
              0.7777777777777778,
              "#fb9f3a"
             ],
             [
              0.8888888888888888,
              "#fdca26"
             ],
             [
              1,
              "#f0f921"
             ]
            ],
            "type": "histogram2d"
           }
          ],
          "histogram2dcontour": [
           {
            "colorbar": {
             "outlinewidth": 0,
             "ticks": ""
            },
            "colorscale": [
             [
              0,
              "#0d0887"
             ],
             [
              0.1111111111111111,
              "#46039f"
             ],
             [
              0.2222222222222222,
              "#7201a8"
             ],
             [
              0.3333333333333333,
              "#9c179e"
             ],
             [
              0.4444444444444444,
              "#bd3786"
             ],
             [
              0.5555555555555556,
              "#d8576b"
             ],
             [
              0.6666666666666666,
              "#ed7953"
             ],
             [
              0.7777777777777778,
              "#fb9f3a"
             ],
             [
              0.8888888888888888,
              "#fdca26"
             ],
             [
              1,
              "#f0f921"
             ]
            ],
            "type": "histogram2dcontour"
           }
          ],
          "mesh3d": [
           {
            "colorbar": {
             "outlinewidth": 0,
             "ticks": ""
            },
            "type": "mesh3d"
           }
          ],
          "parcoords": [
           {
            "line": {
             "colorbar": {
              "outlinewidth": 0,
              "ticks": ""
             }
            },
            "type": "parcoords"
           }
          ],
          "pie": [
           {
            "automargin": true,
            "type": "pie"
           }
          ],
          "scatter": [
           {
            "marker": {
             "colorbar": {
              "outlinewidth": 0,
              "ticks": ""
             }
            },
            "type": "scatter"
           }
          ],
          "scatter3d": [
           {
            "line": {
             "colorbar": {
              "outlinewidth": 0,
              "ticks": ""
             }
            },
            "marker": {
             "colorbar": {
              "outlinewidth": 0,
              "ticks": ""
             }
            },
            "type": "scatter3d"
           }
          ],
          "scattercarpet": [
           {
            "marker": {
             "colorbar": {
              "outlinewidth": 0,
              "ticks": ""
             }
            },
            "type": "scattercarpet"
           }
          ],
          "scattergeo": [
           {
            "marker": {
             "colorbar": {
              "outlinewidth": 0,
              "ticks": ""
             }
            },
            "type": "scattergeo"
           }
          ],
          "scattergl": [
           {
            "marker": {
             "colorbar": {
              "outlinewidth": 0,
              "ticks": ""
             }
            },
            "type": "scattergl"
           }
          ],
          "scattermapbox": [
           {
            "marker": {
             "colorbar": {
              "outlinewidth": 0,
              "ticks": ""
             }
            },
            "type": "scattermapbox"
           }
          ],
          "scatterpolar": [
           {
            "marker": {
             "colorbar": {
              "outlinewidth": 0,
              "ticks": ""
             }
            },
            "type": "scatterpolar"
           }
          ],
          "scatterpolargl": [
           {
            "marker": {
             "colorbar": {
              "outlinewidth": 0,
              "ticks": ""
             }
            },
            "type": "scatterpolargl"
           }
          ],
          "scatterternary": [
           {
            "marker": {
             "colorbar": {
              "outlinewidth": 0,
              "ticks": ""
             }
            },
            "type": "scatterternary"
           }
          ],
          "surface": [
           {
            "colorbar": {
             "outlinewidth": 0,
             "ticks": ""
            },
            "colorscale": [
             [
              0,
              "#0d0887"
             ],
             [
              0.1111111111111111,
              "#46039f"
             ],
             [
              0.2222222222222222,
              "#7201a8"
             ],
             [
              0.3333333333333333,
              "#9c179e"
             ],
             [
              0.4444444444444444,
              "#bd3786"
             ],
             [
              0.5555555555555556,
              "#d8576b"
             ],
             [
              0.6666666666666666,
              "#ed7953"
             ],
             [
              0.7777777777777778,
              "#fb9f3a"
             ],
             [
              0.8888888888888888,
              "#fdca26"
             ],
             [
              1,
              "#f0f921"
             ]
            ],
            "type": "surface"
           }
          ],
          "table": [
           {
            "cells": {
             "fill": {
              "color": "#EBF0F8"
             },
             "line": {
              "color": "white"
             }
            },
            "header": {
             "fill": {
              "color": "#C8D4E3"
             },
             "line": {
              "color": "white"
             }
            },
            "type": "table"
           }
          ]
         },
         "layout": {
          "annotationdefaults": {
           "arrowcolor": "#2a3f5f",
           "arrowhead": 0,
           "arrowwidth": 1
          },
          "autotypenumbers": "strict",
          "coloraxis": {
           "colorbar": {
            "outlinewidth": 0,
            "ticks": ""
           }
          },
          "colorscale": {
           "diverging": [
            [
             0,
             "#8e0152"
            ],
            [
             0.1,
             "#c51b7d"
            ],
            [
             0.2,
             "#de77ae"
            ],
            [
             0.3,
             "#f1b6da"
            ],
            [
             0.4,
             "#fde0ef"
            ],
            [
             0.5,
             "#f7f7f7"
            ],
            [
             0.6,
             "#e6f5d0"
            ],
            [
             0.7,
             "#b8e186"
            ],
            [
             0.8,
             "#7fbc41"
            ],
            [
             0.9,
             "#4d9221"
            ],
            [
             1,
             "#276419"
            ]
           ],
           "sequential": [
            [
             0,
             "#0d0887"
            ],
            [
             0.1111111111111111,
             "#46039f"
            ],
            [
             0.2222222222222222,
             "#7201a8"
            ],
            [
             0.3333333333333333,
             "#9c179e"
            ],
            [
             0.4444444444444444,
             "#bd3786"
            ],
            [
             0.5555555555555556,
             "#d8576b"
            ],
            [
             0.6666666666666666,
             "#ed7953"
            ],
            [
             0.7777777777777778,
             "#fb9f3a"
            ],
            [
             0.8888888888888888,
             "#fdca26"
            ],
            [
             1,
             "#f0f921"
            ]
           ],
           "sequentialminus": [
            [
             0,
             "#0d0887"
            ],
            [
             0.1111111111111111,
             "#46039f"
            ],
            [
             0.2222222222222222,
             "#7201a8"
            ],
            [
             0.3333333333333333,
             "#9c179e"
            ],
            [
             0.4444444444444444,
             "#bd3786"
            ],
            [
             0.5555555555555556,
             "#d8576b"
            ],
            [
             0.6666666666666666,
             "#ed7953"
            ],
            [
             0.7777777777777778,
             "#fb9f3a"
            ],
            [
             0.8888888888888888,
             "#fdca26"
            ],
            [
             1,
             "#f0f921"
            ]
           ]
          },
          "colorway": [
           "#636efa",
           "#EF553B",
           "#00cc96",
           "#ab63fa",
           "#FFA15A",
           "#19d3f3",
           "#FF6692",
           "#B6E880",
           "#FF97FF",
           "#FECB52"
          ],
          "font": {
           "color": "#2a3f5f"
          },
          "geo": {
           "bgcolor": "white",
           "lakecolor": "white",
           "landcolor": "#E5ECF6",
           "showlakes": true,
           "showland": true,
           "subunitcolor": "white"
          },
          "hoverlabel": {
           "align": "left"
          },
          "hovermode": "closest",
          "mapbox": {
           "style": "light"
          },
          "paper_bgcolor": "white",
          "plot_bgcolor": "#E5ECF6",
          "polar": {
           "angularaxis": {
            "gridcolor": "white",
            "linecolor": "white",
            "ticks": ""
           },
           "bgcolor": "#E5ECF6",
           "radialaxis": {
            "gridcolor": "white",
            "linecolor": "white",
            "ticks": ""
           }
          },
          "scene": {
           "xaxis": {
            "backgroundcolor": "#E5ECF6",
            "gridcolor": "white",
            "gridwidth": 2,
            "linecolor": "white",
            "showbackground": true,
            "ticks": "",
            "zerolinecolor": "white"
           },
           "yaxis": {
            "backgroundcolor": "#E5ECF6",
            "gridcolor": "white",
            "gridwidth": 2,
            "linecolor": "white",
            "showbackground": true,
            "ticks": "",
            "zerolinecolor": "white"
           },
           "zaxis": {
            "backgroundcolor": "#E5ECF6",
            "gridcolor": "white",
            "gridwidth": 2,
            "linecolor": "white",
            "showbackground": true,
            "ticks": "",
            "zerolinecolor": "white"
           }
          },
          "shapedefaults": {
           "line": {
            "color": "#2a3f5f"
           }
          },
          "ternary": {
           "aaxis": {
            "gridcolor": "white",
            "linecolor": "white",
            "ticks": ""
           },
           "baxis": {
            "gridcolor": "white",
            "linecolor": "white",
            "ticks": ""
           },
           "bgcolor": "#E5ECF6",
           "caxis": {
            "gridcolor": "white",
            "linecolor": "white",
            "ticks": ""
           }
          },
          "title": {
           "x": 0.05
          },
          "xaxis": {
           "automargin": true,
           "gridcolor": "white",
           "linecolor": "white",
           "ticks": "",
           "title": {
            "standoff": 15
           },
           "zerolinecolor": "white",
           "zerolinewidth": 2
          },
          "yaxis": {
           "automargin": true,
           "gridcolor": "white",
           "linecolor": "white",
           "ticks": "",
           "title": {
            "standoff": 15
           },
           "zerolinecolor": "white",
           "zerolinewidth": 2
          }
         }
        },
        "xaxis": {
         "anchor": "y",
         "domain": [
          0,
          1
         ],
         "title": {
          "text": "index"
         }
        },
        "yaxis": {
         "anchor": "x",
         "domain": [
          0,
          1
         ],
         "title": {
          "text": "value"
         }
        }
       }
      }
     },
     "metadata": {},
     "output_type": "display_data"
    }
   ],
   "source": [
    "px.line(test_df)"
   ]
  },
  {
   "cell_type": "code",
   "execution_count": 20,
   "metadata": {},
   "outputs": [
    {
     "data": {
      "application/vnd.jupyter.widget-view+json": {
       "model_id": "b963a535a92b4bb69e24a808c8f9dca7",
       "version_major": 2,
       "version_minor": 0
      },
      "text/plain": [
       "  0%|          | 0/2 [00:00<?, ?it/s]"
      ]
     },
     "metadata": {},
     "output_type": "display_data"
    },
    {
     "data": {
      "application/vnd.jupyter.widget-view+json": {
       "model_id": "65b45ded95984b208fb402eb877a5801",
       "version_major": 2,
       "version_minor": 0
      },
      "text/plain": [
       "  0%|          | 0/378 [00:00<?, ?it/s]"
      ]
     },
     "metadata": {},
     "output_type": "display_data"
    },
    {
     "data": {
      "application/vnd.jupyter.widget-view+json": {
       "model_id": "f09bcb5d46384473a2c668671fbc6ba4",
       "version_major": 2,
       "version_minor": 0
      },
      "text/plain": [
       "  0%|          | 0/378 [00:00<?, ?it/s]"
      ]
     },
     "metadata": {},
     "output_type": "display_data"
    }
   ],
   "source": [
    "# ROLLING WINDOW OVER ENTIRE LIFETIME\n",
    "# uses newest asset prices on current day to get expected payoff for that day\n",
    "# make sure to run previous cell before running this one\n",
    "expected_payoffs = np.zeros(shape=(len(simulations), m))\n",
    "\n",
    "def simulate(t, sim_func, var_reduction):\n",
    "    r = calc_rates(t, m, rates)\n",
    "\n",
    "    paths = n_path_sim(asset_hist=asset_hist,\n",
    "                    Nsim=50,\n",
    "                    t=t,\n",
    "                    r=r,\n",
    "                    dt=dt,\n",
    "                    p=3,\n",
    "                    m=m,\n",
    "                    sim_func=sim_func,\n",
    "                    var_reduction=var_reduction\n",
    "                    )\n",
    "                    \n",
    "    return expected_payoff(payoff(paths, K, Barrier, m-t), r=r, T=T, t=t*dt)\n",
    "\n",
    "\n",
    "for i, (sim_func, var_reduction) in enumerate( tqdm( simulations ) ):\n",
    "    for t in tqdm(range(m), leave=False):\n",
    "        expected_payoffs[i][t] = simulate(t, sim_func, var_reduction)"
   ]
  },
  {
   "cell_type": "code",
   "execution_count": 21,
   "metadata": {},
   "outputs": [],
   "source": [
    "simulated_prices = pd.DataFrame(data=expected_payoffs.T, columns=[\"Monte Carlo\", \"Antithetic Variates\"])"
   ]
  },
  {
   "cell_type": "code",
   "execution_count": 22,
   "metadata": {},
   "outputs": [],
   "source": [
    "merged = pd.concat([actual_prices, simulated_prices], axis=1)"
   ]
  },
  {
   "cell_type": "code",
   "execution_count": 23,
   "metadata": {},
   "outputs": [
    {
     "data": {
      "application/vnd.plotly.v1+json": {
       "config": {
        "plotlyServerURL": "https://plot.ly"
       },
       "data": [
        {
         "hovertemplate": "variable=Price<br>index=%{x}<br>value=%{y}<extra></extra>",
         "legendgroup": "Price",
         "line": {
          "color": "#636efa",
          "dash": "solid"
         },
         "marker": {
          "symbol": "circle"
         },
         "mode": "lines",
         "name": "Price",
         "showlegend": true,
         "type": "scattergl",
         "x": [
          0,
          1,
          2,
          3,
          4,
          5,
          6,
          7,
          8,
          9,
          10,
          11,
          12,
          13,
          14,
          15,
          16,
          17,
          18,
          19,
          20,
          21,
          22,
          23,
          24,
          25,
          26,
          27,
          28,
          29,
          30,
          31,
          32,
          33,
          34,
          35,
          36,
          37,
          38,
          39,
          40,
          41,
          42,
          43,
          44,
          45,
          46,
          47,
          48,
          49,
          50,
          51,
          52,
          53,
          54,
          55,
          56,
          57,
          58,
          59,
          60,
          61,
          62,
          63,
          64,
          65,
          66,
          67,
          68,
          69,
          70,
          71,
          72,
          73,
          74,
          75,
          76,
          77,
          78,
          79,
          80,
          81,
          82,
          83,
          84,
          85,
          86,
          87,
          88,
          89,
          90,
          91,
          92,
          93,
          94,
          95,
          96,
          97,
          98,
          99,
          100,
          101,
          102,
          103,
          104,
          105,
          106,
          107,
          108,
          109,
          110,
          111,
          112,
          113,
          114,
          115,
          116,
          117,
          118,
          119,
          120,
          121,
          122,
          123,
          124,
          125,
          126,
          127,
          128,
          129,
          130,
          131,
          132,
          133,
          134,
          135,
          136,
          137,
          138,
          139,
          140,
          141,
          142,
          143,
          144,
          145,
          146,
          147,
          148,
          149,
          150,
          151,
          152,
          153,
          154,
          155,
          156,
          157,
          158,
          159,
          160,
          161,
          162,
          163,
          164,
          165,
          166,
          167,
          168,
          169,
          170,
          171,
          172,
          173,
          174,
          175,
          176,
          177,
          178,
          179,
          180,
          181,
          182,
          183,
          184,
          185,
          186,
          187,
          188,
          189,
          190,
          191,
          192,
          193,
          194,
          195,
          196,
          197,
          198,
          199,
          200,
          201,
          202,
          203,
          204,
          205,
          206,
          207,
          208,
          209,
          210,
          211,
          212,
          213,
          214,
          215,
          216,
          217,
          218,
          219,
          220,
          221,
          222,
          223,
          224,
          225,
          226,
          227,
          228,
          229,
          230,
          231,
          232,
          233,
          234,
          235,
          236,
          237,
          238,
          239,
          240,
          241,
          242,
          243,
          244,
          245,
          246,
          247,
          248,
          249,
          250,
          251,
          252,
          253,
          254,
          255,
          256,
          257,
          258,
          259,
          260,
          261,
          262,
          263,
          264,
          265,
          266,
          267,
          268,
          269,
          270,
          271,
          272,
          273,
          274,
          275,
          276,
          277,
          278,
          279,
          280,
          281,
          282,
          283,
          284,
          285,
          286,
          287,
          288,
          289,
          290,
          291,
          292,
          293,
          294,
          295,
          296,
          297,
          298,
          299,
          300,
          301,
          302,
          303,
          304,
          305,
          306,
          307,
          308,
          309,
          310,
          311,
          312,
          313,
          314,
          315,
          316,
          317,
          318,
          319,
          320,
          321,
          322,
          323,
          324,
          325,
          326,
          327,
          328,
          329,
          330,
          331,
          332,
          333,
          334,
          335,
          336,
          337,
          338,
          339,
          340,
          341,
          342,
          343,
          344,
          345,
          346,
          347,
          348,
          349,
          350,
          351,
          352,
          353,
          354,
          355,
          356,
          357,
          358,
          359,
          360,
          361,
          362,
          363,
          364,
          365,
          366,
          367,
          368,
          369,
          370,
          371,
          372,
          373,
          374,
          375,
          376,
          377
         ],
         "xaxis": "x",
         "y": [
          1010.4,
          1010.4,
          1010.4,
          1010.4,
          1010.4,
          1010.4,
          1010.4,
          1010.4,
          1010.4,
          1010.4,
          1010.4,
          1010.4,
          998.1,
          998.1,
          998.1,
          998.1,
          998.1,
          999.3,
          999.3,
          999.3,
          996.2,
          996.2,
          996.2,
          996.2,
          987.7,
          979.2,
          977.1,
          977.1,
          977.1,
          977.1,
          975.4,
          969.8,
          958.2,
          926.9,
          926.9,
          938,
          938,
          938,
          940.4,
          940.4,
          940.4,
          942.7,
          942.7,
          942.7,
          942.7,
          942.7,
          942.7,
          942.7,
          941.7,
          941.7,
          941.7,
          941.7,
          941.7,
          939,
          939,
          939,
          918,
          915.7,
          921.9,
          928.4,
          928.4,
          928.4,
          932.6,
          932.6,
          932.6,
          929.1,
          933,
          933,
          933,
          933,
          933,
          933,
          926.5,
          926.8,
          926.8,
          926.8,
          926.8,
          926.8,
          914.8,
          902.4,
          912.4,
          923.7,
          927.3,
          937.6,
          937.6,
          936.4,
          933.8,
          925.4,
          925.4,
          931.7,
          931.7,
          933.6,
          942.4,
          947,
          947,
          947,
          959.3,
          965.3,
          965.3,
          967.9,
          971.4,
          971.4,
          972.9,
          977.5,
          982,
          982,
          982,
          982,
          982,
          982,
          982,
          982,
          983.9,
          985.5,
          985.5,
          985.5,
          985.5,
          985.5,
          985.5,
          987.4,
          987.4,
          987.4,
          976.2,
          976.2,
          976.2,
          981.5,
          981.5,
          967.8,
          967.1,
          967.1,
          967.1,
          963.6,
          963.6,
          963.6,
          969.3,
          971.9,
          975.4,
          975.4,
          975.4,
          977.3,
          977.3,
          981.4,
          981.4,
          967.6,
          967.6,
          971.1,
          975.1,
          977.8,
          981.4,
          981.4,
          981.4,
          986,
          995.5,
          998.6,
          998.6,
          998.6,
          998.6,
          998.6,
          1000.3,
          1000.3,
          1000.3,
          1000.4,
          1000.4,
          1000.5,
          1000.5,
          1000.5,
          995.3,
          995.3,
          995.3,
          995.3,
          995.3,
          995.3,
          996.1,
          999.7,
          1002.9,
          1002.9,
          1002.9,
          1002.9,
          1004.4,
          1004.7,
          1004.7,
          1000.1,
          1000.1,
          1000.1,
          1000.1,
          1000.1,
          995.7,
          995.7,
          995.7,
          995.7,
          995.7,
          995.7,
          995.7,
          995.7,
          995.7,
          995.7,
          995.7,
          990.3,
          990.3,
          990.3,
          990.7,
          990.7,
          990.7,
          990.7,
          994.6,
          994.6,
          1000,
          1000,
          1000,
          1000,
          1000,
          1000,
          1000,
          1004.2,
          1004.2,
          1004.2,
          1004.2,
          1006,
          1006,
          1006,
          1006,
          1006,
          1006,
          1006,
          1006,
          1006,
          1006.8,
          1007.3,
          1007.3,
          1003.9,
          1003.9,
          1003.9,
          1003.9,
          1003.9,
          1002.8,
          1000.3,
          1000.3,
          1000.3,
          1000.3,
          996.1,
          996.1,
          996.1,
          993.4,
          993.3,
          993.3,
          993.4,
          993.4,
          993.4,
          993.4,
          993.4,
          993.4,
          994.2,
          994.8,
          999.9,
          999.9,
          999.9,
          999.9,
          999.9,
          999.9,
          999.9,
          999.9,
          999.9,
          998.3,
          996.1,
          996.1,
          996.1,
          988.2,
          988.2,
          988.2,
          989.4,
          989.4,
          989.4,
          989.4,
          992.7,
          992.7,
          992.7,
          992.7,
          992.7,
          992.7,
          991.7,
          991.7,
          991.7,
          991.7,
          991.7,
          991.7,
          991.7,
          991.7,
          991.7,
          994.4,
          994.7,
          994.7,
          994.7,
          995.2,
          995.9,
          995.9,
          996.6,
          998.3,
          998.7,
          998.7,
          998.7,
          998.7,
          998.7,
          998.7,
          998.7,
          998.7,
          998.8,
          998.8,
          998.8,
          998.8,
          998.8,
          998.8,
          998.8,
          998.8,
          998.8,
          998.8,
          998.8,
          998.8,
          998.8,
          998.8,
          998.8,
          998.8,
          998.8,
          998.8,
          998.8,
          998.8,
          998.8,
          998.8,
          998.8,
          998.8,
          998.8,
          998.8,
          998.8,
          998.8,
          998.8,
          998.8,
          998.8,
          998.8,
          998.8,
          998.8,
          998.8,
          998.8,
          998.8,
          998.8,
          994.2,
          991.7,
          991.7,
          991.7,
          991.7,
          991.7,
          991.8,
          991.9,
          991.9,
          991.9,
          991.9,
          992.2,
          992.2,
          992.2,
          992.2,
          992.2,
          992.2,
          992.2,
          992.2,
          992.2,
          992.2,
          992.2,
          992.2,
          null,
          null,
          null,
          null,
          null,
          null,
          null,
          null,
          null,
          null,
          null,
          null
         ],
         "yaxis": "y"
        },
        {
         "hovertemplate": "variable=Monte Carlo<br>index=%{x}<br>value=%{y}<extra></extra>",
         "legendgroup": "Monte Carlo",
         "line": {
          "color": "#EF553B",
          "dash": "solid"
         },
         "marker": {
          "symbol": "circle"
         },
         "mode": "lines",
         "name": "Monte Carlo",
         "showlegend": true,
         "type": "scattergl",
         "x": [
          0,
          1,
          2,
          3,
          4,
          5,
          6,
          7,
          8,
          9,
          10,
          11,
          12,
          13,
          14,
          15,
          16,
          17,
          18,
          19,
          20,
          21,
          22,
          23,
          24,
          25,
          26,
          27,
          28,
          29,
          30,
          31,
          32,
          33,
          34,
          35,
          36,
          37,
          38,
          39,
          40,
          41,
          42,
          43,
          44,
          45,
          46,
          47,
          48,
          49,
          50,
          51,
          52,
          53,
          54,
          55,
          56,
          57,
          58,
          59,
          60,
          61,
          62,
          63,
          64,
          65,
          66,
          67,
          68,
          69,
          70,
          71,
          72,
          73,
          74,
          75,
          76,
          77,
          78,
          79,
          80,
          81,
          82,
          83,
          84,
          85,
          86,
          87,
          88,
          89,
          90,
          91,
          92,
          93,
          94,
          95,
          96,
          97,
          98,
          99,
          100,
          101,
          102,
          103,
          104,
          105,
          106,
          107,
          108,
          109,
          110,
          111,
          112,
          113,
          114,
          115,
          116,
          117,
          118,
          119,
          120,
          121,
          122,
          123,
          124,
          125,
          126,
          127,
          128,
          129,
          130,
          131,
          132,
          133,
          134,
          135,
          136,
          137,
          138,
          139,
          140,
          141,
          142,
          143,
          144,
          145,
          146,
          147,
          148,
          149,
          150,
          151,
          152,
          153,
          154,
          155,
          156,
          157,
          158,
          159,
          160,
          161,
          162,
          163,
          164,
          165,
          166,
          167,
          168,
          169,
          170,
          171,
          172,
          173,
          174,
          175,
          176,
          177,
          178,
          179,
          180,
          181,
          182,
          183,
          184,
          185,
          186,
          187,
          188,
          189,
          190,
          191,
          192,
          193,
          194,
          195,
          196,
          197,
          198,
          199,
          200,
          201,
          202,
          203,
          204,
          205,
          206,
          207,
          208,
          209,
          210,
          211,
          212,
          213,
          214,
          215,
          216,
          217,
          218,
          219,
          220,
          221,
          222,
          223,
          224,
          225,
          226,
          227,
          228,
          229,
          230,
          231,
          232,
          233,
          234,
          235,
          236,
          237,
          238,
          239,
          240,
          241,
          242,
          243,
          244,
          245,
          246,
          247,
          248,
          249,
          250,
          251,
          252,
          253,
          254,
          255,
          256,
          257,
          258,
          259,
          260,
          261,
          262,
          263,
          264,
          265,
          266,
          267,
          268,
          269,
          270,
          271,
          272,
          273,
          274,
          275,
          276,
          277,
          278,
          279,
          280,
          281,
          282,
          283,
          284,
          285,
          286,
          287,
          288,
          289,
          290,
          291,
          292,
          293,
          294,
          295,
          296,
          297,
          298,
          299,
          300,
          301,
          302,
          303,
          304,
          305,
          306,
          307,
          308,
          309,
          310,
          311,
          312,
          313,
          314,
          315,
          316,
          317,
          318,
          319,
          320,
          321,
          322,
          323,
          324,
          325,
          326,
          327,
          328,
          329,
          330,
          331,
          332,
          333,
          334,
          335,
          336,
          337,
          338,
          339,
          340,
          341,
          342,
          343,
          344,
          345,
          346,
          347,
          348,
          349,
          350,
          351,
          352,
          353,
          354,
          355,
          356,
          357,
          358,
          359,
          360,
          361,
          362,
          363,
          364,
          365,
          366,
          367,
          368,
          369,
          370,
          371,
          372,
          373,
          374,
          375,
          376,
          377
         ],
         "xaxis": "x",
         "y": [
          853.7246185793416,
          887.0111229625763,
          881.6608622964425,
          859.4877343752944,
          848.4227139105166,
          797.2655378399321,
          792.8247805047868,
          838.7779211519926,
          816.6495575774389,
          832.5438699944707,
          825.7547958392247,
          894.2226932446923,
          860.3193107977568,
          836.0171361895787,
          830.5193505718072,
          845.2757406371047,
          915.895141577728,
          880.8792248421678,
          819.5818629743156,
          891.9744435521882,
          885.1153974829944,
          866.7600641471803,
          800.8261730911295,
          921.0278621941447,
          863.5254101079137,
          869.0937650712652,
          830.4477502000816,
          858.0433617262963,
          852.9183672202394,
          813.7869089544843,
          850.5777303490422,
          902.4407319381191,
          819.0567582852334,
          790.1053525686489,
          805.1981227479398,
          758.9069450587709,
          852.8688554411996,
          872.0621219200033,
          872.6106727950736,
          904.5736845358656,
          825.6723554066507,
          834.6409362522662,
          877.7990888093624,
          928.8175297652135,
          941.7551318332557,
          884.4579175924513,
          841.4484760971224,
          881.3309279450104,
          921.681429895994,
          857.3477027523917,
          881.8689300147701,
          879.4744822990824,
          826.6764777610339,
          839.9667742065476,
          849.497476156601,
          854.8424193547296,
          810.3716367303756,
          832.2439578943735,
          834.3601582633937,
          869.9626660091834,
          847.6555338769741,
          868.3750737622497,
          858.3598186954971,
          882.5298862277594,
          872.818891791222,
          839.8207642388838,
          866.0010381909862,
          878.9128203838587,
          863.1349439204065,
          807.227122618926,
          850.4891844786305,
          887.250911531681,
          893.6406771071587,
          805.0951509138588,
          896.1107332258314,
          843.2930623803951,
          846.560755599516,
          893.208308861822,
          844.3251353287269,
          904.7120703012708,
          806.436255720626,
          824.0743268115981,
          888.8996608103972,
          917.8865878929582,
          904.200488345047,
          931.2380668865875,
          901.4157083516526,
          853.0348457562872,
          925.2961149329775,
          879.870278545961,
          875.597582140324,
          844.1421209082322,
          949.110665962085,
          878.3225179160872,
          947.8968141396559,
          928.5193034259703,
          903.4456546075298,
          920.0591852195047,
          930.4355645745609,
          939.5868411828627,
          914.1636384413947,
          940.0214899782592,
          945.824194624255,
          958.0856790647903,
          953.0292664967207,
          931.3240485947175,
          954.644157913704,
          961.7388096621798,
          982.904448821744,
          987.7761550089225,
          934.8927580352555,
          947.8615099527115,
          977.5525598564476,
          951.084220750521,
          1001.2416532915112,
          978.2768432159751,
          989.6276343137998,
          977.3631426785865,
          970.7241206346569,
          973.491678925905,
          999.8805994894782,
          975.8899127173668,
          959.0444137627345,
          970.3816335975378,
          941.7592243714931,
          962.116066290487,
          968.3478365507035,
          983.5756892263094,
          970.8790875262421,
          995.2279441447903,
          991.5290599015326,
          992.8664851276219,
          957.0713503376442,
          998.5885410305825,
          991.3059577038209,
          989.2936976176836,
          972.1876265309364,
          986.4633636757466,
          970.9482820530067,
          985.0897551993033,
          970.2653932007446,
          1006.6302636989332,
          971.1037869609496,
          965.4797136354246,
          986.7548834245282,
          997.9282692259003,
          988.1862381142709,
          966.9667539096886,
          979.9522289079514,
          977.096717525842,
          983.6300030001117,
          992.1507405250449,
          997.8248947568894,
          998.4811189422163,
          999.0100698766779,
          1000.298894513445,
          1006.5565381505535,
          998.190894975224,
          1006.4810302221456,
          1006.483388570482,
          1006.2494445115152,
          996.6373315640848,
          1006.2563277984534,
          1006.25976945958,
          997.6954781726286,
          1005.8900578453391,
          1006.2015670394239,
          1005.9847018780418,
          1006.2090964670765,
          997.8096363022397,
          1005.8488879043347,
          1006.0629671865204,
          1005.9343468746497,
          997.6797095209672,
          1005.8632572767998,
          1004.6888206924986,
          1005.3715461020521,
          1005.1619635611246,
          1005.611860898071,
          1005.7549408359465,
          1005.3097286713448,
          1005.6251817329811,
          1005.5613915466222,
          1005.5761368482282,
          1005.7014046254037,
          1005.5833955683848,
          1005.5688401771098,
          1005.4710432924533,
          1005.2588565750661,
          1005.1567212334886,
          1003.7191293758423,
          1003.5783113158204,
          1003.5272803148198,
          1003.3892005171028,
          1003.2597087178676,
          1003.284392395301,
          1002.9915261564363,
          1003.075965221712,
          994.9882152666152,
          1003.1780028738374,
          1003.3245473247582,
          1002.9964728955496,
          1003.2126938694408,
          1003.4465576426394,
          1003.1995376894646,
          1003.142441109358,
          1002.893809369004,
          1003.0371280549736,
          1003.1241678571754,
          1003.008527120606,
          1002.9135187380627,
          1002.6078017999022,
          1002.6236026596082,
          1002.5018628993488,
          1002.1643804467174,
          1002.2479923195503,
          1001.9626801313624,
          1002.1048810701319,
          1002.094087481582,
          1001.7615693733217,
          1001.6070200110778,
          1001.7489054607399,
          1001.8952032842932,
          1001.3269990881043,
          1001.4309404085103,
          1001.655492755732,
          1001.6904528838616,
          1001.610937869329,
          1001.2035437614269,
          1001.1233485262429,
          1001.2349879492524,
          1000.9061215199713,
          1001.0875001744114,
          1001.2723173796469,
          1001.2533781485323,
          1001.2134385467797,
          1001.1072875492024,
          1001.0243761444693,
          1001.0436893672093,
          1000.9422092619851,
          1000.6912675153467,
          1000.7397715838869,
          1000.7983388885575,
          1000.4940418549683,
          1000.7318859670952,
          1000.6624120191756,
          1000.7916820509975,
          1000.8105179900674,
          1000.6869939752194,
          1000.6854244938249,
          1000.7933462562363,
          1000.7632396983697,
          1000.0815082120981,
          998.3719167023945,
          998.3192639710644,
          998.3214900066745,
          998.2668215172062,
          997.9330464913656,
          997.6123903977049,
          996.7957270514161,
          996.4029817893704,
          996.412245442921,
          996.8549300371811,
          996.8058796521906,
          996.9755695922079,
          997.3179383817386,
          996.8322505269269,
          996.6239772948121,
          996.8162395554933,
          996.8152035603181,
          997.1082824288757,
          996.5283496728491,
          996.5972729511549,
          996.5257321887468,
          996.6173858881879,
          995.872800021175,
          995.8659501260025,
          995.8283706328231,
          995.6707102892462,
          995.0206134216467,
          994.6084759733097,
          994.9103249213408,
          994.9371344685528,
          995.0027325429432,
          995.095336785048,
          995.0707041554798,
          995.1938357899367,
          995.2221386625877,
          995.1739396343594,
          995.435141247706,
          995.5055314592911,
          995.6516700563585,
          995.587816439438,
          995.6794591349452,
          995.8975654198973,
          995.7831152886923,
          995.7816099487638,
          995.7534416950591,
          995.8487126861774,
          995.9410192680767,
          995.8132225651503,
          995.9418285175332,
          995.9466463883718,
          996.10212933341,
          996.2115522304173,
          996.1763880139399,
          996.1733384990522,
          996.2640373205762,
          996.3629532521695,
          996.4125843587083,
          996.287042776167,
          996.4242770239663,
          996.3729319938475,
          996.5319463708512,
          996.6689130169916,
          996.5640912587567,
          994.9671868618842,
          995.0223139330753,
          995.2067072222437,
          995.1290043957489,
          995.1994105709429,
          995.1994293766764,
          995.2887041987071,
          995.4057872787823,
          995.3216929613329,
          995.4941964805731,
          995.6050200394583,
          995.6777364779551,
          995.7748066183718,
          995.8155830391366,
          995.9815096729789,
          995.9730781191682,
          996.0991071756207,
          996.2351671918029,
          996.23810394379,
          996.3614176895385,
          996.3835969566129,
          996.5488649855091,
          996.6927271595071,
          996.6278651402567,
          996.7617371477376,
          996.76793396616,
          996.8764881308724,
          996.7867130098385,
          996.9224148289503,
          997.005005322194,
          997.1086675804936,
          997.2241745750963,
          997.2211595405777,
          997.426994263353,
          997.5234998049408,
          997.6944996389226,
          997.8091128895579,
          997.8500857489496,
          998.0066956368497,
          998.122910211844,
          998.2811663547701,
          998.4326366409897,
          998.5650717023495,
          998.7527637198535,
          998.9102891904226,
          999.0678395062537,
          999.2254146712648,
          999.3830146893758,
          999.5406395645066,
          999.6982893005771,
          999.8559639015091,
          1000.0136633712242,
          1000.1713877136442,
          1000.3291369326927,
          1000.4869110322932,
          1000.6447100163697,
          1000.802533888847,
          1000.9603826536509,
          1001.1182563147071,
          1001.2761548759426,
          1001.4340783412845,
          1001.5920267146607
         ],
         "yaxis": "y"
        },
        {
         "hovertemplate": "variable=Antithetic Variates<br>index=%{x}<br>value=%{y}<extra></extra>",
         "legendgroup": "Antithetic Variates",
         "line": {
          "color": "#00cc96",
          "dash": "solid"
         },
         "marker": {
          "symbol": "circle"
         },
         "mode": "lines",
         "name": "Antithetic Variates",
         "showlegend": true,
         "type": "scattergl",
         "x": [
          0,
          1,
          2,
          3,
          4,
          5,
          6,
          7,
          8,
          9,
          10,
          11,
          12,
          13,
          14,
          15,
          16,
          17,
          18,
          19,
          20,
          21,
          22,
          23,
          24,
          25,
          26,
          27,
          28,
          29,
          30,
          31,
          32,
          33,
          34,
          35,
          36,
          37,
          38,
          39,
          40,
          41,
          42,
          43,
          44,
          45,
          46,
          47,
          48,
          49,
          50,
          51,
          52,
          53,
          54,
          55,
          56,
          57,
          58,
          59,
          60,
          61,
          62,
          63,
          64,
          65,
          66,
          67,
          68,
          69,
          70,
          71,
          72,
          73,
          74,
          75,
          76,
          77,
          78,
          79,
          80,
          81,
          82,
          83,
          84,
          85,
          86,
          87,
          88,
          89,
          90,
          91,
          92,
          93,
          94,
          95,
          96,
          97,
          98,
          99,
          100,
          101,
          102,
          103,
          104,
          105,
          106,
          107,
          108,
          109,
          110,
          111,
          112,
          113,
          114,
          115,
          116,
          117,
          118,
          119,
          120,
          121,
          122,
          123,
          124,
          125,
          126,
          127,
          128,
          129,
          130,
          131,
          132,
          133,
          134,
          135,
          136,
          137,
          138,
          139,
          140,
          141,
          142,
          143,
          144,
          145,
          146,
          147,
          148,
          149,
          150,
          151,
          152,
          153,
          154,
          155,
          156,
          157,
          158,
          159,
          160,
          161,
          162,
          163,
          164,
          165,
          166,
          167,
          168,
          169,
          170,
          171,
          172,
          173,
          174,
          175,
          176,
          177,
          178,
          179,
          180,
          181,
          182,
          183,
          184,
          185,
          186,
          187,
          188,
          189,
          190,
          191,
          192,
          193,
          194,
          195,
          196,
          197,
          198,
          199,
          200,
          201,
          202,
          203,
          204,
          205,
          206,
          207,
          208,
          209,
          210,
          211,
          212,
          213,
          214,
          215,
          216,
          217,
          218,
          219,
          220,
          221,
          222,
          223,
          224,
          225,
          226,
          227,
          228,
          229,
          230,
          231,
          232,
          233,
          234,
          235,
          236,
          237,
          238,
          239,
          240,
          241,
          242,
          243,
          244,
          245,
          246,
          247,
          248,
          249,
          250,
          251,
          252,
          253,
          254,
          255,
          256,
          257,
          258,
          259,
          260,
          261,
          262,
          263,
          264,
          265,
          266,
          267,
          268,
          269,
          270,
          271,
          272,
          273,
          274,
          275,
          276,
          277,
          278,
          279,
          280,
          281,
          282,
          283,
          284,
          285,
          286,
          287,
          288,
          289,
          290,
          291,
          292,
          293,
          294,
          295,
          296,
          297,
          298,
          299,
          300,
          301,
          302,
          303,
          304,
          305,
          306,
          307,
          308,
          309,
          310,
          311,
          312,
          313,
          314,
          315,
          316,
          317,
          318,
          319,
          320,
          321,
          322,
          323,
          324,
          325,
          326,
          327,
          328,
          329,
          330,
          331,
          332,
          333,
          334,
          335,
          336,
          337,
          338,
          339,
          340,
          341,
          342,
          343,
          344,
          345,
          346,
          347,
          348,
          349,
          350,
          351,
          352,
          353,
          354,
          355,
          356,
          357,
          358,
          359,
          360,
          361,
          362,
          363,
          364,
          365,
          366,
          367,
          368,
          369,
          370,
          371,
          372,
          373,
          374,
          375,
          376,
          377
         ],
         "xaxis": "x",
         "y": [
          824.7815555959226,
          833.4214469807821,
          867.1189696591873,
          866.4161109440003,
          829.534019960026,
          851.8645923782316,
          875.4351850873418,
          825.5471019339759,
          856.6819369294551,
          848.9187910233145,
          881.4763541786035,
          800.6442616959673,
          909.1809338719853,
          898.8536986436474,
          851.0578617827002,
          796.3618830338911,
          862.9430139036326,
          804.0948135252465,
          904.4225904236955,
          843.8371585997703,
          841.9471533102483,
          873.2405034822103,
          815.4643254090844,
          883.4355978925606,
          863.798073928254,
          886.0017706998105,
          877.9119717379233,
          867.9936821021748,
          837.3158794534751,
          870.0109036939984,
          906.3726148559584,
          819.9429940455988,
          865.6860831963759,
          845.9503736205166,
          844.4258503300553,
          767.3478816343741,
          904.8555736049175,
          852.9858604695343,
          872.1138972351466,
          846.053134743674,
          809.3645803784053,
          849.2741641725901,
          851.9006859529202,
          809.4080122775449,
          840.0980489778516,
          874.3472198679269,
          821.6721438969626,
          831.7622225806446,
          868.833120888845,
          895.4344037270404,
          892.4448212193197,
          840.1049408893481,
          886.7761875184552,
          865.2665751466873,
          859.7684327980337,
          833.4027562070557,
          853.4264514514398,
          829.6463958055527,
          830.4013214104274,
          822.4228163131779,
          882.6501540576055,
          840.3995043372805,
          858.087861131316,
          860.5221435342633,
          867.6106975205507,
          846.361537380675,
          816.6985722776079,
          869.5104834449392,
          843.7323600659779,
          849.698688647048,
          874.1410977280974,
          860.6909967351808,
          848.5064822325268,
          855.5722740662821,
          874.9446406847392,
          845.2167532199363,
          837.2117426143341,
          874.1351070356312,
          856.7123466720965,
          806.4939370810313,
          887.704276850296,
          879.4859143383859,
          919.2875333352538,
          867.1386410864725,
          843.983376599569,
          884.9395577634194,
          897.3707948777138,
          924.2443935461436,
          888.75115000418,
          948.4096639656567,
          880.0954360671078,
          902.3740803417105,
          897.881110727553,
          957.0316624691451,
          939.785118967735,
          935.0890748705834,
          926.4700991793061,
          928.2445471840214,
          973.6921260238977,
          938.0760019001926,
          974.954767758103,
          957.0006315594295,
          943.1226909908592,
          947.4244495773701,
          946.6697072969722,
          966.7766945263772,
          958.729995910875,
          959.2795911620112,
          963.0422832981901,
          982.5001966353649,
          960.981517097858,
          975.8182624251136,
          913.19529620615,
          965.4923150734845,
          978.9194473818179,
          972.259390054382,
          978.2942075734469,
          977.8817557007546,
          994.4726767030763,
          952.036012084823,
          936.3902272404438,
          992.7327769282273,
          962.6607787548413,
          956.8768121531673,
          999.4398814227674,
          968.3233129024768,
          985.2860262908384,
          978.5909669218364,
          945.8505935677945,
          983.643479392275,
          958.9440966242896,
          967.6691175008004,
          967.3491981133858,
          972.5124279132942,
          969.553471079886,
          997.2878368096217,
          988.841380260928,
          949.5708346308497,
          969.7177791387751,
          995.7853390729969,
          1006.6287039177981,
          982.7177727201359,
          978.4563568472161,
          955.3140740053426,
          974.6087921374907,
          969.0713480394364,
          976.75194619749,
          972.08242331209,
          979.9986929750614,
          997.7158633055363,
          968.344349223979,
          982.2308438279529,
          995.4799791848287,
          983.443589687602,
          1006.5610650023062,
          979.0004583170161,
          989.5526051043215,
          999.6314326947177,
          982.0129608074515,
          1001.115784478697,
          1006.2494445115152,
          997.114053180536,
          1006.2563277984538,
          1006.2597694595798,
          1002.1790507947007,
          997.6343137721104,
          1006.2015670394239,
          1005.9847018780418,
          1006.2090964670766,
          1006.2128612020314,
          996.26762519654,
          1006.0629671865205,
          1005.9343468746498,
          1003.284552147741,
          1005.8632572767998,
          1004.6888206924981,
          1005.3715461020515,
          1005.1619635611245,
          1005.6118608980712,
          1005.7549408359465,
          1001.5487093907,
          1005.6251817329809,
          1005.5613915466222,
          1005.5761368482287,
          1005.7014046254038,
          1005.5833955683852,
          1005.5688401771093,
          1005.4710432924529,
          1005.2588565750663,
          1001.4766592590205,
          1003.719129375842,
          1003.5783113158209,
          1003.5272803148201,
          1003.3892005171033,
          1003.2597087178677,
          1003.2843923953009,
          1002.9915261564362,
          1003.0759652217123,
          1003.1391428006317,
          1003.1780028738377,
          1003.324547324758,
          1002.9964728955496,
          1003.2126938694407,
          1003.4465576426395,
          1003.1995376894646,
          1003.142441109358,
          1002.8938093690044,
          1003.0371280549736,
          1003.1241678571755,
          1003.008527120606,
          1002.9135187380629,
          1002.6078017999021,
          1002.623602659608,
          1002.5018628993487,
          1002.1643804467172,
          1002.2479923195502,
          1001.9626801313622,
          1002.1048810701321,
          1002.0940874815824,
          1001.7615693733219,
          1001.607020011078,
          1001.7489054607398,
          1001.8952032842934,
          1001.3269990881049,
          1001.4309404085103,
          1001.6554927557319,
          1001.6904528838618,
          1001.6109378693286,
          1001.2035437614269,
          1001.1233485262434,
          1001.2349879492524,
          1000.9061215199715,
          1001.0875001744115,
          1001.2723173796467,
          1001.2533781485322,
          1001.2134385467797,
          1001.1072875492023,
          1001.0243761444693,
          1001.0436893672095,
          1000.9422092619847,
          1000.6912675153468,
          1000.7397715838869,
          1000.7983388885576,
          1000.4940418549684,
          1000.7318859670953,
          1000.6624120191752,
          1000.7916820509977,
          1000.8105179900676,
          1000.6869939752195,
          1000.6854244938254,
          1000.7933462562361,
          1000.7632396983697,
          1000.0815082120982,
          998.3719167023944,
          998.3192639710645,
          998.3214900066746,
          998.2668215172057,
          997.9330464913656,
          997.6123903977044,
          996.7957270514161,
          996.4029817893705,
          996.4122454429208,
          996.8549300371814,
          996.8058796521909,
          996.9755695922081,
          997.3179383817384,
          996.8322505269275,
          996.6239772948123,
          996.8162395554937,
          996.8152035603177,
          997.1082824288756,
          996.5283496728493,
          996.5972729511548,
          996.5257321887469,
          996.6173858881878,
          995.8728000211745,
          995.8659501260023,
          995.8283706328232,
          995.670710289246,
          995.0206134216463,
          994.6084759733094,
          994.9103249213404,
          994.9371344685529,
          995.0027325429434,
          995.0953367850482,
          995.07070415548,
          995.1938357899365,
          995.2221386625878,
          995.1739396343596,
          995.4351412477064,
          995.5055314592912,
          995.6516700563584,
          995.587816439438,
          995.6794591349451,
          995.8975654198974,
          995.7831152886922,
          995.7816099487642,
          995.7534416950593,
          995.8487126861769,
          995.9410192680771,
          995.8132225651502,
          995.9418285175329,
          995.9466463883722,
          996.1021293334098,
          996.2115522304176,
          996.1763880139397,
          996.1733384990523,
          996.2640373205762,
          996.36295325217,
          996.4125843587083,
          996.2870427761669,
          996.4242770239664,
          996.372931993847,
          996.5319463708515,
          996.6689130169916,
          996.5640912587567,
          994.9671868618846,
          995.0223139330755,
          995.2067072222436,
          995.1290043957492,
          995.1994105709425,
          995.1994293766764,
          995.2887041987073,
          995.4057872787822,
          995.3216929613327,
          995.4941964805731,
          995.605020039458,
          995.6777364779554,
          995.7748066183719,
          995.8155830391366,
          995.9815096729784,
          995.9730781191679,
          996.0991071756207,
          996.2351671918027,
          996.2381039437897,
          996.3614176895386,
          996.383596956613,
          996.548864985509,
          996.692727159507,
          996.6278651402569,
          996.7617371477374,
          996.7679339661595,
          996.8764881308724,
          996.7867130098389,
          996.9224148289503,
          997.0050053221942,
          997.1086675804941,
          997.2241745750963,
          997.2211595405778,
          997.426994263353,
          997.5234998049407,
          997.6944996389227,
          997.8091128895579,
          997.8500857489498,
          998.00669563685,
          998.1229102118435,
          998.2811663547706,
          998.4326366409899,
          998.5650717023494,
          998.7527637198539,
          998.9102891904222,
          999.0678395062536,
          999.2254146712652,
          999.3830146893758,
          999.5406395645067,
          999.6982893005771,
          999.8559639015094,
          1000.0136633712244,
          1000.1713877136445,
          1000.3291369326927,
          1000.4869110322929,
          1000.6447100163693,
          1000.8025338888469,
          1000.960382653651,
          1001.1182563147066,
          1001.2761548759426,
          1001.4340783412848,
          1001.5920267146608
         ],
         "yaxis": "y"
        }
       ],
       "layout": {
        "legend": {
         "title": {
          "text": "variable"
         },
         "tracegroupgap": 0
        },
        "margin": {
         "t": 60
        },
        "template": {
         "data": {
          "bar": [
           {
            "error_x": {
             "color": "#2a3f5f"
            },
            "error_y": {
             "color": "#2a3f5f"
            },
            "marker": {
             "line": {
              "color": "#E5ECF6",
              "width": 0.5
             },
             "pattern": {
              "fillmode": "overlay",
              "size": 10,
              "solidity": 0.2
             }
            },
            "type": "bar"
           }
          ],
          "barpolar": [
           {
            "marker": {
             "line": {
              "color": "#E5ECF6",
              "width": 0.5
             },
             "pattern": {
              "fillmode": "overlay",
              "size": 10,
              "solidity": 0.2
             }
            },
            "type": "barpolar"
           }
          ],
          "carpet": [
           {
            "aaxis": {
             "endlinecolor": "#2a3f5f",
             "gridcolor": "white",
             "linecolor": "white",
             "minorgridcolor": "white",
             "startlinecolor": "#2a3f5f"
            },
            "baxis": {
             "endlinecolor": "#2a3f5f",
             "gridcolor": "white",
             "linecolor": "white",
             "minorgridcolor": "white",
             "startlinecolor": "#2a3f5f"
            },
            "type": "carpet"
           }
          ],
          "choropleth": [
           {
            "colorbar": {
             "outlinewidth": 0,
             "ticks": ""
            },
            "type": "choropleth"
           }
          ],
          "contour": [
           {
            "colorbar": {
             "outlinewidth": 0,
             "ticks": ""
            },
            "colorscale": [
             [
              0,
              "#0d0887"
             ],
             [
              0.1111111111111111,
              "#46039f"
             ],
             [
              0.2222222222222222,
              "#7201a8"
             ],
             [
              0.3333333333333333,
              "#9c179e"
             ],
             [
              0.4444444444444444,
              "#bd3786"
             ],
             [
              0.5555555555555556,
              "#d8576b"
             ],
             [
              0.6666666666666666,
              "#ed7953"
             ],
             [
              0.7777777777777778,
              "#fb9f3a"
             ],
             [
              0.8888888888888888,
              "#fdca26"
             ],
             [
              1,
              "#f0f921"
             ]
            ],
            "type": "contour"
           }
          ],
          "contourcarpet": [
           {
            "colorbar": {
             "outlinewidth": 0,
             "ticks": ""
            },
            "type": "contourcarpet"
           }
          ],
          "heatmap": [
           {
            "colorbar": {
             "outlinewidth": 0,
             "ticks": ""
            },
            "colorscale": [
             [
              0,
              "#0d0887"
             ],
             [
              0.1111111111111111,
              "#46039f"
             ],
             [
              0.2222222222222222,
              "#7201a8"
             ],
             [
              0.3333333333333333,
              "#9c179e"
             ],
             [
              0.4444444444444444,
              "#bd3786"
             ],
             [
              0.5555555555555556,
              "#d8576b"
             ],
             [
              0.6666666666666666,
              "#ed7953"
             ],
             [
              0.7777777777777778,
              "#fb9f3a"
             ],
             [
              0.8888888888888888,
              "#fdca26"
             ],
             [
              1,
              "#f0f921"
             ]
            ],
            "type": "heatmap"
           }
          ],
          "heatmapgl": [
           {
            "colorbar": {
             "outlinewidth": 0,
             "ticks": ""
            },
            "colorscale": [
             [
              0,
              "#0d0887"
             ],
             [
              0.1111111111111111,
              "#46039f"
             ],
             [
              0.2222222222222222,
              "#7201a8"
             ],
             [
              0.3333333333333333,
              "#9c179e"
             ],
             [
              0.4444444444444444,
              "#bd3786"
             ],
             [
              0.5555555555555556,
              "#d8576b"
             ],
             [
              0.6666666666666666,
              "#ed7953"
             ],
             [
              0.7777777777777778,
              "#fb9f3a"
             ],
             [
              0.8888888888888888,
              "#fdca26"
             ],
             [
              1,
              "#f0f921"
             ]
            ],
            "type": "heatmapgl"
           }
          ],
          "histogram": [
           {
            "marker": {
             "pattern": {
              "fillmode": "overlay",
              "size": 10,
              "solidity": 0.2
             }
            },
            "type": "histogram"
           }
          ],
          "histogram2d": [
           {
            "colorbar": {
             "outlinewidth": 0,
             "ticks": ""
            },
            "colorscale": [
             [
              0,
              "#0d0887"
             ],
             [
              0.1111111111111111,
              "#46039f"
             ],
             [
              0.2222222222222222,
              "#7201a8"
             ],
             [
              0.3333333333333333,
              "#9c179e"
             ],
             [
              0.4444444444444444,
              "#bd3786"
             ],
             [
              0.5555555555555556,
              "#d8576b"
             ],
             [
              0.6666666666666666,
              "#ed7953"
             ],
             [
              0.7777777777777778,
              "#fb9f3a"
             ],
             [
              0.8888888888888888,
              "#fdca26"
             ],
             [
              1,
              "#f0f921"
             ]
            ],
            "type": "histogram2d"
           }
          ],
          "histogram2dcontour": [
           {
            "colorbar": {
             "outlinewidth": 0,
             "ticks": ""
            },
            "colorscale": [
             [
              0,
              "#0d0887"
             ],
             [
              0.1111111111111111,
              "#46039f"
             ],
             [
              0.2222222222222222,
              "#7201a8"
             ],
             [
              0.3333333333333333,
              "#9c179e"
             ],
             [
              0.4444444444444444,
              "#bd3786"
             ],
             [
              0.5555555555555556,
              "#d8576b"
             ],
             [
              0.6666666666666666,
              "#ed7953"
             ],
             [
              0.7777777777777778,
              "#fb9f3a"
             ],
             [
              0.8888888888888888,
              "#fdca26"
             ],
             [
              1,
              "#f0f921"
             ]
            ],
            "type": "histogram2dcontour"
           }
          ],
          "mesh3d": [
           {
            "colorbar": {
             "outlinewidth": 0,
             "ticks": ""
            },
            "type": "mesh3d"
           }
          ],
          "parcoords": [
           {
            "line": {
             "colorbar": {
              "outlinewidth": 0,
              "ticks": ""
             }
            },
            "type": "parcoords"
           }
          ],
          "pie": [
           {
            "automargin": true,
            "type": "pie"
           }
          ],
          "scatter": [
           {
            "marker": {
             "colorbar": {
              "outlinewidth": 0,
              "ticks": ""
             }
            },
            "type": "scatter"
           }
          ],
          "scatter3d": [
           {
            "line": {
             "colorbar": {
              "outlinewidth": 0,
              "ticks": ""
             }
            },
            "marker": {
             "colorbar": {
              "outlinewidth": 0,
              "ticks": ""
             }
            },
            "type": "scatter3d"
           }
          ],
          "scattercarpet": [
           {
            "marker": {
             "colorbar": {
              "outlinewidth": 0,
              "ticks": ""
             }
            },
            "type": "scattercarpet"
           }
          ],
          "scattergeo": [
           {
            "marker": {
             "colorbar": {
              "outlinewidth": 0,
              "ticks": ""
             }
            },
            "type": "scattergeo"
           }
          ],
          "scattergl": [
           {
            "marker": {
             "colorbar": {
              "outlinewidth": 0,
              "ticks": ""
             }
            },
            "type": "scattergl"
           }
          ],
          "scattermapbox": [
           {
            "marker": {
             "colorbar": {
              "outlinewidth": 0,
              "ticks": ""
             }
            },
            "type": "scattermapbox"
           }
          ],
          "scatterpolar": [
           {
            "marker": {
             "colorbar": {
              "outlinewidth": 0,
              "ticks": ""
             }
            },
            "type": "scatterpolar"
           }
          ],
          "scatterpolargl": [
           {
            "marker": {
             "colorbar": {
              "outlinewidth": 0,
              "ticks": ""
             }
            },
            "type": "scatterpolargl"
           }
          ],
          "scatterternary": [
           {
            "marker": {
             "colorbar": {
              "outlinewidth": 0,
              "ticks": ""
             }
            },
            "type": "scatterternary"
           }
          ],
          "surface": [
           {
            "colorbar": {
             "outlinewidth": 0,
             "ticks": ""
            },
            "colorscale": [
             [
              0,
              "#0d0887"
             ],
             [
              0.1111111111111111,
              "#46039f"
             ],
             [
              0.2222222222222222,
              "#7201a8"
             ],
             [
              0.3333333333333333,
              "#9c179e"
             ],
             [
              0.4444444444444444,
              "#bd3786"
             ],
             [
              0.5555555555555556,
              "#d8576b"
             ],
             [
              0.6666666666666666,
              "#ed7953"
             ],
             [
              0.7777777777777778,
              "#fb9f3a"
             ],
             [
              0.8888888888888888,
              "#fdca26"
             ],
             [
              1,
              "#f0f921"
             ]
            ],
            "type": "surface"
           }
          ],
          "table": [
           {
            "cells": {
             "fill": {
              "color": "#EBF0F8"
             },
             "line": {
              "color": "white"
             }
            },
            "header": {
             "fill": {
              "color": "#C8D4E3"
             },
             "line": {
              "color": "white"
             }
            },
            "type": "table"
           }
          ]
         },
         "layout": {
          "annotationdefaults": {
           "arrowcolor": "#2a3f5f",
           "arrowhead": 0,
           "arrowwidth": 1
          },
          "autotypenumbers": "strict",
          "coloraxis": {
           "colorbar": {
            "outlinewidth": 0,
            "ticks": ""
           }
          },
          "colorscale": {
           "diverging": [
            [
             0,
             "#8e0152"
            ],
            [
             0.1,
             "#c51b7d"
            ],
            [
             0.2,
             "#de77ae"
            ],
            [
             0.3,
             "#f1b6da"
            ],
            [
             0.4,
             "#fde0ef"
            ],
            [
             0.5,
             "#f7f7f7"
            ],
            [
             0.6,
             "#e6f5d0"
            ],
            [
             0.7,
             "#b8e186"
            ],
            [
             0.8,
             "#7fbc41"
            ],
            [
             0.9,
             "#4d9221"
            ],
            [
             1,
             "#276419"
            ]
           ],
           "sequential": [
            [
             0,
             "#0d0887"
            ],
            [
             0.1111111111111111,
             "#46039f"
            ],
            [
             0.2222222222222222,
             "#7201a8"
            ],
            [
             0.3333333333333333,
             "#9c179e"
            ],
            [
             0.4444444444444444,
             "#bd3786"
            ],
            [
             0.5555555555555556,
             "#d8576b"
            ],
            [
             0.6666666666666666,
             "#ed7953"
            ],
            [
             0.7777777777777778,
             "#fb9f3a"
            ],
            [
             0.8888888888888888,
             "#fdca26"
            ],
            [
             1,
             "#f0f921"
            ]
           ],
           "sequentialminus": [
            [
             0,
             "#0d0887"
            ],
            [
             0.1111111111111111,
             "#46039f"
            ],
            [
             0.2222222222222222,
             "#7201a8"
            ],
            [
             0.3333333333333333,
             "#9c179e"
            ],
            [
             0.4444444444444444,
             "#bd3786"
            ],
            [
             0.5555555555555556,
             "#d8576b"
            ],
            [
             0.6666666666666666,
             "#ed7953"
            ],
            [
             0.7777777777777778,
             "#fb9f3a"
            ],
            [
             0.8888888888888888,
             "#fdca26"
            ],
            [
             1,
             "#f0f921"
            ]
           ]
          },
          "colorway": [
           "#636efa",
           "#EF553B",
           "#00cc96",
           "#ab63fa",
           "#FFA15A",
           "#19d3f3",
           "#FF6692",
           "#B6E880",
           "#FF97FF",
           "#FECB52"
          ],
          "font": {
           "color": "#2a3f5f"
          },
          "geo": {
           "bgcolor": "white",
           "lakecolor": "white",
           "landcolor": "#E5ECF6",
           "showlakes": true,
           "showland": true,
           "subunitcolor": "white"
          },
          "hoverlabel": {
           "align": "left"
          },
          "hovermode": "closest",
          "mapbox": {
           "style": "light"
          },
          "paper_bgcolor": "white",
          "plot_bgcolor": "#E5ECF6",
          "polar": {
           "angularaxis": {
            "gridcolor": "white",
            "linecolor": "white",
            "ticks": ""
           },
           "bgcolor": "#E5ECF6",
           "radialaxis": {
            "gridcolor": "white",
            "linecolor": "white",
            "ticks": ""
           }
          },
          "scene": {
           "xaxis": {
            "backgroundcolor": "#E5ECF6",
            "gridcolor": "white",
            "gridwidth": 2,
            "linecolor": "white",
            "showbackground": true,
            "ticks": "",
            "zerolinecolor": "white"
           },
           "yaxis": {
            "backgroundcolor": "#E5ECF6",
            "gridcolor": "white",
            "gridwidth": 2,
            "linecolor": "white",
            "showbackground": true,
            "ticks": "",
            "zerolinecolor": "white"
           },
           "zaxis": {
            "backgroundcolor": "#E5ECF6",
            "gridcolor": "white",
            "gridwidth": 2,
            "linecolor": "white",
            "showbackground": true,
            "ticks": "",
            "zerolinecolor": "white"
           }
          },
          "shapedefaults": {
           "line": {
            "color": "#2a3f5f"
           }
          },
          "ternary": {
           "aaxis": {
            "gridcolor": "white",
            "linecolor": "white",
            "ticks": ""
           },
           "baxis": {
            "gridcolor": "white",
            "linecolor": "white",
            "ticks": ""
           },
           "bgcolor": "#E5ECF6",
           "caxis": {
            "gridcolor": "white",
            "linecolor": "white",
            "ticks": ""
           }
          },
          "title": {
           "x": 0.05
          },
          "xaxis": {
           "automargin": true,
           "gridcolor": "white",
           "linecolor": "white",
           "ticks": "",
           "title": {
            "standoff": 15
           },
           "zerolinecolor": "white",
           "zerolinewidth": 2
          },
          "yaxis": {
           "automargin": true,
           "gridcolor": "white",
           "linecolor": "white",
           "ticks": "",
           "title": {
            "standoff": 15
           },
           "zerolinecolor": "white",
           "zerolinewidth": 2
          }
         }
        },
        "xaxis": {
         "anchor": "y",
         "domain": [
          0,
          1
         ],
         "title": {
          "text": "index"
         }
        },
        "yaxis": {
         "anchor": "x",
         "domain": [
          0,
          1
         ],
         "title": {
          "text": "value"
         }
        }
       }
      }
     },
     "metadata": {},
     "output_type": "display_data"
    }
   ],
   "source": [
    "px.line(merged, y=[\"Price\", \"Monte Carlo\", \"Antithetic Variates\"])"
   ]
  },
  {
   "cell_type": "markdown",
   "metadata": {},
   "source": [
    "## Greeks"
   ]
  },
  {
   "cell_type": "code",
   "execution_count": 24,
   "metadata": {},
   "outputs": [
    {
     "data": {
      "application/vnd.jupyter.widget-view+json": {
       "model_id": "7439b611dc0a420da63ce9036c59325b",
       "version_major": 2,
       "version_minor": 0
      },
      "text/plain": [
       "  0%|          | 0/378 [00:00<?, ?it/s]"
      ]
     },
     "metadata": {},
     "output_type": "display_data"
    }
   ],
   "source": [
    "expected_payoffs_greeks = np.zeros(shape=(3, m))\n",
    "\n",
    "for t in tqdm(range(m), leave=False):\n",
    "    r = calc_rates(t, m, rates)\n",
    "\n",
    "    paths = n_path_sim_greeks(asset_hist=asset_hist,\n",
    "                    Nsim=30,\n",
    "                    t=t,\n",
    "                    r=r,\n",
    "                    dt=dt,\n",
    "                    p=3,\n",
    "                    m=m,\n",
    "                    sim_func=multi_asset_GBM,\n",
    "                    )\n",
    "                    \n",
    "    for i in range(3):\n",
    "        expected_payoffs_greeks[i][t] = expected_payoff(payoff(paths[i], K, Barrier, m-t), r=r, T=T, t=t*dt)"
   ]
  },
  {
   "cell_type": "code",
   "execution_count": 25,
   "metadata": {},
   "outputs": [
    {
     "data": {
      "text/html": [
       "<div>\n",
       "<style scoped>\n",
       "    .dataframe tbody tr th:only-of-type {\n",
       "        vertical-align: middle;\n",
       "    }\n",
       "\n",
       "    .dataframe tbody tr th {\n",
       "        vertical-align: top;\n",
       "    }\n",
       "\n",
       "    .dataframe thead th {\n",
       "        text-align: right;\n",
       "    }\n",
       "</style>\n",
       "<table border=\"1\" class=\"dataframe\">\n",
       "  <thead>\n",
       "    <tr style=\"text-align: right;\">\n",
       "      <th></th>\n",
       "      <th>Delta</th>\n",
       "      <th>Gamma</th>\n",
       "    </tr>\n",
       "  </thead>\n",
       "  <tbody>\n",
       "    <tr>\n",
       "      <th>0</th>\n",
       "      <td>-37015.249430</td>\n",
       "      <td>-2.056714e+07</td>\n",
       "    </tr>\n",
       "    <tr>\n",
       "      <th>1</th>\n",
       "      <td>15943.634426</td>\n",
       "      <td>3.460862e+07</td>\n",
       "    </tr>\n",
       "    <tr>\n",
       "      <th>2</th>\n",
       "      <td>-7778.935889</td>\n",
       "      <td>-3.577753e+07</td>\n",
       "    </tr>\n",
       "    <tr>\n",
       "      <th>3</th>\n",
       "      <td>-6550.367147</td>\n",
       "      <td>-2.137783e+06</td>\n",
       "    </tr>\n",
       "    <tr>\n",
       "      <th>4</th>\n",
       "      <td>-2976.328687</td>\n",
       "      <td>-3.445283e+07</td>\n",
       "    </tr>\n",
       "  </tbody>\n",
       "</table>\n",
       "</div>"
      ],
      "text/plain": [
       "          Delta         Gamma\n",
       "0 -37015.249430 -2.056714e+07\n",
       "1  15943.634426  3.460862e+07\n",
       "2  -7778.935889 -3.577753e+07\n",
       "3  -6550.367147 -2.137783e+06\n",
       "4  -2976.328687 -3.445283e+07"
      ]
     },
     "execution_count": 25,
     "metadata": {},
     "output_type": "execute_result"
    }
   ],
   "source": [
    "greeks_df = pd.DataFrame(\n",
    "    np.concatenate(\n",
    "        (\n",
    "            (\n",
    "                (expected_payoffs_greeks[2] - expected_payoffs_greeks[1])/0.004\n",
    "            ).reshape(1, m), \n",
    "            (\n",
    "                (expected_payoffs_greeks[2] - ( 2 * expected_payoffs_greeks[0] ) + expected_payoffs_greeks[1])/ np.square(0.002)\n",
    "            ).reshape(1, m)\n",
    "        ),\n",
    "        axis=0\n",
    "    ).T,\n",
    "    columns=[\"Delta\", \"Gamma\"]\n",
    ")\n",
    "greeks_df.head()"
   ]
  },
  {
   "cell_type": "markdown",
   "metadata": {},
   "source": [
    "### Delta"
   ]
  },
  {
   "cell_type": "code",
   "execution_count": 26,
   "metadata": {},
   "outputs": [
    {
     "data": {
      "application/vnd.plotly.v1+json": {
       "config": {
        "plotlyServerURL": "https://plot.ly"
       },
       "data": [
        {
         "hovertemplate": "index=%{x}<br>Delta=%{y}<extra></extra>",
         "legendgroup": "",
         "line": {
          "color": "#636efa",
          "dash": "solid"
         },
         "marker": {
          "symbol": "circle"
         },
         "mode": "lines",
         "name": "",
         "orientation": "v",
         "showlegend": false,
         "type": "scatter",
         "x": [
          0,
          1,
          2,
          3,
          4,
          5,
          6,
          7,
          8,
          9,
          10,
          11,
          12,
          13,
          14,
          15,
          16,
          17,
          18,
          19,
          20,
          21,
          22,
          23,
          24,
          25,
          26,
          27,
          28,
          29,
          30,
          31,
          32,
          33,
          34,
          35,
          36,
          37,
          38,
          39,
          40,
          41,
          42,
          43,
          44,
          45,
          46,
          47,
          48,
          49,
          50,
          51,
          52,
          53,
          54,
          55,
          56,
          57,
          58,
          59,
          60,
          61,
          62,
          63,
          64,
          65,
          66,
          67,
          68,
          69,
          70,
          71,
          72,
          73,
          74,
          75,
          76,
          77,
          78,
          79,
          80,
          81,
          82,
          83,
          84,
          85,
          86,
          87,
          88,
          89,
          90,
          91,
          92,
          93,
          94,
          95,
          96,
          97,
          98,
          99,
          100,
          101,
          102,
          103,
          104,
          105,
          106,
          107,
          108,
          109,
          110,
          111,
          112,
          113,
          114,
          115,
          116,
          117,
          118,
          119,
          120,
          121,
          122,
          123,
          124,
          125,
          126,
          127,
          128,
          129,
          130,
          131,
          132,
          133,
          134,
          135,
          136,
          137,
          138,
          139,
          140,
          141,
          142,
          143,
          144,
          145,
          146,
          147,
          148,
          149,
          150,
          151,
          152,
          153,
          154,
          155,
          156,
          157,
          158,
          159,
          160,
          161,
          162,
          163,
          164,
          165,
          166,
          167,
          168,
          169,
          170,
          171,
          172,
          173,
          174,
          175,
          176,
          177,
          178,
          179,
          180,
          181,
          182,
          183,
          184,
          185,
          186,
          187,
          188,
          189,
          190,
          191,
          192,
          193,
          194,
          195,
          196,
          197,
          198,
          199,
          200,
          201,
          202,
          203,
          204,
          205,
          206,
          207,
          208,
          209,
          210,
          211,
          212,
          213,
          214,
          215,
          216,
          217,
          218,
          219,
          220,
          221,
          222,
          223,
          224,
          225,
          226,
          227,
          228,
          229,
          230,
          231,
          232,
          233,
          234,
          235,
          236,
          237,
          238,
          239,
          240,
          241,
          242,
          243,
          244,
          245,
          246,
          247,
          248,
          249,
          250,
          251,
          252,
          253,
          254,
          255,
          256,
          257,
          258,
          259,
          260,
          261,
          262,
          263,
          264,
          265,
          266,
          267,
          268,
          269,
          270,
          271,
          272,
          273,
          274,
          275,
          276,
          277,
          278,
          279,
          280,
          281,
          282,
          283,
          284,
          285,
          286,
          287,
          288,
          289,
          290,
          291,
          292,
          293,
          294,
          295,
          296,
          297,
          298,
          299,
          300,
          301,
          302,
          303,
          304,
          305,
          306,
          307,
          308,
          309,
          310,
          311,
          312,
          313,
          314,
          315,
          316,
          317,
          318,
          319,
          320,
          321,
          322,
          323,
          324,
          325,
          326,
          327,
          328,
          329,
          330,
          331,
          332,
          333,
          334,
          335,
          336,
          337,
          338,
          339,
          340,
          341,
          342,
          343,
          344,
          345,
          346,
          347,
          348,
          349,
          350,
          351,
          352,
          353,
          354,
          355,
          356,
          357,
          358,
          359,
          360,
          361,
          362,
          363,
          364,
          365,
          366,
          367,
          368,
          369,
          370,
          371,
          372,
          373,
          374,
          375,
          376,
          377
         ],
         "xaxis": "x",
         "y": [
          -37015.24943018504,
          15943.634426315384,
          -7778.9358887948765,
          -6550.367147396343,
          -2976.328687389383,
          -1175.9746105221325,
          -149.1917387211572,
          -9762.480997426934,
          -1844.876030521874,
          6815.632720687546,
          9316.779354073446,
          2126.6045205771034,
          -15493.818544233163,
          33346.55988369502,
          7034.438994480496,
          -1462.0499732256746,
          7722.115272168139,
          26687.22193864437,
          -17452.719098725254,
          -7242.79747116023,
          4479.3106283441375,
          -513.2566542767734,
          30418.315329963832,
          1234.8923930901492,
          -7277.964639183039,
          13858.777608015715,
          -13635.4761838613,
          11693.51140033956,
          14851.36577854118,
          -15782.506052679564,
          -5610.619371534909,
          -2679.315019629001,
          14339.293872489037,
          16961.52806231484,
          -715.9057977778787,
          -9065.731544831579,
          -16453.885505618102,
          -13271.322232012097,
          -5363.447852371138,
          279.08252133295264,
          6600.979727382992,
          -2609.793630395359,
          6888.707296796326,
          11071.825660311304,
          13695.801359043657,
          4779.246466852783,
          -42986.810157678236,
          15378.134601086571,
          17894.286686512885,
          6360.73206890893,
          7498.747636461218,
          17455.77622891892,
          13983.308639619338,
          1668.6225789695186,
          16739.722604596238,
          9760.187318580136,
          1375.910531900928,
          -18605.305901101387,
          9636.071711220864,
          -12328.338631195209,
          -12964.597286668122,
          13227.192086318637,
          -30.01610102538166,
          26005.920221180786,
          729.5401727995454,
          5741.915968243944,
          -2323.024255591946,
          1468.297501762578,
          11428.871673471036,
          -15049.715040575024,
          5112.870197433977,
          7357.436046404132,
          9555.817507108599,
          -7653.488896823632,
          -969.7086200020237,
          12765.280987538972,
          2993.535019250544,
          7444.31684934969,
          -16144.731926898088,
          -33834.23403450013,
          6731.136058571878,
          -17740.955443607843,
          -11206.963420356715,
          8796.080318334447,
          11604.364469639477,
          -9330.406217901555,
          10133.95062470741,
          -6763.615571441789,
          16359.098165024534,
          10371.687012922279,
          -7260.752621530656,
          -6820.853273020645,
          -8101.7904285496625,
          -11339.307351282769,
          -18788.391177607424,
          5857.941041396743,
          -17309.893358398112,
          -4315.856018122958,
          -3399.038457494612,
          638.7200587349469,
          -12012.026005423564,
          -14640.957099019488,
          -12261.204549972803,
          3620.972403841847,
          -20663.249102310772,
          -2455.262847475154,
          0,
          -4464.7434190736985,
          -8605.084303499865,
          7246.4328778631,
          12457.471439920822,
          -11610.844823172896,
          4894.731871642363,
          -7298.385231519916,
          522.5602190015195,
          -7249.124739184964,
          2111.3224426233896,
          3308.2282805363548,
          -363.59157624556815,
          -2635.6953108497405,
          -3323.5838594110305,
          8249.737168299276,
          14296.795791857789,
          2437.901624014813,
          881.2519337828633,
          6174.924288786911,
          1135.0969776341913,
          8060.92880787341,
          8117.179861675794,
          -10126.843898833215,
          8911.54773799991,
          -6079.358734975414,
          -1299.5483852745338,
          2541.8356094183423,
          2534.3719169435417,
          4687.951999095702,
          -3338.1973723715814,
          1843.4008701395896,
          -3652.0340971635787,
          -16445.96138258905,
          10797.159637300012,
          -12507.402986336501,
          -6682.81499044997,
          10423.963264466436,
          -6013.634949410004,
          -5680.974076169946,
          5768.900271019902,
          6472.3348692562295,
          466.7124036857615,
          7673.472934561886,
          12745.318418516546,
          0,
          -162.57866578709468,
          3320.577594565748,
          3827.5879914787934,
          -7117.953847176238,
          0,
          -2929.7890616022923,
          0,
          0,
          0,
          -681.0142775702843,
          3317.056915517213,
          -3289.439440784207,
          0,
          3282.990197698183,
          0,
          0,
          0,
          0,
          0,
          0,
          0,
          0,
          0,
          0,
          0,
          0,
          0,
          0,
          0,
          0,
          0,
          0,
          0,
          0,
          -3095.321713890087,
          0,
          0,
          0,
          0,
          0,
          0,
          0,
          0,
          0,
          0,
          0,
          0,
          0,
          0,
          0,
          0,
          0,
          0,
          0,
          0,
          0,
          0,
          0,
          0,
          0,
          0,
          0,
          0,
          0,
          0,
          0,
          0,
          0,
          0,
          0,
          0,
          0,
          0,
          0,
          0,
          0,
          0,
          0,
          0,
          0,
          0,
          0,
          0,
          0,
          0,
          0,
          0,
          0,
          0,
          0,
          0,
          0,
          0,
          0,
          0,
          0,
          0,
          0,
          0,
          0,
          0,
          0,
          0,
          0,
          0,
          0,
          0,
          0,
          0,
          0,
          0,
          0,
          0,
          0,
          0,
          0,
          0,
          0,
          0,
          0,
          0,
          0,
          0,
          0,
          0,
          0,
          0,
          0,
          0,
          0,
          0,
          0,
          0,
          0,
          0,
          0,
          0,
          0,
          0,
          0,
          0,
          0,
          0,
          0,
          0,
          0,
          0,
          0,
          0,
          0,
          0,
          0,
          0,
          0,
          0,
          0,
          0,
          0,
          0,
          0,
          0,
          0,
          0,
          0,
          0,
          0,
          0,
          0,
          0,
          0,
          0,
          0,
          0,
          0,
          0,
          0,
          0,
          0,
          0,
          0,
          0,
          0,
          0,
          0,
          0,
          0,
          0,
          0,
          0,
          0,
          0,
          0,
          0,
          0,
          0,
          0,
          0,
          0,
          0,
          0,
          0,
          0,
          0,
          0,
          0,
          0,
          0,
          0,
          0,
          0,
          0,
          0,
          0,
          0,
          0,
          0,
          0,
          0,
          0,
          0,
          0,
          0,
          0,
          0,
          0,
          0
         ],
         "yaxis": "y"
        }
       ],
       "layout": {
        "legend": {
         "tracegroupgap": 0
        },
        "margin": {
         "t": 60
        },
        "template": {
         "data": {
          "bar": [
           {
            "error_x": {
             "color": "#2a3f5f"
            },
            "error_y": {
             "color": "#2a3f5f"
            },
            "marker": {
             "line": {
              "color": "#E5ECF6",
              "width": 0.5
             },
             "pattern": {
              "fillmode": "overlay",
              "size": 10,
              "solidity": 0.2
             }
            },
            "type": "bar"
           }
          ],
          "barpolar": [
           {
            "marker": {
             "line": {
              "color": "#E5ECF6",
              "width": 0.5
             },
             "pattern": {
              "fillmode": "overlay",
              "size": 10,
              "solidity": 0.2
             }
            },
            "type": "barpolar"
           }
          ],
          "carpet": [
           {
            "aaxis": {
             "endlinecolor": "#2a3f5f",
             "gridcolor": "white",
             "linecolor": "white",
             "minorgridcolor": "white",
             "startlinecolor": "#2a3f5f"
            },
            "baxis": {
             "endlinecolor": "#2a3f5f",
             "gridcolor": "white",
             "linecolor": "white",
             "minorgridcolor": "white",
             "startlinecolor": "#2a3f5f"
            },
            "type": "carpet"
           }
          ],
          "choropleth": [
           {
            "colorbar": {
             "outlinewidth": 0,
             "ticks": ""
            },
            "type": "choropleth"
           }
          ],
          "contour": [
           {
            "colorbar": {
             "outlinewidth": 0,
             "ticks": ""
            },
            "colorscale": [
             [
              0,
              "#0d0887"
             ],
             [
              0.1111111111111111,
              "#46039f"
             ],
             [
              0.2222222222222222,
              "#7201a8"
             ],
             [
              0.3333333333333333,
              "#9c179e"
             ],
             [
              0.4444444444444444,
              "#bd3786"
             ],
             [
              0.5555555555555556,
              "#d8576b"
             ],
             [
              0.6666666666666666,
              "#ed7953"
             ],
             [
              0.7777777777777778,
              "#fb9f3a"
             ],
             [
              0.8888888888888888,
              "#fdca26"
             ],
             [
              1,
              "#f0f921"
             ]
            ],
            "type": "contour"
           }
          ],
          "contourcarpet": [
           {
            "colorbar": {
             "outlinewidth": 0,
             "ticks": ""
            },
            "type": "contourcarpet"
           }
          ],
          "heatmap": [
           {
            "colorbar": {
             "outlinewidth": 0,
             "ticks": ""
            },
            "colorscale": [
             [
              0,
              "#0d0887"
             ],
             [
              0.1111111111111111,
              "#46039f"
             ],
             [
              0.2222222222222222,
              "#7201a8"
             ],
             [
              0.3333333333333333,
              "#9c179e"
             ],
             [
              0.4444444444444444,
              "#bd3786"
             ],
             [
              0.5555555555555556,
              "#d8576b"
             ],
             [
              0.6666666666666666,
              "#ed7953"
             ],
             [
              0.7777777777777778,
              "#fb9f3a"
             ],
             [
              0.8888888888888888,
              "#fdca26"
             ],
             [
              1,
              "#f0f921"
             ]
            ],
            "type": "heatmap"
           }
          ],
          "heatmapgl": [
           {
            "colorbar": {
             "outlinewidth": 0,
             "ticks": ""
            },
            "colorscale": [
             [
              0,
              "#0d0887"
             ],
             [
              0.1111111111111111,
              "#46039f"
             ],
             [
              0.2222222222222222,
              "#7201a8"
             ],
             [
              0.3333333333333333,
              "#9c179e"
             ],
             [
              0.4444444444444444,
              "#bd3786"
             ],
             [
              0.5555555555555556,
              "#d8576b"
             ],
             [
              0.6666666666666666,
              "#ed7953"
             ],
             [
              0.7777777777777778,
              "#fb9f3a"
             ],
             [
              0.8888888888888888,
              "#fdca26"
             ],
             [
              1,
              "#f0f921"
             ]
            ],
            "type": "heatmapgl"
           }
          ],
          "histogram": [
           {
            "marker": {
             "pattern": {
              "fillmode": "overlay",
              "size": 10,
              "solidity": 0.2
             }
            },
            "type": "histogram"
           }
          ],
          "histogram2d": [
           {
            "colorbar": {
             "outlinewidth": 0,
             "ticks": ""
            },
            "colorscale": [
             [
              0,
              "#0d0887"
             ],
             [
              0.1111111111111111,
              "#46039f"
             ],
             [
              0.2222222222222222,
              "#7201a8"
             ],
             [
              0.3333333333333333,
              "#9c179e"
             ],
             [
              0.4444444444444444,
              "#bd3786"
             ],
             [
              0.5555555555555556,
              "#d8576b"
             ],
             [
              0.6666666666666666,
              "#ed7953"
             ],
             [
              0.7777777777777778,
              "#fb9f3a"
             ],
             [
              0.8888888888888888,
              "#fdca26"
             ],
             [
              1,
              "#f0f921"
             ]
            ],
            "type": "histogram2d"
           }
          ],
          "histogram2dcontour": [
           {
            "colorbar": {
             "outlinewidth": 0,
             "ticks": ""
            },
            "colorscale": [
             [
              0,
              "#0d0887"
             ],
             [
              0.1111111111111111,
              "#46039f"
             ],
             [
              0.2222222222222222,
              "#7201a8"
             ],
             [
              0.3333333333333333,
              "#9c179e"
             ],
             [
              0.4444444444444444,
              "#bd3786"
             ],
             [
              0.5555555555555556,
              "#d8576b"
             ],
             [
              0.6666666666666666,
              "#ed7953"
             ],
             [
              0.7777777777777778,
              "#fb9f3a"
             ],
             [
              0.8888888888888888,
              "#fdca26"
             ],
             [
              1,
              "#f0f921"
             ]
            ],
            "type": "histogram2dcontour"
           }
          ],
          "mesh3d": [
           {
            "colorbar": {
             "outlinewidth": 0,
             "ticks": ""
            },
            "type": "mesh3d"
           }
          ],
          "parcoords": [
           {
            "line": {
             "colorbar": {
              "outlinewidth": 0,
              "ticks": ""
             }
            },
            "type": "parcoords"
           }
          ],
          "pie": [
           {
            "automargin": true,
            "type": "pie"
           }
          ],
          "scatter": [
           {
            "marker": {
             "colorbar": {
              "outlinewidth": 0,
              "ticks": ""
             }
            },
            "type": "scatter"
           }
          ],
          "scatter3d": [
           {
            "line": {
             "colorbar": {
              "outlinewidth": 0,
              "ticks": ""
             }
            },
            "marker": {
             "colorbar": {
              "outlinewidth": 0,
              "ticks": ""
             }
            },
            "type": "scatter3d"
           }
          ],
          "scattercarpet": [
           {
            "marker": {
             "colorbar": {
              "outlinewidth": 0,
              "ticks": ""
             }
            },
            "type": "scattercarpet"
           }
          ],
          "scattergeo": [
           {
            "marker": {
             "colorbar": {
              "outlinewidth": 0,
              "ticks": ""
             }
            },
            "type": "scattergeo"
           }
          ],
          "scattergl": [
           {
            "marker": {
             "colorbar": {
              "outlinewidth": 0,
              "ticks": ""
             }
            },
            "type": "scattergl"
           }
          ],
          "scattermapbox": [
           {
            "marker": {
             "colorbar": {
              "outlinewidth": 0,
              "ticks": ""
             }
            },
            "type": "scattermapbox"
           }
          ],
          "scatterpolar": [
           {
            "marker": {
             "colorbar": {
              "outlinewidth": 0,
              "ticks": ""
             }
            },
            "type": "scatterpolar"
           }
          ],
          "scatterpolargl": [
           {
            "marker": {
             "colorbar": {
              "outlinewidth": 0,
              "ticks": ""
             }
            },
            "type": "scatterpolargl"
           }
          ],
          "scatterternary": [
           {
            "marker": {
             "colorbar": {
              "outlinewidth": 0,
              "ticks": ""
             }
            },
            "type": "scatterternary"
           }
          ],
          "surface": [
           {
            "colorbar": {
             "outlinewidth": 0,
             "ticks": ""
            },
            "colorscale": [
             [
              0,
              "#0d0887"
             ],
             [
              0.1111111111111111,
              "#46039f"
             ],
             [
              0.2222222222222222,
              "#7201a8"
             ],
             [
              0.3333333333333333,
              "#9c179e"
             ],
             [
              0.4444444444444444,
              "#bd3786"
             ],
             [
              0.5555555555555556,
              "#d8576b"
             ],
             [
              0.6666666666666666,
              "#ed7953"
             ],
             [
              0.7777777777777778,
              "#fb9f3a"
             ],
             [
              0.8888888888888888,
              "#fdca26"
             ],
             [
              1,
              "#f0f921"
             ]
            ],
            "type": "surface"
           }
          ],
          "table": [
           {
            "cells": {
             "fill": {
              "color": "#EBF0F8"
             },
             "line": {
              "color": "white"
             }
            },
            "header": {
             "fill": {
              "color": "#C8D4E3"
             },
             "line": {
              "color": "white"
             }
            },
            "type": "table"
           }
          ]
         },
         "layout": {
          "annotationdefaults": {
           "arrowcolor": "#2a3f5f",
           "arrowhead": 0,
           "arrowwidth": 1
          },
          "autotypenumbers": "strict",
          "coloraxis": {
           "colorbar": {
            "outlinewidth": 0,
            "ticks": ""
           }
          },
          "colorscale": {
           "diverging": [
            [
             0,
             "#8e0152"
            ],
            [
             0.1,
             "#c51b7d"
            ],
            [
             0.2,
             "#de77ae"
            ],
            [
             0.3,
             "#f1b6da"
            ],
            [
             0.4,
             "#fde0ef"
            ],
            [
             0.5,
             "#f7f7f7"
            ],
            [
             0.6,
             "#e6f5d0"
            ],
            [
             0.7,
             "#b8e186"
            ],
            [
             0.8,
             "#7fbc41"
            ],
            [
             0.9,
             "#4d9221"
            ],
            [
             1,
             "#276419"
            ]
           ],
           "sequential": [
            [
             0,
             "#0d0887"
            ],
            [
             0.1111111111111111,
             "#46039f"
            ],
            [
             0.2222222222222222,
             "#7201a8"
            ],
            [
             0.3333333333333333,
             "#9c179e"
            ],
            [
             0.4444444444444444,
             "#bd3786"
            ],
            [
             0.5555555555555556,
             "#d8576b"
            ],
            [
             0.6666666666666666,
             "#ed7953"
            ],
            [
             0.7777777777777778,
             "#fb9f3a"
            ],
            [
             0.8888888888888888,
             "#fdca26"
            ],
            [
             1,
             "#f0f921"
            ]
           ],
           "sequentialminus": [
            [
             0,
             "#0d0887"
            ],
            [
             0.1111111111111111,
             "#46039f"
            ],
            [
             0.2222222222222222,
             "#7201a8"
            ],
            [
             0.3333333333333333,
             "#9c179e"
            ],
            [
             0.4444444444444444,
             "#bd3786"
            ],
            [
             0.5555555555555556,
             "#d8576b"
            ],
            [
             0.6666666666666666,
             "#ed7953"
            ],
            [
             0.7777777777777778,
             "#fb9f3a"
            ],
            [
             0.8888888888888888,
             "#fdca26"
            ],
            [
             1,
             "#f0f921"
            ]
           ]
          },
          "colorway": [
           "#636efa",
           "#EF553B",
           "#00cc96",
           "#ab63fa",
           "#FFA15A",
           "#19d3f3",
           "#FF6692",
           "#B6E880",
           "#FF97FF",
           "#FECB52"
          ],
          "font": {
           "color": "#2a3f5f"
          },
          "geo": {
           "bgcolor": "white",
           "lakecolor": "white",
           "landcolor": "#E5ECF6",
           "showlakes": true,
           "showland": true,
           "subunitcolor": "white"
          },
          "hoverlabel": {
           "align": "left"
          },
          "hovermode": "closest",
          "mapbox": {
           "style": "light"
          },
          "paper_bgcolor": "white",
          "plot_bgcolor": "#E5ECF6",
          "polar": {
           "angularaxis": {
            "gridcolor": "white",
            "linecolor": "white",
            "ticks": ""
           },
           "bgcolor": "#E5ECF6",
           "radialaxis": {
            "gridcolor": "white",
            "linecolor": "white",
            "ticks": ""
           }
          },
          "scene": {
           "xaxis": {
            "backgroundcolor": "#E5ECF6",
            "gridcolor": "white",
            "gridwidth": 2,
            "linecolor": "white",
            "showbackground": true,
            "ticks": "",
            "zerolinecolor": "white"
           },
           "yaxis": {
            "backgroundcolor": "#E5ECF6",
            "gridcolor": "white",
            "gridwidth": 2,
            "linecolor": "white",
            "showbackground": true,
            "ticks": "",
            "zerolinecolor": "white"
           },
           "zaxis": {
            "backgroundcolor": "#E5ECF6",
            "gridcolor": "white",
            "gridwidth": 2,
            "linecolor": "white",
            "showbackground": true,
            "ticks": "",
            "zerolinecolor": "white"
           }
          },
          "shapedefaults": {
           "line": {
            "color": "#2a3f5f"
           }
          },
          "ternary": {
           "aaxis": {
            "gridcolor": "white",
            "linecolor": "white",
            "ticks": ""
           },
           "baxis": {
            "gridcolor": "white",
            "linecolor": "white",
            "ticks": ""
           },
           "bgcolor": "#E5ECF6",
           "caxis": {
            "gridcolor": "white",
            "linecolor": "white",
            "ticks": ""
           }
          },
          "title": {
           "x": 0.05
          },
          "xaxis": {
           "automargin": true,
           "gridcolor": "white",
           "linecolor": "white",
           "ticks": "",
           "title": {
            "standoff": 15
           },
           "zerolinecolor": "white",
           "zerolinewidth": 2
          },
          "yaxis": {
           "automargin": true,
           "gridcolor": "white",
           "linecolor": "white",
           "ticks": "",
           "title": {
            "standoff": 15
           },
           "zerolinecolor": "white",
           "zerolinewidth": 2
          }
         }
        },
        "xaxis": {
         "anchor": "y",
         "domain": [
          0,
          1
         ],
         "title": {
          "text": "index"
         }
        },
        "yaxis": {
         "anchor": "x",
         "domain": [
          0,
          1
         ],
         "title": {
          "text": "Delta"
         }
        }
       }
      }
     },
     "metadata": {},
     "output_type": "display_data"
    }
   ],
   "source": [
    "px.line(greeks_df, y=\"Delta\")"
   ]
  },
  {
   "cell_type": "markdown",
   "metadata": {},
   "source": [
    "### Gamma"
   ]
  },
  {
   "cell_type": "code",
   "execution_count": 27,
   "metadata": {},
   "outputs": [
    {
     "data": {
      "application/vnd.plotly.v1+json": {
       "config": {
        "plotlyServerURL": "https://plot.ly"
       },
       "data": [
        {
         "hovertemplate": "index=%{x}<br>Gamma=%{y}<extra></extra>",
         "legendgroup": "",
         "line": {
          "color": "#636efa",
          "dash": "solid"
         },
         "marker": {
          "symbol": "circle"
         },
         "mode": "lines",
         "name": "",
         "orientation": "v",
         "showlegend": false,
         "type": "scatter",
         "x": [
          0,
          1,
          2,
          3,
          4,
          5,
          6,
          7,
          8,
          9,
          10,
          11,
          12,
          13,
          14,
          15,
          16,
          17,
          18,
          19,
          20,
          21,
          22,
          23,
          24,
          25,
          26,
          27,
          28,
          29,
          30,
          31,
          32,
          33,
          34,
          35,
          36,
          37,
          38,
          39,
          40,
          41,
          42,
          43,
          44,
          45,
          46,
          47,
          48,
          49,
          50,
          51,
          52,
          53,
          54,
          55,
          56,
          57,
          58,
          59,
          60,
          61,
          62,
          63,
          64,
          65,
          66,
          67,
          68,
          69,
          70,
          71,
          72,
          73,
          74,
          75,
          76,
          77,
          78,
          79,
          80,
          81,
          82,
          83,
          84,
          85,
          86,
          87,
          88,
          89,
          90,
          91,
          92,
          93,
          94,
          95,
          96,
          97,
          98,
          99,
          100,
          101,
          102,
          103,
          104,
          105,
          106,
          107,
          108,
          109,
          110,
          111,
          112,
          113,
          114,
          115,
          116,
          117,
          118,
          119,
          120,
          121,
          122,
          123,
          124,
          125,
          126,
          127,
          128,
          129,
          130,
          131,
          132,
          133,
          134,
          135,
          136,
          137,
          138,
          139,
          140,
          141,
          142,
          143,
          144,
          145,
          146,
          147,
          148,
          149,
          150,
          151,
          152,
          153,
          154,
          155,
          156,
          157,
          158,
          159,
          160,
          161,
          162,
          163,
          164,
          165,
          166,
          167,
          168,
          169,
          170,
          171,
          172,
          173,
          174,
          175,
          176,
          177,
          178,
          179,
          180,
          181,
          182,
          183,
          184,
          185,
          186,
          187,
          188,
          189,
          190,
          191,
          192,
          193,
          194,
          195,
          196,
          197,
          198,
          199,
          200,
          201,
          202,
          203,
          204,
          205,
          206,
          207,
          208,
          209,
          210,
          211,
          212,
          213,
          214,
          215,
          216,
          217,
          218,
          219,
          220,
          221,
          222,
          223,
          224,
          225,
          226,
          227,
          228,
          229,
          230,
          231,
          232,
          233,
          234,
          235,
          236,
          237,
          238,
          239,
          240,
          241,
          242,
          243,
          244,
          245,
          246,
          247,
          248,
          249,
          250,
          251,
          252,
          253,
          254,
          255,
          256,
          257,
          258,
          259,
          260,
          261,
          262,
          263,
          264,
          265,
          266,
          267,
          268,
          269,
          270,
          271,
          272,
          273,
          274,
          275,
          276,
          277,
          278,
          279,
          280,
          281,
          282,
          283,
          284,
          285,
          286,
          287,
          288,
          289,
          290,
          291,
          292,
          293,
          294,
          295,
          296,
          297,
          298,
          299,
          300,
          301,
          302,
          303,
          304,
          305,
          306,
          307,
          308,
          309,
          310,
          311,
          312,
          313,
          314,
          315,
          316,
          317,
          318,
          319,
          320,
          321,
          322,
          323,
          324,
          325,
          326,
          327,
          328,
          329,
          330,
          331,
          332,
          333,
          334,
          335,
          336,
          337,
          338,
          339,
          340,
          341,
          342,
          343,
          344,
          345,
          346,
          347,
          348,
          349,
          350,
          351,
          352,
          353,
          354,
          355,
          356,
          357,
          358,
          359,
          360,
          361,
          362,
          363,
          364,
          365,
          366,
          367,
          368,
          369,
          370,
          371,
          372,
          373,
          374,
          375,
          376,
          377
         ],
         "xaxis": "x",
         "y": [
          -20567140.888223633,
          34608618.552820705,
          -35777529.14168264,
          -2137783.4950679927,
          -34452834.452049136,
          -23026370.518742796,
          12321416.183111098,
          -17432921.247867085,
          -16982962.46868253,
          -11894857.434863327,
          6608964.835343386,
          -6851298.8401109,
          27245174.408953376,
          13864306.796579286,
          -35346876.46924672,
          -17992058.626532555,
          30169994.372015823,
          -21415811.423959497,
          24839287.98633201,
          -20736364.304158118,
          -55019563.2553733,
          -18394496.72489414,
          -15166606.852766223,
          -18942627.880048804,
          15890787.67145594,
          51387266.41396482,
          -4872324.040776363,
          -41553169.34661346,
          -73956647.68711668,
          49773.571112524456,
          37766576.32785063,
          12964812.361405024,
          -42992634.96853869,
          2397068.469158882,
          -10505482.85202254,
          -2743026.166345658,
          -46253290.33396438,
          -12112715.225935517,
          13962841.248602133,
          -46228163.78428456,
          23754697.33408454,
          2398635.1850409736,
          -32036958.373855725,
          36501176.83687651,
          48671838.87972542,
          7906882.900001904,
          -1612571.669017882,
          -14141824.191579077,
          -38015520.35541289,
          17244140.629106086,
          13250351.761270594,
          -31555134.38871623,
          -12283089.915987376,
          -28919111.17525558,
          -8288708.792910086,
          -12624637.67814623,
          22182682.77464162,
          -24917727.91639099,
          34560688.390714206,
          -7860288.312256615,
          45734764.59187581,
          2167110.759879137,
          4169421.156465973,
          -13977480.779643742,
          -16511805.617766129,
          -1834363.6557665663,
          32329434.93574456,
          -3294114.428103427,
          59150930.14243039,
          5973127.652370323,
          -40549995.106246315,
          40923812.33617096,
          10778254.421752252,
          -3558947.1081979983,
          -21270230.119203433,
          15056584.028491842,
          16089793.062487388,
          15230211.574912602,
          2610456.504570436,
          3320421.6051409505,
          50455868.55806099,
          7150950.6379914,
          -36820779.02450291,
          -17773981.15776677,
          9399270.70748908,
          33954629.172731474,
          20541881.38061332,
          -550661.2962147415,
          -23539121.648254197,
          -20625326.053960692,
          -41128308.67544261,
          8983939.658921203,
          10254195.30909241,
          14579575.742647847,
          -49029288.427722156,
          5563183.250169885,
          -10677024.845576767,
          -25123112.175712407,
          6339185.187234136,
          19454713.743544035,
          -19251980.793476094,
          -12403879.983858531,
          24179106.712834682,
          -11187816.067163624,
          10266688.438512916,
          -291897.5455761199,
          17406236.214780506,
          -1379421.4955278507,
          7562292.818252815,
          -12717960.136751544,
          11613836.326140359,
          -12997426.826312022,
          -4218808.034580775,
          6708410.943226483,
          -10002.972380362962,
          -28380709.889309857,
          -20799317.93882844,
          -5181824.61135433,
          -20757507.024217546,
          6548760.091154151,
          14734692.055774987,
          -14209243.962254135,
          15383666.616090182,
          3070579.889729373,
          2816703.1048572254,
          5245297.538891379,
          -5986409.738821692,
          -34883853.44384056,
          10196281.504537154,
          15320504.480979083,
          20039107.577708762,
          -7376157.534601874,
          4981425.9271358885,
          -11547149.663231835,
          33363931.693199504,
          991004.2577856473,
          -17695203.346694373,
          10551220.700311774,
          -2596019.342363917,
          7409605.074066377,
          -11068039.754678922,
          11193612.798913023,
          -7741856.521026136,
          -1976212.4073108966,
          -17931714.00816246,
          1623392.3434508028,
          -2743416.318744835,
          -6004264.191171757,
          -6389368.697098149,
          -28177356.16231275,
          -1371053.7666770506,
          7030073.930759784,
          1476257.484562865,
          4195888.455254533,
          -5465386.151934042,
          -7117953.847176239,
          6213982.686271948,
          5759531.268759162,
          5820350.288485941,
          6618150.821912764,
          0,
          -686825.7285431696,
          -3317056.9155172133,
          -3289439.440784207,
          0,
          -3282990.1976981834,
          0,
          0,
          0,
          0,
          0,
          0,
          0,
          0,
          0,
          0,
          0,
          0,
          0,
          0,
          6920237.383666632,
          7108375.729847296,
          0,
          0,
          0,
          0,
          -3095321.713890087,
          0,
          0,
          0,
          0,
          0,
          0,
          0,
          0,
          0,
          0,
          0,
          0,
          0,
          0,
          6683700.003726586,
          0,
          0,
          0,
          0,
          0,
          0,
          0,
          0,
          0,
          0,
          0,
          0,
          0,
          0,
          0,
          0,
          0,
          0,
          0,
          0,
          0,
          0,
          0,
          0,
          0,
          0,
          0,
          0,
          0,
          0,
          0,
          0,
          0,
          0,
          0,
          0,
          0,
          0,
          0,
          0,
          0,
          0,
          0,
          0,
          0,
          0,
          0,
          0,
          0,
          0,
          0,
          0,
          0,
          0,
          0,
          0,
          0,
          0,
          0,
          0,
          0,
          0,
          0,
          0,
          0,
          0,
          0,
          0,
          0,
          0,
          0,
          0,
          0,
          0,
          0,
          0,
          0,
          0,
          0,
          0,
          0,
          0,
          0,
          0,
          0,
          0,
          0,
          0,
          0,
          0,
          0,
          0,
          0,
          0,
          0,
          0,
          0,
          0,
          0,
          0,
          0,
          0,
          0,
          0,
          0,
          0,
          0,
          0,
          0,
          0,
          0,
          0,
          0,
          0,
          0,
          0,
          0,
          0,
          0,
          0,
          0,
          0,
          0,
          0,
          0,
          0,
          0,
          0,
          0,
          0,
          0,
          0,
          0,
          0,
          0,
          0,
          0,
          0,
          0,
          0,
          0,
          0,
          0,
          0,
          0,
          0,
          0,
          0,
          0,
          0,
          0,
          0,
          0,
          0,
          0,
          0,
          0,
          0,
          0,
          0,
          0,
          0,
          0,
          0,
          0,
          0,
          0,
          0,
          0,
          0,
          0,
          0,
          0,
          0,
          0,
          0
         ],
         "yaxis": "y"
        }
       ],
       "layout": {
        "legend": {
         "tracegroupgap": 0
        },
        "margin": {
         "t": 60
        },
        "template": {
         "data": {
          "bar": [
           {
            "error_x": {
             "color": "#2a3f5f"
            },
            "error_y": {
             "color": "#2a3f5f"
            },
            "marker": {
             "line": {
              "color": "#E5ECF6",
              "width": 0.5
             },
             "pattern": {
              "fillmode": "overlay",
              "size": 10,
              "solidity": 0.2
             }
            },
            "type": "bar"
           }
          ],
          "barpolar": [
           {
            "marker": {
             "line": {
              "color": "#E5ECF6",
              "width": 0.5
             },
             "pattern": {
              "fillmode": "overlay",
              "size": 10,
              "solidity": 0.2
             }
            },
            "type": "barpolar"
           }
          ],
          "carpet": [
           {
            "aaxis": {
             "endlinecolor": "#2a3f5f",
             "gridcolor": "white",
             "linecolor": "white",
             "minorgridcolor": "white",
             "startlinecolor": "#2a3f5f"
            },
            "baxis": {
             "endlinecolor": "#2a3f5f",
             "gridcolor": "white",
             "linecolor": "white",
             "minorgridcolor": "white",
             "startlinecolor": "#2a3f5f"
            },
            "type": "carpet"
           }
          ],
          "choropleth": [
           {
            "colorbar": {
             "outlinewidth": 0,
             "ticks": ""
            },
            "type": "choropleth"
           }
          ],
          "contour": [
           {
            "colorbar": {
             "outlinewidth": 0,
             "ticks": ""
            },
            "colorscale": [
             [
              0,
              "#0d0887"
             ],
             [
              0.1111111111111111,
              "#46039f"
             ],
             [
              0.2222222222222222,
              "#7201a8"
             ],
             [
              0.3333333333333333,
              "#9c179e"
             ],
             [
              0.4444444444444444,
              "#bd3786"
             ],
             [
              0.5555555555555556,
              "#d8576b"
             ],
             [
              0.6666666666666666,
              "#ed7953"
             ],
             [
              0.7777777777777778,
              "#fb9f3a"
             ],
             [
              0.8888888888888888,
              "#fdca26"
             ],
             [
              1,
              "#f0f921"
             ]
            ],
            "type": "contour"
           }
          ],
          "contourcarpet": [
           {
            "colorbar": {
             "outlinewidth": 0,
             "ticks": ""
            },
            "type": "contourcarpet"
           }
          ],
          "heatmap": [
           {
            "colorbar": {
             "outlinewidth": 0,
             "ticks": ""
            },
            "colorscale": [
             [
              0,
              "#0d0887"
             ],
             [
              0.1111111111111111,
              "#46039f"
             ],
             [
              0.2222222222222222,
              "#7201a8"
             ],
             [
              0.3333333333333333,
              "#9c179e"
             ],
             [
              0.4444444444444444,
              "#bd3786"
             ],
             [
              0.5555555555555556,
              "#d8576b"
             ],
             [
              0.6666666666666666,
              "#ed7953"
             ],
             [
              0.7777777777777778,
              "#fb9f3a"
             ],
             [
              0.8888888888888888,
              "#fdca26"
             ],
             [
              1,
              "#f0f921"
             ]
            ],
            "type": "heatmap"
           }
          ],
          "heatmapgl": [
           {
            "colorbar": {
             "outlinewidth": 0,
             "ticks": ""
            },
            "colorscale": [
             [
              0,
              "#0d0887"
             ],
             [
              0.1111111111111111,
              "#46039f"
             ],
             [
              0.2222222222222222,
              "#7201a8"
             ],
             [
              0.3333333333333333,
              "#9c179e"
             ],
             [
              0.4444444444444444,
              "#bd3786"
             ],
             [
              0.5555555555555556,
              "#d8576b"
             ],
             [
              0.6666666666666666,
              "#ed7953"
             ],
             [
              0.7777777777777778,
              "#fb9f3a"
             ],
             [
              0.8888888888888888,
              "#fdca26"
             ],
             [
              1,
              "#f0f921"
             ]
            ],
            "type": "heatmapgl"
           }
          ],
          "histogram": [
           {
            "marker": {
             "pattern": {
              "fillmode": "overlay",
              "size": 10,
              "solidity": 0.2
             }
            },
            "type": "histogram"
           }
          ],
          "histogram2d": [
           {
            "colorbar": {
             "outlinewidth": 0,
             "ticks": ""
            },
            "colorscale": [
             [
              0,
              "#0d0887"
             ],
             [
              0.1111111111111111,
              "#46039f"
             ],
             [
              0.2222222222222222,
              "#7201a8"
             ],
             [
              0.3333333333333333,
              "#9c179e"
             ],
             [
              0.4444444444444444,
              "#bd3786"
             ],
             [
              0.5555555555555556,
              "#d8576b"
             ],
             [
              0.6666666666666666,
              "#ed7953"
             ],
             [
              0.7777777777777778,
              "#fb9f3a"
             ],
             [
              0.8888888888888888,
              "#fdca26"
             ],
             [
              1,
              "#f0f921"
             ]
            ],
            "type": "histogram2d"
           }
          ],
          "histogram2dcontour": [
           {
            "colorbar": {
             "outlinewidth": 0,
             "ticks": ""
            },
            "colorscale": [
             [
              0,
              "#0d0887"
             ],
             [
              0.1111111111111111,
              "#46039f"
             ],
             [
              0.2222222222222222,
              "#7201a8"
             ],
             [
              0.3333333333333333,
              "#9c179e"
             ],
             [
              0.4444444444444444,
              "#bd3786"
             ],
             [
              0.5555555555555556,
              "#d8576b"
             ],
             [
              0.6666666666666666,
              "#ed7953"
             ],
             [
              0.7777777777777778,
              "#fb9f3a"
             ],
             [
              0.8888888888888888,
              "#fdca26"
             ],
             [
              1,
              "#f0f921"
             ]
            ],
            "type": "histogram2dcontour"
           }
          ],
          "mesh3d": [
           {
            "colorbar": {
             "outlinewidth": 0,
             "ticks": ""
            },
            "type": "mesh3d"
           }
          ],
          "parcoords": [
           {
            "line": {
             "colorbar": {
              "outlinewidth": 0,
              "ticks": ""
             }
            },
            "type": "parcoords"
           }
          ],
          "pie": [
           {
            "automargin": true,
            "type": "pie"
           }
          ],
          "scatter": [
           {
            "marker": {
             "colorbar": {
              "outlinewidth": 0,
              "ticks": ""
             }
            },
            "type": "scatter"
           }
          ],
          "scatter3d": [
           {
            "line": {
             "colorbar": {
              "outlinewidth": 0,
              "ticks": ""
             }
            },
            "marker": {
             "colorbar": {
              "outlinewidth": 0,
              "ticks": ""
             }
            },
            "type": "scatter3d"
           }
          ],
          "scattercarpet": [
           {
            "marker": {
             "colorbar": {
              "outlinewidth": 0,
              "ticks": ""
             }
            },
            "type": "scattercarpet"
           }
          ],
          "scattergeo": [
           {
            "marker": {
             "colorbar": {
              "outlinewidth": 0,
              "ticks": ""
             }
            },
            "type": "scattergeo"
           }
          ],
          "scattergl": [
           {
            "marker": {
             "colorbar": {
              "outlinewidth": 0,
              "ticks": ""
             }
            },
            "type": "scattergl"
           }
          ],
          "scattermapbox": [
           {
            "marker": {
             "colorbar": {
              "outlinewidth": 0,
              "ticks": ""
             }
            },
            "type": "scattermapbox"
           }
          ],
          "scatterpolar": [
           {
            "marker": {
             "colorbar": {
              "outlinewidth": 0,
              "ticks": ""
             }
            },
            "type": "scatterpolar"
           }
          ],
          "scatterpolargl": [
           {
            "marker": {
             "colorbar": {
              "outlinewidth": 0,
              "ticks": ""
             }
            },
            "type": "scatterpolargl"
           }
          ],
          "scatterternary": [
           {
            "marker": {
             "colorbar": {
              "outlinewidth": 0,
              "ticks": ""
             }
            },
            "type": "scatterternary"
           }
          ],
          "surface": [
           {
            "colorbar": {
             "outlinewidth": 0,
             "ticks": ""
            },
            "colorscale": [
             [
              0,
              "#0d0887"
             ],
             [
              0.1111111111111111,
              "#46039f"
             ],
             [
              0.2222222222222222,
              "#7201a8"
             ],
             [
              0.3333333333333333,
              "#9c179e"
             ],
             [
              0.4444444444444444,
              "#bd3786"
             ],
             [
              0.5555555555555556,
              "#d8576b"
             ],
             [
              0.6666666666666666,
              "#ed7953"
             ],
             [
              0.7777777777777778,
              "#fb9f3a"
             ],
             [
              0.8888888888888888,
              "#fdca26"
             ],
             [
              1,
              "#f0f921"
             ]
            ],
            "type": "surface"
           }
          ],
          "table": [
           {
            "cells": {
             "fill": {
              "color": "#EBF0F8"
             },
             "line": {
              "color": "white"
             }
            },
            "header": {
             "fill": {
              "color": "#C8D4E3"
             },
             "line": {
              "color": "white"
             }
            },
            "type": "table"
           }
          ]
         },
         "layout": {
          "annotationdefaults": {
           "arrowcolor": "#2a3f5f",
           "arrowhead": 0,
           "arrowwidth": 1
          },
          "autotypenumbers": "strict",
          "coloraxis": {
           "colorbar": {
            "outlinewidth": 0,
            "ticks": ""
           }
          },
          "colorscale": {
           "diverging": [
            [
             0,
             "#8e0152"
            ],
            [
             0.1,
             "#c51b7d"
            ],
            [
             0.2,
             "#de77ae"
            ],
            [
             0.3,
             "#f1b6da"
            ],
            [
             0.4,
             "#fde0ef"
            ],
            [
             0.5,
             "#f7f7f7"
            ],
            [
             0.6,
             "#e6f5d0"
            ],
            [
             0.7,
             "#b8e186"
            ],
            [
             0.8,
             "#7fbc41"
            ],
            [
             0.9,
             "#4d9221"
            ],
            [
             1,
             "#276419"
            ]
           ],
           "sequential": [
            [
             0,
             "#0d0887"
            ],
            [
             0.1111111111111111,
             "#46039f"
            ],
            [
             0.2222222222222222,
             "#7201a8"
            ],
            [
             0.3333333333333333,
             "#9c179e"
            ],
            [
             0.4444444444444444,
             "#bd3786"
            ],
            [
             0.5555555555555556,
             "#d8576b"
            ],
            [
             0.6666666666666666,
             "#ed7953"
            ],
            [
             0.7777777777777778,
             "#fb9f3a"
            ],
            [
             0.8888888888888888,
             "#fdca26"
            ],
            [
             1,
             "#f0f921"
            ]
           ],
           "sequentialminus": [
            [
             0,
             "#0d0887"
            ],
            [
             0.1111111111111111,
             "#46039f"
            ],
            [
             0.2222222222222222,
             "#7201a8"
            ],
            [
             0.3333333333333333,
             "#9c179e"
            ],
            [
             0.4444444444444444,
             "#bd3786"
            ],
            [
             0.5555555555555556,
             "#d8576b"
            ],
            [
             0.6666666666666666,
             "#ed7953"
            ],
            [
             0.7777777777777778,
             "#fb9f3a"
            ],
            [
             0.8888888888888888,
             "#fdca26"
            ],
            [
             1,
             "#f0f921"
            ]
           ]
          },
          "colorway": [
           "#636efa",
           "#EF553B",
           "#00cc96",
           "#ab63fa",
           "#FFA15A",
           "#19d3f3",
           "#FF6692",
           "#B6E880",
           "#FF97FF",
           "#FECB52"
          ],
          "font": {
           "color": "#2a3f5f"
          },
          "geo": {
           "bgcolor": "white",
           "lakecolor": "white",
           "landcolor": "#E5ECF6",
           "showlakes": true,
           "showland": true,
           "subunitcolor": "white"
          },
          "hoverlabel": {
           "align": "left"
          },
          "hovermode": "closest",
          "mapbox": {
           "style": "light"
          },
          "paper_bgcolor": "white",
          "plot_bgcolor": "#E5ECF6",
          "polar": {
           "angularaxis": {
            "gridcolor": "white",
            "linecolor": "white",
            "ticks": ""
           },
           "bgcolor": "#E5ECF6",
           "radialaxis": {
            "gridcolor": "white",
            "linecolor": "white",
            "ticks": ""
           }
          },
          "scene": {
           "xaxis": {
            "backgroundcolor": "#E5ECF6",
            "gridcolor": "white",
            "gridwidth": 2,
            "linecolor": "white",
            "showbackground": true,
            "ticks": "",
            "zerolinecolor": "white"
           },
           "yaxis": {
            "backgroundcolor": "#E5ECF6",
            "gridcolor": "white",
            "gridwidth": 2,
            "linecolor": "white",
            "showbackground": true,
            "ticks": "",
            "zerolinecolor": "white"
           },
           "zaxis": {
            "backgroundcolor": "#E5ECF6",
            "gridcolor": "white",
            "gridwidth": 2,
            "linecolor": "white",
            "showbackground": true,
            "ticks": "",
            "zerolinecolor": "white"
           }
          },
          "shapedefaults": {
           "line": {
            "color": "#2a3f5f"
           }
          },
          "ternary": {
           "aaxis": {
            "gridcolor": "white",
            "linecolor": "white",
            "ticks": ""
           },
           "baxis": {
            "gridcolor": "white",
            "linecolor": "white",
            "ticks": ""
           },
           "bgcolor": "#E5ECF6",
           "caxis": {
            "gridcolor": "white",
            "linecolor": "white",
            "ticks": ""
           }
          },
          "title": {
           "x": 0.05
          },
          "xaxis": {
           "automargin": true,
           "gridcolor": "white",
           "linecolor": "white",
           "ticks": "",
           "title": {
            "standoff": 15
           },
           "zerolinecolor": "white",
           "zerolinewidth": 2
          },
          "yaxis": {
           "automargin": true,
           "gridcolor": "white",
           "linecolor": "white",
           "ticks": "",
           "title": {
            "standoff": 15
           },
           "zerolinecolor": "white",
           "zerolinewidth": 2
          }
         }
        },
        "xaxis": {
         "anchor": "y",
         "domain": [
          0,
          1
         ],
         "title": {
          "text": "index"
         }
        },
        "yaxis": {
         "anchor": "x",
         "domain": [
          0,
          1
         ],
         "title": {
          "text": "Gamma"
         }
        }
       }
      }
     },
     "metadata": {},
     "output_type": "display_data"
    }
   ],
   "source": [
    "px.line(greeks_df, y=\"Gamma\")"
   ]
  },
  {
   "cell_type": "code",
   "execution_count": null,
   "metadata": {},
   "outputs": [],
   "source": []
  }
 ],
 "metadata": {
  "kernelspec": {
   "display_name": "Python 3.8.13 ('base')",
   "language": "python",
   "name": "python3"
  },
  "language_info": {
   "codemirror_mode": {
    "name": "ipython",
    "version": 3
   },
   "file_extension": ".py",
   "mimetype": "text/x-python",
   "name": "python",
   "nbconvert_exporter": "python",
   "pygments_lexer": "ipython3",
   "version": "3.8.13"
  },
  "orig_nbformat": 4,
  "vscode": {
   "interpreter": {
    "hash": "2d9c564e6a05589c32a2531fa102af305ee1407ba7f6d08389f6f6dfdc9c338b"
   }
  }
 },
 "nbformat": 4,
 "nbformat_minor": 2
}
