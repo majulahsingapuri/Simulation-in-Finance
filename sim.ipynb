{
 "cells": [
  {
   "cell_type": "code",
   "execution_count": 1,
   "metadata": {},
   "outputs": [],
   "source": [
    "import pandas as pd\n",
    "import numpy as np\n",
    "import plotly.express as px\n",
    "import pandas_market_calendars as mcal"
   ]
  },
  {
   "cell_type": "markdown",
   "metadata": {},
   "source": [
    "## Payoff Function"
   ]
  },
  {
   "cell_type": "code",
   "execution_count": 2,
   "metadata": {},
   "outputs": [],
   "source": [
    "def payoff(paths, K, Barrier, ratio):\n",
    "    Nsim = paths.shape[0]\n",
    "    final_prices = paths[:, :, -1] #S_T\n",
    "    above_strike = np.all(final_prices >= K, axis=1)\n",
    "    barrier_event = np.any(paths.min(axis=2) <= Barrier, axis=1)\n",
    "\n",
    "    # No barrier event or (barrier event and above strike)\n",
    "    cash_payout = np.where(np.logical_or(np.logical_not(barrier_event), np.logical_and(barrier_event,  above_strike)), 1105, 0)\n",
    "\n",
    "    # barrier event and below strike\n",
    "    percent_change = final_prices / K # Based on final strike price\n",
    "    min_loc = np.argmin(percent_change, axis=1) # Finding the worst performing underlying\n",
    "    j = np.indices(min_loc.shape)\n",
    "    payouts = ratio[min_loc] * final_prices[j, min_loc] + 105 # certificate to stock ratio * final price of the stock + coupon payment\n",
    "    stock_payout = np.where(np.logical_and(barrier_event,  np.logical_not(above_strike)), payouts, 0)\n",
    "\n",
    "    return np.sum(np.concatenate((cash_payout.reshape(1, Nsim), stock_payout.reshape(1, Nsim))), axis=0)"
   ]
  },
  {
   "cell_type": "markdown",
   "metadata": {},
   "source": [
    "Expected Payoff: $ \\hat{f}(S, t) = \\frac{1}{n} \\sum^n_{i=1} e^{-r(T-t)} \\chi(S^{(i)})$"
   ]
  },
  {
   "cell_type": "code",
   "execution_count": 3,
   "metadata": {},
   "outputs": [],
   "source": [
    "def expected_payoff(payoffs, r, T, t):\n",
    "    return np.mean(np.exp(-r*(T-t)) * payoffs)"
   ]
  },
  {
   "cell_type": "markdown",
   "metadata": {},
   "source": [
    "## Plotting"
   ]
  },
  {
   "cell_type": "code",
   "execution_count": 4,
   "metadata": {},
   "outputs": [],
   "source": [
    "def plot_simulations(price_hist, Nsim, sim_paths, stock=0):\n",
    "    \"\"\"plots simulations for chosen stock\n",
    "\n",
    "    Args:\n",
    "        price_hist (df): df of historical prices\n",
    "        sim_paths (list): simulated price paths\n",
    "        stock (int, optional): index of stock. Defaults to 0.\n",
    "    \"\"\"\n",
    "    # df of historical prices\n",
    "    price_hist = price_hist.to_numpy()[:, [0]].reshape(-1)\n",
    "    price_hist = np.vstack([price_hist]*Nsim)\n",
    "    price_hist = pd.DataFrame(price_hist).transpose()\n",
    "\n",
    "    sim_paths = pd.DataFrame(sim_paths[:, stock, :]).transpose()\n",
    "    sim_paths = pd.concat((price_hist, sim_paths))\n",
    "    sim_paths = sim_paths.reset_index(drop=True)\n",
    "    fig = px.line(sim_paths)\n",
    "    return fig"
   ]
  },
  {
   "cell_type": "markdown",
   "metadata": {},
   "source": [
    "# GBM Simlulations\n"
   ]
  },
  {
   "cell_type": "markdown",
   "metadata": {},
   "source": [
    "## Standard MC"
   ]
  },
  {
   "cell_type": "code",
   "execution_count": 5,
   "metadata": {},
   "outputs": [],
   "source": [
    "def multi_asset_GBM(S0, r, Sigma, dt, m, p):\n",
    "    \"\"\"GBM simulation of multiple asset paths\n",
    "\n",
    "    Args:\n",
    "        S0 (vector of start prices): vector of starting prices\n",
    "        r (int): risk free interest rate\n",
    "        Sigma (matrix): covariance matrix\n",
    "        dt (float): delta between each time step\n",
    "        m (int): number of days simulated\n",
    "        p (int): number of assets\n",
    "    \"\"\"\n",
    "\n",
    "    S = np.zeros(shape=(m, p))\n",
    "    S[0] = S0\n",
    "\n",
    "    z = np.random.multivariate_normal(mean=np.ones(p), cov=np.identity(p), size=m)\n",
    "    for step in range(1, m):\n",
    "        S[step] = S[step-1] * np.exp(( r * dt * np.ones(p) ) # Rate discount\n",
    "             - ( 0.5 * dt * np.diagonal(Sigma) ) # Volatility\n",
    "             + ( dt * np.matmul(np.linalg.cholesky(Sigma), z[step-1]) )) # Weiner process\n",
    "    return np.transpose(S)"
   ]
  },
  {
   "cell_type": "markdown",
   "metadata": {},
   "source": [
    "## Antithetic Variate"
   ]
  },
  {
   "cell_type": "code",
   "execution_count": 14,
   "metadata": {},
   "outputs": [],
   "source": [
    "def multi_asset_GBM_av(S0, r, Sigma, dt, m, p):\n",
    "    \"\"\"GBM simulation of multiple asset paths\n",
    "\n",
    "    Args:\n",
    "        S0 (vector of start prices): vector of starting prices\n",
    "        r (int): risk free interest rate\n",
    "        Sigma (matrix): covariance matrix\n",
    "        dt (float): delta between each time step\n",
    "        m (int): number of days simulated\n",
    "        p (int): number of assets\n",
    "    \"\"\"\n",
    "\n",
    "    S = np.zeros(shape=(m, p))\n",
    "    Stilde = np.zeros(shape=(m, p))\n",
    "    S[0] = S0\n",
    "    Stilde[0] = S0\n",
    "\n",
    "    z = np.random.multivariate_normal(mean=np.ones(p), cov=np.identity(p), size=m)\n",
    "    for step in range(1, m):\n",
    "        S[step] = S[step-1] * np.exp(( r * dt * np.ones(p) ) # Rate discount\n",
    "             - ( 0.5 * dt * np.diagonal(Sigma) ) # Volatility\n",
    "             + ( dt * np.matmul(np.linalg.cholesky(Sigma), z[step-1]) )) # Weiner process\n",
    "\n",
    "        Stilde[step] = S[step-1] * np.exp(( r * dt * np.ones(p) ) # Rate discount\n",
    "             - ( 0.5 * dt * np.diagonal(Sigma) ) # Volatility\n",
    "             + ( dt * np.matmul(np.linalg.cholesky(Sigma), -z[step-1]) )) # Weiner process\n",
    "    return np.transpose(S), np.transpose(Stilde)"
   ]
  },
  {
   "cell_type": "markdown",
   "metadata": {},
   "source": [
    "## Helper Functions"
   ]
  },
  {
   "cell_type": "code",
   "execution_count": 12,
   "metadata": {},
   "outputs": [],
   "source": [
    "# function to get v and Sigma from within a 1 year window\n",
    "def get_simulation_params(asset_hist, t, lifetime, dt):\n",
    "    prices = asset_hist.loc[:lifetime[t]].iloc[-253:-1]\n",
    "    log_prices = prices.apply(lambda x: np.log(x))\n",
    "    log_returns = log_prices.apply(lambda x: np.diff(x))\n",
    "    S0 = prices.iloc[-1].to_numpy()\n",
    "    Sigma = (log_returns.cov()/dt).to_numpy()\n",
    "    return S0, Sigma\n",
    "\n",
    "def n_path_sim(asset_hist, Nsim, t, lifetime, dt, p, r, remaining_steps, sim_func, var_reduction=None):\n",
    "    paths = None\n",
    "\n",
    "    if var_reduction == None:\n",
    "        paths = np.zeros(shape=(Nsim, p, remaining_steps))\n",
    "        for i in range(Nsim):\n",
    "            S0, Sigma = get_simulation_params(asset_hist, t, lifetime, dt)\n",
    "            paths[i] = sim_func(S0, r, Sigma, dt, remaining_steps, p)\n",
    "\n",
    "    elif var_reduction == \"av\":\n",
    "        paths = np.zeros(shape=(2 * Nsim, p, remaining_steps))\n",
    "        for i in range(Nsim):\n",
    "            S0, Sigma = get_simulation_params(asset_hist, t, lifetime, dt)\n",
    "            paths[i], paths[Nsim + i] = sim_func(S0, r, Sigma, dt, remaining_steps, p)\n",
    " \n",
    "    return paths\n",
    "        \n",
    "        "
   ]
  },
  {
   "cell_type": "markdown",
   "metadata": {},
   "source": [
    "# Run Simulations"
   ]
  },
  {
   "cell_type": "code",
   "execution_count": 8,
   "metadata": {},
   "outputs": [
    {
     "data": {
      "text/html": [
       "<div>\n",
       "<style scoped>\n",
       "    .dataframe tbody tr th:only-of-type {\n",
       "        vertical-align: middle;\n",
       "    }\n",
       "\n",
       "    .dataframe tbody tr th {\n",
       "        vertical-align: top;\n",
       "    }\n",
       "\n",
       "    .dataframe thead th {\n",
       "        text-align: right;\n",
       "    }\n",
       "</style>\n",
       "<table border=\"1\" class=\"dataframe\">\n",
       "  <thead>\n",
       "    <tr style=\"text-align: right;\">\n",
       "      <th></th>\n",
       "      <th>CVX</th>\n",
       "      <th>UNH</th>\n",
       "      <th>XOM</th>\n",
       "    </tr>\n",
       "    <tr>\n",
       "      <th>Date</th>\n",
       "      <th></th>\n",
       "      <th></th>\n",
       "      <th></th>\n",
       "    </tr>\n",
       "  </thead>\n",
       "  <tbody>\n",
       "    <tr>\n",
       "      <th>2020-05-26</th>\n",
       "      <td>93.300003</td>\n",
       "      <td>294.890015</td>\n",
       "      <td>45.910000</td>\n",
       "    </tr>\n",
       "    <tr>\n",
       "      <th>2020-05-27</th>\n",
       "      <td>93.900002</td>\n",
       "      <td>303.769989</td>\n",
       "      <td>46.240002</td>\n",
       "    </tr>\n",
       "    <tr>\n",
       "      <th>2020-05-28</th>\n",
       "      <td>90.870003</td>\n",
       "      <td>303.970001</td>\n",
       "      <td>45.040001</td>\n",
       "    </tr>\n",
       "    <tr>\n",
       "      <th>2020-05-29</th>\n",
       "      <td>91.699997</td>\n",
       "      <td>304.850006</td>\n",
       "      <td>45.470001</td>\n",
       "    </tr>\n",
       "    <tr>\n",
       "      <th>2020-06-01</th>\n",
       "      <td>92.790001</td>\n",
       "      <td>305.929993</td>\n",
       "      <td>46.279999</td>\n",
       "    </tr>\n",
       "  </tbody>\n",
       "</table>\n",
       "</div>"
      ],
      "text/plain": [
       "                  CVX         UNH        XOM\n",
       "Date                                        \n",
       "2020-05-26  93.300003  294.890015  45.910000\n",
       "2020-05-27  93.900002  303.769989  46.240002\n",
       "2020-05-28  90.870003  303.970001  45.040001\n",
       "2020-05-29  91.699997  304.850006  45.470001\n",
       "2020-06-01  92.790001  305.929993  46.279999"
      ]
     },
     "execution_count": 8,
     "metadata": {},
     "output_type": "execute_result"
    }
   ],
   "source": [
    "df = pd.read_csv(\"assets.csv\", index_col='Date', parse_dates=True)\n",
    "df.head()"
   ]
  },
  {
   "cell_type": "code",
   "execution_count": 9,
   "metadata": {},
   "outputs": [],
   "source": [
    "# Create a calendar\n",
    "nyse = mcal.get_calendar('NYSE')\n",
    "\n",
    "# set vars for product lifetime\n",
    "initial_fixing = pd.to_datetime(\"2021-05-25\")\n",
    "maturity = pd.to_datetime(\"2022-11-29\")\n",
    "lifetime = nyse.schedule(start_date=initial_fixing, end_date=maturity).index\n",
    "\n",
    "# gathered from product description\n",
    "K = np.array([103.87, 413.05, 58.26])\n",
    "Barrier = np.array([62.322, 247.830, 34.956])\n",
    "ratio = np.array([9.6274, 2.4210, 17.1644])\n",
    "\n",
    "m = len(lifetime)  # no of days product is active for \n",
    "T = 1 # Scale from [0,1]\n",
    "dt = T/m  # daily increment"
   ]
  },
  {
   "cell_type": "code",
   "execution_count": 15,
   "metadata": {},
   "outputs": [],
   "source": [
    "# ROLLING WINDOW OVER ENTIRE LIFETIME\n",
    "# uses newest asset prices on current day to get expected payoff for that day\n",
    "# make sure to run previous cell before running this one\n",
    "expected_payoffs = np.zeros(len(lifetime))\n",
    "for t in range( m ):\n",
    "    paths = n_path_sim(asset_hist=df,\n",
    "                    Nsim=100,\n",
    "                    t=t,\n",
    "                    lifetime=lifetime,\n",
    "                    dt=dt,\n",
    "                    p=3,\n",
    "                    r=0.04,\n",
    "                    remaining_steps=m-t,\n",
    "                    sim_func=multi_asset_GBM_av,\n",
    "                    var_reduction=\"av\"\n",
    "                    )\n",
    "\n",
    "    expected_payoffs[t] = expected_payoff(payoff(paths, K, Barrier, ratio), r=0.04, T=T, t=t*dt)"
   ]
  },
  {
   "cell_type": "code",
   "execution_count": 16,
   "metadata": {},
   "outputs": [
    {
     "data": {
      "application/vnd.plotly.v1+json": {
       "config": {
        "plotlyServerURL": "https://plot.ly"
       },
       "data": [
        {
         "hovertemplate": "variable=0<br>index=%{x}<br>value=%{y}<extra></extra>",
         "legendgroup": "0",
         "line": {
          "color": "#636efa",
          "dash": "solid"
         },
         "marker": {
          "symbol": "circle"
         },
         "mode": "lines",
         "name": "0",
         "orientation": "v",
         "showlegend": true,
         "type": "scatter",
         "x": [
          0,
          1,
          2,
          3,
          4,
          5,
          6,
          7,
          8,
          9,
          10,
          11,
          12,
          13,
          14,
          15,
          16,
          17,
          18,
          19,
          20,
          21,
          22,
          23,
          24,
          25,
          26,
          27,
          28,
          29,
          30,
          31,
          32,
          33,
          34,
          35,
          36,
          37,
          38,
          39,
          40,
          41,
          42,
          43,
          44,
          45,
          46,
          47,
          48,
          49,
          50,
          51,
          52,
          53,
          54,
          55,
          56,
          57,
          58,
          59,
          60,
          61,
          62,
          63,
          64,
          65,
          66,
          67,
          68,
          69,
          70,
          71,
          72,
          73,
          74,
          75,
          76,
          77,
          78,
          79,
          80,
          81,
          82,
          83,
          84,
          85,
          86,
          87,
          88,
          89,
          90,
          91,
          92,
          93,
          94,
          95,
          96,
          97,
          98,
          99,
          100,
          101,
          102,
          103,
          104,
          105,
          106,
          107,
          108,
          109,
          110,
          111,
          112,
          113,
          114,
          115,
          116,
          117,
          118,
          119,
          120,
          121,
          122,
          123,
          124,
          125,
          126,
          127,
          128,
          129,
          130,
          131,
          132,
          133,
          134,
          135,
          136,
          137,
          138,
          139,
          140,
          141,
          142,
          143,
          144,
          145,
          146,
          147,
          148,
          149,
          150,
          151,
          152,
          153,
          154,
          155,
          156,
          157,
          158,
          159,
          160,
          161,
          162,
          163,
          164,
          165,
          166,
          167,
          168,
          169,
          170,
          171,
          172,
          173,
          174,
          175,
          176,
          177,
          178,
          179,
          180,
          181,
          182,
          183,
          184,
          185,
          186,
          187,
          188,
          189,
          190,
          191,
          192,
          193,
          194,
          195,
          196,
          197,
          198,
          199,
          200,
          201,
          202,
          203,
          204,
          205,
          206,
          207,
          208,
          209,
          210,
          211,
          212,
          213,
          214,
          215,
          216,
          217,
          218,
          219,
          220,
          221,
          222,
          223,
          224,
          225,
          226,
          227,
          228,
          229,
          230,
          231,
          232,
          233,
          234,
          235,
          236,
          237,
          238,
          239,
          240,
          241,
          242,
          243,
          244,
          245,
          246,
          247,
          248,
          249,
          250,
          251,
          252,
          253,
          254,
          255,
          256,
          257,
          258,
          259,
          260,
          261,
          262,
          263,
          264,
          265,
          266,
          267,
          268,
          269,
          270,
          271,
          272,
          273,
          274,
          275,
          276,
          277,
          278,
          279,
          280,
          281,
          282,
          283,
          284,
          285,
          286,
          287,
          288,
          289,
          290,
          291,
          292,
          293,
          294,
          295,
          296,
          297,
          298,
          299,
          300,
          301,
          302,
          303,
          304,
          305,
          306,
          307,
          308,
          309,
          310,
          311,
          312,
          313,
          314,
          315,
          316,
          317,
          318,
          319,
          320,
          321,
          322,
          323,
          324,
          325,
          326,
          327,
          328,
          329,
          330,
          331,
          332,
          333,
          334,
          335,
          336,
          337,
          338,
          339,
          340,
          341,
          342,
          343,
          344,
          345,
          346,
          347,
          348,
          349,
          350,
          351,
          352,
          353,
          354,
          355,
          356,
          357,
          358,
          359,
          360,
          361,
          362,
          363,
          364,
          365,
          366,
          367,
          368,
          369,
          370,
          371,
          372,
          373,
          374,
          375,
          376,
          377,
          378,
          379,
          380,
          381,
          382
         ],
         "xaxis": "x",
         "y": [
          1061.6723302633168,
          1061.7832156703148,
          1061.8941126586383,
          1062.0050212294975,
          1062.1159413841028,
          1062.2268731236632,
          1062.3378164493881,
          1062.4487713624892,
          1062.5597378641758,
          1062.6707159556577,
          1062.7817056381466,
          1062.8927069128529,
          1063.0037197809866,
          1063.114744243759,
          1063.2257803023808,
          1063.336827958064,
          1063.4478872120192,
          1063.5589580654573,
          1063.6700405195902,
          1063.7811345756304,
          1063.8922402347885,
          1064.0033574982767,
          1064.1144863673069,
          1064.2256268430915,
          1064.3367789268427,
          1064.4479426197724,
          1064.5591179230942,
          1064.6703048380202,
          1064.7815033657625,
          1064.8927135075348,
          1065.0039352645492,
          1065.1151686380201,
          1065.22641362916,
          1065.3376702391831,
          1065.4489384693013,
          1065.56021832073,
          1065.6715097946817,
          1065.7828128923707,
          1065.8941276150115,
          1066.0054539638181,
          1066.1167919400045,
          1066.2281415447849,
          1066.339502779374,
          1066.4508756449868,
          1066.5622601428383,
          1066.6736562741423,
          1066.7850640401152,
          1066.896483441971,
          1067.0079144809258,
          1067.1193571581948,
          1067.2308114749933,
          1067.3422774325372,
          1067.4537550320422,
          1067.565244274725,
          1067.6767451618,
          1067.788257694485,
          1067.8997818739956,
          1068.0113177015483,
          1068.12286517836,
          1068.2344243056466,
          1068.3459950846257,
          1068.4575775165138,
          1068.5691716025283,
          1068.6807773438857,
          1068.7923947418044,
          1068.9040237975018,
          1069.0156645121947,
          1069.127316887101,
          1069.2389809234387,
          1069.350656622426,
          1069.46234398528,
          1069.5740430132203,
          1069.6857537074645,
          1069.7974760692307,
          1069.9092100997386,
          1070.0209558002064,
          1070.1327131718529,
          1070.2444822158964,
          1070.3562629335574,
          1070.4680553260544,
          1070.5798593946063,
          1070.6916751404333,
          1070.803502564755,
          1070.9153416687911,
          1071.027192453761,
          1071.139054920885,
          1071.2509290713838,
          1071.362814906477,
          1071.4747124273847,
          1071.5866216353277,
          1071.698542531527,
          1071.8104751172034,
          1071.9224193935772,
          1072.0343753618704,
          1072.1463430233032,
          1072.2583223790969,
          1072.3703134304735,
          1072.4823161786535,
          1072.594330624861,
          1072.7063567703149,
          1072.8183946162383,
          1072.930444163853,
          1073.0425054143818,
          1073.1545783690472,
          1073.26666302907,
          1073.378759395675,
          1073.4908674700825,
          1073.6029872535175,
          1073.7151187472011,
          1073.8272619523577,
          1073.9394168702097,
          1074.0515835019812,
          1074.1637618488949,
          1074.275951912175,
          1074.3881536930442,
          1074.500367192728,
          1074.612592412448,
          1074.7248293534306,
          1074.8370780168989,
          1074.949338404078,
          1075.0616105161903,
          1075.1738943544626,
          1075.2861899201193,
          1075.3984972143844,
          1075.5108162384838,
          1075.6231469936415,
          1075.7354894810837,
          1075.8478437020356,
          1075.9602096577225,
          1076.0725873493702,
          1076.1849767782041,
          1076.2973779454508,
          1076.409790852335,
          1076.5222155000845,
          1076.6346518899245,
          1076.7471000230812,
          1076.859559900782,
          1076.9720315242523,
          1077.084514894721,
          1077.1970100134126,
          1077.3095168815555,
          1077.4220355003763,
          1077.534565871103,
          1077.6471079949622,
          1077.759661873182,
          1077.8722275069904,
          1077.9848048976135,
          1078.0973940462811,
          1078.2099949542207,
          1078.3226076226601,
          1078.4352320528283,
          1078.5478682459527,
          1078.660516203263,
          1078.7731759259873,
          1078.8858474153544,
          1078.9985306725935,
          1079.111225698933,
          1079.223932495603,
          1079.3366510638332,
          1079.4493814048512,
          1079.5621235198887,
          1079.6748774101743,
          1079.7876430769375,
          1079.9004205214096,
          1080.01320974482,
          1080.1260107483981,
          1080.238823533376,
          1080.3516481009826,
          1080.4644844524496,
          1080.5773325890073,
          1080.690192511886,
          1080.8030642223184,
          1080.915947721534,
          1081.0288430107646,
          1081.1417500912412,
          1081.2546689641965,
          1081.3675996308612,
          1081.4805420924674,
          1081.593496350247,
          1081.706462405431,
          1081.8194402592542,
          1081.932429912946,
          1082.0454313677403,
          1082.15844462487,
          1082.271469685567,
          1082.3845065510636,
          1082.4975552225937,
          1082.6106157013908,
          1082.723687988687,
          1082.8367720857161,
          1082.9498679937115,
          1083.0629757139066,
          1083.1760952475356,
          1083.289226595832,
          1083.4023697600296,
          1083.5155247413622,
          1083.6286915410656,
          1083.7418701603729,
          1083.8550606005188,
          1083.9682628627377,
          1084.0814769482643,
          1084.1947028583343,
          1084.307940594182,
          1084.421190157042,
          1084.5344515481513,
          1084.6477247687435,
          1084.761009820055,
          1084.8743067033213,
          1084.9876154197786,
          1085.100935970662,
          1085.2142683572074,
          1085.3276125806528,
          1085.4409686422318,
          1085.5543365431834,
          1085.6677162847423,
          1085.781107868146,
          1085.894511294631,
          1086.0079265654344,
          1086.121353681793,
          1086.2347926449445,
          1086.3482434561263,
          1086.4617061165752,
          1086.575180627529,
          1086.6886669902256,
          1086.802165205903,
          1086.915675275799,
          1087.0291972011514,
          1087.1427309831993,
          1087.25627662318,
          1087.369834122332,
          1087.4834034818946,
          1087.5969847031065,
          1087.710577787207,
          1087.8241827354339,
          1087.9377995490267,
          1088.051428229225,
          1088.1650687772685,
          1088.278721194396,
          1088.3923854818477,
          1088.5060616408628,
          1088.6197496726818,
          1088.7334495785449,
          1088.8471613596917,
          1088.9608850173627,
          1089.0746205527978,
          1089.1883679672387,
          1089.3021272619249,
          1089.4158984380988,
          1089.5296814969993,
          1089.6434764398693,
          1089.7572832679489,
          1089.8711019824802,
          1089.9849325847044,
          1090.0987750758618,
          1090.2126294571965,
          1090.3264957299489,
          1090.4403738953606,
          1090.5542639546748,
          1090.6681659091334,
          1090.7820797599786,
          1090.8960055084533,
          1091.0099431557994,
          1091.1238927032605,
          1091.2378541520789,
          1091.3518275034978,
          1091.4658127587604,
          1091.5798099191095,
          1091.69381898579,
          1091.8078399600436,
          1091.921872843115,
          1092.0359176362474,
          1092.149974340686,
          1092.2640429576734,
          1092.378123488455,
          1092.4922159342736,
          1092.6063202963758,
          1092.7204365760042,
          1092.8345647744043,
          1092.9487048928206,
          1093.0628569324995,
          1093.177020894684,
          1093.2911967806208,
          1093.4053845915548,
          1093.5195843287313,
          1093.633795993396,
          1093.7480195867954,
          1093.8622551101744,
          1093.9765025647794,
          1094.0907619518566,
          1094.2050332726521,
          1094.3193165284122,
          1094.4336117203839,
          1094.547918849814,
          1094.6622379179485,
          1094.7765689260348,
          1094.89091187532,
          1095.0052667670514,
          1095.1196336024761,
          1095.2340123828412,
          1095.3484031093944,
          1095.462805783384,
          1095.577220406058,
          1095.6916469786631,
          1095.8060855024487,
          1095.9205359786617,
          1096.034998408552,
          1096.1494727933675,
          1096.2639591343561,
          1096.3784574327674,
          1096.4929676898498,
          1096.6074899068524,
          1096.722024085025,
          1096.8365702256158,
          1096.9511283298746,
          1097.0656983990516,
          1097.1802804343952,
          1097.2948744371567,
          1097.4094804085853,
          1097.5240983499298,
          1097.6387282624432,
          1097.7533701473733,
          1097.8680240059714,
          1097.982689839488,
          1098.0973676491747,
          1098.2120574362814,
          1098.3267592020586,
          1098.441472947759,
          1098.5561986746322,
          1098.6709363839307,
          1098.7856860769048,
          1098.9004477548076,
          1099.0152214188897,
          1099.1300070704037,
          1099.244804710601,
          1099.3596143407344,
          1099.474435962056,
          1099.5892695758178,
          1099.7041151832727,
          1099.8189727856732,
          1099.9338423842723,
          1100.0487239803226,
          1100.1636175750773,
          1100.2785231697897,
          1100.3934407657136,
          1100.5083703641012,
          1100.623311966207,
          1100.7382655732852,
          1100.8532311865886,
          1100.9682088073714,
          1101.083198436888,
          1101.1982000763926,
          1101.3132137271389,
          1101.428239390383,
          1101.5432770673779,
          1101.6583267593794,
          1101.7733884676416,
          1101.8884621934199,
          1102.0035479379696,
          1102.1186457025462,
          1102.2337554884048,
          1102.3488772968005,
          1102.4640111289898,
          1102.5791569862274,
          1102.6943148697706,
          1102.809484780875,
          1102.924666720797,
          1103.0398606907913,
          1103.155066692117,
          1103.270284726029,
          1103.3855147937843,
          1103.5007568966396,
          1103.6160110358524,
          1103.7312772126795,
          1103.846555428379,
          1103.961845684207,
          1104.0771479814211,
          1104.1924623212801,
          1104.3077887050406,
          1104.4231271339615,
          1104.5384776093,
          1104.6538401323153,
          1104.769214704264,
          1104.8846013264065
         ],
         "yaxis": "y"
        }
       ],
       "layout": {
        "legend": {
         "title": {
          "text": "variable"
         },
         "tracegroupgap": 0
        },
        "margin": {
         "t": 60
        },
        "template": {
         "data": {
          "bar": [
           {
            "error_x": {
             "color": "#2a3f5f"
            },
            "error_y": {
             "color": "#2a3f5f"
            },
            "marker": {
             "line": {
              "color": "#E5ECF6",
              "width": 0.5
             },
             "pattern": {
              "fillmode": "overlay",
              "size": 10,
              "solidity": 0.2
             }
            },
            "type": "bar"
           }
          ],
          "barpolar": [
           {
            "marker": {
             "line": {
              "color": "#E5ECF6",
              "width": 0.5
             },
             "pattern": {
              "fillmode": "overlay",
              "size": 10,
              "solidity": 0.2
             }
            },
            "type": "barpolar"
           }
          ],
          "carpet": [
           {
            "aaxis": {
             "endlinecolor": "#2a3f5f",
             "gridcolor": "white",
             "linecolor": "white",
             "minorgridcolor": "white",
             "startlinecolor": "#2a3f5f"
            },
            "baxis": {
             "endlinecolor": "#2a3f5f",
             "gridcolor": "white",
             "linecolor": "white",
             "minorgridcolor": "white",
             "startlinecolor": "#2a3f5f"
            },
            "type": "carpet"
           }
          ],
          "choropleth": [
           {
            "colorbar": {
             "outlinewidth": 0,
             "ticks": ""
            },
            "type": "choropleth"
           }
          ],
          "contour": [
           {
            "colorbar": {
             "outlinewidth": 0,
             "ticks": ""
            },
            "colorscale": [
             [
              0,
              "#0d0887"
             ],
             [
              0.1111111111111111,
              "#46039f"
             ],
             [
              0.2222222222222222,
              "#7201a8"
             ],
             [
              0.3333333333333333,
              "#9c179e"
             ],
             [
              0.4444444444444444,
              "#bd3786"
             ],
             [
              0.5555555555555556,
              "#d8576b"
             ],
             [
              0.6666666666666666,
              "#ed7953"
             ],
             [
              0.7777777777777778,
              "#fb9f3a"
             ],
             [
              0.8888888888888888,
              "#fdca26"
             ],
             [
              1,
              "#f0f921"
             ]
            ],
            "type": "contour"
           }
          ],
          "contourcarpet": [
           {
            "colorbar": {
             "outlinewidth": 0,
             "ticks": ""
            },
            "type": "contourcarpet"
           }
          ],
          "heatmap": [
           {
            "colorbar": {
             "outlinewidth": 0,
             "ticks": ""
            },
            "colorscale": [
             [
              0,
              "#0d0887"
             ],
             [
              0.1111111111111111,
              "#46039f"
             ],
             [
              0.2222222222222222,
              "#7201a8"
             ],
             [
              0.3333333333333333,
              "#9c179e"
             ],
             [
              0.4444444444444444,
              "#bd3786"
             ],
             [
              0.5555555555555556,
              "#d8576b"
             ],
             [
              0.6666666666666666,
              "#ed7953"
             ],
             [
              0.7777777777777778,
              "#fb9f3a"
             ],
             [
              0.8888888888888888,
              "#fdca26"
             ],
             [
              1,
              "#f0f921"
             ]
            ],
            "type": "heatmap"
           }
          ],
          "heatmapgl": [
           {
            "colorbar": {
             "outlinewidth": 0,
             "ticks": ""
            },
            "colorscale": [
             [
              0,
              "#0d0887"
             ],
             [
              0.1111111111111111,
              "#46039f"
             ],
             [
              0.2222222222222222,
              "#7201a8"
             ],
             [
              0.3333333333333333,
              "#9c179e"
             ],
             [
              0.4444444444444444,
              "#bd3786"
             ],
             [
              0.5555555555555556,
              "#d8576b"
             ],
             [
              0.6666666666666666,
              "#ed7953"
             ],
             [
              0.7777777777777778,
              "#fb9f3a"
             ],
             [
              0.8888888888888888,
              "#fdca26"
             ],
             [
              1,
              "#f0f921"
             ]
            ],
            "type": "heatmapgl"
           }
          ],
          "histogram": [
           {
            "marker": {
             "pattern": {
              "fillmode": "overlay",
              "size": 10,
              "solidity": 0.2
             }
            },
            "type": "histogram"
           }
          ],
          "histogram2d": [
           {
            "colorbar": {
             "outlinewidth": 0,
             "ticks": ""
            },
            "colorscale": [
             [
              0,
              "#0d0887"
             ],
             [
              0.1111111111111111,
              "#46039f"
             ],
             [
              0.2222222222222222,
              "#7201a8"
             ],
             [
              0.3333333333333333,
              "#9c179e"
             ],
             [
              0.4444444444444444,
              "#bd3786"
             ],
             [
              0.5555555555555556,
              "#d8576b"
             ],
             [
              0.6666666666666666,
              "#ed7953"
             ],
             [
              0.7777777777777778,
              "#fb9f3a"
             ],
             [
              0.8888888888888888,
              "#fdca26"
             ],
             [
              1,
              "#f0f921"
             ]
            ],
            "type": "histogram2d"
           }
          ],
          "histogram2dcontour": [
           {
            "colorbar": {
             "outlinewidth": 0,
             "ticks": ""
            },
            "colorscale": [
             [
              0,
              "#0d0887"
             ],
             [
              0.1111111111111111,
              "#46039f"
             ],
             [
              0.2222222222222222,
              "#7201a8"
             ],
             [
              0.3333333333333333,
              "#9c179e"
             ],
             [
              0.4444444444444444,
              "#bd3786"
             ],
             [
              0.5555555555555556,
              "#d8576b"
             ],
             [
              0.6666666666666666,
              "#ed7953"
             ],
             [
              0.7777777777777778,
              "#fb9f3a"
             ],
             [
              0.8888888888888888,
              "#fdca26"
             ],
             [
              1,
              "#f0f921"
             ]
            ],
            "type": "histogram2dcontour"
           }
          ],
          "mesh3d": [
           {
            "colorbar": {
             "outlinewidth": 0,
             "ticks": ""
            },
            "type": "mesh3d"
           }
          ],
          "parcoords": [
           {
            "line": {
             "colorbar": {
              "outlinewidth": 0,
              "ticks": ""
             }
            },
            "type": "parcoords"
           }
          ],
          "pie": [
           {
            "automargin": true,
            "type": "pie"
           }
          ],
          "scatter": [
           {
            "fillpattern": {
             "fillmode": "overlay",
             "size": 10,
             "solidity": 0.2
            },
            "type": "scatter"
           }
          ],
          "scatter3d": [
           {
            "line": {
             "colorbar": {
              "outlinewidth": 0,
              "ticks": ""
             }
            },
            "marker": {
             "colorbar": {
              "outlinewidth": 0,
              "ticks": ""
             }
            },
            "type": "scatter3d"
           }
          ],
          "scattercarpet": [
           {
            "marker": {
             "colorbar": {
              "outlinewidth": 0,
              "ticks": ""
             }
            },
            "type": "scattercarpet"
           }
          ],
          "scattergeo": [
           {
            "marker": {
             "colorbar": {
              "outlinewidth": 0,
              "ticks": ""
             }
            },
            "type": "scattergeo"
           }
          ],
          "scattergl": [
           {
            "marker": {
             "colorbar": {
              "outlinewidth": 0,
              "ticks": ""
             }
            },
            "type": "scattergl"
           }
          ],
          "scattermapbox": [
           {
            "marker": {
             "colorbar": {
              "outlinewidth": 0,
              "ticks": ""
             }
            },
            "type": "scattermapbox"
           }
          ],
          "scatterpolar": [
           {
            "marker": {
             "colorbar": {
              "outlinewidth": 0,
              "ticks": ""
             }
            },
            "type": "scatterpolar"
           }
          ],
          "scatterpolargl": [
           {
            "marker": {
             "colorbar": {
              "outlinewidth": 0,
              "ticks": ""
             }
            },
            "type": "scatterpolargl"
           }
          ],
          "scatterternary": [
           {
            "marker": {
             "colorbar": {
              "outlinewidth": 0,
              "ticks": ""
             }
            },
            "type": "scatterternary"
           }
          ],
          "surface": [
           {
            "colorbar": {
             "outlinewidth": 0,
             "ticks": ""
            },
            "colorscale": [
             [
              0,
              "#0d0887"
             ],
             [
              0.1111111111111111,
              "#46039f"
             ],
             [
              0.2222222222222222,
              "#7201a8"
             ],
             [
              0.3333333333333333,
              "#9c179e"
             ],
             [
              0.4444444444444444,
              "#bd3786"
             ],
             [
              0.5555555555555556,
              "#d8576b"
             ],
             [
              0.6666666666666666,
              "#ed7953"
             ],
             [
              0.7777777777777778,
              "#fb9f3a"
             ],
             [
              0.8888888888888888,
              "#fdca26"
             ],
             [
              1,
              "#f0f921"
             ]
            ],
            "type": "surface"
           }
          ],
          "table": [
           {
            "cells": {
             "fill": {
              "color": "#EBF0F8"
             },
             "line": {
              "color": "white"
             }
            },
            "header": {
             "fill": {
              "color": "#C8D4E3"
             },
             "line": {
              "color": "white"
             }
            },
            "type": "table"
           }
          ]
         },
         "layout": {
          "annotationdefaults": {
           "arrowcolor": "#2a3f5f",
           "arrowhead": 0,
           "arrowwidth": 1
          },
          "autotypenumbers": "strict",
          "coloraxis": {
           "colorbar": {
            "outlinewidth": 0,
            "ticks": ""
           }
          },
          "colorscale": {
           "diverging": [
            [
             0,
             "#8e0152"
            ],
            [
             0.1,
             "#c51b7d"
            ],
            [
             0.2,
             "#de77ae"
            ],
            [
             0.3,
             "#f1b6da"
            ],
            [
             0.4,
             "#fde0ef"
            ],
            [
             0.5,
             "#f7f7f7"
            ],
            [
             0.6,
             "#e6f5d0"
            ],
            [
             0.7,
             "#b8e186"
            ],
            [
             0.8,
             "#7fbc41"
            ],
            [
             0.9,
             "#4d9221"
            ],
            [
             1,
             "#276419"
            ]
           ],
           "sequential": [
            [
             0,
             "#0d0887"
            ],
            [
             0.1111111111111111,
             "#46039f"
            ],
            [
             0.2222222222222222,
             "#7201a8"
            ],
            [
             0.3333333333333333,
             "#9c179e"
            ],
            [
             0.4444444444444444,
             "#bd3786"
            ],
            [
             0.5555555555555556,
             "#d8576b"
            ],
            [
             0.6666666666666666,
             "#ed7953"
            ],
            [
             0.7777777777777778,
             "#fb9f3a"
            ],
            [
             0.8888888888888888,
             "#fdca26"
            ],
            [
             1,
             "#f0f921"
            ]
           ],
           "sequentialminus": [
            [
             0,
             "#0d0887"
            ],
            [
             0.1111111111111111,
             "#46039f"
            ],
            [
             0.2222222222222222,
             "#7201a8"
            ],
            [
             0.3333333333333333,
             "#9c179e"
            ],
            [
             0.4444444444444444,
             "#bd3786"
            ],
            [
             0.5555555555555556,
             "#d8576b"
            ],
            [
             0.6666666666666666,
             "#ed7953"
            ],
            [
             0.7777777777777778,
             "#fb9f3a"
            ],
            [
             0.8888888888888888,
             "#fdca26"
            ],
            [
             1,
             "#f0f921"
            ]
           ]
          },
          "colorway": [
           "#636efa",
           "#EF553B",
           "#00cc96",
           "#ab63fa",
           "#FFA15A",
           "#19d3f3",
           "#FF6692",
           "#B6E880",
           "#FF97FF",
           "#FECB52"
          ],
          "font": {
           "color": "#2a3f5f"
          },
          "geo": {
           "bgcolor": "white",
           "lakecolor": "white",
           "landcolor": "#E5ECF6",
           "showlakes": true,
           "showland": true,
           "subunitcolor": "white"
          },
          "hoverlabel": {
           "align": "left"
          },
          "hovermode": "closest",
          "mapbox": {
           "style": "light"
          },
          "paper_bgcolor": "white",
          "plot_bgcolor": "#E5ECF6",
          "polar": {
           "angularaxis": {
            "gridcolor": "white",
            "linecolor": "white",
            "ticks": ""
           },
           "bgcolor": "#E5ECF6",
           "radialaxis": {
            "gridcolor": "white",
            "linecolor": "white",
            "ticks": ""
           }
          },
          "scene": {
           "xaxis": {
            "backgroundcolor": "#E5ECF6",
            "gridcolor": "white",
            "gridwidth": 2,
            "linecolor": "white",
            "showbackground": true,
            "ticks": "",
            "zerolinecolor": "white"
           },
           "yaxis": {
            "backgroundcolor": "#E5ECF6",
            "gridcolor": "white",
            "gridwidth": 2,
            "linecolor": "white",
            "showbackground": true,
            "ticks": "",
            "zerolinecolor": "white"
           },
           "zaxis": {
            "backgroundcolor": "#E5ECF6",
            "gridcolor": "white",
            "gridwidth": 2,
            "linecolor": "white",
            "showbackground": true,
            "ticks": "",
            "zerolinecolor": "white"
           }
          },
          "shapedefaults": {
           "line": {
            "color": "#2a3f5f"
           }
          },
          "ternary": {
           "aaxis": {
            "gridcolor": "white",
            "linecolor": "white",
            "ticks": ""
           },
           "baxis": {
            "gridcolor": "white",
            "linecolor": "white",
            "ticks": ""
           },
           "bgcolor": "#E5ECF6",
           "caxis": {
            "gridcolor": "white",
            "linecolor": "white",
            "ticks": ""
           }
          },
          "title": {
           "x": 0.05
          },
          "xaxis": {
           "automargin": true,
           "gridcolor": "white",
           "linecolor": "white",
           "ticks": "",
           "title": {
            "standoff": 15
           },
           "zerolinecolor": "white",
           "zerolinewidth": 2
          },
          "yaxis": {
           "automargin": true,
           "gridcolor": "white",
           "linecolor": "white",
           "ticks": "",
           "title": {
            "standoff": 15
           },
           "zerolinecolor": "white",
           "zerolinewidth": 2
          }
         }
        },
        "xaxis": {
         "anchor": "y",
         "domain": [
          0,
          1
         ],
         "title": {
          "text": "index"
         }
        },
        "yaxis": {
         "anchor": "x",
         "domain": [
          0,
          1
         ],
         "title": {
          "text": "value"
         }
        }
       }
      }
     },
     "metadata": {},
     "output_type": "display_data"
    }
   ],
   "source": [
    "px.line(expected_payoffs)"
   ]
  },
  {
   "cell_type": "code",
   "execution_count": null,
   "metadata": {},
   "outputs": [],
   "source": []
  }
 ],
 "metadata": {
  "kernelspec": {
   "display_name": "finsim",
   "language": "python",
   "name": "python3"
  },
  "language_info": {
   "codemirror_mode": {
    "name": "ipython",
    "version": 3
   },
   "file_extension": ".py",
   "mimetype": "text/x-python",
   "name": "python",
   "nbconvert_exporter": "python",
   "pygments_lexer": "ipython3",
   "version": "3.9.13"
  },
  "orig_nbformat": 4,
  "vscode": {
   "interpreter": {
    "hash": "05eea7d3595bfadf0e30a6d0d1e84a362f1f365445b3148f9dbcbee14b1bb771"
   }
  }
 },
 "nbformat": 4,
 "nbformat_minor": 2
}
