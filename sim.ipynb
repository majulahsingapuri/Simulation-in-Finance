{
 "cells": [
  {
   "cell_type": "code",
   "execution_count": 4,
   "metadata": {},
   "outputs": [],
   "source": [
    "import pandas as pd\n",
    "import numpy as np\n",
    "# import cupy as np\n",
    "import plotly.express as px\n",
    "import pandas_market_calendars as mcal\n",
    "from tqdm.notebook import tqdm\n",
    "from scipy.stats import norm"
   ]
  },
  {
   "cell_type": "markdown",
   "metadata": {},
   "source": [
    "## Payoff Function"
   ]
  },
  {
   "cell_type": "code",
   "execution_count": 5,
   "metadata": {},
   "outputs": [],
   "source": [
    "def payoff(paths, K, Barrier, remaining_steps):\n",
    "    Nsim = paths.shape[0]\n",
    "    interest_payment = min(6, ((remaining_steps // 63) + 1)) * 1.75\n",
    "    final_prices = paths[:, :, -1] #S_T\n",
    "    above_strike = np.all(final_prices >= K, axis=1)\n",
    "    barrier_event = np.any(paths.min(axis=2) <= Barrier, axis=1)\n",
    "\n",
    "    # No barrier event or (barrier event and above strike)\n",
    "    cash_payout = np.where(np.logical_or(np.logical_not(barrier_event), np.logical_and(barrier_event,  above_strike)), 1000 + interest_payment, 0)\n",
    "\n",
    "    # barrier event and below strike\n",
    "    percent_change = final_prices / K # Based on final strike price\n",
    "    min_loc = np.argmin(percent_change, axis=1) # Finding the worst performing underlying\n",
    "    j = np.indices(min_loc.shape)\n",
    "    payouts = 1000 * percent_change[j, min_loc] + interest_payment # certificate to stock ratio * final price of the stock + coupon payment\n",
    "    stock_payout = np.where(np.logical_and(barrier_event,  np.logical_not(above_strike)), payouts, 0)\n",
    "\n",
    "    return np.sum(np.concatenate((cash_payout.reshape(1, Nsim), stock_payout.reshape(1, Nsim))), axis=0)"
   ]
  },
  {
   "cell_type": "markdown",
   "metadata": {},
   "source": [
    "Expected Payoff: $ \\hat{f}(S, t) = \\frac{1}{n} \\sum^n_{i=1} e^{-r(T-t)} \\chi(S^{(i)})$"
   ]
  },
  {
   "cell_type": "code",
   "execution_count": 6,
   "metadata": {},
   "outputs": [],
   "source": [
    "def expected_payoff(payoffs, r, T, t):\n",
    "    return np.mean(np.exp(-r*(T-t)) * payoffs)"
   ]
  },
  {
   "cell_type": "markdown",
   "metadata": {},
   "source": [
    "## Plotting"
   ]
  },
  {
   "cell_type": "code",
   "execution_count": 7,
   "metadata": {},
   "outputs": [],
   "source": [
    "def plot_simulations(price_hist, Nsim, sim_paths, stock=0):\n",
    "    \"\"\"plots simulations for chosen stock\n",
    "\n",
    "    Args:\n",
    "        price_hist (df): df of historical prices\n",
    "        sim_paths (list): simulated price paths\n",
    "        stock (int, optional): index of stock. Defaults to 0.\n",
    "    \"\"\"\n",
    "    # df of historical prices\n",
    "    price_hist = price_hist.to_numpy()[:, [0]].reshape(-1)\n",
    "    price_hist = np.vstack([price_hist]*Nsim)\n",
    "    price_hist = pd.DataFrame(price_hist).transpose()\n",
    "\n",
    "    sim_paths = pd.DataFrame(sim_paths[:, stock, :]).transpose()\n",
    "    sim_paths = pd.concat((price_hist, sim_paths))\n",
    "    sim_paths = sim_paths.reset_index(drop=True)\n",
    "    fig = px.line(sim_paths)\n",
    "    return fig"
   ]
  },
  {
   "cell_type": "markdown",
   "metadata": {},
   "source": [
    "# GBM Simlulations\n"
   ]
  },
  {
   "cell_type": "markdown",
   "metadata": {},
   "source": [
    "## Standard MC"
   ]
  },
  {
   "cell_type": "code",
   "execution_count": 8,
   "metadata": {},
   "outputs": [],
   "source": [
    "def multi_asset_GBM(S0, r, Sigma, dt, m, p, z=None):\n",
    "    \"\"\"GBM simulation of multiple asset paths\n",
    "\n",
    "    Args:\n",
    "        S0 (vector of start prices): vector of starting prices\n",
    "        r (int): risk free interest rate\n",
    "        Sigma (matrix): covariance matrix\n",
    "        dt (float): delta between each time step\n",
    "        m (int): number of days simulated\n",
    "        p (int): number of assets\n",
    "    \"\"\"\n",
    "\n",
    "    S = np.zeros(shape=(m, p))\n",
    "    S[0] = S0\n",
    "\n",
    "    if z is None:\n",
    "        z = np.random.multivariate_normal(mean=np.zeros(p), cov=np.identity(p), size=m)\n",
    "\n",
    "    for step in range(1, m):\n",
    "        S[step] = S[step-1] * np.exp(( r * dt * np.ones(p) ) # Rate discount\n",
    "             - ( 0.5 * dt * np.diagonal(Sigma) ) # Volatility\n",
    "             + ( np.matmul(np.linalg.cholesky(Sigma * dt), z[step-1]) )) # Weiner process\n",
    "    return np.transpose(S)"
   ]
  },
  {
   "cell_type": "markdown",
   "metadata": {},
   "source": [
    "## Antithetic Variate"
   ]
  },
  {
   "cell_type": "code",
   "execution_count": 9,
   "metadata": {},
   "outputs": [],
   "source": [
    "def multi_asset_GBM_av(S0, r, Sigma, dt, m, p):\n",
    "    \"\"\"GBM simulation of multiple asset paths\n",
    "\n",
    "    Args:\n",
    "        S0 (vector of start prices): vector of starting prices\n",
    "        r (int): risk free interest rate\n",
    "        Sigma (matrix): covariance matrix\n",
    "        dt (float): delta between each time step\n",
    "        m (int): number of days simulated\n",
    "        p (int): number of assets\n",
    "    \"\"\"\n",
    "\n",
    "    S = np.zeros(shape=(m, p))\n",
    "    Stilde = np.zeros(shape=(m, p))\n",
    "    S[0] = S0\n",
    "    Stilde[0] = S0\n",
    "\n",
    "    z = np.random.multivariate_normal(mean=np.zeros(p), cov=np.identity(p), size=m)\n",
    "    for step in range(1, m):\n",
    "        S[step] = S[step-1] * np.exp(( r * dt * np.ones(p) ) # Rate discount\n",
    "             - ( 0.5 * dt * np.diagonal(Sigma) ) # Volatility\n",
    "             + ( np.matmul(np.linalg.cholesky(Sigma * dt), z[step-1]) )) # Weiner process\n",
    "\n",
    "        Stilde[step] = S[step-1] * np.exp(( r * dt * np.ones(p) ) # Rate discount\n",
    "             - ( 0.5 * dt * np.diagonal(Sigma) ) # Volatility\n",
    "             + ( np.matmul(np.linalg.cholesky(Sigma * dt), -z[step-1]) )) # Weiner process\n",
    "    return np.transpose(S), np.transpose(Stilde)"
   ]
  },
  {
   "cell_type": "markdown",
   "metadata": {},
   "source": [
    "## Stratified Sampling"
   ]
  },
  {
   "cell_type": "code",
   "execution_count": 10,
   "metadata": {},
   "outputs": [],
   "source": [
    "def multi_asset_GBM_ss(S0, r, Sigma, dt, m, p, n_stratas):\n",
    "    \"\"\"GBM simulation of multiple asset paths\n",
    "\n",
    "    Args:\n",
    "        S0 (vector of start prices): vector of starting prices\n",
    "        v (array): mu/dt\n",
    "        r (int): risk free interest rate\n",
    "        Sigma (matrix): covariance matrix\n",
    "        dt (float): delta between each time step\n",
    "        m (int): number of days simulated\n",
    "        p (int): number of assets\n",
    "    \"\"\"\n",
    "    u = np.zeros((n_stratas, m, p))\n",
    "    scaled_samples = np.random.uniform(size=(m, p))/n_stratas\n",
    "    for i in range(n_stratas):\n",
    "        u[i] = (i/n_stratas) + scaled_samples\n",
    "    z = norm.ppf(u)\n",
    "\n",
    "    S = np.zeros(shape=(m, p))\n",
    "    S[0] = S0\n",
    "    for step in range(1, m):\n",
    "        S[step] = S[step-1] * np.exp(( r * dt * np.ones(p) ) # Rate discount\n",
    "             - ( 0.5 * dt * np.diagonal(Sigma) ) # Volatility\n",
    "             + ( np.matmul(np.linalg.cholesky(Sigma * dt), z[(step%n_stratas)-1][step]) )) # Weiner process\n",
    "\n",
    "    return np.transpose(S)"
   ]
  },
  {
   "cell_type": "markdown",
   "metadata": {},
   "source": [
    "## Empirical Martingale Correction"
   ]
  },
  {
   "cell_type": "code",
   "execution_count": 48,
   "metadata": {},
   "outputs": [],
   "source": [
    "def multi_asset_GBM_emc(S0, r, Sigma, dt, m, p):\n",
    "    \"\"\"GBM simulation of multiple asset paths\n",
    "\n",
    "    Args:\n",
    "        S0 (vector of start prices): vector of starting prices\n",
    "        r (int): risk free interest rate\n",
    "        Sigma (matrix): covariance matrix\n",
    "        dt (float): delta between each time step\n",
    "        m (int): number of days simulated\n",
    "        p (int): number of assets\n",
    "        t: current time step\n",
    "    \"\"\"\n",
    "\n",
    "    S = np.zeros(shape=(m, p))\n",
    "    S_star = np.zeros(shape=(m, p))\n",
    "    z = np.zeros(shape=(m, p))\n",
    "    z0 = np.zeros(shape=(m, p))\n",
    "    S[0] = S0\n",
    "    S_star[0] = S0\n",
    "\n",
    "    if z is None:\n",
    "        z = np.random.multivariate_normal(mean=np.zeros(p), cov=np.identity(p), size=m)\n",
    "\n",
    "    for step in range(1, m):\n",
    "        S[step] = S[step-1] * np.exp(( r * dt * np.ones(p) ) # Rate discount\n",
    "             - ( 0.5 * dt * np.diagonal(Sigma) ) # Volatility\n",
    "             + ( np.matmul(np.linalg.cholesky(Sigma * dt), z[step-1]) )) # Weiner process\n",
    "        z[step] = S_star[step-1]*S[step]/S[step-1]\n",
    "        z0[step] = np.exp(-r * step) * np.mean(z[step])\n",
    "        S_star[step] = S0 * (z[step]/z0[step])\n",
    "    \n",
    "    return np.transpose(S_star)"
   ]
  },
  {
   "cell_type": "markdown",
   "metadata": {},
   "source": [
    "## Helper Functions"
   ]
  },
  {
   "cell_type": "code",
   "execution_count": 13,
   "metadata": {},
   "outputs": [],
   "source": [
    "# function to get v and Sigma from within a 1 year window\n",
    "def get_simulation_params(asset_hist, t, dt):\n",
    "    prices = asset_hist[t: t+252, :]\n",
    "    log_returns = np.diff(np.log(prices), axis=0)\n",
    "    S0 = prices[-1, :]\n",
    "    # v = np.mean(log_returns, axis=0)/dt\n",
    "    Sigma = np.cov(log_returns, rowvar=False)/dt\n",
    "    return S0, Sigma"
   ]
  },
  {
   "cell_type": "code",
   "execution_count": 14,
   "metadata": {},
   "outputs": [],
   "source": [
    "def n_path_sim(asset_hist, Nsim, t, r, dt, p, m, sim_func, var_reduction=None):\n",
    "\n",
    "    paths = None\n",
    "    remaining_steps = m-t\n",
    "\n",
    "    if var_reduction == None:\n",
    "        hist = np.repeat(asset_hist[252: 252+t].T[:, :, np.newaxis], Nsim, axis=2)\n",
    "        hist = np.moveaxis(hist, -1, 0)\n",
    "        paths = np.zeros(shape=(Nsim, p, remaining_steps))\n",
    "        for i in range(Nsim):\n",
    "            S0, Sigma = get_simulation_params(asset_hist, t, dt)\n",
    "            paths[i] = sim_func(S0, r, Sigma, dt, remaining_steps, p)\n",
    "\n",
    "    elif var_reduction == \"av\":\n",
    "        hist = np.repeat(asset_hist[252: 252+t].T[:, :, np.newaxis], Nsim*2, axis=2)\n",
    "        hist = np.moveaxis(hist, -1, 0)\n",
    "        paths = np.zeros(shape=(2 * Nsim, p, remaining_steps))\n",
    "        for i in range(Nsim):\n",
    "            S0, Sigma = get_simulation_params(asset_hist, t, dt)\n",
    "            paths[i], paths[Nsim + i] = sim_func(S0, r, Sigma, dt, remaining_steps, p)\n",
    "    \n",
    "    elif var_reduction == \"ss\":\n",
    "        n_stratas = 5  # hardcode number of stratas (we will not vary)\n",
    "        hist = np.repeat(asset_hist[252: 252+t].T[:, :, np.newaxis], Nsim, axis=2)\n",
    "        hist = np.moveaxis(hist, -1, 0)\n",
    "        paths = np.zeros(shape=(Nsim, p, remaining_steps))\n",
    "        for i in range(Nsim):\n",
    "            S0, Sigma = get_simulation_params(asset_hist, t, dt)\n",
    "            paths[i] = sim_func(S0, r, Sigma, dt, remaining_steps, p, n_stratas)\n",
    "\n",
    "    # get historical prices up to current time step\n",
    "    paths = np.concatenate((hist, paths), axis=2)\n",
    "    return paths\n"
   ]
  },
  {
   "cell_type": "code",
   "execution_count": 15,
   "metadata": {},
   "outputs": [],
   "source": [
    "def n_path_sim_greeks(asset_hist, Nsim, t, r, dt, p, m, sim_func, z):\n",
    "    remaining_steps = m-t\n",
    "    paths = np.zeros(shape=(3, Nsim, p, remaining_steps))\n",
    "    # for j, h in enumerate([1, 0.998, 1.002]):\n",
    "    for j, h in enumerate([0, 0.002, -0.002]):\n",
    "        for i in range(Nsim):\n",
    "            S0, Sigma = get_simulation_params(asset_hist, t, dt)\n",
    "            paths[j][i] = sim_func(S0 + h, r, Sigma, dt, remaining_steps, p, z)\n",
    "    return paths"
   ]
  },
  {
   "cell_type": "code",
   "execution_count": 16,
   "metadata": {},
   "outputs": [],
   "source": [
    "def calc_rates(t, m, rates):\n",
    "    if t + 251 < len(rates):\n",
    "        rates_today = rates[t + 251]\n",
    "    else:\n",
    "        rates_today = rates[-1]\n",
    "    time_frame = np.array([21, 42, 63, 126, 252, 504])\n",
    "    return np.interp(40, time_frame, rates_today)"
   ]
  },
  {
   "cell_type": "markdown",
   "metadata": {},
   "source": [
    "# Run Simulations"
   ]
  },
  {
   "cell_type": "code",
   "execution_count": 17,
   "metadata": {},
   "outputs": [
    {
     "data": {
      "text/html": [
       "<div>\n",
       "<style scoped>\n",
       "    .dataframe tbody tr th:only-of-type {\n",
       "        vertical-align: middle;\n",
       "    }\n",
       "\n",
       "    .dataframe tbody tr th {\n",
       "        vertical-align: top;\n",
       "    }\n",
       "\n",
       "    .dataframe thead th {\n",
       "        text-align: right;\n",
       "    }\n",
       "</style>\n",
       "<table border=\"1\" class=\"dataframe\">\n",
       "  <thead>\n",
       "    <tr style=\"text-align: right;\">\n",
       "      <th></th>\n",
       "      <th>CVX</th>\n",
       "      <th>UNH</th>\n",
       "      <th>XOM</th>\n",
       "    </tr>\n",
       "    <tr>\n",
       "      <th>Date</th>\n",
       "      <th></th>\n",
       "      <th></th>\n",
       "      <th></th>\n",
       "    </tr>\n",
       "  </thead>\n",
       "  <tbody>\n",
       "    <tr>\n",
       "      <th>2020-05-26</th>\n",
       "      <td>93.300003</td>\n",
       "      <td>294.890015</td>\n",
       "      <td>45.910000</td>\n",
       "    </tr>\n",
       "    <tr>\n",
       "      <th>2020-05-27</th>\n",
       "      <td>93.900002</td>\n",
       "      <td>303.769989</td>\n",
       "      <td>46.240002</td>\n",
       "    </tr>\n",
       "    <tr>\n",
       "      <th>2020-05-28</th>\n",
       "      <td>90.870003</td>\n",
       "      <td>303.970001</td>\n",
       "      <td>45.040001</td>\n",
       "    </tr>\n",
       "    <tr>\n",
       "      <th>2020-05-29</th>\n",
       "      <td>91.699997</td>\n",
       "      <td>304.850006</td>\n",
       "      <td>45.470001</td>\n",
       "    </tr>\n",
       "    <tr>\n",
       "      <th>2020-06-01</th>\n",
       "      <td>92.790001</td>\n",
       "      <td>305.929993</td>\n",
       "      <td>46.279999</td>\n",
       "    </tr>\n",
       "  </tbody>\n",
       "</table>\n",
       "</div>"
      ],
      "text/plain": [
       "                  CVX         UNH        XOM\n",
       "Date                                        \n",
       "2020-05-26  93.300003  294.890015  45.910000\n",
       "2020-05-27  93.900002  303.769989  46.240002\n",
       "2020-05-28  90.870003  303.970001  45.040001\n",
       "2020-05-29  91.699997  304.850006  45.470001\n",
       "2020-06-01  92.790001  305.929993  46.279999"
      ]
     },
     "execution_count": 17,
     "metadata": {},
     "output_type": "execute_result"
    }
   ],
   "source": [
    "assets_df = pd.read_csv(\"assets.csv\", index_col='Date', parse_dates=True)\n",
    "assets_df.head()"
   ]
  },
  {
   "cell_type": "code",
   "execution_count": 18,
   "metadata": {},
   "outputs": [
    {
     "data": {
      "text/html": [
       "<div>\n",
       "<style scoped>\n",
       "    .dataframe tbody tr th:only-of-type {\n",
       "        vertical-align: middle;\n",
       "    }\n",
       "\n",
       "    .dataframe tbody tr th {\n",
       "        vertical-align: top;\n",
       "    }\n",
       "\n",
       "    .dataframe thead th {\n",
       "        text-align: right;\n",
       "    }\n",
       "</style>\n",
       "<table border=\"1\" class=\"dataframe\">\n",
       "  <thead>\n",
       "    <tr style=\"text-align: right;\">\n",
       "      <th></th>\n",
       "      <th>1 Mo</th>\n",
       "      <th>2 Mo</th>\n",
       "      <th>3 Mo</th>\n",
       "      <th>6 Mo</th>\n",
       "      <th>1 Yr</th>\n",
       "      <th>2 Yr</th>\n",
       "    </tr>\n",
       "    <tr>\n",
       "      <th>Date</th>\n",
       "      <th></th>\n",
       "      <th></th>\n",
       "      <th></th>\n",
       "      <th></th>\n",
       "      <th></th>\n",
       "      <th></th>\n",
       "    </tr>\n",
       "  </thead>\n",
       "  <tbody>\n",
       "    <tr>\n",
       "      <th>2020-05-26</th>\n",
       "      <td>0.10</td>\n",
       "      <td>0.12</td>\n",
       "      <td>0.14</td>\n",
       "      <td>0.17</td>\n",
       "      <td>0.17</td>\n",
       "      <td>0.18</td>\n",
       "    </tr>\n",
       "    <tr>\n",
       "      <th>2020-05-27</th>\n",
       "      <td>0.11</td>\n",
       "      <td>0.14</td>\n",
       "      <td>0.15</td>\n",
       "      <td>0.17</td>\n",
       "      <td>0.18</td>\n",
       "      <td>0.19</td>\n",
       "    </tr>\n",
       "    <tr>\n",
       "      <th>2020-05-28</th>\n",
       "      <td>0.14</td>\n",
       "      <td>0.15</td>\n",
       "      <td>0.15</td>\n",
       "      <td>0.18</td>\n",
       "      <td>0.17</td>\n",
       "      <td>0.17</td>\n",
       "    </tr>\n",
       "    <tr>\n",
       "      <th>2020-05-29</th>\n",
       "      <td>0.13</td>\n",
       "      <td>0.14</td>\n",
       "      <td>0.14</td>\n",
       "      <td>0.18</td>\n",
       "      <td>0.17</td>\n",
       "      <td>0.16</td>\n",
       "    </tr>\n",
       "    <tr>\n",
       "      <th>2020-06-01</th>\n",
       "      <td>0.12</td>\n",
       "      <td>0.14</td>\n",
       "      <td>0.14</td>\n",
       "      <td>0.18</td>\n",
       "      <td>0.17</td>\n",
       "      <td>0.14</td>\n",
       "    </tr>\n",
       "  </tbody>\n",
       "</table>\n",
       "</div>"
      ],
      "text/plain": [
       "            1 Mo  2 Mo  3 Mo  6 Mo  1 Yr  2 Yr\n",
       "Date                                          \n",
       "2020-05-26  0.10  0.12  0.14  0.17  0.17  0.18\n",
       "2020-05-27  0.11  0.14  0.15  0.17  0.18  0.19\n",
       "2020-05-28  0.14  0.15  0.15  0.18  0.17  0.17\n",
       "2020-05-29  0.13  0.14  0.14  0.18  0.17  0.16\n",
       "2020-06-01  0.12  0.14  0.14  0.18  0.17  0.14"
      ]
     },
     "execution_count": 18,
     "metadata": {},
     "output_type": "execute_result"
    }
   ],
   "source": [
    "rates_df = pd.read_csv(\"rates.csv\", index_col='Date', parse_dates=True)\n",
    "rates_df.head()"
   ]
  },
  {
   "cell_type": "code",
   "execution_count": 19,
   "metadata": {},
   "outputs": [
    {
     "data": {
      "text/html": [
       "<div>\n",
       "<style scoped>\n",
       "    .dataframe tbody tr th:only-of-type {\n",
       "        vertical-align: middle;\n",
       "    }\n",
       "\n",
       "    .dataframe tbody tr th {\n",
       "        vertical-align: top;\n",
       "    }\n",
       "\n",
       "    .dataframe thead th {\n",
       "        text-align: right;\n",
       "    }\n",
       "</style>\n",
       "<table border=\"1\" class=\"dataframe\">\n",
       "  <thead>\n",
       "    <tr style=\"text-align: right;\">\n",
       "      <th></th>\n",
       "      <th>Date</th>\n",
       "      <th>Price</th>\n",
       "    </tr>\n",
       "  </thead>\n",
       "  <tbody>\n",
       "    <tr>\n",
       "      <th>0</th>\n",
       "      <td>2021-06-02 00:00:00</td>\n",
       "      <td>1010.4</td>\n",
       "    </tr>\n",
       "    <tr>\n",
       "      <th>1</th>\n",
       "      <td>2021-06-03 00:00:00</td>\n",
       "      <td>1010.4</td>\n",
       "    </tr>\n",
       "    <tr>\n",
       "      <th>2</th>\n",
       "      <td>2021-06-04 00:00:00</td>\n",
       "      <td>1010.4</td>\n",
       "    </tr>\n",
       "    <tr>\n",
       "      <th>3</th>\n",
       "      <td>2021-06-07 00:00:00</td>\n",
       "      <td>1010.4</td>\n",
       "    </tr>\n",
       "    <tr>\n",
       "      <th>4</th>\n",
       "      <td>2021-06-08 00:00:00</td>\n",
       "      <td>1010.4</td>\n",
       "    </tr>\n",
       "  </tbody>\n",
       "</table>\n",
       "</div>"
      ],
      "text/plain": [
       "                  Date   Price\n",
       "0  2021-06-02 00:00:00  1010.4\n",
       "1  2021-06-03 00:00:00  1010.4\n",
       "2  2021-06-04 00:00:00  1010.4\n",
       "3  2021-06-07 00:00:00  1010.4\n",
       "4  2021-06-08 00:00:00  1010.4"
      ]
     },
     "execution_count": 19,
     "metadata": {},
     "output_type": "execute_result"
    }
   ],
   "source": [
    "actual_prices = pd.read_csv(\"actual.csv\")\n",
    "actual_prices.head()"
   ]
  },
  {
   "cell_type": "code",
   "execution_count": 20,
   "metadata": {},
   "outputs": [],
   "source": [
    "# Create a calendar\n",
    "nyse = mcal.get_calendar('NYSE')\n",
    "\n",
    "# set vars for product lifetime\n",
    "initial_fixing = pd.to_datetime(\"2021-06-02\")\n",
    "maturity = pd.to_datetime(\"2022-11-29\")\n",
    "lifetime = nyse.schedule(start_date=initial_fixing, end_date=maturity).index\n",
    "\n",
    "# if using cupy, move data to GPU\n",
    "asset_hist = np.asarray(assets_df.loc[\"2020-06-01\":].to_numpy())\n",
    "rates = np.asarray(rates_df.loc[\"2020-06-01\":].to_numpy()) / 100\n",
    "\n",
    "# gathered from product description\n",
    "K = np.array([103.87, 413.05, 58.26])\n",
    "Barrier = np.array([62.322, 247.830, 34.956])\n",
    "# ratio = np.array([9.6274, 2.4210, 17.1644])\n",
    "\n",
    "asset_hist = asset_hist / K\n",
    "Barrier = Barrier / K\n",
    "K = K / K\n",
    "\n",
    "m = len(lifetime)  # no of days product is active for \n",
    "T = m/252 # period in terms of no. of financial years\n",
    "dt = 1/252  # daily increment\n",
    "\n",
    "simulations = [\n",
    "    (multi_asset_GBM, None), \n",
    "    (multi_asset_GBM_av, \"av\"), \n",
    "    (multi_asset_GBM_ss, \"ss\")\n",
    "    ]"
   ]
  },
  {
   "cell_type": "code",
   "execution_count": 21,
   "metadata": {},
   "outputs": [
    {
     "data": {
      "text/plain": [
       "<AxesSubplot: xlabel='Date'>"
      ]
     },
     "execution_count": 21,
     "metadata": {},
     "output_type": "execute_result"
    },
    {
     "data": {
      "image/png": "[encoded data removed]",
      "text/plain": [
       "<Figure size 640x480 with 1 Axes>"
      ]
     },
     "metadata": {},
     "output_type": "display_data"
    }
   ],
   "source": [
    "assets_df.loc[lifetime[0]:].plot()"
   ]
  },
  {
   "cell_type": "code",
   "execution_count": 22,
   "metadata": {},
   "outputs": [],
   "source": [
    "S0, Sigma = get_simulation_params(asset_hist, 30, dt)\n",
    "test_paths = multi_asset_GBM(S0, 0.04, Sigma, dt, m-30, 3)"
   ]
  },
  {
   "cell_type": "code",
   "execution_count": 23,
   "metadata": {},
   "outputs": [
    {
     "data": {
      "text/html": [
       "<div>\n",
       "<style scoped>\n",
       "    .dataframe tbody tr th:only-of-type {\n",
       "        vertical-align: middle;\n",
       "    }\n",
       "\n",
       "    .dataframe tbody tr th {\n",
       "        vertical-align: top;\n",
       "    }\n",
       "\n",
       "    .dataframe thead th {\n",
       "        text-align: right;\n",
       "    }\n",
       "</style>\n",
       "<table border=\"1\" class=\"dataframe\">\n",
       "  <thead>\n",
       "    <tr style=\"text-align: right;\">\n",
       "      <th></th>\n",
       "      <th>Stock 1</th>\n",
       "      <th>stock 2</th>\n",
       "      <th>stock 3</th>\n",
       "    </tr>\n",
       "  </thead>\n",
       "  <tbody>\n",
       "    <tr>\n",
       "      <th>0</th>\n",
       "      <td>1.000578</td>\n",
       "      <td>1.013291</td>\n",
       "      <td>1.044971</td>\n",
       "    </tr>\n",
       "    <tr>\n",
       "      <th>1</th>\n",
       "      <td>0.991607</td>\n",
       "      <td>1.042357</td>\n",
       "      <td>1.020832</td>\n",
       "    </tr>\n",
       "    <tr>\n",
       "      <th>2</th>\n",
       "      <td>1.020668</td>\n",
       "      <td>1.044947</td>\n",
       "      <td>1.043844</td>\n",
       "    </tr>\n",
       "    <tr>\n",
       "      <th>3</th>\n",
       "      <td>1.024767</td>\n",
       "      <td>1.021146</td>\n",
       "      <td>1.065331</td>\n",
       "    </tr>\n",
       "    <tr>\n",
       "      <th>4</th>\n",
       "      <td>1.019587</td>\n",
       "      <td>1.045218</td>\n",
       "      <td>1.052620</td>\n",
       "    </tr>\n",
       "  </tbody>\n",
       "</table>\n",
       "</div>"
      ],
      "text/plain": [
       "    Stock 1   stock 2   stock 3\n",
       "0  1.000578  1.013291  1.044971\n",
       "1  0.991607  1.042357  1.020832\n",
       "2  1.020668  1.044947  1.043844\n",
       "3  1.024767  1.021146  1.065331\n",
       "4  1.019587  1.045218  1.052620"
      ]
     },
     "execution_count": 23,
     "metadata": {},
     "output_type": "execute_result"
    }
   ],
   "source": [
    "test_df = pd.DataFrame(data=test_paths.T, columns=[\"Stock 1\", \"stock 2\", \"stock 3\"])\n",
    "test_df.head()"
   ]
  },
  {
   "cell_type": "code",
   "execution_count": 24,
   "metadata": {},
   "outputs": [
    {
     "data": {
      "application/vnd.plotly.v1+json": {
       "config": {
        "plotlyServerURL": "https://plot.ly"
       },
       "data": [
        {
         "hovertemplate": "variable=Stock 1<br>index=%{x}<br>value=%{y}<extra></extra>",
         "legendgroup": "Stock 1",
         "line": {
          "color": "#636efa",
          "dash": "solid"
         },
         "marker": {
          "symbol": "circle"
         },
         "mode": "lines",
         "name": "Stock 1",
         "showlegend": true,
         "type": "scattergl",
         "x": [
          0,
          1,
          2,
          3,
          4,
          5,
          6,
          7,
          8,
          9,
          10,
          11,
          12,
          13,
          14,
          15,
          16,
          17,
          18,
          19,
          20,
          21,
          22,
          23,
          24,
          25,
          26,
          27,
          28,
          29,
          30,
          31,
          32,
          33,
          34,
          35,
          36,
          37,
          38,
          39,
          40,
          41,
          42,
          43,
          44,
          45,
          46,
          47,
          48,
          49,
          50,
          51,
          52,
          53,
          54,
          55,
          56,
          57,
          58,
          59,
          60,
          61,
          62,
          63,
          64,
          65,
          66,
          67,
          68,
          69,
          70,
          71,
          72,
          73,
          74,
          75,
          76,
          77,
          78,
          79,
          80,
          81,
          82,
          83,
          84,
          85,
          86,
          87,
          88,
          89,
          90,
          91,
          92,
          93,
          94,
          95,
          96,
          97,
          98,
          99,
          100,
          101,
          102,
          103,
          104,
          105,
          106,
          107,
          108,
          109,
          110,
          111,
          112,
          113,
          114,
          115,
          116,
          117,
          118,
          119,
          120,
          121,
          122,
          123,
          124,
          125,
          126,
          127,
          128,
          129,
          130,
          131,
          132,
          133,
          134,
          135,
          136,
          137,
          138,
          139,
          140,
          141,
          142,
          143,
          144,
          145,
          146,
          147,
          148,
          149,
          150,
          151,
          152,
          153,
          154,
          155,
          156,
          157,
          158,
          159,
          160,
          161,
          162,
          163,
          164,
          165,
          166,
          167,
          168,
          169,
          170,
          171,
          172,
          173,
          174,
          175,
          176,
          177,
          178,
          179,
          180,
          181,
          182,
          183,
          184,
          185,
          186,
          187,
          188,
          189,
          190,
          191,
          192,
          193,
          194,
          195,
          196,
          197,
          198,
          199,
          200,
          201,
          202,
          203,
          204,
          205,
          206,
          207,
          208,
          209,
          210,
          211,
          212,
          213,
          214,
          215,
          216,
          217,
          218,
          219,
          220,
          221,
          222,
          223,
          224,
          225,
          226,
          227,
          228,
          229,
          230,
          231,
          232,
          233,
          234,
          235,
          236,
          237,
          238,
          239,
          240,
          241,
          242,
          243,
          244,
          245,
          246,
          247,
          248,
          249,
          250,
          251,
          252,
          253,
          254,
          255,
          256,
          257,
          258,
          259,
          260,
          261,
          262,
          263,
          264,
          265,
          266,
          267,
          268,
          269,
          270,
          271,
          272,
          273,
          274,
          275,
          276,
          277,
          278,
          279,
          280,
          281,
          282,
          283,
          284,
          285,
          286,
          287,
          288,
          289,
          290,
          291,
          292,
          293,
          294,
          295,
          296,
          297,
          298,
          299,
          300,
          301,
          302,
          303,
          304,
          305,
          306,
          307,
          308,
          309,
          310,
          311,
          312,
          313,
          314,
          315,
          316,
          317,
          318,
          319,
          320,
          321,
          322,
          323,
          324,
          325,
          326,
          327,
          328,
          329,
          330,
          331,
          332,
          333,
          334,
          335,
          336,
          337,
          338,
          339,
          340,
          341,
          342,
          343,
          344,
          345,
          346,
          347
         ],
         "xaxis": "x",
         "y": [
          1.0005776451333397,
          0.9916071301321324,
          1.0206678314991924,
          1.0247669440291471,
          1.019587493844446,
          1.017511346708539,
          1.0384089866565203,
          1.0526170515716646,
          1.113930582360104,
          1.0971521996601044,
          1.0881831720419473,
          1.0800123357973168,
          1.0912844774606352,
          1.1058945268757885,
          1.1293697531825226,
          1.1464834248715805,
          1.1442051637366975,
          1.1292594383431518,
          1.1081714788099053,
          1.087781777273657,
          1.0558925006158486,
          1.0481737859437974,
          1.0590391452835541,
          1.0786920382738865,
          1.049816580376104,
          1.01243618081326,
          0.9843267995392705,
          0.9604598641995237,
          0.9692459068571287,
          0.9515338393091632,
          0.9453340014522533,
          0.9189709980654175,
          0.9101356622123155,
          0.9038159868678841,
          0.9237367316982296,
          0.922842092800078,
          0.9160208365046251,
          0.9122673372853236,
          0.8910085877447105,
          0.8695462141053147,
          0.8517814237293515,
          0.8481888913851537,
          0.8329389413983294,
          0.8246835978590903,
          0.8430045518941396,
          0.86311784574981,
          0.8996671295442142,
          0.8938717295211601,
          0.8815715292942093,
          0.8852548429701843,
          0.8946547632762829,
          0.9073140199945563,
          0.8850838791433479,
          0.8910339168827937,
          0.901890829531486,
          0.8908248436351037,
          0.8766990527199978,
          0.8543319005457083,
          0.8657831158062542,
          0.879571044899319,
          0.8747759129872308,
          0.8554451259551663,
          0.8562295594045343,
          0.832714356941672,
          0.7954377891203327,
          0.8079235813518134,
          0.8065770119205781,
          0.7877847882197047,
          0.7793984796501087,
          0.7904266574571439,
          0.8023111662715396,
          0.8280392082179726,
          0.8409182076296228,
          0.8095754323478376,
          0.8019950489231887,
          0.7877182581743842,
          0.7866725710019397,
          0.8038976361885831,
          0.7859647799755837,
          0.7768655039508381,
          0.7890766116899697,
          0.7833018013348905,
          0.7904636359223445,
          0.7943033275976732,
          0.7777493714964182,
          0.780005093804409,
          0.7746192422136138,
          0.7770142135314947,
          0.7929525624179744,
          0.7669708660139456,
          0.7563881795043681,
          0.761876462510641,
          0.7599679963195618,
          0.7756173121598119,
          0.7597732430101989,
          0.754475796060635,
          0.7891805389989907,
          0.7962113814421333,
          0.8094894762759689,
          0.8188249618407406,
          0.8177425182010762,
          0.8283501880350358,
          0.822017611507618,
          0.8286230394294608,
          0.8040140009895888,
          0.8410019183403761,
          0.8576529860971379,
          0.8370941227860651,
          0.8173840996685187,
          0.8210421050216958,
          0.8215789380453139,
          0.8303271552360902,
          0.8441042048942057,
          0.8221914711075531,
          0.8604392013026168,
          0.8519894861152797,
          0.8316027434159585,
          0.8736052024682895,
          0.8744976283588352,
          0.8845325027974764,
          0.8839342764254963,
          0.8875939124189488,
          0.8664140326827869,
          0.884347666612856,
          0.8715520296927579,
          0.84385308009223,
          0.8532965265561744,
          0.8714921971639752,
          0.8378482909036008,
          0.8140221607718315,
          0.8074611545958991,
          0.8225211297924125,
          0.8290613547048887,
          0.8377041029355639,
          0.8096333486828456,
          0.8292140887142382,
          0.8519576021964945,
          0.8392000938306714,
          0.8237649323728478,
          0.8443080628491805,
          0.827142171530435,
          0.8186653767576878,
          0.8288156520426363,
          0.813442238717462,
          0.7920429105366802,
          0.7971684741476631,
          0.7989559658398702,
          0.8101807688743464,
          0.8126580464664748,
          0.8294261179845386,
          0.82823000087323,
          0.8009754108526976,
          0.8001683981064885,
          0.8091326373106358,
          0.8295483307336681,
          0.8249198076050879,
          0.8179521582851963,
          0.8357882380576864,
          0.8213575495599685,
          0.80656052570406,
          0.7979629453900152,
          0.7848982673987244,
          0.7645826529680256,
          0.7409330416508594,
          0.7544172039064595,
          0.7521670745979949,
          0.7550015414381727,
          0.7771588379209522,
          0.8036783386117443,
          0.8096160034440018,
          0.8343920739980647,
          0.8629785255793581,
          0.8832322496163812,
          0.8687089356829082,
          0.8496554869766513,
          0.8553005280106097,
          0.8466972045867613,
          0.8363767452708052,
          0.8407148058920455,
          0.8332259719511776,
          0.8380156950066848,
          0.8129004647614989,
          0.8262158622279103,
          0.8193532012199535,
          0.8249841613888504,
          0.8309409377822293,
          0.832652854936644,
          0.8295215426274035,
          0.8478528911542904,
          0.8544624669787646,
          0.8447671324481935,
          0.8249351659128953,
          0.8296001036270771,
          0.8412331287699782,
          0.8716062564322774,
          0.8658646588980088,
          0.8806837617648512,
          0.8752127486173685,
          0.894377957803472,
          0.9275671674759548,
          0.9455345756843185,
          0.9311660352619758,
          0.9505967784096366,
          1.0132906665274901,
          1.0490897718770473,
          1.0668968129737963,
          1.0529731193211294,
          1.0290974021455133,
          1.0173608546059225,
          1.00517254761581,
          1.0427629336998843,
          1.0395055284556658,
          1.0494165362048617,
          1.058819299724519,
          1.018376707265309,
          1.0479594066486677,
          1.0403939307894736,
          1.056836207742475,
          1.0946137081657634,
          1.1438732665001692,
          1.1226537990880499,
          1.0899697820134058,
          1.0981364645256433,
          1.0728032864309884,
          1.0880380486915353,
          1.0762374854079195,
          1.0611129196087894,
          1.0932166678079083,
          1.075742820289877,
          1.0815415220696516,
          1.1100114995286725,
          1.1025125045543753,
          1.0954821528389163,
          1.09532905816345,
          1.0865638087462397,
          1.1071848015161736,
          1.1090126679719976,
          1.106345984899835,
          1.1300935626462048,
          1.13144118957809,
          1.111113959648614,
          1.0764619574881296,
          1.0907530314638172,
          1.0634855478229162,
          1.0893727880492206,
          1.107858001765369,
          1.1183063353506075,
          1.1451411095847648,
          1.1604899090283625,
          1.1949544245848225,
          1.1481995112432672,
          1.1359246160863337,
          1.1956412801721898,
          1.2157905580811288,
          1.211061220783439,
          1.1948638610320388,
          1.175983090802188,
          1.1993742982917281,
          1.195641578166238,
          1.1982151980397755,
          1.1871124827049215,
          1.1866161787985827,
          1.1893756864676677,
          1.1645072415743938,
          1.1902012950982879,
          1.1796234904370864,
          1.1749854723858453,
          1.153054290287643,
          1.1313443242351564,
          1.1089680950885918,
          1.0954328443491836,
          1.0672345429348422,
          1.0395578510146926,
          1.0568845498239616,
          1.0638375872669417,
          1.0538022491386139,
          1.0690896616340357,
          1.069579758762028,
          1.0346536940617175,
          1.0575629507606479,
          1.0933402650268707,
          1.0942210647796617,
          1.0797820579840562,
          1.1144465701261657,
          1.1284552787054882,
          1.1183910700006454,
          1.1646586485846744,
          1.1526891472031473,
          1.1433748174844771,
          1.1574877014462235,
          1.1189603312386556,
          1.1299404402486948,
          1.0855376191378576,
          1.0790512914261163,
          1.079636919713324,
          1.0893298307042507,
          1.0748106225688998,
          1.074676736012399,
          1.0426874131476145,
          0.9989484929989617,
          0.9889848198864352,
          1.0006767132475796,
          0.9771342241773326,
          1.0207404663431743,
          1.0018398093749785,
          1.0363829708164192,
          1.0803304631070825,
          1.1112906677221701,
          1.1145141516376285,
          1.0962466458199,
          1.0911884343038163,
          1.118095692152615,
          1.1139070941306057,
          1.122389275187458,
          1.1151906841976789,
          1.1267956467382045,
          1.117855315758109,
          1.134300799610596,
          1.1504987243310525,
          1.1568175233779838,
          1.1598000861076343,
          1.178352798720383,
          1.178434675134111,
          1.1153199402536096,
          1.1266616292664036,
          1.1546258907904219,
          1.1402455147468427,
          1.171271489900663,
          1.205885848561485,
          1.204238851843285,
          1.1976653353018725,
          1.148002248666395,
          1.1960191657363635,
          1.1489444958781037,
          1.1442538076534992,
          1.1201008964690538,
          1.142401085996563,
          1.1189516796708743,
          1.1346586367665807,
          1.1350388039444541,
          1.1288357007037089,
          1.1001252054579953,
          1.086486273470092,
          1.1004998913675617,
          1.1076105113086359,
          1.101619228947257,
          1.0893113400023164,
          1.070197626215099
         ],
         "yaxis": "y"
        },
        {
         "hovertemplate": "variable=stock 2<br>index=%{x}<br>value=%{y}<extra></extra>",
         "legendgroup": "stock 2",
         "line": {
          "color": "#EF553B",
          "dash": "solid"
         },
         "marker": {
          "symbol": "circle"
         },
         "mode": "lines",
         "name": "stock 2",
         "showlegend": true,
         "type": "scattergl",
         "x": [
          0,
          1,
          2,
          3,
          4,
          5,
          6,
          7,
          8,
          9,
          10,
          11,
          12,
          13,
          14,
          15,
          16,
          17,
          18,
          19,
          20,
          21,
          22,
          23,
          24,
          25,
          26,
          27,
          28,
          29,
          30,
          31,
          32,
          33,
          34,
          35,
          36,
          37,
          38,
          39,
          40,
          41,
          42,
          43,
          44,
          45,
          46,
          47,
          48,
          49,
          50,
          51,
          52,
          53,
          54,
          55,
          56,
          57,
          58,
          59,
          60,
          61,
          62,
          63,
          64,
          65,
          66,
          67,
          68,
          69,
          70,
          71,
          72,
          73,
          74,
          75,
          76,
          77,
          78,
          79,
          80,
          81,
          82,
          83,
          84,
          85,
          86,
          87,
          88,
          89,
          90,
          91,
          92,
          93,
          94,
          95,
          96,
          97,
          98,
          99,
          100,
          101,
          102,
          103,
          104,
          105,
          106,
          107,
          108,
          109,
          110,
          111,
          112,
          113,
          114,
          115,
          116,
          117,
          118,
          119,
          120,
          121,
          122,
          123,
          124,
          125,
          126,
          127,
          128,
          129,
          130,
          131,
          132,
          133,
          134,
          135,
          136,
          137,
          138,
          139,
          140,
          141,
          142,
          143,
          144,
          145,
          146,
          147,
          148,
          149,
          150,
          151,
          152,
          153,
          154,
          155,
          156,
          157,
          158,
          159,
          160,
          161,
          162,
          163,
          164,
          165,
          166,
          167,
          168,
          169,
          170,
          171,
          172,
          173,
          174,
          175,
          176,
          177,
          178,
          179,
          180,
          181,
          182,
          183,
          184,
          185,
          186,
          187,
          188,
          189,
          190,
          191,
          192,
          193,
          194,
          195,
          196,
          197,
          198,
          199,
          200,
          201,
          202,
          203,
          204,
          205,
          206,
          207,
          208,
          209,
          210,
          211,
          212,
          213,
          214,
          215,
          216,
          217,
          218,
          219,
          220,
          221,
          222,
          223,
          224,
          225,
          226,
          227,
          228,
          229,
          230,
          231,
          232,
          233,
          234,
          235,
          236,
          237,
          238,
          239,
          240,
          241,
          242,
          243,
          244,
          245,
          246,
          247,
          248,
          249,
          250,
          251,
          252,
          253,
          254,
          255,
          256,
          257,
          258,
          259,
          260,
          261,
          262,
          263,
          264,
          265,
          266,
          267,
          268,
          269,
          270,
          271,
          272,
          273,
          274,
          275,
          276,
          277,
          278,
          279,
          280,
          281,
          282,
          283,
          284,
          285,
          286,
          287,
          288,
          289,
          290,
          291,
          292,
          293,
          294,
          295,
          296,
          297,
          298,
          299,
          300,
          301,
          302,
          303,
          304,
          305,
          306,
          307,
          308,
          309,
          310,
          311,
          312,
          313,
          314,
          315,
          316,
          317,
          318,
          319,
          320,
          321,
          322,
          323,
          324,
          325,
          326,
          327,
          328,
          329,
          330,
          331,
          332,
          333,
          334,
          335,
          336,
          337,
          338,
          339,
          340,
          341,
          342,
          343,
          344,
          345,
          346,
          347
         ],
         "xaxis": "x",
         "y": [
          1.0132913908727756,
          1.0423572781930128,
          1.044946820653557,
          1.0211462052319458,
          1.0452177586315845,
          1.0403786620920976,
          1.0581176076027201,
          1.062542628857572,
          1.0563013241984123,
          1.020171342241826,
          1.0316089077944943,
          1.015787065591721,
          1.009476171887731,
          1.0276328145289066,
          1.0439844952535615,
          1.0344476559837827,
          1.0737320212562902,
          1.0755336134409146,
          1.0894518818544985,
          1.1067130916340446,
          1.1015102591508186,
          1.0923747935296817,
          1.084939577961726,
          1.1049682850935538,
          1.0920264954854424,
          1.0864895549446612,
          1.0823070442788656,
          1.074805972956654,
          1.0544833715635884,
          1.0748714165035416,
          1.0844823098477057,
          1.075544482919818,
          1.0796029460023386,
          1.0804609962615368,
          1.0794443463367325,
          1.075817254033232,
          1.067485013856423,
          1.0484737371793251,
          1.0546712712891677,
          1.0576998916815872,
          1.0594919904768816,
          1.0681517317479543,
          1.07063195193323,
          1.0743601612220746,
          1.0644274145791925,
          1.049795990956326,
          1.0683552624551598,
          1.0675440404529828,
          1.0785959919118167,
          1.088203727577725,
          1.0775391974797621,
          1.051327427018926,
          1.059096682212571,
          1.065356023046708,
          1.0543084284613107,
          1.0300661314568733,
          1.0281444931778414,
          1.0810708785567573,
          1.0983195707943019,
          1.0966048808272009,
          1.0898560441960683,
          1.1079092583100236,
          1.1171148255709613,
          1.097993881417301,
          1.0852701715104134,
          1.0742674765097233,
          1.0668633522539521,
          1.057499751888986,
          1.0472909355674362,
          1.0565146377825678,
          1.0582446444193485,
          1.0905022896283778,
          1.0800693753870207,
          1.0550401041954072,
          1.038773340978575,
          1.0094501559134577,
          0.9986156089932203,
          1.012589738565779,
          0.9939348377309062,
          0.983464692349827,
          0.9809550004025628,
          0.9814704163045912,
          0.9852323111461737,
          0.985604579386567,
          0.9756792446848042,
          0.9640064491792685,
          0.9798196299186762,
          0.983708333816949,
          0.989503866073516,
          0.9669937746139432,
          0.9646932969184131,
          0.948733395362657,
          0.9597722708942354,
          0.9693323997267369,
          0.9735984561862772,
          0.9724415150681157,
          0.9867811244729836,
          1.0131563466102464,
          1.0223284394862797,
          1.018766170044514,
          1.03128240840147,
          1.0646166596937365,
          1.0930642718408423,
          1.1107851923348961,
          1.1149119708020936,
          1.145055284228462,
          1.1596164059469984,
          1.1616729168344921,
          1.125402775303834,
          1.1235492924689514,
          1.1440341269236007,
          1.1466902324314756,
          1.1306670347517545,
          1.1306206619427892,
          1.138736163631409,
          1.1509600580787125,
          1.1480221853274208,
          1.1556678599769024,
          1.1633019711243164,
          1.1604133377874943,
          1.1729970217779202,
          1.1727035641259007,
          1.177906414722765,
          1.1831370178562193,
          1.186543225060843,
          1.1589775245566996,
          1.146531030786383,
          1.1577052640763599,
          1.1744070867657492,
          1.20397961812918,
          1.232735989729812,
          1.2487156261501133,
          1.2030867098499962,
          1.2025032923754861,
          1.1811548131138505,
          1.194471638973925,
          1.185544700251145,
          1.198215689253113,
          1.1988931391340343,
          1.1663455268506968,
          1.1691440076038508,
          1.154679795103538,
          1.141572956008375,
          1.1248363233252832,
          1.1271121995437945,
          1.1088616105791875,
          1.1415035798954027,
          1.1499605099382277,
          1.1577992542048736,
          1.180040594434805,
          1.1663719546147508,
          1.1730428206671102,
          1.1545789148652594,
          1.1632064247009022,
          1.1899059622162806,
          1.1674915959996175,
          1.1747932254464055,
          1.1817721706977038,
          1.1747005288396668,
          1.1781561312269884,
          1.1751639531475884,
          1.178137284188956,
          1.1618833860958266,
          1.1232923408276243,
          1.1003539393067021,
          1.1063290042846294,
          1.1431546299574984,
          1.1371156361369512,
          1.1590492485013302,
          1.1316272282672128,
          1.1206078820896026,
          1.1307714628024137,
          1.1086444008213485,
          1.1095128562502903,
          1.1128169724911583,
          1.1278518419920958,
          1.1248483610303237,
          1.1380224422085299,
          1.1486330121874697,
          1.1438523447227418,
          1.1193952449875473,
          1.1085856032459123,
          1.0854261892889467,
          1.074216343875364,
          1.0875090577900761,
          1.0658817847167732,
          1.0764855599599845,
          1.0620936623373296,
          1.070135353406285,
          1.0525210004176753,
          1.048439456721664,
          1.0248969795698601,
          1.0198402142867493,
          1.0314232362672249,
          1.0225751767658644,
          1.0194660194274034,
          1.0267347855146471,
          1.003840552235072,
          0.9997372108730488,
          1.0153925203248506,
          1.0010217315327197,
          0.9838315211909145,
          0.9958436723677937,
          1.0099935995159366,
          1.0218731472101141,
          1.0182406730707056,
          1.009290034199389,
          0.9987930361168703,
          0.9967771999561716,
          0.99934354917883,
          1.0011454344298263,
          0.9898206448639951,
          0.9887852186668526,
          0.9812752875468153,
          0.9608789071270394,
          0.9936169998572052,
          0.9806533152466449,
          0.9693713876526977,
          0.9837157686900858,
          0.9752748649260257,
          0.9869807425107199,
          0.9792273966391856,
          0.9489705354785875,
          0.9619718223080557,
          0.9651989781557443,
          0.9716683812476342,
          0.9589175969982707,
          0.955438384318319,
          0.9481081112712072,
          0.9432550923682461,
          0.9367010143536683,
          0.9381533830837937,
          0.940571747955234,
          0.9576435948615223,
          0.9432414368353238,
          0.9611512456029949,
          0.9596630841926337,
          0.9762187288322858,
          0.9812371835297312,
          0.9863456295002944,
          0.9795608956980192,
          0.9610902386803526,
          0.9827935937976681,
          0.9882721447519861,
          1.0101213394487618,
          0.9949767448349932,
          0.9915111454965102,
          1.0014497716214223,
          0.9964919094051644,
          0.9899062444975274,
          0.968344551994755,
          0.967660753750069,
          0.9738960985453918,
          0.9513743107086948,
          0.9562506839396451,
          0.9698535216849026,
          0.9532360519025846,
          0.9558457654593506,
          0.9430958743202332,
          0.9365731020804754,
          0.9360583905268204,
          0.9467464497557655,
          0.9421582042497509,
          0.9149107710142698,
          0.9078921870626795,
          0.9061768259853878,
          0.9086724102818908,
          0.923943027746649,
          0.9175356738880976,
          0.9350815924786736,
          0.9344819509627462,
          0.9448118205714459,
          0.9470967338926914,
          0.9544676350873778,
          0.9507753670649425,
          0.9524925683646281,
          0.9488164220065635,
          0.9405206901281749,
          0.9423069674001542,
          0.9370694875766501,
          0.9402276800347086,
          0.957569752746677,
          0.9523323978454507,
          0.9433473643193376,
          0.9433631326830483,
          0.9355963083855489,
          0.9396920240596665,
          0.9480724365412897,
          0.9223321372174687,
          0.9402896635799438,
          0.9518435316281372,
          0.9346912960974004,
          0.9308246907325414,
          0.9389196885422081,
          0.9410048659612442,
          0.9547682878180734,
          0.9588394916827881,
          0.9287163305940445,
          0.9433959599382994,
          0.9429052758642675,
          0.9421441375342108,
          0.9185233229846241,
          0.9123300817596464,
          0.9460801833777722,
          0.9328415512706771,
          0.9378491015859283,
          0.9481984902653298,
          0.9568314221251841,
          0.9805079325084907,
          0.9705223026635961,
          0.9847606090764521,
          0.9830049492122882,
          0.9720235937230542,
          0.9599359592740674,
          0.9751626897319103,
          0.9899135123482314,
          1.0175496748931776,
          1.001826011651563,
          1.0011029310869284,
          1.0167076242762958,
          1.0151145631779632,
          1.0133857793765353,
          1.0352248910529243,
          1.0136166704961913,
          1.026300868789078,
          1.0070822996320166,
          1.0023489538281884,
          1.008206802383136,
          1.0321888902883383,
          1.0354185620139194,
          1.0407723023762796,
          1.0345103012481531,
          1.0132525598680244,
          1.0313937742082413,
          1.0183020462012133,
          1.023106963660681,
          1.030433841014429,
          1.0242157489935224,
          1.0508078127783136,
          1.0554051642187168,
          1.0551081969327147,
          1.0640274892936445,
          1.0660876285422414,
          1.0501153147247888,
          1.0488710484760106,
          1.0476908370860891,
          1.019125423362418,
          1.026675298250633
         ],
         "yaxis": "y"
        },
        {
         "hovertemplate": "variable=stock 3<br>index=%{x}<br>value=%{y}<extra></extra>",
         "legendgroup": "stock 3",
         "line": {
          "color": "#00cc96",
          "dash": "solid"
         },
         "marker": {
          "symbol": "circle"
         },
         "mode": "lines",
         "name": "stock 3",
         "showlegend": true,
         "type": "scattergl",
         "x": [
          0,
          1,
          2,
          3,
          4,
          5,
          6,
          7,
          8,
          9,
          10,
          11,
          12,
          13,
          14,
          15,
          16,
          17,
          18,
          19,
          20,
          21,
          22,
          23,
          24,
          25,
          26,
          27,
          28,
          29,
          30,
          31,
          32,
          33,
          34,
          35,
          36,
          37,
          38,
          39,
          40,
          41,
          42,
          43,
          44,
          45,
          46,
          47,
          48,
          49,
          50,
          51,
          52,
          53,
          54,
          55,
          56,
          57,
          58,
          59,
          60,
          61,
          62,
          63,
          64,
          65,
          66,
          67,
          68,
          69,
          70,
          71,
          72,
          73,
          74,
          75,
          76,
          77,
          78,
          79,
          80,
          81,
          82,
          83,
          84,
          85,
          86,
          87,
          88,
          89,
          90,
          91,
          92,
          93,
          94,
          95,
          96,
          97,
          98,
          99,
          100,
          101,
          102,
          103,
          104,
          105,
          106,
          107,
          108,
          109,
          110,
          111,
          112,
          113,
          114,
          115,
          116,
          117,
          118,
          119,
          120,
          121,
          122,
          123,
          124,
          125,
          126,
          127,
          128,
          129,
          130,
          131,
          132,
          133,
          134,
          135,
          136,
          137,
          138,
          139,
          140,
          141,
          142,
          143,
          144,
          145,
          146,
          147,
          148,
          149,
          150,
          151,
          152,
          153,
          154,
          155,
          156,
          157,
          158,
          159,
          160,
          161,
          162,
          163,
          164,
          165,
          166,
          167,
          168,
          169,
          170,
          171,
          172,
          173,
          174,
          175,
          176,
          177,
          178,
          179,
          180,
          181,
          182,
          183,
          184,
          185,
          186,
          187,
          188,
          189,
          190,
          191,
          192,
          193,
          194,
          195,
          196,
          197,
          198,
          199,
          200,
          201,
          202,
          203,
          204,
          205,
          206,
          207,
          208,
          209,
          210,
          211,
          212,
          213,
          214,
          215,
          216,
          217,
          218,
          219,
          220,
          221,
          222,
          223,
          224,
          225,
          226,
          227,
          228,
          229,
          230,
          231,
          232,
          233,
          234,
          235,
          236,
          237,
          238,
          239,
          240,
          241,
          242,
          243,
          244,
          245,
          246,
          247,
          248,
          249,
          250,
          251,
          252,
          253,
          254,
          255,
          256,
          257,
          258,
          259,
          260,
          261,
          262,
          263,
          264,
          265,
          266,
          267,
          268,
          269,
          270,
          271,
          272,
          273,
          274,
          275,
          276,
          277,
          278,
          279,
          280,
          281,
          282,
          283,
          284,
          285,
          286,
          287,
          288,
          289,
          290,
          291,
          292,
          293,
          294,
          295,
          296,
          297,
          298,
          299,
          300,
          301,
          302,
          303,
          304,
          305,
          306,
          307,
          308,
          309,
          310,
          311,
          312,
          313,
          314,
          315,
          316,
          317,
          318,
          319,
          320,
          321,
          322,
          323,
          324,
          325,
          326,
          327,
          328,
          329,
          330,
          331,
          332,
          333,
          334,
          335,
          336,
          337,
          338,
          339,
          340,
          341,
          342,
          343,
          344,
          345,
          346,
          347
         ],
         "xaxis": "x",
         "y": [
          1.0449708376244422,
          1.0208320298629712,
          1.0438442522103928,
          1.0653309779864968,
          1.0526198661749087,
          1.0459736130441668,
          1.059329354544535,
          1.0501382336000402,
          1.1274084685625647,
          1.1148485150305516,
          1.1065883710059228,
          1.0991688920520328,
          1.1086072834718403,
          1.1304479307157178,
          1.1615495555944653,
          1.1913097591937725,
          1.193760106415109,
          1.1611815841062854,
          1.146211449577009,
          1.126236984965808,
          1.0950285580690637,
          1.078347025877634,
          1.0915934369029836,
          1.1054249891856773,
          1.0974276082142227,
          1.0520862698201074,
          1.013458243949687,
          0.9861516848946233,
          1.012806691668603,
          1.0179497574319056,
          1.0009233889500189,
          0.9654357013751902,
          0.9535789908086646,
          0.9443346915216584,
          0.944565978333232,
          0.9357848278371033,
          0.9092839152512557,
          0.9093096836081367,
          0.884307822483864,
          0.8525463202931537,
          0.8347516243193945,
          0.8456892847346665,
          0.8318553654783797,
          0.8189781532633984,
          0.8485168461644675,
          0.8918521359653231,
          0.9347086839419497,
          0.9367600492803315,
          0.9356762929419672,
          0.9302219339414709,
          0.9375823138880104,
          0.9680069309860662,
          0.9365782823230041,
          0.9353987729508705,
          0.9502791425905291,
          0.9287275783722118,
          0.9197660224687699,
          0.8875856631512045,
          0.9023828078993585,
          0.9110238205497265,
          0.9187518682532202,
          0.8922359937493899,
          0.8991184387947664,
          0.8807916993931236,
          0.8497633299681465,
          0.8645027326741294,
          0.8743640343622309,
          0.860294108023544,
          0.8496821774875654,
          0.8603781353419336,
          0.8851947602285503,
          0.9007435633733308,
          0.9311993389989455,
          0.9061031398024784,
          0.8867159325615217,
          0.8718433286035556,
          0.85670221212974,
          0.8844630407884367,
          0.8644261281908793,
          0.8438776006793107,
          0.8413833812852922,
          0.8245685033228742,
          0.8455643084253142,
          0.8566918064003007,
          0.8351860134885127,
          0.8397312253032266,
          0.8192135913040433,
          0.8071402409869982,
          0.8267321372055774,
          0.811021770025588,
          0.7953677481961147,
          0.7998247202809368,
          0.7884619236862354,
          0.7986234290613629,
          0.7774474195837419,
          0.7844449936490414,
          0.8300055016184769,
          0.8274371166147639,
          0.8361666087035345,
          0.8516453523555535,
          0.8494523923108604,
          0.8406201354818962,
          0.8380546644831266,
          0.8358112337958463,
          0.8200364827119953,
          0.8458891235988931,
          0.8586474758543602,
          0.8387867401157578,
          0.8270463015922067,
          0.8324748152981973,
          0.8268924586733221,
          0.8374983874883108,
          0.8414514815754831,
          0.8208045734100946,
          0.859876066519855,
          0.8530057353729922,
          0.838947793525588,
          0.8838524088759661,
          0.8671912667749094,
          0.8684281471036716,
          0.8545859307825012,
          0.8474495389653967,
          0.8374159481175119,
          0.8581317706022238,
          0.8426568815777665,
          0.8212868520927331,
          0.8306227288241337,
          0.8481132144707384,
          0.8101061810407532,
          0.7826764634136848,
          0.7726468393903778,
          0.7908805568600074,
          0.8035364312257058,
          0.8135454441515965,
          0.7880330136373127,
          0.8139613947032054,
          0.824088303992805,
          0.8132121880501969,
          0.7993054918202263,
          0.8212926791993026,
          0.7974904628584375,
          0.8197930299535963,
          0.8304968624323522,
          0.8107488123611806,
          0.787645558906878,
          0.8016389395718082,
          0.8017612399418631,
          0.8099891999471849,
          0.8309962897652334,
          0.851995300980323,
          0.8448128352031954,
          0.812714632269078,
          0.8082081581364331,
          0.8262629276478989,
          0.8543487024624183,
          0.8601984320552308,
          0.8602925358432552,
          0.8769683809233311,
          0.8697682721445218,
          0.8550660189433652,
          0.8312674090580686,
          0.8189506849490944,
          0.7890321774535466,
          0.7664968488562559,
          0.7976294139523663,
          0.7864071668640504,
          0.7854396563626811,
          0.8060812451532869,
          0.8359725847445977,
          0.8309724020121526,
          0.8675408879351274,
          0.8883695275565586,
          0.9262813539697197,
          0.9008690636559408,
          0.8897803470691584,
          0.9029101126409802,
          0.8761440401513871,
          0.85498350698596,
          0.8458037268873267,
          0.8398429643644549,
          0.8409891179548533,
          0.8107320619802455,
          0.8197931053382319,
          0.8101058572149605,
          0.8164499398192929,
          0.8269301746324702,
          0.8204584445697125,
          0.8086376097639194,
          0.8314843057672305,
          0.8464823526925359,
          0.843625006328776,
          0.8179648575442352,
          0.8171479384989814,
          0.8272850028648676,
          0.8472877325349524,
          0.8556665562935997,
          0.8667816526822195,
          0.8756339894247097,
          0.8787429051377706,
          0.922125616310349,
          0.9441281386832231,
          0.9224385790244293,
          0.9338865932919364,
          1.0039557568925768,
          1.0226576038831496,
          1.039759512019978,
          1.0336974237457264,
          1.011608001699857,
          1.015270202009701,
          1.010301192291371,
          1.0485662377713358,
          1.0398527700396383,
          1.0667996519689846,
          1.0836968023201754,
          1.0637080050263088,
          1.1080189195339645,
          1.0976036325483949,
          1.119718568174791,
          1.1517257226522437,
          1.210315980198448,
          1.1970438193031927,
          1.1716561827463416,
          1.1925824118488066,
          1.1819587562648848,
          1.209054177936817,
          1.2101257580475453,
          1.2232780126367118,
          1.2602430909577036,
          1.2165124755034666,
          1.2366844678404503,
          1.2733637236758693,
          1.2380822879416469,
          1.2308745332342625,
          1.2327424887053053,
          1.2041335314000494,
          1.2149484027438548,
          1.2221067624374615,
          1.214574272556878,
          1.2488865492311234,
          1.2558453789229989,
          1.2536142772924102,
          1.2105756626144153,
          1.2243293871437908,
          1.1847430609811673,
          1.1958318776410088,
          1.2175856526872366,
          1.2295221705492372,
          1.2649679877422866,
          1.314366721111931,
          1.3419463046063584,
          1.2917580990379338,
          1.2720551273349316,
          1.3223206805133465,
          1.3461789060148328,
          1.336412856351244,
          1.3026663935431793,
          1.2988693950887826,
          1.3309773205935356,
          1.3265713141251076,
          1.3365972972033173,
          1.3118230567538447,
          1.3030492235461246,
          1.3261414009836732,
          1.3031703174470992,
          1.3423455499030652,
          1.3317132791279993,
          1.3363018526418642,
          1.2772493034232832,
          1.2508402388846926,
          1.196132283296941,
          1.1771482575233962,
          1.1280718960422664,
          1.1055397527221265,
          1.1264585279560289,
          1.1332831976012694,
          1.1360817790611508,
          1.1489059812698952,
          1.156729177750471,
          1.1126858723784743,
          1.1579113005285508,
          1.1911112917690179,
          1.1877858033974893,
          1.1676560623590413,
          1.206974173520987,
          1.2238036866139939,
          1.2373271853284493,
          1.2821757428509282,
          1.28068620100173,
          1.284729686323692,
          1.3163448338332686,
          1.2868357364086742,
          1.3064222181243332,
          1.2478022926268943,
          1.2504390477634835,
          1.2421160751081348,
          1.2181929718637592,
          1.210593352944817,
          1.2226932311359666,
          1.1818180361905721,
          1.1405696062784623,
          1.139646450378531,
          1.1390025195552904,
          1.1131880566278647,
          1.1677971978221775,
          1.141886579801258,
          1.1823448834957238,
          1.2273448611515692,
          1.2771086555072941,
          1.2580781850430518,
          1.2398241476716445,
          1.2281270155086181,
          1.2400977921143836,
          1.2235428753275237,
          1.2260368422840604,
          1.2031666244834798,
          1.2033867304320793,
          1.1978541548114214,
          1.202251841307332,
          1.239671030649126,
          1.2346210608110004,
          1.2442247414398742,
          1.298380712229294,
          1.275446977425163,
          1.229169349449618,
          1.2442111068017117,
          1.275523618261809,
          1.2423928012079357,
          1.2905415947102106,
          1.3085386784114656,
          1.3166066304454405,
          1.2876758463143219,
          1.2472172129370156,
          1.2953481626489867,
          1.2501558672682402,
          1.2296483016142128,
          1.1786644132610367,
          1.187110240628388,
          1.1685971194186038,
          1.1874404970470835,
          1.1894388955785828,
          1.1743086739346162,
          1.1398525347391506,
          1.1202814015119247,
          1.141588845298891,
          1.1493234130309635,
          1.1412384567239853,
          1.1301767843987582,
          1.122905442548258
         ],
         "yaxis": "y"
        }
       ],
       "layout": {
        "legend": {
         "title": {
          "text": "variable"
         },
         "tracegroupgap": 0
        },
        "margin": {
         "t": 60
        },
        "template": {
         "data": {
          "bar": [
           {
            "error_x": {
             "color": "#2a3f5f"
            },
            "error_y": {
             "color": "#2a3f5f"
            },
            "marker": {
             "line": {
              "color": "#E5ECF6",
              "width": 0.5
             },
             "pattern": {
              "fillmode": "overlay",
              "size": 10,
              "solidity": 0.2
             }
            },
            "type": "bar"
           }
          ],
          "barpolar": [
           {
            "marker": {
             "line": {
              "color": "#E5ECF6",
              "width": 0.5
             },
             "pattern": {
              "fillmode": "overlay",
              "size": 10,
              "solidity": 0.2
             }
            },
            "type": "barpolar"
           }
          ],
          "carpet": [
           {
            "aaxis": {
             "endlinecolor": "#2a3f5f",
             "gridcolor": "white",
             "linecolor": "white",
             "minorgridcolor": "white",
             "startlinecolor": "#2a3f5f"
            },
            "baxis": {
             "endlinecolor": "#2a3f5f",
             "gridcolor": "white",
             "linecolor": "white",
             "minorgridcolor": "white",
             "startlinecolor": "#2a3f5f"
            },
            "type": "carpet"
           }
          ],
          "choropleth": [
           {
            "colorbar": {
             "outlinewidth": 0,
             "ticks": ""
            },
            "type": "choropleth"
           }
          ],
          "contour": [
           {
            "colorbar": {
             "outlinewidth": 0,
             "ticks": ""
            },
            "colorscale": [
             [
              0,
              "#0d0887"
             ],
             [
              0.1111111111111111,
              "#46039f"
             ],
             [
              0.2222222222222222,
              "#7201a8"
             ],
             [
              0.3333333333333333,
              "#9c179e"
             ],
             [
              0.4444444444444444,
              "#bd3786"
             ],
             [
              0.5555555555555556,
              "#d8576b"
             ],
             [
              0.6666666666666666,
              "#ed7953"
             ],
             [
              0.7777777777777778,
              "#fb9f3a"
             ],
             [
              0.8888888888888888,
              "#fdca26"
             ],
             [
              1,
              "#f0f921"
             ]
            ],
            "type": "contour"
           }
          ],
          "contourcarpet": [
           {
            "colorbar": {
             "outlinewidth": 0,
             "ticks": ""
            },
            "type": "contourcarpet"
           }
          ],
          "heatmap": [
           {
            "colorbar": {
             "outlinewidth": 0,
             "ticks": ""
            },
            "colorscale": [
             [
              0,
              "#0d0887"
             ],
             [
              0.1111111111111111,
              "#46039f"
             ],
             [
              0.2222222222222222,
              "#7201a8"
             ],
             [
              0.3333333333333333,
              "#9c179e"
             ],
             [
              0.4444444444444444,
              "#bd3786"
             ],
             [
              0.5555555555555556,
              "#d8576b"
             ],
             [
              0.6666666666666666,
              "#ed7953"
             ],
             [
              0.7777777777777778,
              "#fb9f3a"
             ],
             [
              0.8888888888888888,
              "#fdca26"
             ],
             [
              1,
              "#f0f921"
             ]
            ],
            "type": "heatmap"
           }
          ],
          "heatmapgl": [
           {
            "colorbar": {
             "outlinewidth": 0,
             "ticks": ""
            },
            "colorscale": [
             [
              0,
              "#0d0887"
             ],
             [
              0.1111111111111111,
              "#46039f"
             ],
             [
              0.2222222222222222,
              "#7201a8"
             ],
             [
              0.3333333333333333,
              "#9c179e"
             ],
             [
              0.4444444444444444,
              "#bd3786"
             ],
             [
              0.5555555555555556,
              "#d8576b"
             ],
             [
              0.6666666666666666,
              "#ed7953"
             ],
             [
              0.7777777777777778,
              "#fb9f3a"
             ],
             [
              0.8888888888888888,
              "#fdca26"
             ],
             [
              1,
              "#f0f921"
             ]
            ],
            "type": "heatmapgl"
           }
          ],
          "histogram": [
           {
            "marker": {
             "pattern": {
              "fillmode": "overlay",
              "size": 10,
              "solidity": 0.2
             }
            },
            "type": "histogram"
           }
          ],
          "histogram2d": [
           {
            "colorbar": {
             "outlinewidth": 0,
             "ticks": ""
            },
            "colorscale": [
             [
              0,
              "#0d0887"
             ],
             [
              0.1111111111111111,
              "#46039f"
             ],
             [
              0.2222222222222222,
              "#7201a8"
             ],
             [
              0.3333333333333333,
              "#9c179e"
             ],
             [
              0.4444444444444444,
              "#bd3786"
             ],
             [
              0.5555555555555556,
              "#d8576b"
             ],
             [
              0.6666666666666666,
              "#ed7953"
             ],
             [
              0.7777777777777778,
              "#fb9f3a"
             ],
             [
              0.8888888888888888,
              "#fdca26"
             ],
             [
              1,
              "#f0f921"
             ]
            ],
            "type": "histogram2d"
           }
          ],
          "histogram2dcontour": [
           {
            "colorbar": {
             "outlinewidth": 0,
             "ticks": ""
            },
            "colorscale": [
             [
              0,
              "#0d0887"
             ],
             [
              0.1111111111111111,
              "#46039f"
             ],
             [
              0.2222222222222222,
              "#7201a8"
             ],
             [
              0.3333333333333333,
              "#9c179e"
             ],
             [
              0.4444444444444444,
              "#bd3786"
             ],
             [
              0.5555555555555556,
              "#d8576b"
             ],
             [
              0.6666666666666666,
              "#ed7953"
             ],
             [
              0.7777777777777778,
              "#fb9f3a"
             ],
             [
              0.8888888888888888,
              "#fdca26"
             ],
             [
              1,
              "#f0f921"
             ]
            ],
            "type": "histogram2dcontour"
           }
          ],
          "mesh3d": [
           {
            "colorbar": {
             "outlinewidth": 0,
             "ticks": ""
            },
            "type": "mesh3d"
           }
          ],
          "parcoords": [
           {
            "line": {
             "colorbar": {
              "outlinewidth": 0,
              "ticks": ""
             }
            },
            "type": "parcoords"
           }
          ],
          "pie": [
           {
            "automargin": true,
            "type": "pie"
           }
          ],
          "scatter": [
           {
            "fillpattern": {
             "fillmode": "overlay",
             "size": 10,
             "solidity": 0.2
            },
            "type": "scatter"
           }
          ],
          "scatter3d": [
           {
            "line": {
             "colorbar": {
              "outlinewidth": 0,
              "ticks": ""
             }
            },
            "marker": {
             "colorbar": {
              "outlinewidth": 0,
              "ticks": ""
             }
            },
            "type": "scatter3d"
           }
          ],
          "scattercarpet": [
           {
            "marker": {
             "colorbar": {
              "outlinewidth": 0,
              "ticks": ""
             }
            },
            "type": "scattercarpet"
           }
          ],
          "scattergeo": [
           {
            "marker": {
             "colorbar": {
              "outlinewidth": 0,
              "ticks": ""
             }
            },
            "type": "scattergeo"
           }
          ],
          "scattergl": [
           {
            "marker": {
             "colorbar": {
              "outlinewidth": 0,
              "ticks": ""
             }
            },
            "type": "scattergl"
           }
          ],
          "scattermapbox": [
           {
            "marker": {
             "colorbar": {
              "outlinewidth": 0,
              "ticks": ""
             }
            },
            "type": "scattermapbox"
           }
          ],
          "scatterpolar": [
           {
            "marker": {
             "colorbar": {
              "outlinewidth": 0,
              "ticks": ""
             }
            },
            "type": "scatterpolar"
           }
          ],
          "scatterpolargl": [
           {
            "marker": {
             "colorbar": {
              "outlinewidth": 0,
              "ticks": ""
             }
            },
            "type": "scatterpolargl"
           }
          ],
          "scatterternary": [
           {
            "marker": {
             "colorbar": {
              "outlinewidth": 0,
              "ticks": ""
             }
            },
            "type": "scatterternary"
           }
          ],
          "surface": [
           {
            "colorbar": {
             "outlinewidth": 0,
             "ticks": ""
            },
            "colorscale": [
             [
              0,
              "#0d0887"
             ],
             [
              0.1111111111111111,
              "#46039f"
             ],
             [
              0.2222222222222222,
              "#7201a8"
             ],
             [
              0.3333333333333333,
              "#9c179e"
             ],
             [
              0.4444444444444444,
              "#bd3786"
             ],
             [
              0.5555555555555556,
              "#d8576b"
             ],
             [
              0.6666666666666666,
              "#ed7953"
             ],
             [
              0.7777777777777778,
              "#fb9f3a"
             ],
             [
              0.8888888888888888,
              "#fdca26"
             ],
             [
              1,
              "#f0f921"
             ]
            ],
            "type": "surface"
           }
          ],
          "table": [
           {
            "cells": {
             "fill": {
              "color": "#EBF0F8"
             },
             "line": {
              "color": "white"
             }
            },
            "header": {
             "fill": {
              "color": "#C8D4E3"
             },
             "line": {
              "color": "white"
             }
            },
            "type": "table"
           }
          ]
         },
         "layout": {
          "annotationdefaults": {
           "arrowcolor": "#2a3f5f",
           "arrowhead": 0,
           "arrowwidth": 1
          },
          "autotypenumbers": "strict",
          "coloraxis": {
           "colorbar": {
            "outlinewidth": 0,
            "ticks": ""
           }
          },
          "colorscale": {
           "diverging": [
            [
             0,
             "#8e0152"
            ],
            [
             0.1,
             "#c51b7d"
            ],
            [
             0.2,
             "#de77ae"
            ],
            [
             0.3,
             "#f1b6da"
            ],
            [
             0.4,
             "#fde0ef"
            ],
            [
             0.5,
             "#f7f7f7"
            ],
            [
             0.6,
             "#e6f5d0"
            ],
            [
             0.7,
             "#b8e186"
            ],
            [
             0.8,
             "#7fbc41"
            ],
            [
             0.9,
             "#4d9221"
            ],
            [
             1,
             "#276419"
            ]
           ],
           "sequential": [
            [
             0,
             "#0d0887"
            ],
            [
             0.1111111111111111,
             "#46039f"
            ],
            [
             0.2222222222222222,
             "#7201a8"
            ],
            [
             0.3333333333333333,
             "#9c179e"
            ],
            [
             0.4444444444444444,
             "#bd3786"
            ],
            [
             0.5555555555555556,
             "#d8576b"
            ],
            [
             0.6666666666666666,
             "#ed7953"
            ],
            [
             0.7777777777777778,
             "#fb9f3a"
            ],
            [
             0.8888888888888888,
             "#fdca26"
            ],
            [
             1,
             "#f0f921"
            ]
           ],
           "sequentialminus": [
            [
             0,
             "#0d0887"
            ],
            [
             0.1111111111111111,
             "#46039f"
            ],
            [
             0.2222222222222222,
             "#7201a8"
            ],
            [
             0.3333333333333333,
             "#9c179e"
            ],
            [
             0.4444444444444444,
             "#bd3786"
            ],
            [
             0.5555555555555556,
             "#d8576b"
            ],
            [
             0.6666666666666666,
             "#ed7953"
            ],
            [
             0.7777777777777778,
             "#fb9f3a"
            ],
            [
             0.8888888888888888,
             "#fdca26"
            ],
            [
             1,
             "#f0f921"
            ]
           ]
          },
          "colorway": [
           "#636efa",
           "#EF553B",
           "#00cc96",
           "#ab63fa",
           "#FFA15A",
           "#19d3f3",
           "#FF6692",
           "#B6E880",
           "#FF97FF",
           "#FECB52"
          ],
          "font": {
           "color": "#2a3f5f"
          },
          "geo": {
           "bgcolor": "white",
           "lakecolor": "white",
           "landcolor": "#E5ECF6",
           "showlakes": true,
           "showland": true,
           "subunitcolor": "white"
          },
          "hoverlabel": {
           "align": "left"
          },
          "hovermode": "closest",
          "mapbox": {
           "style": "light"
          },
          "paper_bgcolor": "white",
          "plot_bgcolor": "#E5ECF6",
          "polar": {
           "angularaxis": {
            "gridcolor": "white",
            "linecolor": "white",
            "ticks": ""
           },
           "bgcolor": "#E5ECF6",
           "radialaxis": {
            "gridcolor": "white",
            "linecolor": "white",
            "ticks": ""
           }
          },
          "scene": {
           "xaxis": {
            "backgroundcolor": "#E5ECF6",
            "gridcolor": "white",
            "gridwidth": 2,
            "linecolor": "white",
            "showbackground": true,
            "ticks": "",
            "zerolinecolor": "white"
           },
           "yaxis": {
            "backgroundcolor": "#E5ECF6",
            "gridcolor": "white",
            "gridwidth": 2,
            "linecolor": "white",
            "showbackground": true,
            "ticks": "",
            "zerolinecolor": "white"
           },
           "zaxis": {
            "backgroundcolor": "#E5ECF6",
            "gridcolor": "white",
            "gridwidth": 2,
            "linecolor": "white",
            "showbackground": true,
            "ticks": "",
            "zerolinecolor": "white"
           }
          },
          "shapedefaults": {
           "line": {
            "color": "#2a3f5f"
           }
          },
          "ternary": {
           "aaxis": {
            "gridcolor": "white",
            "linecolor": "white",
            "ticks": ""
           },
           "baxis": {
            "gridcolor": "white",
            "linecolor": "white",
            "ticks": ""
           },
           "bgcolor": "#E5ECF6",
           "caxis": {
            "gridcolor": "white",
            "linecolor": "white",
            "ticks": ""
           }
          },
          "title": {
           "x": 0.05
          },
          "xaxis": {
           "automargin": true,
           "gridcolor": "white",
           "linecolor": "white",
           "ticks": "",
           "title": {
            "standoff": 15
           },
           "zerolinecolor": "white",
           "zerolinewidth": 2
          },
          "yaxis": {
           "automargin": true,
           "gridcolor": "white",
           "linecolor": "white",
           "ticks": "",
           "title": {
            "standoff": 15
           },
           "zerolinecolor": "white",
           "zerolinewidth": 2
          }
         }
        },
        "xaxis": {
         "anchor": "y",
         "domain": [
          0,
          1
         ],
         "title": {
          "text": "index"
         }
        },
        "yaxis": {
         "anchor": "x",
         "domain": [
          0,
          1
         ],
         "title": {
          "text": "value"
         }
        }
       }
      }
     },
     "metadata": {},
     "output_type": "display_data"
    }
   ],
   "source": [
    "px.line(test_df)"
   ]
  },
  {
   "cell_type": "code",
   "execution_count": 25,
   "metadata": {},
   "outputs": [
    {
     "data": {
      "application/vnd.jupyter.widget-view+json": {
       "model_id": "b68e393e58e849fa8a2c53e1b31f9ea4",
       "version_major": 2,
       "version_minor": 0
      },
      "text/plain": [
       "  0%|          | 0/3 [00:00<?, ?it/s]"
      ]
     },
     "metadata": {},
     "output_type": "display_data"
    },
    {
     "data": {
      "application/vnd.jupyter.widget-view+json": {
       "model_id": "6a5e0acf066641939534b591bb4f143d",
       "version_major": 2,
       "version_minor": 0
      },
      "text/plain": [
       "  0%|          | 0/378 [00:00<?, ?it/s]"
      ]
     },
     "metadata": {},
     "output_type": "display_data"
    },
    {
     "ename": "KeyboardInterrupt",
     "evalue": "",
     "output_type": "error",
     "traceback": [
      "\u001b[0;31m---------------------------------------------------------------------------\u001b[0m",
      "\u001b[0;31mKeyboardInterrupt\u001b[0m                         Traceback (most recent call last)",
      "\u001b[1;32m/Users/timothytan/Documents/Documents – Timothy’s MacBook Pro/School/Y4S1/MH4518/Simulation-in-Finance/sim.ipynb Cell 32\u001b[0m in \u001b[0;36m<cell line: 23>\u001b[0;34m()\u001b[0m\n\u001b[1;32m     <a href='vscode-notebook-cell:/Users/timothytan/Documents/Documents%20%E2%80%93%20Timothy%E2%80%99s%20MacBook%20Pro/School/Y4S1/MH4518/Simulation-in-Finance/sim.ipynb#X40sZmlsZQ%3D%3D?line=22'>23</a>\u001b[0m \u001b[39mfor\u001b[39;00m i, (sim_func, var_reduction) \u001b[39min\u001b[39;00m \u001b[39menumerate\u001b[39m( tqdm( simulations ) ):\n\u001b[1;32m     <a href='vscode-notebook-cell:/Users/timothytan/Documents/Documents%20%E2%80%93%20Timothy%E2%80%99s%20MacBook%20Pro/School/Y4S1/MH4518/Simulation-in-Finance/sim.ipynb#X40sZmlsZQ%3D%3D?line=23'>24</a>\u001b[0m     \u001b[39mfor\u001b[39;00m t \u001b[39min\u001b[39;00m tqdm(\u001b[39mrange\u001b[39m(m), leave\u001b[39m=\u001b[39m\u001b[39mFalse\u001b[39;00m):\n\u001b[0;32m---> <a href='vscode-notebook-cell:/Users/timothytan/Documents/Documents%20%E2%80%93%20Timothy%E2%80%99s%20MacBook%20Pro/School/Y4S1/MH4518/Simulation-in-Finance/sim.ipynb#X40sZmlsZQ%3D%3D?line=24'>25</a>\u001b[0m         expected_payoffs[i][t] \u001b[39m=\u001b[39m simulate(t, sim_func, var_reduction)\n",
      "\u001b[1;32m/Users/timothytan/Documents/Documents – Timothy’s MacBook Pro/School/Y4S1/MH4518/Simulation-in-Finance/sim.ipynb Cell 32\u001b[0m in \u001b[0;36msimulate\u001b[0;34m(t, sim_func, var_reduction)\u001b[0m\n\u001b[1;32m      <a href='vscode-notebook-cell:/Users/timothytan/Documents/Documents%20%E2%80%93%20Timothy%E2%80%99s%20MacBook%20Pro/School/Y4S1/MH4518/Simulation-in-Finance/sim.ipynb#X40sZmlsZQ%3D%3D?line=5'>6</a>\u001b[0m \u001b[39mdef\u001b[39;00m \u001b[39msimulate\u001b[39m(t, sim_func, var_reduction):\n\u001b[1;32m      <a href='vscode-notebook-cell:/Users/timothytan/Documents/Documents%20%E2%80%93%20Timothy%E2%80%99s%20MacBook%20Pro/School/Y4S1/MH4518/Simulation-in-Finance/sim.ipynb#X40sZmlsZQ%3D%3D?line=6'>7</a>\u001b[0m     r \u001b[39m=\u001b[39m calc_rates(t, m, rates)\n\u001b[0;32m----> <a href='vscode-notebook-cell:/Users/timothytan/Documents/Documents%20%E2%80%93%20Timothy%E2%80%99s%20MacBook%20Pro/School/Y4S1/MH4518/Simulation-in-Finance/sim.ipynb#X40sZmlsZQ%3D%3D?line=8'>9</a>\u001b[0m     paths \u001b[39m=\u001b[39m n_path_sim(asset_hist\u001b[39m=\u001b[39;49masset_hist,\n\u001b[1;32m     <a href='vscode-notebook-cell:/Users/timothytan/Documents/Documents%20%E2%80%93%20Timothy%E2%80%99s%20MacBook%20Pro/School/Y4S1/MH4518/Simulation-in-Finance/sim.ipynb#X40sZmlsZQ%3D%3D?line=9'>10</a>\u001b[0m                     Nsim\u001b[39m=\u001b[39;49m\u001b[39m50\u001b[39;49m,\n\u001b[1;32m     <a href='vscode-notebook-cell:/Users/timothytan/Documents/Documents%20%E2%80%93%20Timothy%E2%80%99s%20MacBook%20Pro/School/Y4S1/MH4518/Simulation-in-Finance/sim.ipynb#X40sZmlsZQ%3D%3D?line=10'>11</a>\u001b[0m                     t\u001b[39m=\u001b[39;49mt,\n\u001b[1;32m     <a href='vscode-notebook-cell:/Users/timothytan/Documents/Documents%20%E2%80%93%20Timothy%E2%80%99s%20MacBook%20Pro/School/Y4S1/MH4518/Simulation-in-Finance/sim.ipynb#X40sZmlsZQ%3D%3D?line=11'>12</a>\u001b[0m                     r\u001b[39m=\u001b[39;49mr,\n\u001b[1;32m     <a href='vscode-notebook-cell:/Users/timothytan/Documents/Documents%20%E2%80%93%20Timothy%E2%80%99s%20MacBook%20Pro/School/Y4S1/MH4518/Simulation-in-Finance/sim.ipynb#X40sZmlsZQ%3D%3D?line=12'>13</a>\u001b[0m                     dt\u001b[39m=\u001b[39;49mdt,\n\u001b[1;32m     <a href='vscode-notebook-cell:/Users/timothytan/Documents/Documents%20%E2%80%93%20Timothy%E2%80%99s%20MacBook%20Pro/School/Y4S1/MH4518/Simulation-in-Finance/sim.ipynb#X40sZmlsZQ%3D%3D?line=13'>14</a>\u001b[0m                     p\u001b[39m=\u001b[39;49m\u001b[39m3\u001b[39;49m,\n\u001b[1;32m     <a href='vscode-notebook-cell:/Users/timothytan/Documents/Documents%20%E2%80%93%20Timothy%E2%80%99s%20MacBook%20Pro/School/Y4S1/MH4518/Simulation-in-Finance/sim.ipynb#X40sZmlsZQ%3D%3D?line=14'>15</a>\u001b[0m                     m\u001b[39m=\u001b[39;49mm,\n\u001b[1;32m     <a href='vscode-notebook-cell:/Users/timothytan/Documents/Documents%20%E2%80%93%20Timothy%E2%80%99s%20MacBook%20Pro/School/Y4S1/MH4518/Simulation-in-Finance/sim.ipynb#X40sZmlsZQ%3D%3D?line=15'>16</a>\u001b[0m                     sim_func\u001b[39m=\u001b[39;49msim_func,\n\u001b[1;32m     <a href='vscode-notebook-cell:/Users/timothytan/Documents/Documents%20%E2%80%93%20Timothy%E2%80%99s%20MacBook%20Pro/School/Y4S1/MH4518/Simulation-in-Finance/sim.ipynb#X40sZmlsZQ%3D%3D?line=16'>17</a>\u001b[0m                     var_reduction\u001b[39m=\u001b[39;49mvar_reduction\n\u001b[1;32m     <a href='vscode-notebook-cell:/Users/timothytan/Documents/Documents%20%E2%80%93%20Timothy%E2%80%99s%20MacBook%20Pro/School/Y4S1/MH4518/Simulation-in-Finance/sim.ipynb#X40sZmlsZQ%3D%3D?line=17'>18</a>\u001b[0m                     )\n\u001b[1;32m     <a href='vscode-notebook-cell:/Users/timothytan/Documents/Documents%20%E2%80%93%20Timothy%E2%80%99s%20MacBook%20Pro/School/Y4S1/MH4518/Simulation-in-Finance/sim.ipynb#X40sZmlsZQ%3D%3D?line=19'>20</a>\u001b[0m     \u001b[39mreturn\u001b[39;00m expected_payoff(payoff(paths, K, Barrier, m\u001b[39m-\u001b[39mt), r\u001b[39m=\u001b[39mr, T\u001b[39m=\u001b[39mT, t\u001b[39m=\u001b[39mt\u001b[39m*\u001b[39mdt)\n",
      "\u001b[1;32m/Users/timothytan/Documents/Documents – Timothy’s MacBook Pro/School/Y4S1/MH4518/Simulation-in-Finance/sim.ipynb Cell 32\u001b[0m in \u001b[0;36mn_path_sim\u001b[0;34m(asset_hist, Nsim, t, r, dt, p, m, sim_func, var_reduction)\u001b[0m\n\u001b[1;32m     <a href='vscode-notebook-cell:/Users/timothytan/Documents/Documents%20%E2%80%93%20Timothy%E2%80%99s%20MacBook%20Pro/School/Y4S1/MH4518/Simulation-in-Finance/sim.ipynb#X40sZmlsZQ%3D%3D?line=9'>10</a>\u001b[0m     \u001b[39mfor\u001b[39;00m i \u001b[39min\u001b[39;00m \u001b[39mrange\u001b[39m(Nsim):\n\u001b[1;32m     <a href='vscode-notebook-cell:/Users/timothytan/Documents/Documents%20%E2%80%93%20Timothy%E2%80%99s%20MacBook%20Pro/School/Y4S1/MH4518/Simulation-in-Finance/sim.ipynb#X40sZmlsZQ%3D%3D?line=10'>11</a>\u001b[0m         S0, Sigma \u001b[39m=\u001b[39m get_simulation_params(asset_hist, t, dt)\n\u001b[0;32m---> <a href='vscode-notebook-cell:/Users/timothytan/Documents/Documents%20%E2%80%93%20Timothy%E2%80%99s%20MacBook%20Pro/School/Y4S1/MH4518/Simulation-in-Finance/sim.ipynb#X40sZmlsZQ%3D%3D?line=11'>12</a>\u001b[0m         paths[i] \u001b[39m=\u001b[39m sim_func(S0, r, Sigma, dt, remaining_steps, p)\n\u001b[1;32m     <a href='vscode-notebook-cell:/Users/timothytan/Documents/Documents%20%E2%80%93%20Timothy%E2%80%99s%20MacBook%20Pro/School/Y4S1/MH4518/Simulation-in-Finance/sim.ipynb#X40sZmlsZQ%3D%3D?line=13'>14</a>\u001b[0m \u001b[39melif\u001b[39;00m var_reduction \u001b[39m==\u001b[39m \u001b[39m\"\u001b[39m\u001b[39mav\u001b[39m\u001b[39m\"\u001b[39m:\n\u001b[1;32m     <a href='vscode-notebook-cell:/Users/timothytan/Documents/Documents%20%E2%80%93%20Timothy%E2%80%99s%20MacBook%20Pro/School/Y4S1/MH4518/Simulation-in-Finance/sim.ipynb#X40sZmlsZQ%3D%3D?line=14'>15</a>\u001b[0m     hist \u001b[39m=\u001b[39m np\u001b[39m.\u001b[39mrepeat(asset_hist[\u001b[39m252\u001b[39m: \u001b[39m252\u001b[39m\u001b[39m+\u001b[39mt]\u001b[39m.\u001b[39mT[:, :, np\u001b[39m.\u001b[39mnewaxis], Nsim\u001b[39m*\u001b[39m\u001b[39m2\u001b[39m, axis\u001b[39m=\u001b[39m\u001b[39m2\u001b[39m)\n",
      "\u001b[1;32m/Users/timothytan/Documents/Documents – Timothy’s MacBook Pro/School/Y4S1/MH4518/Simulation-in-Finance/sim.ipynb Cell 32\u001b[0m in \u001b[0;36mmulti_asset_GBM\u001b[0;34m(S0, r, Sigma, dt, m, p, z)\u001b[0m\n\u001b[1;32m     <a href='vscode-notebook-cell:/Users/timothytan/Documents/Documents%20%E2%80%93%20Timothy%E2%80%99s%20MacBook%20Pro/School/Y4S1/MH4518/Simulation-in-Finance/sim.ipynb#X40sZmlsZQ%3D%3D?line=16'>17</a>\u001b[0m     z \u001b[39m=\u001b[39m np\u001b[39m.\u001b[39mrandom\u001b[39m.\u001b[39mmultivariate_normal(mean\u001b[39m=\u001b[39mnp\u001b[39m.\u001b[39mzeros(p), cov\u001b[39m=\u001b[39mnp\u001b[39m.\u001b[39midentity(p), size\u001b[39m=\u001b[39mm)\n\u001b[1;32m     <a href='vscode-notebook-cell:/Users/timothytan/Documents/Documents%20%E2%80%93%20Timothy%E2%80%99s%20MacBook%20Pro/School/Y4S1/MH4518/Simulation-in-Finance/sim.ipynb#X40sZmlsZQ%3D%3D?line=18'>19</a>\u001b[0m \u001b[39mfor\u001b[39;00m step \u001b[39min\u001b[39;00m \u001b[39mrange\u001b[39m(\u001b[39m1\u001b[39m, m):\n\u001b[0;32m---> <a href='vscode-notebook-cell:/Users/timothytan/Documents/Documents%20%E2%80%93%20Timothy%E2%80%99s%20MacBook%20Pro/School/Y4S1/MH4518/Simulation-in-Finance/sim.ipynb#X40sZmlsZQ%3D%3D?line=19'>20</a>\u001b[0m     S[step] \u001b[39m=\u001b[39m S[step\u001b[39m-\u001b[39;49m\u001b[39m1\u001b[39;49m] \u001b[39m*\u001b[39;49m np\u001b[39m.\u001b[39;49mexp(( r \u001b[39m*\u001b[39;49m dt \u001b[39m*\u001b[39;49m np\u001b[39m.\u001b[39;49mones(p) ) \u001b[39m# Rate discount\u001b[39;49;00m\n\u001b[1;32m     <a href='vscode-notebook-cell:/Users/timothytan/Documents/Documents%20%E2%80%93%20Timothy%E2%80%99s%20MacBook%20Pro/School/Y4S1/MH4518/Simulation-in-Finance/sim.ipynb#X40sZmlsZQ%3D%3D?line=20'>21</a>\u001b[0m          \u001b[39m-\u001b[39;49m ( \u001b[39m0.5\u001b[39;49m \u001b[39m*\u001b[39;49m dt \u001b[39m*\u001b[39;49m np\u001b[39m.\u001b[39;49mdiagonal(Sigma) ) \u001b[39m# Volatility\u001b[39;49;00m\n\u001b[1;32m     <a href='vscode-notebook-cell:/Users/timothytan/Documents/Documents%20%E2%80%93%20Timothy%E2%80%99s%20MacBook%20Pro/School/Y4S1/MH4518/Simulation-in-Finance/sim.ipynb#X40sZmlsZQ%3D%3D?line=21'>22</a>\u001b[0m          \u001b[39m+\u001b[39;49m ( np\u001b[39m.\u001b[39;49mmatmul(np\u001b[39m.\u001b[39;49mlinalg\u001b[39m.\u001b[39;49mcholesky(Sigma \u001b[39m*\u001b[39;49m dt), z[step\u001b[39m-\u001b[39;49m\u001b[39m1\u001b[39;49m]) )) \u001b[39m# Weiner process\u001b[39;00m\n\u001b[1;32m     <a href='vscode-notebook-cell:/Users/timothytan/Documents/Documents%20%E2%80%93%20Timothy%E2%80%99s%20MacBook%20Pro/School/Y4S1/MH4518/Simulation-in-Finance/sim.ipynb#X40sZmlsZQ%3D%3D?line=22'>23</a>\u001b[0m \u001b[39mreturn\u001b[39;00m np\u001b[39m.\u001b[39mtranspose(S)\n",
      "\u001b[0;31mKeyboardInterrupt\u001b[0m: "
     ]
    }
   ],
   "source": [
    "# ROLLING WINDOW OVER ENTIRE LIFETIME\n",
    "# uses newest asset prices on current day to get expected payoff for that day\n",
    "# make sure to run previous cell before running this one\n",
    "expected_payoffs = np.zeros(shape=(len(simulations), m))\n",
    "\n",
    "def simulate(t, sim_func, var_reduction):\n",
    "    r = calc_rates(t, m, rates)\n",
    "\n",
    "    paths = n_path_sim(asset_hist=asset_hist,\n",
    "                    Nsim=50,\n",
    "                    t=t,\n",
    "                    r=r,\n",
    "                    dt=dt,\n",
    "                    p=3,\n",
    "                    m=m,\n",
    "                    sim_func=sim_func,\n",
    "                    var_reduction=var_reduction\n",
    "                    )\n",
    "                    \n",
    "    return expected_payoff(payoff(paths, K, Barrier, m-t), r=r, T=T, t=t*dt)\n",
    "\n",
    "\n",
    "for i, (sim_func, var_reduction) in enumerate( tqdm( simulations ) ):\n",
    "    for t in tqdm(range(m), leave=False):\n",
    "        expected_payoffs[i][t] = simulate(t, sim_func, var_reduction)"
   ]
  },
  {
   "cell_type": "code",
   "execution_count": null,
   "metadata": {},
   "outputs": [],
   "source": [
    "simulated_prices = pd.DataFrame(data=expected_payoffs.T, \n",
    "                                columns=[\n",
    "                                    \"Monte Carlo\", \n",
    "                                    \"Antithetic Variates\", \n",
    "                                    \"Stratified Sampling\"\n",
    "                                    ]\n",
    "                                )\n",
    "\n",
    "merged = pd.concat([actual_prices, simulated_prices], axis=1)"
   ]
  },
  {
   "cell_type": "code",
   "execution_count": null,
   "metadata": {},
   "outputs": [],
   "source": []
  },
  {
   "cell_type": "code",
   "execution_count": null,
   "metadata": {},
   "outputs": [
    {
     "data": {
      "application/vnd.plotly.v1+json": {
       "config": {
        "plotlyServerURL": "https://plot.ly"
       },
       "data": [
        {
         "hovertemplate": "variable=Price<br>index=%{x}<br>value=%{y}<extra></extra>",
         "legendgroup": "Price",
         "line": {
          "color": "#636efa",
          "dash": "solid"
         },
         "marker": {
          "symbol": "circle"
         },
         "mode": "lines",
         "name": "Price",
         "showlegend": true,
         "type": "scattergl",
         "x": [
          0,
          1,
          2,
          3,
          4,
          5,
          6,
          7,
          8,
          9,
          10,
          11,
          12,
          13,
          14,
          15,
          16,
          17,
          18,
          19,
          20,
          21,
          22,
          23,
          24,
          25,
          26,
          27,
          28,
          29,
          30,
          31,
          32,
          33,
          34,
          35,
          36,
          37,
          38,
          39,
          40,
          41,
          42,
          43,
          44,
          45,
          46,
          47,
          48,
          49,
          50,
          51,
          52,
          53,
          54,
          55,
          56,
          57,
          58,
          59,
          60,
          61,
          62,
          63,
          64,
          65,
          66,
          67,
          68,
          69,
          70,
          71,
          72,
          73,
          74,
          75,
          76,
          77,
          78,
          79,
          80,
          81,
          82,
          83,
          84,
          85,
          86,
          87,
          88,
          89,
          90,
          91,
          92,
          93,
          94,
          95,
          96,
          97,
          98,
          99,
          100,
          101,
          102,
          103,
          104,
          105,
          106,
          107,
          108,
          109,
          110,
          111,
          112,
          113,
          114,
          115,
          116,
          117,
          118,
          119,
          120,
          121,
          122,
          123,
          124,
          125,
          126,
          127,
          128,
          129,
          130,
          131,
          132,
          133,
          134,
          135,
          136,
          137,
          138,
          139,
          140,
          141,
          142,
          143,
          144,
          145,
          146,
          147,
          148,
          149,
          150,
          151,
          152,
          153,
          154,
          155,
          156,
          157,
          158,
          159,
          160,
          161,
          162,
          163,
          164,
          165,
          166,
          167,
          168,
          169,
          170,
          171,
          172,
          173,
          174,
          175,
          176,
          177,
          178,
          179,
          180,
          181,
          182,
          183,
          184,
          185,
          186,
          187,
          188,
          189,
          190,
          191,
          192,
          193,
          194,
          195,
          196,
          197,
          198,
          199,
          200,
          201,
          202,
          203,
          204,
          205,
          206,
          207,
          208,
          209,
          210,
          211,
          212,
          213,
          214,
          215,
          216,
          217,
          218,
          219,
          220,
          221,
          222,
          223,
          224,
          225,
          226,
          227,
          228,
          229,
          230,
          231,
          232,
          233,
          234,
          235,
          236,
          237,
          238,
          239,
          240,
          241,
          242,
          243,
          244,
          245,
          246,
          247,
          248,
          249,
          250,
          251,
          252,
          253,
          254,
          255,
          256,
          257,
          258,
          259,
          260,
          261,
          262,
          263,
          264,
          265,
          266,
          267,
          268,
          269,
          270,
          271,
          272,
          273,
          274,
          275,
          276,
          277,
          278,
          279,
          280,
          281,
          282,
          283,
          284,
          285,
          286,
          287,
          288,
          289,
          290,
          291,
          292,
          293,
          294,
          295,
          296,
          297,
          298,
          299,
          300,
          301,
          302,
          303,
          304,
          305,
          306,
          307,
          308,
          309,
          310,
          311,
          312,
          313,
          314,
          315,
          316,
          317,
          318,
          319,
          320,
          321,
          322,
          323,
          324,
          325,
          326,
          327,
          328,
          329,
          330,
          331,
          332,
          333,
          334,
          335,
          336,
          337,
          338,
          339,
          340,
          341,
          342,
          343,
          344,
          345,
          346,
          347,
          348,
          349,
          350,
          351,
          352,
          353,
          354,
          355,
          356,
          357,
          358,
          359,
          360,
          361,
          362,
          363,
          364,
          365,
          366,
          367,
          368,
          369,
          370,
          371,
          372,
          373,
          374,
          375,
          376,
          377
         ],
         "xaxis": "x",
         "y": [
          1010.4,
          1010.4,
          1010.4,
          1010.4,
          1010.4,
          1010.4,
          1010.4,
          1010.4,
          1010.4,
          1010.4,
          1010.4,
          1010.4,
          998.1,
          998.1,
          998.1,
          998.1,
          998.1,
          999.3,
          999.3,
          999.3,
          996.2,
          996.2,
          996.2,
          996.2,
          987.7,
          979.2,
          977.1,
          977.1,
          977.1,
          977.1,
          975.4,
          969.8,
          958.2,
          926.9,
          926.9,
          938,
          938,
          938,
          940.4,
          940.4,
          940.4,
          942.7,
          942.7,
          942.7,
          942.7,
          942.7,
          942.7,
          942.7,
          941.7,
          941.7,
          941.7,
          941.7,
          941.7,
          939,
          939,
          939,
          918,
          915.7,
          921.9,
          928.4,
          928.4,
          928.4,
          932.6,
          932.6,
          932.6,
          929.1,
          933,
          933,
          933,
          933,
          933,
          933,
          926.5,
          926.8,
          926.8,
          926.8,
          926.8,
          926.8,
          914.8,
          902.4,
          912.4,
          923.7,
          927.3,
          937.6,
          937.6,
          936.4,
          933.8,
          925.4,
          925.4,
          931.7,
          931.7,
          933.6,
          942.4,
          947,
          947,
          947,
          959.3,
          965.3,
          965.3,
          967.9,
          971.4,
          971.4,
          972.9,
          977.5,
          982,
          982,
          982,
          982,
          982,
          982,
          982,
          982,
          983.9,
          985.5,
          985.5,
          985.5,
          985.5,
          985.5,
          985.5,
          987.4,
          987.4,
          987.4,
          976.2,
          976.2,
          976.2,
          981.5,
          981.5,
          967.8,
          967.1,
          967.1,
          967.1,
          963.6,
          963.6,
          963.6,
          969.3,
          971.9,
          975.4,
          975.4,
          975.4,
          977.3,
          977.3,
          981.4,
          981.4,
          967.6,
          967.6,
          971.1,
          975.1,
          977.8,
          981.4,
          981.4,
          981.4,
          986,
          995.5,
          998.6,
          998.6,
          998.6,
          998.6,
          998.6,
          1000.3,
          1000.3,
          1000.3,
          1000.4,
          1000.4,
          1000.5,
          1000.5,
          1000.5,
          995.3,
          995.3,
          995.3,
          995.3,
          995.3,
          995.3,
          996.1,
          999.7,
          1002.9,
          1002.9,
          1002.9,
          1002.9,
          1004.4,
          1004.7,
          1004.7,
          1000.1,
          1000.1,
          1000.1,
          1000.1,
          1000.1,
          995.7,
          995.7,
          995.7,
          995.7,
          995.7,
          995.7,
          995.7,
          995.7,
          995.7,
          995.7,
          995.7,
          990.3,
          990.3,
          990.3,
          990.7,
          990.7,
          990.7,
          990.7,
          994.6,
          994.6,
          1000,
          1000,
          1000,
          1000,
          1000,
          1000,
          1000,
          1004.2,
          1004.2,
          1004.2,
          1004.2,
          1006,
          1006,
          1006,
          1006,
          1006,
          1006,
          1006,
          1006,
          1006,
          1006.8,
          1007.3,
          1007.3,
          1003.9,
          1003.9,
          1003.9,
          1003.9,
          1003.9,
          1002.8,
          1000.3,
          1000.3,
          1000.3,
          1000.3,
          996.1,
          996.1,
          996.1,
          993.4,
          993.3,
          993.3,
          993.4,
          993.4,
          993.4,
          993.4,
          993.4,
          993.4,
          994.2,
          994.8,
          999.9,
          999.9,
          999.9,
          999.9,
          999.9,
          999.9,
          999.9,
          999.9,
          999.9,
          998.3,
          996.1,
          996.1,
          996.1,
          988.2,
          988.2,
          988.2,
          989.4,
          989.4,
          989.4,
          989.4,
          992.7,
          992.7,
          992.7,
          992.7,
          992.7,
          992.7,
          991.7,
          991.7,
          991.7,
          991.7,
          991.7,
          991.7,
          991.7,
          991.7,
          991.7,
          994.4,
          994.7,
          994.7,
          994.7,
          995.2,
          995.9,
          995.9,
          996.6,
          998.3,
          998.7,
          998.7,
          998.7,
          998.7,
          998.7,
          998.7,
          998.7,
          998.7,
          998.8,
          998.8,
          998.8,
          998.8,
          998.8,
          998.8,
          998.8,
          998.8,
          998.8,
          998.8,
          998.8,
          998.8,
          998.8,
          998.8,
          998.8,
          998.8,
          998.8,
          998.8,
          998.8,
          998.8,
          998.8,
          998.8,
          998.8,
          998.8,
          998.8,
          998.8,
          998.8,
          998.8,
          998.8,
          998.8,
          998.8,
          998.8,
          998.8,
          998.8,
          998.8,
          998.8,
          998.8,
          998.8,
          994.2,
          991.7,
          991.7,
          991.7,
          991.7,
          991.7,
          991.8,
          991.9,
          991.9,
          991.9,
          991.9,
          992.2,
          992.2,
          992.2,
          992.2,
          992.2,
          992.2,
          992.2,
          992.2,
          992.2,
          992.2,
          992.2,
          992.2,
          null,
          null,
          null,
          null,
          null,
          null,
          null,
          null,
          null,
          null,
          null,
          null
         ],
         "yaxis": "y"
        },
        {
         "hovertemplate": "variable=Monte Carlo<br>index=%{x}<br>value=%{y}<extra></extra>",
         "legendgroup": "Monte Carlo",
         "line": {
          "color": "#EF553B",
          "dash": "solid"
         },
         "marker": {
          "symbol": "circle"
         },
         "mode": "lines",
         "name": "Monte Carlo",
         "showlegend": true,
         "type": "scattergl",
         "x": [
          0,
          1,
          2,
          3,
          4,
          5,
          6,
          7,
          8,
          9,
          10,
          11,
          12,
          13,
          14,
          15,
          16,
          17,
          18,
          19,
          20,
          21,
          22,
          23,
          24,
          25,
          26,
          27,
          28,
          29,
          30,
          31,
          32,
          33,
          34,
          35,
          36,
          37,
          38,
          39,
          40,
          41,
          42,
          43,
          44,
          45,
          46,
          47,
          48,
          49,
          50,
          51,
          52,
          53,
          54,
          55,
          56,
          57,
          58,
          59,
          60,
          61,
          62,
          63,
          64,
          65,
          66,
          67,
          68,
          69,
          70,
          71,
          72,
          73,
          74,
          75,
          76,
          77,
          78,
          79,
          80,
          81,
          82,
          83,
          84,
          85,
          86,
          87,
          88,
          89,
          90,
          91,
          92,
          93,
          94,
          95,
          96,
          97,
          98,
          99,
          100,
          101,
          102,
          103,
          104,
          105,
          106,
          107,
          108,
          109,
          110,
          111,
          112,
          113,
          114,
          115,
          116,
          117,
          118,
          119,
          120,
          121,
          122,
          123,
          124,
          125,
          126,
          127,
          128,
          129,
          130,
          131,
          132,
          133,
          134,
          135,
          136,
          137,
          138,
          139,
          140,
          141,
          142,
          143,
          144,
          145,
          146,
          147,
          148,
          149,
          150,
          151,
          152,
          153,
          154,
          155,
          156,
          157,
          158,
          159,
          160,
          161,
          162,
          163,
          164,
          165,
          166,
          167,
          168,
          169,
          170,
          171,
          172,
          173,
          174,
          175,
          176,
          177,
          178,
          179,
          180,
          181,
          182,
          183,
          184,
          185,
          186,
          187,
          188,
          189,
          190,
          191,
          192,
          193,
          194,
          195,
          196,
          197,
          198,
          199,
          200,
          201,
          202,
          203,
          204,
          205,
          206,
          207,
          208,
          209,
          210,
          211,
          212,
          213,
          214,
          215,
          216,
          217,
          218,
          219,
          220,
          221,
          222,
          223,
          224,
          225,
          226,
          227,
          228,
          229,
          230,
          231,
          232,
          233,
          234,
          235,
          236,
          237,
          238,
          239,
          240,
          241,
          242,
          243,
          244,
          245,
          246,
          247,
          248,
          249,
          250,
          251,
          252,
          253,
          254,
          255,
          256,
          257,
          258,
          259,
          260,
          261,
          262,
          263,
          264,
          265,
          266,
          267,
          268,
          269,
          270,
          271,
          272,
          273,
          274,
          275,
          276,
          277,
          278,
          279,
          280,
          281,
          282,
          283,
          284,
          285,
          286,
          287,
          288,
          289,
          290,
          291,
          292,
          293,
          294,
          295,
          296,
          297,
          298,
          299,
          300,
          301,
          302,
          303,
          304,
          305,
          306,
          307,
          308,
          309,
          310,
          311,
          312,
          313,
          314,
          315,
          316,
          317,
          318,
          319,
          320,
          321,
          322,
          323,
          324,
          325,
          326,
          327,
          328,
          329,
          330,
          331,
          332,
          333,
          334,
          335,
          336,
          337,
          338,
          339,
          340,
          341,
          342,
          343,
          344,
          345,
          346,
          347,
          348,
          349,
          350,
          351,
          352,
          353,
          354,
          355,
          356,
          357,
          358,
          359,
          360,
          361,
          362,
          363,
          364,
          365,
          366,
          367,
          368,
          369,
          370,
          371,
          372,
          373,
          374,
          375,
          376,
          377
         ],
         "xaxis": "x",
         "y": [
          784.9717327948497,
          804.451769707683,
          802.2384119541783,
          857.2125379733545,
          828.9630007651425,
          860.5398401617251,
          913.5640514157061,
          871.2676496045748,
          859.7832231992372,
          876.1741721705424,
          803.2508073174755,
          882.7466522593563,
          804.332434748655,
          848.1139791014213,
          834.4665454253594,
          877.1437301397887,
          833.0060209079734,
          889.3716233782757,
          865.881347383255,
          876.9555514690599,
          864.7833329717231,
          896.4799827149791,
          929.8086495461321,
          881.110053031372,
          923.4597970628305,
          908.0198521685904,
          860.7999501874943,
          895.664132683107,
          889.2640619738901,
          923.5618757092419,
          925.4341440519515,
          786.2767244346843,
          894.5650061724756,
          852.7309387381779,
          836.5420861493471,
          873.1350936002019,
          879.8776183185058,
          820.6589242532559,
          784.6341509668689,
          868.2935808074653,
          822.6451838961312,
          868.6774155591318,
          883.1780477942226,
          888.5277138459194,
          887.654073089176,
          869.0046899910268,
          888.2291393126391,
          871.1827843631504,
          851.9098095192556,
          878.8918420625126,
          837.6725528142161,
          931.2561358547381,
          912.7620536553454,
          863.9575410872178,
          909.8273144103733,
          813.8233048021613,
          852.4405082314723,
          859.516858567067,
          876.2835309547455,
          822.0733555452484,
          796.2346330553494,
          851.444207351948,
          889.6337591702758,
          889.7697520591616,
          869.8550891313851,
          829.0687916023038,
          876.7173880561031,
          800.3009513251402,
          880.1677720129042,
          843.4991233510156,
          779.31097396066,
          833.2164843271172,
          825.4941264938167,
          907.6132972001968,
          813.2003987964174,
          875.4905464652824,
          833.6089843212478,
          871.0581161101546,
          806.1979590108267,
          887.7854069406742,
          846.2515965101932,
          860.4199050270578,
          825.8989493897627,
          920.3243237764734,
          897.4376538263634,
          922.655615668402,
          895.3120104796872,
          938.2400432146559,
          928.3815146445113,
          909.7372319504234,
          896.9783982228347,
          892.8774524619006,
          975.7983440335971,
          864.2027636259102,
          925.0862806067395,
          918.1249772685792,
          919.0459928277663,
          964.3156000251158,
          926.45090947327,
          966.763789035974,
          871.9097018538347,
          954.8330717721993,
          964.4725571328652,
          959.7939503470366,
          924.6506810497658,
          953.9516671451679,
          921.2291706151551,
          981.9279074439602,
          959.402289511925,
          952.8036949912153,
          952.4021508635607,
          911.1676864255907,
          965.9204543399348,
          948.8688287883639,
          973.7922789148444,
          989.3025139812129,
          969.4508531289057,
          961.9755854958947,
          981.8704463799827,
          978.4327389499641,
          964.7400456903505,
          998.0269030320746,
          928.4439752007056,
          964.9830136184507,
          986.0556769529512,
          990.5147216849858,
          982.2472136548781,
          981.8336356845459,
          973.676322349238,
          965.7472893777201,
          990.9633844375062,
          965.9679189946851,
          962.2769849513436,
          969.8121809320295,
          990.8022299790764,
          962.8133713500091,
          966.2648914418463,
          959.8445944861627,
          988.5808765861875,
          955.4105999277983,
          998.6806189384272,
          974.8146500331528,
          988.8332055961125,
          959.7957188826018,
          997.3516765090791,
          992.0173681074152,
          980.8137852119004,
          971.5487311156242,
          1006.457447042708,
          980.7313619282775,
          1000.2774575978683,
          980.7745923569161,
          980.0721725737941,
          989.4868751877939,
          991.4881185105492,
          1006.4824376229074,
          997.7203987689259,
          998.2351379261554,
          1006.4810302221456,
          1006.483388570482,
          1006.2494445115152,
          989.9493567696994,
          1006.2563277984534,
          1006.25976945958,
          1006.1004576086032,
          1005.8900578453391,
          989.7304926002943,
          989.5831089010389,
          1006.2090964670765,
          1006.2128612020314,
          1005.8488879043347,
          1006.0629671865204,
          998.1018230417827,
          1005.9395172232045,
          1005.8632572767998,
          1004.6888206924986,
          1005.3715461020521,
          1005.1619635611246,
          1005.611860898071,
          1005.7549408359465,
          1005.3097286713448,
          1005.6251817329811,
          1005.5613915466222,
          1005.5761368482282,
          1005.7014046254037,
          1005.5833955683848,
          1005.5688401771098,
          997.7417499380178,
          1005.2588565750661,
          1005.1567212334886,
          1003.7191293758423,
          1003.5783113158204,
          1003.5272803148198,
          1003.3892005171028,
          1003.2597087178676,
          1003.284392395301,
          1002.9915261564363,
          1003.075965221712,
          1003.1391428006315,
          1003.1780028738374,
          1003.3245473247582,
          1002.9964728955496,
          1003.2126938694408,
          1003.4465576426394,
          1003.1995376894646,
          1003.142441109358,
          1002.893809369004,
          1003.0371280549736,
          1003.1241678571754,
          1003.008527120606,
          1002.9135187380627,
          1002.6078017999022,
          1002.6236026596082,
          1002.5018628993488,
          1002.1643804467174,
          1002.2479923195503,
          1001.9626801313624,
          1002.1048810701319,
          1002.0940874815825,
          1001.7615693733217,
          1001.6070200110778,
          1001.7489054607399,
          1001.8952032842932,
          1001.3269990881043,
          1001.4309404085103,
          1001.655492755732,
          1001.6904528838616,
          1001.610937869329,
          1001.2035437614269,
          1001.1233485262429,
          1001.2349879492524,
          1000.9061215199713,
          1001.0875001744114,
          1001.2723173796469,
          1001.2533781485323,
          1001.2134385467797,
          1001.1072875492024,
          1001.0243761444693,
          1001.0436893672093,
          1000.9422092619851,
          1000.6912675153467,
          1000.7397715838869,
          1000.7983388885575,
          1000.4940418549683,
          1000.7318859670952,
          1000.6624120191756,
          1000.7916820509975,
          1000.8105179900674,
          1000.6869939752194,
          1000.6854244938249,
          1000.7933462562363,
          1000.7632396983697,
          1000.0815082120981,
          998.3719167023945,
          998.3192639710644,
          998.3214900066745,
          998.2668215172062,
          997.9330464913656,
          997.6123903977049,
          996.7957270514161,
          996.4029817893704,
          996.412245442921,
          996.8549300371811,
          996.8058796521906,
          996.9755695922079,
          997.3179383817386,
          996.8322505269269,
          996.6239772948121,
          996.8162395554933,
          996.8152035603181,
          997.1082824288757,
          996.5283496728491,
          996.5972729511549,
          996.5257321887468,
          996.6173858881879,
          995.872800021175,
          995.8659501260025,
          995.8283706328231,
          995.6707102892462,
          995.0206134216467,
          994.6084759733097,
          994.9103249213408,
          994.9371344685528,
          995.0027325429432,
          995.095336785048,
          995.0707041554798,
          995.1938357899367,
          995.2221386625877,
          995.1739396343594,
          995.435141247706,
          995.5055314592911,
          995.6516700563585,
          995.587816439438,
          995.6794591349452,
          995.8975654198973,
          995.7831152886923,
          995.7816099487638,
          995.7534416950591,
          995.8487126861774,
          995.9410192680767,
          995.8132225651503,
          995.9418285175332,
          995.9466463883718,
          996.10212933341,
          996.2115522304173,
          996.1763880139399,
          996.1733384990522,
          996.2640373205762,
          996.3629532521695,
          996.4125843587083,
          996.287042776167,
          996.4242770239663,
          996.3729319938475,
          996.5319463708512,
          996.6689130169916,
          996.5640912587567,
          994.9671868618842,
          995.0223139330753,
          995.2067072222437,
          995.1290043957489,
          995.1994105709429,
          995.1994293766764,
          995.2887041987071,
          995.4057872787823,
          995.3216929613329,
          995.4941964805731,
          995.6050200394583,
          995.6777364779551,
          995.7748066183718,
          995.8155830391366,
          995.9815096729789,
          995.9730781191682,
          996.0991071756207,
          996.2351671918029,
          996.23810394379,
          996.3614176895385,
          996.3835969566129,
          996.5488649855091,
          996.6927271595071,
          996.6278651402567,
          996.7617371477376,
          996.76793396616,
          996.8764881308724,
          996.7867130098385,
          996.9224148289503,
          997.005005322194,
          997.1086675804936,
          997.2241745750963,
          997.2211595405777,
          997.426994263353,
          997.5234998049408,
          997.6944996389226,
          997.8091128895579,
          997.8500857489496,
          998.0066956368497,
          998.122910211844,
          998.2811663547701,
          998.4326366409897,
          998.5650717023495,
          998.7527637198535,
          998.9102891904226,
          999.0678395062537,
          999.2254146712648,
          999.3830146893758,
          999.5406395645066,
          999.6982893005771,
          999.8559639015091,
          1000.0136633712242,
          1000.1713877136442,
          1000.3291369326927,
          1000.4869110322932,
          1000.6447100163697,
          1000.802533888847,
          1000.9603826536509,
          1001.1182563147071,
          1001.2761548759426,
          1001.4340783412845,
          1001.5920267146607
         ],
         "yaxis": "y"
        },
        {
         "hovertemplate": "variable=Antithetic Variates<br>index=%{x}<br>value=%{y}<extra></extra>",
         "legendgroup": "Antithetic Variates",
         "line": {
          "color": "#00cc96",
          "dash": "solid"
         },
         "marker": {
          "symbol": "circle"
         },
         "mode": "lines",
         "name": "Antithetic Variates",
         "showlegend": true,
         "type": "scattergl",
         "x": [
          0,
          1,
          2,
          3,
          4,
          5,
          6,
          7,
          8,
          9,
          10,
          11,
          12,
          13,
          14,
          15,
          16,
          17,
          18,
          19,
          20,
          21,
          22,
          23,
          24,
          25,
          26,
          27,
          28,
          29,
          30,
          31,
          32,
          33,
          34,
          35,
          36,
          37,
          38,
          39,
          40,
          41,
          42,
          43,
          44,
          45,
          46,
          47,
          48,
          49,
          50,
          51,
          52,
          53,
          54,
          55,
          56,
          57,
          58,
          59,
          60,
          61,
          62,
          63,
          64,
          65,
          66,
          67,
          68,
          69,
          70,
          71,
          72,
          73,
          74,
          75,
          76,
          77,
          78,
          79,
          80,
          81,
          82,
          83,
          84,
          85,
          86,
          87,
          88,
          89,
          90,
          91,
          92,
          93,
          94,
          95,
          96,
          97,
          98,
          99,
          100,
          101,
          102,
          103,
          104,
          105,
          106,
          107,
          108,
          109,
          110,
          111,
          112,
          113,
          114,
          115,
          116,
          117,
          118,
          119,
          120,
          121,
          122,
          123,
          124,
          125,
          126,
          127,
          128,
          129,
          130,
          131,
          132,
          133,
          134,
          135,
          136,
          137,
          138,
          139,
          140,
          141,
          142,
          143,
          144,
          145,
          146,
          147,
          148,
          149,
          150,
          151,
          152,
          153,
          154,
          155,
          156,
          157,
          158,
          159,
          160,
          161,
          162,
          163,
          164,
          165,
          166,
          167,
          168,
          169,
          170,
          171,
          172,
          173,
          174,
          175,
          176,
          177,
          178,
          179,
          180,
          181,
          182,
          183,
          184,
          185,
          186,
          187,
          188,
          189,
          190,
          191,
          192,
          193,
          194,
          195,
          196,
          197,
          198,
          199,
          200,
          201,
          202,
          203,
          204,
          205,
          206,
          207,
          208,
          209,
          210,
          211,
          212,
          213,
          214,
          215,
          216,
          217,
          218,
          219,
          220,
          221,
          222,
          223,
          224,
          225,
          226,
          227,
          228,
          229,
          230,
          231,
          232,
          233,
          234,
          235,
          236,
          237,
          238,
          239,
          240,
          241,
          242,
          243,
          244,
          245,
          246,
          247,
          248,
          249,
          250,
          251,
          252,
          253,
          254,
          255,
          256,
          257,
          258,
          259,
          260,
          261,
          262,
          263,
          264,
          265,
          266,
          267,
          268,
          269,
          270,
          271,
          272,
          273,
          274,
          275,
          276,
          277,
          278,
          279,
          280,
          281,
          282,
          283,
          284,
          285,
          286,
          287,
          288,
          289,
          290,
          291,
          292,
          293,
          294,
          295,
          296,
          297,
          298,
          299,
          300,
          301,
          302,
          303,
          304,
          305,
          306,
          307,
          308,
          309,
          310,
          311,
          312,
          313,
          314,
          315,
          316,
          317,
          318,
          319,
          320,
          321,
          322,
          323,
          324,
          325,
          326,
          327,
          328,
          329,
          330,
          331,
          332,
          333,
          334,
          335,
          336,
          337,
          338,
          339,
          340,
          341,
          342,
          343,
          344,
          345,
          346,
          347,
          348,
          349,
          350,
          351,
          352,
          353,
          354,
          355,
          356,
          357,
          358,
          359,
          360,
          361,
          362,
          363,
          364,
          365,
          366,
          367,
          368,
          369,
          370,
          371,
          372,
          373,
          374,
          375,
          376,
          377
         ],
         "xaxis": "x",
         "y": [
          823.4341747541554,
          756.097065051998,
          793.2272356235193,
          865.6626040844058,
          828.2415814940797,
          805.8196956755559,
          815.8351886434085,
          893.6841596577013,
          870.9344776001676,
          897.9402853756727,
          900.2452996197435,
          880.1296865483604,
          880.0957523705515,
          892.4514477486997,
          822.1764204260816,
          832.5352394754345,
          858.955218500819,
          851.1401961203759,
          869.6434102641252,
          854.8635401003918,
          797.96471071339,
          894.7405793030301,
          852.2783181897014,
          844.8132021196002,
          828.3376831419284,
          847.6736785043945,
          823.2086977890183,
          870.9506861142011,
          843.4019384278447,
          851.2887616155841,
          855.1492687219595,
          848.2814058578439,
          902.4588780254961,
          868.717100556973,
          849.6692649040124,
          768.7634539262522,
          828.0581541618693,
          820.424645868549,
          831.1446968493385,
          894.7095420382166,
          855.8733921803217,
          910.2408013598225,
          871.5100315425644,
          874.664380223092,
          839.5480164329026,
          789.5936611469359,
          893.3256115704972,
          850.6432899864294,
          864.787863854765,
          897.0312972171665,
          847.4750595828835,
          895.8556466060551,
          851.8457365625663,
          896.9481382541838,
          820.5248273936667,
          848.0917184363203,
          798.4879039630068,
          881.824866046492,
          811.9999361699286,
          828.0270365730212,
          808.856176618706,
          824.8824383813443,
          869.2159492570188,
          881.8560753582087,
          873.0862609117083,
          830.6413225588738,
          846.904085171874,
          821.1259140572653,
          829.2063585756048,
          801.8794153000267,
          857.8278826824426,
          862.3348025870735,
          857.0820301445486,
          850.7637525051593,
          872.4625353417323,
          831.0252464434154,
          869.7337635642392,
          861.8403252746883,
          814.082316719717,
          813.6660367735099,
          844.7706776334959,
          822.4982319147499,
          893.8112357117567,
          851.3915433835907,
          914.0490006177517,
          865.1700504463385,
          831.8503494621624,
          905.38836929272,
          910.7639154922482,
          889.7048671112975,
          911.4396736767393,
          907.5064678262898,
          908.0344083816158,
          885.0779368870614,
          849.8991294250554,
          948.2857859076177,
          922.9345649051337,
          944.8212178211144,
          943.9479196940262,
          970.5039723913192,
          909.4344261042428,
          940.5172787097871,
          970.1901034338509,
          958.4599248459708,
          942.0111288005078,
          959.5273917982413,
          945.3564430663632,
          939.5832954468973,
          956.6372128963854,
          971.748270880446,
          976.4811449634296,
          985.9364764696023,
          987.372598702258,
          976.5832002323718,
          959.5156902698393,
          989.2988881876934,
          988.9623576121486,
          956.0954726505946,
          961.5491955483257,
          969.273655928371,
          972.2371314567786,
          951.0526648165833,
          957.3842140365072,
          942.3820486487837,
          981.6710039946264,
          979.4382854742493,
          974.9882430440807,
          965.4548374774795,
          971.6083236059405,
          1000.3047407955066,
          942.3516548076881,
          978.1729713207893,
          987.3333996954829,
          965.9486954357392,
          946.6683050740352,
          974.362472875042,
          997.795279467114,
          976.4034727152772,
          983.6158480271101,
          969.6580878671122,
          995.7602105238366,
          987.5004963864296,
          955.7675419502309,
          976.8591160403588,
          989.7558938258745,
          972.4793846673441,
          964.8641263527669,
          989.6359425246503,
          990.7691701097342,
          967.8397711704472,
          991.1683089103343,
          971.72661876503,
          989.1196350120564,
          1004.6301110472482,
          987.3738114969696,
          991.7793952369568,
          991.2004332703017,
          1006.558535288523,
          1006.4810302221455,
          1006.4833885704825,
          1006.2494445115152,
          996.5981596232937,
          1002.1984230221273,
          998.5640078889627,
          1006.100457608603,
          1005.890057845339,
          997.1752772540418,
          1005.9847018780418,
          1006.2090964670766,
          1006.2128612020314,
          997.8455335000515,
          1006.0629671865205,
          1005.9343468746498,
          1005.9395172232046,
          1005.8632572767998,
          1004.6888206924981,
          1005.3715461020515,
          1001.1680661199912,
          1005.6118608980712,
          1005.7549408359465,
          1005.3097286713449,
          1005.6251817329809,
          1005.5613915466222,
          1005.5761368482287,
          1005.7014046254038,
          1005.5833955683852,
          1005.5688401771093,
          1005.4710432924529,
          1005.2588565750663,
          1005.1567212334886,
          1003.719129375842,
          1003.5783113158209,
          1003.5272803148201,
          1003.3892005171033,
          1003.2597087178677,
          1003.2843923953009,
          1002.9915261564362,
          1003.0759652217123,
          1003.1391428006317,
          1003.1780028738377,
          1003.324547324758,
          1002.9964728955496,
          1003.2126938694407,
          1003.4465576426395,
          1003.1995376894646,
          1003.142441109358,
          1002.8938093690044,
          1003.0371280549736,
          1003.1241678571755,
          1003.008527120606,
          1002.9135187380629,
          1002.6078017999021,
          1002.623602659608,
          1002.5018628993487,
          1002.1643804467172,
          1002.2479923195502,
          1001.9626801313622,
          1002.1048810701321,
          1002.0940874815825,
          1001.7615693733219,
          1001.607020011078,
          1001.7489054607398,
          1001.8952032842934,
          1001.3269990881049,
          1001.4309404085103,
          1001.6554927557319,
          1001.6904528838618,
          1001.6109378693286,
          1001.2035437614269,
          1001.1233485262434,
          1001.2349879492524,
          1000.9061215199715,
          1001.0875001744115,
          1001.2723173796467,
          1001.2533781485322,
          1001.2134385467797,
          1001.1072875492023,
          1001.0243761444693,
          1001.0436893672095,
          1000.9422092619847,
          1000.6912675153468,
          1000.7397715838869,
          1000.7983388885576,
          1000.4940418549684,
          1000.7318859670953,
          1000.6624120191752,
          1000.7916820509977,
          1000.8105179900676,
          1000.6869939752195,
          1000.6854244938254,
          1000.7933462562361,
          1000.7632396983697,
          1000.0815082120982,
          998.3719167023944,
          998.3192639710645,
          998.3214900066746,
          998.2668215172057,
          997.9330464913656,
          997.6123903977044,
          996.7957270514161,
          996.4029817893705,
          996.4122454429208,
          996.8549300371814,
          996.8058796521909,
          996.9755695922081,
          997.3179383817384,
          996.8322505269275,
          996.6239772948123,
          996.8162395554937,
          996.8152035603177,
          997.1082824288756,
          996.5283496728493,
          996.5972729511548,
          996.5257321887469,
          996.6173858881878,
          995.8728000211745,
          995.8659501260023,
          995.8283706328232,
          995.670710289246,
          995.0206134216463,
          994.6084759733094,
          994.9103249213404,
          994.9371344685529,
          995.0027325429434,
          995.0953367850482,
          995.07070415548,
          995.1938357899365,
          995.2221386625878,
          995.1739396343596,
          995.4351412477064,
          995.5055314592912,
          995.6516700563584,
          995.587816439438,
          995.6794591349451,
          995.8975654198974,
          995.7831152886922,
          995.7816099487642,
          995.7534416950593,
          995.8487126861769,
          995.9410192680771,
          995.8132225651502,
          995.9418285175329,
          995.9466463883722,
          996.1021293334098,
          996.2115522304176,
          996.1763880139397,
          996.1733384990523,
          996.2640373205762,
          996.36295325217,
          996.4125843587083,
          996.2870427761669,
          996.4242770239664,
          996.372931993847,
          996.5319463708515,
          996.6689130169916,
          996.5640912587567,
          994.9671868618846,
          995.0223139330755,
          995.2067072222436,
          995.1290043957492,
          995.1994105709425,
          995.1994293766764,
          995.2887041987073,
          995.4057872787822,
          995.3216929613327,
          995.4941964805731,
          995.605020039458,
          995.6777364779554,
          995.7748066183719,
          995.8155830391366,
          995.9815096729784,
          995.9730781191679,
          996.0991071756207,
          996.2351671918027,
          996.2381039437897,
          996.3614176895386,
          996.383596956613,
          996.548864985509,
          996.692727159507,
          996.6278651402569,
          996.7617371477374,
          996.7679339661595,
          996.8764881308724,
          996.7867130098389,
          996.9224148289503,
          997.0050053221942,
          997.1086675804941,
          997.2241745750963,
          997.2211595405778,
          997.426994263353,
          997.5234998049407,
          997.6944996389227,
          997.8091128895579,
          997.8500857489498,
          998.00669563685,
          998.1229102118435,
          998.2811663547706,
          998.4326366409899,
          998.5650717023494,
          998.7527637198539,
          998.9102891904222,
          999.0678395062536,
          999.2254146712652,
          999.3830146893758,
          999.5406395645067,
          999.6982893005771,
          999.8559639015094,
          1000.0136633712244,
          1000.1713877136445,
          1000.3291369326927,
          1000.4869110322929,
          1000.6447100163693,
          1000.8025338888469,
          1000.960382653651,
          1001.1182563147066,
          1001.2761548759426,
          1001.4340783412848,
          1001.5920267146608
         ],
         "yaxis": "y"
        },
        {
         "hovertemplate": "variable=Stratified Sampling<br>index=%{x}<br>value=%{y}<extra></extra>",
         "legendgroup": "Stratified Sampling",
         "line": {
          "color": "#ab63fa",
          "dash": "solid"
         },
         "marker": {
          "symbol": "circle"
         },
         "mode": "lines",
         "name": "Stratified Sampling",
         "showlegend": true,
         "type": "scattergl",
         "x": [
          0,
          1,
          2,
          3,
          4,
          5,
          6,
          7,
          8,
          9,
          10,
          11,
          12,
          13,
          14,
          15,
          16,
          17,
          18,
          19,
          20,
          21,
          22,
          23,
          24,
          25,
          26,
          27,
          28,
          29,
          30,
          31,
          32,
          33,
          34,
          35,
          36,
          37,
          38,
          39,
          40,
          41,
          42,
          43,
          44,
          45,
          46,
          47,
          48,
          49,
          50,
          51,
          52,
          53,
          54,
          55,
          56,
          57,
          58,
          59,
          60,
          61,
          62,
          63,
          64,
          65,
          66,
          67,
          68,
          69,
          70,
          71,
          72,
          73,
          74,
          75,
          76,
          77,
          78,
          79,
          80,
          81,
          82,
          83,
          84,
          85,
          86,
          87,
          88,
          89,
          90,
          91,
          92,
          93,
          94,
          95,
          96,
          97,
          98,
          99,
          100,
          101,
          102,
          103,
          104,
          105,
          106,
          107,
          108,
          109,
          110,
          111,
          112,
          113,
          114,
          115,
          116,
          117,
          118,
          119,
          120,
          121,
          122,
          123,
          124,
          125,
          126,
          127,
          128,
          129,
          130,
          131,
          132,
          133,
          134,
          135,
          136,
          137,
          138,
          139,
          140,
          141,
          142,
          143,
          144,
          145,
          146,
          147,
          148,
          149,
          150,
          151,
          152,
          153,
          154,
          155,
          156,
          157,
          158,
          159,
          160,
          161,
          162,
          163,
          164,
          165,
          166,
          167,
          168,
          169,
          170,
          171,
          172,
          173,
          174,
          175,
          176,
          177,
          178,
          179,
          180,
          181,
          182,
          183,
          184,
          185,
          186,
          187,
          188,
          189,
          190,
          191,
          192,
          193,
          194,
          195,
          196,
          197,
          198,
          199,
          200,
          201,
          202,
          203,
          204,
          205,
          206,
          207,
          208,
          209,
          210,
          211,
          212,
          213,
          214,
          215,
          216,
          217,
          218,
          219,
          220,
          221,
          222,
          223,
          224,
          225,
          226,
          227,
          228,
          229,
          230,
          231,
          232,
          233,
          234,
          235,
          236,
          237,
          238,
          239,
          240,
          241,
          242,
          243,
          244,
          245,
          246,
          247,
          248,
          249,
          250,
          251,
          252,
          253,
          254,
          255,
          256,
          257,
          258,
          259,
          260,
          261,
          262,
          263,
          264,
          265,
          266,
          267,
          268,
          269,
          270,
          271,
          272,
          273,
          274,
          275,
          276,
          277,
          278,
          279,
          280,
          281,
          282,
          283,
          284,
          285,
          286,
          287,
          288,
          289,
          290,
          291,
          292,
          293,
          294,
          295,
          296,
          297,
          298,
          299,
          300,
          301,
          302,
          303,
          304,
          305,
          306,
          307,
          308,
          309,
          310,
          311,
          312,
          313,
          314,
          315,
          316,
          317,
          318,
          319,
          320,
          321,
          322,
          323,
          324,
          325,
          326,
          327,
          328,
          329,
          330,
          331,
          332,
          333,
          334,
          335,
          336,
          337,
          338,
          339,
          340,
          341,
          342,
          343,
          344,
          345,
          346,
          347,
          348,
          349,
          350,
          351,
          352,
          353,
          354,
          355,
          356,
          357,
          358,
          359,
          360,
          361,
          362,
          363,
          364,
          365,
          366,
          367,
          368,
          369,
          370,
          371,
          372,
          373,
          374,
          375,
          376,
          377
         ],
         "xaxis": "x",
         "y": [
          1002.5959499912166,
          1002.5289917931364,
          1010.3635955262233,
          999.32839166411,
          1010.2143812647166,
          1010.2151448435246,
          1010.2159084229096,
          1010.216672002872,
          1010.2174355834118,
          1010.2181991645282,
          1010.2049129354468,
          1009.9115150753463,
          1009.8991488876077,
          1001.5836090349959,
          1009.9163241892489,
          1009.7863144192395,
          1009.919530277907,
          1009.7764684782346,
          1009.778472004961,
          1009.7941759759481,
          1009.9259424857572,
          1009.7844826089928,
          1009.7864861516206,
          1009.7884896982234,
          1009.7904932488018,
          1009.7924968033554,
          1009.7810670550112,
          1009.7831087534884,
          1009.798507490868,
          1009.8005110613232,
          1009.7892338736883,
          1001.8877486302868,
          1009.8065217965399,
          1001.0323386299465,
          1000.984113006389,
          1001.6668933421556,
          1009.9515917242852,
          1009.8165397680755,
          1009.8185433743085,
          1001.8006729818243,
          1009.8354501528254,
          1009.8245542168609,
          994.2358587069065,
          1001.8184047271492,
          1009.8305650951925,
          1009.8325687292536,
          1001.7009980167807,
          1009.8492085866778,
          1001.7513201828621,
          1009.8405833052536,
          1009.8425869591924,
          1009.7260381577137,
          1002.3384832136413,
          1009.861001679175,
          1001.0620129811088,
          1009.8772603431888,
          986.789491136091,
          1002.0240352996301,
          977.3372153156406,
          1001.0324816208687,
          1001.2723783043828,
          1009.7617951512814,
          1002.6819967608503,
          1009.6522575845261,
          999.9789847962394,
          1008.0223689877114,
          1000.1133401046472,
          1007.9144676066796,
          1000.0726368988504,
          999.7314242886871,
          1007.9987877878629,
          1008.0129212032829,
          999.6716941571352,
          1008.029340595097,
          1008.0432839545184,
          1008.022521372057,
          1008.0249214285366,
          1008.136263663182,
          1008.2583256446436,
          1000.3722777394423,
          1008.2616026800526,
          1008.2519240248035,
          1008.360757090028,
          1008.2440363705368,
          1008.2681567828233,
          1008.1414072286691,
          1008.2380539879179,
          1008.228718493601,
          1008.2194592927846,
          1008.2653369892001,
          999.5124722923664,
          1008.000787787442,
          1007.9925021007347,
          1008.0982973415682,
          1007.8733862159004,
          1007.8872512361578,
          1007.7775171055482,
          1007.7702615905854,
          1007.9763880636878,
          1007.8781856244048,
          1007.7913046322575,
          1007.6734311751486,
          1007.8875559640198,
          1007.9901973586084,
          1007.6955194969803,
          1007.8969263907516,
          1007.8119862760014,
          1008.1096508935063,
          1008.0142926503671,
          1008.2117433570603,
          1008.1167374034876,
          1008.1292722662463,
          1008.2278802085448,
          1008.1137275356358,
          1008.2217455073027,
          1008.1185280886256,
          1008.1209283736925,
          1008.217801790501,
          1008.1604005478515,
          1008.2662896212989,
          1008.4008865308907,
          1008.3189906311619,
          1008.1499608456783,
          1008.273758288143,
          1008.3143415520516,
          1008.1859096909852,
          1008.2985653286306,
          1006.4986228731194,
          1006.5101295841475,
          1006.5026169231985,
          1006.4149987122252,
          1006.5160066162346,
          1006.438428752121,
          1006.4407109280161,
          1006.5497288908824,
          1006.5423300548001,
          1006.5350073528455,
          1006.4406728917089,
          1006.6255843627785,
          1006.5407704099189,
          1006.6287039177978,
          1006.6302636989332,
          1006.5375560274817,
          1006.5395150877455,
          1006.6349430568397,
          1006.8226679212345,
          1006.4439059829634,
          1006.5297768840657,
          1006.457447042708,
          1006.533847137425,
          1006.4621636343882,
          1006.5551877071246,
          1006.5485496383003,
          1006.4692385633527,
          1006.5610650023067,
          1006.4824376229074,
          1006.5565381505535,
          1006.5585352885231,
          1006.4810302221456,
          1006.483388570482,
          1006.2494445115152,
          1006.3312864187445,
          1006.2563277984534,
          1006.25976945958,
          1006.1004576086032,
          1005.8900578453391,
          1006.2015670394239,
          1005.9847018780418,
          1006.2090964670765,
          1006.2128612020314,
          1005.8488879043347,
          1006.0629671865204,
          1005.9343468746497,
          1005.9395172232045,
          1005.8632572767998,
          1004.6888206924986,
          1005.3715461020521,
          1005.1619635611246,
          1005.611860898071,
          1005.7549408359465,
          1005.3097286713448,
          1005.6251817329811,
          1005.5613915466222,
          1005.5761368482282,
          1005.7014046254037,
          1005.5833955683848,
          1005.5688401771098,
          1005.4710432924533,
          1005.2588565750661,
          1005.1567212334886,
          1003.7191293758423,
          1003.5783113158204,
          1003.5272803148198,
          1003.3892005171028,
          1003.2597087178676,
          1003.284392395301,
          1002.9915261564363,
          1003.075965221712,
          1003.1391428006315,
          1003.1780028738374,
          1003.3245473247582,
          1002.9964728955496,
          1003.2126938694408,
          1003.4465576426394,
          1003.1995376894646,
          1003.142441109358,
          1002.893809369004,
          1003.0371280549736,
          1003.1241678571754,
          1003.008527120606,
          1002.9135187380627,
          1002.6078017999022,
          1002.6236026596082,
          1002.5018628993488,
          1002.1643804467174,
          1002.2479923195503,
          1001.9626801313624,
          1002.1048810701319,
          1002.0940874815825,
          1001.7615693733217,
          1001.6070200110778,
          1001.7489054607399,
          1001.8952032842932,
          1001.3269990881043,
          1001.4309404085103,
          1001.655492755732,
          1001.6904528838616,
          1001.610937869329,
          1001.2035437614269,
          1001.1233485262429,
          1001.2349879492524,
          1000.9061215199713,
          1001.0875001744114,
          1001.2723173796469,
          1001.2533781485323,
          1001.2134385467797,
          1001.1072875492024,
          1001.0243761444693,
          1001.0436893672093,
          1000.9422092619851,
          1000.6912675153467,
          1000.7397715838869,
          1000.7983388885575,
          1000.4940418549683,
          1000.7318859670952,
          1000.6624120191756,
          1000.7916820509975,
          1000.8105179900674,
          1000.6869939752194,
          1000.6854244938249,
          1000.7933462562363,
          1000.7632396983697,
          1000.0815082120981,
          998.3719167023945,
          998.3192639710644,
          998.3214900066745,
          998.2668215172062,
          997.9330464913656,
          997.6123903977049,
          996.7957270514161,
          996.4029817893704,
          996.412245442921,
          996.8549300371811,
          996.8058796521906,
          996.9755695922079,
          997.3179383817386,
          996.8322505269269,
          996.6239772948121,
          996.8162395554933,
          996.8152035603181,
          997.1082824288757,
          996.5283496728491,
          996.5972729511549,
          996.5257321887468,
          996.6173858881879,
          995.872800021175,
          995.8659501260025,
          995.8283706328231,
          995.6707102892462,
          995.0206134216467,
          994.6084759733097,
          994.9103249213408,
          994.9371344685528,
          995.0027325429432,
          995.095336785048,
          995.0707041554798,
          995.1938357899367,
          995.2221386625877,
          995.1739396343594,
          995.435141247706,
          995.5055314592911,
          995.6516700563585,
          995.587816439438,
          995.6794591349452,
          995.8975654198973,
          995.7831152886923,
          995.7816099487638,
          995.7534416950591,
          995.8487126861774,
          995.9410192680767,
          995.8132225651503,
          995.9418285175332,
          995.9466463883718,
          996.10212933341,
          996.2115522304173,
          996.1763880139399,
          996.1733384990522,
          996.2640373205762,
          996.3629532521695,
          996.4125843587083,
          996.287042776167,
          996.4242770239663,
          996.3729319938475,
          996.5319463708512,
          996.6689130169916,
          996.5640912587567,
          994.9671868618842,
          995.0223139330753,
          995.2067072222437,
          995.1290043957489,
          995.1994105709429,
          995.1994293766764,
          995.2887041987071,
          995.4057872787823,
          995.3216929613329,
          995.4941964805731,
          995.6050200394583,
          995.6777364779551,
          995.7748066183718,
          995.8155830391366,
          995.9815096729789,
          995.9730781191682,
          996.0991071756207,
          996.2351671918029,
          996.23810394379,
          996.3614176895385,
          996.3835969566129,
          996.5488649855091,
          996.6927271595071,
          996.6278651402567,
          996.7617371477376,
          996.76793396616,
          996.8764881308724,
          996.7867130098385,
          996.9224148289503,
          997.005005322194,
          997.1086675804936,
          997.2241745750963,
          997.2211595405777,
          997.426994263353,
          997.5234998049408,
          997.6944996389226,
          997.8091128895579,
          997.8500857489496,
          998.0066956368497,
          998.122910211844,
          998.2811663547701,
          998.4326366409897,
          998.5650717023495,
          998.7527637198535,
          998.9102891904226,
          999.0678395062537,
          999.2254146712648,
          999.3830146893758,
          999.5406395645066,
          999.6982893005771,
          999.8559639015091,
          1000.0136633712242,
          1000.1713877136442,
          1000.3291369326927,
          1000.4869110322932,
          1000.6447100163697,
          1000.802533888847,
          1000.9603826536509,
          1001.1182563147071,
          1001.2761548759426,
          1001.4340783412845,
          1001.5920267146607
         ],
         "yaxis": "y"
        }
       ],
       "layout": {
        "legend": {
         "title": {
          "text": "variable"
         },
         "tracegroupgap": 0
        },
        "margin": {
         "t": 60
        },
        "template": {
         "data": {
          "bar": [
           {
            "error_x": {
             "color": "#2a3f5f"
            },
            "error_y": {
             "color": "#2a3f5f"
            },
            "marker": {
             "line": {
              "color": "#E5ECF6",
              "width": 0.5
             },
             "pattern": {
              "fillmode": "overlay",
              "size": 10,
              "solidity": 0.2
             }
            },
            "type": "bar"
           }
          ],
          "barpolar": [
           {
            "marker": {
             "line": {
              "color": "#E5ECF6",
              "width": 0.5
             },
             "pattern": {
              "fillmode": "overlay",
              "size": 10,
              "solidity": 0.2
             }
            },
            "type": "barpolar"
           }
          ],
          "carpet": [
           {
            "aaxis": {
             "endlinecolor": "#2a3f5f",
             "gridcolor": "white",
             "linecolor": "white",
             "minorgridcolor": "white",
             "startlinecolor": "#2a3f5f"
            },
            "baxis": {
             "endlinecolor": "#2a3f5f",
             "gridcolor": "white",
             "linecolor": "white",
             "minorgridcolor": "white",
             "startlinecolor": "#2a3f5f"
            },
            "type": "carpet"
           }
          ],
          "choropleth": [
           {
            "colorbar": {
             "outlinewidth": 0,
             "ticks": ""
            },
            "type": "choropleth"
           }
          ],
          "contour": [
           {
            "colorbar": {
             "outlinewidth": 0,
             "ticks": ""
            },
            "colorscale": [
             [
              0,
              "#0d0887"
             ],
             [
              0.1111111111111111,
              "#46039f"
             ],
             [
              0.2222222222222222,
              "#7201a8"
             ],
             [
              0.3333333333333333,
              "#9c179e"
             ],
             [
              0.4444444444444444,
              "#bd3786"
             ],
             [
              0.5555555555555556,
              "#d8576b"
             ],
             [
              0.6666666666666666,
              "#ed7953"
             ],
             [
              0.7777777777777778,
              "#fb9f3a"
             ],
             [
              0.8888888888888888,
              "#fdca26"
             ],
             [
              1,
              "#f0f921"
             ]
            ],
            "type": "contour"
           }
          ],
          "contourcarpet": [
           {
            "colorbar": {
             "outlinewidth": 0,
             "ticks": ""
            },
            "type": "contourcarpet"
           }
          ],
          "heatmap": [
           {
            "colorbar": {
             "outlinewidth": 0,
             "ticks": ""
            },
            "colorscale": [
             [
              0,
              "#0d0887"
             ],
             [
              0.1111111111111111,
              "#46039f"
             ],
             [
              0.2222222222222222,
              "#7201a8"
             ],
             [
              0.3333333333333333,
              "#9c179e"
             ],
             [
              0.4444444444444444,
              "#bd3786"
             ],
             [
              0.5555555555555556,
              "#d8576b"
             ],
             [
              0.6666666666666666,
              "#ed7953"
             ],
             [
              0.7777777777777778,
              "#fb9f3a"
             ],
             [
              0.8888888888888888,
              "#fdca26"
             ],
             [
              1,
              "#f0f921"
             ]
            ],
            "type": "heatmap"
           }
          ],
          "heatmapgl": [
           {
            "colorbar": {
             "outlinewidth": 0,
             "ticks": ""
            },
            "colorscale": [
             [
              0,
              "#0d0887"
             ],
             [
              0.1111111111111111,
              "#46039f"
             ],
             [
              0.2222222222222222,
              "#7201a8"
             ],
             [
              0.3333333333333333,
              "#9c179e"
             ],
             [
              0.4444444444444444,
              "#bd3786"
             ],
             [
              0.5555555555555556,
              "#d8576b"
             ],
             [
              0.6666666666666666,
              "#ed7953"
             ],
             [
              0.7777777777777778,
              "#fb9f3a"
             ],
             [
              0.8888888888888888,
              "#fdca26"
             ],
             [
              1,
              "#f0f921"
             ]
            ],
            "type": "heatmapgl"
           }
          ],
          "histogram": [
           {
            "marker": {
             "pattern": {
              "fillmode": "overlay",
              "size": 10,
              "solidity": 0.2
             }
            },
            "type": "histogram"
           }
          ],
          "histogram2d": [
           {
            "colorbar": {
             "outlinewidth": 0,
             "ticks": ""
            },
            "colorscale": [
             [
              0,
              "#0d0887"
             ],
             [
              0.1111111111111111,
              "#46039f"
             ],
             [
              0.2222222222222222,
              "#7201a8"
             ],
             [
              0.3333333333333333,
              "#9c179e"
             ],
             [
              0.4444444444444444,
              "#bd3786"
             ],
             [
              0.5555555555555556,
              "#d8576b"
             ],
             [
              0.6666666666666666,
              "#ed7953"
             ],
             [
              0.7777777777777778,
              "#fb9f3a"
             ],
             [
              0.8888888888888888,
              "#fdca26"
             ],
             [
              1,
              "#f0f921"
             ]
            ],
            "type": "histogram2d"
           }
          ],
          "histogram2dcontour": [
           {
            "colorbar": {
             "outlinewidth": 0,
             "ticks": ""
            },
            "colorscale": [
             [
              0,
              "#0d0887"
             ],
             [
              0.1111111111111111,
              "#46039f"
             ],
             [
              0.2222222222222222,
              "#7201a8"
             ],
             [
              0.3333333333333333,
              "#9c179e"
             ],
             [
              0.4444444444444444,
              "#bd3786"
             ],
             [
              0.5555555555555556,
              "#d8576b"
             ],
             [
              0.6666666666666666,
              "#ed7953"
             ],
             [
              0.7777777777777778,
              "#fb9f3a"
             ],
             [
              0.8888888888888888,
              "#fdca26"
             ],
             [
              1,
              "#f0f921"
             ]
            ],
            "type": "histogram2dcontour"
           }
          ],
          "mesh3d": [
           {
            "colorbar": {
             "outlinewidth": 0,
             "ticks": ""
            },
            "type": "mesh3d"
           }
          ],
          "parcoords": [
           {
            "line": {
             "colorbar": {
              "outlinewidth": 0,
              "ticks": ""
             }
            },
            "type": "parcoords"
           }
          ],
          "pie": [
           {
            "automargin": true,
            "type": "pie"
           }
          ],
          "scatter": [
           {
            "fillpattern": {
             "fillmode": "overlay",
             "size": 10,
             "solidity": 0.2
            },
            "type": "scatter"
           }
          ],
          "scatter3d": [
           {
            "line": {
             "colorbar": {
              "outlinewidth": 0,
              "ticks": ""
             }
            },
            "marker": {
             "colorbar": {
              "outlinewidth": 0,
              "ticks": ""
             }
            },
            "type": "scatter3d"
           }
          ],
          "scattercarpet": [
           {
            "marker": {
             "colorbar": {
              "outlinewidth": 0,
              "ticks": ""
             }
            },
            "type": "scattercarpet"
           }
          ],
          "scattergeo": [
           {
            "marker": {
             "colorbar": {
              "outlinewidth": 0,
              "ticks": ""
             }
            },
            "type": "scattergeo"
           }
          ],
          "scattergl": [
           {
            "marker": {
             "colorbar": {
              "outlinewidth": 0,
              "ticks": ""
             }
            },
            "type": "scattergl"
           }
          ],
          "scattermapbox": [
           {
            "marker": {
             "colorbar": {
              "outlinewidth": 0,
              "ticks": ""
             }
            },
            "type": "scattermapbox"
           }
          ],
          "scatterpolar": [
           {
            "marker": {
             "colorbar": {
              "outlinewidth": 0,
              "ticks": ""
             }
            },
            "type": "scatterpolar"
           }
          ],
          "scatterpolargl": [
           {
            "marker": {
             "colorbar": {
              "outlinewidth": 0,
              "ticks": ""
             }
            },
            "type": "scatterpolargl"
           }
          ],
          "scatterternary": [
           {
            "marker": {
             "colorbar": {
              "outlinewidth": 0,
              "ticks": ""
             }
            },
            "type": "scatterternary"
           }
          ],
          "surface": [
           {
            "colorbar": {
             "outlinewidth": 0,
             "ticks": ""
            },
            "colorscale": [
             [
              0,
              "#0d0887"
             ],
             [
              0.1111111111111111,
              "#46039f"
             ],
             [
              0.2222222222222222,
              "#7201a8"
             ],
             [
              0.3333333333333333,
              "#9c179e"
             ],
             [
              0.4444444444444444,
              "#bd3786"
             ],
             [
              0.5555555555555556,
              "#d8576b"
             ],
             [
              0.6666666666666666,
              "#ed7953"
             ],
             [
              0.7777777777777778,
              "#fb9f3a"
             ],
             [
              0.8888888888888888,
              "#fdca26"
             ],
             [
              1,
              "#f0f921"
             ]
            ],
            "type": "surface"
           }
          ],
          "table": [
           {
            "cells": {
             "fill": {
              "color": "#EBF0F8"
             },
             "line": {
              "color": "white"
             }
            },
            "header": {
             "fill": {
              "color": "#C8D4E3"
             },
             "line": {
              "color": "white"
             }
            },
            "type": "table"
           }
          ]
         },
         "layout": {
          "annotationdefaults": {
           "arrowcolor": "#2a3f5f",
           "arrowhead": 0,
           "arrowwidth": 1
          },
          "autotypenumbers": "strict",
          "coloraxis": {
           "colorbar": {
            "outlinewidth": 0,
            "ticks": ""
           }
          },
          "colorscale": {
           "diverging": [
            [
             0,
             "#8e0152"
            ],
            [
             0.1,
             "#c51b7d"
            ],
            [
             0.2,
             "#de77ae"
            ],
            [
             0.3,
             "#f1b6da"
            ],
            [
             0.4,
             "#fde0ef"
            ],
            [
             0.5,
             "#f7f7f7"
            ],
            [
             0.6,
             "#e6f5d0"
            ],
            [
             0.7,
             "#b8e186"
            ],
            [
             0.8,
             "#7fbc41"
            ],
            [
             0.9,
             "#4d9221"
            ],
            [
             1,
             "#276419"
            ]
           ],
           "sequential": [
            [
             0,
             "#0d0887"
            ],
            [
             0.1111111111111111,
             "#46039f"
            ],
            [
             0.2222222222222222,
             "#7201a8"
            ],
            [
             0.3333333333333333,
             "#9c179e"
            ],
            [
             0.4444444444444444,
             "#bd3786"
            ],
            [
             0.5555555555555556,
             "#d8576b"
            ],
            [
             0.6666666666666666,
             "#ed7953"
            ],
            [
             0.7777777777777778,
             "#fb9f3a"
            ],
            [
             0.8888888888888888,
             "#fdca26"
            ],
            [
             1,
             "#f0f921"
            ]
           ],
           "sequentialminus": [
            [
             0,
             "#0d0887"
            ],
            [
             0.1111111111111111,
             "#46039f"
            ],
            [
             0.2222222222222222,
             "#7201a8"
            ],
            [
             0.3333333333333333,
             "#9c179e"
            ],
            [
             0.4444444444444444,
             "#bd3786"
            ],
            [
             0.5555555555555556,
             "#d8576b"
            ],
            [
             0.6666666666666666,
             "#ed7953"
            ],
            [
             0.7777777777777778,
             "#fb9f3a"
            ],
            [
             0.8888888888888888,
             "#fdca26"
            ],
            [
             1,
             "#f0f921"
            ]
           ]
          },
          "colorway": [
           "#636efa",
           "#EF553B",
           "#00cc96",
           "#ab63fa",
           "#FFA15A",
           "#19d3f3",
           "#FF6692",
           "#B6E880",
           "#FF97FF",
           "#FECB52"
          ],
          "font": {
           "color": "#2a3f5f"
          },
          "geo": {
           "bgcolor": "white",
           "lakecolor": "white",
           "landcolor": "#E5ECF6",
           "showlakes": true,
           "showland": true,
           "subunitcolor": "white"
          },
          "hoverlabel": {
           "align": "left"
          },
          "hovermode": "closest",
          "mapbox": {
           "style": "light"
          },
          "paper_bgcolor": "white",
          "plot_bgcolor": "#E5ECF6",
          "polar": {
           "angularaxis": {
            "gridcolor": "white",
            "linecolor": "white",
            "ticks": ""
           },
           "bgcolor": "#E5ECF6",
           "radialaxis": {
            "gridcolor": "white",
            "linecolor": "white",
            "ticks": ""
           }
          },
          "scene": {
           "xaxis": {
            "backgroundcolor": "#E5ECF6",
            "gridcolor": "white",
            "gridwidth": 2,
            "linecolor": "white",
            "showbackground": true,
            "ticks": "",
            "zerolinecolor": "white"
           },
           "yaxis": {
            "backgroundcolor": "#E5ECF6",
            "gridcolor": "white",
            "gridwidth": 2,
            "linecolor": "white",
            "showbackground": true,
            "ticks": "",
            "zerolinecolor": "white"
           },
           "zaxis": {
            "backgroundcolor": "#E5ECF6",
            "gridcolor": "white",
            "gridwidth": 2,
            "linecolor": "white",
            "showbackground": true,
            "ticks": "",
            "zerolinecolor": "white"
           }
          },
          "shapedefaults": {
           "line": {
            "color": "#2a3f5f"
           }
          },
          "ternary": {
           "aaxis": {
            "gridcolor": "white",
            "linecolor": "white",
            "ticks": ""
           },
           "baxis": {
            "gridcolor": "white",
            "linecolor": "white",
            "ticks": ""
           },
           "bgcolor": "#E5ECF6",
           "caxis": {
            "gridcolor": "white",
            "linecolor": "white",
            "ticks": ""
           }
          },
          "title": {
           "x": 0.05
          },
          "xaxis": {
           "automargin": true,
           "gridcolor": "white",
           "linecolor": "white",
           "ticks": "",
           "title": {
            "standoff": 15
           },
           "zerolinecolor": "white",
           "zerolinewidth": 2
          },
          "yaxis": {
           "automargin": true,
           "gridcolor": "white",
           "linecolor": "white",
           "ticks": "",
           "title": {
            "standoff": 15
           },
           "zerolinecolor": "white",
           "zerolinewidth": 2
          }
         }
        },
        "xaxis": {
         "anchor": "y",
         "domain": [
          0,
          1
         ],
         "title": {
          "text": "index"
         }
        },
        "yaxis": {
         "anchor": "x",
         "domain": [
          0,
          1
         ],
         "title": {
          "text": "value"
         }
        }
       }
      }
     },
     "metadata": {},
     "output_type": "display_data"
    }
   ],
   "source": [
    "px.line(merged, \n",
    "        y=[\"Price\", \n",
    "         #   \"Monte Carlo\", \n",
    "         #   \"Antithetic Variates\", \n",
    "           \"Stratified Sampling\"\n",
    "           ]\n",
    "        )"
   ]
  },
  {
   "cell_type": "markdown",
   "metadata": {},
   "source": [
    "## Greeks"
   ]
  },
  {
   "cell_type": "code",
   "execution_count": null,
   "metadata": {},
   "outputs": [
    {
     "data": {
      "application/vnd.jupyter.widget-view+json": {
       "model_id": "6d8f5af01b434199ab355862115682f7",
       "version_major": 2,
       "version_minor": 0
      },
      "text/plain": [
       "  0%|          | 0/378 [00:00<?, ?it/s]"
      ]
     },
     "metadata": {},
     "output_type": "display_data"
    }
   ],
   "source": [
    "payoffs_greeks = np.zeros(shape=(3, m))\n",
    "p = 3 \n",
    "z = np.random.multivariate_normal(mean=np.zeros(p), cov=np.identity(p), size=m)\n",
    "for t in tqdm(range(m), leave=False):\n",
    "    r = calc_rates(t, m, rates)\n",
    "\n",
    "    paths = n_path_sim_greeks(asset_hist=asset_hist,\n",
    "                    Nsim=100,\n",
    "                    t=t,\n",
    "                    r=r,\n",
    "                    dt=dt,\n",
    "                    p=p,\n",
    "                    m=m,\n",
    "                    h_=h,\n",
    "                    sim_func=multi_asset_GBM,\n",
    "                    z=z[t:]\n",
    "                    )\n",
    "                    \n",
    "    for i in range(3):\n",
    "        payoffs_greeks[i][t] = np.mean(payoff(paths[i], K, Barrier, m-t))"
   ]
  },
  {
   "cell_type": "code",
   "execution_count": null,
   "metadata": {},
   "outputs": [
    {
     "data": {
      "text/html": [
       "<div>\n",
       "<style scoped>\n",
       "    .dataframe tbody tr th:only-of-type {\n",
       "        vertical-align: middle;\n",
       "    }\n",
       "\n",
       "    .dataframe tbody tr th {\n",
       "        vertical-align: top;\n",
       "    }\n",
       "\n",
       "    .dataframe thead th {\n",
       "        text-align: right;\n",
       "    }\n",
       "</style>\n",
       "<table border=\"1\" class=\"dataframe\">\n",
       "  <thead>\n",
       "    <tr style=\"text-align: right;\">\n",
       "      <th></th>\n",
       "      <th>Delta</th>\n",
       "      <th>Gamma</th>\n",
       "      <th>Vega</th>\n",
       "      <th>Theta</th>\n",
       "      <th>Rho</th>\n",
       "    </tr>\n",
       "  </thead>\n",
       "  <tbody>\n",
       "    <tr>\n",
       "      <th>0</th>\n",
       "      <td>-484.427752</td>\n",
       "      <td>-1.421085e-08</td>\n",
       "    </tr>\n",
       "    <tr>\n",
       "      <th>1</th>\n",
       "      <td>-474.739869</td>\n",
       "      <td>1.563194e-07</td>\n",
       "    </tr>\n",
       "    <tr>\n",
       "      <th>2</th>\n",
       "      <td>-474.458525</td>\n",
       "      <td>-2.700062e-07</td>\n",
       "    </tr>\n",
       "    <tr>\n",
       "      <th>3</th>\n",
       "      <td>-485.218409</td>\n",
       "      <td>1.421085e-07</td>\n",
       "    </tr>\n",
       "    <tr>\n",
       "      <th>4</th>\n",
       "      <td>-511.418218</td>\n",
       "      <td>-5.115908e-07</td>\n",
       "    </tr>\n",
       "  </tbody>\n",
       "</table>\n",
       "</div>"
      ],
      "text/plain": [
       "        Delta         Gamma\n",
       "0 -484.427752 -1.421085e-08\n",
       "1 -474.739869  1.563194e-07\n",
       "2 -474.458525 -2.700062e-07\n",
       "3 -485.218409  1.421085e-07\n",
       "4 -511.418218 -5.115908e-07"
      ]
     },
     "execution_count": 97,
     "metadata": {},
     "output_type": "execute_result"
    }
   ],
   "source": [
    "greeks_df = pd.DataFrame(\n",
    "    np.concatenate(\n",
    "        (\n",
    "            (\n",
    "                (payoffs_greeks[2] - payoffs_greeks[1])/(2*0.002)\n",
    "            ).reshape(1, m), \n",
    "            (\n",
    "                (payoffs_greeks[2] - ( 2 * payoffs_greeks[0] ) + payoffs_greeks[1])/ np.square(0.002)\n",
    "            ).reshape(1, m)\n",
    "        ),\n",
    "        axis=0\n",
    "    ).T,\n",
    "    columns=[\"Delta\", \"Gamma\", \"Vega\", \"Theta\", \"Rho\"]\n",
    ")\n",
    "greeks_df.head()"
   ]
  },
  {
   "cell_type": "markdown",
   "metadata": {},
   "source": [
    "### Delta"
   ]
  },
  {
   "cell_type": "code",
   "execution_count": null,
   "metadata": {},
   "outputs": [
    {
     "data": {
      "application/vnd.plotly.v1+json": {
       "config": {
        "plotlyServerURL": "https://plot.ly"
       },
       "data": [
        {
         "hovertemplate": "index=%{x}<br>Delta=%{y}<extra></extra>",
         "legendgroup": "",
         "line": {
          "color": "#636efa",
          "dash": "solid"
         },
         "marker": {
          "symbol": "circle"
         },
         "mode": "lines",
         "name": "",
         "orientation": "v",
         "showlegend": false,
         "type": "scatter",
         "x": [
          0,
          1,
          2,
          3,
          4,
          5,
          6,
          7,
          8,
          9,
          10,
          11,
          12,
          13,
          14,
          15,
          16,
          17,
          18,
          19,
          20,
          21,
          22,
          23,
          24,
          25,
          26,
          27,
          28,
          29,
          30,
          31,
          32,
          33,
          34,
          35,
          36,
          37,
          38,
          39,
          40,
          41,
          42,
          43,
          44,
          45,
          46,
          47,
          48,
          49,
          50,
          51,
          52,
          53,
          54,
          55,
          56,
          57,
          58,
          59,
          60,
          61,
          62,
          63,
          64,
          65,
          66,
          67,
          68,
          69,
          70,
          71,
          72,
          73,
          74,
          75,
          76,
          77,
          78,
          79,
          80,
          81,
          82,
          83,
          84,
          85,
          86,
          87,
          88,
          89,
          90,
          91,
          92,
          93,
          94,
          95,
          96,
          97,
          98,
          99,
          100,
          101,
          102,
          103,
          104,
          105,
          106,
          107,
          108,
          109,
          110,
          111,
          112,
          113,
          114,
          115,
          116,
          117,
          118,
          119,
          120,
          121,
          122,
          123,
          124,
          125,
          126,
          127,
          128,
          129,
          130,
          131,
          132,
          133,
          134,
          135,
          136,
          137,
          138,
          139,
          140,
          141,
          142,
          143,
          144,
          145,
          146,
          147,
          148,
          149,
          150,
          151,
          152,
          153,
          154,
          155,
          156,
          157,
          158,
          159,
          160,
          161,
          162,
          163,
          164,
          165,
          166,
          167,
          168,
          169,
          170,
          171,
          172,
          173,
          174,
          175,
          176,
          177,
          178,
          179,
          180,
          181,
          182,
          183,
          184,
          185,
          186,
          187,
          188,
          189,
          190,
          191,
          192,
          193,
          194,
          195,
          196,
          197,
          198,
          199,
          200,
          201,
          202,
          203,
          204,
          205,
          206,
          207,
          208,
          209,
          210,
          211,
          212,
          213,
          214,
          215,
          216,
          217,
          218,
          219,
          220,
          221,
          222,
          223,
          224,
          225,
          226,
          227,
          228,
          229,
          230,
          231,
          232,
          233,
          234,
          235,
          236,
          237,
          238,
          239,
          240,
          241,
          242,
          243,
          244,
          245,
          246,
          247,
          248,
          249,
          250,
          251,
          252,
          253,
          254,
          255,
          256,
          257,
          258,
          259,
          260,
          261,
          262,
          263,
          264,
          265,
          266,
          267,
          268,
          269,
          270,
          271,
          272,
          273,
          274,
          275,
          276,
          277,
          278,
          279,
          280,
          281,
          282,
          283,
          284,
          285,
          286,
          287,
          288,
          289,
          290,
          291,
          292,
          293,
          294,
          295,
          296,
          297,
          298,
          299,
          300,
          301,
          302,
          303,
          304,
          305,
          306,
          307,
          308,
          309,
          310,
          311,
          312,
          313,
          314,
          315,
          316,
          317,
          318,
          319,
          320,
          321,
          322,
          323,
          324,
          325,
          326,
          327,
          328,
          329,
          330,
          331,
          332,
          333,
          334,
          335,
          336,
          337,
          338,
          339,
          340,
          341,
          342,
          343,
          344,
          345,
          346,
          347,
          348,
          349,
          350,
          351,
          352,
          353,
          354,
          355,
          356,
          357,
          358,
          359,
          360,
          361,
          362,
          363,
          364,
          365,
          366,
          367,
          368,
          369,
          370,
          371,
          372,
          373,
          374,
          375,
          376,
          377
         ],
         "xaxis": "x",
         "y": [
          -484.42775198226684,
          -474.73986937505686,
          -474.45852534839617,
          -485.2184086579143,
          -511.4182183276057,
          -514.486747083879,
          -512.3739273577144,
          -522.5611391258269,
          -518.0762448806888,
          -527.1067614102662,
          -515.4044883605025,
          -512.883823903735,
          -515.9617403468815,
          -508.63133527812465,
          -501.1612314878846,
          -505.9892002219897,
          -518.0280309033662,
          -521.8836762463184,
          -534.3553207524963,
          -532.8633147891821,
          -541.1519239839606,
          -539.5452815338615,
          -545.9654192541166,
          -557.6463735396828,
          -565.1994637816529,
          -557.415208534934,
          -542.7750232001358,
          -533.0624880043899,
          -524.001927043031,
          -531.9363506680475,
          -538.8872552796329,
          -552.9331022424913,
          -550.8632952686696,
          -559.3470209382474,
          -562.2140579964707,
          -573.7063009630106,
          -586.0702649012239,
          -579.1569310576108,
          -576.9023915866853,
          -582.9496459197117,
          -576.9893742031229,
          -572.0582200410149,
          -590.9166978203189,
          -618.9786127273464,
          -620.0590771479142,
          -647.3479421499917,
          -667.5696226405137,
          -647.4546253952269,
          -646.9514488965444,
          -649.978324988183,
          -651.0754897135484,
          -655.4260858920316,
          -656.7108022310038,
          -648.2503740979837,
          -640.8367222452966,
          -649.7830819942578,
          -660.3135298470306,
          -654.6866284730299,
          -639.1745878028132,
          -643.6176801312001,
          -667.2689597982924,
          -659.6053453916113,
          -664.7356622821974,
          -639.3820416217579,
          -681.4912235151098,
          -682.3038853185892,
          -671.1627561720377,
          -670.478269225697,
          -699.3108661770009,
          -674.813837896096,
          -671.4261945426188,
          -672.212363746695,
          -652.8152840415373,
          -656.2809650474719,
          -685.3290984069531,
          -704.3746791211447,
          -716.5174943573334,
          -728.0101680665041,
          -719.7423645757226,
          -735.8815532816436,
          0,
          0,
          0,
          0,
          0,
          0,
          0,
          0,
          0,
          0,
          0,
          0,
          0,
          0,
          0,
          0,
          0,
          0,
          0,
          0,
          0,
          0,
          0,
          0,
          0,
          0,
          0,
          0,
          0,
          0,
          0,
          0,
          0,
          0,
          0,
          0,
          0,
          0,
          0,
          0,
          0,
          0,
          0,
          0,
          0,
          0,
          0,
          0,
          0,
          0,
          0,
          0,
          0,
          0,
          0,
          0,
          0,
          0,
          0,
          0,
          0,
          0,
          0,
          0,
          0,
          0,
          0,
          0,
          0,
          0,
          0,
          0,
          0,
          0,
          0,
          0,
          0,
          0,
          0,
          0,
          0,
          0,
          0,
          0,
          0,
          0,
          0,
          0,
          0,
          0,
          0,
          0,
          0,
          0,
          0,
          0,
          0,
          0,
          0,
          0,
          0,
          0,
          0,
          0,
          0,
          0,
          0,
          0,
          0,
          0,
          0,
          0,
          0,
          0,
          0,
          0,
          0,
          0,
          0,
          0,
          0,
          0,
          0,
          0,
          0,
          0,
          0,
          0,
          0,
          0,
          0,
          0,
          0,
          0,
          0,
          0,
          0,
          0,
          0,
          0,
          0,
          0,
          0,
          0,
          0,
          0,
          0,
          0,
          0,
          0,
          0,
          0,
          0,
          0,
          0,
          0,
          0,
          0,
          0,
          0,
          0,
          0,
          0,
          0,
          0,
          0,
          0,
          0,
          0,
          0,
          0,
          0,
          0,
          0,
          0,
          0,
          0,
          0,
          0,
          0,
          0,
          0,
          0,
          0,
          0,
          0,
          0,
          0,
          0,
          0,
          0,
          0,
          0,
          0,
          0,
          0,
          0,
          0,
          0,
          0,
          0,
          0,
          0,
          0,
          0,
          0,
          0,
          0,
          0,
          0,
          0,
          0,
          0,
          0,
          0,
          0,
          0,
          0,
          0,
          0,
          0,
          0,
          0,
          0,
          0,
          0,
          0,
          0,
          0,
          0,
          0,
          0,
          0,
          0,
          0,
          0,
          0,
          0,
          0,
          0,
          0,
          0,
          0,
          0,
          0,
          0,
          0,
          0,
          0,
          0,
          0,
          0,
          0,
          0,
          0,
          0,
          0,
          0,
          0,
          0,
          0,
          0,
          0,
          0,
          0,
          0,
          0,
          0,
          0,
          0,
          0,
          0,
          0,
          0,
          0,
          0,
          0,
          0,
          0,
          0,
          0,
          0,
          0,
          0,
          0,
          0,
          0,
          0,
          0,
          0,
          0,
          0,
          0,
          0,
          0,
          0,
          0,
          0
         ],
         "yaxis": "y"
        }
       ],
       "layout": {
        "legend": {
         "tracegroupgap": 0
        },
        "margin": {
         "t": 60
        },
        "template": {
         "data": {
          "bar": [
           {
            "error_x": {
             "color": "#2a3f5f"
            },
            "error_y": {
             "color": "#2a3f5f"
            },
            "marker": {
             "line": {
              "color": "#E5ECF6",
              "width": 0.5
             },
             "pattern": {
              "fillmode": "overlay",
              "size": 10,
              "solidity": 0.2
             }
            },
            "type": "bar"
           }
          ],
          "barpolar": [
           {
            "marker": {
             "line": {
              "color": "#E5ECF6",
              "width": 0.5
             },
             "pattern": {
              "fillmode": "overlay",
              "size": 10,
              "solidity": 0.2
             }
            },
            "type": "barpolar"
           }
          ],
          "carpet": [
           {
            "aaxis": {
             "endlinecolor": "#2a3f5f",
             "gridcolor": "white",
             "linecolor": "white",
             "minorgridcolor": "white",
             "startlinecolor": "#2a3f5f"
            },
            "baxis": {
             "endlinecolor": "#2a3f5f",
             "gridcolor": "white",
             "linecolor": "white",
             "minorgridcolor": "white",
             "startlinecolor": "#2a3f5f"
            },
            "type": "carpet"
           }
          ],
          "choropleth": [
           {
            "colorbar": {
             "outlinewidth": 0,
             "ticks": ""
            },
            "type": "choropleth"
           }
          ],
          "contour": [
           {
            "colorbar": {
             "outlinewidth": 0,
             "ticks": ""
            },
            "colorscale": [
             [
              0,
              "#0d0887"
             ],
             [
              0.1111111111111111,
              "#46039f"
             ],
             [
              0.2222222222222222,
              "#7201a8"
             ],
             [
              0.3333333333333333,
              "#9c179e"
             ],
             [
              0.4444444444444444,
              "#bd3786"
             ],
             [
              0.5555555555555556,
              "#d8576b"
             ],
             [
              0.6666666666666666,
              "#ed7953"
             ],
             [
              0.7777777777777778,
              "#fb9f3a"
             ],
             [
              0.8888888888888888,
              "#fdca26"
             ],
             [
              1,
              "#f0f921"
             ]
            ],
            "type": "contour"
           }
          ],
          "contourcarpet": [
           {
            "colorbar": {
             "outlinewidth": 0,
             "ticks": ""
            },
            "type": "contourcarpet"
           }
          ],
          "heatmap": [
           {
            "colorbar": {
             "outlinewidth": 0,
             "ticks": ""
            },
            "colorscale": [
             [
              0,
              "#0d0887"
             ],
             [
              0.1111111111111111,
              "#46039f"
             ],
             [
              0.2222222222222222,
              "#7201a8"
             ],
             [
              0.3333333333333333,
              "#9c179e"
             ],
             [
              0.4444444444444444,
              "#bd3786"
             ],
             [
              0.5555555555555556,
              "#d8576b"
             ],
             [
              0.6666666666666666,
              "#ed7953"
             ],
             [
              0.7777777777777778,
              "#fb9f3a"
             ],
             [
              0.8888888888888888,
              "#fdca26"
             ],
             [
              1,
              "#f0f921"
             ]
            ],
            "type": "heatmap"
           }
          ],
          "heatmapgl": [
           {
            "colorbar": {
             "outlinewidth": 0,
             "ticks": ""
            },
            "colorscale": [
             [
              0,
              "#0d0887"
             ],
             [
              0.1111111111111111,
              "#46039f"
             ],
             [
              0.2222222222222222,
              "#7201a8"
             ],
             [
              0.3333333333333333,
              "#9c179e"
             ],
             [
              0.4444444444444444,
              "#bd3786"
             ],
             [
              0.5555555555555556,
              "#d8576b"
             ],
             [
              0.6666666666666666,
              "#ed7953"
             ],
             [
              0.7777777777777778,
              "#fb9f3a"
             ],
             [
              0.8888888888888888,
              "#fdca26"
             ],
             [
              1,
              "#f0f921"
             ]
            ],
            "type": "heatmapgl"
           }
          ],
          "histogram": [
           {
            "marker": {
             "pattern": {
              "fillmode": "overlay",
              "size": 10,
              "solidity": 0.2
             }
            },
            "type": "histogram"
           }
          ],
          "histogram2d": [
           {
            "colorbar": {
             "outlinewidth": 0,
             "ticks": ""
            },
            "colorscale": [
             [
              0,
              "#0d0887"
             ],
             [
              0.1111111111111111,
              "#46039f"
             ],
             [
              0.2222222222222222,
              "#7201a8"
             ],
             [
              0.3333333333333333,
              "#9c179e"
             ],
             [
              0.4444444444444444,
              "#bd3786"
             ],
             [
              0.5555555555555556,
              "#d8576b"
             ],
             [
              0.6666666666666666,
              "#ed7953"
             ],
             [
              0.7777777777777778,
              "#fb9f3a"
             ],
             [
              0.8888888888888888,
              "#fdca26"
             ],
             [
              1,
              "#f0f921"
             ]
            ],
            "type": "histogram2d"
           }
          ],
          "histogram2dcontour": [
           {
            "colorbar": {
             "outlinewidth": 0,
             "ticks": ""
            },
            "colorscale": [
             [
              0,
              "#0d0887"
             ],
             [
              0.1111111111111111,
              "#46039f"
             ],
             [
              0.2222222222222222,
              "#7201a8"
             ],
             [
              0.3333333333333333,
              "#9c179e"
             ],
             [
              0.4444444444444444,
              "#bd3786"
             ],
             [
              0.5555555555555556,
              "#d8576b"
             ],
             [
              0.6666666666666666,
              "#ed7953"
             ],
             [
              0.7777777777777778,
              "#fb9f3a"
             ],
             [
              0.8888888888888888,
              "#fdca26"
             ],
             [
              1,
              "#f0f921"
             ]
            ],
            "type": "histogram2dcontour"
           }
          ],
          "mesh3d": [
           {
            "colorbar": {
             "outlinewidth": 0,
             "ticks": ""
            },
            "type": "mesh3d"
           }
          ],
          "parcoords": [
           {
            "line": {
             "colorbar": {
              "outlinewidth": 0,
              "ticks": ""
             }
            },
            "type": "parcoords"
           }
          ],
          "pie": [
           {
            "automargin": true,
            "type": "pie"
           }
          ],
          "scatter": [
           {
            "fillpattern": {
             "fillmode": "overlay",
             "size": 10,
             "solidity": 0.2
            },
            "type": "scatter"
           }
          ],
          "scatter3d": [
           {
            "line": {
             "colorbar": {
              "outlinewidth": 0,
              "ticks": ""
             }
            },
            "marker": {
             "colorbar": {
              "outlinewidth": 0,
              "ticks": ""
             }
            },
            "type": "scatter3d"
           }
          ],
          "scattercarpet": [
           {
            "marker": {
             "colorbar": {
              "outlinewidth": 0,
              "ticks": ""
             }
            },
            "type": "scattercarpet"
           }
          ],
          "scattergeo": [
           {
            "marker": {
             "colorbar": {
              "outlinewidth": 0,
              "ticks": ""
             }
            },
            "type": "scattergeo"
           }
          ],
          "scattergl": [
           {
            "marker": {
             "colorbar": {
              "outlinewidth": 0,
              "ticks": ""
             }
            },
            "type": "scattergl"
           }
          ],
          "scattermapbox": [
           {
            "marker": {
             "colorbar": {
              "outlinewidth": 0,
              "ticks": ""
             }
            },
            "type": "scattermapbox"
           }
          ],
          "scatterpolar": [
           {
            "marker": {
             "colorbar": {
              "outlinewidth": 0,
              "ticks": ""
             }
            },
            "type": "scatterpolar"
           }
          ],
          "scatterpolargl": [
           {
            "marker": {
             "colorbar": {
              "outlinewidth": 0,
              "ticks": ""
             }
            },
            "type": "scatterpolargl"
           }
          ],
          "scatterternary": [
           {
            "marker": {
             "colorbar": {
              "outlinewidth": 0,
              "ticks": ""
             }
            },
            "type": "scatterternary"
           }
          ],
          "surface": [
           {
            "colorbar": {
             "outlinewidth": 0,
             "ticks": ""
            },
            "colorscale": [
             [
              0,
              "#0d0887"
             ],
             [
              0.1111111111111111,
              "#46039f"
             ],
             [
              0.2222222222222222,
              "#7201a8"
             ],
             [
              0.3333333333333333,
              "#9c179e"
             ],
             [
              0.4444444444444444,
              "#bd3786"
             ],
             [
              0.5555555555555556,
              "#d8576b"
             ],
             [
              0.6666666666666666,
              "#ed7953"
             ],
             [
              0.7777777777777778,
              "#fb9f3a"
             ],
             [
              0.8888888888888888,
              "#fdca26"
             ],
             [
              1,
              "#f0f921"
             ]
            ],
            "type": "surface"
           }
          ],
          "table": [
           {
            "cells": {
             "fill": {
              "color": "#EBF0F8"
             },
             "line": {
              "color": "white"
             }
            },
            "header": {
             "fill": {
              "color": "#C8D4E3"
             },
             "line": {
              "color": "white"
             }
            },
            "type": "table"
           }
          ]
         },
         "layout": {
          "annotationdefaults": {
           "arrowcolor": "#2a3f5f",
           "arrowhead": 0,
           "arrowwidth": 1
          },
          "autotypenumbers": "strict",
          "coloraxis": {
           "colorbar": {
            "outlinewidth": 0,
            "ticks": ""
           }
          },
          "colorscale": {
           "diverging": [
            [
             0,
             "#8e0152"
            ],
            [
             0.1,
             "#c51b7d"
            ],
            [
             0.2,
             "#de77ae"
            ],
            [
             0.3,
             "#f1b6da"
            ],
            [
             0.4,
             "#fde0ef"
            ],
            [
             0.5,
             "#f7f7f7"
            ],
            [
             0.6,
             "#e6f5d0"
            ],
            [
             0.7,
             "#b8e186"
            ],
            [
             0.8,
             "#7fbc41"
            ],
            [
             0.9,
             "#4d9221"
            ],
            [
             1,
             "#276419"
            ]
           ],
           "sequential": [
            [
             0,
             "#0d0887"
            ],
            [
             0.1111111111111111,
             "#46039f"
            ],
            [
             0.2222222222222222,
             "#7201a8"
            ],
            [
             0.3333333333333333,
             "#9c179e"
            ],
            [
             0.4444444444444444,
             "#bd3786"
            ],
            [
             0.5555555555555556,
             "#d8576b"
            ],
            [
             0.6666666666666666,
             "#ed7953"
            ],
            [
             0.7777777777777778,
             "#fb9f3a"
            ],
            [
             0.8888888888888888,
             "#fdca26"
            ],
            [
             1,
             "#f0f921"
            ]
           ],
           "sequentialminus": [
            [
             0,
             "#0d0887"
            ],
            [
             0.1111111111111111,
             "#46039f"
            ],
            [
             0.2222222222222222,
             "#7201a8"
            ],
            [
             0.3333333333333333,
             "#9c179e"
            ],
            [
             0.4444444444444444,
             "#bd3786"
            ],
            [
             0.5555555555555556,
             "#d8576b"
            ],
            [
             0.6666666666666666,
             "#ed7953"
            ],
            [
             0.7777777777777778,
             "#fb9f3a"
            ],
            [
             0.8888888888888888,
             "#fdca26"
            ],
            [
             1,
             "#f0f921"
            ]
           ]
          },
          "colorway": [
           "#636efa",
           "#EF553B",
           "#00cc96",
           "#ab63fa",
           "#FFA15A",
           "#19d3f3",
           "#FF6692",
           "#B6E880",
           "#FF97FF",
           "#FECB52"
          ],
          "font": {
           "color": "#2a3f5f"
          },
          "geo": {
           "bgcolor": "white",
           "lakecolor": "white",
           "landcolor": "#E5ECF6",
           "showlakes": true,
           "showland": true,
           "subunitcolor": "white"
          },
          "hoverlabel": {
           "align": "left"
          },
          "hovermode": "closest",
          "mapbox": {
           "style": "light"
          },
          "paper_bgcolor": "white",
          "plot_bgcolor": "#E5ECF6",
          "polar": {
           "angularaxis": {
            "gridcolor": "white",
            "linecolor": "white",
            "ticks": ""
           },
           "bgcolor": "#E5ECF6",
           "radialaxis": {
            "gridcolor": "white",
            "linecolor": "white",
            "ticks": ""
           }
          },
          "scene": {
           "xaxis": {
            "backgroundcolor": "#E5ECF6",
            "gridcolor": "white",
            "gridwidth": 2,
            "linecolor": "white",
            "showbackground": true,
            "ticks": "",
            "zerolinecolor": "white"
           },
           "yaxis": {
            "backgroundcolor": "#E5ECF6",
            "gridcolor": "white",
            "gridwidth": 2,
            "linecolor": "white",
            "showbackground": true,
            "ticks": "",
            "zerolinecolor": "white"
           },
           "zaxis": {
            "backgroundcolor": "#E5ECF6",
            "gridcolor": "white",
            "gridwidth": 2,
            "linecolor": "white",
            "showbackground": true,
            "ticks": "",
            "zerolinecolor": "white"
           }
          },
          "shapedefaults": {
           "line": {
            "color": "#2a3f5f"
           }
          },
          "ternary": {
           "aaxis": {
            "gridcolor": "white",
            "linecolor": "white",
            "ticks": ""
           },
           "baxis": {
            "gridcolor": "white",
            "linecolor": "white",
            "ticks": ""
           },
           "bgcolor": "#E5ECF6",
           "caxis": {
            "gridcolor": "white",
            "linecolor": "white",
            "ticks": ""
           }
          },
          "title": {
           "x": 0.05
          },
          "xaxis": {
           "automargin": true,
           "gridcolor": "white",
           "linecolor": "white",
           "ticks": "",
           "title": {
            "standoff": 15
           },
           "zerolinecolor": "white",
           "zerolinewidth": 2
          },
          "yaxis": {
           "automargin": true,
           "gridcolor": "white",
           "linecolor": "white",
           "ticks": "",
           "title": {
            "standoff": 15
           },
           "zerolinecolor": "white",
           "zerolinewidth": 2
          }
         }
        },
        "xaxis": {
         "anchor": "y",
         "domain": [
          0,
          1
         ],
         "title": {
          "text": "index"
         }
        },
        "yaxis": {
         "anchor": "x",
         "domain": [
          0,
          1
         ],
         "title": {
          "text": "Delta"
         }
        }
       }
      }
     },
     "metadata": {},
     "output_type": "display_data"
    }
   ],
   "source": [
    "px.line(greeks_df, y=\"Delta\")"
   ]
  },
  {
   "cell_type": "markdown",
   "metadata": {},
   "source": [
    "### Gamma"
   ]
  },
  {
   "cell_type": "code",
   "execution_count": null,
   "metadata": {},
   "outputs": [
    {
     "data": {
      "application/vnd.plotly.v1+json": {
       "config": {
        "plotlyServerURL": "https://plot.ly"
       },
       "data": [
        {
         "hovertemplate": "index=%{x}<br>Gamma=%{y}<extra></extra>",
         "legendgroup": "",
         "line": {
          "color": "#636efa",
          "dash": "solid"
         },
         "marker": {
          "symbol": "circle"
         },
         "mode": "lines",
         "name": "",
         "orientation": "v",
         "showlegend": false,
         "type": "scatter",
         "x": [
          0,
          1,
          2,
          3,
          4,
          5,
          6,
          7,
          8,
          9,
          10,
          11,
          12,
          13,
          14,
          15,
          16,
          17,
          18,
          19,
          20,
          21,
          22,
          23,
          24,
          25,
          26,
          27,
          28,
          29,
          30,
          31,
          32,
          33,
          34,
          35,
          36,
          37,
          38,
          39,
          40,
          41,
          42,
          43,
          44,
          45,
          46,
          47,
          48,
          49,
          50,
          51,
          52,
          53,
          54,
          55,
          56,
          57,
          58,
          59,
          60,
          61,
          62,
          63,
          64,
          65,
          66,
          67,
          68,
          69,
          70,
          71,
          72,
          73,
          74,
          75,
          76,
          77,
          78,
          79,
          80,
          81,
          82,
          83,
          84,
          85,
          86,
          87,
          88,
          89,
          90,
          91,
          92,
          93,
          94,
          95,
          96,
          97,
          98,
          99,
          100,
          101,
          102,
          103,
          104,
          105,
          106,
          107,
          108,
          109,
          110,
          111,
          112,
          113,
          114,
          115,
          116,
          117,
          118,
          119,
          120,
          121,
          122,
          123,
          124,
          125,
          126,
          127,
          128,
          129,
          130,
          131,
          132,
          133,
          134,
          135,
          136,
          137,
          138,
          139,
          140,
          141,
          142,
          143,
          144,
          145,
          146,
          147,
          148,
          149,
          150,
          151,
          152,
          153,
          154,
          155,
          156,
          157,
          158,
          159,
          160,
          161,
          162,
          163,
          164,
          165,
          166,
          167,
          168,
          169,
          170,
          171,
          172,
          173,
          174,
          175,
          176,
          177,
          178,
          179,
          180,
          181,
          182,
          183,
          184,
          185,
          186,
          187,
          188,
          189,
          190,
          191,
          192,
          193,
          194,
          195,
          196,
          197,
          198,
          199,
          200,
          201,
          202,
          203,
          204,
          205,
          206,
          207,
          208,
          209,
          210,
          211,
          212,
          213,
          214,
          215,
          216,
          217,
          218,
          219,
          220,
          221,
          222,
          223,
          224,
          225,
          226,
          227,
          228,
          229,
          230,
          231,
          232,
          233,
          234,
          235,
          236,
          237,
          238,
          239,
          240,
          241,
          242,
          243,
          244,
          245,
          246,
          247,
          248,
          249,
          250,
          251,
          252,
          253,
          254,
          255,
          256,
          257,
          258,
          259,
          260,
          261,
          262,
          263,
          264,
          265,
          266,
          267,
          268,
          269,
          270,
          271,
          272,
          273,
          274,
          275,
          276,
          277,
          278,
          279,
          280,
          281,
          282,
          283,
          284,
          285,
          286,
          287,
          288,
          289,
          290,
          291,
          292,
          293,
          294,
          295,
          296,
          297,
          298,
          299,
          300,
          301,
          302,
          303,
          304,
          305,
          306,
          307,
          308,
          309,
          310,
          311,
          312,
          313,
          314,
          315,
          316,
          317,
          318,
          319,
          320,
          321,
          322,
          323,
          324,
          325,
          326,
          327,
          328,
          329,
          330,
          331,
          332,
          333,
          334,
          335,
          336,
          337,
          338,
          339,
          340,
          341,
          342,
          343,
          344,
          345,
          346,
          347,
          348,
          349,
          350,
          351,
          352,
          353,
          354,
          355,
          356,
          357,
          358,
          359,
          360,
          361,
          362,
          363,
          364,
          365,
          366,
          367,
          368,
          369,
          370,
          371,
          372,
          373,
          374,
          375,
          376,
          377
         ],
         "xaxis": "x",
         "y": [
          -1.4210854715202004e-8,
          1.5631940186722204e-7,
          -2.7000623958883807e-7,
          1.4210854715202004e-7,
          -5.115907697472721e-7,
          1.1368683772161603e-7,
          -3.410605131648481e-7,
          -1.9895196601282805e-7,
          -2.5579538487363607e-7,
          1.7053025658242404e-7,
          -5.6843418860808015e-8,
          6.252776074688882e-7,
          3.979039320256561e-7,
          -5.968558980384842e-7,
          3.126388037344441e-7,
          4.831690603168681e-7,
          3.126388037344441e-7,
          2.842170943040401e-7,
          -8.526512829121202e-8,
          -4.831690603168681e-7,
          -8.526512829121202e-8,
          -5.400124791776761e-7,
          1.7053025658242404e-7,
          2.2737367544323206e-7,
          -1.1368683772161603e-7,
          1.9895196601282805e-7,
          -2.2737367544323206e-7,
          -8.242295734817162e-7,
          -1.9895196601282805e-7,
          -2.2737367544323206e-7,
          0,
          1.1368683772161603e-7,
          -1.9895196601282805e-7,
          1.9895196601282805e-7,
          -3.410605131648481e-7,
          3.979039320256561e-7,
          -1.9895196601282805e-7,
          3.126388037344441e-7,
          -1.9895196601282805e-7,
          1.7053025658242404e-7,
          5.400124791776761e-7,
          -5.6843418860808015e-8,
          5.684341886080801e-7,
          2.842170943040401e-7,
          1.7053025658242404e-7,
          4.263256414560601e-7,
          1.4210854715202004e-7,
          8.526512829121202e-8,
          1.4210854715202004e-7,
          1.7053025658242404e-7,
          1.1368683772161603e-7,
          -3.979039320256561e-7,
          -5.400124791776761e-7,
          1.7053025658242404e-7,
          5.6843418860808015e-8,
          6.252776074688882e-7,
          -5.6843418860808015e-8,
          -5.6843418860808015e-8,
          -3.979039320256561e-7,
          -5.400124791776761e-7,
          5.400124791776761e-7,
          3.694822225952521e-7,
          1.9895196601282805e-7,
          -2.8421709430404007e-8,
          -2.5579538487363607e-7,
          -1.4210854715202004e-7,
          -4.263256414560601e-7,
          3.694822225952521e-7,
          -1.9895196601282805e-7,
          2.5579538487363607e-7,
          5.684341886080801e-7,
          2.5579538487363607e-7,
          -1.1368683772161603e-7,
          6.252776074688882e-7,
          5.6843418860808015e-8,
          2.2737367544323206e-7,
          5.115907697472721e-7,
          2.8421709430404007e-8,
          -2.842170943040401e-7,
          -1.4210854715202004e-7,
          0,
          0,
          0,
          0,
          0,
          0,
          0,
          0,
          0,
          0,
          0,
          0,
          0,
          0,
          0,
          0,
          0,
          0,
          0,
          0,
          0,
          0,
          0,
          0,
          0,
          0,
          0,
          0,
          0,
          0,
          0,
          0,
          0,
          0,
          0,
          0,
          0,
          0,
          0,
          0,
          0,
          0,
          0,
          0,
          0,
          0,
          0,
          0,
          0,
          0,
          0,
          0,
          0,
          0,
          0,
          0,
          0,
          0,
          0,
          0,
          0,
          0,
          0,
          0,
          0,
          0,
          0,
          0,
          0,
          0,
          0,
          0,
          0,
          0,
          0,
          0,
          0,
          0,
          0,
          0,
          0,
          0,
          0,
          0,
          0,
          0,
          0,
          0,
          0,
          0,
          0,
          0,
          2.5579538487363607e-7,
          1.4210854715202004e-7,
          -3.694822225952521e-7,
          0,
          0,
          0,
          0,
          0,
          2.8421709430404007e-8,
          6.821210263296962e-7,
          64797543.18821964,
          0,
          0,
          2.842170943040401e-7,
          0,
          0,
          0,
          0,
          0,
          0,
          0,
          0,
          0,
          0,
          0,
          2.5579538487363607e-7,
          0,
          -8.526512829121202e-8,
          0,
          0,
          -4.263256414560601e-7,
          -1.7053025658242404e-7,
          1.7053025658242404e-7,
          0,
          0,
          0,
          0,
          0,
          0,
          0,
          -1.7053025658242404e-7,
          0,
          -3.126388037344441e-7,
          2.842170943040401e-7,
          0,
          0,
          3.410605131648481e-7,
          0,
          0,
          0,
          2.8421709430404007e-8,
          0,
          0,
          0,
          0,
          0,
          0,
          0,
          0,
          0,
          0,
          2.8421709430404007e-8,
          0,
          -1.9895196601282805e-7,
          0,
          0,
          0,
          0,
          0,
          0,
          -1.2789769243681803e-7,
          1.7053025658242404e-7,
          0,
          0,
          6.821210263296962e-7,
          0,
          0,
          0,
          0,
          0,
          0,
          0,
          0,
          0,
          0,
          0,
          0,
          0,
          0,
          -2.5579538487363607e-7,
          0,
          0,
          0,
          0,
          0,
          1.7053025658242404e-7,
          1.1368683772161603e-7,
          0,
          0,
          0,
          0,
          -3.410605131648481e-7,
          0,
          0,
          0,
          0,
          0,
          0,
          2.2737367544323206e-7,
          0,
          0,
          0,
          -8.526512829121202e-8,
          0,
          0,
          0,
          0,
          0,
          -4.831690603168681e-7,
          0,
          0,
          0,
          0,
          0,
          0,
          0,
          0,
          0,
          0,
          0,
          0,
          0,
          0,
          0,
          2.5579538487363607e-7,
          0,
          0,
          0,
          1.7053025658242404e-7,
          0,
          0,
          0,
          0,
          0,
          -4.547473508864641e-7,
          0,
          0,
          0,
          0,
          0,
          0,
          0,
          0,
          0,
          0,
          0,
          0,
          0,
          0,
          0,
          0,
          0,
          0,
          0,
          0,
          0,
          0,
          0,
          0,
          0,
          0,
          0,
          0,
          0,
          0,
          0,
          0,
          0,
          0,
          0,
          0,
          0,
          0,
          0,
          0,
          0,
          0,
          0,
          0,
          0,
          0,
          0,
          0,
          0,
          0,
          0,
          0,
          0,
          0,
          0,
          0,
          0,
          0,
          0,
          0,
          0,
          0,
          0,
          0,
          0,
          0,
          0,
          0,
          0,
          0,
          0,
          0,
          0,
          0,
          0,
          0,
          0,
          0,
          0,
          0,
          0,
          0,
          0,
          0,
          0,
          0,
          0,
          0,
          0,
          0,
          0,
          0,
          0,
          0,
          0,
          0,
          0,
          0,
          0,
          0,
          0,
          0,
          0,
          0,
          0,
          0,
          0,
          0,
          0,
          0,
          0,
          0,
          0,
          0,
          0,
          0,
          0,
          0,
          0,
          0,
          0,
          0,
          0,
          0,
          0,
          0,
          0,
          0,
          0,
          0,
          0,
          0,
          0,
          0,
          0,
          0,
          0,
          0,
          0,
          0,
          0,
          0,
          0,
          0,
          0,
          0,
          0,
          0,
          0,
          0,
          0,
          0,
          0,
          0,
          0,
          0,
          0,
          0,
          0,
          0,
          0,
          0,
          0,
          0,
          0,
          0,
          0,
          0,
          0,
          0,
          0,
          0,
          0,
          0,
          0,
          0,
          0,
          0,
          0,
          0,
          0,
          0,
          0,
          0,
          0,
          0,
          0,
          0,
          0,
          0,
          0,
          0,
          0,
          0,
          0,
          0,
          0,
          0,
          0,
          0,
          0,
          0,
          0,
          0,
          0,
          0,
          0,
          0,
          0,
          0,
          0,
          0,
          0,
          0,
          0,
          0,
          0,
          0,
          0,
          0,
          0,
          0,
          0,
          0,
          0,
          0,
          0
         ],
         "yaxis": "y"
        }
       ],
       "layout": {
        "legend": {
         "tracegroupgap": 0
        },
        "margin": {
         "t": 60
        },
        "template": {
         "data": {
          "bar": [
           {
            "error_x": {
             "color": "#2a3f5f"
            },
            "error_y": {
             "color": "#2a3f5f"
            },
            "marker": {
             "line": {
              "color": "#E5ECF6",
              "width": 0.5
             },
             "pattern": {
              "fillmode": "overlay",
              "size": 10,
              "solidity": 0.2
             }
            },
            "type": "bar"
           }
          ],
          "barpolar": [
           {
            "marker": {
             "line": {
              "color": "#E5ECF6",
              "width": 0.5
             },
             "pattern": {
              "fillmode": "overlay",
              "size": 10,
              "solidity": 0.2
             }
            },
            "type": "barpolar"
           }
          ],
          "carpet": [
           {
            "aaxis": {
             "endlinecolor": "#2a3f5f",
             "gridcolor": "white",
             "linecolor": "white",
             "minorgridcolor": "white",
             "startlinecolor": "#2a3f5f"
            },
            "baxis": {
             "endlinecolor": "#2a3f5f",
             "gridcolor": "white",
             "linecolor": "white",
             "minorgridcolor": "white",
             "startlinecolor": "#2a3f5f"
            },
            "type": "carpet"
           }
          ],
          "choropleth": [
           {
            "colorbar": {
             "outlinewidth": 0,
             "ticks": ""
            },
            "type": "choropleth"
           }
          ],
          "contour": [
           {
            "colorbar": {
             "outlinewidth": 0,
             "ticks": ""
            },
            "colorscale": [
             [
              0,
              "#0d0887"
             ],
             [
              0.1111111111111111,
              "#46039f"
             ],
             [
              0.2222222222222222,
              "#7201a8"
             ],
             [
              0.3333333333333333,
              "#9c179e"
             ],
             [
              0.4444444444444444,
              "#bd3786"
             ],
             [
              0.5555555555555556,
              "#d8576b"
             ],
             [
              0.6666666666666666,
              "#ed7953"
             ],
             [
              0.7777777777777778,
              "#fb9f3a"
             ],
             [
              0.8888888888888888,
              "#fdca26"
             ],
             [
              1,
              "#f0f921"
             ]
            ],
            "type": "contour"
           }
          ],
          "contourcarpet": [
           {
            "colorbar": {
             "outlinewidth": 0,
             "ticks": ""
            },
            "type": "contourcarpet"
           }
          ],
          "heatmap": [
           {
            "colorbar": {
             "outlinewidth": 0,
             "ticks": ""
            },
            "colorscale": [
             [
              0,
              "#0d0887"
             ],
             [
              0.1111111111111111,
              "#46039f"
             ],
             [
              0.2222222222222222,
              "#7201a8"
             ],
             [
              0.3333333333333333,
              "#9c179e"
             ],
             [
              0.4444444444444444,
              "#bd3786"
             ],
             [
              0.5555555555555556,
              "#d8576b"
             ],
             [
              0.6666666666666666,
              "#ed7953"
             ],
             [
              0.7777777777777778,
              "#fb9f3a"
             ],
             [
              0.8888888888888888,
              "#fdca26"
             ],
             [
              1,
              "#f0f921"
             ]
            ],
            "type": "heatmap"
           }
          ],
          "heatmapgl": [
           {
            "colorbar": {
             "outlinewidth": 0,
             "ticks": ""
            },
            "colorscale": [
             [
              0,
              "#0d0887"
             ],
             [
              0.1111111111111111,
              "#46039f"
             ],
             [
              0.2222222222222222,
              "#7201a8"
             ],
             [
              0.3333333333333333,
              "#9c179e"
             ],
             [
              0.4444444444444444,
              "#bd3786"
             ],
             [
              0.5555555555555556,
              "#d8576b"
             ],
             [
              0.6666666666666666,
              "#ed7953"
             ],
             [
              0.7777777777777778,
              "#fb9f3a"
             ],
             [
              0.8888888888888888,
              "#fdca26"
             ],
             [
              1,
              "#f0f921"
             ]
            ],
            "type": "heatmapgl"
           }
          ],
          "histogram": [
           {
            "marker": {
             "pattern": {
              "fillmode": "overlay",
              "size": 10,
              "solidity": 0.2
             }
            },
            "type": "histogram"
           }
          ],
          "histogram2d": [
           {
            "colorbar": {
             "outlinewidth": 0,
             "ticks": ""
            },
            "colorscale": [
             [
              0,
              "#0d0887"
             ],
             [
              0.1111111111111111,
              "#46039f"
             ],
             [
              0.2222222222222222,
              "#7201a8"
             ],
             [
              0.3333333333333333,
              "#9c179e"
             ],
             [
              0.4444444444444444,
              "#bd3786"
             ],
             [
              0.5555555555555556,
              "#d8576b"
             ],
             [
              0.6666666666666666,
              "#ed7953"
             ],
             [
              0.7777777777777778,
              "#fb9f3a"
             ],
             [
              0.8888888888888888,
              "#fdca26"
             ],
             [
              1,
              "#f0f921"
             ]
            ],
            "type": "histogram2d"
           }
          ],
          "histogram2dcontour": [
           {
            "colorbar": {
             "outlinewidth": 0,
             "ticks": ""
            },
            "colorscale": [
             [
              0,
              "#0d0887"
             ],
             [
              0.1111111111111111,
              "#46039f"
             ],
             [
              0.2222222222222222,
              "#7201a8"
             ],
             [
              0.3333333333333333,
              "#9c179e"
             ],
             [
              0.4444444444444444,
              "#bd3786"
             ],
             [
              0.5555555555555556,
              "#d8576b"
             ],
             [
              0.6666666666666666,
              "#ed7953"
             ],
             [
              0.7777777777777778,
              "#fb9f3a"
             ],
             [
              0.8888888888888888,
              "#fdca26"
             ],
             [
              1,
              "#f0f921"
             ]
            ],
            "type": "histogram2dcontour"
           }
          ],
          "mesh3d": [
           {
            "colorbar": {
             "outlinewidth": 0,
             "ticks": ""
            },
            "type": "mesh3d"
           }
          ],
          "parcoords": [
           {
            "line": {
             "colorbar": {
              "outlinewidth": 0,
              "ticks": ""
             }
            },
            "type": "parcoords"
           }
          ],
          "pie": [
           {
            "automargin": true,
            "type": "pie"
           }
          ],
          "scatter": [
           {
            "fillpattern": {
             "fillmode": "overlay",
             "size": 10,
             "solidity": 0.2
            },
            "type": "scatter"
           }
          ],
          "scatter3d": [
           {
            "line": {
             "colorbar": {
              "outlinewidth": 0,
              "ticks": ""
             }
            },
            "marker": {
             "colorbar": {
              "outlinewidth": 0,
              "ticks": ""
             }
            },
            "type": "scatter3d"
           }
          ],
          "scattercarpet": [
           {
            "marker": {
             "colorbar": {
              "outlinewidth": 0,
              "ticks": ""
             }
            },
            "type": "scattercarpet"
           }
          ],
          "scattergeo": [
           {
            "marker": {
             "colorbar": {
              "outlinewidth": 0,
              "ticks": ""
             }
            },
            "type": "scattergeo"
           }
          ],
          "scattergl": [
           {
            "marker": {
             "colorbar": {
              "outlinewidth": 0,
              "ticks": ""
             }
            },
            "type": "scattergl"
           }
          ],
          "scattermapbox": [
           {
            "marker": {
             "colorbar": {
              "outlinewidth": 0,
              "ticks": ""
             }
            },
            "type": "scattermapbox"
           }
          ],
          "scatterpolar": [
           {
            "marker": {
             "colorbar": {
              "outlinewidth": 0,
              "ticks": ""
             }
            },
            "type": "scatterpolar"
           }
          ],
          "scatterpolargl": [
           {
            "marker": {
             "colorbar": {
              "outlinewidth": 0,
              "ticks": ""
             }
            },
            "type": "scatterpolargl"
           }
          ],
          "scatterternary": [
           {
            "marker": {
             "colorbar": {
              "outlinewidth": 0,
              "ticks": ""
             }
            },
            "type": "scatterternary"
           }
          ],
          "surface": [
           {
            "colorbar": {
             "outlinewidth": 0,
             "ticks": ""
            },
            "colorscale": [
             [
              0,
              "#0d0887"
             ],
             [
              0.1111111111111111,
              "#46039f"
             ],
             [
              0.2222222222222222,
              "#7201a8"
             ],
             [
              0.3333333333333333,
              "#9c179e"
             ],
             [
              0.4444444444444444,
              "#bd3786"
             ],
             [
              0.5555555555555556,
              "#d8576b"
             ],
             [
              0.6666666666666666,
              "#ed7953"
             ],
             [
              0.7777777777777778,
              "#fb9f3a"
             ],
             [
              0.8888888888888888,
              "#fdca26"
             ],
             [
              1,
              "#f0f921"
             ]
            ],
            "type": "surface"
           }
          ],
          "table": [
           {
            "cells": {
             "fill": {
              "color": "#EBF0F8"
             },
             "line": {
              "color": "white"
             }
            },
            "header": {
             "fill": {
              "color": "#C8D4E3"
             },
             "line": {
              "color": "white"
             }
            },
            "type": "table"
           }
          ]
         },
         "layout": {
          "annotationdefaults": {
           "arrowcolor": "#2a3f5f",
           "arrowhead": 0,
           "arrowwidth": 1
          },
          "autotypenumbers": "strict",
          "coloraxis": {
           "colorbar": {
            "outlinewidth": 0,
            "ticks": ""
           }
          },
          "colorscale": {
           "diverging": [
            [
             0,
             "#8e0152"
            ],
            [
             0.1,
             "#c51b7d"
            ],
            [
             0.2,
             "#de77ae"
            ],
            [
             0.3,
             "#f1b6da"
            ],
            [
             0.4,
             "#fde0ef"
            ],
            [
             0.5,
             "#f7f7f7"
            ],
            [
             0.6,
             "#e6f5d0"
            ],
            [
             0.7,
             "#b8e186"
            ],
            [
             0.8,
             "#7fbc41"
            ],
            [
             0.9,
             "#4d9221"
            ],
            [
             1,
             "#276419"
            ]
           ],
           "sequential": [
            [
             0,
             "#0d0887"
            ],
            [
             0.1111111111111111,
             "#46039f"
            ],
            [
             0.2222222222222222,
             "#7201a8"
            ],
            [
             0.3333333333333333,
             "#9c179e"
            ],
            [
             0.4444444444444444,
             "#bd3786"
            ],
            [
             0.5555555555555556,
             "#d8576b"
            ],
            [
             0.6666666666666666,
             "#ed7953"
            ],
            [
             0.7777777777777778,
             "#fb9f3a"
            ],
            [
             0.8888888888888888,
             "#fdca26"
            ],
            [
             1,
             "#f0f921"
            ]
           ],
           "sequentialminus": [
            [
             0,
             "#0d0887"
            ],
            [
             0.1111111111111111,
             "#46039f"
            ],
            [
             0.2222222222222222,
             "#7201a8"
            ],
            [
             0.3333333333333333,
             "#9c179e"
            ],
            [
             0.4444444444444444,
             "#bd3786"
            ],
            [
             0.5555555555555556,
             "#d8576b"
            ],
            [
             0.6666666666666666,
             "#ed7953"
            ],
            [
             0.7777777777777778,
             "#fb9f3a"
            ],
            [
             0.8888888888888888,
             "#fdca26"
            ],
            [
             1,
             "#f0f921"
            ]
           ]
          },
          "colorway": [
           "#636efa",
           "#EF553B",
           "#00cc96",
           "#ab63fa",
           "#FFA15A",
           "#19d3f3",
           "#FF6692",
           "#B6E880",
           "#FF97FF",
           "#FECB52"
          ],
          "font": {
           "color": "#2a3f5f"
          },
          "geo": {
           "bgcolor": "white",
           "lakecolor": "white",
           "landcolor": "#E5ECF6",
           "showlakes": true,
           "showland": true,
           "subunitcolor": "white"
          },
          "hoverlabel": {
           "align": "left"
          },
          "hovermode": "closest",
          "mapbox": {
           "style": "light"
          },
          "paper_bgcolor": "white",
          "plot_bgcolor": "#E5ECF6",
          "polar": {
           "angularaxis": {
            "gridcolor": "white",
            "linecolor": "white",
            "ticks": ""
           },
           "bgcolor": "#E5ECF6",
           "radialaxis": {
            "gridcolor": "white",
            "linecolor": "white",
            "ticks": ""
           }
          },
          "scene": {
           "xaxis": {
            "backgroundcolor": "#E5ECF6",
            "gridcolor": "white",
            "gridwidth": 2,
            "linecolor": "white",
            "showbackground": true,
            "ticks": "",
            "zerolinecolor": "white"
           },
           "yaxis": {
            "backgroundcolor": "#E5ECF6",
            "gridcolor": "white",
            "gridwidth": 2,
            "linecolor": "white",
            "showbackground": true,
            "ticks": "",
            "zerolinecolor": "white"
           },
           "zaxis": {
            "backgroundcolor": "#E5ECF6",
            "gridcolor": "white",
            "gridwidth": 2,
            "linecolor": "white",
            "showbackground": true,
            "ticks": "",
            "zerolinecolor": "white"
           }
          },
          "shapedefaults": {
           "line": {
            "color": "#2a3f5f"
           }
          },
          "ternary": {
           "aaxis": {
            "gridcolor": "white",
            "linecolor": "white",
            "ticks": ""
           },
           "baxis": {
            "gridcolor": "white",
            "linecolor": "white",
            "ticks": ""
           },
           "bgcolor": "#E5ECF6",
           "caxis": {
            "gridcolor": "white",
            "linecolor": "white",
            "ticks": ""
           }
          },
          "title": {
           "x": 0.05
          },
          "xaxis": {
           "automargin": true,
           "gridcolor": "white",
           "linecolor": "white",
           "ticks": "",
           "title": {
            "standoff": 15
           },
           "zerolinecolor": "white",
           "zerolinewidth": 2
          },
          "yaxis": {
           "automargin": true,
           "gridcolor": "white",
           "linecolor": "white",
           "ticks": "",
           "title": {
            "standoff": 15
           },
           "zerolinecolor": "white",
           "zerolinewidth": 2
          }
         }
        },
        "xaxis": {
         "anchor": "y",
         "domain": [
          0,
          1
         ],
         "title": {
          "text": "index"
         }
        },
        "yaxis": {
         "anchor": "x",
         "domain": [
          0,
          1
         ],
         "title": {
          "text": "Gamma"
         }
        }
       }
      }
     },
     "metadata": {},
     "output_type": "display_data"
    }
   ],
   "source": [
    "px.line(greeks_df, y=\"Gamma\")"
   ]
  },
  {
   "cell_type": "markdown",
   "metadata": {},
   "source": [
    "### Vega"
   ]
  },
  {
   "cell_type": "code",
   "execution_count": null,
   "metadata": {},
   "outputs": [
    {
     "data": {
      "application/vnd.plotly.v1+json": {
       "config": {
        "plotlyServerURL": "https://plot.ly"
       },
       "data": [
        {
         "hovertemplate": "index=%{x}<br>Vega=%{y}<extra></extra>",
         "legendgroup": "",
         "line": {
          "color": "#636efa",
          "dash": "solid"
         },
         "marker": {
          "symbol": "circle"
         },
         "mode": "lines",
         "name": "",
         "orientation": "v",
         "showlegend": false,
         "type": "scatter",
         "x": [
          0,
          1,
          2,
          3,
          4,
          5,
          6,
          7,
          8,
          9,
          10,
          11,
          12,
          13,
          14,
          15,
          16,
          17,
          18,
          19,
          20,
          21,
          22,
          23,
          24,
          25,
          26,
          27,
          28,
          29,
          30,
          31,
          32,
          33,
          34,
          35,
          36,
          37,
          38,
          39,
          40,
          41,
          42,
          43,
          44,
          45,
          46,
          47,
          48,
          49,
          50,
          51,
          52,
          53,
          54,
          55,
          56,
          57,
          58,
          59,
          60,
          61,
          62,
          63,
          64,
          65,
          66,
          67,
          68,
          69,
          70,
          71,
          72,
          73,
          74,
          75,
          76,
          77,
          78,
          79,
          80,
          81,
          82,
          83,
          84,
          85,
          86,
          87,
          88,
          89,
          90,
          91,
          92,
          93,
          94,
          95,
          96,
          97,
          98,
          99,
          100,
          101,
          102,
          103,
          104,
          105,
          106,
          107,
          108,
          109,
          110,
          111,
          112,
          113,
          114,
          115,
          116,
          117,
          118,
          119,
          120,
          121,
          122,
          123,
          124,
          125,
          126,
          127,
          128,
          129,
          130,
          131,
          132,
          133,
          134,
          135,
          136,
          137,
          138,
          139,
          140,
          141,
          142,
          143,
          144,
          145,
          146,
          147,
          148,
          149,
          150,
          151,
          152,
          153,
          154,
          155,
          156,
          157,
          158,
          159,
          160,
          161,
          162,
          163,
          164,
          165,
          166,
          167,
          168,
          169,
          170,
          171,
          172,
          173,
          174,
          175,
          176,
          177,
          178,
          179,
          180,
          181,
          182,
          183,
          184,
          185,
          186,
          187,
          188,
          189,
          190,
          191,
          192,
          193,
          194,
          195,
          196,
          197,
          198,
          199,
          200,
          201,
          202,
          203,
          204,
          205,
          206,
          207,
          208,
          209,
          210,
          211,
          212,
          213,
          214,
          215,
          216,
          217,
          218,
          219,
          220,
          221,
          222,
          223,
          224,
          225,
          226,
          227,
          228,
          229,
          230,
          231,
          232,
          233,
          234,
          235,
          236,
          237,
          238,
          239,
          240,
          241,
          242,
          243,
          244,
          245,
          246,
          247,
          248,
          249,
          250,
          251,
          252,
          253,
          254,
          255,
          256,
          257,
          258,
          259,
          260,
          261,
          262,
          263,
          264,
          265,
          266,
          267,
          268,
          269,
          270,
          271,
          272,
          273,
          274,
          275,
          276,
          277,
          278,
          279,
          280,
          281,
          282,
          283,
          284,
          285,
          286,
          287,
          288,
          289,
          290,
          291,
          292,
          293,
          294,
          295,
          296,
          297,
          298,
          299,
          300,
          301,
          302,
          303,
          304,
          305,
          306,
          307,
          308,
          309,
          310,
          311,
          312,
          313,
          314,
          315,
          316,
          317,
          318,
          319,
          320,
          321,
          322,
          323,
          324,
          325,
          326,
          327,
          328,
          329,
          330,
          331,
          332,
          333,
          334,
          335,
          336,
          337,
          338,
          339,
          340,
          341,
          342,
          343,
          344,
          345,
          346,
          347,
          348,
          349,
          350,
          351,
          352,
          353,
          354,
          355,
          356,
          357,
          358,
          359,
          360,
          361,
          362,
          363,
          364,
          365,
          366,
          367,
          368,
          369,
          370,
          371,
          372,
          373,
          374,
          375,
          376,
          377
         ],
         "xaxis": "x",
         "y": [
          0,
          -173.19502198466807,
          0,
          0,
          0,
          -210.50168545906445,
          -135.81385087664444,
          -208.77845618515778,
          0,
          0,
          0,
          0,
          0,
          -201.56062370425332,
          -163.88787947400374,
          -150.1991096692734,
          0,
          0,
          -179.61002250126512,
          0,
          0,
          0,
          0,
          0,
          -173.7393720743512,
          0,
          0,
          0,
          0,
          0,
          0,
          -185.8624208946935,
          0,
          -197.96364827499247,
          0,
          0,
          -198.41195592168503,
          -193.05116262904676,
          -196.6033248625223,
          0,
          0,
          0,
          0,
          0,
          0,
          0,
          -160.005251317358,
          0,
          -183.87466658666085,
          -177.7160146814083,
          0,
          0,
          -185.60457048852186,
          0,
          0,
          0,
          -154.63823616985906,
          0,
          0,
          0,
          0,
          0,
          0,
          0,
          0,
          0,
          0,
          -143.06518983886463,
          0,
          -184.9840253568118,
          0,
          0,
          0,
          0,
          0,
          0,
          -189.93153638867,
          -166.0143785792627,
          0,
          0,
          -158.29496947355892,
          0,
          0,
          0,
          0,
          0,
          0,
          0,
          0,
          0,
          0,
          0,
          0,
          0,
          0,
          -118.10299319179762,
          0,
          0,
          0,
          0,
          0,
          -173.56360715294272,
          -195.95607296724893,
          0,
          0,
          0,
          0,
          -201.99924506869138,
          0,
          0,
          0,
          0,
          0,
          0,
          -212.77776688819472,
          0,
          0,
          0,
          -213.51807776355258,
          0,
          0,
          0,
          0,
          0,
          -199.95446720173504,
          0,
          0,
          0,
          0,
          0,
          0,
          0,
          0,
          0,
          0,
          0,
          0,
          0,
          0,
          0,
          -187.0718456681857,
          0,
          0,
          0,
          -188.29057097173063,
          0,
          0,
          0,
          0,
          0,
          -196.11373777138397,
          0,
          0,
          0,
          0,
          0,
          0,
          0,
          0,
          0,
          0,
          0,
          0,
          0,
          0,
          0,
          0,
          0,
          0,
          0,
          0,
          0,
          0,
          0,
          0,
          0,
          0,
          0,
          0,
          0,
          0,
          0,
          0,
          0,
          0,
          0,
          0,
          0,
          0,
          0,
          0,
          0,
          0,
          0,
          0,
          0,
          0,
          0,
          0,
          0,
          0,
          0,
          0,
          0,
          0,
          0,
          0,
          0,
          0,
          0,
          0,
          0,
          0,
          0,
          0,
          0,
          0,
          0,
          0,
          0,
          0,
          0,
          0,
          0,
          0,
          0,
          0,
          0,
          0,
          0,
          0,
          0,
          0,
          0,
          0,
          0,
          0,
          0,
          0,
          0,
          0,
          0,
          0,
          0,
          0,
          0,
          0,
          0,
          0,
          0,
          0,
          0,
          0,
          0,
          0,
          0,
          0,
          0,
          0,
          0,
          0,
          0,
          0,
          0,
          0,
          0,
          0,
          0,
          0,
          0,
          0,
          0,
          0,
          0,
          0,
          0,
          0,
          0,
          0,
          0,
          0,
          0,
          0,
          0,
          0,
          0,
          0,
          0,
          0,
          0,
          0,
          0,
          0,
          0,
          0,
          0,
          0,
          0,
          0,
          0,
          0,
          0,
          0,
          0,
          0,
          0,
          0,
          0,
          0,
          0,
          0,
          0,
          0,
          0,
          0,
          0,
          0,
          0,
          0,
          0,
          0,
          0,
          0,
          0,
          0,
          0,
          0,
          0,
          0,
          0,
          0,
          0,
          0,
          0,
          0,
          0,
          0,
          0,
          0,
          0,
          0,
          0,
          0,
          0,
          0,
          0,
          0,
          0,
          0,
          0,
          0,
          0,
          0,
          0,
          0,
          0,
          0,
          0,
          0,
          0,
          0,
          0,
          0,
          0,
          0,
          0,
          0,
          0,
          0,
          0,
          0,
          0,
          0,
          0,
          0,
          0,
          0,
          0
         ],
         "yaxis": "y"
        }
       ],
       "layout": {
        "legend": {
         "tracegroupgap": 0
        },
        "margin": {
         "t": 60
        },
        "template": {
         "data": {
          "bar": [
           {
            "error_x": {
             "color": "#2a3f5f"
            },
            "error_y": {
             "color": "#2a3f5f"
            },
            "marker": {
             "line": {
              "color": "#E5ECF6",
              "width": 0.5
             },
             "pattern": {
              "fillmode": "overlay",
              "size": 10,
              "solidity": 0.2
             }
            },
            "type": "bar"
           }
          ],
          "barpolar": [
           {
            "marker": {
             "line": {
              "color": "#E5ECF6",
              "width": 0.5
             },
             "pattern": {
              "fillmode": "overlay",
              "size": 10,
              "solidity": 0.2
             }
            },
            "type": "barpolar"
           }
          ],
          "carpet": [
           {
            "aaxis": {
             "endlinecolor": "#2a3f5f",
             "gridcolor": "white",
             "linecolor": "white",
             "minorgridcolor": "white",
             "startlinecolor": "#2a3f5f"
            },
            "baxis": {
             "endlinecolor": "#2a3f5f",
             "gridcolor": "white",
             "linecolor": "white",
             "minorgridcolor": "white",
             "startlinecolor": "#2a3f5f"
            },
            "type": "carpet"
           }
          ],
          "choropleth": [
           {
            "colorbar": {
             "outlinewidth": 0,
             "ticks": ""
            },
            "type": "choropleth"
           }
          ],
          "contour": [
           {
            "colorbar": {
             "outlinewidth": 0,
             "ticks": ""
            },
            "colorscale": [
             [
              0,
              "#0d0887"
             ],
             [
              0.1111111111111111,
              "#46039f"
             ],
             [
              0.2222222222222222,
              "#7201a8"
             ],
             [
              0.3333333333333333,
              "#9c179e"
             ],
             [
              0.4444444444444444,
              "#bd3786"
             ],
             [
              0.5555555555555556,
              "#d8576b"
             ],
             [
              0.6666666666666666,
              "#ed7953"
             ],
             [
              0.7777777777777778,
              "#fb9f3a"
             ],
             [
              0.8888888888888888,
              "#fdca26"
             ],
             [
              1,
              "#f0f921"
             ]
            ],
            "type": "contour"
           }
          ],
          "contourcarpet": [
           {
            "colorbar": {
             "outlinewidth": 0,
             "ticks": ""
            },
            "type": "contourcarpet"
           }
          ],
          "heatmap": [
           {
            "colorbar": {
             "outlinewidth": 0,
             "ticks": ""
            },
            "colorscale": [
             [
              0,
              "#0d0887"
             ],
             [
              0.1111111111111111,
              "#46039f"
             ],
             [
              0.2222222222222222,
              "#7201a8"
             ],
             [
              0.3333333333333333,
              "#9c179e"
             ],
             [
              0.4444444444444444,
              "#bd3786"
             ],
             [
              0.5555555555555556,
              "#d8576b"
             ],
             [
              0.6666666666666666,
              "#ed7953"
             ],
             [
              0.7777777777777778,
              "#fb9f3a"
             ],
             [
              0.8888888888888888,
              "#fdca26"
             ],
             [
              1,
              "#f0f921"
             ]
            ],
            "type": "heatmap"
           }
          ],
          "heatmapgl": [
           {
            "colorbar": {
             "outlinewidth": 0,
             "ticks": ""
            },
            "colorscale": [
             [
              0,
              "#0d0887"
             ],
             [
              0.1111111111111111,
              "#46039f"
             ],
             [
              0.2222222222222222,
              "#7201a8"
             ],
             [
              0.3333333333333333,
              "#9c179e"
             ],
             [
              0.4444444444444444,
              "#bd3786"
             ],
             [
              0.5555555555555556,
              "#d8576b"
             ],
             [
              0.6666666666666666,
              "#ed7953"
             ],
             [
              0.7777777777777778,
              "#fb9f3a"
             ],
             [
              0.8888888888888888,
              "#fdca26"
             ],
             [
              1,
              "#f0f921"
             ]
            ],
            "type": "heatmapgl"
           }
          ],
          "histogram": [
           {
            "marker": {
             "pattern": {
              "fillmode": "overlay",
              "size": 10,
              "solidity": 0.2
             }
            },
            "type": "histogram"
           }
          ],
          "histogram2d": [
           {
            "colorbar": {
             "outlinewidth": 0,
             "ticks": ""
            },
            "colorscale": [
             [
              0,
              "#0d0887"
             ],
             [
              0.1111111111111111,
              "#46039f"
             ],
             [
              0.2222222222222222,
              "#7201a8"
             ],
             [
              0.3333333333333333,
              "#9c179e"
             ],
             [
              0.4444444444444444,
              "#bd3786"
             ],
             [
              0.5555555555555556,
              "#d8576b"
             ],
             [
              0.6666666666666666,
              "#ed7953"
             ],
             [
              0.7777777777777778,
              "#fb9f3a"
             ],
             [
              0.8888888888888888,
              "#fdca26"
             ],
             [
              1,
              "#f0f921"
             ]
            ],
            "type": "histogram2d"
           }
          ],
          "histogram2dcontour": [
           {
            "colorbar": {
             "outlinewidth": 0,
             "ticks": ""
            },
            "colorscale": [
             [
              0,
              "#0d0887"
             ],
             [
              0.1111111111111111,
              "#46039f"
             ],
             [
              0.2222222222222222,
              "#7201a8"
             ],
             [
              0.3333333333333333,
              "#9c179e"
             ],
             [
              0.4444444444444444,
              "#bd3786"
             ],
             [
              0.5555555555555556,
              "#d8576b"
             ],
             [
              0.6666666666666666,
              "#ed7953"
             ],
             [
              0.7777777777777778,
              "#fb9f3a"
             ],
             [
              0.8888888888888888,
              "#fdca26"
             ],
             [
              1,
              "#f0f921"
             ]
            ],
            "type": "histogram2dcontour"
           }
          ],
          "mesh3d": [
           {
            "colorbar": {
             "outlinewidth": 0,
             "ticks": ""
            },
            "type": "mesh3d"
           }
          ],
          "parcoords": [
           {
            "line": {
             "colorbar": {
              "outlinewidth": 0,
              "ticks": ""
             }
            },
            "type": "parcoords"
           }
          ],
          "pie": [
           {
            "automargin": true,
            "type": "pie"
           }
          ],
          "scatter": [
           {
            "marker": {
             "colorbar": {
              "outlinewidth": 0,
              "ticks": ""
             }
            },
            "type": "scatter"
           }
          ],
          "scatter3d": [
           {
            "line": {
             "colorbar": {
              "outlinewidth": 0,
              "ticks": ""
             }
            },
            "marker": {
             "colorbar": {
              "outlinewidth": 0,
              "ticks": ""
             }
            },
            "type": "scatter3d"
           }
          ],
          "scattercarpet": [
           {
            "marker": {
             "colorbar": {
              "outlinewidth": 0,
              "ticks": ""
             }
            },
            "type": "scattercarpet"
           }
          ],
          "scattergeo": [
           {
            "marker": {
             "colorbar": {
              "outlinewidth": 0,
              "ticks": ""
             }
            },
            "type": "scattergeo"
           }
          ],
          "scattergl": [
           {
            "marker": {
             "colorbar": {
              "outlinewidth": 0,
              "ticks": ""
             }
            },
            "type": "scattergl"
           }
          ],
          "scattermapbox": [
           {
            "marker": {
             "colorbar": {
              "outlinewidth": 0,
              "ticks": ""
             }
            },
            "type": "scattermapbox"
           }
          ],
          "scatterpolar": [
           {
            "marker": {
             "colorbar": {
              "outlinewidth": 0,
              "ticks": ""
             }
            },
            "type": "scatterpolar"
           }
          ],
          "scatterpolargl": [
           {
            "marker": {
             "colorbar": {
              "outlinewidth": 0,
              "ticks": ""
             }
            },
            "type": "scatterpolargl"
           }
          ],
          "scatterternary": [
           {
            "marker": {
             "colorbar": {
              "outlinewidth": 0,
              "ticks": ""
             }
            },
            "type": "scatterternary"
           }
          ],
          "surface": [
           {
            "colorbar": {
             "outlinewidth": 0,
             "ticks": ""
            },
            "colorscale": [
             [
              0,
              "#0d0887"
             ],
             [
              0.1111111111111111,
              "#46039f"
             ],
             [
              0.2222222222222222,
              "#7201a8"
             ],
             [
              0.3333333333333333,
              "#9c179e"
             ],
             [
              0.4444444444444444,
              "#bd3786"
             ],
             [
              0.5555555555555556,
              "#d8576b"
             ],
             [
              0.6666666666666666,
              "#ed7953"
             ],
             [
              0.7777777777777778,
              "#fb9f3a"
             ],
             [
              0.8888888888888888,
              "#fdca26"
             ],
             [
              1,
              "#f0f921"
             ]
            ],
            "type": "surface"
           }
          ],
          "table": [
           {
            "cells": {
             "fill": {
              "color": "#EBF0F8"
             },
             "line": {
              "color": "white"
             }
            },
            "header": {
             "fill": {
              "color": "#C8D4E3"
             },
             "line": {
              "color": "white"
             }
            },
            "type": "table"
           }
          ]
         },
         "layout": {
          "annotationdefaults": {
           "arrowcolor": "#2a3f5f",
           "arrowhead": 0,
           "arrowwidth": 1
          },
          "autotypenumbers": "strict",
          "coloraxis": {
           "colorbar": {
            "outlinewidth": 0,
            "ticks": ""
           }
          },
          "colorscale": {
           "diverging": [
            [
             0,
             "#8e0152"
            ],
            [
             0.1,
             "#c51b7d"
            ],
            [
             0.2,
             "#de77ae"
            ],
            [
             0.3,
             "#f1b6da"
            ],
            [
             0.4,
             "#fde0ef"
            ],
            [
             0.5,
             "#f7f7f7"
            ],
            [
             0.6,
             "#e6f5d0"
            ],
            [
             0.7,
             "#b8e186"
            ],
            [
             0.8,
             "#7fbc41"
            ],
            [
             0.9,
             "#4d9221"
            ],
            [
             1,
             "#276419"
            ]
           ],
           "sequential": [
            [
             0,
             "#0d0887"
            ],
            [
             0.1111111111111111,
             "#46039f"
            ],
            [
             0.2222222222222222,
             "#7201a8"
            ],
            [
             0.3333333333333333,
             "#9c179e"
            ],
            [
             0.4444444444444444,
             "#bd3786"
            ],
            [
             0.5555555555555556,
             "#d8576b"
            ],
            [
             0.6666666666666666,
             "#ed7953"
            ],
            [
             0.7777777777777778,
             "#fb9f3a"
            ],
            [
             0.8888888888888888,
             "#fdca26"
            ],
            [
             1,
             "#f0f921"
            ]
           ],
           "sequentialminus": [
            [
             0,
             "#0d0887"
            ],
            [
             0.1111111111111111,
             "#46039f"
            ],
            [
             0.2222222222222222,
             "#7201a8"
            ],
            [
             0.3333333333333333,
             "#9c179e"
            ],
            [
             0.4444444444444444,
             "#bd3786"
            ],
            [
             0.5555555555555556,
             "#d8576b"
            ],
            [
             0.6666666666666666,
             "#ed7953"
            ],
            [
             0.7777777777777778,
             "#fb9f3a"
            ],
            [
             0.8888888888888888,
             "#fdca26"
            ],
            [
             1,
             "#f0f921"
            ]
           ]
          },
          "colorway": [
           "#636efa",
           "#EF553B",
           "#00cc96",
           "#ab63fa",
           "#FFA15A",
           "#19d3f3",
           "#FF6692",
           "#B6E880",
           "#FF97FF",
           "#FECB52"
          ],
          "font": {
           "color": "#2a3f5f"
          },
          "geo": {
           "bgcolor": "white",
           "lakecolor": "white",
           "landcolor": "#E5ECF6",
           "showlakes": true,
           "showland": true,
           "subunitcolor": "white"
          },
          "hoverlabel": {
           "align": "left"
          },
          "hovermode": "closest",
          "mapbox": {
           "style": "light"
          },
          "paper_bgcolor": "white",
          "plot_bgcolor": "#E5ECF6",
          "polar": {
           "angularaxis": {
            "gridcolor": "white",
            "linecolor": "white",
            "ticks": ""
           },
           "bgcolor": "#E5ECF6",
           "radialaxis": {
            "gridcolor": "white",
            "linecolor": "white",
            "ticks": ""
           }
          },
          "scene": {
           "xaxis": {
            "backgroundcolor": "#E5ECF6",
            "gridcolor": "white",
            "gridwidth": 2,
            "linecolor": "white",
            "showbackground": true,
            "ticks": "",
            "zerolinecolor": "white"
           },
           "yaxis": {
            "backgroundcolor": "#E5ECF6",
            "gridcolor": "white",
            "gridwidth": 2,
            "linecolor": "white",
            "showbackground": true,
            "ticks": "",
            "zerolinecolor": "white"
           },
           "zaxis": {
            "backgroundcolor": "#E5ECF6",
            "gridcolor": "white",
            "gridwidth": 2,
            "linecolor": "white",
            "showbackground": true,
            "ticks": "",
            "zerolinecolor": "white"
           }
          },
          "shapedefaults": {
           "line": {
            "color": "#2a3f5f"
           }
          },
          "ternary": {
           "aaxis": {
            "gridcolor": "white",
            "linecolor": "white",
            "ticks": ""
           },
           "baxis": {
            "gridcolor": "white",
            "linecolor": "white",
            "ticks": ""
           },
           "bgcolor": "#E5ECF6",
           "caxis": {
            "gridcolor": "white",
            "linecolor": "white",
            "ticks": ""
           }
          },
          "title": {
           "x": 0.05
          },
          "xaxis": {
           "automargin": true,
           "gridcolor": "white",
           "linecolor": "white",
           "ticks": "",
           "title": {
            "standoff": 15
           },
           "zerolinecolor": "white",
           "zerolinewidth": 2
          },
          "yaxis": {
           "automargin": true,
           "gridcolor": "white",
           "linecolor": "white",
           "ticks": "",
           "title": {
            "standoff": 15
           },
           "zerolinecolor": "white",
           "zerolinewidth": 2
          }
         }
        },
        "xaxis": {
         "anchor": "y",
         "domain": [
          0,
          1
         ],
         "title": {
          "text": "index"
         }
        },
        "yaxis": {
         "anchor": "x",
         "domain": [
          0,
          1
         ],
         "title": {
          "text": "Vega"
         }
        }
       }
      }
     },
     "metadata": {},
     "output_type": "display_data"
    }
   ],
   "source": [
    "px.line(greeks_df, y=\"Vega\")"
   ]
  },
  {
   "cell_type": "markdown",
   "metadata": {},
   "source": [
    "### Theta"
   ]
  },
  {
   "cell_type": "code",
   "execution_count": null,
   "metadata": {},
   "outputs": [
    {
     "data": {
      "application/vnd.plotly.v1+json": {
       "config": {
        "plotlyServerURL": "https://plot.ly"
       },
       "data": [
        {
         "hovertemplate": "index=%{x}<br>Theta=%{y}<extra></extra>",
         "legendgroup": "",
         "line": {
          "color": "#636efa",
          "dash": "solid"
         },
         "marker": {
          "symbol": "circle"
         },
         "mode": "lines",
         "name": "",
         "orientation": "v",
         "showlegend": false,
         "type": "scatter",
         "x": [
          0,
          1,
          2,
          3,
          4,
          5,
          6,
          7,
          8,
          9,
          10,
          11,
          12,
          13,
          14,
          15,
          16,
          17,
          18,
          19,
          20,
          21,
          22,
          23,
          24,
          25,
          26,
          27,
          28,
          29,
          30,
          31,
          32,
          33,
          34,
          35,
          36,
          37,
          38,
          39,
          40,
          41,
          42,
          43,
          44,
          45,
          46,
          47,
          48,
          49,
          50,
          51,
          52,
          53,
          54,
          55,
          56,
          57,
          58,
          59,
          60,
          61,
          62,
          63,
          64,
          65,
          66,
          67,
          68,
          69,
          70,
          71,
          72,
          73,
          74,
          75,
          76,
          77,
          78,
          79,
          80,
          81,
          82,
          83,
          84,
          85,
          86,
          87,
          88,
          89,
          90,
          91,
          92,
          93,
          94,
          95,
          96,
          97,
          98,
          99,
          100,
          101,
          102,
          103,
          104,
          105,
          106,
          107,
          108,
          109,
          110,
          111,
          112,
          113,
          114,
          115,
          116,
          117,
          118,
          119,
          120,
          121,
          122,
          123,
          124,
          125,
          126,
          127,
          128,
          129,
          130,
          131,
          132,
          133,
          134,
          135,
          136,
          137,
          138,
          139,
          140,
          141,
          142,
          143,
          144,
          145,
          146,
          147,
          148,
          149,
          150,
          151,
          152,
          153,
          154,
          155,
          156,
          157,
          158,
          159,
          160,
          161,
          162,
          163,
          164,
          165,
          166,
          167,
          168,
          169,
          170,
          171,
          172,
          173,
          174,
          175,
          176,
          177,
          178,
          179,
          180,
          181,
          182,
          183,
          184,
          185,
          186,
          187,
          188,
          189,
          190,
          191,
          192,
          193,
          194,
          195,
          196,
          197,
          198,
          199,
          200,
          201,
          202,
          203,
          204,
          205,
          206,
          207,
          208,
          209,
          210,
          211,
          212,
          213,
          214,
          215,
          216,
          217,
          218,
          219,
          220,
          221,
          222,
          223,
          224,
          225,
          226,
          227,
          228,
          229,
          230,
          231,
          232,
          233,
          234,
          235,
          236,
          237,
          238,
          239,
          240,
          241,
          242,
          243,
          244,
          245,
          246,
          247,
          248,
          249,
          250,
          251,
          252,
          253,
          254,
          255,
          256,
          257,
          258,
          259,
          260,
          261,
          262,
          263,
          264,
          265,
          266,
          267,
          268,
          269,
          270,
          271,
          272,
          273,
          274,
          275,
          276,
          277,
          278,
          279,
          280,
          281,
          282,
          283,
          284,
          285,
          286,
          287,
          288,
          289,
          290,
          291,
          292,
          293,
          294,
          295,
          296,
          297,
          298,
          299,
          300,
          301,
          302,
          303,
          304,
          305,
          306,
          307,
          308,
          309,
          310,
          311,
          312,
          313,
          314,
          315,
          316,
          317,
          318,
          319,
          320,
          321,
          322,
          323,
          324,
          325,
          326,
          327,
          328,
          329,
          330,
          331,
          332,
          333,
          334,
          335,
          336,
          337,
          338,
          339,
          340,
          341,
          342,
          343,
          344,
          345,
          346,
          347,
          348,
          349,
          350,
          351,
          352,
          353,
          354,
          355,
          356,
          357,
          358,
          359,
          360,
          361,
          362,
          363,
          364,
          365,
          366,
          367,
          368,
          369,
          370,
          371,
          372,
          373,
          374,
          375,
          376,
          377
         ],
         "xaxis": "x",
         "y": [
          0,
          -173.1132377157678,
          0,
          0,
          0,
          -210.3544237808137,
          -135.6224605373484,
          -208.65723493209032,
          0,
          0,
          0,
          0,
          0,
          -201.20099035207772,
          -163.58570739842548,
          -149.6786934570764,
          0,
          0,
          -179.2852740830284,
          0,
          0,
          0,
          0,
          0,
          -173.2878755648528,
          0,
          0,
          0,
          0,
          0,
          0,
          -185.51092048500095,
          0,
          -197.70705754697815,
          0,
          0,
          -198.21752072634524,
          -192.72906426066072,
          -196.3249774981506,
          0,
          0,
          0,
          0,
          0,
          0,
          0,
          -159.57874257532012,
          0,
          -183.51447939718923,
          -177.3401783981967,
          0,
          0,
          -185.26668317912254,
          0,
          0,
          0,
          -154.27122315659858,
          0,
          0,
          0,
          0,
          0,
          0,
          0,
          0,
          0,
          0,
          -142.51417180528847,
          0,
          -184.68033585286037,
          0,
          0,
          0,
          0,
          0,
          0,
          -189.6774972977937,
          -165.64767839332717,
          0,
          0,
          -158.00225707917548,
          0,
          0,
          0,
          0,
          0,
          0,
          0,
          0,
          0,
          0,
          0,
          0,
          0,
          0,
          -117.40098593600123,
          0,
          0,
          0,
          0,
          0,
          -172.81582468694978,
          -195.49514287379566,
          0,
          0,
          0,
          0,
          -201.61577952799803,
          0,
          0,
          0,
          0,
          0,
          0,
          -212.4794165448236,
          0,
          0,
          0,
          -213.2877791892156,
          0,
          0,
          0,
          0,
          0,
          -199.71859758820187,
          0,
          0,
          0,
          0,
          0,
          0,
          0,
          0,
          0,
          0,
          0,
          0,
          0,
          0,
          0,
          -186.86287612678143,
          0,
          0,
          0,
          -188.09202862559005,
          0,
          0,
          0,
          0,
          0,
          -195.78809743356373,
          0,
          0,
          0,
          0,
          0,
          0,
          0,
          0,
          0,
          0,
          0,
          0,
          0,
          0,
          0,
          0,
          0,
          0,
          0,
          0,
          0,
          0,
          0,
          0,
          0,
          0,
          0,
          0,
          0,
          0,
          0,
          0,
          0,
          0,
          0,
          0,
          0,
          0,
          0,
          0,
          0,
          0,
          0,
          0,
          0,
          0,
          0,
          0,
          0,
          0,
          0,
          0,
          0,
          0,
          0,
          0,
          0,
          0,
          0,
          0,
          0,
          0,
          0,
          0,
          0,
          0,
          0,
          0,
          0,
          0,
          0,
          0,
          0,
          0,
          0,
          0,
          0,
          0,
          0,
          0,
          0,
          0,
          0,
          0,
          0,
          0,
          0,
          0,
          0,
          0,
          0,
          0,
          0,
          0,
          0,
          0,
          0,
          0,
          0,
          0,
          0,
          0,
          0,
          0,
          0,
          0,
          0,
          0,
          0,
          0,
          0,
          0,
          0,
          0,
          0,
          0,
          0,
          0,
          0,
          0,
          0,
          0,
          0,
          0,
          0,
          0,
          0,
          0,
          0,
          0,
          0,
          0,
          0,
          0,
          0,
          0,
          0,
          0,
          0,
          0,
          0,
          0,
          0,
          0,
          0,
          0,
          0,
          0,
          0,
          0,
          0,
          0,
          0,
          0,
          0,
          0,
          0,
          0,
          0,
          0,
          0,
          0,
          0,
          0,
          0,
          0,
          0,
          0,
          0,
          0,
          0,
          0,
          0,
          0,
          0,
          0,
          0,
          0,
          0,
          0,
          0,
          0,
          0,
          0,
          0,
          0,
          0,
          0,
          0,
          0,
          0,
          0,
          0,
          0,
          0,
          0,
          0,
          0,
          0,
          0,
          0,
          0,
          0,
          0,
          0,
          0,
          0,
          0,
          0,
          0,
          0,
          0,
          0,
          0,
          0,
          0,
          0,
          0,
          0,
          0,
          0,
          0,
          0,
          0,
          0,
          0,
          0
         ],
         "yaxis": "y"
        }
       ],
       "layout": {
        "legend": {
         "tracegroupgap": 0
        },
        "margin": {
         "t": 60
        },
        "template": {
         "data": {
          "bar": [
           {
            "error_x": {
             "color": "#2a3f5f"
            },
            "error_y": {
             "color": "#2a3f5f"
            },
            "marker": {
             "line": {
              "color": "#E5ECF6",
              "width": 0.5
             },
             "pattern": {
              "fillmode": "overlay",
              "size": 10,
              "solidity": 0.2
             }
            },
            "type": "bar"
           }
          ],
          "barpolar": [
           {
            "marker": {
             "line": {
              "color": "#E5ECF6",
              "width": 0.5
             },
             "pattern": {
              "fillmode": "overlay",
              "size": 10,
              "solidity": 0.2
             }
            },
            "type": "barpolar"
           }
          ],
          "carpet": [
           {
            "aaxis": {
             "endlinecolor": "#2a3f5f",
             "gridcolor": "white",
             "linecolor": "white",
             "minorgridcolor": "white",
             "startlinecolor": "#2a3f5f"
            },
            "baxis": {
             "endlinecolor": "#2a3f5f",
             "gridcolor": "white",
             "linecolor": "white",
             "minorgridcolor": "white",
             "startlinecolor": "#2a3f5f"
            },
            "type": "carpet"
           }
          ],
          "choropleth": [
           {
            "colorbar": {
             "outlinewidth": 0,
             "ticks": ""
            },
            "type": "choropleth"
           }
          ],
          "contour": [
           {
            "colorbar": {
             "outlinewidth": 0,
             "ticks": ""
            },
            "colorscale": [
             [
              0,
              "#0d0887"
             ],
             [
              0.1111111111111111,
              "#46039f"
             ],
             [
              0.2222222222222222,
              "#7201a8"
             ],
             [
              0.3333333333333333,
              "#9c179e"
             ],
             [
              0.4444444444444444,
              "#bd3786"
             ],
             [
              0.5555555555555556,
              "#d8576b"
             ],
             [
              0.6666666666666666,
              "#ed7953"
             ],
             [
              0.7777777777777778,
              "#fb9f3a"
             ],
             [
              0.8888888888888888,
              "#fdca26"
             ],
             [
              1,
              "#f0f921"
             ]
            ],
            "type": "contour"
           }
          ],
          "contourcarpet": [
           {
            "colorbar": {
             "outlinewidth": 0,
             "ticks": ""
            },
            "type": "contourcarpet"
           }
          ],
          "heatmap": [
           {
            "colorbar": {
             "outlinewidth": 0,
             "ticks": ""
            },
            "colorscale": [
             [
              0,
              "#0d0887"
             ],
             [
              0.1111111111111111,
              "#46039f"
             ],
             [
              0.2222222222222222,
              "#7201a8"
             ],
             [
              0.3333333333333333,
              "#9c179e"
             ],
             [
              0.4444444444444444,
              "#bd3786"
             ],
             [
              0.5555555555555556,
              "#d8576b"
             ],
             [
              0.6666666666666666,
              "#ed7953"
             ],
             [
              0.7777777777777778,
              "#fb9f3a"
             ],
             [
              0.8888888888888888,
              "#fdca26"
             ],
             [
              1,
              "#f0f921"
             ]
            ],
            "type": "heatmap"
           }
          ],
          "heatmapgl": [
           {
            "colorbar": {
             "outlinewidth": 0,
             "ticks": ""
            },
            "colorscale": [
             [
              0,
              "#0d0887"
             ],
             [
              0.1111111111111111,
              "#46039f"
             ],
             [
              0.2222222222222222,
              "#7201a8"
             ],
             [
              0.3333333333333333,
              "#9c179e"
             ],
             [
              0.4444444444444444,
              "#bd3786"
             ],
             [
              0.5555555555555556,
              "#d8576b"
             ],
             [
              0.6666666666666666,
              "#ed7953"
             ],
             [
              0.7777777777777778,
              "#fb9f3a"
             ],
             [
              0.8888888888888888,
              "#fdca26"
             ],
             [
              1,
              "#f0f921"
             ]
            ],
            "type": "heatmapgl"
           }
          ],
          "histogram": [
           {
            "marker": {
             "pattern": {
              "fillmode": "overlay",
              "size": 10,
              "solidity": 0.2
             }
            },
            "type": "histogram"
           }
          ],
          "histogram2d": [
           {
            "colorbar": {
             "outlinewidth": 0,
             "ticks": ""
            },
            "colorscale": [
             [
              0,
              "#0d0887"
             ],
             [
              0.1111111111111111,
              "#46039f"
             ],
             [
              0.2222222222222222,
              "#7201a8"
             ],
             [
              0.3333333333333333,
              "#9c179e"
             ],
             [
              0.4444444444444444,
              "#bd3786"
             ],
             [
              0.5555555555555556,
              "#d8576b"
             ],
             [
              0.6666666666666666,
              "#ed7953"
             ],
             [
              0.7777777777777778,
              "#fb9f3a"
             ],
             [
              0.8888888888888888,
              "#fdca26"
             ],
             [
              1,
              "#f0f921"
             ]
            ],
            "type": "histogram2d"
           }
          ],
          "histogram2dcontour": [
           {
            "colorbar": {
             "outlinewidth": 0,
             "ticks": ""
            },
            "colorscale": [
             [
              0,
              "#0d0887"
             ],
             [
              0.1111111111111111,
              "#46039f"
             ],
             [
              0.2222222222222222,
              "#7201a8"
             ],
             [
              0.3333333333333333,
              "#9c179e"
             ],
             [
              0.4444444444444444,
              "#bd3786"
             ],
             [
              0.5555555555555556,
              "#d8576b"
             ],
             [
              0.6666666666666666,
              "#ed7953"
             ],
             [
              0.7777777777777778,
              "#fb9f3a"
             ],
             [
              0.8888888888888888,
              "#fdca26"
             ],
             [
              1,
              "#f0f921"
             ]
            ],
            "type": "histogram2dcontour"
           }
          ],
          "mesh3d": [
           {
            "colorbar": {
             "outlinewidth": 0,
             "ticks": ""
            },
            "type": "mesh3d"
           }
          ],
          "parcoords": [
           {
            "line": {
             "colorbar": {
              "outlinewidth": 0,
              "ticks": ""
             }
            },
            "type": "parcoords"
           }
          ],
          "pie": [
           {
            "automargin": true,
            "type": "pie"
           }
          ],
          "scatter": [
           {
            "marker": {
             "colorbar": {
              "outlinewidth": 0,
              "ticks": ""
             }
            },
            "type": "scatter"
           }
          ],
          "scatter3d": [
           {
            "line": {
             "colorbar": {
              "outlinewidth": 0,
              "ticks": ""
             }
            },
            "marker": {
             "colorbar": {
              "outlinewidth": 0,
              "ticks": ""
             }
            },
            "type": "scatter3d"
           }
          ],
          "scattercarpet": [
           {
            "marker": {
             "colorbar": {
              "outlinewidth": 0,
              "ticks": ""
             }
            },
            "type": "scattercarpet"
           }
          ],
          "scattergeo": [
           {
            "marker": {
             "colorbar": {
              "outlinewidth": 0,
              "ticks": ""
             }
            },
            "type": "scattergeo"
           }
          ],
          "scattergl": [
           {
            "marker": {
             "colorbar": {
              "outlinewidth": 0,
              "ticks": ""
             }
            },
            "type": "scattergl"
           }
          ],
          "scattermapbox": [
           {
            "marker": {
             "colorbar": {
              "outlinewidth": 0,
              "ticks": ""
             }
            },
            "type": "scattermapbox"
           }
          ],
          "scatterpolar": [
           {
            "marker": {
             "colorbar": {
              "outlinewidth": 0,
              "ticks": ""
             }
            },
            "type": "scatterpolar"
           }
          ],
          "scatterpolargl": [
           {
            "marker": {
             "colorbar": {
              "outlinewidth": 0,
              "ticks": ""
             }
            },
            "type": "scatterpolargl"
           }
          ],
          "scatterternary": [
           {
            "marker": {
             "colorbar": {
              "outlinewidth": 0,
              "ticks": ""
             }
            },
            "type": "scatterternary"
           }
          ],
          "surface": [
           {
            "colorbar": {
             "outlinewidth": 0,
             "ticks": ""
            },
            "colorscale": [
             [
              0,
              "#0d0887"
             ],
             [
              0.1111111111111111,
              "#46039f"
             ],
             [
              0.2222222222222222,
              "#7201a8"
             ],
             [
              0.3333333333333333,
              "#9c179e"
             ],
             [
              0.4444444444444444,
              "#bd3786"
             ],
             [
              0.5555555555555556,
              "#d8576b"
             ],
             [
              0.6666666666666666,
              "#ed7953"
             ],
             [
              0.7777777777777778,
              "#fb9f3a"
             ],
             [
              0.8888888888888888,
              "#fdca26"
             ],
             [
              1,
              "#f0f921"
             ]
            ],
            "type": "surface"
           }
          ],
          "table": [
           {
            "cells": {
             "fill": {
              "color": "#EBF0F8"
             },
             "line": {
              "color": "white"
             }
            },
            "header": {
             "fill": {
              "color": "#C8D4E3"
             },
             "line": {
              "color": "white"
             }
            },
            "type": "table"
           }
          ]
         },
         "layout": {
          "annotationdefaults": {
           "arrowcolor": "#2a3f5f",
           "arrowhead": 0,
           "arrowwidth": 1
          },
          "autotypenumbers": "strict",
          "coloraxis": {
           "colorbar": {
            "outlinewidth": 0,
            "ticks": ""
           }
          },
          "colorscale": {
           "diverging": [
            [
             0,
             "#8e0152"
            ],
            [
             0.1,
             "#c51b7d"
            ],
            [
             0.2,
             "#de77ae"
            ],
            [
             0.3,
             "#f1b6da"
            ],
            [
             0.4,
             "#fde0ef"
            ],
            [
             0.5,
             "#f7f7f7"
            ],
            [
             0.6,
             "#e6f5d0"
            ],
            [
             0.7,
             "#b8e186"
            ],
            [
             0.8,
             "#7fbc41"
            ],
            [
             0.9,
             "#4d9221"
            ],
            [
             1,
             "#276419"
            ]
           ],
           "sequential": [
            [
             0,
             "#0d0887"
            ],
            [
             0.1111111111111111,
             "#46039f"
            ],
            [
             0.2222222222222222,
             "#7201a8"
            ],
            [
             0.3333333333333333,
             "#9c179e"
            ],
            [
             0.4444444444444444,
             "#bd3786"
            ],
            [
             0.5555555555555556,
             "#d8576b"
            ],
            [
             0.6666666666666666,
             "#ed7953"
            ],
            [
             0.7777777777777778,
             "#fb9f3a"
            ],
            [
             0.8888888888888888,
             "#fdca26"
            ],
            [
             1,
             "#f0f921"
            ]
           ],
           "sequentialminus": [
            [
             0,
             "#0d0887"
            ],
            [
             0.1111111111111111,
             "#46039f"
            ],
            [
             0.2222222222222222,
             "#7201a8"
            ],
            [
             0.3333333333333333,
             "#9c179e"
            ],
            [
             0.4444444444444444,
             "#bd3786"
            ],
            [
             0.5555555555555556,
             "#d8576b"
            ],
            [
             0.6666666666666666,
             "#ed7953"
            ],
            [
             0.7777777777777778,
             "#fb9f3a"
            ],
            [
             0.8888888888888888,
             "#fdca26"
            ],
            [
             1,
             "#f0f921"
            ]
           ]
          },
          "colorway": [
           "#636efa",
           "#EF553B",
           "#00cc96",
           "#ab63fa",
           "#FFA15A",
           "#19d3f3",
           "#FF6692",
           "#B6E880",
           "#FF97FF",
           "#FECB52"
          ],
          "font": {
           "color": "#2a3f5f"
          },
          "geo": {
           "bgcolor": "white",
           "lakecolor": "white",
           "landcolor": "#E5ECF6",
           "showlakes": true,
           "showland": true,
           "subunitcolor": "white"
          },
          "hoverlabel": {
           "align": "left"
          },
          "hovermode": "closest",
          "mapbox": {
           "style": "light"
          },
          "paper_bgcolor": "white",
          "plot_bgcolor": "#E5ECF6",
          "polar": {
           "angularaxis": {
            "gridcolor": "white",
            "linecolor": "white",
            "ticks": ""
           },
           "bgcolor": "#E5ECF6",
           "radialaxis": {
            "gridcolor": "white",
            "linecolor": "white",
            "ticks": ""
           }
          },
          "scene": {
           "xaxis": {
            "backgroundcolor": "#E5ECF6",
            "gridcolor": "white",
            "gridwidth": 2,
            "linecolor": "white",
            "showbackground": true,
            "ticks": "",
            "zerolinecolor": "white"
           },
           "yaxis": {
            "backgroundcolor": "#E5ECF6",
            "gridcolor": "white",
            "gridwidth": 2,
            "linecolor": "white",
            "showbackground": true,
            "ticks": "",
            "zerolinecolor": "white"
           },
           "zaxis": {
            "backgroundcolor": "#E5ECF6",
            "gridcolor": "white",
            "gridwidth": 2,
            "linecolor": "white",
            "showbackground": true,
            "ticks": "",
            "zerolinecolor": "white"
           }
          },
          "shapedefaults": {
           "line": {
            "color": "#2a3f5f"
           }
          },
          "ternary": {
           "aaxis": {
            "gridcolor": "white",
            "linecolor": "white",
            "ticks": ""
           },
           "baxis": {
            "gridcolor": "white",
            "linecolor": "white",
            "ticks": ""
           },
           "bgcolor": "#E5ECF6",
           "caxis": {
            "gridcolor": "white",
            "linecolor": "white",
            "ticks": ""
           }
          },
          "title": {
           "x": 0.05
          },
          "xaxis": {
           "automargin": true,
           "gridcolor": "white",
           "linecolor": "white",
           "ticks": "",
           "title": {
            "standoff": 15
           },
           "zerolinecolor": "white",
           "zerolinewidth": 2
          },
          "yaxis": {
           "automargin": true,
           "gridcolor": "white",
           "linecolor": "white",
           "ticks": "",
           "title": {
            "standoff": 15
           },
           "zerolinecolor": "white",
           "zerolinewidth": 2
          }
         }
        },
        "xaxis": {
         "anchor": "y",
         "domain": [
          0,
          1
         ],
         "title": {
          "text": "index"
         }
        },
        "yaxis": {
         "anchor": "x",
         "domain": [
          0,
          1
         ],
         "title": {
          "text": "Theta"
         }
        }
       }
      }
     },
     "metadata": {},
     "output_type": "display_data"
    }
   ],
   "source": [
    "px.line(greeks_df, y=\"Theta\")"
   ]
  },
  {
   "cell_type": "markdown",
   "metadata": {},
   "source": [
    "### Rho"
   ]
  },
  {
   "cell_type": "code",
   "execution_count": null,
   "metadata": {},
   "outputs": [
    {
     "data": {
      "application/vnd.plotly.v1+json": {
       "config": {
        "plotlyServerURL": "https://plot.ly"
       },
       "data": [
        {
         "hovertemplate": "index=%{x}<br>Rho=%{y}<extra></extra>",
         "legendgroup": "",
         "line": {
          "color": "#636efa",
          "dash": "solid"
         },
         "marker": {
          "symbol": "circle"
         },
         "mode": "lines",
         "name": "",
         "orientation": "v",
         "showlegend": false,
         "type": "scatter",
         "x": [
          0,
          1,
          2,
          3,
          4,
          5,
          6,
          7,
          8,
          9,
          10,
          11,
          12,
          13,
          14,
          15,
          16,
          17,
          18,
          19,
          20,
          21,
          22,
          23,
          24,
          25,
          26,
          27,
          28,
          29,
          30,
          31,
          32,
          33,
          34,
          35,
          36,
          37,
          38,
          39,
          40,
          41,
          42,
          43,
          44,
          45,
          46,
          47,
          48,
          49,
          50,
          51,
          52,
          53,
          54,
          55,
          56,
          57,
          58,
          59,
          60,
          61,
          62,
          63,
          64,
          65,
          66,
          67,
          68,
          69,
          70,
          71,
          72,
          73,
          74,
          75,
          76,
          77,
          78,
          79,
          80,
          81,
          82,
          83,
          84,
          85,
          86,
          87,
          88,
          89,
          90,
          91,
          92,
          93,
          94,
          95,
          96,
          97,
          98,
          99,
          100,
          101,
          102,
          103,
          104,
          105,
          106,
          107,
          108,
          109,
          110,
          111,
          112,
          113,
          114,
          115,
          116,
          117,
          118,
          119,
          120,
          121,
          122,
          123,
          124,
          125,
          126,
          127,
          128,
          129,
          130,
          131,
          132,
          133,
          134,
          135,
          136,
          137,
          138,
          139,
          140,
          141,
          142,
          143,
          144,
          145,
          146,
          147,
          148,
          149,
          150,
          151,
          152,
          153,
          154,
          155,
          156,
          157,
          158,
          159,
          160,
          161,
          162,
          163,
          164,
          165,
          166,
          167,
          168,
          169,
          170,
          171,
          172,
          173,
          174,
          175,
          176,
          177,
          178,
          179,
          180,
          181,
          182,
          183,
          184,
          185,
          186,
          187,
          188,
          189,
          190,
          191,
          192,
          193,
          194,
          195,
          196,
          197,
          198,
          199,
          200,
          201,
          202,
          203,
          204,
          205,
          206,
          207,
          208,
          209,
          210,
          211,
          212,
          213,
          214,
          215,
          216,
          217,
          218,
          219,
          220,
          221,
          222,
          223,
          224,
          225,
          226,
          227,
          228,
          229,
          230,
          231,
          232,
          233,
          234,
          235,
          236,
          237,
          238,
          239,
          240,
          241,
          242,
          243,
          244,
          245,
          246,
          247,
          248,
          249,
          250,
          251,
          252,
          253,
          254,
          255,
          256,
          257,
          258,
          259,
          260,
          261,
          262,
          263,
          264,
          265,
          266,
          267,
          268,
          269,
          270,
          271,
          272,
          273,
          274,
          275,
          276,
          277,
          278,
          279,
          280,
          281,
          282,
          283,
          284,
          285,
          286,
          287,
          288,
          289,
          290,
          291,
          292,
          293,
          294,
          295,
          296,
          297,
          298,
          299,
          300,
          301,
          302,
          303,
          304,
          305,
          306,
          307,
          308,
          309,
          310,
          311,
          312,
          313,
          314,
          315,
          316,
          317,
          318,
          319,
          320,
          321,
          322,
          323,
          324,
          325,
          326,
          327,
          328,
          329,
          330,
          331,
          332,
          333,
          334,
          335,
          336,
          337,
          338,
          339,
          340,
          341,
          342,
          343,
          344,
          345,
          346,
          347,
          348,
          349,
          350,
          351,
          352,
          353,
          354,
          355,
          356,
          357,
          358,
          359,
          360,
          361,
          362,
          363,
          364,
          365,
          366,
          367,
          368,
          369,
          370,
          371,
          372,
          373,
          374,
          375,
          376,
          377
         ],
         "xaxis": "x",
         "y": [
          0,
          0.08178423078675223,
          0,
          0,
          0,
          0.14726158804023726,
          0.19139029538450814,
          0.12122114823398533,
          0,
          0,
          0,
          0,
          0,
          0.3596331188049362,
          0.30217193403814235,
          0.5204161069514157,
          0,
          0,
          0.32474820170591556,
          0,
          0,
          0,
          0,
          0,
          0.4514963578685638,
          0,
          0,
          0,
          0,
          0,
          0,
          0.3515002157428171,
          0,
          0.2565904745779335,
          0,
          0,
          0.19443498671023463,
          0.32209816140493785,
          0.27834713159791136,
          0,
          0,
          0,
          0,
          0,
          0,
          0,
          0.42650862158666314,
          0,
          0.3601870264162699,
          0.37583612797220667,
          0,
          0,
          0.3378871392953897,
          0,
          0,
          0,
          0.3670128899386782,
          0,
          0,
          0,
          0,
          0,
          0,
          0,
          0,
          0,
          0,
          0.5510179086911648,
          0,
          0.3036892769756605,
          0,
          0,
          0,
          0,
          0,
          0,
          0.25403882891339435,
          0.36670004070060713,
          0,
          0,
          0.2927123000517895,
          0,
          0,
          0,
          0,
          0,
          0,
          0,
          0,
          0,
          0,
          0,
          0,
          0,
          0,
          0.7020071654153526,
          0,
          0,
          0,
          0,
          0,
          0.747782242598305,
          0.4609298180469068,
          0,
          0,
          0,
          0,
          0.3834653523995257,
          0,
          0,
          0,
          0,
          0,
          0,
          0.2983501659059584,
          0,
          0,
          0,
          0.23029832806287232,
          0,
          0,
          0,
          0,
          0,
          0.23586947691001114,
          0,
          0,
          0,
          0,
          0,
          0,
          0,
          0,
          0,
          0,
          0,
          0,
          0,
          0,
          0,
          0.20896943584602923,
          0,
          0,
          0,
          0.1985422400423431,
          0,
          0,
          0,
          0,
          0,
          0.32564017621439234,
          0,
          0,
          0,
          0,
          0,
          0,
          0,
          0,
          0,
          0,
          0,
          0,
          0,
          0,
          0,
          0,
          0,
          0,
          0,
          0,
          0,
          0,
          0,
          0,
          0,
          0,
          0,
          0,
          0,
          0,
          0,
          0,
          0,
          0,
          0,
          0,
          0,
          0,
          0,
          0,
          0,
          0,
          0,
          0,
          0,
          0,
          0,
          0,
          0,
          0,
          0,
          0,
          0,
          0,
          0,
          0,
          0,
          0,
          0,
          0,
          0,
          0,
          0,
          0,
          0,
          0,
          0,
          0,
          0,
          0,
          0,
          0,
          0,
          0,
          0,
          0,
          0,
          0,
          0,
          0,
          0,
          0,
          0,
          0,
          0,
          0,
          0,
          0,
          0,
          0,
          0,
          0,
          0,
          0,
          0,
          0,
          0,
          0,
          0,
          0,
          0,
          0,
          0,
          0,
          0,
          0,
          0,
          0,
          0,
          0,
          0,
          0,
          0,
          0,
          0,
          0,
          0,
          0,
          0,
          0,
          0,
          0,
          0,
          0,
          0,
          0,
          0,
          0,
          0,
          0,
          0,
          0,
          0,
          0,
          0,
          0,
          0,
          0,
          0,
          0,
          0,
          0,
          0,
          0,
          0,
          0,
          0,
          0,
          0,
          0,
          0,
          0,
          0,
          0,
          0,
          0,
          0,
          0,
          0,
          0,
          0,
          0,
          0,
          0,
          0,
          0,
          0,
          0,
          0,
          0,
          0,
          0,
          0,
          0,
          0,
          0,
          0,
          0,
          0,
          0,
          0,
          0,
          0,
          0,
          0,
          0,
          0,
          0,
          0,
          0,
          0,
          0,
          0,
          0,
          0,
          0,
          0,
          0,
          0,
          0,
          0,
          0,
          0,
          0,
          0,
          0,
          0,
          0,
          0,
          0,
          0,
          0,
          0,
          0,
          0,
          0,
          0,
          0,
          0,
          0,
          0,
          0,
          0,
          0,
          0,
          0,
          0
         ],
         "yaxis": "y"
        }
       ],
       "layout": {
        "legend": {
         "tracegroupgap": 0
        },
        "margin": {
         "t": 60
        },
        "template": {
         "data": {
          "bar": [
           {
            "error_x": {
             "color": "#2a3f5f"
            },
            "error_y": {
             "color": "#2a3f5f"
            },
            "marker": {
             "line": {
              "color": "#E5ECF6",
              "width": 0.5
             },
             "pattern": {
              "fillmode": "overlay",
              "size": 10,
              "solidity": 0.2
             }
            },
            "type": "bar"
           }
          ],
          "barpolar": [
           {
            "marker": {
             "line": {
              "color": "#E5ECF6",
              "width": 0.5
             },
             "pattern": {
              "fillmode": "overlay",
              "size": 10,
              "solidity": 0.2
             }
            },
            "type": "barpolar"
           }
          ],
          "carpet": [
           {
            "aaxis": {
             "endlinecolor": "#2a3f5f",
             "gridcolor": "white",
             "linecolor": "white",
             "minorgridcolor": "white",
             "startlinecolor": "#2a3f5f"
            },
            "baxis": {
             "endlinecolor": "#2a3f5f",
             "gridcolor": "white",
             "linecolor": "white",
             "minorgridcolor": "white",
             "startlinecolor": "#2a3f5f"
            },
            "type": "carpet"
           }
          ],
          "choropleth": [
           {
            "colorbar": {
             "outlinewidth": 0,
             "ticks": ""
            },
            "type": "choropleth"
           }
          ],
          "contour": [
           {
            "colorbar": {
             "outlinewidth": 0,
             "ticks": ""
            },
            "colorscale": [
             [
              0,
              "#0d0887"
             ],
             [
              0.1111111111111111,
              "#46039f"
             ],
             [
              0.2222222222222222,
              "#7201a8"
             ],
             [
              0.3333333333333333,
              "#9c179e"
             ],
             [
              0.4444444444444444,
              "#bd3786"
             ],
             [
              0.5555555555555556,
              "#d8576b"
             ],
             [
              0.6666666666666666,
              "#ed7953"
             ],
             [
              0.7777777777777778,
              "#fb9f3a"
             ],
             [
              0.8888888888888888,
              "#fdca26"
             ],
             [
              1,
              "#f0f921"
             ]
            ],
            "type": "contour"
           }
          ],
          "contourcarpet": [
           {
            "colorbar": {
             "outlinewidth": 0,
             "ticks": ""
            },
            "type": "contourcarpet"
           }
          ],
          "heatmap": [
           {
            "colorbar": {
             "outlinewidth": 0,
             "ticks": ""
            },
            "colorscale": [
             [
              0,
              "#0d0887"
             ],
             [
              0.1111111111111111,
              "#46039f"
             ],
             [
              0.2222222222222222,
              "#7201a8"
             ],
             [
              0.3333333333333333,
              "#9c179e"
             ],
             [
              0.4444444444444444,
              "#bd3786"
             ],
             [
              0.5555555555555556,
              "#d8576b"
             ],
             [
              0.6666666666666666,
              "#ed7953"
             ],
             [
              0.7777777777777778,
              "#fb9f3a"
             ],
             [
              0.8888888888888888,
              "#fdca26"
             ],
             [
              1,
              "#f0f921"
             ]
            ],
            "type": "heatmap"
           }
          ],
          "heatmapgl": [
           {
            "colorbar": {
             "outlinewidth": 0,
             "ticks": ""
            },
            "colorscale": [
             [
              0,
              "#0d0887"
             ],
             [
              0.1111111111111111,
              "#46039f"
             ],
             [
              0.2222222222222222,
              "#7201a8"
             ],
             [
              0.3333333333333333,
              "#9c179e"
             ],
             [
              0.4444444444444444,
              "#bd3786"
             ],
             [
              0.5555555555555556,
              "#d8576b"
             ],
             [
              0.6666666666666666,
              "#ed7953"
             ],
             [
              0.7777777777777778,
              "#fb9f3a"
             ],
             [
              0.8888888888888888,
              "#fdca26"
             ],
             [
              1,
              "#f0f921"
             ]
            ],
            "type": "heatmapgl"
           }
          ],
          "histogram": [
           {
            "marker": {
             "pattern": {
              "fillmode": "overlay",
              "size": 10,
              "solidity": 0.2
             }
            },
            "type": "histogram"
           }
          ],
          "histogram2d": [
           {
            "colorbar": {
             "outlinewidth": 0,
             "ticks": ""
            },
            "colorscale": [
             [
              0,
              "#0d0887"
             ],
             [
              0.1111111111111111,
              "#46039f"
             ],
             [
              0.2222222222222222,
              "#7201a8"
             ],
             [
              0.3333333333333333,
              "#9c179e"
             ],
             [
              0.4444444444444444,
              "#bd3786"
             ],
             [
              0.5555555555555556,
              "#d8576b"
             ],
             [
              0.6666666666666666,
              "#ed7953"
             ],
             [
              0.7777777777777778,
              "#fb9f3a"
             ],
             [
              0.8888888888888888,
              "#fdca26"
             ],
             [
              1,
              "#f0f921"
             ]
            ],
            "type": "histogram2d"
           }
          ],
          "histogram2dcontour": [
           {
            "colorbar": {
             "outlinewidth": 0,
             "ticks": ""
            },
            "colorscale": [
             [
              0,
              "#0d0887"
             ],
             [
              0.1111111111111111,
              "#46039f"
             ],
             [
              0.2222222222222222,
              "#7201a8"
             ],
             [
              0.3333333333333333,
              "#9c179e"
             ],
             [
              0.4444444444444444,
              "#bd3786"
             ],
             [
              0.5555555555555556,
              "#d8576b"
             ],
             [
              0.6666666666666666,
              "#ed7953"
             ],
             [
              0.7777777777777778,
              "#fb9f3a"
             ],
             [
              0.8888888888888888,
              "#fdca26"
             ],
             [
              1,
              "#f0f921"
             ]
            ],
            "type": "histogram2dcontour"
           }
          ],
          "mesh3d": [
           {
            "colorbar": {
             "outlinewidth": 0,
             "ticks": ""
            },
            "type": "mesh3d"
           }
          ],
          "parcoords": [
           {
            "line": {
             "colorbar": {
              "outlinewidth": 0,
              "ticks": ""
             }
            },
            "type": "parcoords"
           }
          ],
          "pie": [
           {
            "automargin": true,
            "type": "pie"
           }
          ],
          "scatter": [
           {
            "marker": {
             "colorbar": {
              "outlinewidth": 0,
              "ticks": ""
             }
            },
            "type": "scatter"
           }
          ],
          "scatter3d": [
           {
            "line": {
             "colorbar": {
              "outlinewidth": 0,
              "ticks": ""
             }
            },
            "marker": {
             "colorbar": {
              "outlinewidth": 0,
              "ticks": ""
             }
            },
            "type": "scatter3d"
           }
          ],
          "scattercarpet": [
           {
            "marker": {
             "colorbar": {
              "outlinewidth": 0,
              "ticks": ""
             }
            },
            "type": "scattercarpet"
           }
          ],
          "scattergeo": [
           {
            "marker": {
             "colorbar": {
              "outlinewidth": 0,
              "ticks": ""
             }
            },
            "type": "scattergeo"
           }
          ],
          "scattergl": [
           {
            "marker": {
             "colorbar": {
              "outlinewidth": 0,
              "ticks": ""
             }
            },
            "type": "scattergl"
           }
          ],
          "scattermapbox": [
           {
            "marker": {
             "colorbar": {
              "outlinewidth": 0,
              "ticks": ""
             }
            },
            "type": "scattermapbox"
           }
          ],
          "scatterpolar": [
           {
            "marker": {
             "colorbar": {
              "outlinewidth": 0,
              "ticks": ""
             }
            },
            "type": "scatterpolar"
           }
          ],
          "scatterpolargl": [
           {
            "marker": {
             "colorbar": {
              "outlinewidth": 0,
              "ticks": ""
             }
            },
            "type": "scatterpolargl"
           }
          ],
          "scatterternary": [
           {
            "marker": {
             "colorbar": {
              "outlinewidth": 0,
              "ticks": ""
             }
            },
            "type": "scatterternary"
           }
          ],
          "surface": [
           {
            "colorbar": {
             "outlinewidth": 0,
             "ticks": ""
            },
            "colorscale": [
             [
              0,
              "#0d0887"
             ],
             [
              0.1111111111111111,
              "#46039f"
             ],
             [
              0.2222222222222222,
              "#7201a8"
             ],
             [
              0.3333333333333333,
              "#9c179e"
             ],
             [
              0.4444444444444444,
              "#bd3786"
             ],
             [
              0.5555555555555556,
              "#d8576b"
             ],
             [
              0.6666666666666666,
              "#ed7953"
             ],
             [
              0.7777777777777778,
              "#fb9f3a"
             ],
             [
              0.8888888888888888,
              "#fdca26"
             ],
             [
              1,
              "#f0f921"
             ]
            ],
            "type": "surface"
           }
          ],
          "table": [
           {
            "cells": {
             "fill": {
              "color": "#EBF0F8"
             },
             "line": {
              "color": "white"
             }
            },
            "header": {
             "fill": {
              "color": "#C8D4E3"
             },
             "line": {
              "color": "white"
             }
            },
            "type": "table"
           }
          ]
         },
         "layout": {
          "annotationdefaults": {
           "arrowcolor": "#2a3f5f",
           "arrowhead": 0,
           "arrowwidth": 1
          },
          "autotypenumbers": "strict",
          "coloraxis": {
           "colorbar": {
            "outlinewidth": 0,
            "ticks": ""
           }
          },
          "colorscale": {
           "diverging": [
            [
             0,
             "#8e0152"
            ],
            [
             0.1,
             "#c51b7d"
            ],
            [
             0.2,
             "#de77ae"
            ],
            [
             0.3,
             "#f1b6da"
            ],
            [
             0.4,
             "#fde0ef"
            ],
            [
             0.5,
             "#f7f7f7"
            ],
            [
             0.6,
             "#e6f5d0"
            ],
            [
             0.7,
             "#b8e186"
            ],
            [
             0.8,
             "#7fbc41"
            ],
            [
             0.9,
             "#4d9221"
            ],
            [
             1,
             "#276419"
            ]
           ],
           "sequential": [
            [
             0,
             "#0d0887"
            ],
            [
             0.1111111111111111,
             "#46039f"
            ],
            [
             0.2222222222222222,
             "#7201a8"
            ],
            [
             0.3333333333333333,
             "#9c179e"
            ],
            [
             0.4444444444444444,
             "#bd3786"
            ],
            [
             0.5555555555555556,
             "#d8576b"
            ],
            [
             0.6666666666666666,
             "#ed7953"
            ],
            [
             0.7777777777777778,
             "#fb9f3a"
            ],
            [
             0.8888888888888888,
             "#fdca26"
            ],
            [
             1,
             "#f0f921"
            ]
           ],
           "sequentialminus": [
            [
             0,
             "#0d0887"
            ],
            [
             0.1111111111111111,
             "#46039f"
            ],
            [
             0.2222222222222222,
             "#7201a8"
            ],
            [
             0.3333333333333333,
             "#9c179e"
            ],
            [
             0.4444444444444444,
             "#bd3786"
            ],
            [
             0.5555555555555556,
             "#d8576b"
            ],
            [
             0.6666666666666666,
             "#ed7953"
            ],
            [
             0.7777777777777778,
             "#fb9f3a"
            ],
            [
             0.8888888888888888,
             "#fdca26"
            ],
            [
             1,
             "#f0f921"
            ]
           ]
          },
          "colorway": [
           "#636efa",
           "#EF553B",
           "#00cc96",
           "#ab63fa",
           "#FFA15A",
           "#19d3f3",
           "#FF6692",
           "#B6E880",
           "#FF97FF",
           "#FECB52"
          ],
          "font": {
           "color": "#2a3f5f"
          },
          "geo": {
           "bgcolor": "white",
           "lakecolor": "white",
           "landcolor": "#E5ECF6",
           "showlakes": true,
           "showland": true,
           "subunitcolor": "white"
          },
          "hoverlabel": {
           "align": "left"
          },
          "hovermode": "closest",
          "mapbox": {
           "style": "light"
          },
          "paper_bgcolor": "white",
          "plot_bgcolor": "#E5ECF6",
          "polar": {
           "angularaxis": {
            "gridcolor": "white",
            "linecolor": "white",
            "ticks": ""
           },
           "bgcolor": "#E5ECF6",
           "radialaxis": {
            "gridcolor": "white",
            "linecolor": "white",
            "ticks": ""
           }
          },
          "scene": {
           "xaxis": {
            "backgroundcolor": "#E5ECF6",
            "gridcolor": "white",
            "gridwidth": 2,
            "linecolor": "white",
            "showbackground": true,
            "ticks": "",
            "zerolinecolor": "white"
           },
           "yaxis": {
            "backgroundcolor": "#E5ECF6",
            "gridcolor": "white",
            "gridwidth": 2,
            "linecolor": "white",
            "showbackground": true,
            "ticks": "",
            "zerolinecolor": "white"
           },
           "zaxis": {
            "backgroundcolor": "#E5ECF6",
            "gridcolor": "white",
            "gridwidth": 2,
            "linecolor": "white",
            "showbackground": true,
            "ticks": "",
            "zerolinecolor": "white"
           }
          },
          "shapedefaults": {
           "line": {
            "color": "#2a3f5f"
           }
          },
          "ternary": {
           "aaxis": {
            "gridcolor": "white",
            "linecolor": "white",
            "ticks": ""
           },
           "baxis": {
            "gridcolor": "white",
            "linecolor": "white",
            "ticks": ""
           },
           "bgcolor": "#E5ECF6",
           "caxis": {
            "gridcolor": "white",
            "linecolor": "white",
            "ticks": ""
           }
          },
          "title": {
           "x": 0.05
          },
          "xaxis": {
           "automargin": true,
           "gridcolor": "white",
           "linecolor": "white",
           "ticks": "",
           "title": {
            "standoff": 15
           },
           "zerolinecolor": "white",
           "zerolinewidth": 2
          },
          "yaxis": {
           "automargin": true,
           "gridcolor": "white",
           "linecolor": "white",
           "ticks": "",
           "title": {
            "standoff": 15
           },
           "zerolinecolor": "white",
           "zerolinewidth": 2
          }
         }
        },
        "xaxis": {
         "anchor": "y",
         "domain": [
          0,
          1
         ],
         "title": {
          "text": "index"
         }
        },
        "yaxis": {
         "anchor": "x",
         "domain": [
          0,
          1
         ],
         "title": {
          "text": "Rho"
         }
        }
       }
      }
     },
     "metadata": {},
     "output_type": "display_data"
    }
   ],
   "source": [
    "px.line(greeks_df, y=\"Rho\")"
   ]
  },
  {
   "cell_type": "code",
   "execution_count": null,
   "metadata": {},
   "outputs": [
    {
     "data": {
      "application/vnd.plotly.v1+json": {
       "config": {
        "plotlyServerURL": "https://plot.ly"
       },
       "data": [
        {
         "hovertemplate": "variable=Delta<br>index=%{x}<br>value=%{y}<extra></extra>",
         "legendgroup": "Delta",
         "line": {
          "color": "#636efa",
          "dash": "solid"
         },
         "marker": {
          "symbol": "circle"
         },
         "mode": "lines",
         "name": "Delta",
         "showlegend": true,
         "type": "scattergl",
         "x": [
          0,
          1,
          2,
          3,
          4,
          5,
          6,
          7,
          8,
          9,
          10,
          11,
          12,
          13,
          14,
          15,
          16,
          17,
          18,
          19,
          20,
          21,
          22,
          23,
          24,
          25,
          26,
          27,
          28,
          29,
          30,
          31,
          32,
          33,
          34,
          35,
          36,
          37,
          38,
          39,
          40,
          41,
          42,
          43,
          44,
          45,
          46,
          47,
          48,
          49,
          50,
          51,
          52,
          53,
          54,
          55,
          56,
          57,
          58,
          59,
          60,
          61,
          62,
          63,
          64,
          65,
          66,
          67,
          68,
          69,
          70,
          71,
          72,
          73,
          74,
          75,
          76,
          77,
          78,
          79,
          80,
          81,
          82,
          83,
          84,
          85,
          86,
          87,
          88,
          89,
          90,
          91,
          92,
          93,
          94,
          95,
          96,
          97,
          98,
          99,
          100,
          101,
          102,
          103,
          104,
          105,
          106,
          107,
          108,
          109,
          110,
          111,
          112,
          113,
          114,
          115,
          116,
          117,
          118,
          119,
          120,
          121,
          122,
          123,
          124,
          125,
          126,
          127,
          128,
          129,
          130,
          131,
          132,
          133,
          134,
          135,
          136,
          137,
          138,
          139,
          140,
          141,
          142,
          143,
          144,
          145,
          146,
          147,
          148,
          149,
          150,
          151,
          152,
          153,
          154,
          155,
          156,
          157,
          158,
          159,
          160,
          161,
          162,
          163,
          164,
          165,
          166,
          167,
          168,
          169,
          170,
          171,
          172,
          173,
          174,
          175,
          176,
          177,
          178,
          179,
          180,
          181,
          182,
          183,
          184,
          185,
          186,
          187,
          188,
          189,
          190,
          191,
          192,
          193,
          194,
          195,
          196,
          197,
          198,
          199,
          200,
          201,
          202,
          203,
          204,
          205,
          206,
          207,
          208,
          209,
          210,
          211,
          212,
          213,
          214,
          215,
          216,
          217,
          218,
          219,
          220,
          221,
          222,
          223,
          224,
          225,
          226,
          227,
          228,
          229,
          230,
          231,
          232,
          233,
          234,
          235,
          236,
          237,
          238,
          239,
          240,
          241,
          242,
          243,
          244,
          245,
          246,
          247,
          248,
          249,
          250,
          251,
          252,
          253,
          254,
          255,
          256,
          257,
          258,
          259,
          260,
          261,
          262,
          263,
          264,
          265,
          266,
          267,
          268,
          269,
          270,
          271,
          272,
          273,
          274,
          275,
          276,
          277,
          278,
          279,
          280,
          281,
          282,
          283,
          284,
          285,
          286,
          287,
          288,
          289,
          290,
          291,
          292,
          293,
          294,
          295,
          296,
          297,
          298,
          299,
          300,
          301,
          302,
          303,
          304,
          305,
          306,
          307,
          308,
          309,
          310,
          311,
          312,
          313,
          314,
          315,
          316,
          317,
          318,
          319,
          320,
          321,
          322,
          323,
          324,
          325,
          326,
          327,
          328,
          329,
          330,
          331,
          332,
          333,
          334,
          335,
          336,
          337,
          338,
          339,
          340,
          341,
          342,
          343,
          344,
          345,
          346,
          347,
          348,
          349,
          350,
          351,
          352,
          353,
          354,
          355,
          356,
          357,
          358,
          359,
          360,
          361,
          362,
          363,
          364,
          365,
          366,
          367,
          368,
          369,
          370,
          371,
          372,
          373,
          374,
          375,
          376,
          377
         ],
         "xaxis": "x",
         "y": [
          0,
          548.12835524055,
          0,
          0,
          0,
          523.7287124834609,
          682.5050144146587,
          433.44751217583166,
          0,
          0,
          0,
          0,
          0,
          497.9535489862599,
          524.4306293079717,
          65536.16949310932,
          0,
          0,
          455.9139104863448,
          0,
          0,
          0,
          0,
          0,
          644.6293608491374,
          0,
          0,
          0,
          0,
          0,
          0,
          512.0118748819493,
          0,
          375.93488083055604,
          0,
          0,
          359.22006347519186,
          477.4631575035073,
          413.82582399506873,
          0,
          0,
          0,
          0,
          0,
          0,
          0,
          649.4270245395342,
          0,
          562.4899647972654,
          577.5042944082998,
          0,
          0,
          534.1594441970301,
          0,
          0,
          0,
          587.4337521706536,
          0,
          0,
          0,
          0,
          0,
          0,
          0,
          0,
          0,
          0,
          667.1212017631944,
          0,
          420.8011245600005,
          0,
          0,
          0,
          0,
          0,
          0,
          354.47278432557994,
          604.5410014209551,
          0,
          0,
          606.4652309234475,
          0,
          0,
          0,
          0,
          0,
          0,
          0,
          0,
          0,
          0,
          0,
          0,
          0,
          0,
          823.3647865588694,
          0,
          0,
          0,
          0,
          0,
          702.8388081101866,
          540.8515738162691,
          0,
          0,
          0,
          0,
          606.1226540621192,
          0,
          0,
          0,
          0,
          0,
          0,
          571.743284330239,
          0,
          0,
          0,
          395.4247916238387,
          0,
          0,
          0,
          0,
          0,
          548.1867675203205,
          0,
          0,
          0,
          0,
          0,
          0,
          0,
          0,
          0,
          0,
          0,
          0,
          0,
          0,
          0,
          569.0368708769995,
          0,
          0,
          0,
          549.9243864437062,
          0,
          0,
          0,
          0,
          0,
          612.2238919245433,
          0,
          0,
          0,
          0,
          0,
          0,
          0,
          0,
          0,
          0,
          0,
          0,
          0,
          0,
          0,
          0,
          0,
          0,
          0,
          0,
          0,
          0,
          0,
          0,
          0,
          0,
          0,
          0,
          0,
          0,
          0,
          0,
          0,
          0,
          0,
          0,
          0,
          0,
          0,
          0,
          0,
          0,
          0,
          0,
          0,
          0,
          0,
          0,
          0,
          0,
          0,
          0,
          0,
          0,
          0,
          0,
          0,
          0,
          0,
          0,
          0,
          0,
          0,
          0,
          0,
          0,
          0,
          0,
          0,
          0,
          0,
          0,
          0,
          0,
          0,
          0,
          0,
          0,
          0,
          0,
          0,
          0,
          0,
          0,
          0,
          0,
          0,
          0,
          0,
          0,
          0,
          0,
          0,
          0,
          0,
          0,
          0,
          0,
          0,
          0,
          0,
          0,
          0,
          0,
          0,
          0,
          0,
          0,
          0,
          0,
          0,
          0,
          0,
          0,
          0,
          0,
          0,
          0,
          0,
          0,
          0,
          0,
          0,
          0,
          0,
          0,
          0,
          0,
          0,
          0,
          0,
          0,
          0,
          0,
          0,
          0,
          0,
          0,
          0,
          0,
          0,
          0,
          0,
          0,
          0,
          0,
          0,
          0,
          0,
          0,
          0,
          0,
          0,
          0,
          0,
          0,
          0,
          0,
          0,
          0,
          0,
          0,
          0,
          0,
          0,
          0,
          0,
          0,
          0,
          0,
          0,
          0,
          0,
          0,
          0,
          0,
          0,
          0,
          0,
          0,
          0,
          0,
          0,
          0,
          0,
          0,
          0,
          0,
          0,
          0,
          0,
          0,
          0,
          0,
          0,
          0,
          0,
          0,
          0,
          0,
          0,
          0,
          0,
          0,
          0,
          0,
          0,
          0,
          0,
          0,
          0,
          0,
          0,
          0,
          0,
          0,
          0,
          0,
          0,
          0,
          0,
          0,
          0,
          0,
          0,
          0,
          0
         ],
         "yaxis": "y"
        },
        {
         "hovertemplate": "variable=Vega<br>index=%{x}<br>value=%{y}<extra></extra>",
         "legendgroup": "Vega",
         "line": {
          "color": "#EF553B",
          "dash": "solid"
         },
         "marker": {
          "symbol": "circle"
         },
         "mode": "lines",
         "name": "Vega",
         "showlegend": true,
         "type": "scattergl",
         "x": [
          0,
          1,
          2,
          3,
          4,
          5,
          6,
          7,
          8,
          9,
          10,
          11,
          12,
          13,
          14,
          15,
          16,
          17,
          18,
          19,
          20,
          21,
          22,
          23,
          24,
          25,
          26,
          27,
          28,
          29,
          30,
          31,
          32,
          33,
          34,
          35,
          36,
          37,
          38,
          39,
          40,
          41,
          42,
          43,
          44,
          45,
          46,
          47,
          48,
          49,
          50,
          51,
          52,
          53,
          54,
          55,
          56,
          57,
          58,
          59,
          60,
          61,
          62,
          63,
          64,
          65,
          66,
          67,
          68,
          69,
          70,
          71,
          72,
          73,
          74,
          75,
          76,
          77,
          78,
          79,
          80,
          81,
          82,
          83,
          84,
          85,
          86,
          87,
          88,
          89,
          90,
          91,
          92,
          93,
          94,
          95,
          96,
          97,
          98,
          99,
          100,
          101,
          102,
          103,
          104,
          105,
          106,
          107,
          108,
          109,
          110,
          111,
          112,
          113,
          114,
          115,
          116,
          117,
          118,
          119,
          120,
          121,
          122,
          123,
          124,
          125,
          126,
          127,
          128,
          129,
          130,
          131,
          132,
          133,
          134,
          135,
          136,
          137,
          138,
          139,
          140,
          141,
          142,
          143,
          144,
          145,
          146,
          147,
          148,
          149,
          150,
          151,
          152,
          153,
          154,
          155,
          156,
          157,
          158,
          159,
          160,
          161,
          162,
          163,
          164,
          165,
          166,
          167,
          168,
          169,
          170,
          171,
          172,
          173,
          174,
          175,
          176,
          177,
          178,
          179,
          180,
          181,
          182,
          183,
          184,
          185,
          186,
          187,
          188,
          189,
          190,
          191,
          192,
          193,
          194,
          195,
          196,
          197,
          198,
          199,
          200,
          201,
          202,
          203,
          204,
          205,
          206,
          207,
          208,
          209,
          210,
          211,
          212,
          213,
          214,
          215,
          216,
          217,
          218,
          219,
          220,
          221,
          222,
          223,
          224,
          225,
          226,
          227,
          228,
          229,
          230,
          231,
          232,
          233,
          234,
          235,
          236,
          237,
          238,
          239,
          240,
          241,
          242,
          243,
          244,
          245,
          246,
          247,
          248,
          249,
          250,
          251,
          252,
          253,
          254,
          255,
          256,
          257,
          258,
          259,
          260,
          261,
          262,
          263,
          264,
          265,
          266,
          267,
          268,
          269,
          270,
          271,
          272,
          273,
          274,
          275,
          276,
          277,
          278,
          279,
          280,
          281,
          282,
          283,
          284,
          285,
          286,
          287,
          288,
          289,
          290,
          291,
          292,
          293,
          294,
          295,
          296,
          297,
          298,
          299,
          300,
          301,
          302,
          303,
          304,
          305,
          306,
          307,
          308,
          309,
          310,
          311,
          312,
          313,
          314,
          315,
          316,
          317,
          318,
          319,
          320,
          321,
          322,
          323,
          324,
          325,
          326,
          327,
          328,
          329,
          330,
          331,
          332,
          333,
          334,
          335,
          336,
          337,
          338,
          339,
          340,
          341,
          342,
          343,
          344,
          345,
          346,
          347,
          348,
          349,
          350,
          351,
          352,
          353,
          354,
          355,
          356,
          357,
          358,
          359,
          360,
          361,
          362,
          363,
          364,
          365,
          366,
          367,
          368,
          369,
          370,
          371,
          372,
          373,
          374,
          375,
          376,
          377
         ],
         "xaxis": "x",
         "y": [
          0,
          -173.19502198466807,
          0,
          0,
          0,
          -210.50168545906445,
          -135.81385087664444,
          -208.77845618515778,
          0,
          0,
          0,
          0,
          0,
          -201.56062370425332,
          -163.88787947400374,
          -150.1991096692734,
          0,
          0,
          -179.61002250126512,
          0,
          0,
          0,
          0,
          0,
          -173.7393720743512,
          0,
          0,
          0,
          0,
          0,
          0,
          -185.8624208946935,
          0,
          -197.96364827499247,
          0,
          0,
          -198.41195592168503,
          -193.05116262904676,
          -196.6033248625223,
          0,
          0,
          0,
          0,
          0,
          0,
          0,
          -160.005251317358,
          0,
          -183.87466658666085,
          -177.7160146814083,
          0,
          0,
          -185.60457048852186,
          0,
          0,
          0,
          -154.63823616985906,
          0,
          0,
          0,
          0,
          0,
          0,
          0,
          0,
          0,
          0,
          -143.06518983886463,
          0,
          -184.9840253568118,
          0,
          0,
          0,
          0,
          0,
          0,
          -189.93153638867,
          -166.0143785792627,
          0,
          0,
          -158.29496947355892,
          0,
          0,
          0,
          0,
          0,
          0,
          0,
          0,
          0,
          0,
          0,
          0,
          0,
          0,
          -118.10299319179762,
          0,
          0,
          0,
          0,
          0,
          -173.56360715294272,
          -195.95607296724893,
          0,
          0,
          0,
          0,
          -201.99924506869138,
          0,
          0,
          0,
          0,
          0,
          0,
          -212.77776688819472,
          0,
          0,
          0,
          -213.51807776355258,
          0,
          0,
          0,
          0,
          0,
          -199.95446720173504,
          0,
          0,
          0,
          0,
          0,
          0,
          0,
          0,
          0,
          0,
          0,
          0,
          0,
          0,
          0,
          -187.0718456681857,
          0,
          0,
          0,
          -188.29057097173063,
          0,
          0,
          0,
          0,
          0,
          -196.11373777138397,
          0,
          0,
          0,
          0,
          0,
          0,
          0,
          0,
          0,
          0,
          0,
          0,
          0,
          0,
          0,
          0,
          0,
          0,
          0,
          0,
          0,
          0,
          0,
          0,
          0,
          0,
          0,
          0,
          0,
          0,
          0,
          0,
          0,
          0,
          0,
          0,
          0,
          0,
          0,
          0,
          0,
          0,
          0,
          0,
          0,
          0,
          0,
          0,
          0,
          0,
          0,
          0,
          0,
          0,
          0,
          0,
          0,
          0,
          0,
          0,
          0,
          0,
          0,
          0,
          0,
          0,
          0,
          0,
          0,
          0,
          0,
          0,
          0,
          0,
          0,
          0,
          0,
          0,
          0,
          0,
          0,
          0,
          0,
          0,
          0,
          0,
          0,
          0,
          0,
          0,
          0,
          0,
          0,
          0,
          0,
          0,
          0,
          0,
          0,
          0,
          0,
          0,
          0,
          0,
          0,
          0,
          0,
          0,
          0,
          0,
          0,
          0,
          0,
          0,
          0,
          0,
          0,
          0,
          0,
          0,
          0,
          0,
          0,
          0,
          0,
          0,
          0,
          0,
          0,
          0,
          0,
          0,
          0,
          0,
          0,
          0,
          0,
          0,
          0,
          0,
          0,
          0,
          0,
          0,
          0,
          0,
          0,
          0,
          0,
          0,
          0,
          0,
          0,
          0,
          0,
          0,
          0,
          0,
          0,
          0,
          0,
          0,
          0,
          0,
          0,
          0,
          0,
          0,
          0,
          0,
          0,
          0,
          0,
          0,
          0,
          0,
          0,
          0,
          0,
          0,
          0,
          0,
          0,
          0,
          0,
          0,
          0,
          0,
          0,
          0,
          0,
          0,
          0,
          0,
          0,
          0,
          0,
          0,
          0,
          0,
          0,
          0,
          0,
          0,
          0,
          0,
          0,
          0,
          0,
          0,
          0,
          0,
          0,
          0,
          0,
          0,
          0,
          0,
          0,
          0,
          0,
          0,
          0,
          0,
          0,
          0,
          0
         ],
         "yaxis": "y"
        },
        {
         "hovertemplate": "variable=Theta<br>index=%{x}<br>value=%{y}<extra></extra>",
         "legendgroup": "Theta",
         "line": {
          "color": "#00cc96",
          "dash": "solid"
         },
         "marker": {
          "symbol": "circle"
         },
         "mode": "lines",
         "name": "Theta",
         "showlegend": true,
         "type": "scattergl",
         "x": [
          0,
          1,
          2,
          3,
          4,
          5,
          6,
          7,
          8,
          9,
          10,
          11,
          12,
          13,
          14,
          15,
          16,
          17,
          18,
          19,
          20,
          21,
          22,
          23,
          24,
          25,
          26,
          27,
          28,
          29,
          30,
          31,
          32,
          33,
          34,
          35,
          36,
          37,
          38,
          39,
          40,
          41,
          42,
          43,
          44,
          45,
          46,
          47,
          48,
          49,
          50,
          51,
          52,
          53,
          54,
          55,
          56,
          57,
          58,
          59,
          60,
          61,
          62,
          63,
          64,
          65,
          66,
          67,
          68,
          69,
          70,
          71,
          72,
          73,
          74,
          75,
          76,
          77,
          78,
          79,
          80,
          81,
          82,
          83,
          84,
          85,
          86,
          87,
          88,
          89,
          90,
          91,
          92,
          93,
          94,
          95,
          96,
          97,
          98,
          99,
          100,
          101,
          102,
          103,
          104,
          105,
          106,
          107,
          108,
          109,
          110,
          111,
          112,
          113,
          114,
          115,
          116,
          117,
          118,
          119,
          120,
          121,
          122,
          123,
          124,
          125,
          126,
          127,
          128,
          129,
          130,
          131,
          132,
          133,
          134,
          135,
          136,
          137,
          138,
          139,
          140,
          141,
          142,
          143,
          144,
          145,
          146,
          147,
          148,
          149,
          150,
          151,
          152,
          153,
          154,
          155,
          156,
          157,
          158,
          159,
          160,
          161,
          162,
          163,
          164,
          165,
          166,
          167,
          168,
          169,
          170,
          171,
          172,
          173,
          174,
          175,
          176,
          177,
          178,
          179,
          180,
          181,
          182,
          183,
          184,
          185,
          186,
          187,
          188,
          189,
          190,
          191,
          192,
          193,
          194,
          195,
          196,
          197,
          198,
          199,
          200,
          201,
          202,
          203,
          204,
          205,
          206,
          207,
          208,
          209,
          210,
          211,
          212,
          213,
          214,
          215,
          216,
          217,
          218,
          219,
          220,
          221,
          222,
          223,
          224,
          225,
          226,
          227,
          228,
          229,
          230,
          231,
          232,
          233,
          234,
          235,
          236,
          237,
          238,
          239,
          240,
          241,
          242,
          243,
          244,
          245,
          246,
          247,
          248,
          249,
          250,
          251,
          252,
          253,
          254,
          255,
          256,
          257,
          258,
          259,
          260,
          261,
          262,
          263,
          264,
          265,
          266,
          267,
          268,
          269,
          270,
          271,
          272,
          273,
          274,
          275,
          276,
          277,
          278,
          279,
          280,
          281,
          282,
          283,
          284,
          285,
          286,
          287,
          288,
          289,
          290,
          291,
          292,
          293,
          294,
          295,
          296,
          297,
          298,
          299,
          300,
          301,
          302,
          303,
          304,
          305,
          306,
          307,
          308,
          309,
          310,
          311,
          312,
          313,
          314,
          315,
          316,
          317,
          318,
          319,
          320,
          321,
          322,
          323,
          324,
          325,
          326,
          327,
          328,
          329,
          330,
          331,
          332,
          333,
          334,
          335,
          336,
          337,
          338,
          339,
          340,
          341,
          342,
          343,
          344,
          345,
          346,
          347,
          348,
          349,
          350,
          351,
          352,
          353,
          354,
          355,
          356,
          357,
          358,
          359,
          360,
          361,
          362,
          363,
          364,
          365,
          366,
          367,
          368,
          369,
          370,
          371,
          372,
          373,
          374,
          375,
          376,
          377
         ],
         "xaxis": "x",
         "y": [
          0,
          -173.1132377157678,
          0,
          0,
          0,
          -210.3544237808137,
          -135.6224605373484,
          -208.65723493209032,
          0,
          0,
          0,
          0,
          0,
          -201.20099035207772,
          -163.58570739842548,
          -149.6786934570764,
          0,
          0,
          -179.2852740830284,
          0,
          0,
          0,
          0,
          0,
          -173.2878755648528,
          0,
          0,
          0,
          0,
          0,
          0,
          -185.51092048500095,
          0,
          -197.70705754697815,
          0,
          0,
          -198.21752072634524,
          -192.72906426066072,
          -196.3249774981506,
          0,
          0,
          0,
          0,
          0,
          0,
          0,
          -159.57874257532012,
          0,
          -183.51447939718923,
          -177.3401783981967,
          0,
          0,
          -185.26668317912254,
          0,
          0,
          0,
          -154.27122315659858,
          0,
          0,
          0,
          0,
          0,
          0,
          0,
          0,
          0,
          0,
          -142.51417180528847,
          0,
          -184.68033585286037,
          0,
          0,
          0,
          0,
          0,
          0,
          -189.6774972977937,
          -165.64767839332717,
          0,
          0,
          -158.00225707917548,
          0,
          0,
          0,
          0,
          0,
          0,
          0,
          0,
          0,
          0,
          0,
          0,
          0,
          0,
          -117.40098593600123,
          0,
          0,
          0,
          0,
          0,
          -172.81582468694978,
          -195.49514287379566,
          0,
          0,
          0,
          0,
          -201.61577952799803,
          0,
          0,
          0,
          0,
          0,
          0,
          -212.4794165448236,
          0,
          0,
          0,
          -213.2877791892156,
          0,
          0,
          0,
          0,
          0,
          -199.71859758820187,
          0,
          0,
          0,
          0,
          0,
          0,
          0,
          0,
          0,
          0,
          0,
          0,
          0,
          0,
          0,
          -186.86287612678143,
          0,
          0,
          0,
          -188.09202862559005,
          0,
          0,
          0,
          0,
          0,
          -195.78809743356373,
          0,
          0,
          0,
          0,
          0,
          0,
          0,
          0,
          0,
          0,
          0,
          0,
          0,
          0,
          0,
          0,
          0,
          0,
          0,
          0,
          0,
          0,
          0,
          0,
          0,
          0,
          0,
          0,
          0,
          0,
          0,
          0,
          0,
          0,
          0,
          0,
          0,
          0,
          0,
          0,
          0,
          0,
          0,
          0,
          0,
          0,
          0,
          0,
          0,
          0,
          0,
          0,
          0,
          0,
          0,
          0,
          0,
          0,
          0,
          0,
          0,
          0,
          0,
          0,
          0,
          0,
          0,
          0,
          0,
          0,
          0,
          0,
          0,
          0,
          0,
          0,
          0,
          0,
          0,
          0,
          0,
          0,
          0,
          0,
          0,
          0,
          0,
          0,
          0,
          0,
          0,
          0,
          0,
          0,
          0,
          0,
          0,
          0,
          0,
          0,
          0,
          0,
          0,
          0,
          0,
          0,
          0,
          0,
          0,
          0,
          0,
          0,
          0,
          0,
          0,
          0,
          0,
          0,
          0,
          0,
          0,
          0,
          0,
          0,
          0,
          0,
          0,
          0,
          0,
          0,
          0,
          0,
          0,
          0,
          0,
          0,
          0,
          0,
          0,
          0,
          0,
          0,
          0,
          0,
          0,
          0,
          0,
          0,
          0,
          0,
          0,
          0,
          0,
          0,
          0,
          0,
          0,
          0,
          0,
          0,
          0,
          0,
          0,
          0,
          0,
          0,
          0,
          0,
          0,
          0,
          0,
          0,
          0,
          0,
          0,
          0,
          0,
          0,
          0,
          0,
          0,
          0,
          0,
          0,
          0,
          0,
          0,
          0,
          0,
          0,
          0,
          0,
          0,
          0,
          0,
          0,
          0,
          0,
          0,
          0,
          0,
          0,
          0,
          0,
          0,
          0,
          0,
          0,
          0,
          0,
          0,
          0,
          0,
          0,
          0,
          0,
          0,
          0,
          0,
          0,
          0,
          0,
          0,
          0,
          0,
          0,
          0
         ],
         "yaxis": "y"
        },
        {
         "hovertemplate": "variable=Rho<br>index=%{x}<br>value=%{y}<extra></extra>",
         "legendgroup": "Rho",
         "line": {
          "color": "#ab63fa",
          "dash": "solid"
         },
         "marker": {
          "symbol": "circle"
         },
         "mode": "lines",
         "name": "Rho",
         "showlegend": true,
         "type": "scattergl",
         "x": [
          0,
          1,
          2,
          3,
          4,
          5,
          6,
          7,
          8,
          9,
          10,
          11,
          12,
          13,
          14,
          15,
          16,
          17,
          18,
          19,
          20,
          21,
          22,
          23,
          24,
          25,
          26,
          27,
          28,
          29,
          30,
          31,
          32,
          33,
          34,
          35,
          36,
          37,
          38,
          39,
          40,
          41,
          42,
          43,
          44,
          45,
          46,
          47,
          48,
          49,
          50,
          51,
          52,
          53,
          54,
          55,
          56,
          57,
          58,
          59,
          60,
          61,
          62,
          63,
          64,
          65,
          66,
          67,
          68,
          69,
          70,
          71,
          72,
          73,
          74,
          75,
          76,
          77,
          78,
          79,
          80,
          81,
          82,
          83,
          84,
          85,
          86,
          87,
          88,
          89,
          90,
          91,
          92,
          93,
          94,
          95,
          96,
          97,
          98,
          99,
          100,
          101,
          102,
          103,
          104,
          105,
          106,
          107,
          108,
          109,
          110,
          111,
          112,
          113,
          114,
          115,
          116,
          117,
          118,
          119,
          120,
          121,
          122,
          123,
          124,
          125,
          126,
          127,
          128,
          129,
          130,
          131,
          132,
          133,
          134,
          135,
          136,
          137,
          138,
          139,
          140,
          141,
          142,
          143,
          144,
          145,
          146,
          147,
          148,
          149,
          150,
          151,
          152,
          153,
          154,
          155,
          156,
          157,
          158,
          159,
          160,
          161,
          162,
          163,
          164,
          165,
          166,
          167,
          168,
          169,
          170,
          171,
          172,
          173,
          174,
          175,
          176,
          177,
          178,
          179,
          180,
          181,
          182,
          183,
          184,
          185,
          186,
          187,
          188,
          189,
          190,
          191,
          192,
          193,
          194,
          195,
          196,
          197,
          198,
          199,
          200,
          201,
          202,
          203,
          204,
          205,
          206,
          207,
          208,
          209,
          210,
          211,
          212,
          213,
          214,
          215,
          216,
          217,
          218,
          219,
          220,
          221,
          222,
          223,
          224,
          225,
          226,
          227,
          228,
          229,
          230,
          231,
          232,
          233,
          234,
          235,
          236,
          237,
          238,
          239,
          240,
          241,
          242,
          243,
          244,
          245,
          246,
          247,
          248,
          249,
          250,
          251,
          252,
          253,
          254,
          255,
          256,
          257,
          258,
          259,
          260,
          261,
          262,
          263,
          264,
          265,
          266,
          267,
          268,
          269,
          270,
          271,
          272,
          273,
          274,
          275,
          276,
          277,
          278,
          279,
          280,
          281,
          282,
          283,
          284,
          285,
          286,
          287,
          288,
          289,
          290,
          291,
          292,
          293,
          294,
          295,
          296,
          297,
          298,
          299,
          300,
          301,
          302,
          303,
          304,
          305,
          306,
          307,
          308,
          309,
          310,
          311,
          312,
          313,
          314,
          315,
          316,
          317,
          318,
          319,
          320,
          321,
          322,
          323,
          324,
          325,
          326,
          327,
          328,
          329,
          330,
          331,
          332,
          333,
          334,
          335,
          336,
          337,
          338,
          339,
          340,
          341,
          342,
          343,
          344,
          345,
          346,
          347,
          348,
          349,
          350,
          351,
          352,
          353,
          354,
          355,
          356,
          357,
          358,
          359,
          360,
          361,
          362,
          363,
          364,
          365,
          366,
          367,
          368,
          369,
          370,
          371,
          372,
          373,
          374,
          375,
          376,
          377
         ],
         "xaxis": "x",
         "y": [
          0,
          0.08178423078675223,
          0,
          0,
          0,
          0.14726158804023726,
          0.19139029538450814,
          0.12122114823398533,
          0,
          0,
          0,
          0,
          0,
          0.3596331188049362,
          0.30217193403814235,
          0.5204161069514157,
          0,
          0,
          0.32474820170591556,
          0,
          0,
          0,
          0,
          0,
          0.4514963578685638,
          0,
          0,
          0,
          0,
          0,
          0,
          0.3515002157428171,
          0,
          0.2565904745779335,
          0,
          0,
          0.19443498671023463,
          0.32209816140493785,
          0.27834713159791136,
          0,
          0,
          0,
          0,
          0,
          0,
          0,
          0.42650862158666314,
          0,
          0.3601870264162699,
          0.37583612797220667,
          0,
          0,
          0.3378871392953897,
          0,
          0,
          0,
          0.3670128899386782,
          0,
          0,
          0,
          0,
          0,
          0,
          0,
          0,
          0,
          0,
          0.5510179086911648,
          0,
          0.3036892769756605,
          0,
          0,
          0,
          0,
          0,
          0,
          0.25403882891339435,
          0.36670004070060713,
          0,
          0,
          0.2927123000517895,
          0,
          0,
          0,
          0,
          0,
          0,
          0,
          0,
          0,
          0,
          0,
          0,
          0,
          0,
          0.7020071654153526,
          0,
          0,
          0,
          0,
          0,
          0.747782242598305,
          0.4609298180469068,
          0,
          0,
          0,
          0,
          0.3834653523995257,
          0,
          0,
          0,
          0,
          0,
          0,
          0.2983501659059584,
          0,
          0,
          0,
          0.23029832806287232,
          0,
          0,
          0,
          0,
          0,
          0.23586947691001114,
          0,
          0,
          0,
          0,
          0,
          0,
          0,
          0,
          0,
          0,
          0,
          0,
          0,
          0,
          0,
          0.20896943584602923,
          0,
          0,
          0,
          0.1985422400423431,
          0,
          0,
          0,
          0,
          0,
          0.32564017621439234,
          0,
          0,
          0,
          0,
          0,
          0,
          0,
          0,
          0,
          0,
          0,
          0,
          0,
          0,
          0,
          0,
          0,
          0,
          0,
          0,
          0,
          0,
          0,
          0,
          0,
          0,
          0,
          0,
          0,
          0,
          0,
          0,
          0,
          0,
          0,
          0,
          0,
          0,
          0,
          0,
          0,
          0,
          0,
          0,
          0,
          0,
          0,
          0,
          0,
          0,
          0,
          0,
          0,
          0,
          0,
          0,
          0,
          0,
          0,
          0,
          0,
          0,
          0,
          0,
          0,
          0,
          0,
          0,
          0,
          0,
          0,
          0,
          0,
          0,
          0,
          0,
          0,
          0,
          0,
          0,
          0,
          0,
          0,
          0,
          0,
          0,
          0,
          0,
          0,
          0,
          0,
          0,
          0,
          0,
          0,
          0,
          0,
          0,
          0,
          0,
          0,
          0,
          0,
          0,
          0,
          0,
          0,
          0,
          0,
          0,
          0,
          0,
          0,
          0,
          0,
          0,
          0,
          0,
          0,
          0,
          0,
          0,
          0,
          0,
          0,
          0,
          0,
          0,
          0,
          0,
          0,
          0,
          0,
          0,
          0,
          0,
          0,
          0,
          0,
          0,
          0,
          0,
          0,
          0,
          0,
          0,
          0,
          0,
          0,
          0,
          0,
          0,
          0,
          0,
          0,
          0,
          0,
          0,
          0,
          0,
          0,
          0,
          0,
          0,
          0,
          0,
          0,
          0,
          0,
          0,
          0,
          0,
          0,
          0,
          0,
          0,
          0,
          0,
          0,
          0,
          0,
          0,
          0,
          0,
          0,
          0,
          0,
          0,
          0,
          0,
          0,
          0,
          0,
          0,
          0,
          0,
          0,
          0,
          0,
          0,
          0,
          0,
          0,
          0,
          0,
          0,
          0,
          0,
          0,
          0,
          0,
          0,
          0,
          0,
          0,
          0,
          0,
          0,
          0,
          0,
          0,
          0,
          0,
          0,
          0,
          0,
          0
         ],
         "yaxis": "y"
        }
       ],
       "layout": {
        "legend": {
         "title": {
          "text": "variable"
         },
         "tracegroupgap": 0
        },
        "margin": {
         "t": 60
        },
        "template": {
         "data": {
          "bar": [
           {
            "error_x": {
             "color": "#2a3f5f"
            },
            "error_y": {
             "color": "#2a3f5f"
            },
            "marker": {
             "line": {
              "color": "#E5ECF6",
              "width": 0.5
             },
             "pattern": {
              "fillmode": "overlay",
              "size": 10,
              "solidity": 0.2
             }
            },
            "type": "bar"
           }
          ],
          "barpolar": [
           {
            "marker": {
             "line": {
              "color": "#E5ECF6",
              "width": 0.5
             },
             "pattern": {
              "fillmode": "overlay",
              "size": 10,
              "solidity": 0.2
             }
            },
            "type": "barpolar"
           }
          ],
          "carpet": [
           {
            "aaxis": {
             "endlinecolor": "#2a3f5f",
             "gridcolor": "white",
             "linecolor": "white",
             "minorgridcolor": "white",
             "startlinecolor": "#2a3f5f"
            },
            "baxis": {
             "endlinecolor": "#2a3f5f",
             "gridcolor": "white",
             "linecolor": "white",
             "minorgridcolor": "white",
             "startlinecolor": "#2a3f5f"
            },
            "type": "carpet"
           }
          ],
          "choropleth": [
           {
            "colorbar": {
             "outlinewidth": 0,
             "ticks": ""
            },
            "type": "choropleth"
           }
          ],
          "contour": [
           {
            "colorbar": {
             "outlinewidth": 0,
             "ticks": ""
            },
            "colorscale": [
             [
              0,
              "#0d0887"
             ],
             [
              0.1111111111111111,
              "#46039f"
             ],
             [
              0.2222222222222222,
              "#7201a8"
             ],
             [
              0.3333333333333333,
              "#9c179e"
             ],
             [
              0.4444444444444444,
              "#bd3786"
             ],
             [
              0.5555555555555556,
              "#d8576b"
             ],
             [
              0.6666666666666666,
              "#ed7953"
             ],
             [
              0.7777777777777778,
              "#fb9f3a"
             ],
             [
              0.8888888888888888,
              "#fdca26"
             ],
             [
              1,
              "#f0f921"
             ]
            ],
            "type": "contour"
           }
          ],
          "contourcarpet": [
           {
            "colorbar": {
             "outlinewidth": 0,
             "ticks": ""
            },
            "type": "contourcarpet"
           }
          ],
          "heatmap": [
           {
            "colorbar": {
             "outlinewidth": 0,
             "ticks": ""
            },
            "colorscale": [
             [
              0,
              "#0d0887"
             ],
             [
              0.1111111111111111,
              "#46039f"
             ],
             [
              0.2222222222222222,
              "#7201a8"
             ],
             [
              0.3333333333333333,
              "#9c179e"
             ],
             [
              0.4444444444444444,
              "#bd3786"
             ],
             [
              0.5555555555555556,
              "#d8576b"
             ],
             [
              0.6666666666666666,
              "#ed7953"
             ],
             [
              0.7777777777777778,
              "#fb9f3a"
             ],
             [
              0.8888888888888888,
              "#fdca26"
             ],
             [
              1,
              "#f0f921"
             ]
            ],
            "type": "heatmap"
           }
          ],
          "heatmapgl": [
           {
            "colorbar": {
             "outlinewidth": 0,
             "ticks": ""
            },
            "colorscale": [
             [
              0,
              "#0d0887"
             ],
             [
              0.1111111111111111,
              "#46039f"
             ],
             [
              0.2222222222222222,
              "#7201a8"
             ],
             [
              0.3333333333333333,
              "#9c179e"
             ],
             [
              0.4444444444444444,
              "#bd3786"
             ],
             [
              0.5555555555555556,
              "#d8576b"
             ],
             [
              0.6666666666666666,
              "#ed7953"
             ],
             [
              0.7777777777777778,
              "#fb9f3a"
             ],
             [
              0.8888888888888888,
              "#fdca26"
             ],
             [
              1,
              "#f0f921"
             ]
            ],
            "type": "heatmapgl"
           }
          ],
          "histogram": [
           {
            "marker": {
             "pattern": {
              "fillmode": "overlay",
              "size": 10,
              "solidity": 0.2
             }
            },
            "type": "histogram"
           }
          ],
          "histogram2d": [
           {
            "colorbar": {
             "outlinewidth": 0,
             "ticks": ""
            },
            "colorscale": [
             [
              0,
              "#0d0887"
             ],
             [
              0.1111111111111111,
              "#46039f"
             ],
             [
              0.2222222222222222,
              "#7201a8"
             ],
             [
              0.3333333333333333,
              "#9c179e"
             ],
             [
              0.4444444444444444,
              "#bd3786"
             ],
             [
              0.5555555555555556,
              "#d8576b"
             ],
             [
              0.6666666666666666,
              "#ed7953"
             ],
             [
              0.7777777777777778,
              "#fb9f3a"
             ],
             [
              0.8888888888888888,
              "#fdca26"
             ],
             [
              1,
              "#f0f921"
             ]
            ],
            "type": "histogram2d"
           }
          ],
          "histogram2dcontour": [
           {
            "colorbar": {
             "outlinewidth": 0,
             "ticks": ""
            },
            "colorscale": [
             [
              0,
              "#0d0887"
             ],
             [
              0.1111111111111111,
              "#46039f"
             ],
             [
              0.2222222222222222,
              "#7201a8"
             ],
             [
              0.3333333333333333,
              "#9c179e"
             ],
             [
              0.4444444444444444,
              "#bd3786"
             ],
             [
              0.5555555555555556,
              "#d8576b"
             ],
             [
              0.6666666666666666,
              "#ed7953"
             ],
             [
              0.7777777777777778,
              "#fb9f3a"
             ],
             [
              0.8888888888888888,
              "#fdca26"
             ],
             [
              1,
              "#f0f921"
             ]
            ],
            "type": "histogram2dcontour"
           }
          ],
          "mesh3d": [
           {
            "colorbar": {
             "outlinewidth": 0,
             "ticks": ""
            },
            "type": "mesh3d"
           }
          ],
          "parcoords": [
           {
            "line": {
             "colorbar": {
              "outlinewidth": 0,
              "ticks": ""
             }
            },
            "type": "parcoords"
           }
          ],
          "pie": [
           {
            "automargin": true,
            "type": "pie"
           }
          ],
          "scatter": [
           {
            "marker": {
             "colorbar": {
              "outlinewidth": 0,
              "ticks": ""
             }
            },
            "type": "scatter"
           }
          ],
          "scatter3d": [
           {
            "line": {
             "colorbar": {
              "outlinewidth": 0,
              "ticks": ""
             }
            },
            "marker": {
             "colorbar": {
              "outlinewidth": 0,
              "ticks": ""
             }
            },
            "type": "scatter3d"
           }
          ],
          "scattercarpet": [
           {
            "marker": {
             "colorbar": {
              "outlinewidth": 0,
              "ticks": ""
             }
            },
            "type": "scattercarpet"
           }
          ],
          "scattergeo": [
           {
            "marker": {
             "colorbar": {
              "outlinewidth": 0,
              "ticks": ""
             }
            },
            "type": "scattergeo"
           }
          ],
          "scattergl": [
           {
            "marker": {
             "colorbar": {
              "outlinewidth": 0,
              "ticks": ""
             }
            },
            "type": "scattergl"
           }
          ],
          "scattermapbox": [
           {
            "marker": {
             "colorbar": {
              "outlinewidth": 0,
              "ticks": ""
             }
            },
            "type": "scattermapbox"
           }
          ],
          "scatterpolar": [
           {
            "marker": {
             "colorbar": {
              "outlinewidth": 0,
              "ticks": ""
             }
            },
            "type": "scatterpolar"
           }
          ],
          "scatterpolargl": [
           {
            "marker": {
             "colorbar": {
              "outlinewidth": 0,
              "ticks": ""
             }
            },
            "type": "scatterpolargl"
           }
          ],
          "scatterternary": [
           {
            "marker": {
             "colorbar": {
              "outlinewidth": 0,
              "ticks": ""
             }
            },
            "type": "scatterternary"
           }
          ],
          "surface": [
           {
            "colorbar": {
             "outlinewidth": 0,
             "ticks": ""
            },
            "colorscale": [
             [
              0,
              "#0d0887"
             ],
             [
              0.1111111111111111,
              "#46039f"
             ],
             [
              0.2222222222222222,
              "#7201a8"
             ],
             [
              0.3333333333333333,
              "#9c179e"
             ],
             [
              0.4444444444444444,
              "#bd3786"
             ],
             [
              0.5555555555555556,
              "#d8576b"
             ],
             [
              0.6666666666666666,
              "#ed7953"
             ],
             [
              0.7777777777777778,
              "#fb9f3a"
             ],
             [
              0.8888888888888888,
              "#fdca26"
             ],
             [
              1,
              "#f0f921"
             ]
            ],
            "type": "surface"
           }
          ],
          "table": [
           {
            "cells": {
             "fill": {
              "color": "#EBF0F8"
             },
             "line": {
              "color": "white"
             }
            },
            "header": {
             "fill": {
              "color": "#C8D4E3"
             },
             "line": {
              "color": "white"
             }
            },
            "type": "table"
           }
          ]
         },
         "layout": {
          "annotationdefaults": {
           "arrowcolor": "#2a3f5f",
           "arrowhead": 0,
           "arrowwidth": 1
          },
          "autotypenumbers": "strict",
          "coloraxis": {
           "colorbar": {
            "outlinewidth": 0,
            "ticks": ""
           }
          },
          "colorscale": {
           "diverging": [
            [
             0,
             "#8e0152"
            ],
            [
             0.1,
             "#c51b7d"
            ],
            [
             0.2,
             "#de77ae"
            ],
            [
             0.3,
             "#f1b6da"
            ],
            [
             0.4,
             "#fde0ef"
            ],
            [
             0.5,
             "#f7f7f7"
            ],
            [
             0.6,
             "#e6f5d0"
            ],
            [
             0.7,
             "#b8e186"
            ],
            [
             0.8,
             "#7fbc41"
            ],
            [
             0.9,
             "#4d9221"
            ],
            [
             1,
             "#276419"
            ]
           ],
           "sequential": [
            [
             0,
             "#0d0887"
            ],
            [
             0.1111111111111111,
             "#46039f"
            ],
            [
             0.2222222222222222,
             "#7201a8"
            ],
            [
             0.3333333333333333,
             "#9c179e"
            ],
            [
             0.4444444444444444,
             "#bd3786"
            ],
            [
             0.5555555555555556,
             "#d8576b"
            ],
            [
             0.6666666666666666,
             "#ed7953"
            ],
            [
             0.7777777777777778,
             "#fb9f3a"
            ],
            [
             0.8888888888888888,
             "#fdca26"
            ],
            [
             1,
             "#f0f921"
            ]
           ],
           "sequentialminus": [
            [
             0,
             "#0d0887"
            ],
            [
             0.1111111111111111,
             "#46039f"
            ],
            [
             0.2222222222222222,
             "#7201a8"
            ],
            [
             0.3333333333333333,
             "#9c179e"
            ],
            [
             0.4444444444444444,
             "#bd3786"
            ],
            [
             0.5555555555555556,
             "#d8576b"
            ],
            [
             0.6666666666666666,
             "#ed7953"
            ],
            [
             0.7777777777777778,
             "#fb9f3a"
            ],
            [
             0.8888888888888888,
             "#fdca26"
            ],
            [
             1,
             "#f0f921"
            ]
           ]
          },
          "colorway": [
           "#636efa",
           "#EF553B",
           "#00cc96",
           "#ab63fa",
           "#FFA15A",
           "#19d3f3",
           "#FF6692",
           "#B6E880",
           "#FF97FF",
           "#FECB52"
          ],
          "font": {
           "color": "#2a3f5f"
          },
          "geo": {
           "bgcolor": "white",
           "lakecolor": "white",
           "landcolor": "#E5ECF6",
           "showlakes": true,
           "showland": true,
           "subunitcolor": "white"
          },
          "hoverlabel": {
           "align": "left"
          },
          "hovermode": "closest",
          "mapbox": {
           "style": "light"
          },
          "paper_bgcolor": "white",
          "plot_bgcolor": "#E5ECF6",
          "polar": {
           "angularaxis": {
            "gridcolor": "white",
            "linecolor": "white",
            "ticks": ""
           },
           "bgcolor": "#E5ECF6",
           "radialaxis": {
            "gridcolor": "white",
            "linecolor": "white",
            "ticks": ""
           }
          },
          "scene": {
           "xaxis": {
            "backgroundcolor": "#E5ECF6",
            "gridcolor": "white",
            "gridwidth": 2,
            "linecolor": "white",
            "showbackground": true,
            "ticks": "",
            "zerolinecolor": "white"
           },
           "yaxis": {
            "backgroundcolor": "#E5ECF6",
            "gridcolor": "white",
            "gridwidth": 2,
            "linecolor": "white",
            "showbackground": true,
            "ticks": "",
            "zerolinecolor": "white"
           },
           "zaxis": {
            "backgroundcolor": "#E5ECF6",
            "gridcolor": "white",
            "gridwidth": 2,
            "linecolor": "white",
            "showbackground": true,
            "ticks": "",
            "zerolinecolor": "white"
           }
          },
          "shapedefaults": {
           "line": {
            "color": "#2a3f5f"
           }
          },
          "ternary": {
           "aaxis": {
            "gridcolor": "white",
            "linecolor": "white",
            "ticks": ""
           },
           "baxis": {
            "gridcolor": "white",
            "linecolor": "white",
            "ticks": ""
           },
           "bgcolor": "#E5ECF6",
           "caxis": {
            "gridcolor": "white",
            "linecolor": "white",
            "ticks": ""
           }
          },
          "title": {
           "x": 0.05
          },
          "xaxis": {
           "automargin": true,
           "gridcolor": "white",
           "linecolor": "white",
           "ticks": "",
           "title": {
            "standoff": 15
           },
           "zerolinecolor": "white",
           "zerolinewidth": 2
          },
          "yaxis": {
           "automargin": true,
           "gridcolor": "white",
           "linecolor": "white",
           "ticks": "",
           "title": {
            "standoff": 15
           },
           "zerolinecolor": "white",
           "zerolinewidth": 2
          }
         }
        },
        "xaxis": {
         "anchor": "y",
         "domain": [
          0,
          1
         ],
         "title": {
          "text": "index"
         }
        },
        "yaxis": {
         "anchor": "x",
         "domain": [
          0,
          1
         ],
         "title": {
          "text": "value"
         }
        }
       }
      }
     },
     "metadata": {},
     "output_type": "display_data"
    }
   ],
   "source": [
    "px.line(greeks_df, y=[\"Delta\", \"Vega\", \"Theta\", \"Rho\"])"
   ]
  },
  {
   "cell_type": "code",
   "execution_count": null,
   "metadata": {},
   "outputs": [],
   "source": []
  }
 ],
 "metadata": {
  "kernelspec": {
   "display_name": "finsim",
   "language": "python",
   "name": "python3"
  },
  "language_info": {
   "codemirror_mode": {
    "name": "ipython",
    "version": 3
   },
   "file_extension": ".py",
   "mimetype": "text/x-python",
   "name": "python",
   "nbconvert_exporter": "python",
   "pygments_lexer": "ipython3",
   "version": "3.9.13"
  },
  "orig_nbformat": 4,
  "vscode": {
   "interpreter": {
    "hash": "05eea7d3595bfadf0e30a6d0d1e84a362f1f365445b3148f9dbcbee14b1bb771"
   }
  }
 },
 "nbformat": 4,
 "nbformat_minor": 2
}
