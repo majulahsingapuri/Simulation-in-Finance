{
 "cells": [
  {
   "cell_type": "code",
   "execution_count": 4,
   "metadata": {},
   "outputs": [],
   "source": [
    "import pandas as pd\n",
    "import numpy as np\n",
    "# import cupy as np\n",
    "import plotly.express as px\n",
    "import pandas_market_calendars as mcal\n",
    "from tqdm.notebook import tqdm\n",
    "from scipy.stats import norm"
   ]
  },
  {
   "cell_type": "markdown",
   "metadata": {},
   "source": [
    "## Payoff Function"
   ]
  },
  {
   "cell_type": "code",
   "execution_count": 5,
   "metadata": {},
   "outputs": [],
   "source": [
    "def payoff(paths, K, Barrier, remaining_steps):\n",
    "    Nsim = paths.shape[0]\n",
    "    interest_payment = min(6, ((remaining_steps // 63) + 1)) * 1.75\n",
    "    final_prices = paths[:, :, -1] #S_T\n",
    "    above_strike = np.all(final_prices >= K, axis=1)\n",
    "    barrier_event = np.any(paths.min(axis=2) <= Barrier, axis=1)\n",
    "\n",
    "    # No barrier event or (barrier event and above strike)\n",
    "    cash_payout = np.where(np.logical_or(np.logical_not(barrier_event), np.logical_and(barrier_event,  above_strike)), 1000 + interest_payment, 0)\n",
    "\n",
    "    # barrier event and below strike\n",
    "    percent_change = final_prices / K # Based on final strike price\n",
    "    min_loc = np.argmin(percent_change, axis=1) # Finding the worst performing underlying\n",
    "    j = np.indices(min_loc.shape)\n",
    "    payouts = 1000 * percent_change[j, min_loc] + interest_payment # certificate to stock ratio * final price of the stock + coupon payment\n",
    "    stock_payout = np.where(np.logical_and(barrier_event,  np.logical_not(above_strike)), payouts, 0)\n",
    "\n",
    "    return np.sum(np.concatenate((cash_payout.reshape(1, Nsim), stock_payout.reshape(1, Nsim))), axis=0)"
   ]
  },
  {
   "cell_type": "markdown",
   "metadata": {},
   "source": [
    "Expected Payoff: $ \\hat{f}(S, t) = \\frac{1}{n} \\sum^n_{i=1} e^{-r(T-t)} \\chi(S^{(i)})$"
   ]
  },
  {
   "cell_type": "code",
   "execution_count": 6,
   "metadata": {},
   "outputs": [],
   "source": [
    "def expected_payoff(payoffs, r, T, t):\n",
    "    return np.mean(np.exp(-r*(T-t)) * payoffs)"
   ]
  },
  {
   "cell_type": "markdown",
   "metadata": {},
   "source": [
    "## Plotting"
   ]
  },
  {
   "cell_type": "code",
   "execution_count": 7,
   "metadata": {},
   "outputs": [],
   "source": [
    "def plot_simulations(price_hist, Nsim, sim_paths, stock=0):\n",
    "    \"\"\"plots simulations for chosen stock\n",
    "\n",
    "    Args:\n",
    "        price_hist (df): df of historical prices\n",
    "        sim_paths (list): simulated price paths\n",
    "        stock (int, optional): index of stock. Defaults to 0.\n",
    "    \"\"\"\n",
    "    # df of historical prices\n",
    "    price_hist = price_hist.to_numpy()[:, [0]].reshape(-1)\n",
    "    price_hist = np.vstack([price_hist]*Nsim)\n",
    "    price_hist = pd.DataFrame(price_hist).transpose()\n",
    "\n",
    "    sim_paths = pd.DataFrame(sim_paths[:, stock, :]).transpose()\n",
    "    sim_paths = pd.concat((price_hist, sim_paths))\n",
    "    sim_paths = sim_paths.reset_index(drop=True)\n",
    "    fig = px.line(sim_paths)\n",
    "    return fig"
   ]
  },
  {
   "cell_type": "markdown",
   "metadata": {},
   "source": [
    "# GBM Simlulations\n"
   ]
  },
  {
   "cell_type": "markdown",
   "metadata": {},
   "source": [
    "## Standard MC"
   ]
  },
  {
   "cell_type": "code",
   "execution_count": 8,
   "metadata": {},
   "outputs": [],
   "source": [
    "def multi_asset_GBM(S0, r, Sigma, dt, m, p, z=None):\n",
    "    \"\"\"GBM simulation of multiple asset paths\n",
    "\n",
    "    Args:\n",
    "        S0 (vector of start prices): vector of starting prices\n",
    "        r (int): risk free interest rate\n",
    "        Sigma (matrix): covariance matrix\n",
    "        dt (float): delta between each time step\n",
    "        m (int): number of days simulated\n",
    "        p (int): number of assets\n",
    "    \"\"\"\n",
    "\n",
    "    S = np.zeros(shape=(m, p))\n",
    "    S[0] = S0\n",
    "\n",
    "    if z is None:\n",
    "        z = np.random.multivariate_normal(mean=np.zeros(p), cov=np.identity(p), size=m)\n",
    "\n",
    "    for step in range(1, m):\n",
    "        S[step] = S[step-1] * np.exp(( r * dt * np.ones(p) ) # Rate discount\n",
    "             - ( 0.5 * dt * np.diagonal(Sigma) ) # Volatility\n",
    "             + ( np.matmul(np.linalg.cholesky(Sigma * dt), z[step-1]) )) # Weiner process\n",
    "    return np.transpose(S)"
   ]
  },
  {
   "cell_type": "markdown",
   "metadata": {},
   "source": [
    "## Antithetic Variate"
   ]
  },
  {
   "cell_type": "code",
   "execution_count": 9,
   "metadata": {},
   "outputs": [],
   "source": [
    "def multi_asset_GBM_av(S0, r, Sigma, dt, m, p):\n",
    "    \"\"\"GBM simulation of multiple asset paths\n",
    "\n",
    "    Args:\n",
    "        S0 (vector of start prices): vector of starting prices\n",
    "        r (int): risk free interest rate\n",
    "        Sigma (matrix): covariance matrix\n",
    "        dt (float): delta between each time step\n",
    "        m (int): number of days simulated\n",
    "        p (int): number of assets\n",
    "    \"\"\"\n",
    "\n",
    "    S = np.zeros(shape=(m, p))\n",
    "    Stilde = np.zeros(shape=(m, p))\n",
    "    S[0] = S0\n",
    "    Stilde[0] = S0\n",
    "\n",
    "    z = np.random.multivariate_normal(mean=np.zeros(p), cov=np.identity(p), size=m)\n",
    "    for step in range(1, m):\n",
    "        S[step] = S[step-1] * np.exp(( r * dt * np.ones(p) ) # Rate discount\n",
    "             - ( 0.5 * dt * np.diagonal(Sigma) ) # Volatility\n",
    "             + ( np.matmul(np.linalg.cholesky(Sigma * dt), z[step-1]) )) # Weiner process\n",
    "\n",
    "        Stilde[step] = S[step-1] * np.exp(( r * dt * np.ones(p) ) # Rate discount\n",
    "             - ( 0.5 * dt * np.diagonal(Sigma) ) # Volatility\n",
    "             + ( np.matmul(np.linalg.cholesky(Sigma * dt), -z[step-1]) )) # Weiner process\n",
    "    return np.transpose(S), np.transpose(Stilde)"
   ]
  },
  {
   "cell_type": "markdown",
   "metadata": {},
   "source": [
    "## Stratified Sampling"
   ]
  },
  {
   "cell_type": "code",
   "execution_count": 10,
   "metadata": {},
   "outputs": [],
   "source": [
    "def multi_asset_GBM_ss(S0, r, Sigma, dt, m, p, n_stratas):\n",
    "    \"\"\"GBM simulation of multiple asset paths\n",
    "\n",
    "    Args:\n",
    "        S0 (vector of start prices): vector of starting prices\n",
    "        v (array): mu/dt\n",
    "        r (int): risk free interest rate\n",
    "        Sigma (matrix): covariance matrix\n",
    "        dt (float): delta between each time step\n",
    "        m (int): number of days simulated\n",
    "        p (int): number of assets\n",
    "    \"\"\"\n",
    "    u = np.zeros((n_stratas, m, p))\n",
    "    scaled_samples = np.random.uniform(size=(m, p))/n_stratas\n",
    "    for i in range(n_stratas):\n",
    "        u[i] = (i/n_stratas) + scaled_samples\n",
    "    z = norm.ppf(u)\n",
    "\n",
    "    S = np.zeros(shape=(m, p))\n",
    "    S[0] = S0\n",
    "    for step in range(1, m):\n",
    "        S[step] = S[step-1] * np.exp(( r * dt * np.ones(p) ) # Rate discount\n",
    "             - ( 0.5 * dt * np.diagonal(Sigma) ) # Volatility\n",
    "             + ( np.matmul(np.linalg.cholesky(Sigma * dt), z[(step%n_stratas)-1][step]) )) # Weiner process\n",
    "\n",
    "    return np.transpose(S)"
   ]
  },
  {
   "cell_type": "markdown",
   "metadata": {},
   "source": [
    "## Empirical Martingale Correction"
   ]
  },
  {
   "cell_type": "code",
   "execution_count": 11,
   "metadata": {},
   "outputs": [],
   "source": [
    "def multi_asset_GBM_emc(S0, r, Sigma, dt, m, p):\n",
    "    \"\"\"GBM simulation of multiple asset paths\n",
    "\n",
    "    Args:\n",
    "        S0 (vector of start prices): vector of starting prices\n",
    "        r (int): risk free interest rate\n",
    "        Sigma (matrix): covariance matrix\n",
    "        dt (float): delta between each time step\n",
    "        m (int): number of days simulated\n",
    "        p (int): number of assets\n",
    "        t: current time step\n",
    "    \"\"\"\n",
    "\n",
    "    S = np.zeros(shape=(m, p))\n",
    "    S_star = np.zeros(shape=(m, p))\n",
    "    z = np.zeros(shape=(m, p))\n",
    "    z0 = np.zeros(shape=(m, p))\n",
    "    S[0] = S0\n",
    "    S_star[0] = S0\n",
    "\n",
    "    if z is None:\n",
    "        z = np.random.multivariate_normal(mean=np.zeros(p), cov=np.identity(p), size=m)\n",
    "\n",
    "    for step in range(1, m):\n",
    "        S[step] = S[step-1] * np.exp(( r * dt * np.ones(p) ) # Rate discount\n",
    "             - ( 0.5 * dt * np.diagonal(Sigma) ) # Volatility\n",
    "             + ( np.matmul(np.linalg.cholesky(Sigma * dt), z[step-1]) )) # Weiner process\n",
    "        # z[step] = S_star[step-1]*S[step]/S[step-1]\n",
    "        # z0[step] = np.exp(-r * step) * np.mean(z[step])\n",
    "        # S_star[step] = S0 * (z[step]/z0[step])\n",
    "        S_star[step] = (S[step]/np.mean(S[step])) * S[step]*np.exp(-r * (m-step))\n",
    "    \n",
    "    return np.transpose(S_star)"
   ]
  },
  {
   "cell_type": "code",
   "execution_count": 12,
   "metadata": {},
   "outputs": [],
   "source": [
    "# function to get v and Sigma from within a 1 year window\n",
    "def get_simulation_params(asset_hist, t, dt):\n",
    "    prices = asset_hist[t: t+252, :]\n",
    "    log_returns = np.diff(np.log(prices), axis=0)\n",
    "    S0 = prices[-1, :]\n",
    "    # v = np.mean(log_returns, axis=0)/dt\n",
    "    Sigma = np.cov(log_returns, rowvar=False)/dt\n",
    "    return S0, Sigma"
   ]
  },
  {
   "cell_type": "code",
   "execution_count": 13,
   "metadata": {},
   "outputs": [],
   "source": [
    "def n_path_sim(asset_hist, Nsim, t, r, dt, p, m, sim_func, var_reduction=None):\n",
    "\n",
    "    paths = None\n",
    "    remaining_steps = m-t\n",
    "\n",
    "    if var_reduction == None:\n",
    "        hist = np.repeat(asset_hist[252: 252+t].T[:, :, np.newaxis], Nsim, axis=2)\n",
    "        hist = np.moveaxis(hist, -1, 0)\n",
    "        paths = np.zeros(shape=(Nsim, p, remaining_steps))\n",
    "        for i in range(Nsim):\n",
    "            S0, Sigma = get_simulation_params(asset_hist, t, dt)\n",
    "            paths[i] = sim_func(S0, r, Sigma, dt, remaining_steps, p)\n",
    "\n",
    "    elif var_reduction == \"av\":\n",
    "        hist = np.repeat(asset_hist[252: 252+t].T[:, :, np.newaxis], Nsim*2, axis=2)\n",
    "        hist = np.moveaxis(hist, -1, 0)\n",
    "        paths = np.zeros(shape=(2 * Nsim, p, remaining_steps))\n",
    "        for i in range(Nsim):\n",
    "            S0, Sigma = get_simulation_params(asset_hist, t, dt)\n",
    "            paths[i], paths[Nsim + i] = sim_func(S0, r, Sigma, dt, remaining_steps, p)\n",
    "    \n",
    "    elif var_reduction == \"ss\":\n",
    "        n_stratas = 5  # hardcode number of stratas (we will not vary)\n",
    "        hist = np.repeat(asset_hist[252: 252+t].T[:, :, np.newaxis], Nsim, axis=2)\n",
    "        hist = np.moveaxis(hist, -1, 0)\n",
    "        paths = np.zeros(shape=(Nsim, p, remaining_steps))\n",
    "        for i in range(Nsim):\n",
    "            S0, Sigma = get_simulation_params(asset_hist, t, dt)\n",
    "            paths[i] = sim_func(S0, r, Sigma, dt, remaining_steps, p, n_stratas)\n",
    "    \n",
    "    elif var_reduction == \"emc\":\n",
    "        hist = np.repeat(asset_hist[252: 252+t].T[:, :, np.newaxis], Nsim, axis=2)\n",
    "        hist = np.moveaxis(hist, -1, 0)\n",
    "        paths = np.zeros(shape=(Nsim, p, remaining_steps))\n",
    "        for i in range(Nsim):\n",
    "            S0, Sigma = get_simulation_params(asset_hist, t, dt)\n",
    "            paths[i] = sim_func(S0, r, Sigma, dt, remaining_steps, p)\n",
    "\n",
    "    # get historical prices up to current time step\n",
    "    paths = np.concatenate((hist, paths), axis=2)\n",
    "    return paths\n"
   ]
  },
  {
   "cell_type": "code",
   "execution_count": 30,
   "metadata": {},
   "outputs": [],
   "source": [
    "def n_path_sim_greeks(asset_hist, Nsim, t, r, dt, p, m, h_, sim_func, z):\n",
    "\n",
    "    remaining_steps = m-t\n",
    "    paths = np.zeros(shape=(9, Nsim, p, remaining_steps))\n",
    "    for i in range(Nsim):\n",
    "        S0, Sigma = get_simulation_params(asset_hist, t, dt)\n",
    "        paths[0][i] = sim_func(S0, r, Sigma, dt, remaining_steps, p, z)\n",
    "    for k in range(1, 8, 2):\n",
    "        for j, h in enumerate([1 - h_, 1 + h_]):\n",
    "            for i in range(Nsim):\n",
    "                S0, Sigma = get_simulation_params(asset_hist, t, dt)\n",
    "                if k == 1:\n",
    "                    paths[k + j][i] = sim_func(S0 * h, r, Sigma, dt, remaining_steps, p, z)\n",
    "                elif k == 3:\n",
    "                    paths[k + j][i] = sim_func(S0, r, Sigma * h, dt, remaining_steps, p, z)\n",
    "                elif k == 5:\n",
    "                    paths[k + j][i] = sim_func(S0, r, Sigma, dt * h, remaining_steps, p, z)\n",
    "                else:\n",
    "                    paths[k + j][i] = sim_func(S0, r * h, Sigma, dt, remaining_steps, p, z)\n",
    "\n",
    "    return paths\n"
   ]
  },
  {
   "cell_type": "code",
   "execution_count": 15,
   "metadata": {},
   "outputs": [],
   "source": [
    "def calc_rates(t, m, rates):\n",
    "    if t + 251 < len(rates):\n",
    "        rates_today = rates[t + 251]\n",
    "    else:\n",
    "        rates_today = rates[-1]\n",
    "    time_frame = np.array([21, 42, 63, 126, 252, 504])\n",
    "    return np.interp(40, time_frame, rates_today)"
   ]
  },
  {
   "cell_type": "markdown",
   "metadata": {},
   "source": [
    "# Run Simulations"
   ]
  },
  {
   "cell_type": "code",
   "execution_count": 16,
   "metadata": {},
   "outputs": [
    {
     "data": {
      "text/html": [
       "<div>\n",
       "<style scoped>\n",
       "    .dataframe tbody tr th:only-of-type {\n",
       "        vertical-align: middle;\n",
       "    }\n",
       "\n",
       "    .dataframe tbody tr th {\n",
       "        vertical-align: top;\n",
       "    }\n",
       "\n",
       "    .dataframe thead th {\n",
       "        text-align: right;\n",
       "    }\n",
       "</style>\n",
       "<table border=\"1\" class=\"dataframe\">\n",
       "  <thead>\n",
       "    <tr style=\"text-align: right;\">\n",
       "      <th></th>\n",
       "      <th>CVX</th>\n",
       "      <th>UNH</th>\n",
       "      <th>XOM</th>\n",
       "    </tr>\n",
       "    <tr>\n",
       "      <th>Date</th>\n",
       "      <th></th>\n",
       "      <th></th>\n",
       "      <th></th>\n",
       "    </tr>\n",
       "  </thead>\n",
       "  <tbody>\n",
       "    <tr>\n",
       "      <th>2020-05-26</th>\n",
       "      <td>93.300003</td>\n",
       "      <td>294.890015</td>\n",
       "      <td>45.910000</td>\n",
       "    </tr>\n",
       "    <tr>\n",
       "      <th>2020-05-27</th>\n",
       "      <td>93.900002</td>\n",
       "      <td>303.769989</td>\n",
       "      <td>46.240002</td>\n",
       "    </tr>\n",
       "    <tr>\n",
       "      <th>2020-05-28</th>\n",
       "      <td>90.870003</td>\n",
       "      <td>303.970001</td>\n",
       "      <td>45.040001</td>\n",
       "    </tr>\n",
       "    <tr>\n",
       "      <th>2020-05-29</th>\n",
       "      <td>91.699997</td>\n",
       "      <td>304.850006</td>\n",
       "      <td>45.470001</td>\n",
       "    </tr>\n",
       "    <tr>\n",
       "      <th>2020-06-01</th>\n",
       "      <td>92.790001</td>\n",
       "      <td>305.929993</td>\n",
       "      <td>46.279999</td>\n",
       "    </tr>\n",
       "  </tbody>\n",
       "</table>\n",
       "</div>"
      ],
      "text/plain": [
       "                  CVX         UNH        XOM\n",
       "Date                                        \n",
       "2020-05-26  93.300003  294.890015  45.910000\n",
       "2020-05-27  93.900002  303.769989  46.240002\n",
       "2020-05-28  90.870003  303.970001  45.040001\n",
       "2020-05-29  91.699997  304.850006  45.470001\n",
       "2020-06-01  92.790001  305.929993  46.279999"
      ]
     },
     "execution_count": 16,
     "metadata": {},
     "output_type": "execute_result"
    }
   ],
   "source": [
    "assets_df = pd.read_csv(\"data/assets.csv\", index_col='Date', parse_dates=True)\n",
    "assets_df.head()"
   ]
  },
  {
   "cell_type": "code",
   "execution_count": 17,
   "metadata": {},
   "outputs": [
    {
     "data": {
      "text/html": [
       "<div>\n",
       "<style scoped>\n",
       "    .dataframe tbody tr th:only-of-type {\n",
       "        vertical-align: middle;\n",
       "    }\n",
       "\n",
       "    .dataframe tbody tr th {\n",
       "        vertical-align: top;\n",
       "    }\n",
       "\n",
       "    .dataframe thead th {\n",
       "        text-align: right;\n",
       "    }\n",
       "</style>\n",
       "<table border=\"1\" class=\"dataframe\">\n",
       "  <thead>\n",
       "    <tr style=\"text-align: right;\">\n",
       "      <th></th>\n",
       "      <th>1 Mo</th>\n",
       "      <th>2 Mo</th>\n",
       "      <th>3 Mo</th>\n",
       "      <th>6 Mo</th>\n",
       "      <th>1 Yr</th>\n",
       "      <th>2 Yr</th>\n",
       "    </tr>\n",
       "    <tr>\n",
       "      <th>Date</th>\n",
       "      <th></th>\n",
       "      <th></th>\n",
       "      <th></th>\n",
       "      <th></th>\n",
       "      <th></th>\n",
       "      <th></th>\n",
       "    </tr>\n",
       "  </thead>\n",
       "  <tbody>\n",
       "    <tr>\n",
       "      <th>2020-05-26</th>\n",
       "      <td>0.10</td>\n",
       "      <td>0.12</td>\n",
       "      <td>0.14</td>\n",
       "      <td>0.17</td>\n",
       "      <td>0.17</td>\n",
       "      <td>0.18</td>\n",
       "    </tr>\n",
       "    <tr>\n",
       "      <th>2020-05-27</th>\n",
       "      <td>0.11</td>\n",
       "      <td>0.14</td>\n",
       "      <td>0.15</td>\n",
       "      <td>0.17</td>\n",
       "      <td>0.18</td>\n",
       "      <td>0.19</td>\n",
       "    </tr>\n",
       "    <tr>\n",
       "      <th>2020-05-28</th>\n",
       "      <td>0.14</td>\n",
       "      <td>0.15</td>\n",
       "      <td>0.15</td>\n",
       "      <td>0.18</td>\n",
       "      <td>0.17</td>\n",
       "      <td>0.17</td>\n",
       "    </tr>\n",
       "    <tr>\n",
       "      <th>2020-05-29</th>\n",
       "      <td>0.13</td>\n",
       "      <td>0.14</td>\n",
       "      <td>0.14</td>\n",
       "      <td>0.18</td>\n",
       "      <td>0.17</td>\n",
       "      <td>0.16</td>\n",
       "    </tr>\n",
       "    <tr>\n",
       "      <th>2020-06-01</th>\n",
       "      <td>0.12</td>\n",
       "      <td>0.14</td>\n",
       "      <td>0.14</td>\n",
       "      <td>0.18</td>\n",
       "      <td>0.17</td>\n",
       "      <td>0.14</td>\n",
       "    </tr>\n",
       "  </tbody>\n",
       "</table>\n",
       "</div>"
      ],
      "text/plain": [
       "            1 Mo  2 Mo  3 Mo  6 Mo  1 Yr  2 Yr\n",
       "Date                                          \n",
       "2020-05-26  0.10  0.12  0.14  0.17  0.17  0.18\n",
       "2020-05-27  0.11  0.14  0.15  0.17  0.18  0.19\n",
       "2020-05-28  0.14  0.15  0.15  0.18  0.17  0.17\n",
       "2020-05-29  0.13  0.14  0.14  0.18  0.17  0.16\n",
       "2020-06-01  0.12  0.14  0.14  0.18  0.17  0.14"
      ]
     },
     "execution_count": 17,
     "metadata": {},
     "output_type": "execute_result"
    }
   ],
   "source": [
    "rates_df = pd.read_csv(\"data/rates.csv\", index_col='Date', parse_dates=True)\n",
    "rates_df.head()"
   ]
  },
  {
   "cell_type": "code",
   "execution_count": 18,
   "metadata": {},
   "outputs": [
    {
     "data": {
      "text/html": [
       "<div>\n",
       "<style scoped>\n",
       "    .dataframe tbody tr th:only-of-type {\n",
       "        vertical-align: middle;\n",
       "    }\n",
       "\n",
       "    .dataframe tbody tr th {\n",
       "        vertical-align: top;\n",
       "    }\n",
       "\n",
       "    .dataframe thead th {\n",
       "        text-align: right;\n",
       "    }\n",
       "</style>\n",
       "<table border=\"1\" class=\"dataframe\">\n",
       "  <thead>\n",
       "    <tr style=\"text-align: right;\">\n",
       "      <th></th>\n",
       "      <th>Date</th>\n",
       "      <th>Price</th>\n",
       "    </tr>\n",
       "  </thead>\n",
       "  <tbody>\n",
       "    <tr>\n",
       "      <th>0</th>\n",
       "      <td>2021-06-02 00:00:00</td>\n",
       "      <td>1010.4</td>\n",
       "    </tr>\n",
       "    <tr>\n",
       "      <th>1</th>\n",
       "      <td>2021-06-03 00:00:00</td>\n",
       "      <td>1010.4</td>\n",
       "    </tr>\n",
       "    <tr>\n",
       "      <th>2</th>\n",
       "      <td>2021-06-04 00:00:00</td>\n",
       "      <td>1010.4</td>\n",
       "    </tr>\n",
       "    <tr>\n",
       "      <th>3</th>\n",
       "      <td>2021-06-07 00:00:00</td>\n",
       "      <td>1010.4</td>\n",
       "    </tr>\n",
       "    <tr>\n",
       "      <th>4</th>\n",
       "      <td>2021-06-08 00:00:00</td>\n",
       "      <td>1010.4</td>\n",
       "    </tr>\n",
       "  </tbody>\n",
       "</table>\n",
       "</div>"
      ],
      "text/plain": [
       "                  Date   Price\n",
       "0  2021-06-02 00:00:00  1010.4\n",
       "1  2021-06-03 00:00:00  1010.4\n",
       "2  2021-06-04 00:00:00  1010.4\n",
       "3  2021-06-07 00:00:00  1010.4\n",
       "4  2021-06-08 00:00:00  1010.4"
      ]
     },
     "execution_count": 18,
     "metadata": {},
     "output_type": "execute_result"
    }
   ],
   "source": [
    "actual_prices = pd.read_csv(\"data/actual.csv\")\n",
    "actual_prices.head()"
   ]
  },
  {
   "cell_type": "code",
   "execution_count": 19,
   "metadata": {},
   "outputs": [],
   "source": [
    "# Create a calendar\n",
    "nyse = mcal.get_calendar('NYSE')\n",
    "\n",
    "# set vars for product lifetime\n",
    "initial_fixing = pd.to_datetime(\"2021-06-02\")\n",
    "maturity = pd.to_datetime(\"2022-11-29\")\n",
    "lifetime = nyse.schedule(start_date=initial_fixing, end_date=maturity).index\n",
    "\n",
    "# if using cupy, move data to GPU\n",
    "asset_hist = np.asarray(assets_df.loc[\"2020-06-01\":].to_numpy())\n",
    "rates = np.asarray(rates_df.loc[\"2020-06-01\":].to_numpy()) / 100\n",
    "\n",
    "# gathered from product description\n",
    "K = np.array([103.87, 413.05, 58.26])\n",
    "Barrier = np.array([62.322, 247.830, 34.956])\n",
    "# ratio = np.array([9.6274, 2.4210, 17.1644])\n",
    "\n",
    "asset_hist = asset_hist / K\n",
    "Barrier = Barrier / K\n",
    "K = K / K\n",
    "\n",
    "m = len(lifetime)  # no of days product is active for \n",
    "T = m/252 # period in terms of no. of financial years\n",
    "dt = 1/252  # daily increment\n",
    "\n",
    "simulations = [\n",
    "    (multi_asset_GBM, None), \n",
    "    (multi_asset_GBM_av, \"av\"), \n",
    "    (multi_asset_GBM_ss, \"ss\"),\n",
    "    (multi_asset_GBM_emc, \"emc\")\n",
    "]"
   ]
  },
  {
   "cell_type": "code",
   "execution_count": 20,
   "metadata": {},
   "outputs": [
    {
     "data": {
      "text/plain": [
       "<AxesSubplot: xlabel='Date'>"
      ]
     },
     "execution_count": 20,
     "metadata": {},
     "output_type": "execute_result"
    },
    {
     "data": {
      "image/png": "[encoded data removed]",
      "text/plain": [
       "<Figure size 640x480 with 1 Axes>"
      ]
     },
     "metadata": {},
     "output_type": "display_data"
    }
   ],
   "source": [
    "assets_df.loc[lifetime[0]:].plot()"
   ]
  },
  {
   "cell_type": "code",
   "execution_count": 21,
   "metadata": {},
   "outputs": [],
   "source": [
    "S0, Sigma = get_simulation_params(asset_hist, 30, dt)\n",
    "test_paths = multi_asset_GBM(S0, 0.04, Sigma, dt, m-30, 3)"
   ]
  },
  {
   "cell_type": "code",
   "execution_count": 22,
   "metadata": {},
   "outputs": [
    {
     "data": {
      "text/html": [
       "<div>\n",
       "<style scoped>\n",
       "    .dataframe tbody tr th:only-of-type {\n",
       "        vertical-align: middle;\n",
       "    }\n",
       "\n",
       "    .dataframe tbody tr th {\n",
       "        vertical-align: top;\n",
       "    }\n",
       "\n",
       "    .dataframe thead th {\n",
       "        text-align: right;\n",
       "    }\n",
       "</style>\n",
       "<table border=\"1\" class=\"dataframe\">\n",
       "  <thead>\n",
       "    <tr style=\"text-align: right;\">\n",
       "      <th></th>\n",
       "      <th>Stock 1</th>\n",
       "      <th>stock 2</th>\n",
       "      <th>stock 3</th>\n",
       "    </tr>\n",
       "  </thead>\n",
       "  <tbody>\n",
       "    <tr>\n",
       "      <th>0</th>\n",
       "      <td>1.000578</td>\n",
       "      <td>1.013291</td>\n",
       "      <td>1.044971</td>\n",
       "    </tr>\n",
       "    <tr>\n",
       "      <th>1</th>\n",
       "      <td>0.982486</td>\n",
       "      <td>1.018867</td>\n",
       "      <td>1.015548</td>\n",
       "    </tr>\n",
       "    <tr>\n",
       "      <th>2</th>\n",
       "      <td>0.985753</td>\n",
       "      <td>1.021289</td>\n",
       "      <td>1.021924</td>\n",
       "    </tr>\n",
       "    <tr>\n",
       "      <th>3</th>\n",
       "      <td>1.011728</td>\n",
       "      <td>1.025598</td>\n",
       "      <td>1.030183</td>\n",
       "    </tr>\n",
       "    <tr>\n",
       "      <th>4</th>\n",
       "      <td>0.995527</td>\n",
       "      <td>1.040721</td>\n",
       "      <td>1.021112</td>\n",
       "    </tr>\n",
       "  </tbody>\n",
       "</table>\n",
       "</div>"
      ],
      "text/plain": [
       "    Stock 1   stock 2   stock 3\n",
       "0  1.000578  1.013291  1.044971\n",
       "1  0.982486  1.018867  1.015548\n",
       "2  0.985753  1.021289  1.021924\n",
       "3  1.011728  1.025598  1.030183\n",
       "4  0.995527  1.040721  1.021112"
      ]
     },
     "execution_count": 22,
     "metadata": {},
     "output_type": "execute_result"
    }
   ],
   "source": [
    "test_df = pd.DataFrame(data=test_paths.T, columns=[\"Stock 1\", \"stock 2\", \"stock 3\"])\n",
    "test_df.head()"
   ]
  },
  {
   "cell_type": "code",
   "execution_count": 23,
   "metadata": {},
   "outputs": [
    {
     "data": {
      "application/vnd.plotly.v1+json": {
       "config": {
        "plotlyServerURL": "https://plot.ly"
       },
       "data": [
        {
         "hovertemplate": "variable=Stock 1<br>index=%{x}<br>value=%{y}<extra></extra>",
         "legendgroup": "Stock 1",
         "line": {
          "color": "#636efa",
          "dash": "solid"
         },
         "marker": {
          "symbol": "circle"
         },
         "mode": "lines",
         "name": "Stock 1",
         "showlegend": true,
         "type": "scattergl",
         "x": [
          0,
          1,
          2,
          3,
          4,
          5,
          6,
          7,
          8,
          9,
          10,
          11,
          12,
          13,
          14,
          15,
          16,
          17,
          18,
          19,
          20,
          21,
          22,
          23,
          24,
          25,
          26,
          27,
          28,
          29,
          30,
          31,
          32,
          33,
          34,
          35,
          36,
          37,
          38,
          39,
          40,
          41,
          42,
          43,
          44,
          45,
          46,
          47,
          48,
          49,
          50,
          51,
          52,
          53,
          54,
          55,
          56,
          57,
          58,
          59,
          60,
          61,
          62,
          63,
          64,
          65,
          66,
          67,
          68,
          69,
          70,
          71,
          72,
          73,
          74,
          75,
          76,
          77,
          78,
          79,
          80,
          81,
          82,
          83,
          84,
          85,
          86,
          87,
          88,
          89,
          90,
          91,
          92,
          93,
          94,
          95,
          96,
          97,
          98,
          99,
          100,
          101,
          102,
          103,
          104,
          105,
          106,
          107,
          108,
          109,
          110,
          111,
          112,
          113,
          114,
          115,
          116,
          117,
          118,
          119,
          120,
          121,
          122,
          123,
          124,
          125,
          126,
          127,
          128,
          129,
          130,
          131,
          132,
          133,
          134,
          135,
          136,
          137,
          138,
          139,
          140,
          141,
          142,
          143,
          144,
          145,
          146,
          147,
          148,
          149,
          150,
          151,
          152,
          153,
          154,
          155,
          156,
          157,
          158,
          159,
          160,
          161,
          162,
          163,
          164,
          165,
          166,
          167,
          168,
          169,
          170,
          171,
          172,
          173,
          174,
          175,
          176,
          177,
          178,
          179,
          180,
          181,
          182,
          183,
          184,
          185,
          186,
          187,
          188,
          189,
          190,
          191,
          192,
          193,
          194,
          195,
          196,
          197,
          198,
          199,
          200,
          201,
          202,
          203,
          204,
          205,
          206,
          207,
          208,
          209,
          210,
          211,
          212,
          213,
          214,
          215,
          216,
          217,
          218,
          219,
          220,
          221,
          222,
          223,
          224,
          225,
          226,
          227,
          228,
          229,
          230,
          231,
          232,
          233,
          234,
          235,
          236,
          237,
          238,
          239,
          240,
          241,
          242,
          243,
          244,
          245,
          246,
          247,
          248,
          249,
          250,
          251,
          252,
          253,
          254,
          255,
          256,
          257,
          258,
          259,
          260,
          261,
          262,
          263,
          264,
          265,
          266,
          267,
          268,
          269,
          270,
          271,
          272,
          273,
          274,
          275,
          276,
          277,
          278,
          279,
          280,
          281,
          282,
          283,
          284,
          285,
          286,
          287,
          288,
          289,
          290,
          291,
          292,
          293,
          294,
          295,
          296,
          297,
          298,
          299,
          300,
          301,
          302,
          303,
          304,
          305,
          306,
          307,
          308,
          309,
          310,
          311,
          312,
          313,
          314,
          315,
          316,
          317,
          318,
          319,
          320,
          321,
          322,
          323,
          324,
          325,
          326,
          327,
          328,
          329,
          330,
          331,
          332,
          333,
          334,
          335,
          336,
          337,
          338,
          339,
          340,
          341,
          342,
          343,
          344,
          345,
          346,
          347
         ],
         "xaxis": "x",
         "y": [
          1.0005776451333397,
          0.9824861417255023,
          0.9857527742058202,
          1.0117282159713328,
          0.9955266824859264,
          0.9702858274632543,
          0.982799602853227,
          1.0169246664694402,
          1.017700753587007,
          1.0391094800354599,
          1.0682961788814307,
          1.061396524610562,
          1.05564036312334,
          1.0531785674982808,
          1.0440428076530246,
          1.0648339981481567,
          1.0245298238118705,
          1.0404290986278437,
          1.0498203894100082,
          1.0438564030376811,
          1.0277541621134596,
          1.033184301694924,
          1.0438568517912314,
          1.0184758429764043,
          0.9759057325192699,
          0.9938401547756714,
          1.0074371203396655,
          1.005225489322867,
          1.001968326525433,
          1.0206664116043556,
          0.9944089174930076,
          0.9802843204451682,
          0.9983027727313333,
          0.9564107761743255,
          0.9592506457370255,
          0.9767278395303501,
          0.9617697476379482,
          0.9958483986660551,
          0.9752873283284642,
          0.9291690692097576,
          0.9417432984761763,
          0.9483034084138261,
          0.9507086648258609,
          0.9065504503104305,
          0.8989183279574431,
          0.8870513006993995,
          0.852839626603876,
          0.8759082104768156,
          0.8859774409818432,
          0.887601311538674,
          0.8613232478382448,
          0.8628465911751824,
          0.8767309937975384,
          0.887941717121231,
          0.8958738717852955,
          0.9093736152519993,
          0.9116471275990009,
          0.9253649290701829,
          0.9240113379263536,
          0.9187211800207644,
          0.9556653091730897,
          0.9341253856982562,
          0.9215342577538989,
          0.9091331493884182,
          0.8751094758203488,
          0.8828734780927263,
          0.8956456577242891,
          0.8600944122377052,
          0.8412672743657884,
          0.8476594330535775,
          0.8180621618595686,
          0.7801826660999801,
          0.7859825622461735,
          0.7917494222443717,
          0.7798973848360425,
          0.7463383275819355,
          0.7547138523135614,
          0.7332578419678836,
          0.7296981590127543,
          0.7360726358342511,
          0.7433525936241522,
          0.7660333830821878,
          0.747168105795004,
          0.7596315646809051,
          0.7570703517211088,
          0.7625892501357394,
          0.7493361832217614,
          0.7285044330022283,
          0.7310423778998622,
          0.7444165541559677,
          0.734691965299788,
          0.7470203734924855,
          0.7526508641079598,
          0.7516891671207122,
          0.7685175494732647,
          0.7696615241311123,
          0.7862506867681314,
          0.7957922175920404,
          0.8164979695525231,
          0.8390319100613869,
          0.8564089838671689,
          0.8529674349539493,
          0.8355374299636615,
          0.8399548264602251,
          0.8245628134290895,
          0.8172045847888628,
          0.8265218875111385,
          0.840906616012545,
          0.8563284331340361,
          0.886696858474456,
          0.8933422304619334,
          0.8752766102838535,
          0.8551171671315104,
          0.8596910135623568,
          0.8317574715631127,
          0.8411074463725884,
          0.8555066487743531,
          0.8375668409653948,
          0.8024538495374374,
          0.8075902898863782,
          0.8103106097607339,
          0.8100079683851065,
          0.7763910234874885,
          0.7644196880683639,
          0.7493886701788453,
          0.7385717646300387,
          0.7119271890955161,
          0.7028904563426625,
          0.7170863261161117,
          0.6959974358849018,
          0.6717732365775173,
          0.6639908149476738,
          0.6707991734492087,
          0.6890561526146363,
          0.6874835702641537,
          0.6925107370880257,
          0.6992834372084363,
          0.686166266759536,
          0.6856423020585202,
          0.6937913203409655,
          0.6873467035859501,
          0.6777233849878543,
          0.6586197304503592,
          0.6520532147225561,
          0.655529047282835,
          0.6522641782537509,
          0.6521690416396807,
          0.6692656708244455,
          0.6533248112761814,
          0.6564421338124328,
          0.6356853842571202,
          0.6354957613785351,
          0.6295525950471145,
          0.6166387030465784,
          0.6341185253871198,
          0.6300037374872641,
          0.6306411122031321,
          0.6257452871704315,
          0.631849814836722,
          0.6321959044305442,
          0.6298643383411255,
          0.6245134275371735,
          0.6056698007795878,
          0.6246348339459059,
          0.6217491497463988,
          0.6375294517569472,
          0.6398388065389551,
          0.6110985277083528,
          0.6063271129653353,
          0.5990375769200217,
          0.6175930933782284,
          0.6217733135535136,
          0.6261438012043482,
          0.62033591910626,
          0.6205270694298309,
          0.6326479848031804,
          0.6423218816028216,
          0.6430988092895021,
          0.6343345365904749,
          0.6406848902171317,
          0.6266127070361972,
          0.6213752089896712,
          0.6225822994250659,
          0.6423982506281353,
          0.6277702836914032,
          0.6283669868784846,
          0.610075718113646,
          0.6131061620553375,
          0.6026245675741377,
          0.6084669462032128,
          0.6320300449319648,
          0.6231650922859922,
          0.6088077375772865,
          0.6117007785247036,
          0.6258439110336551,
          0.6004138441361249,
          0.5899890128538646,
          0.5928304336148655,
          0.5885457645711074,
          0.5911360754164192,
          0.5963470973986081,
          0.5993659814934467,
          0.6010213005321599,
          0.6021387748597488,
          0.6001348981792823,
          0.6024889240145169,
          0.5967004928573328,
          0.6003360629189144,
          0.6052568269745223,
          0.6016652791799233,
          0.60283140482546,
          0.5957752278630175,
          0.5742294672726249,
          0.5676214865162907,
          0.567403309823808,
          0.5603281956235466,
          0.5571818386619009,
          0.5590472020578768,
          0.5620130478740043,
          0.5728693419092721,
          0.5788881505312728,
          0.5791642219618816,
          0.5509047576289235,
          0.5690295921931504,
          0.556511281036165,
          0.5365697633023537,
          0.5432623115611128,
          0.5359016098842623,
          0.5364606713931899,
          0.5121303798628721,
          0.5036658151816783,
          0.4943164442610611,
          0.4959808485884604,
          0.5025789049668874,
          0.5199333104732876,
          0.5182191759071006,
          0.5119220394464987,
          0.5054501635299034,
          0.5014484512487135,
          0.48667130100290756,
          0.49132190655418456,
          0.48584369675076344,
          0.480141158394625,
          0.46712962984749984,
          0.48942471412302163,
          0.48804847346649766,
          0.48784868356060374,
          0.4896269490543399,
          0.4842457618161862,
          0.47990649878363695,
          0.4813683935434526,
          0.48549240357644147,
          0.48536841255925034,
          0.48976731558163034,
          0.5045106156909079,
          0.5204053425775002,
          0.5293235692079378,
          0.5292740976996303,
          0.5490100694865728,
          0.5478215621987993,
          0.5442977569363714,
          0.5444742800945647,
          0.5498688771825544,
          0.5582657679025071,
          0.5567514321339718,
          0.5671560663256922,
          0.5808831234117701,
          0.5989093863969374,
          0.5930511289243043,
          0.5882969445502368,
          0.6065177890651655,
          0.5990121818929249,
          0.5906781797606543,
          0.6012425887465581,
          0.6061736915761512,
          0.5977245174769085,
          0.6110855452716604,
          0.6056017417071228,
          0.6066653450386044,
          0.6171693203357647,
          0.614458972005196,
          0.6055717386242214,
          0.6045326052724983,
          0.6292641153488469,
          0.6245042321952429,
          0.6215118233101738,
          0.6243829929202656,
          0.6330761649129204,
          0.6377960145044296,
          0.6500103430464272,
          0.6523897487097549,
          0.6570747123340909,
          0.6556526335386913,
          0.6619515790629208,
          0.6642692723967875,
          0.7014396679388378,
          0.6832330202425224,
          0.6943720167324661,
          0.6813243163068734,
          0.6730906290831731,
          0.6721625899954118,
          0.6726711555829668,
          0.6755878027225964,
          0.6986096935539098,
          0.7131397502482028,
          0.7013399989113868,
          0.7162072539054495,
          0.7070011282040538,
          0.6921081539329896,
          0.7005349754317828,
          0.7206531142076351,
          0.7273818364503833,
          0.7218278196077959,
          0.7267028702840582,
          0.7313026423866718,
          0.7280226214070633,
          0.7172087852835692,
          0.7190721064664565,
          0.7289750353752736,
          0.7312102858569819,
          0.7476550703286197,
          0.7467922007852369,
          0.7267846478200343,
          0.7253513326441032,
          0.7275382314045237,
          0.7282518980487275,
          0.7320693415329266,
          0.741781466022163,
          0.7375420266860763,
          0.736337555888113,
          0.7564914436358929,
          0.7587617308412091,
          0.7851960584016567,
          0.7913924847650216,
          0.7913172301782797,
          0.786436924006098,
          0.7714757310531826,
          0.778914445842178,
          0.7697394499088084,
          0.7737432957247476,
          0.7590798148199285,
          0.7586931763304636,
          0.7584107720220978,
          0.760683293859142,
          0.7711057423281854,
          0.7641442286559592,
          0.7459104913102041,
          0.7489632365790483
         ],
         "yaxis": "y"
        },
        {
         "hovertemplate": "variable=stock 2<br>index=%{x}<br>value=%{y}<extra></extra>",
         "legendgroup": "stock 2",
         "line": {
          "color": "#EF553B",
          "dash": "solid"
         },
         "marker": {
          "symbol": "circle"
         },
         "mode": "lines",
         "name": "stock 2",
         "showlegend": true,
         "type": "scattergl",
         "x": [
          0,
          1,
          2,
          3,
          4,
          5,
          6,
          7,
          8,
          9,
          10,
          11,
          12,
          13,
          14,
          15,
          16,
          17,
          18,
          19,
          20,
          21,
          22,
          23,
          24,
          25,
          26,
          27,
          28,
          29,
          30,
          31,
          32,
          33,
          34,
          35,
          36,
          37,
          38,
          39,
          40,
          41,
          42,
          43,
          44,
          45,
          46,
          47,
          48,
          49,
          50,
          51,
          52,
          53,
          54,
          55,
          56,
          57,
          58,
          59,
          60,
          61,
          62,
          63,
          64,
          65,
          66,
          67,
          68,
          69,
          70,
          71,
          72,
          73,
          74,
          75,
          76,
          77,
          78,
          79,
          80,
          81,
          82,
          83,
          84,
          85,
          86,
          87,
          88,
          89,
          90,
          91,
          92,
          93,
          94,
          95,
          96,
          97,
          98,
          99,
          100,
          101,
          102,
          103,
          104,
          105,
          106,
          107,
          108,
          109,
          110,
          111,
          112,
          113,
          114,
          115,
          116,
          117,
          118,
          119,
          120,
          121,
          122,
          123,
          124,
          125,
          126,
          127,
          128,
          129,
          130,
          131,
          132,
          133,
          134,
          135,
          136,
          137,
          138,
          139,
          140,
          141,
          142,
          143,
          144,
          145,
          146,
          147,
          148,
          149,
          150,
          151,
          152,
          153,
          154,
          155,
          156,
          157,
          158,
          159,
          160,
          161,
          162,
          163,
          164,
          165,
          166,
          167,
          168,
          169,
          170,
          171,
          172,
          173,
          174,
          175,
          176,
          177,
          178,
          179,
          180,
          181,
          182,
          183,
          184,
          185,
          186,
          187,
          188,
          189,
          190,
          191,
          192,
          193,
          194,
          195,
          196,
          197,
          198,
          199,
          200,
          201,
          202,
          203,
          204,
          205,
          206,
          207,
          208,
          209,
          210,
          211,
          212,
          213,
          214,
          215,
          216,
          217,
          218,
          219,
          220,
          221,
          222,
          223,
          224,
          225,
          226,
          227,
          228,
          229,
          230,
          231,
          232,
          233,
          234,
          235,
          236,
          237,
          238,
          239,
          240,
          241,
          242,
          243,
          244,
          245,
          246,
          247,
          248,
          249,
          250,
          251,
          252,
          253,
          254,
          255,
          256,
          257,
          258,
          259,
          260,
          261,
          262,
          263,
          264,
          265,
          266,
          267,
          268,
          269,
          270,
          271,
          272,
          273,
          274,
          275,
          276,
          277,
          278,
          279,
          280,
          281,
          282,
          283,
          284,
          285,
          286,
          287,
          288,
          289,
          290,
          291,
          292,
          293,
          294,
          295,
          296,
          297,
          298,
          299,
          300,
          301,
          302,
          303,
          304,
          305,
          306,
          307,
          308,
          309,
          310,
          311,
          312,
          313,
          314,
          315,
          316,
          317,
          318,
          319,
          320,
          321,
          322,
          323,
          324,
          325,
          326,
          327,
          328,
          329,
          330,
          331,
          332,
          333,
          334,
          335,
          336,
          337,
          338,
          339,
          340,
          341,
          342,
          343,
          344,
          345,
          346,
          347
         ],
         "xaxis": "x",
         "y": [
          1.0132913908727756,
          1.0188670841376013,
          1.0212892425681837,
          1.0255977594265775,
          1.040720992939465,
          1.0321416322030215,
          1.0481066976047135,
          1.045038134195617,
          1.0340292672475337,
          1.0610677021647479,
          1.0682159696209828,
          1.0782102272620464,
          1.0741028072630037,
          1.0632077404674511,
          1.0647182509702582,
          1.0563499332998538,
          1.0226630012335012,
          1.028122452953439,
          1.0411236618807735,
          1.0368251316818478,
          1.0487372859734774,
          1.0376405932800263,
          1.0425778328199713,
          1.0457378047748298,
          1.0256135597588607,
          1.0129570045637803,
          1.0159013307569351,
          1.0229029972354984,
          1.0300647287219031,
          1.052434190673476,
          1.0798969652427637,
          1.0641061098309288,
          1.0406082460398094,
          1.0299209902721154,
          1.016540562609044,
          1.0171083311770626,
          1.0275227387735333,
          1.0205285496487673,
          1.0235592907186495,
          1.019727938006859,
          0.9967174240832755,
          1.0124661649307638,
          0.994312149225504,
          0.9910775216807136,
          1.004062336614396,
          0.9815123518555396,
          0.9808581578994109,
          0.9998057229921804,
          1.0008218930377453,
          1.0237291248402687,
          0.9979590595438848,
          0.9807581419115624,
          0.9923274487309989,
          1.001475652635428,
          1.009300980940473,
          1.0152194450368803,
          1.0315612995291283,
          1.024894157115837,
          1.0264940837829652,
          1.0195402546468417,
          1.0403442371434817,
          1.0131489868751027,
          1.0086025536742065,
          1.0155484274282265,
          1.0174026801384382,
          1.0122261541448754,
          0.998165613392368,
          1.016894053379042,
          1.0131383828450031,
          1.0101099366675603,
          0.9938709271749243,
          0.9843074865772702,
          0.9721747265374763,
          0.9976681962361956,
          0.9622157949358318,
          0.9668163414670035,
          0.9822392259397519,
          0.9895188576852432,
          0.9987208665358331,
          0.9822743080811585,
          0.9588773449829284,
          0.9727145553740383,
          0.9734977668186778,
          0.958541968211049,
          0.9491742698546721,
          0.9393795185549361,
          0.9369321858917254,
          0.9173904448032821,
          0.9032112330305964,
          0.8964346546860215,
          0.904982592788919,
          0.8944448305659828,
          0.910361411998511,
          0.9221994021162834,
          0.9214294869472548,
          0.9134097482579233,
          0.8990482323521691,
          0.8990240238157201,
          0.8899656465118014,
          0.8814526889638874,
          0.9008406103880721,
          0.9097172429949674,
          0.9219101477498545,
          0.9258447499372461,
          0.942489447086218,
          0.9393855556762599,
          0.9608146892168367,
          0.9680249710624727,
          0.9757363721603068,
          0.9613614159189589,
          0.95905555370674,
          0.9684714580101773,
          0.9360728208245502,
          0.9324557425149338,
          0.9296053508905758,
          0.888812503236012,
          0.8920237427801673,
          0.909018792004722,
          0.9017048243903031,
          0.8935999227394211,
          0.8879809898153012,
          0.8849811934361006,
          0.8535438071379805,
          0.852578755756966,
          0.8473535912253406,
          0.8604571816344404,
          0.8639284884027449,
          0.8521066049965242,
          0.8409738954350465,
          0.8530405704974747,
          0.8506263061871072,
          0.8531346827559191,
          0.8577311250198405,
          0.8490561412989123,
          0.8500358330609193,
          0.8338455416570587,
          0.8189159712215249,
          0.8232684960866532,
          0.826729746547781,
          0.8142453785373851,
          0.8069501032852943,
          0.8123399419690764,
          0.8127115735325374,
          0.8300079194172342,
          0.848457003905147,
          0.8472194578141589,
          0.8619589383246494,
          0.8556618374976588,
          0.8656690237981338,
          0.8730214370877533,
          0.8777287907232305,
          0.8710765291081821,
          0.8786025880222089,
          0.8862822104396579,
          0.8818334857279057,
          0.8957249084515343,
          0.9108708617165879,
          0.9106916233895848,
          0.9105022198043478,
          0.909757922286337,
          0.8899238814208145,
          0.8897293829192849,
          0.8795289853142714,
          0.8906425383187887,
          0.8942938247120531,
          0.8947162795633395,
          0.9054469053807099,
          0.8714150220618315,
          0.8557801520349225,
          0.8539860340679016,
          0.8496425229981078,
          0.8483534847769515,
          0.828251238142515,
          0.8387848099805785,
          0.8372690713698967,
          0.8374497967483032,
          0.834015347719276,
          0.8229851337047601,
          0.827266080425966,
          0.8517456049158849,
          0.8460783932955357,
          0.8373157529675415,
          0.829911825565321,
          0.8363449478858799,
          0.8347329436957712,
          0.8360881394635942,
          0.8400824232098689,
          0.8408875644719056,
          0.8422311283946159,
          0.8501707944832859,
          0.8499534345426281,
          0.8462004396563076,
          0.8519888979718642,
          0.8635590376760093,
          0.8840620164232426,
          0.8748543537146903,
          0.8587425338579582,
          0.8519826943536257,
          0.8541797719807015,
          0.8692803197502476,
          0.8818994222127694,
          0.8957012134878549,
          0.8780449830722887,
          0.8742547476931649,
          0.8761039609572822,
          0.8630442374446775,
          0.855959102412541,
          0.8698859988481539,
          0.8764593978289649,
          0.8639693535659639,
          0.8578001999632794,
          0.8608630750893521,
          0.8459392400158245,
          0.839733018171977,
          0.8247095696217043,
          0.8059135403011808,
          0.8031796521234076,
          0.7988200445273312,
          0.7905343975481905,
          0.8014403902869652,
          0.7820319713609488,
          0.7746922637531696,
          0.7601072754508498,
          0.7616748059433825,
          0.7565223684824052,
          0.7467979624805867,
          0.7399486710248494,
          0.7347711778144967,
          0.7341686737796471,
          0.7383825482649113,
          0.7192975281944768,
          0.7263776394048553,
          0.718149694192192,
          0.7006476956261506,
          0.7127362092339422,
          0.7137724327387526,
          0.6939536132432248,
          0.6968339587650444,
          0.6935667741841689,
          0.6849271213429131,
          0.6870134226920612,
          0.6919399626161015,
          0.6804592438697664,
          0.6873622048843278,
          0.693340654169539,
          0.6976029781719749,
          0.6969861824802407,
          0.6876949018924037,
          0.6796943684174879,
          0.6926229631292924,
          0.7015835368625305,
          0.7099135257816198,
          0.7138971123634843,
          0.7118818344081761,
          0.7247703973867358,
          0.7472202464700652,
          0.7427257333223517,
          0.7449496082596483,
          0.7433656481733161,
          0.7596705375046182,
          0.7742459319187635,
          0.7741285254031369,
          0.769876778581681,
          0.7715581120342255,
          0.7752383723670686,
          0.7857655094872074,
          0.7921333201473757,
          0.7961851322947983,
          0.7911131659418988,
          0.7921062189519126,
          0.7963389430446118,
          0.7932797450381264,
          0.7994905079658204,
          0.8188383116316247,
          0.7943451818664053,
          0.7917839023668733,
          0.8014503207227414,
          0.7923232427705496,
          0.7812489216908796,
          0.7835073842344121,
          0.7908567923232853,
          0.7925585000309879,
          0.786402199125748,
          0.8116924980059418,
          0.8202636450508476,
          0.8207865510814604,
          0.8069418334845609,
          0.8128221280864902,
          0.8156492690131637,
          0.8112442782395234,
          0.7973946319509517,
          0.8081251678989274,
          0.7852547365869132,
          0.7643615948089638,
          0.7488346966328641,
          0.7484506707761136,
          0.7414999762448287,
          0.726458091934904,
          0.7305550186808293,
          0.7440094640639813,
          0.741928414858633,
          0.7271950581488824,
          0.7299036950949194,
          0.7364161811893274,
          0.7386212612384255,
          0.7224180859121265,
          0.7365189382485461,
          0.7220450132632826,
          0.7180470021988099,
          0.7267137673853008,
          0.7276246480621673,
          0.718788552830532,
          0.7086921376470082,
          0.7023603736306614,
          0.7161739422572091,
          0.7138200135647523,
          0.7092417215192688,
          0.7110769781479122,
          0.7082693938320309,
          0.7080312158588064,
          0.6980438054636734,
          0.7034053989134714,
          0.7130158388135491,
          0.70979158306396,
          0.7146834152562783,
          0.713237733953036,
          0.6993565593666862,
          0.698745216927874,
          0.6945395975280204,
          0.7193583429610583,
          0.7278969418223682,
          0.7243731941364234,
          0.7161727580278124,
          0.7233951104011483,
          0.715482340866589,
          0.7091822534809179,
          0.7018431062786694,
          0.7055871596084387,
          0.690602865238318,
          0.6759813937021462,
          0.6695038729139744,
          0.6761008827500007,
          0.6770367332811028,
          0.6767129648721267,
          0.6716731828907391,
          0.6661599010803759,
          0.6616889271428601,
          0.6507924050423156
         ],
         "yaxis": "y"
        },
        {
         "hovertemplate": "variable=stock 3<br>index=%{x}<br>value=%{y}<extra></extra>",
         "legendgroup": "stock 3",
         "line": {
          "color": "#00cc96",
          "dash": "solid"
         },
         "marker": {
          "symbol": "circle"
         },
         "mode": "lines",
         "name": "stock 3",
         "showlegend": true,
         "type": "scattergl",
         "x": [
          0,
          1,
          2,
          3,
          4,
          5,
          6,
          7,
          8,
          9,
          10,
          11,
          12,
          13,
          14,
          15,
          16,
          17,
          18,
          19,
          20,
          21,
          22,
          23,
          24,
          25,
          26,
          27,
          28,
          29,
          30,
          31,
          32,
          33,
          34,
          35,
          36,
          37,
          38,
          39,
          40,
          41,
          42,
          43,
          44,
          45,
          46,
          47,
          48,
          49,
          50,
          51,
          52,
          53,
          54,
          55,
          56,
          57,
          58,
          59,
          60,
          61,
          62,
          63,
          64,
          65,
          66,
          67,
          68,
          69,
          70,
          71,
          72,
          73,
          74,
          75,
          76,
          77,
          78,
          79,
          80,
          81,
          82,
          83,
          84,
          85,
          86,
          87,
          88,
          89,
          90,
          91,
          92,
          93,
          94,
          95,
          96,
          97,
          98,
          99,
          100,
          101,
          102,
          103,
          104,
          105,
          106,
          107,
          108,
          109,
          110,
          111,
          112,
          113,
          114,
          115,
          116,
          117,
          118,
          119,
          120,
          121,
          122,
          123,
          124,
          125,
          126,
          127,
          128,
          129,
          130,
          131,
          132,
          133,
          134,
          135,
          136,
          137,
          138,
          139,
          140,
          141,
          142,
          143,
          144,
          145,
          146,
          147,
          148,
          149,
          150,
          151,
          152,
          153,
          154,
          155,
          156,
          157,
          158,
          159,
          160,
          161,
          162,
          163,
          164,
          165,
          166,
          167,
          168,
          169,
          170,
          171,
          172,
          173,
          174,
          175,
          176,
          177,
          178,
          179,
          180,
          181,
          182,
          183,
          184,
          185,
          186,
          187,
          188,
          189,
          190,
          191,
          192,
          193,
          194,
          195,
          196,
          197,
          198,
          199,
          200,
          201,
          202,
          203,
          204,
          205,
          206,
          207,
          208,
          209,
          210,
          211,
          212,
          213,
          214,
          215,
          216,
          217,
          218,
          219,
          220,
          221,
          222,
          223,
          224,
          225,
          226,
          227,
          228,
          229,
          230,
          231,
          232,
          233,
          234,
          235,
          236,
          237,
          238,
          239,
          240,
          241,
          242,
          243,
          244,
          245,
          246,
          247,
          248,
          249,
          250,
          251,
          252,
          253,
          254,
          255,
          256,
          257,
          258,
          259,
          260,
          261,
          262,
          263,
          264,
          265,
          266,
          267,
          268,
          269,
          270,
          271,
          272,
          273,
          274,
          275,
          276,
          277,
          278,
          279,
          280,
          281,
          282,
          283,
          284,
          285,
          286,
          287,
          288,
          289,
          290,
          291,
          292,
          293,
          294,
          295,
          296,
          297,
          298,
          299,
          300,
          301,
          302,
          303,
          304,
          305,
          306,
          307,
          308,
          309,
          310,
          311,
          312,
          313,
          314,
          315,
          316,
          317,
          318,
          319,
          320,
          321,
          322,
          323,
          324,
          325,
          326,
          327,
          328,
          329,
          330,
          331,
          332,
          333,
          334,
          335,
          336,
          337,
          338,
          339,
          340,
          341,
          342,
          343,
          344,
          345,
          346,
          347
         ],
         "xaxis": "x",
         "y": [
          1.0449708376244422,
          1.0155475471863167,
          1.0219236917950174,
          1.0301832140697658,
          1.0211118214358545,
          0.9931393025157323,
          0.9762578776257289,
          1.016538952492504,
          1.0222277993485442,
          1.0323847031034383,
          1.0621189887404294,
          1.0409268579981683,
          1.0514121805038885,
          1.040656821375935,
          1.0406652307220465,
          1.0544284334143912,
          1.0321538035527835,
          1.0647639302463463,
          1.0656628729760713,
          1.0400860577938784,
          1.0132470418749207,
          1.0081593584397808,
          1.0290988344057166,
          0.9907100250730215,
          0.9373041582988895,
          0.9601310728462057,
          0.95427869026752,
          0.9599731188910914,
          0.9520979457472614,
          0.9628227490547008,
          0.9439377440284595,
          0.9348808819053657,
          0.9474983674669669,
          0.9242055895501483,
          0.9275516278025465,
          0.949057207843736,
          0.9295585218602738,
          0.9712291353695564,
          0.9454104647225385,
          0.8998705696522112,
          0.9161626284640285,
          0.932383945180572,
          0.9554172720011525,
          0.9137635114729041,
          0.9112875681761634,
          0.917210116711233,
          0.8734824540127986,
          0.9000643910862899,
          0.9233284558747809,
          0.9305165752193935,
          0.9029163126414225,
          0.9044259391255982,
          0.9260941128681213,
          0.9373217006946081,
          0.9396958531526834,
          0.9550522368828952,
          0.9329425132528408,
          0.9376748784203542,
          0.9262932996978607,
          0.9401014968366073,
          0.9771831655507238,
          0.9628488540931794,
          0.9489501272949812,
          0.9362965953167146,
          0.9053105443387441,
          0.9131466174973034,
          0.9471954403467215,
          0.897178398633457,
          0.8776560571517866,
          0.8751011482249923,
          0.8533968434519901,
          0.8202108226009451,
          0.8223979558190596,
          0.825973559746426,
          0.8227108401385945,
          0.7905953222281187,
          0.7986332535351633,
          0.7813344224139696,
          0.7844468223409788,
          0.7911347396520326,
          0.7998775962433797,
          0.8266207557772983,
          0.7980060414315087,
          0.8088956176983221,
          0.804408509297785,
          0.8221896406452693,
          0.8079158972073638,
          0.7932729410435639,
          0.8062765396278471,
          0.8123030187961701,
          0.7874120386308516,
          0.8006184101248683,
          0.8078461801569561,
          0.7991050951596876,
          0.8116592276648069,
          0.8219867667489537,
          0.8506015371380362,
          0.8556596609406824,
          0.8784447757023471,
          0.9162686738808177,
          0.9395048002385205,
          0.933706568476804,
          0.9149794985855703,
          0.9122610066136346,
          0.8816716525843289,
          0.8605706887757478,
          0.8644716836638012,
          0.8870649929413204,
          0.8994024602002925,
          0.9249632882297361,
          0.9250532551695916,
          0.9003647163452215,
          0.8979741272855877,
          0.8932705817408828,
          0.8624952407663949,
          0.8750606287059832,
          0.8883516828488671,
          0.8823929386993742,
          0.8476409287968238,
          0.8601931151480522,
          0.8621086032727315,
          0.8717019432440978,
          0.8407840401824169,
          0.8317043419314063,
          0.8183280341725654,
          0.8097699989247239,
          0.7777245998547188,
          0.7661543961493191,
          0.7885992919086632,
          0.7671771414686501,
          0.7434411796684858,
          0.7389355569689174,
          0.749092738977218,
          0.7728291342740429,
          0.7703343371459503,
          0.7815590154796909,
          0.7694659531437266,
          0.7432418499265535,
          0.7359389199162747,
          0.7504706598352127,
          0.7338927991988403,
          0.7317252700105253,
          0.712542846044519,
          0.6933192005173455,
          0.710028168982897,
          0.7057937953334316,
          0.6974330924709273,
          0.7080125664275521,
          0.6971127864076003,
          0.6815127457147135,
          0.6595992769419384,
          0.6587581311619894,
          0.6553068106026455,
          0.6360664450822322,
          0.6515658264737665,
          0.6402503089713817,
          0.635904463914148,
          0.6253173509392131,
          0.638351228993816,
          0.6441731735744103,
          0.640659796758016,
          0.6420104688716447,
          0.6065646449842383,
          0.6263864736791899,
          0.6212463663089856,
          0.6412543780731504,
          0.6424075791141732,
          0.6139234091005686,
          0.6090708736387239,
          0.6080351466377227,
          0.6245634780169216,
          0.6178469292226951,
          0.6120197695208399,
          0.6062722451772284,
          0.6057849547926979,
          0.6146211128663052,
          0.6205176382243738,
          0.6272140905333717,
          0.616725480890461,
          0.6318005551225895,
          0.6186343674117384,
          0.6196300153966167,
          0.6204556071974716,
          0.6418089704600264,
          0.6116041764387621,
          0.6201688218839688,
          0.5916284665901069,
          0.5841907352364563,
          0.5646049905379665,
          0.5790782477380328,
          0.6006505496750723,
          0.5843576720071927,
          0.5555880948792756,
          0.5426613096016497,
          0.5544861499856206,
          0.5308421552415575,
          0.5034870891097254,
          0.5052923851780999,
          0.5009557651482832,
          0.4967509695526274,
          0.4978205186343509,
          0.5049949659570251,
          0.5023235695089431,
          0.5040734225048924,
          0.4992047471679287,
          0.5072341647481327,
          0.5048102323209332,
          0.5103184916494298,
          0.5019858911955571,
          0.5125401191454059,
          0.5026107490254654,
          0.48993949810247606,
          0.46784406051675875,
          0.4602895870281536,
          0.45613561104685224,
          0.4490754697602649,
          0.44264887169736744,
          0.439315167191398,
          0.44706614011272233,
          0.4548840530534951,
          0.4624972524409051,
          0.46404494026401094,
          0.43884545644786954,
          0.45193042918508863,
          0.43863259385827075,
          0.43406481026116495,
          0.4358073018648663,
          0.4334441344736556,
          0.42353901692447193,
          0.40037469595066655,
          0.3936289093188905,
          0.3858083020311577,
          0.3841350949099969,
          0.38967789877687775,
          0.4008753654503418,
          0.3977555093646944,
          0.3949621981761005,
          0.3918636095418014,
          0.38128346014119185,
          0.3700669636191218,
          0.37826632083404355,
          0.37950834953204216,
          0.3764393355562803,
          0.3711389411342683,
          0.3907899362708491,
          0.3863093010346912,
          0.3856715588778393,
          0.3886075421799532,
          0.39251723222645407,
          0.38568017832258333,
          0.38642227297719317,
          0.3900202567652338,
          0.38932693892774023,
          0.3923114787838135,
          0.4043522021760476,
          0.4137753831128116,
          0.4210232584471372,
          0.4186603963928844,
          0.43471515093862384,
          0.4368322865311839,
          0.4355094466324591,
          0.43129492275250164,
          0.4340778922089228,
          0.4478458910808334,
          0.4449081355392221,
          0.46362490480991114,
          0.47353150714502606,
          0.4828979018036196,
          0.47829285362190005,
          0.4714225221279174,
          0.4861426976064721,
          0.47429190491334045,
          0.4608588653088886,
          0.4692395253246749,
          0.4799310790856375,
          0.471679418870088,
          0.4830339609268503,
          0.47951915459807326,
          0.4851602488046385,
          0.4937103549904625,
          0.48979495498861075,
          0.47614202424957097,
          0.4787684622787009,
          0.4944308576844695,
          0.49037597742288935,
          0.48316953983644817,
          0.48433621375739255,
          0.49402311179608577,
          0.49748214025901283,
          0.49734084235895787,
          0.4994325852836734,
          0.5086051549009774,
          0.5115117383812339,
          0.5233548953397917,
          0.5345959277470381,
          0.5644704272259226,
          0.5573156243705139,
          0.5745352201355806,
          0.5614433973437413,
          0.5473227364298605,
          0.5530108187519115,
          0.5560440714838627,
          0.5445727515186768,
          0.5679018836711224,
          0.5778687169652984,
          0.5707723932854961,
          0.5818068715206322,
          0.5755611092493116,
          0.5675813549227265,
          0.5638168692814486,
          0.5791032268120804,
          0.5812480168340326,
          0.5756303175191732,
          0.5759589208251622,
          0.5708480454547995,
          0.5748507628586764,
          0.567153886596591,
          0.5657858127788831,
          0.5864053194771954,
          0.5884860491374175,
          0.5967020658274276,
          0.5984998867123349,
          0.5899783808453032,
          0.5915201089993272,
          0.5970049673820708,
          0.5937710567613946,
          0.5851447144284521,
          0.5884745502475133,
          0.5879060620000374,
          0.582636932466791,
          0.5945257930937485,
          0.5980504518385522,
          0.6210738796821862,
          0.6297082902637805,
          0.6274665385654298,
          0.6181749169959888,
          0.6042881963650193,
          0.6111509697643683,
          0.6044189433184977,
          0.5922324016995951,
          0.5854215911618165,
          0.5764692134653465,
          0.5732529911165993,
          0.5747346178562798,
          0.5901476161829563,
          0.5853609436641961,
          0.5706502244154545,
          0.5665466789676092
         ],
         "yaxis": "y"
        }
       ],
       "layout": {
        "legend": {
         "title": {
          "text": "variable"
         },
         "tracegroupgap": 0
        },
        "margin": {
         "t": 60
        },
        "template": {
         "data": {
          "bar": [
           {
            "error_x": {
             "color": "#2a3f5f"
            },
            "error_y": {
             "color": "#2a3f5f"
            },
            "marker": {
             "line": {
              "color": "#E5ECF6",
              "width": 0.5
             },
             "pattern": {
              "fillmode": "overlay",
              "size": 10,
              "solidity": 0.2
             }
            },
            "type": "bar"
           }
          ],
          "barpolar": [
           {
            "marker": {
             "line": {
              "color": "#E5ECF6",
              "width": 0.5
             },
             "pattern": {
              "fillmode": "overlay",
              "size": 10,
              "solidity": 0.2
             }
            },
            "type": "barpolar"
           }
          ],
          "carpet": [
           {
            "aaxis": {
             "endlinecolor": "#2a3f5f",
             "gridcolor": "white",
             "linecolor": "white",
             "minorgridcolor": "white",
             "startlinecolor": "#2a3f5f"
            },
            "baxis": {
             "endlinecolor": "#2a3f5f",
             "gridcolor": "white",
             "linecolor": "white",
             "minorgridcolor": "white",
             "startlinecolor": "#2a3f5f"
            },
            "type": "carpet"
           }
          ],
          "choropleth": [
           {
            "colorbar": {
             "outlinewidth": 0,
             "ticks": ""
            },
            "type": "choropleth"
           }
          ],
          "contour": [
           {
            "colorbar": {
             "outlinewidth": 0,
             "ticks": ""
            },
            "colorscale": [
             [
              0,
              "#0d0887"
             ],
             [
              0.1111111111111111,
              "#46039f"
             ],
             [
              0.2222222222222222,
              "#7201a8"
             ],
             [
              0.3333333333333333,
              "#9c179e"
             ],
             [
              0.4444444444444444,
              "#bd3786"
             ],
             [
              0.5555555555555556,
              "#d8576b"
             ],
             [
              0.6666666666666666,
              "#ed7953"
             ],
             [
              0.7777777777777778,
              "#fb9f3a"
             ],
             [
              0.8888888888888888,
              "#fdca26"
             ],
             [
              1,
              "#f0f921"
             ]
            ],
            "type": "contour"
           }
          ],
          "contourcarpet": [
           {
            "colorbar": {
             "outlinewidth": 0,
             "ticks": ""
            },
            "type": "contourcarpet"
           }
          ],
          "heatmap": [
           {
            "colorbar": {
             "outlinewidth": 0,
             "ticks": ""
            },
            "colorscale": [
             [
              0,
              "#0d0887"
             ],
             [
              0.1111111111111111,
              "#46039f"
             ],
             [
              0.2222222222222222,
              "#7201a8"
             ],
             [
              0.3333333333333333,
              "#9c179e"
             ],
             [
              0.4444444444444444,
              "#bd3786"
             ],
             [
              0.5555555555555556,
              "#d8576b"
             ],
             [
              0.6666666666666666,
              "#ed7953"
             ],
             [
              0.7777777777777778,
              "#fb9f3a"
             ],
             [
              0.8888888888888888,
              "#fdca26"
             ],
             [
              1,
              "#f0f921"
             ]
            ],
            "type": "heatmap"
           }
          ],
          "heatmapgl": [
           {
            "colorbar": {
             "outlinewidth": 0,
             "ticks": ""
            },
            "colorscale": [
             [
              0,
              "#0d0887"
             ],
             [
              0.1111111111111111,
              "#46039f"
             ],
             [
              0.2222222222222222,
              "#7201a8"
             ],
             [
              0.3333333333333333,
              "#9c179e"
             ],
             [
              0.4444444444444444,
              "#bd3786"
             ],
             [
              0.5555555555555556,
              "#d8576b"
             ],
             [
              0.6666666666666666,
              "#ed7953"
             ],
             [
              0.7777777777777778,
              "#fb9f3a"
             ],
             [
              0.8888888888888888,
              "#fdca26"
             ],
             [
              1,
              "#f0f921"
             ]
            ],
            "type": "heatmapgl"
           }
          ],
          "histogram": [
           {
            "marker": {
             "pattern": {
              "fillmode": "overlay",
              "size": 10,
              "solidity": 0.2
             }
            },
            "type": "histogram"
           }
          ],
          "histogram2d": [
           {
            "colorbar": {
             "outlinewidth": 0,
             "ticks": ""
            },
            "colorscale": [
             [
              0,
              "#0d0887"
             ],
             [
              0.1111111111111111,
              "#46039f"
             ],
             [
              0.2222222222222222,
              "#7201a8"
             ],
             [
              0.3333333333333333,
              "#9c179e"
             ],
             [
              0.4444444444444444,
              "#bd3786"
             ],
             [
              0.5555555555555556,
              "#d8576b"
             ],
             [
              0.6666666666666666,
              "#ed7953"
             ],
             [
              0.7777777777777778,
              "#fb9f3a"
             ],
             [
              0.8888888888888888,
              "#fdca26"
             ],
             [
              1,
              "#f0f921"
             ]
            ],
            "type": "histogram2d"
           }
          ],
          "histogram2dcontour": [
           {
            "colorbar": {
             "outlinewidth": 0,
             "ticks": ""
            },
            "colorscale": [
             [
              0,
              "#0d0887"
             ],
             [
              0.1111111111111111,
              "#46039f"
             ],
             [
              0.2222222222222222,
              "#7201a8"
             ],
             [
              0.3333333333333333,
              "#9c179e"
             ],
             [
              0.4444444444444444,
              "#bd3786"
             ],
             [
              0.5555555555555556,
              "#d8576b"
             ],
             [
              0.6666666666666666,
              "#ed7953"
             ],
             [
              0.7777777777777778,
              "#fb9f3a"
             ],
             [
              0.8888888888888888,
              "#fdca26"
             ],
             [
              1,
              "#f0f921"
             ]
            ],
            "type": "histogram2dcontour"
           }
          ],
          "mesh3d": [
           {
            "colorbar": {
             "outlinewidth": 0,
             "ticks": ""
            },
            "type": "mesh3d"
           }
          ],
          "parcoords": [
           {
            "line": {
             "colorbar": {
              "outlinewidth": 0,
              "ticks": ""
             }
            },
            "type": "parcoords"
           }
          ],
          "pie": [
           {
            "automargin": true,
            "type": "pie"
           }
          ],
          "scatter": [
           {
            "fillpattern": {
             "fillmode": "overlay",
             "size": 10,
             "solidity": 0.2
            },
            "type": "scatter"
           }
          ],
          "scatter3d": [
           {
            "line": {
             "colorbar": {
              "outlinewidth": 0,
              "ticks": ""
             }
            },
            "marker": {
             "colorbar": {
              "outlinewidth": 0,
              "ticks": ""
             }
            },
            "type": "scatter3d"
           }
          ],
          "scattercarpet": [
           {
            "marker": {
             "colorbar": {
              "outlinewidth": 0,
              "ticks": ""
             }
            },
            "type": "scattercarpet"
           }
          ],
          "scattergeo": [
           {
            "marker": {
             "colorbar": {
              "outlinewidth": 0,
              "ticks": ""
             }
            },
            "type": "scattergeo"
           }
          ],
          "scattergl": [
           {
            "marker": {
             "colorbar": {
              "outlinewidth": 0,
              "ticks": ""
             }
            },
            "type": "scattergl"
           }
          ],
          "scattermapbox": [
           {
            "marker": {
             "colorbar": {
              "outlinewidth": 0,
              "ticks": ""
             }
            },
            "type": "scattermapbox"
           }
          ],
          "scatterpolar": [
           {
            "marker": {
             "colorbar": {
              "outlinewidth": 0,
              "ticks": ""
             }
            },
            "type": "scatterpolar"
           }
          ],
          "scatterpolargl": [
           {
            "marker": {
             "colorbar": {
              "outlinewidth": 0,
              "ticks": ""
             }
            },
            "type": "scatterpolargl"
           }
          ],
          "scatterternary": [
           {
            "marker": {
             "colorbar": {
              "outlinewidth": 0,
              "ticks": ""
             }
            },
            "type": "scatterternary"
           }
          ],
          "surface": [
           {
            "colorbar": {
             "outlinewidth": 0,
             "ticks": ""
            },
            "colorscale": [
             [
              0,
              "#0d0887"
             ],
             [
              0.1111111111111111,
              "#46039f"
             ],
             [
              0.2222222222222222,
              "#7201a8"
             ],
             [
              0.3333333333333333,
              "#9c179e"
             ],
             [
              0.4444444444444444,
              "#bd3786"
             ],
             [
              0.5555555555555556,
              "#d8576b"
             ],
             [
              0.6666666666666666,
              "#ed7953"
             ],
             [
              0.7777777777777778,
              "#fb9f3a"
             ],
             [
              0.8888888888888888,
              "#fdca26"
             ],
             [
              1,
              "#f0f921"
             ]
            ],
            "type": "surface"
           }
          ],
          "table": [
           {
            "cells": {
             "fill": {
              "color": "#EBF0F8"
             },
             "line": {
              "color": "white"
             }
            },
            "header": {
             "fill": {
              "color": "#C8D4E3"
             },
             "line": {
              "color": "white"
             }
            },
            "type": "table"
           }
          ]
         },
         "layout": {
          "annotationdefaults": {
           "arrowcolor": "#2a3f5f",
           "arrowhead": 0,
           "arrowwidth": 1
          },
          "autotypenumbers": "strict",
          "coloraxis": {
           "colorbar": {
            "outlinewidth": 0,
            "ticks": ""
           }
          },
          "colorscale": {
           "diverging": [
            [
             0,
             "#8e0152"
            ],
            [
             0.1,
             "#c51b7d"
            ],
            [
             0.2,
             "#de77ae"
            ],
            [
             0.3,
             "#f1b6da"
            ],
            [
             0.4,
             "#fde0ef"
            ],
            [
             0.5,
             "#f7f7f7"
            ],
            [
             0.6,
             "#e6f5d0"
            ],
            [
             0.7,
             "#b8e186"
            ],
            [
             0.8,
             "#7fbc41"
            ],
            [
             0.9,
             "#4d9221"
            ],
            [
             1,
             "#276419"
            ]
           ],
           "sequential": [
            [
             0,
             "#0d0887"
            ],
            [
             0.1111111111111111,
             "#46039f"
            ],
            [
             0.2222222222222222,
             "#7201a8"
            ],
            [
             0.3333333333333333,
             "#9c179e"
            ],
            [
             0.4444444444444444,
             "#bd3786"
            ],
            [
             0.5555555555555556,
             "#d8576b"
            ],
            [
             0.6666666666666666,
             "#ed7953"
            ],
            [
             0.7777777777777778,
             "#fb9f3a"
            ],
            [
             0.8888888888888888,
             "#fdca26"
            ],
            [
             1,
             "#f0f921"
            ]
           ],
           "sequentialminus": [
            [
             0,
             "#0d0887"
            ],
            [
             0.1111111111111111,
             "#46039f"
            ],
            [
             0.2222222222222222,
             "#7201a8"
            ],
            [
             0.3333333333333333,
             "#9c179e"
            ],
            [
             0.4444444444444444,
             "#bd3786"
            ],
            [
             0.5555555555555556,
             "#d8576b"
            ],
            [
             0.6666666666666666,
             "#ed7953"
            ],
            [
             0.7777777777777778,
             "#fb9f3a"
            ],
            [
             0.8888888888888888,
             "#fdca26"
            ],
            [
             1,
             "#f0f921"
            ]
           ]
          },
          "colorway": [
           "#636efa",
           "#EF553B",
           "#00cc96",
           "#ab63fa",
           "#FFA15A",
           "#19d3f3",
           "#FF6692",
           "#B6E880",
           "#FF97FF",
           "#FECB52"
          ],
          "font": {
           "color": "#2a3f5f"
          },
          "geo": {
           "bgcolor": "white",
           "lakecolor": "white",
           "landcolor": "#E5ECF6",
           "showlakes": true,
           "showland": true,
           "subunitcolor": "white"
          },
          "hoverlabel": {
           "align": "left"
          },
          "hovermode": "closest",
          "mapbox": {
           "style": "light"
          },
          "paper_bgcolor": "white",
          "plot_bgcolor": "#E5ECF6",
          "polar": {
           "angularaxis": {
            "gridcolor": "white",
            "linecolor": "white",
            "ticks": ""
           },
           "bgcolor": "#E5ECF6",
           "radialaxis": {
            "gridcolor": "white",
            "linecolor": "white",
            "ticks": ""
           }
          },
          "scene": {
           "xaxis": {
            "backgroundcolor": "#E5ECF6",
            "gridcolor": "white",
            "gridwidth": 2,
            "linecolor": "white",
            "showbackground": true,
            "ticks": "",
            "zerolinecolor": "white"
           },
           "yaxis": {
            "backgroundcolor": "#E5ECF6",
            "gridcolor": "white",
            "gridwidth": 2,
            "linecolor": "white",
            "showbackground": true,
            "ticks": "",
            "zerolinecolor": "white"
           },
           "zaxis": {
            "backgroundcolor": "#E5ECF6",
            "gridcolor": "white",
            "gridwidth": 2,
            "linecolor": "white",
            "showbackground": true,
            "ticks": "",
            "zerolinecolor": "white"
           }
          },
          "shapedefaults": {
           "line": {
            "color": "#2a3f5f"
           }
          },
          "ternary": {
           "aaxis": {
            "gridcolor": "white",
            "linecolor": "white",
            "ticks": ""
           },
           "baxis": {
            "gridcolor": "white",
            "linecolor": "white",
            "ticks": ""
           },
           "bgcolor": "#E5ECF6",
           "caxis": {
            "gridcolor": "white",
            "linecolor": "white",
            "ticks": ""
           }
          },
          "title": {
           "x": 0.05
          },
          "xaxis": {
           "automargin": true,
           "gridcolor": "white",
           "linecolor": "white",
           "ticks": "",
           "title": {
            "standoff": 15
           },
           "zerolinecolor": "white",
           "zerolinewidth": 2
          },
          "yaxis": {
           "automargin": true,
           "gridcolor": "white",
           "linecolor": "white",
           "ticks": "",
           "title": {
            "standoff": 15
           },
           "zerolinecolor": "white",
           "zerolinewidth": 2
          }
         }
        },
        "xaxis": {
         "anchor": "y",
         "domain": [
          0,
          1
         ],
         "title": {
          "text": "index"
         }
        },
        "yaxis": {
         "anchor": "x",
         "domain": [
          0,
          1
         ],
         "title": {
          "text": "value"
         }
        }
       }
      }
     },
     "metadata": {},
     "output_type": "display_data"
    }
   ],
   "source": [
    "px.line(test_df)"
   ]
  },
  {
   "cell_type": "code",
   "execution_count": 22,
   "metadata": {},
   "outputs": [
    {
     "data": {
      "application/vnd.jupyter.widget-view+json": {
       "model_id": "355f8636894a497b99be1e462470b64c",
       "version_major": 2,
       "version_minor": 0
      },
      "text/plain": [
       "  0%|          | 0/4 [00:00<?, ?it/s]"
      ]
     },
     "metadata": {},
     "output_type": "display_data"
    },
    {
     "data": {
      "application/vnd.jupyter.widget-view+json": {
       "model_id": "f4e55165145349309630338b51679048",
       "version_major": 2,
       "version_minor": 0
      },
      "text/plain": [
       "  0%|          | 0/378 [00:00<?, ?it/s]"
      ]
     },
     "metadata": {},
     "output_type": "display_data"
    },
    {
     "data": {
      "application/vnd.jupyter.widget-view+json": {
       "model_id": "a90909081e0347bfb128f9e3110b39c7",
       "version_major": 2,
       "version_minor": 0
      },
      "text/plain": [
       "  0%|          | 0/378 [00:00<?, ?it/s]"
      ]
     },
     "metadata": {},
     "output_type": "display_data"
    },
    {
     "data": {
      "application/vnd.jupyter.widget-view+json": {
       "model_id": "a4a33f25353b464abfb75aee1d9064ab",
       "version_major": 2,
       "version_minor": 0
      },
      "text/plain": [
       "  0%|          | 0/378 [00:00<?, ?it/s]"
      ]
     },
     "metadata": {},
     "output_type": "display_data"
    },
    {
     "data": {
      "application/vnd.jupyter.widget-view+json": {
       "model_id": "73f4970244a0491188b01ef5d320b1e5",
       "version_major": 2,
       "version_minor": 0
      },
      "text/plain": [
       "  0%|          | 0/378 [00:00<?, ?it/s]"
      ]
     },
     "metadata": {},
     "output_type": "display_data"
    }
   ],
   "source": [
    "# ROLLING WINDOW OVER ENTIRE LIFETIME\n",
    "# uses newest asset prices on current day to get expected payoff for that day\n",
    "\n",
    "expected_payoffs = np.zeros(shape=(len(simulations), m))\n",
    "\n",
    "def simulate(t, sim_func, var_reduction):\n",
    "    r = calc_rates(t, m, rates)\n",
    "\n",
    "    paths = n_path_sim(asset_hist=asset_hist,\n",
    "                    Nsim=50,\n",
    "                    t=t,\n",
    "                    r=r,\n",
    "                    dt=dt,\n",
    "                    p=3,\n",
    "                    m=m,\n",
    "                    sim_func=sim_func,\n",
    "                    var_reduction=var_reduction\n",
    "                    )\n",
    "                    \n",
    "    return expected_payoff(payoff(paths, K, Barrier, m-t), r=r, T=T, t=t*dt)\n",
    "\n",
    "\n",
    "for i, (sim_func, var_reduction) in enumerate( tqdm( simulations ) ):\n",
    "    for t in tqdm(range(m), leave=False):\n",
    "        expected_payoffs[i][t] = simulate(t, sim_func, var_reduction)"
   ]
  },
  {
   "cell_type": "code",
   "execution_count": 32,
   "metadata": {},
   "outputs": [],
   "source": [
    "simulated_prices = pd.DataFrame(expected_payoffs.T, \n",
    "                                columns=[\n",
    "                                    \"Monte Carlo\", \n",
    "                                    \"Antithetic Variates\", \n",
    "                                    \"Stratified Sampling\",\n",
    "                                    \"Empirical Martingale Correction\"\n",
    "                                    ]\n",
    "                                )\n",
    "# simulated_prices = pd.read_csv(\"simulations/50sims_pricing.csv\")\n",
    "\n",
    "merged = pd.concat([actual_prices, simulated_prices], axis=1)"
   ]
  },
  {
   "cell_type": "code",
   "execution_count": 36,
   "metadata": {},
   "outputs": [
    {
     "data": {
      "application/vnd.plotly.v1+json": {
       "config": {
        "plotlyServerURL": "https://plot.ly"
       },
       "data": [
        {
         "hovertemplate": "variable=Price<br>index=%{x}<br>value=%{y}<extra></extra>",
         "legendgroup": "Price",
         "line": {
          "color": "#636efa",
          "dash": "solid"
         },
         "marker": {
          "symbol": "circle"
         },
         "mode": "lines",
         "name": "Price",
         "showlegend": true,
         "type": "scattergl",
         "x": [
          0,
          1,
          2,
          3,
          4,
          5,
          6,
          7,
          8,
          9,
          10,
          11,
          12,
          13,
          14,
          15,
          16,
          17,
          18,
          19,
          20,
          21,
          22,
          23,
          24,
          25,
          26,
          27,
          28,
          29,
          30,
          31,
          32,
          33,
          34,
          35,
          36,
          37,
          38,
          39,
          40,
          41,
          42,
          43,
          44,
          45,
          46,
          47,
          48,
          49,
          50,
          51,
          52,
          53,
          54,
          55,
          56,
          57,
          58,
          59,
          60,
          61,
          62,
          63,
          64,
          65,
          66,
          67,
          68,
          69,
          70,
          71,
          72,
          73,
          74,
          75,
          76,
          77,
          78,
          79,
          80,
          81,
          82,
          83,
          84,
          85,
          86,
          87,
          88,
          89,
          90,
          91,
          92,
          93,
          94,
          95,
          96,
          97,
          98,
          99,
          100,
          101,
          102,
          103,
          104,
          105,
          106,
          107,
          108,
          109,
          110,
          111,
          112,
          113,
          114,
          115,
          116,
          117,
          118,
          119,
          120,
          121,
          122,
          123,
          124,
          125,
          126,
          127,
          128,
          129,
          130,
          131,
          132,
          133,
          134,
          135,
          136,
          137,
          138,
          139,
          140,
          141,
          142,
          143,
          144,
          145,
          146,
          147,
          148,
          149,
          150,
          151,
          152,
          153,
          154,
          155,
          156,
          157,
          158,
          159,
          160,
          161,
          162,
          163,
          164,
          165,
          166,
          167,
          168,
          169,
          170,
          171,
          172,
          173,
          174,
          175,
          176,
          177,
          178,
          179,
          180,
          181,
          182,
          183,
          184,
          185,
          186,
          187,
          188,
          189,
          190,
          191,
          192,
          193,
          194,
          195,
          196,
          197,
          198,
          199,
          200,
          201,
          202,
          203,
          204,
          205,
          206,
          207,
          208,
          209,
          210,
          211,
          212,
          213,
          214,
          215,
          216,
          217,
          218,
          219,
          220,
          221,
          222,
          223,
          224,
          225,
          226,
          227,
          228,
          229,
          230,
          231,
          232,
          233,
          234,
          235,
          236,
          237,
          238,
          239,
          240,
          241,
          242,
          243,
          244,
          245,
          246,
          247,
          248,
          249,
          250,
          251,
          252,
          253,
          254,
          255,
          256,
          257,
          258,
          259,
          260,
          261,
          262,
          263,
          264,
          265,
          266,
          267,
          268,
          269,
          270,
          271,
          272,
          273,
          274,
          275,
          276,
          277,
          278,
          279,
          280,
          281,
          282,
          283,
          284,
          285,
          286,
          287,
          288,
          289,
          290,
          291,
          292,
          293,
          294,
          295,
          296,
          297,
          298,
          299,
          300,
          301,
          302,
          303,
          304,
          305,
          306,
          307,
          308,
          309,
          310,
          311,
          312,
          313,
          314,
          315,
          316,
          317,
          318,
          319,
          320,
          321,
          322,
          323,
          324,
          325,
          326,
          327,
          328,
          329,
          330,
          331,
          332,
          333,
          334,
          335,
          336,
          337,
          338,
          339,
          340,
          341,
          342,
          343,
          344,
          345,
          346,
          347,
          348,
          349,
          350,
          351,
          352,
          353,
          354,
          355,
          356,
          357,
          358,
          359,
          360,
          361,
          362,
          363,
          364,
          365,
          366,
          367,
          368,
          369,
          370,
          371,
          372,
          373,
          374,
          375,
          376,
          377
         ],
         "xaxis": "x",
         "y": [
          1010.4,
          1010.4,
          1010.4,
          1010.4,
          1010.4,
          1010.4,
          1010.4,
          1010.4,
          1010.4,
          1010.4,
          1010.4,
          1010.4,
          998.1,
          998.1,
          998.1,
          998.1,
          998.1,
          999.3,
          999.3,
          999.3,
          996.2,
          996.2,
          996.2,
          996.2,
          987.7,
          979.2,
          977.1,
          977.1,
          977.1,
          977.1,
          975.4,
          969.8,
          958.2,
          926.9,
          926.9,
          938,
          938,
          938,
          940.4,
          940.4,
          940.4,
          942.7,
          942.7,
          942.7,
          942.7,
          942.7,
          942.7,
          942.7,
          941.7,
          941.7,
          941.7,
          941.7,
          941.7,
          939,
          939,
          939,
          918,
          915.7,
          921.9,
          928.4,
          928.4,
          928.4,
          932.6,
          932.6,
          932.6,
          929.1,
          933,
          933,
          933,
          933,
          933,
          933,
          926.5,
          926.8,
          926.8,
          926.8,
          926.8,
          926.8,
          914.8,
          902.4,
          912.4,
          923.7,
          927.3,
          937.6,
          937.6,
          936.4,
          933.8,
          925.4,
          925.4,
          931.7,
          931.7,
          933.6,
          942.4,
          947,
          947,
          947,
          959.3,
          965.3,
          965.3,
          967.9,
          971.4,
          971.4,
          972.9,
          977.5,
          982,
          982,
          982,
          982,
          982,
          982,
          982,
          982,
          983.9,
          985.5,
          985.5,
          985.5,
          985.5,
          985.5,
          985.5,
          987.4,
          987.4,
          987.4,
          976.2,
          976.2,
          976.2,
          981.5,
          981.5,
          967.8,
          967.1,
          967.1,
          967.1,
          963.6,
          963.6,
          963.6,
          969.3,
          971.9,
          975.4,
          975.4,
          975.4,
          977.3,
          977.3,
          981.4,
          981.4,
          967.6,
          967.6,
          971.1,
          975.1,
          977.8,
          981.4,
          981.4,
          981.4,
          986,
          995.5,
          998.6,
          998.6,
          998.6,
          998.6,
          998.6,
          1000.3,
          1000.3,
          1000.3,
          1000.4,
          1000.4,
          1000.5,
          1000.5,
          1000.5,
          995.3,
          995.3,
          995.3,
          995.3,
          995.3,
          995.3,
          996.1,
          999.7,
          1002.9,
          1002.9,
          1002.9,
          1002.9,
          1004.4,
          1004.7,
          1004.7,
          1000.1,
          1000.1,
          1000.1,
          1000.1,
          1000.1,
          995.7,
          995.7,
          995.7,
          995.7,
          995.7,
          995.7,
          995.7,
          995.7,
          995.7,
          995.7,
          995.7,
          990.3,
          990.3,
          990.3,
          990.7,
          990.7,
          990.7,
          990.7,
          994.6,
          994.6,
          1000,
          1000,
          1000,
          1000,
          1000,
          1000,
          1000,
          1004.2,
          1004.2,
          1004.2,
          1004.2,
          1006,
          1006,
          1006,
          1006,
          1006,
          1006,
          1006,
          1006,
          1006,
          1006.8,
          1007.3,
          1007.3,
          1003.9,
          1003.9,
          1003.9,
          1003.9,
          1003.9,
          1002.8,
          1000.3,
          1000.3,
          1000.3,
          1000.3,
          996.1,
          996.1,
          996.1,
          993.4,
          993.3,
          993.3,
          993.4,
          993.4,
          993.4,
          993.4,
          993.4,
          993.4,
          994.2,
          994.8,
          999.9,
          999.9,
          999.9,
          999.9,
          999.9,
          999.9,
          999.9,
          999.9,
          999.9,
          998.3,
          996.1,
          996.1,
          996.1,
          988.2,
          988.2,
          988.2,
          989.4,
          989.4,
          989.4,
          989.4,
          992.7,
          992.7,
          992.7,
          992.7,
          992.7,
          992.7,
          991.7,
          991.7,
          991.7,
          991.7,
          991.7,
          991.7,
          991.7,
          991.7,
          991.7,
          994.4,
          994.7,
          994.7,
          994.7,
          995.2,
          995.9,
          995.9,
          996.6,
          998.3,
          998.7,
          998.7,
          998.7,
          998.7,
          998.7,
          998.7,
          998.7,
          998.7,
          998.8,
          998.8,
          998.8,
          998.8,
          998.8,
          998.8,
          998.8,
          998.8,
          998.8,
          998.8,
          998.8,
          998.8,
          998.8,
          998.8,
          998.8,
          998.8,
          998.8,
          998.8,
          998.8,
          998.8,
          998.8,
          998.8,
          998.8,
          998.8,
          998.8,
          998.8,
          998.8,
          998.8,
          998.8,
          998.8,
          998.8,
          998.8,
          998.8,
          998.8,
          998.8,
          998.8,
          998.8,
          998.8,
          994.2,
          991.7,
          991.7,
          991.7,
          991.7,
          991.7,
          991.8,
          991.9,
          991.9,
          991.9,
          991.9,
          992.2,
          992.2,
          992.2,
          992.2,
          992.2,
          992.2,
          992.2,
          992.2,
          992.2,
          992.2,
          992.2,
          992.2,
          null,
          null,
          null,
          null,
          null,
          null,
          null,
          null,
          null,
          null,
          null,
          null
         ],
         "yaxis": "y"
        },
        {
         "hovertemplate": "variable=Monte Carlo<br>index=%{x}<br>value=%{y}<extra></extra>",
         "legendgroup": "Monte Carlo",
         "line": {
          "color": "#EF553B",
          "dash": "solid"
         },
         "marker": {
          "symbol": "circle"
         },
         "mode": "lines",
         "name": "Monte Carlo",
         "showlegend": true,
         "type": "scattergl",
         "x": [
          0,
          1,
          2,
          3,
          4,
          5,
          6,
          7,
          8,
          9,
          10,
          11,
          12,
          13,
          14,
          15,
          16,
          17,
          18,
          19,
          20,
          21,
          22,
          23,
          24,
          25,
          26,
          27,
          28,
          29,
          30,
          31,
          32,
          33,
          34,
          35,
          36,
          37,
          38,
          39,
          40,
          41,
          42,
          43,
          44,
          45,
          46,
          47,
          48,
          49,
          50,
          51,
          52,
          53,
          54,
          55,
          56,
          57,
          58,
          59,
          60,
          61,
          62,
          63,
          64,
          65,
          66,
          67,
          68,
          69,
          70,
          71,
          72,
          73,
          74,
          75,
          76,
          77,
          78,
          79,
          80,
          81,
          82,
          83,
          84,
          85,
          86,
          87,
          88,
          89,
          90,
          91,
          92,
          93,
          94,
          95,
          96,
          97,
          98,
          99,
          100,
          101,
          102,
          103,
          104,
          105,
          106,
          107,
          108,
          109,
          110,
          111,
          112,
          113,
          114,
          115,
          116,
          117,
          118,
          119,
          120,
          121,
          122,
          123,
          124,
          125,
          126,
          127,
          128,
          129,
          130,
          131,
          132,
          133,
          134,
          135,
          136,
          137,
          138,
          139,
          140,
          141,
          142,
          143,
          144,
          145,
          146,
          147,
          148,
          149,
          150,
          151,
          152,
          153,
          154,
          155,
          156,
          157,
          158,
          159,
          160,
          161,
          162,
          163,
          164,
          165,
          166,
          167,
          168,
          169,
          170,
          171,
          172,
          173,
          174,
          175,
          176,
          177,
          178,
          179,
          180,
          181,
          182,
          183,
          184,
          185,
          186,
          187,
          188,
          189,
          190,
          191,
          192,
          193,
          194,
          195,
          196,
          197,
          198,
          199,
          200,
          201,
          202,
          203,
          204,
          205,
          206,
          207,
          208,
          209,
          210,
          211,
          212,
          213,
          214,
          215,
          216,
          217,
          218,
          219,
          220,
          221,
          222,
          223,
          224,
          225,
          226,
          227,
          228,
          229,
          230,
          231,
          232,
          233,
          234,
          235,
          236,
          237,
          238,
          239,
          240,
          241,
          242,
          243,
          244,
          245,
          246,
          247,
          248,
          249,
          250,
          251,
          252,
          253,
          254,
          255,
          256,
          257,
          258,
          259,
          260,
          261,
          262,
          263,
          264,
          265,
          266,
          267,
          268,
          269,
          270,
          271,
          272,
          273,
          274,
          275,
          276,
          277,
          278,
          279,
          280,
          281,
          282,
          283,
          284,
          285,
          286,
          287,
          288,
          289,
          290,
          291,
          292,
          293,
          294,
          295,
          296,
          297,
          298,
          299,
          300,
          301,
          302,
          303,
          304,
          305,
          306,
          307,
          308,
          309,
          310,
          311,
          312,
          313,
          314,
          315,
          316,
          317,
          318,
          319,
          320,
          321,
          322,
          323,
          324,
          325,
          326,
          327,
          328,
          329,
          330,
          331,
          332,
          333,
          334,
          335,
          336,
          337,
          338,
          339,
          340,
          341,
          342,
          343,
          344,
          345,
          346,
          347,
          348,
          349,
          350,
          351,
          352,
          353,
          354,
          355,
          356,
          357,
          358,
          359,
          360,
          361,
          362,
          363,
          364,
          365,
          366,
          367,
          368,
          369,
          370,
          371,
          372,
          373,
          374,
          375,
          376,
          377
         ],
         "xaxis": "x",
         "y": [
          846.6870866857981,
          809.2397915659318,
          820.2270514470022,
          861.7609337977375,
          792.6088042625765,
          840.8306558373458,
          853.8341844042632,
          831.0314758700538,
          856.5823505748557,
          881.9148699165193,
          851.6627835805989,
          832.2456029441066,
          822.0337435824223,
          823.9544248798596,
          846.8370382514029,
          814.6351435570286,
          828.6332588101392,
          849.4096693842105,
          841.1766333051709,
          880.0004266691458,
          857.7248802343993,
          877.6711940788825,
          863.5782491965219,
          867.6688574617291,
          885.657787684732,
          845.6801287695763,
          831.6678500303622,
          857.94546901697,
          890.5269537779235,
          903.5897660108812,
          921.1322546337309,
          939.3474310897112,
          858.531797307792,
          851.2365462079429,
          862.1225228210443,
          845.2086948343343,
          908.9627024980407,
          818.6559776441729,
          847.5069538751861,
          870.9977435744196,
          878.5383450305903,
          895.9694834130939,
          867.0067366578162,
          889.4293258437939,
          852.2246083128879,
          849.6648712779269,
          889.5205230335705,
          880.4147574241402,
          888.696590640219,
          861.0459023508427,
          835.8040722297196,
          856.4597766654407,
          820.9805821906851,
          864.6946838413352,
          838.2783178395044,
          787.7568468672558,
          797.2740350103427,
          759.2652591063628,
          796.3465352250926,
          834.2699881151196,
          839.4442023143457,
          879.2646552428898,
          818.1697074608849,
          867.6483371800033,
          843.1375856313514,
          842.2782672727009,
          826.4333751903828,
          817.16137776783,
          853.5343003611669,
          850.0070935209546,
          863.9827917277408,
          820.599864304087,
          872.3986045255319,
          879.009872864037,
          799.2756500334478,
          867.6483127929989,
          843.7036372987396,
          821.3177607983421,
          911.1702281679917,
          873.8743317093207,
          887.6642639041231,
          866.273965557764,
          897.1755223126033,
          910.4821677995908,
          932.929880775451,
          907.559759670647,
          926.4647179029178,
          880.4326088319026,
          855.201588702687,
          936.8847127771312,
          907.0133532398802,
          902.4875634441488,
          927.512186579309,
          908.4515912399132,
          925.851406039863,
          904.4160184383492,
          931.3044273800685,
          925.1119775447905,
          889.051699104814,
          945.6025841438277,
          971.1297533992577,
          941.3579117708438,
          951.6454108922746,
          911.3018085578069,
          977.320197511914,
          928.6103326986297,
          916.7614329982226,
          954.5565368779504,
          957.7697827393132,
          942.1791575164882,
          965.8804388734096,
          939.1414624538213,
          969.8769898271655,
          970.1378278305699,
          983.2059882739992,
          936.6963138640547,
          965.484961439264,
          973.386593416644,
          950.8640113910965,
          973.650608879938,
          998.8228256309262,
          974.9060268984763,
          980.0085747758465,
          981.5996689944513,
          980.0724727430096,
          990.9174138246177,
          967.6739218961233,
          962.0359891192138,
          990.6839854090202,
          943.9218798288762,
          970.9203593168882,
          939.9671985282953,
          957.0588869749072,
          968.4500380468098,
          993.4699628923981,
          990.0256154720732,
          998.4780251343819,
          977.451480168008,
          987.9396873252443,
          999.4268937096643,
          984.7657885972111,
          973.5965564598592,
          979.9712940340335,
          981.9788260941118,
          991.3174566865392,
          1001.5235081884853,
          992.6473939861498,
          986.5596703484681,
          965.9824597842287,
          946.7452454630354,
          983.8056697363226,
          986.4449879397137,
          1006.5485496383003,
          993.156638208456,
          1006.5610650023067,
          998.6915326664338,
          1006.5565381505535,
          998.8097698264934,
          999.470739453329,
          997.7423699673053,
          1006.2494445115152,
          1006.3312864187445,
          988.4920144391301,
          1006.25976945958,
          1006.1004576086032,
          1005.8900578453391,
          1006.2015670394239,
          1005.9847018780418,
          1006.2090964670765,
          1006.2128612020314,
          1005.8488879043347,
          1006.0629671865204,
          1005.9343468746497,
          1005.9395172232045,
          1005.8632572767998,
          1004.6888206924986,
          996.8640578785514,
          1005.1619635611246,
          1005.611860898071,
          1005.7549408359465,
          1005.3097286713448,
          997.7912973150384,
          1005.5613915466222,
          1005.5761368482282,
          1005.7014046254037,
          1005.5833955683848,
          1005.5688401771098,
          1005.4710432924533,
          1005.2588565750661,
          1005.1567212334886,
          1003.7191293758423,
          1003.5783113158204,
          1003.5272803148198,
          1003.3892005171028,
          1003.2597087178676,
          1003.284392395301,
          1002.9915261564363,
          1003.075965221712,
          1003.1391428006315,
          1003.1780028738374,
          1003.3245473247582,
          1002.9964728955496,
          1003.2126938694408,
          1003.4465576426394,
          1003.1995376894646,
          1003.142441109358,
          1002.893809369004,
          1003.0371280549736,
          1003.1241678571754,
          1003.008527120606,
          1002.9135187380627,
          1002.6078017999022,
          1002.6236026596082,
          1002.5018628993488,
          1002.1643804467174,
          1002.2479923195503,
          1001.9626801313624,
          1002.1048810701319,
          1002.0940874815825,
          1001.7615693733217,
          1001.6070200110778,
          1001.7489054607399,
          1001.8952032842932,
          1001.3269990881043,
          1001.4309404085103,
          1001.655492755732,
          1001.6904528838616,
          1001.610937869329,
          1001.2035437614269,
          1001.1233485262429,
          1001.2349879492524,
          1000.9061215199713,
          1001.0875001744114,
          1001.2723173796469,
          1001.2533781485323,
          1001.2134385467797,
          1001.1072875492024,
          1001.0243761444693,
          1001.0436893672093,
          1000.9422092619851,
          1000.6912675153467,
          1000.7397715838869,
          1000.7983388885575,
          1000.4940418549683,
          1000.7318859670952,
          1000.6624120191756,
          1000.7916820509975,
          1000.8105179900674,
          1000.6869939752194,
          1000.6854244938249,
          1000.7933462562363,
          1000.7632396983697,
          1000.0815082120981,
          998.3719167023945,
          998.3192639710644,
          998.3214900066745,
          998.2668215172062,
          997.9330464913656,
          997.6123903977049,
          996.7957270514161,
          996.4029817893704,
          996.412245442921,
          996.8549300371811,
          996.8058796521906,
          996.9755695922079,
          997.3179383817386,
          996.8322505269269,
          996.6239772948121,
          996.8162395554933,
          996.8152035603181,
          997.1082824288757,
          996.5283496728491,
          996.5972729511549,
          996.5257321887468,
          996.6173858881879,
          995.872800021175,
          995.8659501260025,
          995.8283706328231,
          995.6707102892462,
          995.0206134216467,
          994.6084759733097,
          994.9103249213408,
          994.9371344685528,
          995.0027325429432,
          995.095336785048,
          995.0707041554798,
          995.1938357899367,
          995.2221386625877,
          995.1739396343594,
          995.435141247706,
          995.5055314592911,
          995.6516700563585,
          995.587816439438,
          995.6794591349452,
          995.8975654198973,
          995.7831152886923,
          995.7816099487638,
          995.7534416950591,
          995.8487126861774,
          995.9410192680767,
          995.8132225651503,
          995.9418285175332,
          995.9466463883718,
          996.10212933341,
          996.2115522304173,
          996.1763880139399,
          996.1733384990522,
          996.2640373205762,
          996.3629532521695,
          996.4125843587083,
          996.287042776167,
          996.4242770239663,
          996.3729319938475,
          996.5319463708512,
          996.6689130169916,
          996.5640912587567,
          994.9671868618842,
          995.0223139330753,
          995.2067072222437,
          995.1290043957489,
          995.1994105709429,
          995.1994293766764,
          995.2887041987071,
          995.4057872787823,
          995.3216929613329,
          995.4941964805731,
          995.6050200394583,
          995.6777364779551,
          995.7748066183718,
          995.8155830391366,
          995.9815096729789,
          995.9730781191682,
          996.0991071756207,
          996.2351671918029,
          996.23810394379,
          996.3614176895385,
          996.3835969566129,
          996.5488649855091,
          996.6927271595071,
          996.6278651402567,
          996.7617371477376,
          996.76793396616,
          996.8764881308724,
          996.7867130098385,
          996.9224148289503,
          997.005005322194,
          997.1086675804936,
          997.2241745750963,
          997.2211595405777,
          997.426994263353,
          997.5234998049408,
          997.6944996389226,
          997.8091128895579,
          997.8500857489496,
          998.0066956368497,
          998.122910211844,
          998.2811663547701,
          998.4326366409897,
          998.5650717023495,
          998.7527637198535,
          998.9102891904226,
          999.0678395062537,
          999.2254146712648,
          999.3830146893758,
          999.5406395645066,
          999.6982893005771,
          999.8559639015091,
          1000.0136633712242,
          1000.1713877136442,
          1000.3291369326927,
          1000.4869110322932,
          1000.6447100163697,
          1000.802533888847,
          1000.9603826536509,
          1001.1182563147071,
          1001.2761548759426,
          1001.4340783412845,
          1001.5920267146607
         ],
         "yaxis": "y"
        },
        {
         "hovertemplate": "variable=Antithetic Variates<br>index=%{x}<br>value=%{y}<extra></extra>",
         "legendgroup": "Antithetic Variates",
         "line": {
          "color": "#00cc96",
          "dash": "solid"
         },
         "marker": {
          "symbol": "circle"
         },
         "mode": "lines",
         "name": "Antithetic Variates",
         "showlegend": true,
         "type": "scattergl",
         "x": [
          0,
          1,
          2,
          3,
          4,
          5,
          6,
          7,
          8,
          9,
          10,
          11,
          12,
          13,
          14,
          15,
          16,
          17,
          18,
          19,
          20,
          21,
          22,
          23,
          24,
          25,
          26,
          27,
          28,
          29,
          30,
          31,
          32,
          33,
          34,
          35,
          36,
          37,
          38,
          39,
          40,
          41,
          42,
          43,
          44,
          45,
          46,
          47,
          48,
          49,
          50,
          51,
          52,
          53,
          54,
          55,
          56,
          57,
          58,
          59,
          60,
          61,
          62,
          63,
          64,
          65,
          66,
          67,
          68,
          69,
          70,
          71,
          72,
          73,
          74,
          75,
          76,
          77,
          78,
          79,
          80,
          81,
          82,
          83,
          84,
          85,
          86,
          87,
          88,
          89,
          90,
          91,
          92,
          93,
          94,
          95,
          96,
          97,
          98,
          99,
          100,
          101,
          102,
          103,
          104,
          105,
          106,
          107,
          108,
          109,
          110,
          111,
          112,
          113,
          114,
          115,
          116,
          117,
          118,
          119,
          120,
          121,
          122,
          123,
          124,
          125,
          126,
          127,
          128,
          129,
          130,
          131,
          132,
          133,
          134,
          135,
          136,
          137,
          138,
          139,
          140,
          141,
          142,
          143,
          144,
          145,
          146,
          147,
          148,
          149,
          150,
          151,
          152,
          153,
          154,
          155,
          156,
          157,
          158,
          159,
          160,
          161,
          162,
          163,
          164,
          165,
          166,
          167,
          168,
          169,
          170,
          171,
          172,
          173,
          174,
          175,
          176,
          177,
          178,
          179,
          180,
          181,
          182,
          183,
          184,
          185,
          186,
          187,
          188,
          189,
          190,
          191,
          192,
          193,
          194,
          195,
          196,
          197,
          198,
          199,
          200,
          201,
          202,
          203,
          204,
          205,
          206,
          207,
          208,
          209,
          210,
          211,
          212,
          213,
          214,
          215,
          216,
          217,
          218,
          219,
          220,
          221,
          222,
          223,
          224,
          225,
          226,
          227,
          228,
          229,
          230,
          231,
          232,
          233,
          234,
          235,
          236,
          237,
          238,
          239,
          240,
          241,
          242,
          243,
          244,
          245,
          246,
          247,
          248,
          249,
          250,
          251,
          252,
          253,
          254,
          255,
          256,
          257,
          258,
          259,
          260,
          261,
          262,
          263,
          264,
          265,
          266,
          267,
          268,
          269,
          270,
          271,
          272,
          273,
          274,
          275,
          276,
          277,
          278,
          279,
          280,
          281,
          282,
          283,
          284,
          285,
          286,
          287,
          288,
          289,
          290,
          291,
          292,
          293,
          294,
          295,
          296,
          297,
          298,
          299,
          300,
          301,
          302,
          303,
          304,
          305,
          306,
          307,
          308,
          309,
          310,
          311,
          312,
          313,
          314,
          315,
          316,
          317,
          318,
          319,
          320,
          321,
          322,
          323,
          324,
          325,
          326,
          327,
          328,
          329,
          330,
          331,
          332,
          333,
          334,
          335,
          336,
          337,
          338,
          339,
          340,
          341,
          342,
          343,
          344,
          345,
          346,
          347,
          348,
          349,
          350,
          351,
          352,
          353,
          354,
          355,
          356,
          357,
          358,
          359,
          360,
          361,
          362,
          363,
          364,
          365,
          366,
          367,
          368,
          369,
          370,
          371,
          372,
          373,
          374,
          375,
          376,
          377
         ],
         "xaxis": "x",
         "y": [
          825.3018492979929,
          795.4092774765081,
          830.2371222151239,
          840.84725025608,
          871.0437865955697,
          822.9797126364188,
          821.9532446055455,
          821.6392898286223,
          850.5427528471939,
          900.8419131675514,
          844.0113565518332,
          893.263279760271,
          894.4235909713402,
          860.5382559995138,
          838.1432332191381,
          850.0089106951876,
          843.3074027204445,
          840.1924231330985,
          800.3093075678318,
          849.9549760894591,
          803.7024004421867,
          876.9750855827823,
          859.718273986959,
          863.5989906191929,
          903.4611554973878,
          848.0514117140503,
          837.3329928235399,
          850.6937333983014,
          937.868216623875,
          881.3217598892207,
          867.4616685866603,
          869.4643762260536,
          908.3443992707622,
          900.5859102810244,
          846.9065860581402,
          801.6585653290983,
          863.6566905039361,
          846.2020823726183,
          793.8828945350994,
          872.4298623825503,
          823.5680443645927,
          876.9730398326107,
          840.9292959160184,
          802.4901412726939,
          874.0750896081211,
          846.4616343922321,
          898.1886967418859,
          831.4055540488883,
          870.3282054118836,
          886.1093732251433,
          875.0973257575009,
          866.9378631508938,
          861.3157920324473,
          853.48396724825,
          877.6530462433818,
          888.394000122506,
          898.7246807389971,
          855.7801346372521,
          828.5222974634114,
          829.7373632254009,
          724.7341527824801,
          833.9470815344606,
          842.5450887372795,
          894.2043654162285,
          822.1998801795115,
          894.5973630500362,
          827.0503544566266,
          811.3516012162773,
          877.1707092616015,
          861.6786021564576,
          870.0841317714159,
          848.5706321780733,
          803.3702114876636,
          862.9835691095025,
          853.6737460187938,
          869.9784175251817,
          821.4927612099159,
          850.4291362683985,
          818.0345801470003,
          875.6343878712906,
          866.5991857789809,
          871.3257214161688,
          888.2615304097365,
          883.9400657156939,
          905.3593310178741,
          887.2846288285926,
          882.5350555988709,
          856.8231077379279,
          932.3706763973272,
          888.2597176736396,
          893.9398297906941,
          898.4750961190122,
          903.9079529460844,
          901.3128541354008,
          913.349886483622,
          940.8551384231307,
          946.2928815311153,
          964.7099189107264,
          856.8514844293759,
          932.5471099475118,
          969.0680352779963,
          914.7838987305564,
          979.1175540615455,
          932.2977865315737,
          948.2961738763132,
          930.6201913461118,
          941.3325497668513,
          949.6616065362922,
          960.8587333517481,
          964.9422621317793,
          1000.5209338375056,
          941.0577618441791,
          946.9711678082394,
          948.0773176663282,
          993.6189714901493,
          954.436505573678,
          967.5611230857186,
          964.1270715398641,
          947.1462883148497,
          984.9966740113587,
          962.8047084248369,
          998.0307740334753,
          940.3584515950831,
          950.9972954058512,
          963.3805108546456,
          976.5262840519896,
          971.4408318193033,
          964.3464777585295,
          944.5936098019755,
          958.3366663929081,
          957.7324706069423,
          959.5713936343498,
          958.6610341286405,
          973.7873668620845,
          986.714339904431,
          961.4735252096923,
          1004.4389754615652,
          985.2193704946895,
          975.7877575353033,
          973.9644698437019,
          996.0614009007878,
          940.9510387195919,
          979.6650311021943,
          983.9550206601457,
          978.5584939531074,
          973.7504873311179,
          979.5644641343522,
          982.7003814815062,
          1006.4574470427079,
          960.3077748671604,
          999.4416072141935,
          1006.5551877071247,
          1005.4749033745362,
          997.6197217841539,
          988.1281990330592,
          1006.4824376229075,
          1006.5565381505537,
          1006.558535288523,
          996.957068913315,
          1006.4833885704825,
          1006.2494445115152,
          1006.3312864187445,
          993.8459269057972,
          997.4273270148639,
          996.4694550350836,
          1005.890057845339,
          1006.2015670394239,
          1002.1609389790331,
          1006.2090964670766,
          1006.2128612020314,
          997.4660846292984,
          1003.3433291737866,
          1005.9343468746498,
          1005.9395172232046,
          1005.8632572767998,
          1004.6888206924981,
          1005.3715461020515,
          1005.1619635611245,
          1005.6118608980712,
          998.132141001984,
          1005.3097286713449,
          1005.6251817329809,
          1005.5613915466222,
          1005.5761368482287,
          1005.7014046254038,
          1005.5833955683852,
          1005.5688401771093,
          1005.4710432924529,
          1005.2588565750663,
          1005.1567212334886,
          1003.719129375842,
          1003.5783113158209,
          1003.5272803148201,
          1003.3892005171033,
          1003.2597087178677,
          1003.2843923953009,
          1002.9915261564362,
          1003.0759652217123,
          1003.1391428006317,
          994.275210068094,
          1003.324547324758,
          1002.9964728955496,
          1003.2126938694407,
          1003.4465576426395,
          1003.1995376894646,
          1003.142441109358,
          1002.8938093690044,
          1003.0371280549736,
          1003.1241678571755,
          1003.008527120606,
          1002.9135187380629,
          1002.6078017999021,
          1002.623602659608,
          1002.5018628993487,
          1002.1643804467172,
          1002.2479923195502,
          1001.9626801313622,
          1002.1048810701321,
          1002.0940874815825,
          1001.7615693733219,
          1001.607020011078,
          1001.7489054607398,
          1001.8952032842934,
          1001.3269990881049,
          1001.4309404085103,
          1001.6554927557319,
          1001.6904528838618,
          1001.6109378693286,
          1001.2035437614269,
          1001.1233485262434,
          1001.2349879492524,
          1000.9061215199715,
          1001.0875001744115,
          1001.2723173796467,
          1001.2533781485322,
          1001.2134385467797,
          1001.1072875492023,
          1001.0243761444693,
          1001.0436893672095,
          1000.9422092619847,
          1000.6912675153468,
          1000.7397715838869,
          1000.7983388885576,
          1000.4940418549684,
          1000.7318859670953,
          1000.6624120191752,
          1000.7916820509977,
          1000.8105179900676,
          1000.6869939752195,
          1000.6854244938254,
          1000.7933462562361,
          1000.7632396983697,
          1000.0815082120982,
          998.3719167023944,
          998.3192639710645,
          998.3214900066746,
          998.2668215172057,
          997.9330464913656,
          997.6123903977044,
          996.7957270514161,
          996.4029817893705,
          996.4122454429208,
          996.8549300371814,
          996.8058796521909,
          996.9755695922081,
          997.3179383817384,
          996.8322505269275,
          996.6239772948123,
          996.8162395554937,
          996.8152035603177,
          997.1082824288756,
          996.5283496728493,
          996.5972729511548,
          996.5257321887469,
          996.6173858881878,
          995.8728000211745,
          995.8659501260023,
          995.8283706328232,
          995.670710289246,
          995.0206134216463,
          994.6084759733094,
          994.9103249213404,
          994.9371344685529,
          995.0027325429434,
          995.0953367850482,
          995.07070415548,
          995.1938357899365,
          995.2221386625878,
          995.1739396343596,
          995.4351412477064,
          995.5055314592912,
          995.6516700563584,
          995.587816439438,
          995.6794591349451,
          995.8975654198974,
          995.7831152886922,
          995.7816099487642,
          995.7534416950593,
          995.8487126861769,
          995.9410192680771,
          995.8132225651502,
          995.9418285175329,
          995.9466463883722,
          996.1021293334098,
          996.2115522304176,
          996.1763880139397,
          996.1733384990523,
          996.2640373205762,
          996.36295325217,
          996.4125843587083,
          996.2870427761669,
          996.4242770239664,
          996.372931993847,
          996.5319463708515,
          996.6689130169916,
          996.5640912587567,
          994.9671868618846,
          995.0223139330755,
          995.2067072222436,
          995.1290043957492,
          995.1994105709425,
          995.1994293766764,
          995.2887041987073,
          995.4057872787822,
          995.3216929613327,
          995.4941964805731,
          995.605020039458,
          995.6777364779554,
          995.7748066183719,
          995.8155830391366,
          995.9815096729784,
          995.9730781191679,
          996.0991071756207,
          996.2351671918027,
          996.2381039437897,
          996.3614176895386,
          996.383596956613,
          996.548864985509,
          996.692727159507,
          996.6278651402569,
          996.7617371477374,
          996.7679339661595,
          996.8764881308724,
          996.7867130098389,
          996.9224148289503,
          997.0050053221942,
          997.1086675804941,
          997.2241745750963,
          997.2211595405778,
          997.426994263353,
          997.5234998049407,
          997.6944996389227,
          997.8091128895579,
          997.8500857489498,
          998.00669563685,
          998.1229102118435,
          998.2811663547706,
          998.4326366409899,
          998.5650717023494,
          998.7527637198539,
          998.9102891904222,
          999.0678395062536,
          999.2254146712652,
          999.3830146893758,
          999.5406395645067,
          999.6982893005771,
          999.8559639015094,
          1000.0136633712244,
          1000.1713877136445,
          1000.3291369326927,
          1000.4869110322929,
          1000.6447100163693,
          1000.8025338888469,
          1000.960382653651,
          1001.1182563147066,
          1001.2761548759426,
          1001.4340783412848,
          1001.5920267146608
         ],
         "yaxis": "y"
        },
        {
         "hovertemplate": "variable=Stratified Sampling<br>index=%{x}<br>value=%{y}<extra></extra>",
         "legendgroup": "Stratified Sampling",
         "line": {
          "color": "#ab63fa",
          "dash": "solid"
         },
         "marker": {
          "symbol": "circle"
         },
         "mode": "lines",
         "name": "Stratified Sampling",
         "showlegend": true,
         "type": "scattergl",
         "x": [
          0,
          1,
          2,
          3,
          4,
          5,
          6,
          7,
          8,
          9,
          10,
          11,
          12,
          13,
          14,
          15,
          16,
          17,
          18,
          19,
          20,
          21,
          22,
          23,
          24,
          25,
          26,
          27,
          28,
          29,
          30,
          31,
          32,
          33,
          34,
          35,
          36,
          37,
          38,
          39,
          40,
          41,
          42,
          43,
          44,
          45,
          46,
          47,
          48,
          49,
          50,
          51,
          52,
          53,
          54,
          55,
          56,
          57,
          58,
          59,
          60,
          61,
          62,
          63,
          64,
          65,
          66,
          67,
          68,
          69,
          70,
          71,
          72,
          73,
          74,
          75,
          76,
          77,
          78,
          79,
          80,
          81,
          82,
          83,
          84,
          85,
          86,
          87,
          88,
          89,
          90,
          91,
          92,
          93,
          94,
          95,
          96,
          97,
          98,
          99,
          100,
          101,
          102,
          103,
          104,
          105,
          106,
          107,
          108,
          109,
          110,
          111,
          112,
          113,
          114,
          115,
          116,
          117,
          118,
          119,
          120,
          121,
          122,
          123,
          124,
          125,
          126,
          127,
          128,
          129,
          130,
          131,
          132,
          133,
          134,
          135,
          136,
          137,
          138,
          139,
          140,
          141,
          142,
          143,
          144,
          145,
          146,
          147,
          148,
          149,
          150,
          151,
          152,
          153,
          154,
          155,
          156,
          157,
          158,
          159,
          160,
          161,
          162,
          163,
          164,
          165,
          166,
          167,
          168,
          169,
          170,
          171,
          172,
          173,
          174,
          175,
          176,
          177,
          178,
          179,
          180,
          181,
          182,
          183,
          184,
          185,
          186,
          187,
          188,
          189,
          190,
          191,
          192,
          193,
          194,
          195,
          196,
          197,
          198,
          199,
          200,
          201,
          202,
          203,
          204,
          205,
          206,
          207,
          208,
          209,
          210,
          211,
          212,
          213,
          214,
          215,
          216,
          217,
          218,
          219,
          220,
          221,
          222,
          223,
          224,
          225,
          226,
          227,
          228,
          229,
          230,
          231,
          232,
          233,
          234,
          235,
          236,
          237,
          238,
          239,
          240,
          241,
          242,
          243,
          244,
          245,
          246,
          247,
          248,
          249,
          250,
          251,
          252,
          253,
          254,
          255,
          256,
          257,
          258,
          259,
          260,
          261,
          262,
          263,
          264,
          265,
          266,
          267,
          268,
          269,
          270,
          271,
          272,
          273,
          274,
          275,
          276,
          277,
          278,
          279,
          280,
          281,
          282,
          283,
          284,
          285,
          286,
          287,
          288,
          289,
          290,
          291,
          292,
          293,
          294,
          295,
          296,
          297,
          298,
          299,
          300,
          301,
          302,
          303,
          304,
          305,
          306,
          307,
          308,
          309,
          310,
          311,
          312,
          313,
          314,
          315,
          316,
          317,
          318,
          319,
          320,
          321,
          322,
          323,
          324,
          325,
          326,
          327,
          328,
          329,
          330,
          331,
          332,
          333,
          334,
          335,
          336,
          337,
          338,
          339,
          340,
          341,
          342,
          343,
          344,
          345,
          346,
          347,
          348,
          349,
          350,
          351,
          352,
          353,
          354,
          355,
          356,
          357,
          358,
          359,
          360,
          361,
          362,
          363,
          364,
          365,
          366,
          367,
          368,
          369,
          370,
          371,
          372,
          373,
          374,
          375,
          376,
          377
         ],
         "xaxis": "x",
         "y": [
          1002.0234053818912,
          987.4359496580126,
          1002.0753052967543,
          1002.4564156684613,
          1001.9148168019482,
          1010.2151448435246,
          1010.2159084229096,
          1010.216672002872,
          1010.2174355834118,
          1010.2181991645282,
          1010.2049129354468,
          1009.9115150753463,
          1009.8991488876077,
          1009.7684544110801,
          1002.0362330190127,
          1009.7863144192395,
          1009.919530277907,
          1009.7764684782346,
          1009.778472004961,
          1009.7941759759481,
          1009.9259424857572,
          1009.7844826089928,
          1009.7864861516206,
          1009.7884896982234,
          1009.7904932488018,
          1009.7924968033554,
          1009.7810670550112,
          1009.7831087534884,
          1009.798507490868,
          1009.8005110613232,
          1009.7892338736883,
          1009.8045182141589,
          1009.8065217965399,
          994.1163394384262,
          985.5347135489751,
          984.8293708285719,
          1009.9515917242852,
          1009.8165397680755,
          1009.8185433743085,
          1009.8334846775771,
          992.8336409173958,
          1009.8245542168609,
          1009.8265578389962,
          1002.548960286967,
          1009.8305650951925,
          1009.8325687292536,
          1009.8345723672902,
          1009.8492085866778,
          1009.8511740925303,
          1001.7594295670762,
          1009.8425869591924,
          1001.3100830166982,
          1009.8590361541952,
          1009.861001679175,
          1009.8753329526755,
          992.9942358902478,
          1000.0488138171193,
          994.584200021582,
          1001.9905512318729,
          1001.6872152343008,
          1009.8747604611527,
          1009.7617951512814,
          1009.7641230250723,
          1001.5755945846875,
          1008.1456554525445,
          998.759313985603,
          1007.8998975198572,
          993.7940834899637,
          1007.9171530966506,
          992.8774179776142,
          1007.9987877878629,
          1008.0129212032829,
          1007.7938564879983,
          1008.029340595097,
          999.8936105025955,
          1008.022521372057,
          1008.0249214285366,
          1008.136263663182,
          1000.2868713629126,
          993.1313987810262,
          1008.2616026800526,
          1001.3247263309427,
          1008.360757090028,
          1008.2440363705368,
          1008.2681567828233,
          1008.1414072286691,
          1000.3622080228478,
          1008.228718493601,
          1008.2194592927846,
          1008.2653369892001,
          1007.7787739717162,
          1008.000787787442,
          1007.9925021007347,
          1008.0982973415682,
          1007.8733862159004,
          1007.8872512361578,
          1007.7775171055482,
          1007.7702615905854,
          1007.9763880636878,
          1007.8781856244048,
          1007.7913046322575,
          1007.6734311751486,
          1007.8875559640198,
          1007.9901973586084,
          1007.6955194969803,
          1007.8969263907516,
          1007.8119862760014,
          1008.1096508935063,
          1008.0142926503671,
          1008.2117433570603,
          1008.1167374034876,
          1008.1292722662463,
          1008.2278802085448,
          1008.1137275356358,
          1008.2217455073027,
          1008.1185280886256,
          1008.1209283736925,
          1008.217801790501,
          1008.1604005478515,
          1008.2662896212989,
          1008.4008865308907,
          1008.3189906311619,
          1008.1499608456783,
          1008.273758288143,
          1008.3143415520516,
          1008.1859096909852,
          1008.2985653286306,
          1006.4986228731194,
          1006.5101295841475,
          1006.5026169231985,
          1006.4149987122252,
          1006.5160066162346,
          1006.438428752121,
          1006.4407109280161,
          1006.5497288908824,
          1006.5423300548001,
          1006.5350073528455,
          1006.4406728917089,
          1006.6255843627785,
          1006.5407704099189,
          1006.6287039177978,
          1006.6302636989332,
          1006.5375560274817,
          1006.5395150877455,
          1006.6349430568397,
          1006.8226679212345,
          1006.4439059829634,
          1006.5297768840657,
          1006.457447042708,
          1006.533847137425,
          1006.4621636343882,
          1006.5551877071246,
          1006.5485496383003,
          1006.4692385633527,
          1006.5610650023067,
          1006.4824376229074,
          1006.5565381505535,
          1006.5585352885231,
          1006.4810302221456,
          1006.483388570482,
          1006.2494445115152,
          1006.3312864187445,
          1006.2563277984534,
          1006.25976945958,
          1006.1004576086032,
          1005.8900578453391,
          1006.2015670394239,
          1005.9847018780418,
          1006.2090964670765,
          1006.2128612020314,
          1005.8488879043347,
          1006.0629671865204,
          1005.9343468746497,
          1005.9395172232045,
          1005.8632572767998,
          1004.6888206924986,
          1005.3715461020521,
          1005.1619635611246,
          1005.611860898071,
          1005.7549408359465,
          1005.3097286713448,
          1005.6251817329811,
          1005.5613915466222,
          1005.5761368482282,
          1005.7014046254037,
          1005.5833955683848,
          1005.5688401771098,
          1005.4710432924533,
          1005.2588565750661,
          1005.1567212334886,
          1003.7191293758423,
          1003.5783113158204,
          1003.5272803148198,
          1003.3892005171028,
          1003.2597087178676,
          1003.284392395301,
          1002.9915261564363,
          1003.075965221712,
          1003.1391428006315,
          1003.1780028738374,
          1003.3245473247582,
          1002.9964728955496,
          1003.2126938694408,
          1003.4465576426394,
          1003.1995376894646,
          1003.142441109358,
          1002.893809369004,
          1003.0371280549736,
          1003.1241678571754,
          1003.008527120606,
          1002.9135187380627,
          1002.6078017999022,
          1002.6236026596082,
          1002.5018628993488,
          1002.1643804467174,
          1002.2479923195503,
          1001.9626801313624,
          1002.1048810701319,
          1002.0940874815825,
          1001.7615693733217,
          1001.6070200110778,
          1001.7489054607399,
          1001.8952032842932,
          1001.3269990881043,
          1001.4309404085103,
          1001.655492755732,
          1001.6904528838616,
          1001.610937869329,
          1001.2035437614269,
          1001.1233485262429,
          1001.2349879492524,
          1000.9061215199713,
          1001.0875001744114,
          1001.2723173796469,
          1001.2533781485323,
          1001.2134385467797,
          1001.1072875492024,
          1001.0243761444693,
          1001.0436893672093,
          1000.9422092619851,
          1000.6912675153467,
          1000.7397715838869,
          1000.7983388885575,
          1000.4940418549683,
          1000.7318859670952,
          1000.6624120191756,
          1000.7916820509975,
          1000.8105179900674,
          1000.6869939752194,
          1000.6854244938249,
          1000.7933462562363,
          1000.7632396983697,
          1000.0815082120981,
          998.3719167023945,
          998.3192639710644,
          998.3214900066745,
          998.2668215172062,
          997.9330464913656,
          997.6123903977049,
          996.7957270514161,
          996.4029817893704,
          996.412245442921,
          996.8549300371811,
          996.8058796521906,
          996.9755695922079,
          997.3179383817386,
          996.8322505269269,
          996.6239772948121,
          996.8162395554933,
          996.8152035603181,
          997.1082824288757,
          996.5283496728491,
          996.5972729511549,
          996.5257321887468,
          996.6173858881879,
          995.872800021175,
          995.8659501260025,
          995.8283706328231,
          995.6707102892462,
          995.0206134216467,
          994.6084759733097,
          994.9103249213408,
          994.9371344685528,
          995.0027325429432,
          995.095336785048,
          995.0707041554798,
          995.1938357899367,
          995.2221386625877,
          995.1739396343594,
          995.435141247706,
          995.5055314592911,
          995.6516700563585,
          995.587816439438,
          995.6794591349452,
          995.8975654198973,
          995.7831152886923,
          995.7816099487638,
          995.7534416950591,
          995.8487126861774,
          995.9410192680767,
          995.8132225651503,
          995.9418285175332,
          995.9466463883718,
          996.10212933341,
          996.2115522304173,
          996.1763880139399,
          996.1733384990522,
          996.2640373205762,
          996.3629532521695,
          996.4125843587083,
          996.287042776167,
          996.4242770239663,
          996.3729319938475,
          996.5319463708512,
          996.6689130169916,
          996.5640912587567,
          994.9671868618842,
          995.0223139330753,
          995.2067072222437,
          995.1290043957489,
          995.1994105709429,
          995.1994293766764,
          995.2887041987071,
          995.4057872787823,
          995.3216929613329,
          995.4941964805731,
          995.6050200394583,
          995.6777364779551,
          995.7748066183718,
          995.8155830391366,
          995.9815096729789,
          995.9730781191682,
          996.0991071756207,
          996.2351671918029,
          996.23810394379,
          996.3614176895385,
          996.3835969566129,
          996.5488649855091,
          996.6927271595071,
          996.6278651402567,
          996.7617371477376,
          996.76793396616,
          996.8764881308724,
          996.7867130098385,
          996.9224148289503,
          997.005005322194,
          997.1086675804936,
          997.2241745750963,
          997.2211595405777,
          997.426994263353,
          997.5234998049408,
          997.6944996389226,
          997.8091128895579,
          997.8500857489496,
          998.0066956368497,
          998.122910211844,
          998.2811663547701,
          998.4326366409897,
          998.5650717023495,
          998.7527637198535,
          998.9102891904226,
          999.0678395062537,
          999.2254146712648,
          999.3830146893758,
          999.5406395645066,
          999.6982893005771,
          999.8559639015091,
          1000.0136633712242,
          1000.1713877136442,
          1000.3291369326927,
          1000.4869110322932,
          1000.6447100163697,
          1000.802533888847,
          1000.9603826536509,
          1001.1182563147071,
          1001.2761548759426,
          1001.4340783412845,
          1001.5920267146607
         ],
         "yaxis": "y"
        },
        {
         "hovertemplate": "variable=Empirical Martingale Correction<br>index=%{x}<br>value=%{y}<extra></extra>",
         "legendgroup": "Empirical Martingale Correction",
         "line": {
          "color": "#FFA15A",
          "dash": "solid"
         },
         "marker": {
          "symbol": "circle"
         },
         "mode": "lines",
         "name": "Empirical Martingale Correction",
         "showlegend": true,
         "type": "scattergl",
         "x": [
          0,
          1,
          2,
          3,
          4,
          5,
          6,
          7,
          8,
          9,
          10,
          11,
          12,
          13,
          14,
          15,
          16,
          17,
          18,
          19,
          20,
          21,
          22,
          23,
          24,
          25,
          26,
          27,
          28,
          29,
          30,
          31,
          32,
          33,
          34,
          35,
          36,
          37,
          38,
          39,
          40,
          41,
          42,
          43,
          44,
          45,
          46,
          47,
          48,
          49,
          50,
          51,
          52,
          53,
          54,
          55,
          56,
          57,
          58,
          59,
          60,
          61,
          62,
          63,
          64,
          65,
          66,
          67,
          68,
          69,
          70,
          71,
          72,
          73,
          74,
          75,
          76,
          77,
          78,
          79,
          80,
          81,
          82,
          83,
          84,
          85,
          86,
          87,
          88,
          89,
          90,
          91,
          92,
          93,
          94,
          95,
          96,
          97,
          98,
          99,
          100,
          101,
          102,
          103,
          104,
          105,
          106,
          107,
          108,
          109,
          110,
          111,
          112,
          113,
          114,
          115,
          116,
          117,
          118,
          119,
          120,
          121,
          122,
          123,
          124,
          125,
          126,
          127,
          128,
          129,
          130,
          131,
          132,
          133,
          134,
          135,
          136,
          137,
          138,
          139,
          140,
          141,
          142,
          143,
          144,
          145,
          146,
          147,
          148,
          149,
          150,
          151,
          152,
          153,
          154,
          155,
          156,
          157,
          158,
          159,
          160,
          161,
          162,
          163,
          164,
          165,
          166,
          167,
          168,
          169,
          170,
          171,
          172,
          173,
          174,
          175,
          176,
          177,
          178,
          179,
          180,
          181,
          182,
          183,
          184,
          185,
          186,
          187,
          188,
          189,
          190,
          191,
          192,
          193,
          194,
          195,
          196,
          197,
          198,
          199,
          200,
          201,
          202,
          203,
          204,
          205,
          206,
          207,
          208,
          209,
          210,
          211,
          212,
          213,
          214,
          215,
          216,
          217,
          218,
          219,
          220,
          221,
          222,
          223,
          224,
          225,
          226,
          227,
          228,
          229,
          230,
          231,
          232,
          233,
          234,
          235,
          236,
          237,
          238,
          239,
          240,
          241,
          242,
          243,
          244,
          245,
          246,
          247,
          248,
          249,
          250,
          251,
          252,
          253,
          254,
          255,
          256,
          257,
          258,
          259,
          260,
          261,
          262,
          263,
          264,
          265,
          266,
          267,
          268,
          269,
          270,
          271,
          272,
          273,
          274,
          275,
          276,
          277,
          278,
          279,
          280,
          281,
          282,
          283,
          284,
          285,
          286,
          287,
          288,
          289,
          290,
          291,
          292,
          293,
          294,
          295,
          296,
          297,
          298,
          299,
          300,
          301,
          302,
          303,
          304,
          305,
          306,
          307,
          308,
          309,
          310,
          311,
          312,
          313,
          314,
          315,
          316,
          317,
          318,
          319,
          320,
          321,
          322,
          323,
          324,
          325,
          326,
          327,
          328,
          329,
          330,
          331,
          332,
          333,
          334,
          335,
          336,
          337,
          338,
          339,
          340,
          341,
          342,
          343,
          344,
          345,
          346,
          347,
          348,
          349,
          350,
          351,
          352,
          353,
          354,
          355,
          356,
          357,
          358,
          359,
          360,
          361,
          362,
          363,
          364,
          365,
          366,
          367,
          368,
          369,
          370,
          371,
          372,
          373,
          374,
          375,
          376,
          377
         ],
         "xaxis": "x",
         "y": [
          1010.3484363675566,
          1010.3488372995555,
          1010.3635955262233,
          1010.2136176864858,
          1010.2143812647166,
          1010.2151448435246,
          1010.2159084229096,
          1010.216672002872,
          1010.2174355834118,
          1010.2181991645282,
          1010.2049129354468,
          1009.9115150753463,
          1009.8991488876077,
          1009.7684544110801,
          1009.9163241892489,
          1009.7863144192395,
          1009.919530277907,
          1009.7764684782346,
          1009.778472004961,
          1009.7941759759481,
          1009.9259424857572,
          1009.7844826089928,
          1009.7864861516206,
          1009.7884896982234,
          1009.7904932488018,
          1009.7924968033554,
          1009.7810670550112,
          1009.7831087534884,
          1009.798507490868,
          1009.8005110613232,
          1009.7892338736883,
          1009.8045182141589,
          1009.8065217965399,
          1009.8085253828962,
          1009.8105289732281,
          1009.9499886277932,
          1009.9515917242852,
          1009.8165397680755,
          1009.8185433743085,
          1009.8334846775771,
          1009.8354501528254,
          1009.8245542168609,
          1009.8265578389962,
          1009.8285614651063,
          1009.8305650951925,
          1009.8325687292536,
          1009.8345723672902,
          1009.8492085866778,
          1009.8511740925303,
          1009.8405833052536,
          1009.8425869591924,
          1009.7260381577137,
          1009.8590361541952,
          1009.861001679175,
          1009.8753329526755,
          1009.8772603431888,
          1009.866898277069,
          1009.8688638173513,
          1009.8708293614598,
          1009.8849699420269,
          1009.8747604611527,
          1009.7617951512814,
          1009.7641230250723,
          1009.6522575845261,
          1008.1456554525445,
          1008.0223689877114,
          1007.8998975198572,
          1007.9144676066796,
          1007.9171530966506,
          1008.0198927453264,
          1007.9987877878629,
          1008.0129212032829,
          1007.7938564879983,
          1008.029340595097,
          1008.0432839545184,
          1008.022521372057,
          1008.0249214285366,
          1008.136263663182,
          1008.2583256446436,
          1008.2713576391955,
          1008.2616026800526,
          1008.2519240248035,
          1008.360757090028,
          1008.2440363705368,
          1008.2681567828233,
          1008.1414072286691,
          1008.2380539879179,
          1008.228718493601,
          1008.2194592927846,
          1008.2653369892001,
          1007.7787739717162,
          1008.000787787442,
          1007.9925021007347,
          1008.0982973415682,
          1007.8733862159004,
          1007.8872512361578,
          1007.7775171055482,
          1007.7702615905854,
          1007.9763880636878,
          1007.8781856244048,
          1007.7913046322575,
          1007.6734311751486,
          1007.8875559640198,
          1007.9901973586084,
          1007.6955194969803,
          1007.8969263907516,
          1007.8119862760014,
          1008.1096508935063,
          1008.0142926503671,
          1008.2117433570603,
          1008.1167374034876,
          1008.1292722662463,
          1008.2278802085448,
          1008.1137275356358,
          1008.2217455073027,
          1008.1185280886256,
          1008.1209283736925,
          1008.217801790501,
          1008.1604005478515,
          1008.2662896212989,
          1008.4008865308907,
          1008.3189906311619,
          1008.1499608456783,
          1008.273758288143,
          1008.3143415520516,
          1008.1859096909852,
          1008.2985653286306,
          1006.4986228731194,
          1006.5101295841475,
          1006.5026169231985,
          1006.4149987122252,
          1006.5160066162346,
          1006.438428752121,
          1006.4407109280161,
          1006.5497288908824,
          1006.5423300548001,
          1006.5350073528455,
          1006.4406728917089,
          1006.6255843627785,
          1006.5407704099189,
          1006.6287039177978,
          1006.6302636989332,
          1006.5375560274817,
          1006.5395150877455,
          1006.6349430568397,
          1006.8226679212345,
          1006.4439059829634,
          1006.5297768840657,
          1006.457447042708,
          1006.533847137425,
          1006.4621636343882,
          1006.5551877071246,
          1006.5485496383003,
          1006.4692385633527,
          1006.5610650023067,
          1006.4824376229074,
          1006.5565381505535,
          1006.5585352885231,
          1006.4810302221456,
          1006.483388570482,
          1006.2494445115152,
          1006.3312864187445,
          1006.2563277984534,
          1006.25976945958,
          1006.1004576086032,
          1005.8900578453391,
          1006.2015670394239,
          1005.9847018780418,
          1006.2090964670765,
          1006.2128612020314,
          1005.8488879043347,
          1006.0629671865204,
          1005.9343468746497,
          1005.9395172232045,
          1005.8632572767998,
          1004.6888206924986,
          1005.3715461020521,
          1005.1619635611246,
          1005.611860898071,
          1005.7549408359465,
          1005.3097286713448,
          1005.6251817329811,
          1005.5613915466222,
          1005.5761368482282,
          1005.7014046254037,
          1005.5833955683848,
          1005.5688401771098,
          1005.4710432924533,
          1005.2588565750661,
          1005.1567212334886,
          1003.7191293758423,
          1003.5783113158204,
          1003.5272803148198,
          1003.3892005171028,
          980.9088079872424,
          914.7321641931735,
          983.6939397194712,
          983.998333293689,
          956.095194658488,
          994.6938403269037,
          1003.3245473247582,
          1002.9964728955496,
          1003.2126938694408,
          1003.4465576426394,
          1003.1995376894646,
          1003.142441109358,
          1002.893809369004,
          1003.0371280549736,
          1003.1241678571754,
          1003.008527120606,
          1002.9135187380627,
          1002.6078017999022,
          1002.6236026596082,
          1002.5018628993488,
          1002.1643804467174,
          1002.2479923195503,
          1001.9626801313624,
          1002.1048810701319,
          1002.0940874815825,
          1001.7615693733217,
          1001.6070200110778,
          1001.7489054607399,
          1001.8952032842932,
          1001.3269990881043,
          1001.4309404085103,
          1001.655492755732,
          1001.6904528838616,
          1001.610937869329,
          1001.2035437614269,
          1001.1233485262429,
          1001.2349879492524,
          1000.9061215199713,
          1001.0875001744114,
          1001.2723173796469,
          1001.2533781485323,
          1001.2134385467797,
          982.8761428341294,
          984.6304287355358,
          993.7392130879896,
          993.4309730507421,
          974.2388850242032,
          947.5405007963888,
          953.5087610342864,
          947.127228820865,
          952.0711141723674,
          898.6190019336271,
          923.1028627471981,
          942.3075908032207,
          947.7242719207273,
          962.1077189407945,
          951.608243078639,
          961.5613585748089,
          969.4127754340292,
          946.4854549722627,
          922.8265983458716,
          923.0669413598663,
          893.670596489317,
          909.8883453854567,
          910.0264708376402,
          891.4443162891909,
          891.6541741150676,
          886.4243270802773,
          869.9092510958865,
          843.0574813712144,
          861.6409546190697,
          864.8881690887025,
          884.681761158964,
          944.9336585203865,
          996.8162395554933,
          996.8152035603181,
          997.1082824288757,
          996.5283496728491,
          996.5972729511549,
          996.5257321887468,
          996.6173858881879,
          995.872800021175,
          995.8659501260025,
          995.8283706328231,
          995.6707102892462,
          995.0206134216467,
          994.6084759733097,
          994.9103249213408,
          994.9371344685528,
          995.0027325429432,
          995.095336785048,
          995.0707041554798,
          995.1938357899367,
          995.2221386625877,
          995.1739396343594,
          995.435141247706,
          995.5055314592911,
          995.6516700563585,
          995.587816439438,
          995.6794591349452,
          995.8975654198973,
          995.7831152886923,
          995.7816099487638,
          995.7534416950591,
          995.8487126861774,
          995.9410192680767,
          995.8132225651503,
          995.9418285175332,
          995.9466463883718,
          996.10212933341,
          996.2115522304173,
          996.1763880139399,
          996.1733384990522,
          996.2640373205762,
          996.3629532521695,
          996.4125843587083,
          996.287042776167,
          996.4242770239663,
          996.3729319938475,
          996.5319463708512,
          996.6689130169916,
          996.5640912587567,
          994.9671868618842,
          995.0223139330753,
          995.2067072222437,
          995.1290043957489,
          995.1994105709429,
          995.1994293766764,
          995.2887041987071,
          995.4057872787823,
          995.3216929613329,
          995.4941964805731,
          988.763063721769,
          995.6777364779551,
          995.7748066183718,
          995.8155830391366,
          995.9815096729789,
          995.9730781191682,
          996.0991071756207,
          996.2351671918029,
          996.23810394379,
          996.3614176895385,
          996.3835969566129,
          996.5488649855091,
          996.6927271595071,
          996.6278651402567,
          996.7617371477376,
          996.76793396616,
          996.8764881308724,
          961.9861420891986,
          956.2938023091676,
          962.1026267629463,
          959.74493829368,
          964.1203923498122,
          994.1852794398727,
          997.426994263353,
          997.5234998049408,
          984.8665938014046,
          983.9394231058889,
          997.8500857489496,
          998.0066956368497,
          998.122910211844,
          998.2811663547701,
          998.4326366409897,
          998.5650717023495,
          998.7527637198535,
          998.9102891904226,
          999.0678395062537,
          999.2254146712648,
          980.7892847226384,
          999.5406395645066,
          999.6982893005771,
          999.8559639015091,
          1000.0136633712242,
          1000.1713877136442,
          1000.3291369326927,
          1000.4869110322932,
          1000.6447100163697,
          1000.802533888847,
          1000.9603826536509,
          1001.1182563147071,
          1001.2761548759426,
          1001.4340783412845,
          1001.5920267146607
         ],
         "yaxis": "y"
        }
       ],
       "layout": {
        "legend": {
         "title": {
          "text": "variable"
         },
         "tracegroupgap": 0
        },
        "margin": {
         "t": 60
        },
        "template": {
         "data": {
          "bar": [
           {
            "error_x": {
             "color": "#2a3f5f"
            },
            "error_y": {
             "color": "#2a3f5f"
            },
            "marker": {
             "line": {
              "color": "#E5ECF6",
              "width": 0.5
             },
             "pattern": {
              "fillmode": "overlay",
              "size": 10,
              "solidity": 0.2
             }
            },
            "type": "bar"
           }
          ],
          "barpolar": [
           {
            "marker": {
             "line": {
              "color": "#E5ECF6",
              "width": 0.5
             },
             "pattern": {
              "fillmode": "overlay",
              "size": 10,
              "solidity": 0.2
             }
            },
            "type": "barpolar"
           }
          ],
          "carpet": [
           {
            "aaxis": {
             "endlinecolor": "#2a3f5f",
             "gridcolor": "white",
             "linecolor": "white",
             "minorgridcolor": "white",
             "startlinecolor": "#2a3f5f"
            },
            "baxis": {
             "endlinecolor": "#2a3f5f",
             "gridcolor": "white",
             "linecolor": "white",
             "minorgridcolor": "white",
             "startlinecolor": "#2a3f5f"
            },
            "type": "carpet"
           }
          ],
          "choropleth": [
           {
            "colorbar": {
             "outlinewidth": 0,
             "ticks": ""
            },
            "type": "choropleth"
           }
          ],
          "contour": [
           {
            "colorbar": {
             "outlinewidth": 0,
             "ticks": ""
            },
            "colorscale": [
             [
              0,
              "#0d0887"
             ],
             [
              0.1111111111111111,
              "#46039f"
             ],
             [
              0.2222222222222222,
              "#7201a8"
             ],
             [
              0.3333333333333333,
              "#9c179e"
             ],
             [
              0.4444444444444444,
              "#bd3786"
             ],
             [
              0.5555555555555556,
              "#d8576b"
             ],
             [
              0.6666666666666666,
              "#ed7953"
             ],
             [
              0.7777777777777778,
              "#fb9f3a"
             ],
             [
              0.8888888888888888,
              "#fdca26"
             ],
             [
              1,
              "#f0f921"
             ]
            ],
            "type": "contour"
           }
          ],
          "contourcarpet": [
           {
            "colorbar": {
             "outlinewidth": 0,
             "ticks": ""
            },
            "type": "contourcarpet"
           }
          ],
          "heatmap": [
           {
            "colorbar": {
             "outlinewidth": 0,
             "ticks": ""
            },
            "colorscale": [
             [
              0,
              "#0d0887"
             ],
             [
              0.1111111111111111,
              "#46039f"
             ],
             [
              0.2222222222222222,
              "#7201a8"
             ],
             [
              0.3333333333333333,
              "#9c179e"
             ],
             [
              0.4444444444444444,
              "#bd3786"
             ],
             [
              0.5555555555555556,
              "#d8576b"
             ],
             [
              0.6666666666666666,
              "#ed7953"
             ],
             [
              0.7777777777777778,
              "#fb9f3a"
             ],
             [
              0.8888888888888888,
              "#fdca26"
             ],
             [
              1,
              "#f0f921"
             ]
            ],
            "type": "heatmap"
           }
          ],
          "heatmapgl": [
           {
            "colorbar": {
             "outlinewidth": 0,
             "ticks": ""
            },
            "colorscale": [
             [
              0,
              "#0d0887"
             ],
             [
              0.1111111111111111,
              "#46039f"
             ],
             [
              0.2222222222222222,
              "#7201a8"
             ],
             [
              0.3333333333333333,
              "#9c179e"
             ],
             [
              0.4444444444444444,
              "#bd3786"
             ],
             [
              0.5555555555555556,
              "#d8576b"
             ],
             [
              0.6666666666666666,
              "#ed7953"
             ],
             [
              0.7777777777777778,
              "#fb9f3a"
             ],
             [
              0.8888888888888888,
              "#fdca26"
             ],
             [
              1,
              "#f0f921"
             ]
            ],
            "type": "heatmapgl"
           }
          ],
          "histogram": [
           {
            "marker": {
             "pattern": {
              "fillmode": "overlay",
              "size": 10,
              "solidity": 0.2
             }
            },
            "type": "histogram"
           }
          ],
          "histogram2d": [
           {
            "colorbar": {
             "outlinewidth": 0,
             "ticks": ""
            },
            "colorscale": [
             [
              0,
              "#0d0887"
             ],
             [
              0.1111111111111111,
              "#46039f"
             ],
             [
              0.2222222222222222,
              "#7201a8"
             ],
             [
              0.3333333333333333,
              "#9c179e"
             ],
             [
              0.4444444444444444,
              "#bd3786"
             ],
             [
              0.5555555555555556,
              "#d8576b"
             ],
             [
              0.6666666666666666,
              "#ed7953"
             ],
             [
              0.7777777777777778,
              "#fb9f3a"
             ],
             [
              0.8888888888888888,
              "#fdca26"
             ],
             [
              1,
              "#f0f921"
             ]
            ],
            "type": "histogram2d"
           }
          ],
          "histogram2dcontour": [
           {
            "colorbar": {
             "outlinewidth": 0,
             "ticks": ""
            },
            "colorscale": [
             [
              0,
              "#0d0887"
             ],
             [
              0.1111111111111111,
              "#46039f"
             ],
             [
              0.2222222222222222,
              "#7201a8"
             ],
             [
              0.3333333333333333,
              "#9c179e"
             ],
             [
              0.4444444444444444,
              "#bd3786"
             ],
             [
              0.5555555555555556,
              "#d8576b"
             ],
             [
              0.6666666666666666,
              "#ed7953"
             ],
             [
              0.7777777777777778,
              "#fb9f3a"
             ],
             [
              0.8888888888888888,
              "#fdca26"
             ],
             [
              1,
              "#f0f921"
             ]
            ],
            "type": "histogram2dcontour"
           }
          ],
          "mesh3d": [
           {
            "colorbar": {
             "outlinewidth": 0,
             "ticks": ""
            },
            "type": "mesh3d"
           }
          ],
          "parcoords": [
           {
            "line": {
             "colorbar": {
              "outlinewidth": 0,
              "ticks": ""
             }
            },
            "type": "parcoords"
           }
          ],
          "pie": [
           {
            "automargin": true,
            "type": "pie"
           }
          ],
          "scatter": [
           {
            "fillpattern": {
             "fillmode": "overlay",
             "size": 10,
             "solidity": 0.2
            },
            "type": "scatter"
           }
          ],
          "scatter3d": [
           {
            "line": {
             "colorbar": {
              "outlinewidth": 0,
              "ticks": ""
             }
            },
            "marker": {
             "colorbar": {
              "outlinewidth": 0,
              "ticks": ""
             }
            },
            "type": "scatter3d"
           }
          ],
          "scattercarpet": [
           {
            "marker": {
             "colorbar": {
              "outlinewidth": 0,
              "ticks": ""
             }
            },
            "type": "scattercarpet"
           }
          ],
          "scattergeo": [
           {
            "marker": {
             "colorbar": {
              "outlinewidth": 0,
              "ticks": ""
             }
            },
            "type": "scattergeo"
           }
          ],
          "scattergl": [
           {
            "marker": {
             "colorbar": {
              "outlinewidth": 0,
              "ticks": ""
             }
            },
            "type": "scattergl"
           }
          ],
          "scattermapbox": [
           {
            "marker": {
             "colorbar": {
              "outlinewidth": 0,
              "ticks": ""
             }
            },
            "type": "scattermapbox"
           }
          ],
          "scatterpolar": [
           {
            "marker": {
             "colorbar": {
              "outlinewidth": 0,
              "ticks": ""
             }
            },
            "type": "scatterpolar"
           }
          ],
          "scatterpolargl": [
           {
            "marker": {
             "colorbar": {
              "outlinewidth": 0,
              "ticks": ""
             }
            },
            "type": "scatterpolargl"
           }
          ],
          "scatterternary": [
           {
            "marker": {
             "colorbar": {
              "outlinewidth": 0,
              "ticks": ""
             }
            },
            "type": "scatterternary"
           }
          ],
          "surface": [
           {
            "colorbar": {
             "outlinewidth": 0,
             "ticks": ""
            },
            "colorscale": [
             [
              0,
              "#0d0887"
             ],
             [
              0.1111111111111111,
              "#46039f"
             ],
             [
              0.2222222222222222,
              "#7201a8"
             ],
             [
              0.3333333333333333,
              "#9c179e"
             ],
             [
              0.4444444444444444,
              "#bd3786"
             ],
             [
              0.5555555555555556,
              "#d8576b"
             ],
             [
              0.6666666666666666,
              "#ed7953"
             ],
             [
              0.7777777777777778,
              "#fb9f3a"
             ],
             [
              0.8888888888888888,
              "#fdca26"
             ],
             [
              1,
              "#f0f921"
             ]
            ],
            "type": "surface"
           }
          ],
          "table": [
           {
            "cells": {
             "fill": {
              "color": "#EBF0F8"
             },
             "line": {
              "color": "white"
             }
            },
            "header": {
             "fill": {
              "color": "#C8D4E3"
             },
             "line": {
              "color": "white"
             }
            },
            "type": "table"
           }
          ]
         },
         "layout": {
          "annotationdefaults": {
           "arrowcolor": "#2a3f5f",
           "arrowhead": 0,
           "arrowwidth": 1
          },
          "autotypenumbers": "strict",
          "coloraxis": {
           "colorbar": {
            "outlinewidth": 0,
            "ticks": ""
           }
          },
          "colorscale": {
           "diverging": [
            [
             0,
             "#8e0152"
            ],
            [
             0.1,
             "#c51b7d"
            ],
            [
             0.2,
             "#de77ae"
            ],
            [
             0.3,
             "#f1b6da"
            ],
            [
             0.4,
             "#fde0ef"
            ],
            [
             0.5,
             "#f7f7f7"
            ],
            [
             0.6,
             "#e6f5d0"
            ],
            [
             0.7,
             "#b8e186"
            ],
            [
             0.8,
             "#7fbc41"
            ],
            [
             0.9,
             "#4d9221"
            ],
            [
             1,
             "#276419"
            ]
           ],
           "sequential": [
            [
             0,
             "#0d0887"
            ],
            [
             0.1111111111111111,
             "#46039f"
            ],
            [
             0.2222222222222222,
             "#7201a8"
            ],
            [
             0.3333333333333333,
             "#9c179e"
            ],
            [
             0.4444444444444444,
             "#bd3786"
            ],
            [
             0.5555555555555556,
             "#d8576b"
            ],
            [
             0.6666666666666666,
             "#ed7953"
            ],
            [
             0.7777777777777778,
             "#fb9f3a"
            ],
            [
             0.8888888888888888,
             "#fdca26"
            ],
            [
             1,
             "#f0f921"
            ]
           ],
           "sequentialminus": [
            [
             0,
             "#0d0887"
            ],
            [
             0.1111111111111111,
             "#46039f"
            ],
            [
             0.2222222222222222,
             "#7201a8"
            ],
            [
             0.3333333333333333,
             "#9c179e"
            ],
            [
             0.4444444444444444,
             "#bd3786"
            ],
            [
             0.5555555555555556,
             "#d8576b"
            ],
            [
             0.6666666666666666,
             "#ed7953"
            ],
            [
             0.7777777777777778,
             "#fb9f3a"
            ],
            [
             0.8888888888888888,
             "#fdca26"
            ],
            [
             1,
             "#f0f921"
            ]
           ]
          },
          "colorway": [
           "#636efa",
           "#EF553B",
           "#00cc96",
           "#ab63fa",
           "#FFA15A",
           "#19d3f3",
           "#FF6692",
           "#B6E880",
           "#FF97FF",
           "#FECB52"
          ],
          "font": {
           "color": "#2a3f5f"
          },
          "geo": {
           "bgcolor": "white",
           "lakecolor": "white",
           "landcolor": "#E5ECF6",
           "showlakes": true,
           "showland": true,
           "subunitcolor": "white"
          },
          "hoverlabel": {
           "align": "left"
          },
          "hovermode": "closest",
          "mapbox": {
           "style": "light"
          },
          "paper_bgcolor": "white",
          "plot_bgcolor": "#E5ECF6",
          "polar": {
           "angularaxis": {
            "gridcolor": "white",
            "linecolor": "white",
            "ticks": ""
           },
           "bgcolor": "#E5ECF6",
           "radialaxis": {
            "gridcolor": "white",
            "linecolor": "white",
            "ticks": ""
           }
          },
          "scene": {
           "xaxis": {
            "backgroundcolor": "#E5ECF6",
            "gridcolor": "white",
            "gridwidth": 2,
            "linecolor": "white",
            "showbackground": true,
            "ticks": "",
            "zerolinecolor": "white"
           },
           "yaxis": {
            "backgroundcolor": "#E5ECF6",
            "gridcolor": "white",
            "gridwidth": 2,
            "linecolor": "white",
            "showbackground": true,
            "ticks": "",
            "zerolinecolor": "white"
           },
           "zaxis": {
            "backgroundcolor": "#E5ECF6",
            "gridcolor": "white",
            "gridwidth": 2,
            "linecolor": "white",
            "showbackground": true,
            "ticks": "",
            "zerolinecolor": "white"
           }
          },
          "shapedefaults": {
           "line": {
            "color": "#2a3f5f"
           }
          },
          "ternary": {
           "aaxis": {
            "gridcolor": "white",
            "linecolor": "white",
            "ticks": ""
           },
           "baxis": {
            "gridcolor": "white",
            "linecolor": "white",
            "ticks": ""
           },
           "bgcolor": "#E5ECF6",
           "caxis": {
            "gridcolor": "white",
            "linecolor": "white",
            "ticks": ""
           }
          },
          "title": {
           "x": 0.05
          },
          "xaxis": {
           "automargin": true,
           "gridcolor": "white",
           "linecolor": "white",
           "ticks": "",
           "title": {
            "standoff": 15
           },
           "zerolinecolor": "white",
           "zerolinewidth": 2
          },
          "yaxis": {
           "automargin": true,
           "gridcolor": "white",
           "linecolor": "white",
           "ticks": "",
           "title": {
            "standoff": 15
           },
           "zerolinecolor": "white",
           "zerolinewidth": 2
          }
         }
        },
        "xaxis": {
         "anchor": "y",
         "domain": [
          0,
          1
         ],
         "title": {
          "text": "index"
         }
        },
        "yaxis": {
         "anchor": "x",
         "domain": [
          0,
          1
         ],
         "title": {
          "text": "value"
         }
        }
       }
      }
     },
     "metadata": {},
     "output_type": "display_data"
    }
   ],
   "source": [
    "px.line(merged, \n",
    "        y=[\"Price\", \n",
    "           \"Monte Carlo\", \n",
    "           \"Antithetic Variates\", \n",
    "           \"Stratified Sampling\",\n",
    "           \"Empirical Martingale Correction\"\n",
    "           ]\n",
    "        )"
   ]
  },
  {
   "cell_type": "markdown",
   "metadata": {},
   "source": [
    "## Greeks"
   ]
  },
  {
   "cell_type": "code",
   "execution_count": 31,
   "metadata": {},
   "outputs": [
    {
     "data": {
      "application/vnd.jupyter.widget-view+json": {
       "model_id": "ab12d487334843a48c33977c1bb27b51",
       "version_major": 2,
       "version_minor": 0
      },
      "text/plain": [
       "  0%|          | 0/378 [00:00<?, ?it/s]"
      ]
     },
     "metadata": {},
     "output_type": "display_data"
    }
   ],
   "source": [
    "expected_payoffs_greeks = np.zeros(shape=(9, m))\n",
    "h = 0.002\n",
    "p = 3\n",
    "z = np.random.multivariate_normal(mean=np.zeros(p), cov=np.identity(p), size=m)\n",
    "\n",
    "\n",
    "for t in tqdm(range(m), leave=False):\n",
    "    r = calc_rates(t, m, rates)\n",
    "\n",
    "    paths = n_path_sim_greeks(asset_hist=asset_hist,\n",
    "                    Nsim=30,\n",
    "                    t=t,\n",
    "                    r=r,\n",
    "                    dt=dt,\n",
    "                    p=3,\n",
    "                    m=m,\n",
    "                    h_=h,\n",
    "                    sim_func=multi_asset_GBM,\n",
    "                    z=z[t:]\n",
    "                    )\n",
    "                    \n",
    "    for i in range(9):\n",
    "        expected_payoffs_greeks[i][t] = expected_payoff(payoff(paths[i], K, Barrier, m-t), r=r, T=T, t=t*dt)"
   ]
  },
  {
   "cell_type": "code",
   "execution_count": 39,
   "metadata": {},
   "outputs": [],
   "source": [
    "expected_payoffs_greeks = pd.read_csv(\"simulations/100sims_exp_payoffs_greeks.csv\").to_numpy().T"
   ]
  },
  {
   "cell_type": "code",
   "execution_count": 40,
   "metadata": {},
   "outputs": [
    {
     "data": {
      "text/html": [
       "<div>\n",
       "<style scoped>\n",
       "    .dataframe tbody tr th:only-of-type {\n",
       "        vertical-align: middle;\n",
       "    }\n",
       "\n",
       "    .dataframe tbody tr th {\n",
       "        vertical-align: top;\n",
       "    }\n",
       "\n",
       "    .dataframe thead th {\n",
       "        text-align: right;\n",
       "    }\n",
       "</style>\n",
       "<table border=\"1\" class=\"dataframe\">\n",
       "  <thead>\n",
       "    <tr style=\"text-align: right;\">\n",
       "      <th></th>\n",
       "      <th>Delta</th>\n",
       "      <th>Gamma</th>\n",
       "      <th>Vega</th>\n",
       "      <th>Theta</th>\n",
       "      <th>Rho</th>\n",
       "    </tr>\n",
       "  </thead>\n",
       "  <tbody>\n",
       "    <tr>\n",
       "      <th>0</th>\n",
       "      <td>724.433517</td>\n",
       "      <td>-2.842171e-08</td>\n",
       "      <td>-151.079077</td>\n",
       "      <td>-150.970699</td>\n",
       "      <td>0.108378</td>\n",
       "    </tr>\n",
       "    <tr>\n",
       "      <th>1</th>\n",
       "      <td>766.016537</td>\n",
       "      <td>-2.273737e-07</td>\n",
       "      <td>-148.780863</td>\n",
       "      <td>-148.666568</td>\n",
       "      <td>0.114295</td>\n",
       "    </tr>\n",
       "    <tr>\n",
       "      <th>2</th>\n",
       "      <td>748.870054</td>\n",
       "      <td>-5.400125e-07</td>\n",
       "      <td>-158.683051</td>\n",
       "      <td>-158.582225</td>\n",
       "      <td>0.100826</td>\n",
       "    </tr>\n",
       "    <tr>\n",
       "      <th>3</th>\n",
       "      <td>737.619840</td>\n",
       "      <td>5.115908e-07</td>\n",
       "      <td>-160.093150</td>\n",
       "      <td>-159.884631</td>\n",
       "      <td>0.208518</td>\n",
       "    </tr>\n",
       "    <tr>\n",
       "      <th>4</th>\n",
       "      <td>723.171938</td>\n",
       "      <td>-3.126388e-07</td>\n",
       "      <td>-166.351890</td>\n",
       "      <td>-166.148002</td>\n",
       "      <td>0.203887</td>\n",
       "    </tr>\n",
       "  </tbody>\n",
       "</table>\n",
       "</div>"
      ],
      "text/plain": [
       "        Delta         Gamma        Vega       Theta       Rho\n",
       "0  724.433517 -2.842171e-08 -151.079077 -150.970699  0.108378\n",
       "1  766.016537 -2.273737e-07 -148.780863 -148.666568  0.114295\n",
       "2  748.870054 -5.400125e-07 -158.683051 -158.582225  0.100826\n",
       "3  737.619840  5.115908e-07 -160.093150 -159.884631  0.208518\n",
       "4  723.171938 -3.126388e-07 -166.351890 -166.148002  0.203887"
      ]
     },
     "execution_count": 40,
     "metadata": {},
     "output_type": "execute_result"
    }
   ],
   "source": [
    "greeks_df = pd.DataFrame(\n",
    "    np.concatenate(\n",
    "        (\n",
    "            (\n",
    "                (expected_payoffs_greeks[2] - expected_payoffs_greeks[1])/(2 * h)\n",
    "            ).reshape(1, m), \n",
    "            (\n",
    "                (expected_payoffs_greeks[2] - ( 2 * expected_payoffs_greeks[0] ) + expected_payoffs_greeks[1])/ np.square(h)\n",
    "            ).reshape(1, m),\n",
    "            (\n",
    "                (expected_payoffs_greeks[4] - expected_payoffs_greeks[3])/(2 * h)\n",
    "            ).reshape(1, m), \n",
    "            (\n",
    "                (expected_payoffs_greeks[6] - expected_payoffs_greeks[5])/(2 * h)\n",
    "            ).reshape(1, m), \n",
    "            (\n",
    "                (expected_payoffs_greeks[8] - expected_payoffs_greeks[7])/(2 * h)\n",
    "            ).reshape(1, m), \n",
    "        ),\n",
    "        axis=0\n",
    "    ).T,\n",
    "    columns=[\"Delta\", \"Gamma\", \"Vega\", \"Theta\", \"Rho\"]\n",
    ")\n",
    "greeks_df.head()"
   ]
  },
  {
   "cell_type": "markdown",
   "metadata": {},
   "source": [
    "### Delta"
   ]
  },
  {
   "cell_type": "code",
   "execution_count": 41,
   "metadata": {},
   "outputs": [
    {
     "data": {
      "application/vnd.plotly.v1+json": {
       "config": {
        "plotlyServerURL": "https://plot.ly"
       },
       "data": [
        {
         "hovertemplate": "index=%{x}<br>Delta=%{y}<extra></extra>",
         "legendgroup": "",
         "line": {
          "color": "#636efa",
          "dash": "solid"
         },
         "marker": {
          "symbol": "circle"
         },
         "mode": "lines",
         "name": "",
         "orientation": "v",
         "showlegend": false,
         "type": "scatter",
         "x": [
          0,
          1,
          2,
          3,
          4,
          5,
          6,
          7,
          8,
          9,
          10,
          11,
          12,
          13,
          14,
          15,
          16,
          17,
          18,
          19,
          20,
          21,
          22,
          23,
          24,
          25,
          26,
          27,
          28,
          29,
          30,
          31,
          32,
          33,
          34,
          35,
          36,
          37,
          38,
          39,
          40,
          41,
          42,
          43,
          44,
          45,
          46,
          47,
          48,
          49,
          50,
          51,
          52,
          53,
          54,
          55,
          56,
          57,
          58,
          59,
          60,
          61,
          62,
          63,
          64,
          65,
          66,
          67,
          68,
          69,
          70,
          71,
          72,
          73,
          74,
          75,
          76,
          77,
          78,
          79,
          80,
          81,
          82,
          83,
          84,
          85,
          86,
          87,
          88,
          89,
          90,
          91,
          92,
          93,
          94,
          95,
          96,
          97,
          98,
          99,
          100,
          101,
          102,
          103,
          104,
          105,
          106,
          107,
          108,
          109,
          110,
          111,
          112,
          113,
          114,
          115,
          116,
          117,
          118,
          119,
          120,
          121,
          122,
          123,
          124,
          125,
          126,
          127,
          128,
          129,
          130,
          131,
          132,
          133,
          134,
          135,
          136,
          137,
          138,
          139,
          140,
          141,
          142,
          143,
          144,
          145,
          146,
          147,
          148,
          149,
          150,
          151,
          152,
          153,
          154,
          155,
          156,
          157,
          158,
          159,
          160,
          161,
          162,
          163,
          164,
          165,
          166,
          167,
          168,
          169,
          170,
          171,
          172,
          173,
          174,
          175,
          176,
          177,
          178,
          179,
          180,
          181,
          182,
          183,
          184,
          185,
          186,
          187,
          188,
          189,
          190,
          191,
          192,
          193,
          194,
          195,
          196,
          197,
          198,
          199,
          200,
          201,
          202,
          203,
          204,
          205,
          206,
          207,
          208,
          209,
          210,
          211,
          212,
          213,
          214,
          215,
          216,
          217,
          218,
          219,
          220,
          221,
          222,
          223,
          224,
          225,
          226,
          227,
          228,
          229,
          230,
          231,
          232,
          233,
          234,
          235,
          236,
          237,
          238,
          239,
          240,
          241,
          242,
          243,
          244,
          245,
          246,
          247,
          248,
          249,
          250,
          251,
          252,
          253,
          254,
          255,
          256,
          257,
          258,
          259,
          260,
          261,
          262,
          263,
          264,
          265,
          266,
          267,
          268,
          269,
          270,
          271,
          272,
          273,
          274,
          275,
          276,
          277,
          278,
          279,
          280,
          281,
          282,
          283,
          284,
          285,
          286,
          287,
          288,
          289,
          290,
          291,
          292,
          293,
          294,
          295,
          296,
          297,
          298,
          299,
          300,
          301,
          302,
          303,
          304,
          305,
          306,
          307,
          308,
          309,
          310,
          311,
          312,
          313,
          314,
          315,
          316,
          317,
          318,
          319,
          320,
          321,
          322,
          323,
          324,
          325,
          326,
          327,
          328,
          329,
          330,
          331,
          332,
          333,
          334,
          335,
          336,
          337,
          338,
          339,
          340,
          341,
          342,
          343,
          344,
          345,
          346,
          347,
          348,
          349,
          350,
          351,
          352,
          353,
          354,
          355,
          356,
          357,
          358,
          359,
          360,
          361,
          362,
          363,
          364,
          365,
          366,
          367,
          368,
          369,
          370,
          371,
          372,
          373,
          374,
          375,
          376,
          377
         ],
         "xaxis": "x",
         "y": [
          724.4335174453056,
          766.0165370019172,
          748.8700544495543,
          737.6198402427576,
          723.1719376939907,
          720.7917228202803,
          737.5501324582387,
          729.473427789344,
          744.3887574077621,
          764.0594849506215,
          757.3950422212192,
          777.2367390647617,
          766.4807048046498,
          730.5330514327295,
          697.4656140784816,
          731.1935565020633,
          730.1129727189561,
          745.5162508161948,
          758.9273021242207,
          749.0355329562135,
          703.083320950725,
          716.3261054729446,
          759.4786315611088,
          756.9584416762609,
          744.5149011606702,
          727.7568899823166,
          705.90966639719,
          697.2742536102885,
          720.0767184558288,
          711.8554501481924,
          715.4881399486328,
          700.7992489861579,
          712.4506159438511,
          695.4604583224864,
          664.0394934845233,
          651.8079847861031,
          682.8685909642331,
          684.6156474499026,
          688.0359093940456,
          707.7878834097646,
          686.5807178546675,
          697.1491184278875,
          742.3623186285226,
          735.8966743231576,
          751.0915210665701,
          771.7902955176044,
          770.3545226189021,
          0,
          0,
          774.3936857709173,
          0,
          0,
          0,
          0,
          0,
          0,
          52947.710272389544,
          755.6549676086775,
          745.6338243733853,
          734.4248564804445,
          740.276288195787,
          771.1333068225201,
          755.2958152657823,
          747.6541133340788,
          776.2386272291337,
          779.0630274335228,
          777.6389001652149,
          0,
          0,
          785.3788598409039,
          0,
          0,
          0,
          0,
          0,
          0,
          0,
          0,
          772.0968434484519,
          0,
          0,
          0,
          0,
          54072.459259200084,
          0,
          0,
          0,
          0,
          0,
          0,
          0,
          0,
          0,
          0,
          0,
          0,
          0,
          0,
          0,
          0,
          0,
          0,
          0,
          0,
          0,
          0,
          0,
          0,
          0,
          0,
          0,
          0,
          0,
          0,
          0,
          0,
          0,
          0,
          0,
          0,
          0,
          0,
          0,
          0,
          0,
          0,
          0,
          0,
          0,
          0,
          0,
          0,
          0,
          0,
          0,
          0,
          0,
          0,
          0,
          0,
          0,
          0,
          0,
          0,
          0,
          0,
          0,
          0,
          0,
          0,
          0,
          0,
          0,
          0,
          0,
          0,
          0,
          0,
          0,
          0,
          0,
          0,
          0,
          0,
          0,
          0,
          0,
          0,
          0,
          0,
          0,
          0,
          0,
          0,
          0,
          0,
          0,
          0,
          0,
          0,
          0,
          0,
          0,
          0,
          0,
          0,
          0,
          0,
          0,
          0,
          0,
          0,
          0,
          0,
          0,
          0,
          0,
          0,
          0,
          0,
          0,
          0,
          0,
          0,
          0,
          0,
          0,
          0,
          0,
          0,
          0,
          0,
          0,
          0,
          0,
          0,
          0,
          0,
          0,
          0,
          0,
          0,
          0,
          0,
          0,
          0,
          0,
          0,
          0,
          0,
          0,
          0,
          0,
          0,
          0,
          0,
          0,
          0,
          0,
          0,
          0,
          0,
          0,
          0,
          0,
          0,
          0,
          0,
          0,
          0,
          0,
          0,
          0,
          0,
          0,
          0,
          0,
          0,
          0,
          0,
          0,
          0,
          0,
          0,
          0,
          0,
          0,
          0,
          0,
          0,
          0,
          0,
          0,
          0,
          0,
          0,
          0,
          0,
          0,
          0,
          0,
          0,
          0,
          0,
          0,
          0,
          0,
          0,
          0,
          0,
          0,
          0,
          0,
          0,
          0,
          0,
          0,
          0,
          0,
          0,
          0,
          0,
          0,
          0,
          0,
          0,
          0,
          0,
          0,
          0,
          0,
          0,
          0,
          0,
          0,
          0,
          0,
          0,
          0,
          0,
          0,
          0,
          0,
          0,
          0,
          0,
          0,
          0,
          0,
          0,
          0,
          0,
          0,
          0,
          0,
          0,
          0,
          0,
          0,
          0,
          0,
          0,
          0,
          0,
          0,
          0,
          0,
          0,
          0,
          0,
          0,
          0,
          0,
          0,
          0,
          0,
          0,
          0,
          0,
          0,
          0,
          0,
          0,
          0,
          0,
          0,
          0,
          0,
          0,
          0,
          0,
          0,
          0,
          0,
          0,
          0,
          0,
          0
         ],
         "yaxis": "y"
        }
       ],
       "layout": {
        "legend": {
         "tracegroupgap": 0
        },
        "margin": {
         "t": 60
        },
        "template": {
         "data": {
          "bar": [
           {
            "error_x": {
             "color": "#2a3f5f"
            },
            "error_y": {
             "color": "#2a3f5f"
            },
            "marker": {
             "line": {
              "color": "#E5ECF6",
              "width": 0.5
             },
             "pattern": {
              "fillmode": "overlay",
              "size": 10,
              "solidity": 0.2
             }
            },
            "type": "bar"
           }
          ],
          "barpolar": [
           {
            "marker": {
             "line": {
              "color": "#E5ECF6",
              "width": 0.5
             },
             "pattern": {
              "fillmode": "overlay",
              "size": 10,
              "solidity": 0.2
             }
            },
            "type": "barpolar"
           }
          ],
          "carpet": [
           {
            "aaxis": {
             "endlinecolor": "#2a3f5f",
             "gridcolor": "white",
             "linecolor": "white",
             "minorgridcolor": "white",
             "startlinecolor": "#2a3f5f"
            },
            "baxis": {
             "endlinecolor": "#2a3f5f",
             "gridcolor": "white",
             "linecolor": "white",
             "minorgridcolor": "white",
             "startlinecolor": "#2a3f5f"
            },
            "type": "carpet"
           }
          ],
          "choropleth": [
           {
            "colorbar": {
             "outlinewidth": 0,
             "ticks": ""
            },
            "type": "choropleth"
           }
          ],
          "contour": [
           {
            "colorbar": {
             "outlinewidth": 0,
             "ticks": ""
            },
            "colorscale": [
             [
              0,
              "#0d0887"
             ],
             [
              0.1111111111111111,
              "#46039f"
             ],
             [
              0.2222222222222222,
              "#7201a8"
             ],
             [
              0.3333333333333333,
              "#9c179e"
             ],
             [
              0.4444444444444444,
              "#bd3786"
             ],
             [
              0.5555555555555556,
              "#d8576b"
             ],
             [
              0.6666666666666666,
              "#ed7953"
             ],
             [
              0.7777777777777778,
              "#fb9f3a"
             ],
             [
              0.8888888888888888,
              "#fdca26"
             ],
             [
              1,
              "#f0f921"
             ]
            ],
            "type": "contour"
           }
          ],
          "contourcarpet": [
           {
            "colorbar": {
             "outlinewidth": 0,
             "ticks": ""
            },
            "type": "contourcarpet"
           }
          ],
          "heatmap": [
           {
            "colorbar": {
             "outlinewidth": 0,
             "ticks": ""
            },
            "colorscale": [
             [
              0,
              "#0d0887"
             ],
             [
              0.1111111111111111,
              "#46039f"
             ],
             [
              0.2222222222222222,
              "#7201a8"
             ],
             [
              0.3333333333333333,
              "#9c179e"
             ],
             [
              0.4444444444444444,
              "#bd3786"
             ],
             [
              0.5555555555555556,
              "#d8576b"
             ],
             [
              0.6666666666666666,
              "#ed7953"
             ],
             [
              0.7777777777777778,
              "#fb9f3a"
             ],
             [
              0.8888888888888888,
              "#fdca26"
             ],
             [
              1,
              "#f0f921"
             ]
            ],
            "type": "heatmap"
           }
          ],
          "heatmapgl": [
           {
            "colorbar": {
             "outlinewidth": 0,
             "ticks": ""
            },
            "colorscale": [
             [
              0,
              "#0d0887"
             ],
             [
              0.1111111111111111,
              "#46039f"
             ],
             [
              0.2222222222222222,
              "#7201a8"
             ],
             [
              0.3333333333333333,
              "#9c179e"
             ],
             [
              0.4444444444444444,
              "#bd3786"
             ],
             [
              0.5555555555555556,
              "#d8576b"
             ],
             [
              0.6666666666666666,
              "#ed7953"
             ],
             [
              0.7777777777777778,
              "#fb9f3a"
             ],
             [
              0.8888888888888888,
              "#fdca26"
             ],
             [
              1,
              "#f0f921"
             ]
            ],
            "type": "heatmapgl"
           }
          ],
          "histogram": [
           {
            "marker": {
             "pattern": {
              "fillmode": "overlay",
              "size": 10,
              "solidity": 0.2
             }
            },
            "type": "histogram"
           }
          ],
          "histogram2d": [
           {
            "colorbar": {
             "outlinewidth": 0,
             "ticks": ""
            },
            "colorscale": [
             [
              0,
              "#0d0887"
             ],
             [
              0.1111111111111111,
              "#46039f"
             ],
             [
              0.2222222222222222,
              "#7201a8"
             ],
             [
              0.3333333333333333,
              "#9c179e"
             ],
             [
              0.4444444444444444,
              "#bd3786"
             ],
             [
              0.5555555555555556,
              "#d8576b"
             ],
             [
              0.6666666666666666,
              "#ed7953"
             ],
             [
              0.7777777777777778,
              "#fb9f3a"
             ],
             [
              0.8888888888888888,
              "#fdca26"
             ],
             [
              1,
              "#f0f921"
             ]
            ],
            "type": "histogram2d"
           }
          ],
          "histogram2dcontour": [
           {
            "colorbar": {
             "outlinewidth": 0,
             "ticks": ""
            },
            "colorscale": [
             [
              0,
              "#0d0887"
             ],
             [
              0.1111111111111111,
              "#46039f"
             ],
             [
              0.2222222222222222,
              "#7201a8"
             ],
             [
              0.3333333333333333,
              "#9c179e"
             ],
             [
              0.4444444444444444,
              "#bd3786"
             ],
             [
              0.5555555555555556,
              "#d8576b"
             ],
             [
              0.6666666666666666,
              "#ed7953"
             ],
             [
              0.7777777777777778,
              "#fb9f3a"
             ],
             [
              0.8888888888888888,
              "#fdca26"
             ],
             [
              1,
              "#f0f921"
             ]
            ],
            "type": "histogram2dcontour"
           }
          ],
          "mesh3d": [
           {
            "colorbar": {
             "outlinewidth": 0,
             "ticks": ""
            },
            "type": "mesh3d"
           }
          ],
          "parcoords": [
           {
            "line": {
             "colorbar": {
              "outlinewidth": 0,
              "ticks": ""
             }
            },
            "type": "parcoords"
           }
          ],
          "pie": [
           {
            "automargin": true,
            "type": "pie"
           }
          ],
          "scatter": [
           {
            "fillpattern": {
             "fillmode": "overlay",
             "size": 10,
             "solidity": 0.2
            },
            "type": "scatter"
           }
          ],
          "scatter3d": [
           {
            "line": {
             "colorbar": {
              "outlinewidth": 0,
              "ticks": ""
             }
            },
            "marker": {
             "colorbar": {
              "outlinewidth": 0,
              "ticks": ""
             }
            },
            "type": "scatter3d"
           }
          ],
          "scattercarpet": [
           {
            "marker": {
             "colorbar": {
              "outlinewidth": 0,
              "ticks": ""
             }
            },
            "type": "scattercarpet"
           }
          ],
          "scattergeo": [
           {
            "marker": {
             "colorbar": {
              "outlinewidth": 0,
              "ticks": ""
             }
            },
            "type": "scattergeo"
           }
          ],
          "scattergl": [
           {
            "marker": {
             "colorbar": {
              "outlinewidth": 0,
              "ticks": ""
             }
            },
            "type": "scattergl"
           }
          ],
          "scattermapbox": [
           {
            "marker": {
             "colorbar": {
              "outlinewidth": 0,
              "ticks": ""
             }
            },
            "type": "scattermapbox"
           }
          ],
          "scatterpolar": [
           {
            "marker": {
             "colorbar": {
              "outlinewidth": 0,
              "ticks": ""
             }
            },
            "type": "scatterpolar"
           }
          ],
          "scatterpolargl": [
           {
            "marker": {
             "colorbar": {
              "outlinewidth": 0,
              "ticks": ""
             }
            },
            "type": "scatterpolargl"
           }
          ],
          "scatterternary": [
           {
            "marker": {
             "colorbar": {
              "outlinewidth": 0,
              "ticks": ""
             }
            },
            "type": "scatterternary"
           }
          ],
          "surface": [
           {
            "colorbar": {
             "outlinewidth": 0,
             "ticks": ""
            },
            "colorscale": [
             [
              0,
              "#0d0887"
             ],
             [
              0.1111111111111111,
              "#46039f"
             ],
             [
              0.2222222222222222,
              "#7201a8"
             ],
             [
              0.3333333333333333,
              "#9c179e"
             ],
             [
              0.4444444444444444,
              "#bd3786"
             ],
             [
              0.5555555555555556,
              "#d8576b"
             ],
             [
              0.6666666666666666,
              "#ed7953"
             ],
             [
              0.7777777777777778,
              "#fb9f3a"
             ],
             [
              0.8888888888888888,
              "#fdca26"
             ],
             [
              1,
              "#f0f921"
             ]
            ],
            "type": "surface"
           }
          ],
          "table": [
           {
            "cells": {
             "fill": {
              "color": "#EBF0F8"
             },
             "line": {
              "color": "white"
             }
            },
            "header": {
             "fill": {
              "color": "#C8D4E3"
             },
             "line": {
              "color": "white"
             }
            },
            "type": "table"
           }
          ]
         },
         "layout": {
          "annotationdefaults": {
           "arrowcolor": "#2a3f5f",
           "arrowhead": 0,
           "arrowwidth": 1
          },
          "autotypenumbers": "strict",
          "coloraxis": {
           "colorbar": {
            "outlinewidth": 0,
            "ticks": ""
           }
          },
          "colorscale": {
           "diverging": [
            [
             0,
             "#8e0152"
            ],
            [
             0.1,
             "#c51b7d"
            ],
            [
             0.2,
             "#de77ae"
            ],
            [
             0.3,
             "#f1b6da"
            ],
            [
             0.4,
             "#fde0ef"
            ],
            [
             0.5,
             "#f7f7f7"
            ],
            [
             0.6,
             "#e6f5d0"
            ],
            [
             0.7,
             "#b8e186"
            ],
            [
             0.8,
             "#7fbc41"
            ],
            [
             0.9,
             "#4d9221"
            ],
            [
             1,
             "#276419"
            ]
           ],
           "sequential": [
            [
             0,
             "#0d0887"
            ],
            [
             0.1111111111111111,
             "#46039f"
            ],
            [
             0.2222222222222222,
             "#7201a8"
            ],
            [
             0.3333333333333333,
             "#9c179e"
            ],
            [
             0.4444444444444444,
             "#bd3786"
            ],
            [
             0.5555555555555556,
             "#d8576b"
            ],
            [
             0.6666666666666666,
             "#ed7953"
            ],
            [
             0.7777777777777778,
             "#fb9f3a"
            ],
            [
             0.8888888888888888,
             "#fdca26"
            ],
            [
             1,
             "#f0f921"
            ]
           ],
           "sequentialminus": [
            [
             0,
             "#0d0887"
            ],
            [
             0.1111111111111111,
             "#46039f"
            ],
            [
             0.2222222222222222,
             "#7201a8"
            ],
            [
             0.3333333333333333,
             "#9c179e"
            ],
            [
             0.4444444444444444,
             "#bd3786"
            ],
            [
             0.5555555555555556,
             "#d8576b"
            ],
            [
             0.6666666666666666,
             "#ed7953"
            ],
            [
             0.7777777777777778,
             "#fb9f3a"
            ],
            [
             0.8888888888888888,
             "#fdca26"
            ],
            [
             1,
             "#f0f921"
            ]
           ]
          },
          "colorway": [
           "#636efa",
           "#EF553B",
           "#00cc96",
           "#ab63fa",
           "#FFA15A",
           "#19d3f3",
           "#FF6692",
           "#B6E880",
           "#FF97FF",
           "#FECB52"
          ],
          "font": {
           "color": "#2a3f5f"
          },
          "geo": {
           "bgcolor": "white",
           "lakecolor": "white",
           "landcolor": "#E5ECF6",
           "showlakes": true,
           "showland": true,
           "subunitcolor": "white"
          },
          "hoverlabel": {
           "align": "left"
          },
          "hovermode": "closest",
          "mapbox": {
           "style": "light"
          },
          "paper_bgcolor": "white",
          "plot_bgcolor": "#E5ECF6",
          "polar": {
           "angularaxis": {
            "gridcolor": "white",
            "linecolor": "white",
            "ticks": ""
           },
           "bgcolor": "#E5ECF6",
           "radialaxis": {
            "gridcolor": "white",
            "linecolor": "white",
            "ticks": ""
           }
          },
          "scene": {
           "xaxis": {
            "backgroundcolor": "#E5ECF6",
            "gridcolor": "white",
            "gridwidth": 2,
            "linecolor": "white",
            "showbackground": true,
            "ticks": "",
            "zerolinecolor": "white"
           },
           "yaxis": {
            "backgroundcolor": "#E5ECF6",
            "gridcolor": "white",
            "gridwidth": 2,
            "linecolor": "white",
            "showbackground": true,
            "ticks": "",
            "zerolinecolor": "white"
           },
           "zaxis": {
            "backgroundcolor": "#E5ECF6",
            "gridcolor": "white",
            "gridwidth": 2,
            "linecolor": "white",
            "showbackground": true,
            "ticks": "",
            "zerolinecolor": "white"
           }
          },
          "shapedefaults": {
           "line": {
            "color": "#2a3f5f"
           }
          },
          "ternary": {
           "aaxis": {
            "gridcolor": "white",
            "linecolor": "white",
            "ticks": ""
           },
           "baxis": {
            "gridcolor": "white",
            "linecolor": "white",
            "ticks": ""
           },
           "bgcolor": "#E5ECF6",
           "caxis": {
            "gridcolor": "white",
            "linecolor": "white",
            "ticks": ""
           }
          },
          "title": {
           "x": 0.05
          },
          "xaxis": {
           "automargin": true,
           "gridcolor": "white",
           "linecolor": "white",
           "ticks": "",
           "title": {
            "standoff": 15
           },
           "zerolinecolor": "white",
           "zerolinewidth": 2
          },
          "yaxis": {
           "automargin": true,
           "gridcolor": "white",
           "linecolor": "white",
           "ticks": "",
           "title": {
            "standoff": 15
           },
           "zerolinecolor": "white",
           "zerolinewidth": 2
          }
         }
        },
        "xaxis": {
         "anchor": "y",
         "domain": [
          0,
          1
         ],
         "title": {
          "text": "index"
         }
        },
        "yaxis": {
         "anchor": "x",
         "domain": [
          0,
          1
         ],
         "title": {
          "text": "Delta"
         }
        }
       }
      }
     },
     "metadata": {},
     "output_type": "display_data"
    }
   ],
   "source": [
    "px.line(greeks_df, y=\"Delta\")"
   ]
  },
  {
   "cell_type": "markdown",
   "metadata": {},
   "source": [
    "### Gamma"
   ]
  },
  {
   "cell_type": "code",
   "execution_count": 42,
   "metadata": {},
   "outputs": [
    {
     "data": {
      "application/vnd.plotly.v1+json": {
       "config": {
        "plotlyServerURL": "https://plot.ly"
       },
       "data": [
        {
         "hovertemplate": "index=%{x}<br>Gamma=%{y}<extra></extra>",
         "legendgroup": "",
         "line": {
          "color": "#636efa",
          "dash": "solid"
         },
         "marker": {
          "symbol": "circle"
         },
         "mode": "lines",
         "name": "",
         "orientation": "v",
         "showlegend": false,
         "type": "scatter",
         "x": [
          0,
          1,
          2,
          3,
          4,
          5,
          6,
          7,
          8,
          9,
          10,
          11,
          12,
          13,
          14,
          15,
          16,
          17,
          18,
          19,
          20,
          21,
          22,
          23,
          24,
          25,
          26,
          27,
          28,
          29,
          30,
          31,
          32,
          33,
          34,
          35,
          36,
          37,
          38,
          39,
          40,
          41,
          42,
          43,
          44,
          45,
          46,
          47,
          48,
          49,
          50,
          51,
          52,
          53,
          54,
          55,
          56,
          57,
          58,
          59,
          60,
          61,
          62,
          63,
          64,
          65,
          66,
          67,
          68,
          69,
          70,
          71,
          72,
          73,
          74,
          75,
          76,
          77,
          78,
          79,
          80,
          81,
          82,
          83,
          84,
          85,
          86,
          87,
          88,
          89,
          90,
          91,
          92,
          93,
          94,
          95,
          96,
          97,
          98,
          99,
          100,
          101,
          102,
          103,
          104,
          105,
          106,
          107,
          108,
          109,
          110,
          111,
          112,
          113,
          114,
          115,
          116,
          117,
          118,
          119,
          120,
          121,
          122,
          123,
          124,
          125,
          126,
          127,
          128,
          129,
          130,
          131,
          132,
          133,
          134,
          135,
          136,
          137,
          138,
          139,
          140,
          141,
          142,
          143,
          144,
          145,
          146,
          147,
          148,
          149,
          150,
          151,
          152,
          153,
          154,
          155,
          156,
          157,
          158,
          159,
          160,
          161,
          162,
          163,
          164,
          165,
          166,
          167,
          168,
          169,
          170,
          171,
          172,
          173,
          174,
          175,
          176,
          177,
          178,
          179,
          180,
          181,
          182,
          183,
          184,
          185,
          186,
          187,
          188,
          189,
          190,
          191,
          192,
          193,
          194,
          195,
          196,
          197,
          198,
          199,
          200,
          201,
          202,
          203,
          204,
          205,
          206,
          207,
          208,
          209,
          210,
          211,
          212,
          213,
          214,
          215,
          216,
          217,
          218,
          219,
          220,
          221,
          222,
          223,
          224,
          225,
          226,
          227,
          228,
          229,
          230,
          231,
          232,
          233,
          234,
          235,
          236,
          237,
          238,
          239,
          240,
          241,
          242,
          243,
          244,
          245,
          246,
          247,
          248,
          249,
          250,
          251,
          252,
          253,
          254,
          255,
          256,
          257,
          258,
          259,
          260,
          261,
          262,
          263,
          264,
          265,
          266,
          267,
          268,
          269,
          270,
          271,
          272,
          273,
          274,
          275,
          276,
          277,
          278,
          279,
          280,
          281,
          282,
          283,
          284,
          285,
          286,
          287,
          288,
          289,
          290,
          291,
          292,
          293,
          294,
          295,
          296,
          297,
          298,
          299,
          300,
          301,
          302,
          303,
          304,
          305,
          306,
          307,
          308,
          309,
          310,
          311,
          312,
          313,
          314,
          315,
          316,
          317,
          318,
          319,
          320,
          321,
          322,
          323,
          324,
          325,
          326,
          327,
          328,
          329,
          330,
          331,
          332,
          333,
          334,
          335,
          336,
          337,
          338,
          339,
          340,
          341,
          342,
          343,
          344,
          345,
          346,
          347,
          348,
          349,
          350,
          351,
          352,
          353,
          354,
          355,
          356,
          357,
          358,
          359,
          360,
          361,
          362,
          363,
          364,
          365,
          366,
          367,
          368,
          369,
          370,
          371,
          372,
          373,
          374,
          375,
          376,
          377
         ],
         "xaxis": "x",
         "y": [
          -2.8421709430404007e-8,
          -2.2737367544323206e-7,
          -5.400124791776761e-7,
          5.115907697472721e-7,
          -3.126388037344441e-7,
          8.526512829121202e-8,
          -9.094947017729282e-7,
          -4.547473508864641e-7,
          3.979039320256561e-7,
          -2.2737367544323206e-7,
          -3.979039320256561e-7,
          -8.526512829121202e-8,
          5.400124791776761e-7,
          2.5579538487363607e-7,
          2.5579538487363607e-7,
          7.673861546209082e-7,
          4.263256414560601e-7,
          9.094947017729282e-7,
          -5.115907697472721e-7,
          -1.7053025658242404e-7,
          -2.2737367544323206e-7,
          -3.410605131648481e-7,
          1.4210854715202004e-7,
          -1.1368683772161603e-7,
          -6.536993168992922e-7,
          -7.105427357601002e-7,
          1.1368683772161603e-7,
          8.526512829121202e-8,
          -5.400124791776761e-7,
          -3.694822225952521e-7,
          -5.400124791776761e-7,
          -1.4210854715202004e-7,
          -2.2737367544323206e-7,
          0,
          7.105427357601002e-7,
          5.115907697472721e-7,
          -2.2737367544323206e-7,
          -5.115907697472721e-7,
          4.547473508864641e-7,
          5.6843418860808015e-8,
          2.842170943040401e-7,
          -1.1368683772161603e-7,
          1.7053025658242404e-7,
          -6.821210263296962e-7,
          3.694822225952521e-7,
          -4.831690603168681e-7,
          5.684341886080801e-7,
          0,
          0,
          2.2737367544323206e-7,
          0,
          0,
          0,
          0,
          0,
          0,
          -52947710.272389546,
          9.094947017729282e-7,
          6.252776074688882e-7,
          5.400124791776761e-7,
          -1.1368683772161603e-7,
          -2.5579538487363607e-7,
          3.694822225952521e-7,
          -5.684341886080801e-7,
          -5.6843418860808015e-8,
          0.0000014495071809506044,
          3.126388037344441e-7,
          0,
          0,
          5.400124791776761e-7,
          0,
          0,
          0,
          0,
          0,
          0,
          0,
          0,
          8.526512829121202e-8,
          0,
          0,
          0,
          0,
          53287681.11479806,
          0,
          0,
          0,
          0,
          0,
          0,
          0,
          0,
          0,
          0,
          0,
          0,
          0,
          0,
          0,
          0,
          0,
          0,
          0,
          0,
          0,
          0,
          0,
          0,
          0,
          0,
          0,
          0,
          0,
          0,
          0,
          0,
          0,
          0,
          0,
          0,
          0,
          0,
          0,
          0,
          0,
          0,
          0,
          0,
          0,
          0,
          0,
          0,
          0,
          0,
          0,
          0,
          0,
          0,
          0,
          0,
          0,
          0,
          0,
          0,
          0,
          0,
          0,
          0,
          0,
          0,
          0,
          0,
          0,
          0,
          0,
          0,
          0,
          0,
          0,
          0,
          0,
          0,
          0,
          0,
          0,
          0,
          0,
          0,
          0,
          0,
          0,
          0,
          0,
          0,
          0,
          0,
          0,
          0,
          0,
          0,
          0,
          0,
          0,
          0,
          0,
          0,
          0,
          0,
          0,
          0,
          0,
          0,
          0,
          0,
          0,
          0,
          0,
          0,
          0,
          0,
          0,
          0,
          0,
          0,
          0,
          0,
          0,
          0,
          0,
          0,
          0,
          0,
          0,
          0,
          0,
          0,
          0,
          0,
          0,
          0,
          0,
          0,
          0,
          0,
          0,
          0,
          0,
          0,
          0,
          0,
          0,
          0,
          0,
          0,
          0,
          0,
          0,
          0,
          0,
          0,
          0,
          0,
          0,
          0,
          0,
          0,
          0,
          0,
          0,
          0,
          0,
          0,
          0,
          0,
          0,
          0,
          0,
          0,
          0,
          0,
          0,
          0,
          0,
          0,
          0,
          0,
          0,
          0,
          0,
          0,
          0,
          0,
          0,
          0,
          0,
          0,
          0,
          0,
          0,
          0,
          0,
          0,
          0,
          0,
          0,
          0,
          0,
          0,
          0,
          0,
          0,
          0,
          0,
          0,
          0,
          0,
          0,
          0,
          0,
          0,
          0,
          0,
          0,
          0,
          0,
          0,
          0,
          0,
          0,
          0,
          0,
          0,
          0,
          0,
          0,
          0,
          0,
          0,
          0,
          0,
          0,
          0,
          0,
          0,
          0,
          0,
          0,
          0,
          0,
          0,
          0,
          0,
          0,
          0,
          0,
          0,
          0,
          0,
          0,
          0,
          0,
          0,
          0,
          0,
          0,
          0,
          0,
          0,
          0,
          0,
          0,
          0,
          0,
          0,
          0,
          0,
          0,
          0,
          0,
          0,
          0,
          0,
          0,
          0,
          0,
          0,
          0,
          0,
          0,
          0,
          0,
          0,
          0,
          0,
          0,
          0,
          0,
          0
         ],
         "yaxis": "y"
        }
       ],
       "layout": {
        "legend": {
         "tracegroupgap": 0
        },
        "margin": {
         "t": 60
        },
        "template": {
         "data": {
          "bar": [
           {
            "error_x": {
             "color": "#2a3f5f"
            },
            "error_y": {
             "color": "#2a3f5f"
            },
            "marker": {
             "line": {
              "color": "#E5ECF6",
              "width": 0.5
             },
             "pattern": {
              "fillmode": "overlay",
              "size": 10,
              "solidity": 0.2
             }
            },
            "type": "bar"
           }
          ],
          "barpolar": [
           {
            "marker": {
             "line": {
              "color": "#E5ECF6",
              "width": 0.5
             },
             "pattern": {
              "fillmode": "overlay",
              "size": 10,
              "solidity": 0.2
             }
            },
            "type": "barpolar"
           }
          ],
          "carpet": [
           {
            "aaxis": {
             "endlinecolor": "#2a3f5f",
             "gridcolor": "white",
             "linecolor": "white",
             "minorgridcolor": "white",
             "startlinecolor": "#2a3f5f"
            },
            "baxis": {
             "endlinecolor": "#2a3f5f",
             "gridcolor": "white",
             "linecolor": "white",
             "minorgridcolor": "white",
             "startlinecolor": "#2a3f5f"
            },
            "type": "carpet"
           }
          ],
          "choropleth": [
           {
            "colorbar": {
             "outlinewidth": 0,
             "ticks": ""
            },
            "type": "choropleth"
           }
          ],
          "contour": [
           {
            "colorbar": {
             "outlinewidth": 0,
             "ticks": ""
            },
            "colorscale": [
             [
              0,
              "#0d0887"
             ],
             [
              0.1111111111111111,
              "#46039f"
             ],
             [
              0.2222222222222222,
              "#7201a8"
             ],
             [
              0.3333333333333333,
              "#9c179e"
             ],
             [
              0.4444444444444444,
              "#bd3786"
             ],
             [
              0.5555555555555556,
              "#d8576b"
             ],
             [
              0.6666666666666666,
              "#ed7953"
             ],
             [
              0.7777777777777778,
              "#fb9f3a"
             ],
             [
              0.8888888888888888,
              "#fdca26"
             ],
             [
              1,
              "#f0f921"
             ]
            ],
            "type": "contour"
           }
          ],
          "contourcarpet": [
           {
            "colorbar": {
             "outlinewidth": 0,
             "ticks": ""
            },
            "type": "contourcarpet"
           }
          ],
          "heatmap": [
           {
            "colorbar": {
             "outlinewidth": 0,
             "ticks": ""
            },
            "colorscale": [
             [
              0,
              "#0d0887"
             ],
             [
              0.1111111111111111,
              "#46039f"
             ],
             [
              0.2222222222222222,
              "#7201a8"
             ],
             [
              0.3333333333333333,
              "#9c179e"
             ],
             [
              0.4444444444444444,
              "#bd3786"
             ],
             [
              0.5555555555555556,
              "#d8576b"
             ],
             [
              0.6666666666666666,
              "#ed7953"
             ],
             [
              0.7777777777777778,
              "#fb9f3a"
             ],
             [
              0.8888888888888888,
              "#fdca26"
             ],
             [
              1,
              "#f0f921"
             ]
            ],
            "type": "heatmap"
           }
          ],
          "heatmapgl": [
           {
            "colorbar": {
             "outlinewidth": 0,
             "ticks": ""
            },
            "colorscale": [
             [
              0,
              "#0d0887"
             ],
             [
              0.1111111111111111,
              "#46039f"
             ],
             [
              0.2222222222222222,
              "#7201a8"
             ],
             [
              0.3333333333333333,
              "#9c179e"
             ],
             [
              0.4444444444444444,
              "#bd3786"
             ],
             [
              0.5555555555555556,
              "#d8576b"
             ],
             [
              0.6666666666666666,
              "#ed7953"
             ],
             [
              0.7777777777777778,
              "#fb9f3a"
             ],
             [
              0.8888888888888888,
              "#fdca26"
             ],
             [
              1,
              "#f0f921"
             ]
            ],
            "type": "heatmapgl"
           }
          ],
          "histogram": [
           {
            "marker": {
             "pattern": {
              "fillmode": "overlay",
              "size": 10,
              "solidity": 0.2
             }
            },
            "type": "histogram"
           }
          ],
          "histogram2d": [
           {
            "colorbar": {
             "outlinewidth": 0,
             "ticks": ""
            },
            "colorscale": [
             [
              0,
              "#0d0887"
             ],
             [
              0.1111111111111111,
              "#46039f"
             ],
             [
              0.2222222222222222,
              "#7201a8"
             ],
             [
              0.3333333333333333,
              "#9c179e"
             ],
             [
              0.4444444444444444,
              "#bd3786"
             ],
             [
              0.5555555555555556,
              "#d8576b"
             ],
             [
              0.6666666666666666,
              "#ed7953"
             ],
             [
              0.7777777777777778,
              "#fb9f3a"
             ],
             [
              0.8888888888888888,
              "#fdca26"
             ],
             [
              1,
              "#f0f921"
             ]
            ],
            "type": "histogram2d"
           }
          ],
          "histogram2dcontour": [
           {
            "colorbar": {
             "outlinewidth": 0,
             "ticks": ""
            },
            "colorscale": [
             [
              0,
              "#0d0887"
             ],
             [
              0.1111111111111111,
              "#46039f"
             ],
             [
              0.2222222222222222,
              "#7201a8"
             ],
             [
              0.3333333333333333,
              "#9c179e"
             ],
             [
              0.4444444444444444,
              "#bd3786"
             ],
             [
              0.5555555555555556,
              "#d8576b"
             ],
             [
              0.6666666666666666,
              "#ed7953"
             ],
             [
              0.7777777777777778,
              "#fb9f3a"
             ],
             [
              0.8888888888888888,
              "#fdca26"
             ],
             [
              1,
              "#f0f921"
             ]
            ],
            "type": "histogram2dcontour"
           }
          ],
          "mesh3d": [
           {
            "colorbar": {
             "outlinewidth": 0,
             "ticks": ""
            },
            "type": "mesh3d"
           }
          ],
          "parcoords": [
           {
            "line": {
             "colorbar": {
              "outlinewidth": 0,
              "ticks": ""
             }
            },
            "type": "parcoords"
           }
          ],
          "pie": [
           {
            "automargin": true,
            "type": "pie"
           }
          ],
          "scatter": [
           {
            "fillpattern": {
             "fillmode": "overlay",
             "size": 10,
             "solidity": 0.2
            },
            "type": "scatter"
           }
          ],
          "scatter3d": [
           {
            "line": {
             "colorbar": {
              "outlinewidth": 0,
              "ticks": ""
             }
            },
            "marker": {
             "colorbar": {
              "outlinewidth": 0,
              "ticks": ""
             }
            },
            "type": "scatter3d"
           }
          ],
          "scattercarpet": [
           {
            "marker": {
             "colorbar": {
              "outlinewidth": 0,
              "ticks": ""
             }
            },
            "type": "scattercarpet"
           }
          ],
          "scattergeo": [
           {
            "marker": {
             "colorbar": {
              "outlinewidth": 0,
              "ticks": ""
             }
            },
            "type": "scattergeo"
           }
          ],
          "scattergl": [
           {
            "marker": {
             "colorbar": {
              "outlinewidth": 0,
              "ticks": ""
             }
            },
            "type": "scattergl"
           }
          ],
          "scattermapbox": [
           {
            "marker": {
             "colorbar": {
              "outlinewidth": 0,
              "ticks": ""
             }
            },
            "type": "scattermapbox"
           }
          ],
          "scatterpolar": [
           {
            "marker": {
             "colorbar": {
              "outlinewidth": 0,
              "ticks": ""
             }
            },
            "type": "scatterpolar"
           }
          ],
          "scatterpolargl": [
           {
            "marker": {
             "colorbar": {
              "outlinewidth": 0,
              "ticks": ""
             }
            },
            "type": "scatterpolargl"
           }
          ],
          "scatterternary": [
           {
            "marker": {
             "colorbar": {
              "outlinewidth": 0,
              "ticks": ""
             }
            },
            "type": "scatterternary"
           }
          ],
          "surface": [
           {
            "colorbar": {
             "outlinewidth": 0,
             "ticks": ""
            },
            "colorscale": [
             [
              0,
              "#0d0887"
             ],
             [
              0.1111111111111111,
              "#46039f"
             ],
             [
              0.2222222222222222,
              "#7201a8"
             ],
             [
              0.3333333333333333,
              "#9c179e"
             ],
             [
              0.4444444444444444,
              "#bd3786"
             ],
             [
              0.5555555555555556,
              "#d8576b"
             ],
             [
              0.6666666666666666,
              "#ed7953"
             ],
             [
              0.7777777777777778,
              "#fb9f3a"
             ],
             [
              0.8888888888888888,
              "#fdca26"
             ],
             [
              1,
              "#f0f921"
             ]
            ],
            "type": "surface"
           }
          ],
          "table": [
           {
            "cells": {
             "fill": {
              "color": "#EBF0F8"
             },
             "line": {
              "color": "white"
             }
            },
            "header": {
             "fill": {
              "color": "#C8D4E3"
             },
             "line": {
              "color": "white"
             }
            },
            "type": "table"
           }
          ]
         },
         "layout": {
          "annotationdefaults": {
           "arrowcolor": "#2a3f5f",
           "arrowhead": 0,
           "arrowwidth": 1
          },
          "autotypenumbers": "strict",
          "coloraxis": {
           "colorbar": {
            "outlinewidth": 0,
            "ticks": ""
           }
          },
          "colorscale": {
           "diverging": [
            [
             0,
             "#8e0152"
            ],
            [
             0.1,
             "#c51b7d"
            ],
            [
             0.2,
             "#de77ae"
            ],
            [
             0.3,
             "#f1b6da"
            ],
            [
             0.4,
             "#fde0ef"
            ],
            [
             0.5,
             "#f7f7f7"
            ],
            [
             0.6,
             "#e6f5d0"
            ],
            [
             0.7,
             "#b8e186"
            ],
            [
             0.8,
             "#7fbc41"
            ],
            [
             0.9,
             "#4d9221"
            ],
            [
             1,
             "#276419"
            ]
           ],
           "sequential": [
            [
             0,
             "#0d0887"
            ],
            [
             0.1111111111111111,
             "#46039f"
            ],
            [
             0.2222222222222222,
             "#7201a8"
            ],
            [
             0.3333333333333333,
             "#9c179e"
            ],
            [
             0.4444444444444444,
             "#bd3786"
            ],
            [
             0.5555555555555556,
             "#d8576b"
            ],
            [
             0.6666666666666666,
             "#ed7953"
            ],
            [
             0.7777777777777778,
             "#fb9f3a"
            ],
            [
             0.8888888888888888,
             "#fdca26"
            ],
            [
             1,
             "#f0f921"
            ]
           ],
           "sequentialminus": [
            [
             0,
             "#0d0887"
            ],
            [
             0.1111111111111111,
             "#46039f"
            ],
            [
             0.2222222222222222,
             "#7201a8"
            ],
            [
             0.3333333333333333,
             "#9c179e"
            ],
            [
             0.4444444444444444,
             "#bd3786"
            ],
            [
             0.5555555555555556,
             "#d8576b"
            ],
            [
             0.6666666666666666,
             "#ed7953"
            ],
            [
             0.7777777777777778,
             "#fb9f3a"
            ],
            [
             0.8888888888888888,
             "#fdca26"
            ],
            [
             1,
             "#f0f921"
            ]
           ]
          },
          "colorway": [
           "#636efa",
           "#EF553B",
           "#00cc96",
           "#ab63fa",
           "#FFA15A",
           "#19d3f3",
           "#FF6692",
           "#B6E880",
           "#FF97FF",
           "#FECB52"
          ],
          "font": {
           "color": "#2a3f5f"
          },
          "geo": {
           "bgcolor": "white",
           "lakecolor": "white",
           "landcolor": "#E5ECF6",
           "showlakes": true,
           "showland": true,
           "subunitcolor": "white"
          },
          "hoverlabel": {
           "align": "left"
          },
          "hovermode": "closest",
          "mapbox": {
           "style": "light"
          },
          "paper_bgcolor": "white",
          "plot_bgcolor": "#E5ECF6",
          "polar": {
           "angularaxis": {
            "gridcolor": "white",
            "linecolor": "white",
            "ticks": ""
           },
           "bgcolor": "#E5ECF6",
           "radialaxis": {
            "gridcolor": "white",
            "linecolor": "white",
            "ticks": ""
           }
          },
          "scene": {
           "xaxis": {
            "backgroundcolor": "#E5ECF6",
            "gridcolor": "white",
            "gridwidth": 2,
            "linecolor": "white",
            "showbackground": true,
            "ticks": "",
            "zerolinecolor": "white"
           },
           "yaxis": {
            "backgroundcolor": "#E5ECF6",
            "gridcolor": "white",
            "gridwidth": 2,
            "linecolor": "white",
            "showbackground": true,
            "ticks": "",
            "zerolinecolor": "white"
           },
           "zaxis": {
            "backgroundcolor": "#E5ECF6",
            "gridcolor": "white",
            "gridwidth": 2,
            "linecolor": "white",
            "showbackground": true,
            "ticks": "",
            "zerolinecolor": "white"
           }
          },
          "shapedefaults": {
           "line": {
            "color": "#2a3f5f"
           }
          },
          "ternary": {
           "aaxis": {
            "gridcolor": "white",
            "linecolor": "white",
            "ticks": ""
           },
           "baxis": {
            "gridcolor": "white",
            "linecolor": "white",
            "ticks": ""
           },
           "bgcolor": "#E5ECF6",
           "caxis": {
            "gridcolor": "white",
            "linecolor": "white",
            "ticks": ""
           }
          },
          "title": {
           "x": 0.05
          },
          "xaxis": {
           "automargin": true,
           "gridcolor": "white",
           "linecolor": "white",
           "ticks": "",
           "title": {
            "standoff": 15
           },
           "zerolinecolor": "white",
           "zerolinewidth": 2
          },
          "yaxis": {
           "automargin": true,
           "gridcolor": "white",
           "linecolor": "white",
           "ticks": "",
           "title": {
            "standoff": 15
           },
           "zerolinecolor": "white",
           "zerolinewidth": 2
          }
         }
        },
        "xaxis": {
         "anchor": "y",
         "domain": [
          0,
          1
         ],
         "title": {
          "text": "index"
         }
        },
        "yaxis": {
         "anchor": "x",
         "domain": [
          0,
          1
         ],
         "title": {
          "text": "Gamma"
         }
        }
       }
      }
     },
     "metadata": {},
     "output_type": "display_data"
    }
   ],
   "source": [
    "px.line(greeks_df, y=\"Gamma\")"
   ]
  },
  {
   "cell_type": "markdown",
   "metadata": {},
   "source": [
    "### Vega"
   ]
  },
  {
   "cell_type": "code",
   "execution_count": 43,
   "metadata": {},
   "outputs": [
    {
     "data": {
      "application/vnd.plotly.v1+json": {
       "config": {
        "plotlyServerURL": "https://plot.ly"
       },
       "data": [
        {
         "hovertemplate": "index=%{x}<br>Vega=%{y}<extra></extra>",
         "legendgroup": "",
         "line": {
          "color": "#636efa",
          "dash": "solid"
         },
         "marker": {
          "symbol": "circle"
         },
         "mode": "lines",
         "name": "",
         "orientation": "v",
         "showlegend": false,
         "type": "scatter",
         "x": [
          0,
          1,
          2,
          3,
          4,
          5,
          6,
          7,
          8,
          9,
          10,
          11,
          12,
          13,
          14,
          15,
          16,
          17,
          18,
          19,
          20,
          21,
          22,
          23,
          24,
          25,
          26,
          27,
          28,
          29,
          30,
          31,
          32,
          33,
          34,
          35,
          36,
          37,
          38,
          39,
          40,
          41,
          42,
          43,
          44,
          45,
          46,
          47,
          48,
          49,
          50,
          51,
          52,
          53,
          54,
          55,
          56,
          57,
          58,
          59,
          60,
          61,
          62,
          63,
          64,
          65,
          66,
          67,
          68,
          69,
          70,
          71,
          72,
          73,
          74,
          75,
          76,
          77,
          78,
          79,
          80,
          81,
          82,
          83,
          84,
          85,
          86,
          87,
          88,
          89,
          90,
          91,
          92,
          93,
          94,
          95,
          96,
          97,
          98,
          99,
          100,
          101,
          102,
          103,
          104,
          105,
          106,
          107,
          108,
          109,
          110,
          111,
          112,
          113,
          114,
          115,
          116,
          117,
          118,
          119,
          120,
          121,
          122,
          123,
          124,
          125,
          126,
          127,
          128,
          129,
          130,
          131,
          132,
          133,
          134,
          135,
          136,
          137,
          138,
          139,
          140,
          141,
          142,
          143,
          144,
          145,
          146,
          147,
          148,
          149,
          150,
          151,
          152,
          153,
          154,
          155,
          156,
          157,
          158,
          159,
          160,
          161,
          162,
          163,
          164,
          165,
          166,
          167,
          168,
          169,
          170,
          171,
          172,
          173,
          174,
          175,
          176,
          177,
          178,
          179,
          180,
          181,
          182,
          183,
          184,
          185,
          186,
          187,
          188,
          189,
          190,
          191,
          192,
          193,
          194,
          195,
          196,
          197,
          198,
          199,
          200,
          201,
          202,
          203,
          204,
          205,
          206,
          207,
          208,
          209,
          210,
          211,
          212,
          213,
          214,
          215,
          216,
          217,
          218,
          219,
          220,
          221,
          222,
          223,
          224,
          225,
          226,
          227,
          228,
          229,
          230,
          231,
          232,
          233,
          234,
          235,
          236,
          237,
          238,
          239,
          240,
          241,
          242,
          243,
          244,
          245,
          246,
          247,
          248,
          249,
          250,
          251,
          252,
          253,
          254,
          255,
          256,
          257,
          258,
          259,
          260,
          261,
          262,
          263,
          264,
          265,
          266,
          267,
          268,
          269,
          270,
          271,
          272,
          273,
          274,
          275,
          276,
          277,
          278,
          279,
          280,
          281,
          282,
          283,
          284,
          285,
          286,
          287,
          288,
          289,
          290,
          291,
          292,
          293,
          294,
          295,
          296,
          297,
          298,
          299,
          300,
          301,
          302,
          303,
          304,
          305,
          306,
          307,
          308,
          309,
          310,
          311,
          312,
          313,
          314,
          315,
          316,
          317,
          318,
          319,
          320,
          321,
          322,
          323,
          324,
          325,
          326,
          327,
          328,
          329,
          330,
          331,
          332,
          333,
          334,
          335,
          336,
          337,
          338,
          339,
          340,
          341,
          342,
          343,
          344,
          345,
          346,
          347,
          348,
          349,
          350,
          351,
          352,
          353,
          354,
          355,
          356,
          357,
          358,
          359,
          360,
          361,
          362,
          363,
          364,
          365,
          366,
          367,
          368,
          369,
          370,
          371,
          372,
          373,
          374,
          375,
          376,
          377
         ],
         "xaxis": "x",
         "y": [
          -151.0790767467256,
          -148.78086288453574,
          -158.68305106485536,
          -160.09314961584664,
          -166.35188952380986,
          -164.43197575603108,
          -162.96965209565428,
          -161.50034662098278,
          -157.2050560004925,
          -149.25186671214874,
          -151.34330206618074,
          -153.3403685047574,
          -154.07696953079153,
          -155.7086555467606,
          -151.65193883643724,
          -152.3852815307407,
          -153.81986779181034,
          -148.2430820572631,
          -147.0888222067117,
          -150.28354850943515,
          -152.4423510094266,
          -147.68504385008896,
          -137.777618624483,
          -143.80196586040483,
          -147.0338720755251,
          -144.64752033057948,
          -147.39795457009564,
          -148.23098673832646,
          -146.37190164111757,
          -149.4275900643629,
          -146.81812924311544,
          -144.4116790970611,
          -138.51524679776617,
          -134.33889339003713,
          -134.5273164898515,
          -138.91402834332212,
          -141.2638133393216,
          -137.2567097503179,
          -136.27086289926638,
          -137.5739166051062,
          -142.5567182031955,
          -141.30377480597645,
          -131.69781757832766,
          -130.7788653895443,
          -125.04064861218467,
          -121.510276727264,
          -113.3133414035683,
          0,
          0,
          -111.26619937826376,
          0,
          0,
          0,
          0,
          0,
          0,
          0,
          -94.23592976938266,
          -97.92426612247596,
          -111.29092594359236,
          -113.37674448648727,
          -104.85306410831186,
          -105.52549245409182,
          -113.63378336295682,
          -102.2502129447389,
          -94.70392029319896,
          -90.91182115824381,
          0,
          0,
          -92.91106272826255,
          0,
          0,
          0,
          0,
          0,
          0,
          0,
          0,
          -87.87983152726042,
          0,
          0,
          0,
          0,
          -114.70025151265872,
          0,
          0,
          0,
          0,
          0,
          0,
          0,
          0,
          0,
          0,
          0,
          0,
          0,
          0,
          0,
          0,
          0,
          0,
          0,
          0,
          0,
          0,
          0,
          0,
          0,
          0,
          0,
          0,
          0,
          0,
          0,
          0,
          0,
          0,
          0,
          0,
          0,
          0,
          0,
          0,
          0,
          0,
          0,
          0,
          0,
          0,
          0,
          0,
          0,
          0,
          0,
          0,
          0,
          0,
          0,
          0,
          0,
          0,
          0,
          0,
          0,
          0,
          0,
          0,
          0,
          0,
          0,
          0,
          0,
          0,
          0,
          0,
          0,
          0,
          0,
          0,
          0,
          0,
          0,
          0,
          0,
          0,
          0,
          0,
          0,
          0,
          0,
          0,
          0,
          0,
          0,
          0,
          0,
          0,
          0,
          0,
          0,
          0,
          0,
          0,
          0,
          0,
          0,
          0,
          0,
          0,
          0,
          0,
          0,
          0,
          0,
          0,
          0,
          0,
          0,
          0,
          0,
          0,
          0,
          0,
          0,
          0,
          0,
          0,
          0,
          0,
          0,
          0,
          0,
          0,
          0,
          0,
          0,
          0,
          0,
          0,
          0,
          0,
          0,
          0,
          0,
          0,
          0,
          0,
          0,
          0,
          0,
          0,
          0,
          0,
          0,
          0,
          0,
          0,
          0,
          0,
          0,
          0,
          0,
          0,
          0,
          0,
          0,
          0,
          0,
          0,
          0,
          0,
          0,
          0,
          0,
          0,
          0,
          0,
          0,
          0,
          0,
          0,
          0,
          0,
          0,
          0,
          0,
          0,
          0,
          0,
          0,
          0,
          0,
          0,
          0,
          0,
          0,
          0,
          0,
          0,
          0,
          0,
          0,
          0,
          0,
          0,
          0,
          0,
          0,
          0,
          0,
          0,
          0,
          0,
          0,
          0,
          0,
          0,
          0,
          0,
          0,
          0,
          0,
          0,
          0,
          0,
          0,
          0,
          0,
          0,
          0,
          0,
          0,
          0,
          0,
          0,
          0,
          0,
          0,
          0,
          0,
          0,
          0,
          0,
          0,
          0,
          0,
          0,
          0,
          0,
          0,
          0,
          0,
          0,
          0,
          0,
          0,
          0,
          0,
          0,
          0,
          0,
          0,
          0,
          0,
          0,
          0,
          0,
          0,
          0,
          0,
          0,
          0,
          0,
          0,
          0,
          0,
          0,
          0,
          0,
          0,
          0,
          0,
          0,
          0,
          0,
          0,
          0,
          0,
          0,
          0,
          0,
          0,
          0,
          0,
          0,
          0,
          0
         ],
         "yaxis": "y"
        }
       ],
       "layout": {
        "legend": {
         "tracegroupgap": 0
        },
        "margin": {
         "t": 60
        },
        "template": {
         "data": {
          "bar": [
           {
            "error_x": {
             "color": "#2a3f5f"
            },
            "error_y": {
             "color": "#2a3f5f"
            },
            "marker": {
             "line": {
              "color": "#E5ECF6",
              "width": 0.5
             },
             "pattern": {
              "fillmode": "overlay",
              "size": 10,
              "solidity": 0.2
             }
            },
            "type": "bar"
           }
          ],
          "barpolar": [
           {
            "marker": {
             "line": {
              "color": "#E5ECF6",
              "width": 0.5
             },
             "pattern": {
              "fillmode": "overlay",
              "size": 10,
              "solidity": 0.2
             }
            },
            "type": "barpolar"
           }
          ],
          "carpet": [
           {
            "aaxis": {
             "endlinecolor": "#2a3f5f",
             "gridcolor": "white",
             "linecolor": "white",
             "minorgridcolor": "white",
             "startlinecolor": "#2a3f5f"
            },
            "baxis": {
             "endlinecolor": "#2a3f5f",
             "gridcolor": "white",
             "linecolor": "white",
             "minorgridcolor": "white",
             "startlinecolor": "#2a3f5f"
            },
            "type": "carpet"
           }
          ],
          "choropleth": [
           {
            "colorbar": {
             "outlinewidth": 0,
             "ticks": ""
            },
            "type": "choropleth"
           }
          ],
          "contour": [
           {
            "colorbar": {
             "outlinewidth": 0,
             "ticks": ""
            },
            "colorscale": [
             [
              0,
              "#0d0887"
             ],
             [
              0.1111111111111111,
              "#46039f"
             ],
             [
              0.2222222222222222,
              "#7201a8"
             ],
             [
              0.3333333333333333,
              "#9c179e"
             ],
             [
              0.4444444444444444,
              "#bd3786"
             ],
             [
              0.5555555555555556,
              "#d8576b"
             ],
             [
              0.6666666666666666,
              "#ed7953"
             ],
             [
              0.7777777777777778,
              "#fb9f3a"
             ],
             [
              0.8888888888888888,
              "#fdca26"
             ],
             [
              1,
              "#f0f921"
             ]
            ],
            "type": "contour"
           }
          ],
          "contourcarpet": [
           {
            "colorbar": {
             "outlinewidth": 0,
             "ticks": ""
            },
            "type": "contourcarpet"
           }
          ],
          "heatmap": [
           {
            "colorbar": {
             "outlinewidth": 0,
             "ticks": ""
            },
            "colorscale": [
             [
              0,
              "#0d0887"
             ],
             [
              0.1111111111111111,
              "#46039f"
             ],
             [
              0.2222222222222222,
              "#7201a8"
             ],
             [
              0.3333333333333333,
              "#9c179e"
             ],
             [
              0.4444444444444444,
              "#bd3786"
             ],
             [
              0.5555555555555556,
              "#d8576b"
             ],
             [
              0.6666666666666666,
              "#ed7953"
             ],
             [
              0.7777777777777778,
              "#fb9f3a"
             ],
             [
              0.8888888888888888,
              "#fdca26"
             ],
             [
              1,
              "#f0f921"
             ]
            ],
            "type": "heatmap"
           }
          ],
          "heatmapgl": [
           {
            "colorbar": {
             "outlinewidth": 0,
             "ticks": ""
            },
            "colorscale": [
             [
              0,
              "#0d0887"
             ],
             [
              0.1111111111111111,
              "#46039f"
             ],
             [
              0.2222222222222222,
              "#7201a8"
             ],
             [
              0.3333333333333333,
              "#9c179e"
             ],
             [
              0.4444444444444444,
              "#bd3786"
             ],
             [
              0.5555555555555556,
              "#d8576b"
             ],
             [
              0.6666666666666666,
              "#ed7953"
             ],
             [
              0.7777777777777778,
              "#fb9f3a"
             ],
             [
              0.8888888888888888,
              "#fdca26"
             ],
             [
              1,
              "#f0f921"
             ]
            ],
            "type": "heatmapgl"
           }
          ],
          "histogram": [
           {
            "marker": {
             "pattern": {
              "fillmode": "overlay",
              "size": 10,
              "solidity": 0.2
             }
            },
            "type": "histogram"
           }
          ],
          "histogram2d": [
           {
            "colorbar": {
             "outlinewidth": 0,
             "ticks": ""
            },
            "colorscale": [
             [
              0,
              "#0d0887"
             ],
             [
              0.1111111111111111,
              "#46039f"
             ],
             [
              0.2222222222222222,
              "#7201a8"
             ],
             [
              0.3333333333333333,
              "#9c179e"
             ],
             [
              0.4444444444444444,
              "#bd3786"
             ],
             [
              0.5555555555555556,
              "#d8576b"
             ],
             [
              0.6666666666666666,
              "#ed7953"
             ],
             [
              0.7777777777777778,
              "#fb9f3a"
             ],
             [
              0.8888888888888888,
              "#fdca26"
             ],
             [
              1,
              "#f0f921"
             ]
            ],
            "type": "histogram2d"
           }
          ],
          "histogram2dcontour": [
           {
            "colorbar": {
             "outlinewidth": 0,
             "ticks": ""
            },
            "colorscale": [
             [
              0,
              "#0d0887"
             ],
             [
              0.1111111111111111,
              "#46039f"
             ],
             [
              0.2222222222222222,
              "#7201a8"
             ],
             [
              0.3333333333333333,
              "#9c179e"
             ],
             [
              0.4444444444444444,
              "#bd3786"
             ],
             [
              0.5555555555555556,
              "#d8576b"
             ],
             [
              0.6666666666666666,
              "#ed7953"
             ],
             [
              0.7777777777777778,
              "#fb9f3a"
             ],
             [
              0.8888888888888888,
              "#fdca26"
             ],
             [
              1,
              "#f0f921"
             ]
            ],
            "type": "histogram2dcontour"
           }
          ],
          "mesh3d": [
           {
            "colorbar": {
             "outlinewidth": 0,
             "ticks": ""
            },
            "type": "mesh3d"
           }
          ],
          "parcoords": [
           {
            "line": {
             "colorbar": {
              "outlinewidth": 0,
              "ticks": ""
             }
            },
            "type": "parcoords"
           }
          ],
          "pie": [
           {
            "automargin": true,
            "type": "pie"
           }
          ],
          "scatter": [
           {
            "fillpattern": {
             "fillmode": "overlay",
             "size": 10,
             "solidity": 0.2
            },
            "type": "scatter"
           }
          ],
          "scatter3d": [
           {
            "line": {
             "colorbar": {
              "outlinewidth": 0,
              "ticks": ""
             }
            },
            "marker": {
             "colorbar": {
              "outlinewidth": 0,
              "ticks": ""
             }
            },
            "type": "scatter3d"
           }
          ],
          "scattercarpet": [
           {
            "marker": {
             "colorbar": {
              "outlinewidth": 0,
              "ticks": ""
             }
            },
            "type": "scattercarpet"
           }
          ],
          "scattergeo": [
           {
            "marker": {
             "colorbar": {
              "outlinewidth": 0,
              "ticks": ""
             }
            },
            "type": "scattergeo"
           }
          ],
          "scattergl": [
           {
            "marker": {
             "colorbar": {
              "outlinewidth": 0,
              "ticks": ""
             }
            },
            "type": "scattergl"
           }
          ],
          "scattermapbox": [
           {
            "marker": {
             "colorbar": {
              "outlinewidth": 0,
              "ticks": ""
             }
            },
            "type": "scattermapbox"
           }
          ],
          "scatterpolar": [
           {
            "marker": {
             "colorbar": {
              "outlinewidth": 0,
              "ticks": ""
             }
            },
            "type": "scatterpolar"
           }
          ],
          "scatterpolargl": [
           {
            "marker": {
             "colorbar": {
              "outlinewidth": 0,
              "ticks": ""
             }
            },
            "type": "scatterpolargl"
           }
          ],
          "scatterternary": [
           {
            "marker": {
             "colorbar": {
              "outlinewidth": 0,
              "ticks": ""
             }
            },
            "type": "scatterternary"
           }
          ],
          "surface": [
           {
            "colorbar": {
             "outlinewidth": 0,
             "ticks": ""
            },
            "colorscale": [
             [
              0,
              "#0d0887"
             ],
             [
              0.1111111111111111,
              "#46039f"
             ],
             [
              0.2222222222222222,
              "#7201a8"
             ],
             [
              0.3333333333333333,
              "#9c179e"
             ],
             [
              0.4444444444444444,
              "#bd3786"
             ],
             [
              0.5555555555555556,
              "#d8576b"
             ],
             [
              0.6666666666666666,
              "#ed7953"
             ],
             [
              0.7777777777777778,
              "#fb9f3a"
             ],
             [
              0.8888888888888888,
              "#fdca26"
             ],
             [
              1,
              "#f0f921"
             ]
            ],
            "type": "surface"
           }
          ],
          "table": [
           {
            "cells": {
             "fill": {
              "color": "#EBF0F8"
             },
             "line": {
              "color": "white"
             }
            },
            "header": {
             "fill": {
              "color": "#C8D4E3"
             },
             "line": {
              "color": "white"
             }
            },
            "type": "table"
           }
          ]
         },
         "layout": {
          "annotationdefaults": {
           "arrowcolor": "#2a3f5f",
           "arrowhead": 0,
           "arrowwidth": 1
          },
          "autotypenumbers": "strict",
          "coloraxis": {
           "colorbar": {
            "outlinewidth": 0,
            "ticks": ""
           }
          },
          "colorscale": {
           "diverging": [
            [
             0,
             "#8e0152"
            ],
            [
             0.1,
             "#c51b7d"
            ],
            [
             0.2,
             "#de77ae"
            ],
            [
             0.3,
             "#f1b6da"
            ],
            [
             0.4,
             "#fde0ef"
            ],
            [
             0.5,
             "#f7f7f7"
            ],
            [
             0.6,
             "#e6f5d0"
            ],
            [
             0.7,
             "#b8e186"
            ],
            [
             0.8,
             "#7fbc41"
            ],
            [
             0.9,
             "#4d9221"
            ],
            [
             1,
             "#276419"
            ]
           ],
           "sequential": [
            [
             0,
             "#0d0887"
            ],
            [
             0.1111111111111111,
             "#46039f"
            ],
            [
             0.2222222222222222,
             "#7201a8"
            ],
            [
             0.3333333333333333,
             "#9c179e"
            ],
            [
             0.4444444444444444,
             "#bd3786"
            ],
            [
             0.5555555555555556,
             "#d8576b"
            ],
            [
             0.6666666666666666,
             "#ed7953"
            ],
            [
             0.7777777777777778,
             "#fb9f3a"
            ],
            [
             0.8888888888888888,
             "#fdca26"
            ],
            [
             1,
             "#f0f921"
            ]
           ],
           "sequentialminus": [
            [
             0,
             "#0d0887"
            ],
            [
             0.1111111111111111,
             "#46039f"
            ],
            [
             0.2222222222222222,
             "#7201a8"
            ],
            [
             0.3333333333333333,
             "#9c179e"
            ],
            [
             0.4444444444444444,
             "#bd3786"
            ],
            [
             0.5555555555555556,
             "#d8576b"
            ],
            [
             0.6666666666666666,
             "#ed7953"
            ],
            [
             0.7777777777777778,
             "#fb9f3a"
            ],
            [
             0.8888888888888888,
             "#fdca26"
            ],
            [
             1,
             "#f0f921"
            ]
           ]
          },
          "colorway": [
           "#636efa",
           "#EF553B",
           "#00cc96",
           "#ab63fa",
           "#FFA15A",
           "#19d3f3",
           "#FF6692",
           "#B6E880",
           "#FF97FF",
           "#FECB52"
          ],
          "font": {
           "color": "#2a3f5f"
          },
          "geo": {
           "bgcolor": "white",
           "lakecolor": "white",
           "landcolor": "#E5ECF6",
           "showlakes": true,
           "showland": true,
           "subunitcolor": "white"
          },
          "hoverlabel": {
           "align": "left"
          },
          "hovermode": "closest",
          "mapbox": {
           "style": "light"
          },
          "paper_bgcolor": "white",
          "plot_bgcolor": "#E5ECF6",
          "polar": {
           "angularaxis": {
            "gridcolor": "white",
            "linecolor": "white",
            "ticks": ""
           },
           "bgcolor": "#E5ECF6",
           "radialaxis": {
            "gridcolor": "white",
            "linecolor": "white",
            "ticks": ""
           }
          },
          "scene": {
           "xaxis": {
            "backgroundcolor": "#E5ECF6",
            "gridcolor": "white",
            "gridwidth": 2,
            "linecolor": "white",
            "showbackground": true,
            "ticks": "",
            "zerolinecolor": "white"
           },
           "yaxis": {
            "backgroundcolor": "#E5ECF6",
            "gridcolor": "white",
            "gridwidth": 2,
            "linecolor": "white",
            "showbackground": true,
            "ticks": "",
            "zerolinecolor": "white"
           },
           "zaxis": {
            "backgroundcolor": "#E5ECF6",
            "gridcolor": "white",
            "gridwidth": 2,
            "linecolor": "white",
            "showbackground": true,
            "ticks": "",
            "zerolinecolor": "white"
           }
          },
          "shapedefaults": {
           "line": {
            "color": "#2a3f5f"
           }
          },
          "ternary": {
           "aaxis": {
            "gridcolor": "white",
            "linecolor": "white",
            "ticks": ""
           },
           "baxis": {
            "gridcolor": "white",
            "linecolor": "white",
            "ticks": ""
           },
           "bgcolor": "#E5ECF6",
           "caxis": {
            "gridcolor": "white",
            "linecolor": "white",
            "ticks": ""
           }
          },
          "title": {
           "x": 0.05
          },
          "xaxis": {
           "automargin": true,
           "gridcolor": "white",
           "linecolor": "white",
           "ticks": "",
           "title": {
            "standoff": 15
           },
           "zerolinecolor": "white",
           "zerolinewidth": 2
          },
          "yaxis": {
           "automargin": true,
           "gridcolor": "white",
           "linecolor": "white",
           "ticks": "",
           "title": {
            "standoff": 15
           },
           "zerolinecolor": "white",
           "zerolinewidth": 2
          }
         }
        },
        "xaxis": {
         "anchor": "y",
         "domain": [
          0,
          1
         ],
         "title": {
          "text": "index"
         }
        },
        "yaxis": {
         "anchor": "x",
         "domain": [
          0,
          1
         ],
         "title": {
          "text": "Vega"
         }
        }
       }
      }
     },
     "metadata": {},
     "output_type": "display_data"
    }
   ],
   "source": [
    "px.line(greeks_df, y=\"Vega\")"
   ]
  },
  {
   "cell_type": "markdown",
   "metadata": {},
   "source": [
    "### Theta"
   ]
  },
  {
   "cell_type": "code",
   "execution_count": 44,
   "metadata": {},
   "outputs": [
    {
     "data": {
      "application/vnd.plotly.v1+json": {
       "config": {
        "plotlyServerURL": "https://plot.ly"
       },
       "data": [
        {
         "hovertemplate": "index=%{x}<br>Theta=%{y}<extra></extra>",
         "legendgroup": "",
         "line": {
          "color": "#636efa",
          "dash": "solid"
         },
         "marker": {
          "symbol": "circle"
         },
         "mode": "lines",
         "name": "",
         "orientation": "v",
         "showlegend": false,
         "type": "scatter",
         "x": [
          0,
          1,
          2,
          3,
          4,
          5,
          6,
          7,
          8,
          9,
          10,
          11,
          12,
          13,
          14,
          15,
          16,
          17,
          18,
          19,
          20,
          21,
          22,
          23,
          24,
          25,
          26,
          27,
          28,
          29,
          30,
          31,
          32,
          33,
          34,
          35,
          36,
          37,
          38,
          39,
          40,
          41,
          42,
          43,
          44,
          45,
          46,
          47,
          48,
          49,
          50,
          51,
          52,
          53,
          54,
          55,
          56,
          57,
          58,
          59,
          60,
          61,
          62,
          63,
          64,
          65,
          66,
          67,
          68,
          69,
          70,
          71,
          72,
          73,
          74,
          75,
          76,
          77,
          78,
          79,
          80,
          81,
          82,
          83,
          84,
          85,
          86,
          87,
          88,
          89,
          90,
          91,
          92,
          93,
          94,
          95,
          96,
          97,
          98,
          99,
          100,
          101,
          102,
          103,
          104,
          105,
          106,
          107,
          108,
          109,
          110,
          111,
          112,
          113,
          114,
          115,
          116,
          117,
          118,
          119,
          120,
          121,
          122,
          123,
          124,
          125,
          126,
          127,
          128,
          129,
          130,
          131,
          132,
          133,
          134,
          135,
          136,
          137,
          138,
          139,
          140,
          141,
          142,
          143,
          144,
          145,
          146,
          147,
          148,
          149,
          150,
          151,
          152,
          153,
          154,
          155,
          156,
          157,
          158,
          159,
          160,
          161,
          162,
          163,
          164,
          165,
          166,
          167,
          168,
          169,
          170,
          171,
          172,
          173,
          174,
          175,
          176,
          177,
          178,
          179,
          180,
          181,
          182,
          183,
          184,
          185,
          186,
          187,
          188,
          189,
          190,
          191,
          192,
          193,
          194,
          195,
          196,
          197,
          198,
          199,
          200,
          201,
          202,
          203,
          204,
          205,
          206,
          207,
          208,
          209,
          210,
          211,
          212,
          213,
          214,
          215,
          216,
          217,
          218,
          219,
          220,
          221,
          222,
          223,
          224,
          225,
          226,
          227,
          228,
          229,
          230,
          231,
          232,
          233,
          234,
          235,
          236,
          237,
          238,
          239,
          240,
          241,
          242,
          243,
          244,
          245,
          246,
          247,
          248,
          249,
          250,
          251,
          252,
          253,
          254,
          255,
          256,
          257,
          258,
          259,
          260,
          261,
          262,
          263,
          264,
          265,
          266,
          267,
          268,
          269,
          270,
          271,
          272,
          273,
          274,
          275,
          276,
          277,
          278,
          279,
          280,
          281,
          282,
          283,
          284,
          285,
          286,
          287,
          288,
          289,
          290,
          291,
          292,
          293,
          294,
          295,
          296,
          297,
          298,
          299,
          300,
          301,
          302,
          303,
          304,
          305,
          306,
          307,
          308,
          309,
          310,
          311,
          312,
          313,
          314,
          315,
          316,
          317,
          318,
          319,
          320,
          321,
          322,
          323,
          324,
          325,
          326,
          327,
          328,
          329,
          330,
          331,
          332,
          333,
          334,
          335,
          336,
          337,
          338,
          339,
          340,
          341,
          342,
          343,
          344,
          345,
          346,
          347,
          348,
          349,
          350,
          351,
          352,
          353,
          354,
          355,
          356,
          357,
          358,
          359,
          360,
          361,
          362,
          363,
          364,
          365,
          366,
          367,
          368,
          369,
          370,
          371,
          372,
          373,
          374,
          375,
          376,
          377
         ],
         "xaxis": "x",
         "y": [
          -150.97069917055705,
          -148.66656833316938,
          -158.58222528569854,
          -159.8846311884472,
          -166.1480019961914,
          -164.22930411241055,
          -162.7628258206073,
          -161.29633662086462,
          -156.99743732238858,
          -149.03933916684764,
          -151.12269568908232,
          -152.88883088339844,
          -153.62232413821175,
          -155.18104822527334,
          -151.25006570036703,
          -151.8701022274911,
          -153.40150137842556,
          -147.7105703457653,
          -146.54823698251107,
          -149.7616297297668,
          -152.0439370363249,
          -147.1790673671194,
          -137.24266830831766,
          -143.2702925723106,
          -146.5124160997675,
          -144.13924557655378,
          -146.89697469242446,
          -147.73754519140425,
          -145.87327698350805,
          -148.93607071491033,
          -146.3161382225735,
          -143.9305747472872,
          -138.02755729318505,
          -133.86421393826708,
          -134.07540062914336,
          -138.5601896408275,
          -140.89419708389528,
          -136.79486576523914,
          -135.80807674691187,
          -137.1082905226615,
          -142.10637979402918,
          -140.83900862723908,
          -131.2043822228759,
          -130.2911877475026,
          -124.54439163914799,
          -121.00187511316562,
          -112.80741406667971,
          0,
          0,
          -110.76222882607567,
          0,
          0,
          0,
          0,
          0,
          0,
          0,
          -93.76528747947077,
          -97.461316519599,
          -110.84519161460094,
          -112.9200029077424,
          -104.29129664009906,
          -104.97700376345165,
          -113.00827991212259,
          -101.78650859506888,
          -94.14356017137493,
          -90.25830759864562,
          0,
          0,
          -92.34426015925123,
          0,
          0,
          0,
          0,
          0,
          0,
          0,
          0,
          -87.50466713163974,
          0,
          0,
          0,
          0,
          -114.3078623889835,
          0,
          0,
          0,
          0,
          0,
          0,
          0,
          0,
          0,
          0,
          0,
          0,
          0,
          0,
          0,
          0,
          0,
          0,
          0,
          0,
          0,
          0,
          0,
          0,
          0,
          0,
          0,
          0,
          0,
          0,
          0,
          0,
          0,
          0,
          0,
          0,
          0,
          0,
          0,
          0,
          0,
          0,
          0,
          0,
          0,
          0,
          0,
          0,
          0,
          0,
          0,
          0,
          0,
          0,
          0,
          0,
          0,
          0,
          0,
          0,
          0,
          0,
          0,
          0,
          0,
          0,
          0,
          0,
          0,
          0,
          0,
          0,
          0,
          0,
          0,
          0,
          0,
          0,
          0,
          0,
          0,
          0,
          0,
          0,
          0,
          0,
          0,
          0,
          0,
          0,
          0,
          0,
          0,
          0,
          0,
          0,
          0,
          0,
          0,
          0,
          0,
          0,
          0,
          0,
          0,
          0,
          0,
          0,
          0,
          0,
          0,
          0,
          0,
          0,
          0,
          0,
          0,
          0,
          0,
          0,
          0,
          0,
          0,
          0,
          0,
          0,
          0,
          0,
          0,
          0,
          0,
          0,
          0,
          0,
          0,
          0,
          0,
          0,
          0,
          0,
          0,
          0,
          0,
          0,
          0,
          0,
          0,
          0,
          0,
          0,
          0,
          0,
          0,
          0,
          0,
          0,
          0,
          0,
          0,
          0,
          0,
          0,
          0,
          0,
          0,
          0,
          0,
          0,
          0,
          0,
          0,
          0,
          0,
          0,
          0,
          0,
          0,
          0,
          0,
          0,
          0,
          0,
          0,
          0,
          0,
          0,
          0,
          0,
          0,
          0,
          0,
          0,
          0,
          0,
          0,
          0,
          0,
          0,
          0,
          0,
          0,
          0,
          0,
          0,
          0,
          0,
          0,
          0,
          0,
          0,
          0,
          0,
          0,
          0,
          0,
          0,
          0,
          0,
          0,
          0,
          0,
          0,
          0,
          0,
          0,
          0,
          0,
          0,
          0,
          0,
          0,
          0,
          0,
          0,
          0,
          0,
          0,
          0,
          0,
          0,
          0,
          0,
          0,
          0,
          0,
          0,
          0,
          0,
          0,
          0,
          0,
          0,
          0,
          0,
          0,
          0,
          0,
          0,
          0,
          0,
          0,
          0,
          0,
          0,
          0,
          0,
          0,
          0,
          0,
          0,
          0,
          0,
          0,
          0,
          0,
          0,
          0,
          0,
          0,
          0,
          0,
          0,
          0,
          0,
          0,
          0,
          0,
          0,
          0,
          0,
          0,
          0,
          0,
          0
         ],
         "yaxis": "y"
        }
       ],
       "layout": {
        "legend": {
         "tracegroupgap": 0
        },
        "margin": {
         "t": 60
        },
        "template": {
         "data": {
          "bar": [
           {
            "error_x": {
             "color": "#2a3f5f"
            },
            "error_y": {
             "color": "#2a3f5f"
            },
            "marker": {
             "line": {
              "color": "#E5ECF6",
              "width": 0.5
             },
             "pattern": {
              "fillmode": "overlay",
              "size": 10,
              "solidity": 0.2
             }
            },
            "type": "bar"
           }
          ],
          "barpolar": [
           {
            "marker": {
             "line": {
              "color": "#E5ECF6",
              "width": 0.5
             },
             "pattern": {
              "fillmode": "overlay",
              "size": 10,
              "solidity": 0.2
             }
            },
            "type": "barpolar"
           }
          ],
          "carpet": [
           {
            "aaxis": {
             "endlinecolor": "#2a3f5f",
             "gridcolor": "white",
             "linecolor": "white",
             "minorgridcolor": "white",
             "startlinecolor": "#2a3f5f"
            },
            "baxis": {
             "endlinecolor": "#2a3f5f",
             "gridcolor": "white",
             "linecolor": "white",
             "minorgridcolor": "white",
             "startlinecolor": "#2a3f5f"
            },
            "type": "carpet"
           }
          ],
          "choropleth": [
           {
            "colorbar": {
             "outlinewidth": 0,
             "ticks": ""
            },
            "type": "choropleth"
           }
          ],
          "contour": [
           {
            "colorbar": {
             "outlinewidth": 0,
             "ticks": ""
            },
            "colorscale": [
             [
              0,
              "#0d0887"
             ],
             [
              0.1111111111111111,
              "#46039f"
             ],
             [
              0.2222222222222222,
              "#7201a8"
             ],
             [
              0.3333333333333333,
              "#9c179e"
             ],
             [
              0.4444444444444444,
              "#bd3786"
             ],
             [
              0.5555555555555556,
              "#d8576b"
             ],
             [
              0.6666666666666666,
              "#ed7953"
             ],
             [
              0.7777777777777778,
              "#fb9f3a"
             ],
             [
              0.8888888888888888,
              "#fdca26"
             ],
             [
              1,
              "#f0f921"
             ]
            ],
            "type": "contour"
           }
          ],
          "contourcarpet": [
           {
            "colorbar": {
             "outlinewidth": 0,
             "ticks": ""
            },
            "type": "contourcarpet"
           }
          ],
          "heatmap": [
           {
            "colorbar": {
             "outlinewidth": 0,
             "ticks": ""
            },
            "colorscale": [
             [
              0,
              "#0d0887"
             ],
             [
              0.1111111111111111,
              "#46039f"
             ],
             [
              0.2222222222222222,
              "#7201a8"
             ],
             [
              0.3333333333333333,
              "#9c179e"
             ],
             [
              0.4444444444444444,
              "#bd3786"
             ],
             [
              0.5555555555555556,
              "#d8576b"
             ],
             [
              0.6666666666666666,
              "#ed7953"
             ],
             [
              0.7777777777777778,
              "#fb9f3a"
             ],
             [
              0.8888888888888888,
              "#fdca26"
             ],
             [
              1,
              "#f0f921"
             ]
            ],
            "type": "heatmap"
           }
          ],
          "heatmapgl": [
           {
            "colorbar": {
             "outlinewidth": 0,
             "ticks": ""
            },
            "colorscale": [
             [
              0,
              "#0d0887"
             ],
             [
              0.1111111111111111,
              "#46039f"
             ],
             [
              0.2222222222222222,
              "#7201a8"
             ],
             [
              0.3333333333333333,
              "#9c179e"
             ],
             [
              0.4444444444444444,
              "#bd3786"
             ],
             [
              0.5555555555555556,
              "#d8576b"
             ],
             [
              0.6666666666666666,
              "#ed7953"
             ],
             [
              0.7777777777777778,
              "#fb9f3a"
             ],
             [
              0.8888888888888888,
              "#fdca26"
             ],
             [
              1,
              "#f0f921"
             ]
            ],
            "type": "heatmapgl"
           }
          ],
          "histogram": [
           {
            "marker": {
             "pattern": {
              "fillmode": "overlay",
              "size": 10,
              "solidity": 0.2
             }
            },
            "type": "histogram"
           }
          ],
          "histogram2d": [
           {
            "colorbar": {
             "outlinewidth": 0,
             "ticks": ""
            },
            "colorscale": [
             [
              0,
              "#0d0887"
             ],
             [
              0.1111111111111111,
              "#46039f"
             ],
             [
              0.2222222222222222,
              "#7201a8"
             ],
             [
              0.3333333333333333,
              "#9c179e"
             ],
             [
              0.4444444444444444,
              "#bd3786"
             ],
             [
              0.5555555555555556,
              "#d8576b"
             ],
             [
              0.6666666666666666,
              "#ed7953"
             ],
             [
              0.7777777777777778,
              "#fb9f3a"
             ],
             [
              0.8888888888888888,
              "#fdca26"
             ],
             [
              1,
              "#f0f921"
             ]
            ],
            "type": "histogram2d"
           }
          ],
          "histogram2dcontour": [
           {
            "colorbar": {
             "outlinewidth": 0,
             "ticks": ""
            },
            "colorscale": [
             [
              0,
              "#0d0887"
             ],
             [
              0.1111111111111111,
              "#46039f"
             ],
             [
              0.2222222222222222,
              "#7201a8"
             ],
             [
              0.3333333333333333,
              "#9c179e"
             ],
             [
              0.4444444444444444,
              "#bd3786"
             ],
             [
              0.5555555555555556,
              "#d8576b"
             ],
             [
              0.6666666666666666,
              "#ed7953"
             ],
             [
              0.7777777777777778,
              "#fb9f3a"
             ],
             [
              0.8888888888888888,
              "#fdca26"
             ],
             [
              1,
              "#f0f921"
             ]
            ],
            "type": "histogram2dcontour"
           }
          ],
          "mesh3d": [
           {
            "colorbar": {
             "outlinewidth": 0,
             "ticks": ""
            },
            "type": "mesh3d"
           }
          ],
          "parcoords": [
           {
            "line": {
             "colorbar": {
              "outlinewidth": 0,
              "ticks": ""
             }
            },
            "type": "parcoords"
           }
          ],
          "pie": [
           {
            "automargin": true,
            "type": "pie"
           }
          ],
          "scatter": [
           {
            "fillpattern": {
             "fillmode": "overlay",
             "size": 10,
             "solidity": 0.2
            },
            "type": "scatter"
           }
          ],
          "scatter3d": [
           {
            "line": {
             "colorbar": {
              "outlinewidth": 0,
              "ticks": ""
             }
            },
            "marker": {
             "colorbar": {
              "outlinewidth": 0,
              "ticks": ""
             }
            },
            "type": "scatter3d"
           }
          ],
          "scattercarpet": [
           {
            "marker": {
             "colorbar": {
              "outlinewidth": 0,
              "ticks": ""
             }
            },
            "type": "scattercarpet"
           }
          ],
          "scattergeo": [
           {
            "marker": {
             "colorbar": {
              "outlinewidth": 0,
              "ticks": ""
             }
            },
            "type": "scattergeo"
           }
          ],
          "scattergl": [
           {
            "marker": {
             "colorbar": {
              "outlinewidth": 0,
              "ticks": ""
             }
            },
            "type": "scattergl"
           }
          ],
          "scattermapbox": [
           {
            "marker": {
             "colorbar": {
              "outlinewidth": 0,
              "ticks": ""
             }
            },
            "type": "scattermapbox"
           }
          ],
          "scatterpolar": [
           {
            "marker": {
             "colorbar": {
              "outlinewidth": 0,
              "ticks": ""
             }
            },
            "type": "scatterpolar"
           }
          ],
          "scatterpolargl": [
           {
            "marker": {
             "colorbar": {
              "outlinewidth": 0,
              "ticks": ""
             }
            },
            "type": "scatterpolargl"
           }
          ],
          "scatterternary": [
           {
            "marker": {
             "colorbar": {
              "outlinewidth": 0,
              "ticks": ""
             }
            },
            "type": "scatterternary"
           }
          ],
          "surface": [
           {
            "colorbar": {
             "outlinewidth": 0,
             "ticks": ""
            },
            "colorscale": [
             [
              0,
              "#0d0887"
             ],
             [
              0.1111111111111111,
              "#46039f"
             ],
             [
              0.2222222222222222,
              "#7201a8"
             ],
             [
              0.3333333333333333,
              "#9c179e"
             ],
             [
              0.4444444444444444,
              "#bd3786"
             ],
             [
              0.5555555555555556,
              "#d8576b"
             ],
             [
              0.6666666666666666,
              "#ed7953"
             ],
             [
              0.7777777777777778,
              "#fb9f3a"
             ],
             [
              0.8888888888888888,
              "#fdca26"
             ],
             [
              1,
              "#f0f921"
             ]
            ],
            "type": "surface"
           }
          ],
          "table": [
           {
            "cells": {
             "fill": {
              "color": "#EBF0F8"
             },
             "line": {
              "color": "white"
             }
            },
            "header": {
             "fill": {
              "color": "#C8D4E3"
             },
             "line": {
              "color": "white"
             }
            },
            "type": "table"
           }
          ]
         },
         "layout": {
          "annotationdefaults": {
           "arrowcolor": "#2a3f5f",
           "arrowhead": 0,
           "arrowwidth": 1
          },
          "autotypenumbers": "strict",
          "coloraxis": {
           "colorbar": {
            "outlinewidth": 0,
            "ticks": ""
           }
          },
          "colorscale": {
           "diverging": [
            [
             0,
             "#8e0152"
            ],
            [
             0.1,
             "#c51b7d"
            ],
            [
             0.2,
             "#de77ae"
            ],
            [
             0.3,
             "#f1b6da"
            ],
            [
             0.4,
             "#fde0ef"
            ],
            [
             0.5,
             "#f7f7f7"
            ],
            [
             0.6,
             "#e6f5d0"
            ],
            [
             0.7,
             "#b8e186"
            ],
            [
             0.8,
             "#7fbc41"
            ],
            [
             0.9,
             "#4d9221"
            ],
            [
             1,
             "#276419"
            ]
           ],
           "sequential": [
            [
             0,
             "#0d0887"
            ],
            [
             0.1111111111111111,
             "#46039f"
            ],
            [
             0.2222222222222222,
             "#7201a8"
            ],
            [
             0.3333333333333333,
             "#9c179e"
            ],
            [
             0.4444444444444444,
             "#bd3786"
            ],
            [
             0.5555555555555556,
             "#d8576b"
            ],
            [
             0.6666666666666666,
             "#ed7953"
            ],
            [
             0.7777777777777778,
             "#fb9f3a"
            ],
            [
             0.8888888888888888,
             "#fdca26"
            ],
            [
             1,
             "#f0f921"
            ]
           ],
           "sequentialminus": [
            [
             0,
             "#0d0887"
            ],
            [
             0.1111111111111111,
             "#46039f"
            ],
            [
             0.2222222222222222,
             "#7201a8"
            ],
            [
             0.3333333333333333,
             "#9c179e"
            ],
            [
             0.4444444444444444,
             "#bd3786"
            ],
            [
             0.5555555555555556,
             "#d8576b"
            ],
            [
             0.6666666666666666,
             "#ed7953"
            ],
            [
             0.7777777777777778,
             "#fb9f3a"
            ],
            [
             0.8888888888888888,
             "#fdca26"
            ],
            [
             1,
             "#f0f921"
            ]
           ]
          },
          "colorway": [
           "#636efa",
           "#EF553B",
           "#00cc96",
           "#ab63fa",
           "#FFA15A",
           "#19d3f3",
           "#FF6692",
           "#B6E880",
           "#FF97FF",
           "#FECB52"
          ],
          "font": {
           "color": "#2a3f5f"
          },
          "geo": {
           "bgcolor": "white",
           "lakecolor": "white",
           "landcolor": "#E5ECF6",
           "showlakes": true,
           "showland": true,
           "subunitcolor": "white"
          },
          "hoverlabel": {
           "align": "left"
          },
          "hovermode": "closest",
          "mapbox": {
           "style": "light"
          },
          "paper_bgcolor": "white",
          "plot_bgcolor": "#E5ECF6",
          "polar": {
           "angularaxis": {
            "gridcolor": "white",
            "linecolor": "white",
            "ticks": ""
           },
           "bgcolor": "#E5ECF6",
           "radialaxis": {
            "gridcolor": "white",
            "linecolor": "white",
            "ticks": ""
           }
          },
          "scene": {
           "xaxis": {
            "backgroundcolor": "#E5ECF6",
            "gridcolor": "white",
            "gridwidth": 2,
            "linecolor": "white",
            "showbackground": true,
            "ticks": "",
            "zerolinecolor": "white"
           },
           "yaxis": {
            "backgroundcolor": "#E5ECF6",
            "gridcolor": "white",
            "gridwidth": 2,
            "linecolor": "white",
            "showbackground": true,
            "ticks": "",
            "zerolinecolor": "white"
           },
           "zaxis": {
            "backgroundcolor": "#E5ECF6",
            "gridcolor": "white",
            "gridwidth": 2,
            "linecolor": "white",
            "showbackground": true,
            "ticks": "",
            "zerolinecolor": "white"
           }
          },
          "shapedefaults": {
           "line": {
            "color": "#2a3f5f"
           }
          },
          "ternary": {
           "aaxis": {
            "gridcolor": "white",
            "linecolor": "white",
            "ticks": ""
           },
           "baxis": {
            "gridcolor": "white",
            "linecolor": "white",
            "ticks": ""
           },
           "bgcolor": "#E5ECF6",
           "caxis": {
            "gridcolor": "white",
            "linecolor": "white",
            "ticks": ""
           }
          },
          "title": {
           "x": 0.05
          },
          "xaxis": {
           "automargin": true,
           "gridcolor": "white",
           "linecolor": "white",
           "ticks": "",
           "title": {
            "standoff": 15
           },
           "zerolinecolor": "white",
           "zerolinewidth": 2
          },
          "yaxis": {
           "automargin": true,
           "gridcolor": "white",
           "linecolor": "white",
           "ticks": "",
           "title": {
            "standoff": 15
           },
           "zerolinecolor": "white",
           "zerolinewidth": 2
          }
         }
        },
        "xaxis": {
         "anchor": "y",
         "domain": [
          0,
          1
         ],
         "title": {
          "text": "index"
         }
        },
        "yaxis": {
         "anchor": "x",
         "domain": [
          0,
          1
         ],
         "title": {
          "text": "Theta"
         }
        }
       }
      }
     },
     "metadata": {},
     "output_type": "display_data"
    }
   ],
   "source": [
    "px.line(greeks_df, y=\"Theta\")"
   ]
  },
  {
   "cell_type": "markdown",
   "metadata": {},
   "source": [
    "### Rho"
   ]
  },
  {
   "cell_type": "code",
   "execution_count": 45,
   "metadata": {},
   "outputs": [
    {
     "data": {
      "application/vnd.plotly.v1+json": {
       "config": {
        "plotlyServerURL": "https://plot.ly"
       },
       "data": [
        {
         "hovertemplate": "index=%{x}<br>Rho=%{y}<extra></extra>",
         "legendgroup": "",
         "line": {
          "color": "#636efa",
          "dash": "solid"
         },
         "marker": {
          "symbol": "circle"
         },
         "mode": "lines",
         "name": "",
         "orientation": "v",
         "showlegend": false,
         "type": "scatter",
         "x": [
          0,
          1,
          2,
          3,
          4,
          5,
          6,
          7,
          8,
          9,
          10,
          11,
          12,
          13,
          14,
          15,
          16,
          17,
          18,
          19,
          20,
          21,
          22,
          23,
          24,
          25,
          26,
          27,
          28,
          29,
          30,
          31,
          32,
          33,
          34,
          35,
          36,
          37,
          38,
          39,
          40,
          41,
          42,
          43,
          44,
          45,
          46,
          47,
          48,
          49,
          50,
          51,
          52,
          53,
          54,
          55,
          56,
          57,
          58,
          59,
          60,
          61,
          62,
          63,
          64,
          65,
          66,
          67,
          68,
          69,
          70,
          71,
          72,
          73,
          74,
          75,
          76,
          77,
          78,
          79,
          80,
          81,
          82,
          83,
          84,
          85,
          86,
          87,
          88,
          89,
          90,
          91,
          92,
          93,
          94,
          95,
          96,
          97,
          98,
          99,
          100,
          101,
          102,
          103,
          104,
          105,
          106,
          107,
          108,
          109,
          110,
          111,
          112,
          113,
          114,
          115,
          116,
          117,
          118,
          119,
          120,
          121,
          122,
          123,
          124,
          125,
          126,
          127,
          128,
          129,
          130,
          131,
          132,
          133,
          134,
          135,
          136,
          137,
          138,
          139,
          140,
          141,
          142,
          143,
          144,
          145,
          146,
          147,
          148,
          149,
          150,
          151,
          152,
          153,
          154,
          155,
          156,
          157,
          158,
          159,
          160,
          161,
          162,
          163,
          164,
          165,
          166,
          167,
          168,
          169,
          170,
          171,
          172,
          173,
          174,
          175,
          176,
          177,
          178,
          179,
          180,
          181,
          182,
          183,
          184,
          185,
          186,
          187,
          188,
          189,
          190,
          191,
          192,
          193,
          194,
          195,
          196,
          197,
          198,
          199,
          200,
          201,
          202,
          203,
          204,
          205,
          206,
          207,
          208,
          209,
          210,
          211,
          212,
          213,
          214,
          215,
          216,
          217,
          218,
          219,
          220,
          221,
          222,
          223,
          224,
          225,
          226,
          227,
          228,
          229,
          230,
          231,
          232,
          233,
          234,
          235,
          236,
          237,
          238,
          239,
          240,
          241,
          242,
          243,
          244,
          245,
          246,
          247,
          248,
          249,
          250,
          251,
          252,
          253,
          254,
          255,
          256,
          257,
          258,
          259,
          260,
          261,
          262,
          263,
          264,
          265,
          266,
          267,
          268,
          269,
          270,
          271,
          272,
          273,
          274,
          275,
          276,
          277,
          278,
          279,
          280,
          281,
          282,
          283,
          284,
          285,
          286,
          287,
          288,
          289,
          290,
          291,
          292,
          293,
          294,
          295,
          296,
          297,
          298,
          299,
          300,
          301,
          302,
          303,
          304,
          305,
          306,
          307,
          308,
          309,
          310,
          311,
          312,
          313,
          314,
          315,
          316,
          317,
          318,
          319,
          320,
          321,
          322,
          323,
          324,
          325,
          326,
          327,
          328,
          329,
          330,
          331,
          332,
          333,
          334,
          335,
          336,
          337,
          338,
          339,
          340,
          341,
          342,
          343,
          344,
          345,
          346,
          347,
          348,
          349,
          350,
          351,
          352,
          353,
          354,
          355,
          356,
          357,
          358,
          359,
          360,
          361,
          362,
          363,
          364,
          365,
          366,
          367,
          368,
          369,
          370,
          371,
          372,
          373,
          374,
          375,
          376,
          377
         ],
         "xaxis": "x",
         "y": [
          0.10837755414172534,
          0.11429453010691759,
          0.1008257582668648,
          0.2085183820952352,
          0.2038874777667843,
          0.20267159501941023,
          0.2068262274690369,
          0.20400995313707426,
          0.20761863282814375,
          0.21252750613598437,
          0.22060633381215666,
          0.45153753399063135,
          0.45464530063554776,
          0.5276072039066548,
          0.40187304395544743,
          0.5151791937407779,
          0.4183663219805567,
          0.5325116079859527,
          0.5405851219677515,
          0.5219186747638105,
          0.3984138814701055,
          0.5059763757060409,
          0.5349502259264227,
          0.5316731912898831,
          0.521455873723653,
          0.5082746531286375,
          0.5009797686170714,
          0.4934414357364858,
          0.4986245528186828,
          0.49151923926160634,
          0.501990913477357,
          0.48110424592096024,
          0.4876894097094464,
          0.4746793599395005,
          0.45191576609227013,
          0.3538386204411381,
          0.36961617308861605,
          0.46184388935444076,
          0.46278605759653146,
          0.46562598953414636,
          0.4503383087524071,
          0.4647660789487418,
          0.4934352711529755,
          0.4876775583682047,
          0.496256897378089,
          0.5084015437830658,
          0.505927275526119,
          0,
          0,
          0.5039704935541067,
          0,
          0,
          0,
          0,
          0,
          0,
          0,
          0.47064224767723317,
          0.462949556890635,
          0.4457342696184696,
          0.4567415169276501,
          0.5617674086693114,
          0.5484886270608058,
          0.6255033673312482,
          0.46370430339948143,
          0.5603600732513314,
          0.6535135075296239,
          0,
          0,
          0.566802521319687,
          0,
          0,
          0,
          0,
          0,
          0,
          0,
          0,
          0.3751643658631565,
          0,
          0,
          0,
          0,
          0.3923890721750922,
          0,
          0,
          0,
          0,
          0,
          0,
          0,
          0,
          0,
          0,
          0,
          0,
          0,
          0,
          0,
          0,
          0,
          0,
          0,
          0,
          0,
          0,
          0,
          0,
          0,
          0,
          0,
          0,
          0,
          0,
          0,
          0,
          0,
          0,
          0,
          0,
          0,
          0,
          0,
          0,
          0,
          0,
          0,
          0,
          0,
          0,
          0,
          0,
          0,
          0,
          0,
          0,
          0,
          0,
          0,
          0,
          0,
          0,
          0,
          0,
          0,
          0,
          0,
          0,
          0,
          0,
          0,
          0,
          0,
          0,
          0,
          0,
          0,
          0,
          0,
          0,
          0,
          0,
          0,
          0,
          0,
          0,
          0,
          0,
          0,
          0,
          0,
          0,
          0,
          0,
          0,
          0,
          0,
          0,
          0,
          0,
          0,
          0,
          0,
          0,
          0,
          0,
          0,
          0,
          0,
          0,
          0,
          0,
          0,
          0,
          0,
          0,
          0,
          0,
          0,
          0,
          0,
          0,
          0,
          0,
          0,
          0,
          0,
          0,
          0,
          0,
          0,
          0,
          0,
          0,
          0,
          0,
          0,
          0,
          0,
          0,
          0,
          0,
          0,
          0,
          0,
          0,
          0,
          0,
          0,
          0,
          0,
          0,
          0,
          0,
          0,
          0,
          0,
          0,
          0,
          0,
          0,
          0,
          0,
          0,
          0,
          0,
          0,
          0,
          0,
          0,
          0,
          0,
          0,
          0,
          0,
          0,
          0,
          0,
          0,
          0,
          0,
          0,
          0,
          0,
          0,
          0,
          0,
          0,
          0,
          0,
          0,
          0,
          0,
          0,
          0,
          0,
          0,
          0,
          0,
          0,
          0,
          0,
          0,
          0,
          0,
          0,
          0,
          0,
          0,
          0,
          0,
          0,
          0,
          0,
          0,
          0,
          0,
          0,
          0,
          0,
          0,
          0,
          0,
          0,
          0,
          0,
          0,
          0,
          0,
          0,
          0,
          0,
          0,
          0,
          0,
          0,
          0,
          0,
          0,
          0,
          0,
          0,
          0,
          0,
          0,
          0,
          0,
          0,
          0,
          0,
          0,
          0,
          0,
          0,
          0,
          0,
          0,
          0,
          0,
          0,
          0,
          0,
          0,
          0,
          0,
          0,
          0,
          0,
          0,
          0,
          0,
          0,
          0,
          0,
          0,
          0,
          0,
          0,
          0,
          0,
          0,
          0,
          0,
          0,
          0,
          0,
          0,
          0,
          0,
          0,
          0,
          0,
          0,
          0,
          0,
          0,
          0,
          0
         ],
         "yaxis": "y"
        }
       ],
       "layout": {
        "legend": {
         "tracegroupgap": 0
        },
        "margin": {
         "t": 60
        },
        "template": {
         "data": {
          "bar": [
           {
            "error_x": {
             "color": "#2a3f5f"
            },
            "error_y": {
             "color": "#2a3f5f"
            },
            "marker": {
             "line": {
              "color": "#E5ECF6",
              "width": 0.5
             },
             "pattern": {
              "fillmode": "overlay",
              "size": 10,
              "solidity": 0.2
             }
            },
            "type": "bar"
           }
          ],
          "barpolar": [
           {
            "marker": {
             "line": {
              "color": "#E5ECF6",
              "width": 0.5
             },
             "pattern": {
              "fillmode": "overlay",
              "size": 10,
              "solidity": 0.2
             }
            },
            "type": "barpolar"
           }
          ],
          "carpet": [
           {
            "aaxis": {
             "endlinecolor": "#2a3f5f",
             "gridcolor": "white",
             "linecolor": "white",
             "minorgridcolor": "white",
             "startlinecolor": "#2a3f5f"
            },
            "baxis": {
             "endlinecolor": "#2a3f5f",
             "gridcolor": "white",
             "linecolor": "white",
             "minorgridcolor": "white",
             "startlinecolor": "#2a3f5f"
            },
            "type": "carpet"
           }
          ],
          "choropleth": [
           {
            "colorbar": {
             "outlinewidth": 0,
             "ticks": ""
            },
            "type": "choropleth"
           }
          ],
          "contour": [
           {
            "colorbar": {
             "outlinewidth": 0,
             "ticks": ""
            },
            "colorscale": [
             [
              0,
              "#0d0887"
             ],
             [
              0.1111111111111111,
              "#46039f"
             ],
             [
              0.2222222222222222,
              "#7201a8"
             ],
             [
              0.3333333333333333,
              "#9c179e"
             ],
             [
              0.4444444444444444,
              "#bd3786"
             ],
             [
              0.5555555555555556,
              "#d8576b"
             ],
             [
              0.6666666666666666,
              "#ed7953"
             ],
             [
              0.7777777777777778,
              "#fb9f3a"
             ],
             [
              0.8888888888888888,
              "#fdca26"
             ],
             [
              1,
              "#f0f921"
             ]
            ],
            "type": "contour"
           }
          ],
          "contourcarpet": [
           {
            "colorbar": {
             "outlinewidth": 0,
             "ticks": ""
            },
            "type": "contourcarpet"
           }
          ],
          "heatmap": [
           {
            "colorbar": {
             "outlinewidth": 0,
             "ticks": ""
            },
            "colorscale": [
             [
              0,
              "#0d0887"
             ],
             [
              0.1111111111111111,
              "#46039f"
             ],
             [
              0.2222222222222222,
              "#7201a8"
             ],
             [
              0.3333333333333333,
              "#9c179e"
             ],
             [
              0.4444444444444444,
              "#bd3786"
             ],
             [
              0.5555555555555556,
              "#d8576b"
             ],
             [
              0.6666666666666666,
              "#ed7953"
             ],
             [
              0.7777777777777778,
              "#fb9f3a"
             ],
             [
              0.8888888888888888,
              "#fdca26"
             ],
             [
              1,
              "#f0f921"
             ]
            ],
            "type": "heatmap"
           }
          ],
          "heatmapgl": [
           {
            "colorbar": {
             "outlinewidth": 0,
             "ticks": ""
            },
            "colorscale": [
             [
              0,
              "#0d0887"
             ],
             [
              0.1111111111111111,
              "#46039f"
             ],
             [
              0.2222222222222222,
              "#7201a8"
             ],
             [
              0.3333333333333333,
              "#9c179e"
             ],
             [
              0.4444444444444444,
              "#bd3786"
             ],
             [
              0.5555555555555556,
              "#d8576b"
             ],
             [
              0.6666666666666666,
              "#ed7953"
             ],
             [
              0.7777777777777778,
              "#fb9f3a"
             ],
             [
              0.8888888888888888,
              "#fdca26"
             ],
             [
              1,
              "#f0f921"
             ]
            ],
            "type": "heatmapgl"
           }
          ],
          "histogram": [
           {
            "marker": {
             "pattern": {
              "fillmode": "overlay",
              "size": 10,
              "solidity": 0.2
             }
            },
            "type": "histogram"
           }
          ],
          "histogram2d": [
           {
            "colorbar": {
             "outlinewidth": 0,
             "ticks": ""
            },
            "colorscale": [
             [
              0,
              "#0d0887"
             ],
             [
              0.1111111111111111,
              "#46039f"
             ],
             [
              0.2222222222222222,
              "#7201a8"
             ],
             [
              0.3333333333333333,
              "#9c179e"
             ],
             [
              0.4444444444444444,
              "#bd3786"
             ],
             [
              0.5555555555555556,
              "#d8576b"
             ],
             [
              0.6666666666666666,
              "#ed7953"
             ],
             [
              0.7777777777777778,
              "#fb9f3a"
             ],
             [
              0.8888888888888888,
              "#fdca26"
             ],
             [
              1,
              "#f0f921"
             ]
            ],
            "type": "histogram2d"
           }
          ],
          "histogram2dcontour": [
           {
            "colorbar": {
             "outlinewidth": 0,
             "ticks": ""
            },
            "colorscale": [
             [
              0,
              "#0d0887"
             ],
             [
              0.1111111111111111,
              "#46039f"
             ],
             [
              0.2222222222222222,
              "#7201a8"
             ],
             [
              0.3333333333333333,
              "#9c179e"
             ],
             [
              0.4444444444444444,
              "#bd3786"
             ],
             [
              0.5555555555555556,
              "#d8576b"
             ],
             [
              0.6666666666666666,
              "#ed7953"
             ],
             [
              0.7777777777777778,
              "#fb9f3a"
             ],
             [
              0.8888888888888888,
              "#fdca26"
             ],
             [
              1,
              "#f0f921"
             ]
            ],
            "type": "histogram2dcontour"
           }
          ],
          "mesh3d": [
           {
            "colorbar": {
             "outlinewidth": 0,
             "ticks": ""
            },
            "type": "mesh3d"
           }
          ],
          "parcoords": [
           {
            "line": {
             "colorbar": {
              "outlinewidth": 0,
              "ticks": ""
             }
            },
            "type": "parcoords"
           }
          ],
          "pie": [
           {
            "automargin": true,
            "type": "pie"
           }
          ],
          "scatter": [
           {
            "fillpattern": {
             "fillmode": "overlay",
             "size": 10,
             "solidity": 0.2
            },
            "type": "scatter"
           }
          ],
          "scatter3d": [
           {
            "line": {
             "colorbar": {
              "outlinewidth": 0,
              "ticks": ""
             }
            },
            "marker": {
             "colorbar": {
              "outlinewidth": 0,
              "ticks": ""
             }
            },
            "type": "scatter3d"
           }
          ],
          "scattercarpet": [
           {
            "marker": {
             "colorbar": {
              "outlinewidth": 0,
              "ticks": ""
             }
            },
            "type": "scattercarpet"
           }
          ],
          "scattergeo": [
           {
            "marker": {
             "colorbar": {
              "outlinewidth": 0,
              "ticks": ""
             }
            },
            "type": "scattergeo"
           }
          ],
          "scattergl": [
           {
            "marker": {
             "colorbar": {
              "outlinewidth": 0,
              "ticks": ""
             }
            },
            "type": "scattergl"
           }
          ],
          "scattermapbox": [
           {
            "marker": {
             "colorbar": {
              "outlinewidth": 0,
              "ticks": ""
             }
            },
            "type": "scattermapbox"
           }
          ],
          "scatterpolar": [
           {
            "marker": {
             "colorbar": {
              "outlinewidth": 0,
              "ticks": ""
             }
            },
            "type": "scatterpolar"
           }
          ],
          "scatterpolargl": [
           {
            "marker": {
             "colorbar": {
              "outlinewidth": 0,
              "ticks": ""
             }
            },
            "type": "scatterpolargl"
           }
          ],
          "scatterternary": [
           {
            "marker": {
             "colorbar": {
              "outlinewidth": 0,
              "ticks": ""
             }
            },
            "type": "scatterternary"
           }
          ],
          "surface": [
           {
            "colorbar": {
             "outlinewidth": 0,
             "ticks": ""
            },
            "colorscale": [
             [
              0,
              "#0d0887"
             ],
             [
              0.1111111111111111,
              "#46039f"
             ],
             [
              0.2222222222222222,
              "#7201a8"
             ],
             [
              0.3333333333333333,
              "#9c179e"
             ],
             [
              0.4444444444444444,
              "#bd3786"
             ],
             [
              0.5555555555555556,
              "#d8576b"
             ],
             [
              0.6666666666666666,
              "#ed7953"
             ],
             [
              0.7777777777777778,
              "#fb9f3a"
             ],
             [
              0.8888888888888888,
              "#fdca26"
             ],
             [
              1,
              "#f0f921"
             ]
            ],
            "type": "surface"
           }
          ],
          "table": [
           {
            "cells": {
             "fill": {
              "color": "#EBF0F8"
             },
             "line": {
              "color": "white"
             }
            },
            "header": {
             "fill": {
              "color": "#C8D4E3"
             },
             "line": {
              "color": "white"
             }
            },
            "type": "table"
           }
          ]
         },
         "layout": {
          "annotationdefaults": {
           "arrowcolor": "#2a3f5f",
           "arrowhead": 0,
           "arrowwidth": 1
          },
          "autotypenumbers": "strict",
          "coloraxis": {
           "colorbar": {
            "outlinewidth": 0,
            "ticks": ""
           }
          },
          "colorscale": {
           "diverging": [
            [
             0,
             "#8e0152"
            ],
            [
             0.1,
             "#c51b7d"
            ],
            [
             0.2,
             "#de77ae"
            ],
            [
             0.3,
             "#f1b6da"
            ],
            [
             0.4,
             "#fde0ef"
            ],
            [
             0.5,
             "#f7f7f7"
            ],
            [
             0.6,
             "#e6f5d0"
            ],
            [
             0.7,
             "#b8e186"
            ],
            [
             0.8,
             "#7fbc41"
            ],
            [
             0.9,
             "#4d9221"
            ],
            [
             1,
             "#276419"
            ]
           ],
           "sequential": [
            [
             0,
             "#0d0887"
            ],
            [
             0.1111111111111111,
             "#46039f"
            ],
            [
             0.2222222222222222,
             "#7201a8"
            ],
            [
             0.3333333333333333,
             "#9c179e"
            ],
            [
             0.4444444444444444,
             "#bd3786"
            ],
            [
             0.5555555555555556,
             "#d8576b"
            ],
            [
             0.6666666666666666,
             "#ed7953"
            ],
            [
             0.7777777777777778,
             "#fb9f3a"
            ],
            [
             0.8888888888888888,
             "#fdca26"
            ],
            [
             1,
             "#f0f921"
            ]
           ],
           "sequentialminus": [
            [
             0,
             "#0d0887"
            ],
            [
             0.1111111111111111,
             "#46039f"
            ],
            [
             0.2222222222222222,
             "#7201a8"
            ],
            [
             0.3333333333333333,
             "#9c179e"
            ],
            [
             0.4444444444444444,
             "#bd3786"
            ],
            [
             0.5555555555555556,
             "#d8576b"
            ],
            [
             0.6666666666666666,
             "#ed7953"
            ],
            [
             0.7777777777777778,
             "#fb9f3a"
            ],
            [
             0.8888888888888888,
             "#fdca26"
            ],
            [
             1,
             "#f0f921"
            ]
           ]
          },
          "colorway": [
           "#636efa",
           "#EF553B",
           "#00cc96",
           "#ab63fa",
           "#FFA15A",
           "#19d3f3",
           "#FF6692",
           "#B6E880",
           "#FF97FF",
           "#FECB52"
          ],
          "font": {
           "color": "#2a3f5f"
          },
          "geo": {
           "bgcolor": "white",
           "lakecolor": "white",
           "landcolor": "#E5ECF6",
           "showlakes": true,
           "showland": true,
           "subunitcolor": "white"
          },
          "hoverlabel": {
           "align": "left"
          },
          "hovermode": "closest",
          "mapbox": {
           "style": "light"
          },
          "paper_bgcolor": "white",
          "plot_bgcolor": "#E5ECF6",
          "polar": {
           "angularaxis": {
            "gridcolor": "white",
            "linecolor": "white",
            "ticks": ""
           },
           "bgcolor": "#E5ECF6",
           "radialaxis": {
            "gridcolor": "white",
            "linecolor": "white",
            "ticks": ""
           }
          },
          "scene": {
           "xaxis": {
            "backgroundcolor": "#E5ECF6",
            "gridcolor": "white",
            "gridwidth": 2,
            "linecolor": "white",
            "showbackground": true,
            "ticks": "",
            "zerolinecolor": "white"
           },
           "yaxis": {
            "backgroundcolor": "#E5ECF6",
            "gridcolor": "white",
            "gridwidth": 2,
            "linecolor": "white",
            "showbackground": true,
            "ticks": "",
            "zerolinecolor": "white"
           },
           "zaxis": {
            "backgroundcolor": "#E5ECF6",
            "gridcolor": "white",
            "gridwidth": 2,
            "linecolor": "white",
            "showbackground": true,
            "ticks": "",
            "zerolinecolor": "white"
           }
          },
          "shapedefaults": {
           "line": {
            "color": "#2a3f5f"
           }
          },
          "ternary": {
           "aaxis": {
            "gridcolor": "white",
            "linecolor": "white",
            "ticks": ""
           },
           "baxis": {
            "gridcolor": "white",
            "linecolor": "white",
            "ticks": ""
           },
           "bgcolor": "#E5ECF6",
           "caxis": {
            "gridcolor": "white",
            "linecolor": "white",
            "ticks": ""
           }
          },
          "title": {
           "x": 0.05
          },
          "xaxis": {
           "automargin": true,
           "gridcolor": "white",
           "linecolor": "white",
           "ticks": "",
           "title": {
            "standoff": 15
           },
           "zerolinecolor": "white",
           "zerolinewidth": 2
          },
          "yaxis": {
           "automargin": true,
           "gridcolor": "white",
           "linecolor": "white",
           "ticks": "",
           "title": {
            "standoff": 15
           },
           "zerolinecolor": "white",
           "zerolinewidth": 2
          }
         }
        },
        "xaxis": {
         "anchor": "y",
         "domain": [
          0,
          1
         ],
         "title": {
          "text": "index"
         }
        },
        "yaxis": {
         "anchor": "x",
         "domain": [
          0,
          1
         ],
         "title": {
          "text": "Rho"
         }
        }
       }
      }
     },
     "metadata": {},
     "output_type": "display_data"
    }
   ],
   "source": [
    "px.line(greeks_df, y=\"Rho\")"
   ]
  },
  {
   "cell_type": "code",
   "execution_count": null,
   "metadata": {},
   "outputs": [],
   "source": []
  },
  {
   "cell_type": "code",
   "execution_count": null,
   "metadata": {},
   "outputs": [],
   "source": []
  }
 ],
 "metadata": {
  "kernelspec": {
   "display_name": "finsim",
   "language": "python",
   "name": "python3"
  },
  "language_info": {
   "codemirror_mode": {
    "name": "ipython",
    "version": 3
   },
   "file_extension": ".py",
   "mimetype": "text/x-python",
   "name": "python",
   "nbconvert_exporter": "python",
   "pygments_lexer": "ipython3",
   "version": "3.9.13"
  },
  "orig_nbformat": 4,
  "vscode": {
   "interpreter": {
    "hash": "05eea7d3595bfadf0e30a6d0d1e84a362f1f365445b3148f9dbcbee14b1bb771"
   }
  }
 },
 "nbformat": 4,
 "nbformat_minor": 2
}
