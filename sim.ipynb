{
 "cells": [
  {
   "cell_type": "code",
   "execution_count": 1,
   "metadata": {},
   "outputs": [],
   "source": [
    "import pandas as pd\n",
    "import numpy as np\n",
    "# import cupy as np\n",
    "import plotly.express as px\n",
    "import pandas_market_calendars as mcal\n",
    "from tqdm.notebook import tqdm\n",
    "from scipy.stats import norm"
   ]
  },
  {
   "cell_type": "markdown",
   "metadata": {},
   "source": [
    "## Payoff Function"
   ]
  },
  {
   "cell_type": "code",
   "execution_count": 2,
   "metadata": {},
   "outputs": [],
   "source": [
    "def payoff(paths, K, Barrier, remaining_steps):\n",
    "    Nsim = paths.shape[0]\n",
    "    interest_payment = min(6, ((remaining_steps // 63) + 1)) * 1.75\n",
    "    final_prices = paths[:, :, -1] #S_T\n",
    "    above_strike = np.all(final_prices >= K, axis=1)\n",
    "    barrier_event = np.any(paths.min(axis=2) <= Barrier, axis=1)\n",
    "\n",
    "    # No barrier event or (barrier event and above strike)\n",
    "    cash_payout = np.where(np.logical_or(np.logical_not(barrier_event), np.logical_and(barrier_event,  above_strike)), 1000 + interest_payment, 0)\n",
    "\n",
    "    # barrier event and below strike\n",
    "    percent_change = final_prices / K # Based on final strike price\n",
    "    min_loc = np.argmin(percent_change, axis=1) # Finding the worst performing underlying\n",
    "    j = np.indices(min_loc.shape)\n",
    "    payouts = 1000 * percent_change[j, min_loc] + interest_payment # certificate to stock ratio * final price of the stock + coupon payment\n",
    "    stock_payout = np.where(np.logical_and(barrier_event,  np.logical_not(above_strike)), payouts, 0)\n",
    "\n",
    "    return np.sum(np.concatenate((cash_payout.reshape(1, Nsim), stock_payout.reshape(1, Nsim))), axis=0)"
   ]
  },
  {
   "cell_type": "markdown",
   "metadata": {},
   "source": [
    "Expected Payoff: $ \\hat{f}(S, t) = \\frac{1}{n} \\sum^n_{i=1} e^{-r(T-t)} \\chi(S^{(i)})$"
   ]
  },
  {
   "cell_type": "code",
   "execution_count": 3,
   "metadata": {},
   "outputs": [],
   "source": [
    "def expected_payoff(payoffs, r, T, t):\n",
    "    return np.mean(np.exp(-r*(T-t)) * payoffs)"
   ]
  },
  {
   "cell_type": "markdown",
   "metadata": {},
   "source": [
    "## Plotting"
   ]
  },
  {
   "cell_type": "code",
   "execution_count": 4,
   "metadata": {},
   "outputs": [],
   "source": [
    "def plot_simulations(price_hist, start_date, Nsim, sim_paths, stock=0):\n",
    "    \"\"\"plots simulations for chosen stock\n",
    "\n",
    "    Args:\n",
    "        price_hist (df): df of historical prices\n",
    "        sim_paths (list): simulated price paths\n",
    "        stock (int, optional): index of stock. Defaults to 0.\n",
    "    \"\"\"\n",
    "    # df of historical prices\n",
    "    price_hist = price_hist.loc[:start_date]\n",
    "    price_hist = price_hist.to_numpy()[:, [0]].reshape(-1)\n",
    "    price_hist = np.vstack([price_hist]*Nsim)\n",
    "    price_hist = pd.DataFrame(price_hist).transpose()\n",
    "\n",
    "    sim_paths = pd.DataFrame(sim_paths[:, stock, :]).transpose()\n",
    "    sim_paths = pd.concat((price_hist, sim_paths))\n",
    "    sim_paths = sim_paths.reset_index(drop=True)\n",
    "    fig = px.line(sim_paths)\n",
    "    return fig"
   ]
  },
  {
   "cell_type": "markdown",
   "metadata": {},
   "source": [
    "# GBM Simlulations\n"
   ]
  },
  {
   "cell_type": "markdown",
   "metadata": {},
   "source": [
    "## Standard MC"
   ]
  },
  {
   "cell_type": "code",
   "execution_count": 5,
   "metadata": {},
   "outputs": [],
   "source": [
    "def multi_asset_GBM(S0, r, Sigma, dt, m, p, z=None):\n",
    "    \"\"\"GBM simulation of multiple asset paths\n",
    "\n",
    "    Args:\n",
    "        S0 (vector of start prices): vector of starting prices\n",
    "        r (int): risk free interest rate\n",
    "        Sigma (matrix): covariance matrix\n",
    "        dt (float): delta between each time step\n",
    "        m (int): number of days simulated\n",
    "        p (int): number of assets\n",
    "    \"\"\"\n",
    "\n",
    "    S = np.zeros(shape=(m, p))\n",
    "    S[0] = S0\n",
    "\n",
    "    if z is None:\n",
    "        z = np.random.multivariate_normal(mean=np.zeros(p), cov=np.identity(p), size=m)\n",
    "\n",
    "    for step in range(1, m):\n",
    "        S[step] = S[step-1] * np.exp(( r * dt * np.ones(p) ) # Rate discount\n",
    "             - ( 0.5 * dt * np.diagonal(Sigma) ) # Volatility\n",
    "             + ( np.matmul(np.linalg.cholesky(Sigma * dt), z[step-1]) )) # Weiner process\n",
    "    return np.transpose(S)"
   ]
  },
  {
   "cell_type": "markdown",
   "metadata": {},
   "source": [
    "## Antithetic Variate"
   ]
  },
  {
   "cell_type": "code",
   "execution_count": 6,
   "metadata": {},
   "outputs": [],
   "source": [
    "def multi_asset_GBM_av(S0, r, Sigma, dt, m, p):\n",
    "    \"\"\"GBM simulation of multiple asset paths\n",
    "\n",
    "    Args:\n",
    "        S0 (vector of start prices): vector of starting prices\n",
    "        r (int): risk free interest rate\n",
    "        Sigma (matrix): covariance matrix\n",
    "        dt (float): delta between each time step\n",
    "        m (int): number of days simulated\n",
    "        p (int): number of assets\n",
    "    \"\"\"\n",
    "\n",
    "    S = np.zeros(shape=(m, p))\n",
    "    Stilde = np.zeros(shape=(m, p))\n",
    "    S[0] = S0\n",
    "    Stilde[0] = S0\n",
    "\n",
    "    z = np.random.multivariate_normal(mean=np.zeros(p), cov=np.identity(p), size=m)\n",
    "    for step in range(1, m):\n",
    "        S[step] = S[step-1] * np.exp(( r * dt * np.ones(p) ) # Rate discount\n",
    "             - ( 0.5 * dt * np.diagonal(Sigma) ) # Volatility\n",
    "             + ( np.matmul(np.linalg.cholesky(Sigma * dt), z[step-1]) )) # Weiner process\n",
    "\n",
    "        Stilde[step] = Stilde[step-1] * np.exp(( r * dt * np.ones(p) ) # Rate discount\n",
    "             - ( 0.5 * dt * np.diagonal(Sigma) ) # Volatility\n",
    "             + ( np.matmul(np.linalg.cholesky(Sigma * dt), -z[step-1]) )) # Weiner process\n",
    "    return np.transpose(S), np.transpose(Stilde)"
   ]
  },
  {
   "cell_type": "code",
   "execution_count": 7,
   "metadata": {},
   "outputs": [],
   "source": [
    "# function to get v and Sigma from within a 1 year window\n",
    "def get_simulation_params(asset_hist, t, dt):\n",
    "    prices = asset_hist[t: t+252, :]\n",
    "    log_returns = np.diff(np.log(prices), axis=0)\n",
    "    S0 = prices[-1, :]\n",
    "    Sigma = np.cov(log_returns, rowvar=False)/dt\n",
    "    return S0, Sigma"
   ]
  },
  {
   "cell_type": "code",
   "execution_count": 8,
   "metadata": {},
   "outputs": [],
   "source": [
    "def n_path_sim(asset_hist, Nsim, t, r, dt, p, m, sim_func, var_reduction=None):\n",
    "\n",
    "    paths = None\n",
    "    remaining_steps = m-t\n",
    "\n",
    "    if var_reduction == None:\n",
    "        hist = np.repeat(asset_hist[252: 252+t].T[:, :, np.newaxis], Nsim, axis=2)\n",
    "        hist = np.moveaxis(hist, -1, 0)\n",
    "        paths = np.zeros(shape=(Nsim, p, remaining_steps))\n",
    "        for i in range(Nsim):\n",
    "            S0, Sigma = get_simulation_params(asset_hist, t, dt)\n",
    "            paths[i] = sim_func(S0, r, Sigma, dt, remaining_steps, p)\n",
    "\n",
    "    elif var_reduction == \"av\":\n",
    "        hist = np.repeat(asset_hist[252: 252+t].T[:, :, np.newaxis], Nsim*2, axis=2)\n",
    "        hist = np.moveaxis(hist, -1, 0)\n",
    "        paths = np.zeros(shape=(2 * Nsim, p, remaining_steps))\n",
    "        for i in range(Nsim):\n",
    "            S0, Sigma = get_simulation_params(asset_hist, t, dt)\n",
    "            paths[i], paths[Nsim + i] = sim_func(S0, r, Sigma, dt, remaining_steps, p)\n",
    "    \n",
    "    elif var_reduction == \"emc\":\n",
    "        hist = np.repeat(asset_hist[252: 252+t].T[:, :, np.newaxis], Nsim, axis=2)\n",
    "        hist = np.moveaxis(hist, -1, 0)\n",
    "        paths = np.zeros(shape=(Nsim, p, remaining_steps))\n",
    "        Z = np.zeros(shape=(Nsim, p, remaining_steps))\n",
    "        Z0 = np.zeros(shape=(p, remaining_steps))\n",
    "        paths_star = np.zeros(shape=(Nsim, p, remaining_steps))\n",
    "        for i in range(Nsim):\n",
    "            S0, Sigma = get_simulation_params(asset_hist, t, dt)\n",
    "            paths[i] = sim_func(S0, r, Sigma, dt, remaining_steps, p)\n",
    "\n",
    "        paths_star[:, :, 0] = S0\n",
    "        for step in range(1, remaining_steps):\n",
    "            Z[:, :, step] = paths_star[:, :, step-1] * ( paths[:, :, step] / paths[:, :, step-1])\n",
    "            Z0[:, step] = np.exp(-r * step) * np.mean(Z[:, :, step], axis=0)\n",
    "            paths_star[:, :, step] = S0 * ( Z[:, :, step] / Z0[:, step] )\n",
    "            \n",
    "        paths = paths_star\n",
    "\n",
    "    # get historical prices up to current time step\n",
    "    paths = np.concatenate((hist, paths), axis=2)\n",
    "    return paths\n"
   ]
  },
  {
   "cell_type": "code",
   "execution_count": 9,
   "metadata": {},
   "outputs": [],
   "source": [
    "def n_path_sim_greeks(asset_hist, Nsim, t, r, dt, p, m, h_, sim_func, z):\n",
    "\n",
    "    remaining_steps = m-t\n",
    "    paths = np.zeros(shape=(9, Nsim, p, remaining_steps))\n",
    "    for i in range(Nsim):\n",
    "        S0, Sigma = get_simulation_params(asset_hist, t, dt)\n",
    "        paths[0][i] = sim_func(S0, r, Sigma, dt, remaining_steps, p, z)\n",
    "    for k in range(1, 8, 2):\n",
    "        for j, h in enumerate([1 - h_, 1 + h_]):\n",
    "            for i in range(Nsim):\n",
    "                S0, Sigma = get_simulation_params(asset_hist, t, dt)\n",
    "                if k == 1:\n",
    "                    paths[k + j][i] = sim_func(S0 * h, r, Sigma, dt, remaining_steps, p, z)\n",
    "                elif k == 3:\n",
    "                    paths[k + j][i] = sim_func(S0, r, Sigma * h, dt, remaining_steps, p, z)\n",
    "                elif k == 5:\n",
    "                    paths[k + j][i] = sim_func(S0, r, Sigma, dt * h, remaining_steps, p, z)\n",
    "                else:\n",
    "                    paths[k + j][i] = sim_func(S0, r * h, Sigma, dt, remaining_steps, p, z)\n",
    "\n",
    "    return paths\n"
   ]
  },
  {
   "cell_type": "code",
   "execution_count": 10,
   "metadata": {},
   "outputs": [],
   "source": [
    "def calc_rates(t, m, rates):\n",
    "    if t + 251 < len(rates):\n",
    "        rates_today = rates[t + 251]\n",
    "    else:\n",
    "        rates_today = rates[-1]\n",
    "    time_frame = np.array([21, 42, 63, 126, 252, 504])\n",
    "    return np.interp(40, time_frame, rates_today)"
   ]
  },
  {
   "cell_type": "markdown",
   "metadata": {},
   "source": [
    "# Run Simulations"
   ]
  },
  {
   "cell_type": "code",
   "execution_count": 11,
   "metadata": {},
   "outputs": [
    {
     "data": {
      "text/html": [
       "<div>\n",
       "<style scoped>\n",
       "    .dataframe tbody tr th:only-of-type {\n",
       "        vertical-align: middle;\n",
       "    }\n",
       "\n",
       "    .dataframe tbody tr th {\n",
       "        vertical-align: top;\n",
       "    }\n",
       "\n",
       "    .dataframe thead th {\n",
       "        text-align: right;\n",
       "    }\n",
       "</style>\n",
       "<table border=\"1\" class=\"dataframe\">\n",
       "  <thead>\n",
       "    <tr style=\"text-align: right;\">\n",
       "      <th></th>\n",
       "      <th>CVX</th>\n",
       "      <th>UNH</th>\n",
       "      <th>XOM</th>\n",
       "    </tr>\n",
       "    <tr>\n",
       "      <th>Date</th>\n",
       "      <th></th>\n",
       "      <th></th>\n",
       "      <th></th>\n",
       "    </tr>\n",
       "  </thead>\n",
       "  <tbody>\n",
       "    <tr>\n",
       "      <th>2020-05-26</th>\n",
       "      <td>93.300003</td>\n",
       "      <td>294.890015</td>\n",
       "      <td>45.910000</td>\n",
       "    </tr>\n",
       "    <tr>\n",
       "      <th>2020-05-27</th>\n",
       "      <td>93.900002</td>\n",
       "      <td>303.769989</td>\n",
       "      <td>46.240002</td>\n",
       "    </tr>\n",
       "    <tr>\n",
       "      <th>2020-05-28</th>\n",
       "      <td>90.870003</td>\n",
       "      <td>303.970001</td>\n",
       "      <td>45.040001</td>\n",
       "    </tr>\n",
       "    <tr>\n",
       "      <th>2020-05-29</th>\n",
       "      <td>91.699997</td>\n",
       "      <td>304.850006</td>\n",
       "      <td>45.470001</td>\n",
       "    </tr>\n",
       "    <tr>\n",
       "      <th>2020-06-01</th>\n",
       "      <td>92.790001</td>\n",
       "      <td>305.929993</td>\n",
       "      <td>46.279999</td>\n",
       "    </tr>\n",
       "  </tbody>\n",
       "</table>\n",
       "</div>"
      ],
      "text/plain": [
       "                  CVX         UNH        XOM\n",
       "Date                                        \n",
       "2020-05-26  93.300003  294.890015  45.910000\n",
       "2020-05-27  93.900002  303.769989  46.240002\n",
       "2020-05-28  90.870003  303.970001  45.040001\n",
       "2020-05-29  91.699997  304.850006  45.470001\n",
       "2020-06-01  92.790001  305.929993  46.279999"
      ]
     },
     "execution_count": 11,
     "metadata": {},
     "output_type": "execute_result"
    }
   ],
   "source": [
    "assets_df = pd.read_csv(\"data/assets.csv\", index_col='Date', parse_dates=True)\n",
    "assets_df.head()"
   ]
  },
  {
   "cell_type": "code",
   "execution_count": 12,
   "metadata": {},
   "outputs": [
    {
     "data": {
      "text/html": [
       "<div>\n",
       "<style scoped>\n",
       "    .dataframe tbody tr th:only-of-type {\n",
       "        vertical-align: middle;\n",
       "    }\n",
       "\n",
       "    .dataframe tbody tr th {\n",
       "        vertical-align: top;\n",
       "    }\n",
       "\n",
       "    .dataframe thead th {\n",
       "        text-align: right;\n",
       "    }\n",
       "</style>\n",
       "<table border=\"1\" class=\"dataframe\">\n",
       "  <thead>\n",
       "    <tr style=\"text-align: right;\">\n",
       "      <th></th>\n",
       "      <th>1 Mo</th>\n",
       "      <th>2 Mo</th>\n",
       "      <th>3 Mo</th>\n",
       "      <th>6 Mo</th>\n",
       "      <th>1 Yr</th>\n",
       "      <th>2 Yr</th>\n",
       "    </tr>\n",
       "    <tr>\n",
       "      <th>Date</th>\n",
       "      <th></th>\n",
       "      <th></th>\n",
       "      <th></th>\n",
       "      <th></th>\n",
       "      <th></th>\n",
       "      <th></th>\n",
       "    </tr>\n",
       "  </thead>\n",
       "  <tbody>\n",
       "    <tr>\n",
       "      <th>2020-05-26</th>\n",
       "      <td>0.10</td>\n",
       "      <td>0.12</td>\n",
       "      <td>0.14</td>\n",
       "      <td>0.17</td>\n",
       "      <td>0.17</td>\n",
       "      <td>0.18</td>\n",
       "    </tr>\n",
       "    <tr>\n",
       "      <th>2020-05-27</th>\n",
       "      <td>0.11</td>\n",
       "      <td>0.14</td>\n",
       "      <td>0.15</td>\n",
       "      <td>0.17</td>\n",
       "      <td>0.18</td>\n",
       "      <td>0.19</td>\n",
       "    </tr>\n",
       "    <tr>\n",
       "      <th>2020-05-28</th>\n",
       "      <td>0.14</td>\n",
       "      <td>0.15</td>\n",
       "      <td>0.15</td>\n",
       "      <td>0.18</td>\n",
       "      <td>0.17</td>\n",
       "      <td>0.17</td>\n",
       "    </tr>\n",
       "    <tr>\n",
       "      <th>2020-05-29</th>\n",
       "      <td>0.13</td>\n",
       "      <td>0.14</td>\n",
       "      <td>0.14</td>\n",
       "      <td>0.18</td>\n",
       "      <td>0.17</td>\n",
       "      <td>0.16</td>\n",
       "    </tr>\n",
       "    <tr>\n",
       "      <th>2020-06-01</th>\n",
       "      <td>0.12</td>\n",
       "      <td>0.14</td>\n",
       "      <td>0.14</td>\n",
       "      <td>0.18</td>\n",
       "      <td>0.17</td>\n",
       "      <td>0.14</td>\n",
       "    </tr>\n",
       "  </tbody>\n",
       "</table>\n",
       "</div>"
      ],
      "text/plain": [
       "            1 Mo  2 Mo  3 Mo  6 Mo  1 Yr  2 Yr\n",
       "Date                                          \n",
       "2020-05-26  0.10  0.12  0.14  0.17  0.17  0.18\n",
       "2020-05-27  0.11  0.14  0.15  0.17  0.18  0.19\n",
       "2020-05-28  0.14  0.15  0.15  0.18  0.17  0.17\n",
       "2020-05-29  0.13  0.14  0.14  0.18  0.17  0.16\n",
       "2020-06-01  0.12  0.14  0.14  0.18  0.17  0.14"
      ]
     },
     "execution_count": 12,
     "metadata": {},
     "output_type": "execute_result"
    }
   ],
   "source": [
    "rates_df = pd.read_csv(\"data/rates.csv\", index_col='Date', parse_dates=True)\n",
    "rates_df.head()"
   ]
  },
  {
   "cell_type": "code",
   "execution_count": 13,
   "metadata": {},
   "outputs": [
    {
     "data": {
      "text/html": [
       "<div>\n",
       "<style scoped>\n",
       "    .dataframe tbody tr th:only-of-type {\n",
       "        vertical-align: middle;\n",
       "    }\n",
       "\n",
       "    .dataframe tbody tr th {\n",
       "        vertical-align: top;\n",
       "    }\n",
       "\n",
       "    .dataframe thead th {\n",
       "        text-align: right;\n",
       "    }\n",
       "</style>\n",
       "<table border=\"1\" class=\"dataframe\">\n",
       "  <thead>\n",
       "    <tr style=\"text-align: right;\">\n",
       "      <th></th>\n",
       "      <th>Date</th>\n",
       "      <th>Price</th>\n",
       "    </tr>\n",
       "  </thead>\n",
       "  <tbody>\n",
       "    <tr>\n",
       "      <th>0</th>\n",
       "      <td>2021-06-02 00:00:00</td>\n",
       "      <td>1010.4</td>\n",
       "    </tr>\n",
       "    <tr>\n",
       "      <th>1</th>\n",
       "      <td>2021-06-03 00:00:00</td>\n",
       "      <td>1010.4</td>\n",
       "    </tr>\n",
       "    <tr>\n",
       "      <th>2</th>\n",
       "      <td>2021-06-04 00:00:00</td>\n",
       "      <td>1010.4</td>\n",
       "    </tr>\n",
       "    <tr>\n",
       "      <th>3</th>\n",
       "      <td>2021-06-07 00:00:00</td>\n",
       "      <td>1010.4</td>\n",
       "    </tr>\n",
       "    <tr>\n",
       "      <th>4</th>\n",
       "      <td>2021-06-08 00:00:00</td>\n",
       "      <td>1010.4</td>\n",
       "    </tr>\n",
       "  </tbody>\n",
       "</table>\n",
       "</div>"
      ],
      "text/plain": [
       "                  Date   Price\n",
       "0  2021-06-02 00:00:00  1010.4\n",
       "1  2021-06-03 00:00:00  1010.4\n",
       "2  2021-06-04 00:00:00  1010.4\n",
       "3  2021-06-07 00:00:00  1010.4\n",
       "4  2021-06-08 00:00:00  1010.4"
      ]
     },
     "execution_count": 13,
     "metadata": {},
     "output_type": "execute_result"
    }
   ],
   "source": [
    "actual_prices = pd.read_csv(\"data/actual.csv\")\n",
    "actual_prices.head()"
   ]
  },
  {
   "cell_type": "code",
   "execution_count": 14,
   "metadata": {},
   "outputs": [],
   "source": [
    "# Create a calendar\n",
    "nyse = mcal.get_calendar('NYSE')\n",
    "\n",
    "# set vars for product lifetime\n",
    "initial_fixing = pd.to_datetime(\"2021-06-02\")\n",
    "maturity = pd.to_datetime(\"2022-11-29\")\n",
    "lifetime = nyse.schedule(start_date=initial_fixing, end_date=maturity).index\n",
    "\n",
    "# if using cupy, move data to GPU\n",
    "asset_hist = np.asarray(assets_df.loc[\"2020-06-01\":].to_numpy())\n",
    "rates = np.asarray(rates_df.loc[\"2020-06-01\":].to_numpy()) / 100\n",
    "\n",
    "# gathered from product description\n",
    "K = np.array([103.87, 413.05, 58.26])\n",
    "Barrier = np.array([62.322, 247.830, 34.956])\n",
    "\n",
    "asset_hist = asset_hist / K\n",
    "Barrier = Barrier / K\n",
    "K = K / K\n",
    "\n",
    "m = len(lifetime)  # no of days product is active for \n",
    "T = m/252 # period in terms of no. of financial years\n",
    "dt = 1/252  # daily increment\n",
    "\n",
    "simulations = [\n",
    "    (multi_asset_GBM, None), \n",
    "    (multi_asset_GBM_av, \"av\"), \n",
    "    (multi_asset_GBM, \"emc\")\n",
    "]"
   ]
  },
  {
   "cell_type": "code",
   "execution_count": 15,
   "metadata": {},
   "outputs": [
    {
     "data": {
      "text/plain": [
       "<AxesSubplot:xlabel='Date'>"
      ]
     },
     "execution_count": 15,
     "metadata": {},
     "output_type": "execute_result"
    },
    {
     "data": {
      "image/png": "[encoded data removed]",
      "text/plain": [
       "<Figure size 640x480 with 1 Axes>"
      ]
     },
     "metadata": {},
     "output_type": "display_data"
    }
   ],
   "source": [
    "assets_df.loc[lifetime[0]:].plot()"
   ]
  },
  {
   "cell_type": "code",
   "execution_count": 16,
   "metadata": {},
   "outputs": [],
   "source": [
    "S0, Sigma = get_simulation_params(asset_hist, 5, dt)\n",
    "test_paths = n_path_sim(\n",
    "    asset_hist=asset_hist, \n",
    "    Nsim=10,\n",
    "    t=5, \n",
    "    r=0.0001,\n",
    "    dt=1/252, \n",
    "    p=3, \n",
    "    m=m, \n",
    "    sim_func=multi_asset_GBM, \n",
    "    var_reduction=\"emc\")"
   ]
  },
  {
   "cell_type": "code",
   "execution_count": 17,
   "metadata": {},
   "outputs": [
    {
     "data": {
      "text/html": [
       "<div>\n",
       "<style scoped>\n",
       "    .dataframe tbody tr th:only-of-type {\n",
       "        vertical-align: middle;\n",
       "    }\n",
       "\n",
       "    .dataframe tbody tr th {\n",
       "        vertical-align: top;\n",
       "    }\n",
       "\n",
       "    .dataframe thead th {\n",
       "        text-align: right;\n",
       "    }\n",
       "</style>\n",
       "<table border=\"1\" class=\"dataframe\">\n",
       "  <thead>\n",
       "    <tr style=\"text-align: right;\">\n",
       "      <th></th>\n",
       "      <th>Stock 1</th>\n",
       "      <th>stock 2</th>\n",
       "      <th>stock 3</th>\n",
       "    </tr>\n",
       "  </thead>\n",
       "  <tbody>\n",
       "    <tr>\n",
       "      <th>0</th>\n",
       "      <td>1.026764</td>\n",
       "      <td>0.984675</td>\n",
       "      <td>1.037762</td>\n",
       "    </tr>\n",
       "    <tr>\n",
       "      <th>1</th>\n",
       "      <td>1.040531</td>\n",
       "      <td>0.982569</td>\n",
       "      <td>1.046001</td>\n",
       "    </tr>\n",
       "    <tr>\n",
       "      <th>2</th>\n",
       "      <td>1.035814</td>\n",
       "      <td>0.987677</td>\n",
       "      <td>1.050120</td>\n",
       "    </tr>\n",
       "    <tr>\n",
       "      <th>3</th>\n",
       "      <td>1.044094</td>\n",
       "      <td>0.982060</td>\n",
       "      <td>1.054755</td>\n",
       "    </tr>\n",
       "    <tr>\n",
       "      <th>4</th>\n",
       "      <td>1.037354</td>\n",
       "      <td>0.969011</td>\n",
       "      <td>1.047889</td>\n",
       "    </tr>\n",
       "  </tbody>\n",
       "</table>\n",
       "</div>"
      ],
      "text/plain": [
       "    Stock 1   stock 2   stock 3\n",
       "0  1.026764  0.984675  1.037762\n",
       "1  1.040531  0.982569  1.046001\n",
       "2  1.035814  0.987677  1.050120\n",
       "3  1.044094  0.982060  1.054755\n",
       "4  1.037354  0.969011  1.047889"
      ]
     },
     "execution_count": 17,
     "metadata": {},
     "output_type": "execute_result"
    }
   ],
   "source": [
    "test_df = pd.DataFrame(data=test_paths[9].T, columns=[\"Stock 1\", \"stock 2\", \"stock 3\"])\n",
    "test_df.head()"
   ]
  },
  {
   "cell_type": "code",
   "execution_count": 18,
   "metadata": {},
   "outputs": [
    {
     "data": {
      "application/vnd.plotly.v1+json": {
       "config": {
        "plotlyServerURL": "https://plot.ly"
       },
       "data": [
        {
         "hovertemplate": "variable=Stock 1<br>index=%{x}<br>value=%{y}<extra></extra>",
         "legendgroup": "Stock 1",
         "line": {
          "color": "#636efa",
          "dash": "solid"
         },
         "marker": {
          "symbol": "circle"
         },
         "mode": "lines",
         "name": "Stock 1",
         "showlegend": true,
         "type": "scattergl",
         "x": [
          0,
          1,
          2,
          3,
          4,
          5,
          6,
          7,
          8,
          9,
          10,
          11,
          12,
          13,
          14,
          15,
          16,
          17,
          18,
          19,
          20,
          21,
          22,
          23,
          24,
          25,
          26,
          27,
          28,
          29,
          30,
          31,
          32,
          33,
          34,
          35,
          36,
          37,
          38,
          39,
          40,
          41,
          42,
          43,
          44,
          45,
          46,
          47,
          48,
          49,
          50,
          51,
          52,
          53,
          54,
          55,
          56,
          57,
          58,
          59,
          60,
          61,
          62,
          63,
          64,
          65,
          66,
          67,
          68,
          69,
          70,
          71,
          72,
          73,
          74,
          75,
          76,
          77,
          78,
          79,
          80,
          81,
          82,
          83,
          84,
          85,
          86,
          87,
          88,
          89,
          90,
          91,
          92,
          93,
          94,
          95,
          96,
          97,
          98,
          99,
          100,
          101,
          102,
          103,
          104,
          105,
          106,
          107,
          108,
          109,
          110,
          111,
          112,
          113,
          114,
          115,
          116,
          117,
          118,
          119,
          120,
          121,
          122,
          123,
          124,
          125,
          126,
          127,
          128,
          129,
          130,
          131,
          132,
          133,
          134,
          135,
          136,
          137,
          138,
          139,
          140,
          141,
          142,
          143,
          144,
          145,
          146,
          147,
          148,
          149,
          150,
          151,
          152,
          153,
          154,
          155,
          156,
          157,
          158,
          159,
          160,
          161,
          162,
          163,
          164,
          165,
          166,
          167,
          168,
          169,
          170,
          171,
          172,
          173,
          174,
          175,
          176,
          177,
          178,
          179,
          180,
          181,
          182,
          183,
          184,
          185,
          186,
          187,
          188,
          189,
          190,
          191,
          192,
          193,
          194,
          195,
          196,
          197,
          198,
          199,
          200,
          201,
          202,
          203,
          204,
          205,
          206,
          207,
          208,
          209,
          210,
          211,
          212,
          213,
          214,
          215,
          216,
          217,
          218,
          219,
          220,
          221,
          222,
          223,
          224,
          225,
          226,
          227,
          228,
          229,
          230,
          231,
          232,
          233,
          234,
          235,
          236,
          237,
          238,
          239,
          240,
          241,
          242,
          243,
          244,
          245,
          246,
          247,
          248,
          249,
          250,
          251,
          252,
          253,
          254,
          255,
          256,
          257,
          258,
          259,
          260,
          261,
          262,
          263,
          264,
          265,
          266,
          267,
          268,
          269,
          270,
          271,
          272,
          273,
          274,
          275,
          276,
          277,
          278,
          279,
          280,
          281,
          282,
          283,
          284,
          285,
          286,
          287,
          288,
          289,
          290,
          291,
          292,
          293,
          294,
          295,
          296,
          297,
          298,
          299,
          300,
          301,
          302,
          303,
          304,
          305,
          306,
          307,
          308,
          309,
          310,
          311,
          312,
          313,
          314,
          315,
          316,
          317,
          318,
          319,
          320,
          321,
          322,
          323,
          324,
          325,
          326,
          327,
          328,
          329,
          330,
          331,
          332,
          333,
          334,
          335,
          336,
          337,
          338,
          339,
          340,
          341,
          342,
          343,
          344,
          345,
          346,
          347,
          348,
          349,
          350,
          351,
          352,
          353,
          354,
          355,
          356,
          357,
          358,
          359,
          360,
          361,
          362,
          363,
          364,
          365,
          366,
          367,
          368,
          369,
          370,
          371,
          372,
          373,
          374,
          375,
          376,
          377
         ],
         "xaxis": "x",
         "y": [
          1.0267642437662463,
          1.0405314527775102,
          1.035813959757389,
          1.0440935496293442,
          1.037354385289304,
          1.037354385289304,
          0.9956453053844814,
          0.979712981894426,
          0.9948319424832996,
          1.015794631477772,
          0.9973877557141523,
          1.0062270964529303,
          1.036273653750813,
          1.0379050191514678,
          1.035563749754881,
          1.037190368741864,
          1.059173904398517,
          1.0641095291349871,
          1.0402420265246433,
          1.0362056436462157,
          1.061426350660994,
          1.0322191782122725,
          1.0227761171308556,
          1.009967925501908,
          1.01824403049519,
          1.035459018321067,
          1.0590684703182769,
          1.0516891237384145,
          1.0331665237374172,
          1.0600522967352766,
          1.086302979903558,
          1.078036761069702,
          1.0318014568734715,
          1.034162328190403,
          1.0189051774323785,
          1.0061673133915097,
          1.020408599031271,
          1.0252569528663018,
          1.0214107117184326,
          0.986126499359447,
          0.988811827013746,
          1.0105377545968621,
          1.0014475479885028,
          0.9822029063295856,
          0.9992934224792615,
          1.0175528422191997,
          1.037831440982355,
          1.0474945190295253,
          1.0164233771317073,
          1.0594160886170758,
          1.076208370584901,
          1.1033653410968607,
          1.0881371139020075,
          1.0992311746016354,
          1.1134088482072422,
          1.130509366619865,
          1.1081686530537869,
          1.1279937638927195,
          1.1562771266736263,
          1.1788607541986451,
          1.1329839350247033,
          1.1084123293726986,
          1.079110295402494,
          1.0929341669756214,
          1.0624867375753968,
          1.0893706238829064,
          1.1257400477486177,
          1.110543381347737,
          1.1270872953320024,
          1.1414694231208897,
          1.185244606935851,
          1.1946073414665557,
          1.1826977750697891,
          1.1456016999035046,
          1.143878741775611,
          1.1671948941099453,
          1.168703316957107,
          1.2035221219480656,
          1.1588899002543955,
          1.187749959635871,
          1.1930987365006684,
          1.2472746447298806,
          1.2320267331458126,
          1.187465581866636,
          1.1999788905131932,
          1.2457609187027001,
          1.2243741529964347,
          1.2036870177947891,
          1.2375884224693543,
          1.2652521431281392,
          1.201918278910387,
          1.2159076989049986,
          1.2171750399006895,
          1.2597415826362393,
          1.2427058353292326,
          1.2501145262350892,
          1.2456772546346122,
          1.1945580018967368,
          1.239895848407149,
          1.2299705514528814,
          1.223801844887279,
          1.2083201337572316,
          1.1568261521372325,
          1.1725713621481864,
          1.1758763130939278,
          1.1436183844205654,
          1.1649469821851342,
          1.1169301655951063,
          1.1080567621014232,
          1.1057716010993592,
          1.1100810695811454,
          1.0898154551702195,
          1.0636725513942933,
          1.043520476639504,
          1.0274328901716772,
          1.0002822246489331,
          0.9747226241516959,
          1.0242355464631139,
          1.038030512353392,
          1.0482661106068922,
          1.0488275834886318,
          1.02849869901518,
          1.0288908527119038,
          1.0172606457535776,
          1.0164651389534423,
          1.0029474724714984,
          0.9676586738655938,
          0.9411670814151961,
          0.9649822057563816,
          0.9989034280214634,
          0.9753313522907381,
          0.9742090519806004,
          0.9740964244763821,
          0.9833084184746765,
          0.9949156485460529,
          0.9903921596941583,
          0.9713971334388,
          0.9696526336768848,
          0.9556513683019014,
          0.9836200942226297,
          0.9745647858583887,
          0.9688280771005475,
          0.9750373697402626,
          0.9926041202855196,
          0.971923890704502,
          0.9772818176010835,
          0.981748423716708,
          0.9908924309649786,
          0.9549146529491929,
          0.9704717199427209,
          0.9490404335398313,
          0.9779280401614897,
          0.9804560035554402,
          0.9926662218519544,
          1.0202426981418131,
          1.0178722268679887,
          0.9983055351893246,
          1.000279010752487,
          1.0004761996457348,
          1.0001493322037194,
          0.9844764139540647,
          1.0032781765640348,
          0.9738863048245808,
          0.9779979252834219,
          0.9894128426290586,
          1.0056151018999466,
          0.9669724000441134,
          0.9819802531660597,
          1.0028582499467458,
          0.996065304779444,
          0.994121523145682,
          0.9888831723023573,
          0.9675691416088293,
          0.9475101297501087,
          0.951856752297029,
          0.9215770779321675,
          0.9346518424000912,
          0.9072015830842386,
          0.9139731266665452,
          0.9400565746414355,
          0.9314681780851912,
          0.9496958433071664,
          0.9572352339032731,
          0.961967333161525,
          0.9470242413891913,
          0.9365761435339826,
          0.9388816791623753,
          0.9372912374919271,
          0.9542208276767558,
          0.9327529117219266,
          0.9101183157966232,
          0.9423947507125199,
          0.952815473650467,
          0.9289338186982089,
          0.9374537654955983,
          0.9713813331342404,
          0.9881696114072505,
          0.9940747952393171,
          0.9857027707064556,
          0.9659700731300472,
          0.9487340128438333,
          0.890896061368769,
          0.900490161790819,
          0.9035249571065818,
          0.8779009908858184,
          0.8456209207697148,
          0.8610835702223076,
          0.8738911803936811,
          0.8491911382864743,
          0.8510103587156247,
          0.8354286836972215,
          0.8528213345394076,
          0.868382061621949,
          0.89314439233109,
          0.9192402964694462,
          0.9137142935929472,
          0.8892193355618228,
          0.9084377757107082,
          0.8956555541083321,
          0.8890619485427966,
          0.897950737822294,
          0.9157901002377076,
          0.9284449211651855,
          0.9350464664533555,
          0.9436672395906008,
          0.9611483525492254,
          0.9634380092795591,
          0.952471846099061,
          0.9584428872764926,
          0.9908060891332449,
          0.9909562888590521,
          1.0070227176327915,
          0.9899905066618274,
          1.014259896883692,
          1.0059701508183385,
          0.99668443520262,
          0.9901898140337483,
          0.9636115134182938,
          0.9375087080395538,
          0.9439295774062263,
          0.9294899872516211,
          0.9543416656178435,
          0.9672835505860454,
          0.929688074171953,
          0.9119671964043308,
          0.9296176441742188,
          0.9338569344954729,
          0.9356782027576734,
          0.9418418946482083,
          0.9433168021025399,
          0.9449185631524237,
          0.9122268617764133,
          0.893318882705561,
          0.8632391410596714,
          0.8800264652706102,
          0.8853220316953742,
          0.8745466771827148,
          0.8794442208556377,
          0.8638307264524219,
          0.8384396794666291,
          0.8160269223902985,
          0.7981603933717142,
          0.788335116541266,
          0.7755005850016397,
          0.7546639407722083,
          0.7261471391099904,
          0.7099935790071666,
          0.7047642089226162,
          0.7118024657530199,
          0.7049782655067058,
          0.7132914443211812,
          0.7151264690933308,
          0.7090481776255637,
          0.7047086992614293,
          0.7274460960737006,
          0.7212359041846769,
          0.731844165332362,
          0.7062207514029833,
          0.7204602591523993,
          0.7233342045702741,
          0.7281284826027629,
          0.7143058978029031,
          0.6838096465290976,
          0.6682322236918686,
          0.6799056619642857,
          0.6863120778620653,
          0.6928062765533785,
          0.7047326235697944,
          0.7207395523919756,
          0.7348846828451815,
          0.7591888179230594,
          0.7476055735409902,
          0.7460975641455477,
          0.7755738571027031,
          0.7747295047271442,
          0.7839800335000661,
          0.7537339543059618,
          0.7772131874174877,
          0.7593122382935531,
          0.7617211824821194,
          0.7469006460867259,
          0.7561616810191304,
          0.7252383069459405,
          0.7339157878178183,
          0.754147563065033,
          0.7437315255871549,
          0.7229645494126344,
          0.7191041202366085,
          0.708470832235035,
          0.720010958786512,
          0.7165031137636279,
          0.7216481663331534,
          0.7107954815873198,
          0.7282621555307169,
          0.7432427147358184,
          0.7533747389601304,
          0.7754794658163011,
          0.771982667118565,
          0.7684502124680725,
          0.8034763854462914,
          0.8152872998947699,
          0.8129124912561784,
          0.8037963365940084,
          0.8148782887144025,
          0.8303632802159098,
          0.7777737648989118,
          0.7941792613311225,
          0.7988898061759431,
          0.7839942964764449,
          0.8095150898319755,
          0.8428956996520315,
          0.8495324400764902,
          0.8590555623464435,
          0.8587066783405087,
          0.85121013060018,
          0.8151616715816363,
          0.8184910060656558,
          0.8286426879445292,
          0.8144313758651515,
          0.8451424058775399,
          0.8540039144391227,
          0.8578522999920849,
          0.85851162528702,
          0.8720960115066654,
          0.8790937133632205,
          0.8830125158104293,
          0.861254811872276,
          0.896119895144686,
          0.8925543961059121,
          0.879795292503279,
          0.8901522745510809,
          0.8826744345310953,
          0.8721969843774295,
          0.8643411284387356,
          0.8739968531979215,
          0.8525288761906534,
          0.84262889389803,
          0.8237091009884677,
          0.8481763926027752,
          0.835355695739667,
          0.8297405904846263,
          0.8575060423613914,
          0.8608931630983411,
          0.862133925554762,
          0.8464414184474283,
          0.8517314180011861,
          0.8687321995105044,
          0.8780820598543805,
          0.8171651443583721,
          0.8301648580442397,
          0.8482612864168416,
          0.8155429486496764,
          0.8196189197882985,
          0.8339791084820123,
          0.8335503346533083,
          0.8330756861476346,
          0.8313413394434526,
          0.833161256231275
         ],
         "yaxis": "y"
        },
        {
         "hovertemplate": "variable=stock 2<br>index=%{x}<br>value=%{y}<extra></extra>",
         "legendgroup": "stock 2",
         "line": {
          "color": "#EF553B",
          "dash": "solid"
         },
         "marker": {
          "symbol": "circle"
         },
         "mode": "lines",
         "name": "stock 2",
         "showlegend": true,
         "type": "scattergl",
         "x": [
          0,
          1,
          2,
          3,
          4,
          5,
          6,
          7,
          8,
          9,
          10,
          11,
          12,
          13,
          14,
          15,
          16,
          17,
          18,
          19,
          20,
          21,
          22,
          23,
          24,
          25,
          26,
          27,
          28,
          29,
          30,
          31,
          32,
          33,
          34,
          35,
          36,
          37,
          38,
          39,
          40,
          41,
          42,
          43,
          44,
          45,
          46,
          47,
          48,
          49,
          50,
          51,
          52,
          53,
          54,
          55,
          56,
          57,
          58,
          59,
          60,
          61,
          62,
          63,
          64,
          65,
          66,
          67,
          68,
          69,
          70,
          71,
          72,
          73,
          74,
          75,
          76,
          77,
          78,
          79,
          80,
          81,
          82,
          83,
          84,
          85,
          86,
          87,
          88,
          89,
          90,
          91,
          92,
          93,
          94,
          95,
          96,
          97,
          98,
          99,
          100,
          101,
          102,
          103,
          104,
          105,
          106,
          107,
          108,
          109,
          110,
          111,
          112,
          113,
          114,
          115,
          116,
          117,
          118,
          119,
          120,
          121,
          122,
          123,
          124,
          125,
          126,
          127,
          128,
          129,
          130,
          131,
          132,
          133,
          134,
          135,
          136,
          137,
          138,
          139,
          140,
          141,
          142,
          143,
          144,
          145,
          146,
          147,
          148,
          149,
          150,
          151,
          152,
          153,
          154,
          155,
          156,
          157,
          158,
          159,
          160,
          161,
          162,
          163,
          164,
          165,
          166,
          167,
          168,
          169,
          170,
          171,
          172,
          173,
          174,
          175,
          176,
          177,
          178,
          179,
          180,
          181,
          182,
          183,
          184,
          185,
          186,
          187,
          188,
          189,
          190,
          191,
          192,
          193,
          194,
          195,
          196,
          197,
          198,
          199,
          200,
          201,
          202,
          203,
          204,
          205,
          206,
          207,
          208,
          209,
          210,
          211,
          212,
          213,
          214,
          215,
          216,
          217,
          218,
          219,
          220,
          221,
          222,
          223,
          224,
          225,
          226,
          227,
          228,
          229,
          230,
          231,
          232,
          233,
          234,
          235,
          236,
          237,
          238,
          239,
          240,
          241,
          242,
          243,
          244,
          245,
          246,
          247,
          248,
          249,
          250,
          251,
          252,
          253,
          254,
          255,
          256,
          257,
          258,
          259,
          260,
          261,
          262,
          263,
          264,
          265,
          266,
          267,
          268,
          269,
          270,
          271,
          272,
          273,
          274,
          275,
          276,
          277,
          278,
          279,
          280,
          281,
          282,
          283,
          284,
          285,
          286,
          287,
          288,
          289,
          290,
          291,
          292,
          293,
          294,
          295,
          296,
          297,
          298,
          299,
          300,
          301,
          302,
          303,
          304,
          305,
          306,
          307,
          308,
          309,
          310,
          311,
          312,
          313,
          314,
          315,
          316,
          317,
          318,
          319,
          320,
          321,
          322,
          323,
          324,
          325,
          326,
          327,
          328,
          329,
          330,
          331,
          332,
          333,
          334,
          335,
          336,
          337,
          338,
          339,
          340,
          341,
          342,
          343,
          344,
          345,
          346,
          347,
          348,
          349,
          350,
          351,
          352,
          353,
          354,
          355,
          356,
          357,
          358,
          359,
          360,
          361,
          362,
          363,
          364,
          365,
          366,
          367,
          368,
          369,
          370,
          371,
          372,
          373,
          374,
          375,
          376,
          377
         ],
         "xaxis": "x",
         "y": [
          0.9846749812371384,
          0.9825687108098293,
          0.9876770148892385,
          0.9820603195739015,
          0.9690110156155429,
          0.9690110156155429,
          0.9662860593544302,
          0.9429076519398092,
          0.9539105937831162,
          0.9457765701067818,
          0.9337804187821199,
          0.9220645199730826,
          0.9405910787314009,
          0.9391186590043958,
          0.9427493620572878,
          0.9366808891432507,
          0.9501728082893874,
          0.9578093483401162,
          0.9213693481499268,
          0.9531745082428749,
          0.9591853949145985,
          0.9749181271411501,
          0.9549121494203763,
          0.9626864230646176,
          0.968705044365212,
          0.9711196470961738,
          0.9919342553226549,
          0.9923465695515552,
          0.9657764827623748,
          0.9851461246652299,
          1.0103458750519059,
          1.0043345336336749,
          0.9843463865536141,
          0.9936613346130799,
          0.9994082076438512,
          1.0128843773103597,
          1.0234454755311664,
          1.0397048587658915,
          1.035721921589517,
          1.019234428403078,
          1.0155473813732572,
          1.0188244155538058,
          1.026103282860642,
          1.0157109301243712,
          0.9981353557621918,
          0.9959047959587327,
          1.0041903552065496,
          1.027270589778597,
          1.0120773844605067,
          1.021285908089747,
          1.0150021884649547,
          1.0181380949362246,
          1.0252450728365987,
          1.0184581063511642,
          1.021605948145975,
          1.0279927277567145,
          1.0274748231275137,
          1.0232259358988394,
          1.043418706740499,
          1.0512401020366708,
          1.0354311729164616,
          1.0188950212552301,
          0.9954137224266475,
          0.9971536918418349,
          0.9989590159656493,
          1.0024598787680645,
          1.0082624309628476,
          1.0150599659402109,
          1.0290953529122384,
          1.0312446636032153,
          1.0629630177374687,
          1.0603557664094532,
          1.0569249724674044,
          1.0453277265131855,
          1.0317420486994575,
          1.0403714236064092,
          1.0459200627454708,
          1.0600170631687973,
          1.0814154965464533,
          1.1025695557031414,
          1.1017191299613134,
          1.1101629249026237,
          1.0915331515749718,
          1.0918259667545658,
          1.0833392957109609,
          1.1116384985274244,
          1.0903047010679416,
          1.0807699941930562,
          1.1047272963963342,
          1.1260282257473342,
          1.1448985549569628,
          1.1318990112241034,
          1.1319211301482264,
          1.13205094294089,
          1.1239586363105478,
          1.1012783646875905,
          1.0693769856811361,
          1.0487155351046682,
          1.0403224754754472,
          1.0572684746912913,
          1.030987330266565,
          1.0150720437375875,
          1.009661488868882,
          1.038698506113469,
          1.030556976972155,
          1.0073548093813116,
          1.0130419162278028,
          1.0053784852739642,
          1.0133167126938383,
          0.988810634594916,
          1.0136945752269304,
          1.0161412867752506,
          1.0184693735545516,
          1.012120145235842,
          1.0074900439789334,
          0.9772592169477765,
          0.9616341650157124,
          1.000552841384398,
          0.9854476664421417,
          0.9972489330886869,
          1.0048523477674585,
          1.0145937459481995,
          1.0232081603132452,
          1.0239039180521956,
          1.0283139859818635,
          1.041472062184204,
          1.0393219588587477,
          1.021110856167938,
          1.0169749863837452,
          1.047592869282483,
          1.0624958825725015,
          1.0703423778329448,
          1.0712254005200963,
          1.060365087368321,
          1.03345474717965,
          1.0279846492351765,
          1.002741697286864,
          1.016039688144343,
          1.0500111862879515,
          1.0492399698632058,
          1.0734661658161322,
          1.07837581460458,
          1.083429504913069,
          1.0764771406634461,
          1.0766688871102281,
          1.0643641486072304,
          1.041137292392044,
          1.0309956798688078,
          1.0288682909398705,
          1.044901121825126,
          1.0586003041602146,
          1.0747180841553243,
          1.0802411671312468,
          1.0934927495363236,
          1.0916408018985515,
          1.095196456367678,
          1.0591232507542867,
          1.0769827266909227,
          1.090526562693508,
          1.077871300230328,
          1.0689534233890547,
          1.0881187226894398,
          1.0764594502788492,
          1.0609503967389078,
          1.052413946451246,
          1.031866565769667,
          1.0186733467257376,
          1.0368902671665614,
          1.0530074091287016,
          1.0416993937336374,
          1.046306858278876,
          1.032811897890941,
          1.0428610451182911,
          1.0381082774362582,
          1.0226195145726082,
          1.015165026316199,
          1.0115968175055274,
          1.0226043186408649,
          1.005174877348269,
          1.0280609420063214,
          1.0500698028346085,
          1.0643556844305484,
          1.0436464791816071,
          1.0635866591274286,
          1.0644506770530542,
          1.0693585192081065,
          1.057873927075923,
          1.0600973685873527,
          1.082381312835845,
          1.062017496985605,
          1.0658998465371352,
          1.0517018413133146,
          1.080855218991967,
          1.0510188435732353,
          1.0474296343050982,
          1.061531330585037,
          1.0778145638762462,
          1.097447663872532,
          1.096820319572933,
          1.1090023657378385,
          1.0988564287800913,
          1.0766050173182595,
          1.0568412315571671,
          1.051101012961349,
          1.0502655652892423,
          1.0281745362827734,
          1.0482774225723503,
          1.0433329022751556,
          1.0360459139422573,
          1.0235590716535592,
          1.0061977159178523,
          1.0060227909775605,
          1.0228926742135336,
          1.0227560609174216,
          1.0337973336340545,
          1.0305334853736132,
          1.0192021358729542,
          1.025778228148786,
          1.0223820352372708,
          1.0096609718284209,
          0.9908996976368957,
          0.9947937366923283,
          1.0145836583212657,
          1.0077639254580555,
          1.0184007056664384,
          1.0158634494381054,
          1.0025907102956684,
          0.9947461920201672,
          0.9846944236300139,
          0.992665085983405,
          0.9645636748544981,
          0.9879519774713623,
          0.9872497866959882,
          0.9918677917914454,
          0.9768263920863116,
          0.9733455318833439,
          0.9863186395522764,
          0.9791524239862505,
          0.9791801319473492,
          0.988864352406713,
          0.9840550685718089,
          1.0024804617154863,
          1.0192549819669017,
          1.0180421298688689,
          0.9958372262538705,
          0.9922862364069457,
          1.0145714312561316,
          1.0178828404471874,
          0.9978716227025878,
          1.0085315699540993,
          0.9878015913790056,
          0.9776321705369797,
          0.9649585140242868,
          0.9686662684546452,
          0.9708875132154084,
          0.979957827507123,
          0.9809159081500425,
          0.9977259765136907,
          0.9926151783944526,
          0.9696960563751318,
          0.9774046247503653,
          0.9813438638672384,
          0.9813084889701738,
          0.9548694178365653,
          0.9408405916491244,
          0.9295890596962718,
          0.9382680033395407,
          0.9258802754024524,
          0.9136706983836365,
          0.9362491612464711,
          0.9316455555137261,
          0.9368793316195257,
          0.9188506947442792,
          0.9099838644045448,
          0.9288207497449344,
          0.9236223231074168,
          0.9220587334466351,
          0.9177658501545501,
          0.9231131920150474,
          0.9218040934198534,
          0.9137688227869519,
          0.8806753133783117,
          0.8717629306016752,
          0.871459194869474,
          0.8805754086892762,
          0.8932330798147946,
          0.9214353893970778,
          0.9160336899442053,
          0.930860279178759,
          0.9387994784100131,
          0.9530324381668337,
          0.9486626266641284,
          0.9332714446929685,
          0.9256581937968222,
          0.918799799000684,
          0.9305699051978947,
          0.9258602455399302,
          0.9216271930970587,
          0.9222917222322249,
          0.912985048542831,
          0.906612010036861,
          0.9249376488385221,
          0.9153773435871294,
          0.9029925109892842,
          0.9034285203746305,
          0.8943231618646805,
          0.8788426664408943,
          0.889049939157422,
          0.893033146964746,
          0.9111224267474892,
          0.9326179178855276,
          0.9439847010955362,
          0.9393388552582774,
          0.952624215038499,
          0.9553895823705852,
          0.9442993098524115,
          0.9451458764961773,
          0.9295326562531949,
          0.925770762851365,
          0.9243308612567335,
          0.9111175582868776,
          0.9029829678590288,
          0.8878387870365614,
          0.8665089153887897,
          0.8735217863305362,
          0.8663763656598286,
          0.8863589705411196,
          0.8987627678588163,
          0.8897478813980407,
          0.9165591161984351,
          0.939774431180924,
          0.9371961820465725,
          0.9223952603516008,
          0.9251514718420991,
          0.9136225288572256,
          0.8946127048284795,
          0.8904038303939046,
          0.9079507025549799,
          0.9306654583587867,
          0.9272856321706489,
          0.9102910991991171,
          0.9119676822425786,
          0.9159583897567306,
          0.9024226763925974,
          0.8871540016688714,
          0.8859862364069157,
          0.884265367198399,
          0.9069999297875847,
          0.9106681451536688,
          0.8958971914573639,
          0.9024003386606239,
          0.9248431709625041,
          0.9208874976891622,
          0.9367376684942287,
          0.9156762092400487,
          0.9234351534510128,
          0.8929851805773334,
          0.8928556413346639,
          0.9086096274143869,
          0.8950459422083314,
          0.8426707955263498,
          0.861084556512073,
          0.8549694272047722,
          0.8691880584472098,
          0.8594798533042496,
          0.8514152795727113,
          0.8734562554097035,
          0.8863558545359855,
          0.8909015654281381,
          0.8890557488101107,
          0.8982213626616459,
          0.8889534037296104,
          0.8851844880872768,
          0.880314224845288,
          0.8859754827097059,
          0.8763555888524674,
          0.863774196552076,
          0.867184333425543
         ],
         "yaxis": "y"
        },
        {
         "hovertemplate": "variable=stock 3<br>index=%{x}<br>value=%{y}<extra></extra>",
         "legendgroup": "stock 3",
         "line": {
          "color": "#00cc96",
          "dash": "solid"
         },
         "marker": {
          "symbol": "circle"
         },
         "mode": "lines",
         "name": "stock 3",
         "showlegend": true,
         "type": "scattergl",
         "x": [
          0,
          1,
          2,
          3,
          4,
          5,
          6,
          7,
          8,
          9,
          10,
          11,
          12,
          13,
          14,
          15,
          16,
          17,
          18,
          19,
          20,
          21,
          22,
          23,
          24,
          25,
          26,
          27,
          28,
          29,
          30,
          31,
          32,
          33,
          34,
          35,
          36,
          37,
          38,
          39,
          40,
          41,
          42,
          43,
          44,
          45,
          46,
          47,
          48,
          49,
          50,
          51,
          52,
          53,
          54,
          55,
          56,
          57,
          58,
          59,
          60,
          61,
          62,
          63,
          64,
          65,
          66,
          67,
          68,
          69,
          70,
          71,
          72,
          73,
          74,
          75,
          76,
          77,
          78,
          79,
          80,
          81,
          82,
          83,
          84,
          85,
          86,
          87,
          88,
          89,
          90,
          91,
          92,
          93,
          94,
          95,
          96,
          97,
          98,
          99,
          100,
          101,
          102,
          103,
          104,
          105,
          106,
          107,
          108,
          109,
          110,
          111,
          112,
          113,
          114,
          115,
          116,
          117,
          118,
          119,
          120,
          121,
          122,
          123,
          124,
          125,
          126,
          127,
          128,
          129,
          130,
          131,
          132,
          133,
          134,
          135,
          136,
          137,
          138,
          139,
          140,
          141,
          142,
          143,
          144,
          145,
          146,
          147,
          148,
          149,
          150,
          151,
          152,
          153,
          154,
          155,
          156,
          157,
          158,
          159,
          160,
          161,
          162,
          163,
          164,
          165,
          166,
          167,
          168,
          169,
          170,
          171,
          172,
          173,
          174,
          175,
          176,
          177,
          178,
          179,
          180,
          181,
          182,
          183,
          184,
          185,
          186,
          187,
          188,
          189,
          190,
          191,
          192,
          193,
          194,
          195,
          196,
          197,
          198,
          199,
          200,
          201,
          202,
          203,
          204,
          205,
          206,
          207,
          208,
          209,
          210,
          211,
          212,
          213,
          214,
          215,
          216,
          217,
          218,
          219,
          220,
          221,
          222,
          223,
          224,
          225,
          226,
          227,
          228,
          229,
          230,
          231,
          232,
          233,
          234,
          235,
          236,
          237,
          238,
          239,
          240,
          241,
          242,
          243,
          244,
          245,
          246,
          247,
          248,
          249,
          250,
          251,
          252,
          253,
          254,
          255,
          256,
          257,
          258,
          259,
          260,
          261,
          262,
          263,
          264,
          265,
          266,
          267,
          268,
          269,
          270,
          271,
          272,
          273,
          274,
          275,
          276,
          277,
          278,
          279,
          280,
          281,
          282,
          283,
          284,
          285,
          286,
          287,
          288,
          289,
          290,
          291,
          292,
          293,
          294,
          295,
          296,
          297,
          298,
          299,
          300,
          301,
          302,
          303,
          304,
          305,
          306,
          307,
          308,
          309,
          310,
          311,
          312,
          313,
          314,
          315,
          316,
          317,
          318,
          319,
          320,
          321,
          322,
          323,
          324,
          325,
          326,
          327,
          328,
          329,
          330,
          331,
          332,
          333,
          334,
          335,
          336,
          337,
          338,
          339,
          340,
          341,
          342,
          343,
          344,
          345,
          346,
          347,
          348,
          349,
          350,
          351,
          352,
          353,
          354,
          355,
          356,
          357,
          358,
          359,
          360,
          361,
          362,
          363,
          364,
          365,
          366,
          367,
          368,
          369,
          370,
          371,
          372,
          373,
          374,
          375,
          376,
          377
         ],
         "xaxis": "x",
         "y": [
          1.0377617404737385,
          1.0460006694129764,
          1.0501201510470306,
          1.0547545657397872,
          1.047888757294885,
          1.047888757294885,
          1.0046812381959047,
          0.9732708934080228,
          0.9878671712732509,
          1.0132291044224644,
          0.9963037769666638,
          1.0046249503280726,
          1.0296106500857987,
          1.0251705601130354,
          1.0281325752049955,
          1.0370227063989301,
          1.064657544408106,
          1.0957607951863553,
          1.0828734304925558,
          1.066530640695042,
          1.0650273526412863,
          1.0479865079320818,
          1.0479645578566177,
          1.0387311789535685,
          1.046770914581216,
          1.0730769955131658,
          1.1157728213448528,
          1.0965588103701434,
          1.0875080574845997,
          1.1241567491415327,
          1.1507252975537794,
          1.144644415153183,
          1.0990448467275058,
          1.1008282163471528,
          1.0952862507337409,
          1.0643730043495676,
          1.0907956863126187,
          1.1179999277097805,
          1.1243773339192467,
          1.0951761441629628,
          1.1053791125295336,
          1.132392046627845,
          1.1209396761753723,
          1.0951118894282568,
          1.1078767675560832,
          1.1285934548206495,
          1.1526393646989292,
          1.1608971701388553,
          1.1278374314931194,
          1.1773766920806885,
          1.1633639989589708,
          1.2051943031715433,
          1.1708585929791708,
          1.1781471117629254,
          1.1950336481552217,
          1.2155797696206627,
          1.2043967926046557,
          1.2183388764153087,
          1.257438153601172,
          1.279104860440109,
          1.2431510701778086,
          1.2160387963224388,
          1.197194098142885,
          1.1981166499821256,
          1.1534532327859668,
          1.197116874768496,
          1.2674894110858308,
          1.2555284910252453,
          1.2650212267523497,
          1.2863469209793152,
          1.3305291812940252,
          1.3389258429555209,
          1.333062571160667,
          1.263992094695063,
          1.2668624712881993,
          1.2835807402907582,
          1.2651728680815741,
          1.3045197324722384,
          1.2468463766312603,
          1.2770246207260068,
          1.2766123544192023,
          1.3549377175569108,
          1.3298927770253877,
          1.27175682390485,
          1.2845688395489798,
          1.329193115103153,
          1.3026240228418389,
          1.271316094255517,
          1.3129831806926955,
          1.3491116337528553,
          1.2789464094835161,
          1.2805891284238144,
          1.2847220359394003,
          1.356266056379215,
          1.3387405660885683,
          1.3305226190845156,
          1.3453187500341814,
          1.2987266528073607,
          1.3450387836377857,
          1.3649349837025706,
          1.3825067436220482,
          1.3559474829148381,
          1.3082142039036888,
          1.3184384198952943,
          1.3180930004482783,
          1.30640063515377,
          1.3108576440158908,
          1.2615708373656094,
          1.2404001967670157,
          1.2352392856068954,
          1.2379847591393374,
          1.2307028402750446,
          1.2161028694529161,
          1.2041268917850392,
          1.1834159413218406,
          1.1505350220479797,
          1.1407506815484472,
          1.1787644995740822,
          1.1906790251580328,
          1.2006098859979404,
          1.2067695235589073,
          1.1940299408129824,
          1.1958667187368337,
          1.1668678831161652,
          1.165961572442934,
          1.160669106390206,
          1.0999598437717073,
          1.065227060454637,
          1.089772522175082,
          1.1342131887248168,
          1.1134668897378939,
          1.1128521352603702,
          1.1244533512136754,
          1.1410200281895957,
          1.1584909377971082,
          1.1481895826344017,
          1.1275431934927536,
          1.1325958230872246,
          1.1070119393187228,
          1.1364154472279862,
          1.1139161092237655,
          1.0853788446128667,
          1.0731468176084693,
          1.087783001833832,
          1.06777187370474,
          1.0751573836639012,
          1.069977384513358,
          1.0901562046334523,
          1.0432351147325374,
          1.0532386167048067,
          1.0363205363681929,
          1.0788690620152055,
          1.0710089362488104,
          1.076507258732725,
          1.0867540569706837,
          1.07003608545837,
          1.0445717348961494,
          1.055330982754778,
          1.0522103227640338,
          1.0460257286326746,
          1.0388274109152078,
          1.0483467530689652,
          1.0275014061217118,
          1.0284985549485783,
          1.0482984792764343,
          1.063734518761672,
          1.0159334074714292,
          1.0321422977002963,
          1.0626321868751167,
          1.065812057164029,
          1.0442165157977448,
          1.0242804611422247,
          1.0054441494350728,
          0.988906949078784,
          1.0012555970248838,
          0.9643683264320502,
          0.9921788941747742,
          0.9480892009248466,
          0.956892741111998,
          0.9774496046561729,
          0.9810887553953535,
          0.9953734699160678,
          0.988504318475255,
          0.9904907188745875,
          0.9916706624033238,
          0.9770618509049485,
          0.9778000359197974,
          0.9829694815345187,
          1.0053145207403973,
          0.9667937155219125,
          0.9627874224732513,
          0.9985004078254889,
          1.0121734175312267,
          1.0016741442649335,
          1.0174966792651445,
          1.051399529904569,
          1.0523842390015719,
          1.0630743121744637,
          1.0714072237637846,
          1.051674016148377,
          1.0386383228940452,
          0.9572711924426044,
          0.9556931474159586,
          0.9616180906716658,
          0.918867093792357,
          0.8969826002319832,
          0.902802721736949,
          0.9108085954132025,
          0.8825215586931529,
          0.8785382372151224,
          0.8585081486396536,
          0.8881656476911295,
          0.9021535403046865,
          0.9392175198387446,
          0.9642724239107031,
          0.9620330418414341,
          0.9433510563309715,
          0.9698076380446317,
          0.9547196348047854,
          0.9387384396494842,
          0.9388831932123372,
          0.9609029703827765,
          0.9896671772971223,
          0.9706605135875145,
          0.975266675887745,
          0.9854086862297348,
          0.9999788928983773,
          0.993395165585248,
          1.009802335086754,
          1.0286425516121505,
          1.0265286297794334,
          1.0451126161258981,
          1.0253867015785485,
          1.0454096593234756,
          1.0499644381156374,
          1.047481862449599,
          1.0446653741377747,
          1.0170950838430193,
          0.9935237172886325,
          1.0091139046429296,
          0.9980505002503335,
          1.0080945601504645,
          1.0025570820933565,
          0.9624836397571449,
          0.9520854624261302,
          0.9775074079776891,
          0.979346815280726,
          0.9847983023954691,
          0.9822570050950281,
          0.9973299775685281,
          1.0101225598126982,
          0.956664781944775,
          0.9303861968162701,
          0.9008876386077187,
          0.9303527183264987,
          0.9481413091514715,
          0.9305847874423279,
          0.9277871963279538,
          0.9215993992335259,
          0.8858218522784621,
          0.8540533062962256,
          0.8392576628646664,
          0.8301080883567268,
          0.8139824969705146,
          0.7930712705385206,
          0.7682631184834181,
          0.7442818323382726,
          0.7447938782259718,
          0.7457294507702769,
          0.7248954720856732,
          0.725779637836699,
          0.7312790898035731,
          0.7306576012691751,
          0.7175067427005795,
          0.743365649261696,
          0.7326860692112737,
          0.7542779059954744,
          0.7304915774766519,
          0.7396813480447421,
          0.7629233478906458,
          0.7667213795853243,
          0.7605285109551086,
          0.7426175888795392,
          0.7146562772332483,
          0.741853469964947,
          0.7535926004550884,
          0.7567683024262177,
          0.7639267893655576,
          0.7736277678555253,
          0.7807294469280265,
          0.8085902138094934,
          0.8068393741606005,
          0.7991143964017652,
          0.836881538558086,
          0.8309846328316242,
          0.8443502607850821,
          0.8154053498015176,
          0.8356083832369209,
          0.8197262910380542,
          0.8184873195056961,
          0.8050096139292907,
          0.8039334518052413,
          0.7660235391707877,
          0.779115175856704,
          0.8118290796420082,
          0.8105678635482298,
          0.7844873190787702,
          0.7819074098161073,
          0.7711972902491795,
          0.7825978731607041,
          0.775000817481361,
          0.7711997963435179,
          0.7621527869940214,
          0.7855577986410222,
          0.8179868579072349,
          0.8289681037368001,
          0.8525115009715964,
          0.842435228484763,
          0.8374656163013076,
          0.8769732752051357,
          0.8933341391839149,
          0.89733364347684,
          0.8796445066657859,
          0.9056894010415892,
          0.9184211957461165,
          0.8661909981189161,
          0.8689415317576077,
          0.8745646960749605,
          0.8637575668869245,
          0.9037260422988104,
          0.9339028758081018,
          0.9473971860415963,
          0.9513239164424067,
          0.9481224098815362,
          0.9528595361279473,
          0.9160682622003361,
          0.9062635676062215,
          0.9286152975722979,
          0.9076555567396982,
          0.9457133888352826,
          0.9488506528592177,
          0.9427319682249272,
          0.9420408840480258,
          0.9413182078821121,
          0.9433749435058859,
          0.9246656457255562,
          0.8937566250217113,
          0.9438882975632179,
          0.9468475838356416,
          0.9313774362725501,
          0.925490272438713,
          0.9075019619663615,
          0.9052748881169391,
          0.897482849600173,
          0.9146609622038261,
          0.8833873704740504,
          0.8810401964518136,
          0.8712032238186652,
          0.8890832613087108,
          0.87869323633989,
          0.8696457957996347,
          0.9054916547931839,
          0.912731412470446,
          0.9196484687345682,
          0.900443264216668,
          0.9077799603993684,
          0.9322055834661838,
          0.9460696061595583,
          0.8763267624293284,
          0.8902846825185121,
          0.9201690070459367,
          0.8839803003431217,
          0.8952174045236687,
          0.9127583790389955,
          0.9081879028757358,
          0.9011732209669167,
          0.9087945710990057,
          0.906212953419214
         ],
         "yaxis": "y"
        }
       ],
       "layout": {
        "legend": {
         "title": {
          "text": "variable"
         },
         "tracegroupgap": 0
        },
        "margin": {
         "t": 60
        },
        "template": {
         "data": {
          "bar": [
           {
            "error_x": {
             "color": "#2a3f5f"
            },
            "error_y": {
             "color": "#2a3f5f"
            },
            "marker": {
             "line": {
              "color": "#E5ECF6",
              "width": 0.5
             },
             "pattern": {
              "fillmode": "overlay",
              "size": 10,
              "solidity": 0.2
             }
            },
            "type": "bar"
           }
          ],
          "barpolar": [
           {
            "marker": {
             "line": {
              "color": "#E5ECF6",
              "width": 0.5
             },
             "pattern": {
              "fillmode": "overlay",
              "size": 10,
              "solidity": 0.2
             }
            },
            "type": "barpolar"
           }
          ],
          "carpet": [
           {
            "aaxis": {
             "endlinecolor": "#2a3f5f",
             "gridcolor": "white",
             "linecolor": "white",
             "minorgridcolor": "white",
             "startlinecolor": "#2a3f5f"
            },
            "baxis": {
             "endlinecolor": "#2a3f5f",
             "gridcolor": "white",
             "linecolor": "white",
             "minorgridcolor": "white",
             "startlinecolor": "#2a3f5f"
            },
            "type": "carpet"
           }
          ],
          "choropleth": [
           {
            "colorbar": {
             "outlinewidth": 0,
             "ticks": ""
            },
            "type": "choropleth"
           }
          ],
          "contour": [
           {
            "colorbar": {
             "outlinewidth": 0,
             "ticks": ""
            },
            "colorscale": [
             [
              0,
              "#0d0887"
             ],
             [
              0.1111111111111111,
              "#46039f"
             ],
             [
              0.2222222222222222,
              "#7201a8"
             ],
             [
              0.3333333333333333,
              "#9c179e"
             ],
             [
              0.4444444444444444,
              "#bd3786"
             ],
             [
              0.5555555555555556,
              "#d8576b"
             ],
             [
              0.6666666666666666,
              "#ed7953"
             ],
             [
              0.7777777777777778,
              "#fb9f3a"
             ],
             [
              0.8888888888888888,
              "#fdca26"
             ],
             [
              1,
              "#f0f921"
             ]
            ],
            "type": "contour"
           }
          ],
          "contourcarpet": [
           {
            "colorbar": {
             "outlinewidth": 0,
             "ticks": ""
            },
            "type": "contourcarpet"
           }
          ],
          "heatmap": [
           {
            "colorbar": {
             "outlinewidth": 0,
             "ticks": ""
            },
            "colorscale": [
             [
              0,
              "#0d0887"
             ],
             [
              0.1111111111111111,
              "#46039f"
             ],
             [
              0.2222222222222222,
              "#7201a8"
             ],
             [
              0.3333333333333333,
              "#9c179e"
             ],
             [
              0.4444444444444444,
              "#bd3786"
             ],
             [
              0.5555555555555556,
              "#d8576b"
             ],
             [
              0.6666666666666666,
              "#ed7953"
             ],
             [
              0.7777777777777778,
              "#fb9f3a"
             ],
             [
              0.8888888888888888,
              "#fdca26"
             ],
             [
              1,
              "#f0f921"
             ]
            ],
            "type": "heatmap"
           }
          ],
          "heatmapgl": [
           {
            "colorbar": {
             "outlinewidth": 0,
             "ticks": ""
            },
            "colorscale": [
             [
              0,
              "#0d0887"
             ],
             [
              0.1111111111111111,
              "#46039f"
             ],
             [
              0.2222222222222222,
              "#7201a8"
             ],
             [
              0.3333333333333333,
              "#9c179e"
             ],
             [
              0.4444444444444444,
              "#bd3786"
             ],
             [
              0.5555555555555556,
              "#d8576b"
             ],
             [
              0.6666666666666666,
              "#ed7953"
             ],
             [
              0.7777777777777778,
              "#fb9f3a"
             ],
             [
              0.8888888888888888,
              "#fdca26"
             ],
             [
              1,
              "#f0f921"
             ]
            ],
            "type": "heatmapgl"
           }
          ],
          "histogram": [
           {
            "marker": {
             "pattern": {
              "fillmode": "overlay",
              "size": 10,
              "solidity": 0.2
             }
            },
            "type": "histogram"
           }
          ],
          "histogram2d": [
           {
            "colorbar": {
             "outlinewidth": 0,
             "ticks": ""
            },
            "colorscale": [
             [
              0,
              "#0d0887"
             ],
             [
              0.1111111111111111,
              "#46039f"
             ],
             [
              0.2222222222222222,
              "#7201a8"
             ],
             [
              0.3333333333333333,
              "#9c179e"
             ],
             [
              0.4444444444444444,
              "#bd3786"
             ],
             [
              0.5555555555555556,
              "#d8576b"
             ],
             [
              0.6666666666666666,
              "#ed7953"
             ],
             [
              0.7777777777777778,
              "#fb9f3a"
             ],
             [
              0.8888888888888888,
              "#fdca26"
             ],
             [
              1,
              "#f0f921"
             ]
            ],
            "type": "histogram2d"
           }
          ],
          "histogram2dcontour": [
           {
            "colorbar": {
             "outlinewidth": 0,
             "ticks": ""
            },
            "colorscale": [
             [
              0,
              "#0d0887"
             ],
             [
              0.1111111111111111,
              "#46039f"
             ],
             [
              0.2222222222222222,
              "#7201a8"
             ],
             [
              0.3333333333333333,
              "#9c179e"
             ],
             [
              0.4444444444444444,
              "#bd3786"
             ],
             [
              0.5555555555555556,
              "#d8576b"
             ],
             [
              0.6666666666666666,
              "#ed7953"
             ],
             [
              0.7777777777777778,
              "#fb9f3a"
             ],
             [
              0.8888888888888888,
              "#fdca26"
             ],
             [
              1,
              "#f0f921"
             ]
            ],
            "type": "histogram2dcontour"
           }
          ],
          "mesh3d": [
           {
            "colorbar": {
             "outlinewidth": 0,
             "ticks": ""
            },
            "type": "mesh3d"
           }
          ],
          "parcoords": [
           {
            "line": {
             "colorbar": {
              "outlinewidth": 0,
              "ticks": ""
             }
            },
            "type": "parcoords"
           }
          ],
          "pie": [
           {
            "automargin": true,
            "type": "pie"
           }
          ],
          "scatter": [
           {
            "marker": {
             "colorbar": {
              "outlinewidth": 0,
              "ticks": ""
             }
            },
            "type": "scatter"
           }
          ],
          "scatter3d": [
           {
            "line": {
             "colorbar": {
              "outlinewidth": 0,
              "ticks": ""
             }
            },
            "marker": {
             "colorbar": {
              "outlinewidth": 0,
              "ticks": ""
             }
            },
            "type": "scatter3d"
           }
          ],
          "scattercarpet": [
           {
            "marker": {
             "colorbar": {
              "outlinewidth": 0,
              "ticks": ""
             }
            },
            "type": "scattercarpet"
           }
          ],
          "scattergeo": [
           {
            "marker": {
             "colorbar": {
              "outlinewidth": 0,
              "ticks": ""
             }
            },
            "type": "scattergeo"
           }
          ],
          "scattergl": [
           {
            "marker": {
             "colorbar": {
              "outlinewidth": 0,
              "ticks": ""
             }
            },
            "type": "scattergl"
           }
          ],
          "scattermapbox": [
           {
            "marker": {
             "colorbar": {
              "outlinewidth": 0,
              "ticks": ""
             }
            },
            "type": "scattermapbox"
           }
          ],
          "scatterpolar": [
           {
            "marker": {
             "colorbar": {
              "outlinewidth": 0,
              "ticks": ""
             }
            },
            "type": "scatterpolar"
           }
          ],
          "scatterpolargl": [
           {
            "marker": {
             "colorbar": {
              "outlinewidth": 0,
              "ticks": ""
             }
            },
            "type": "scatterpolargl"
           }
          ],
          "scatterternary": [
           {
            "marker": {
             "colorbar": {
              "outlinewidth": 0,
              "ticks": ""
             }
            },
            "type": "scatterternary"
           }
          ],
          "surface": [
           {
            "colorbar": {
             "outlinewidth": 0,
             "ticks": ""
            },
            "colorscale": [
             [
              0,
              "#0d0887"
             ],
             [
              0.1111111111111111,
              "#46039f"
             ],
             [
              0.2222222222222222,
              "#7201a8"
             ],
             [
              0.3333333333333333,
              "#9c179e"
             ],
             [
              0.4444444444444444,
              "#bd3786"
             ],
             [
              0.5555555555555556,
              "#d8576b"
             ],
             [
              0.6666666666666666,
              "#ed7953"
             ],
             [
              0.7777777777777778,
              "#fb9f3a"
             ],
             [
              0.8888888888888888,
              "#fdca26"
             ],
             [
              1,
              "#f0f921"
             ]
            ],
            "type": "surface"
           }
          ],
          "table": [
           {
            "cells": {
             "fill": {
              "color": "#EBF0F8"
             },
             "line": {
              "color": "white"
             }
            },
            "header": {
             "fill": {
              "color": "#C8D4E3"
             },
             "line": {
              "color": "white"
             }
            },
            "type": "table"
           }
          ]
         },
         "layout": {
          "annotationdefaults": {
           "arrowcolor": "#2a3f5f",
           "arrowhead": 0,
           "arrowwidth": 1
          },
          "autotypenumbers": "strict",
          "coloraxis": {
           "colorbar": {
            "outlinewidth": 0,
            "ticks": ""
           }
          },
          "colorscale": {
           "diverging": [
            [
             0,
             "#8e0152"
            ],
            [
             0.1,
             "#c51b7d"
            ],
            [
             0.2,
             "#de77ae"
            ],
            [
             0.3,
             "#f1b6da"
            ],
            [
             0.4,
             "#fde0ef"
            ],
            [
             0.5,
             "#f7f7f7"
            ],
            [
             0.6,
             "#e6f5d0"
            ],
            [
             0.7,
             "#b8e186"
            ],
            [
             0.8,
             "#7fbc41"
            ],
            [
             0.9,
             "#4d9221"
            ],
            [
             1,
             "#276419"
            ]
           ],
           "sequential": [
            [
             0,
             "#0d0887"
            ],
            [
             0.1111111111111111,
             "#46039f"
            ],
            [
             0.2222222222222222,
             "#7201a8"
            ],
            [
             0.3333333333333333,
             "#9c179e"
            ],
            [
             0.4444444444444444,
             "#bd3786"
            ],
            [
             0.5555555555555556,
             "#d8576b"
            ],
            [
             0.6666666666666666,
             "#ed7953"
            ],
            [
             0.7777777777777778,
             "#fb9f3a"
            ],
            [
             0.8888888888888888,
             "#fdca26"
            ],
            [
             1,
             "#f0f921"
            ]
           ],
           "sequentialminus": [
            [
             0,
             "#0d0887"
            ],
            [
             0.1111111111111111,
             "#46039f"
            ],
            [
             0.2222222222222222,
             "#7201a8"
            ],
            [
             0.3333333333333333,
             "#9c179e"
            ],
            [
             0.4444444444444444,
             "#bd3786"
            ],
            [
             0.5555555555555556,
             "#d8576b"
            ],
            [
             0.6666666666666666,
             "#ed7953"
            ],
            [
             0.7777777777777778,
             "#fb9f3a"
            ],
            [
             0.8888888888888888,
             "#fdca26"
            ],
            [
             1,
             "#f0f921"
            ]
           ]
          },
          "colorway": [
           "#636efa",
           "#EF553B",
           "#00cc96",
           "#ab63fa",
           "#FFA15A",
           "#19d3f3",
           "#FF6692",
           "#B6E880",
           "#FF97FF",
           "#FECB52"
          ],
          "font": {
           "color": "#2a3f5f"
          },
          "geo": {
           "bgcolor": "white",
           "lakecolor": "white",
           "landcolor": "#E5ECF6",
           "showlakes": true,
           "showland": true,
           "subunitcolor": "white"
          },
          "hoverlabel": {
           "align": "left"
          },
          "hovermode": "closest",
          "mapbox": {
           "style": "light"
          },
          "paper_bgcolor": "white",
          "plot_bgcolor": "#E5ECF6",
          "polar": {
           "angularaxis": {
            "gridcolor": "white",
            "linecolor": "white",
            "ticks": ""
           },
           "bgcolor": "#E5ECF6",
           "radialaxis": {
            "gridcolor": "white",
            "linecolor": "white",
            "ticks": ""
           }
          },
          "scene": {
           "xaxis": {
            "backgroundcolor": "#E5ECF6",
            "gridcolor": "white",
            "gridwidth": 2,
            "linecolor": "white",
            "showbackground": true,
            "ticks": "",
            "zerolinecolor": "white"
           },
           "yaxis": {
            "backgroundcolor": "#E5ECF6",
            "gridcolor": "white",
            "gridwidth": 2,
            "linecolor": "white",
            "showbackground": true,
            "ticks": "",
            "zerolinecolor": "white"
           },
           "zaxis": {
            "backgroundcolor": "#E5ECF6",
            "gridcolor": "white",
            "gridwidth": 2,
            "linecolor": "white",
            "showbackground": true,
            "ticks": "",
            "zerolinecolor": "white"
           }
          },
          "shapedefaults": {
           "line": {
            "color": "#2a3f5f"
           }
          },
          "ternary": {
           "aaxis": {
            "gridcolor": "white",
            "linecolor": "white",
            "ticks": ""
           },
           "baxis": {
            "gridcolor": "white",
            "linecolor": "white",
            "ticks": ""
           },
           "bgcolor": "#E5ECF6",
           "caxis": {
            "gridcolor": "white",
            "linecolor": "white",
            "ticks": ""
           }
          },
          "title": {
           "x": 0.05
          },
          "xaxis": {
           "automargin": true,
           "gridcolor": "white",
           "linecolor": "white",
           "ticks": "",
           "title": {
            "standoff": 15
           },
           "zerolinecolor": "white",
           "zerolinewidth": 2
          },
          "yaxis": {
           "automargin": true,
           "gridcolor": "white",
           "linecolor": "white",
           "ticks": "",
           "title": {
            "standoff": 15
           },
           "zerolinecolor": "white",
           "zerolinewidth": 2
          }
         }
        },
        "xaxis": {
         "anchor": "y",
         "domain": [
          0,
          1
         ],
         "title": {
          "text": "index"
         }
        },
        "yaxis": {
         "anchor": "x",
         "domain": [
          0,
          1
         ],
         "title": {
          "text": "value"
         }
        }
       }
      }
     },
     "metadata": {},
     "output_type": "display_data"
    }
   ],
   "source": [
    "px.line(test_df)"
   ]
  },
  {
   "cell_type": "code",
   "execution_count": 19,
   "metadata": {},
   "outputs": [
    {
     "data": {
      "text/plain": [
       "913.0622717114808"
      ]
     },
     "execution_count": 19,
     "metadata": {},
     "output_type": "execute_result"
    }
   ],
   "source": [
    "expected_payoff(payoff(test_paths, K, Barrier, m-5), r=0.0001, T=T, t=5*dt)"
   ]
  },
  {
   "cell_type": "code",
   "execution_count": 20,
   "metadata": {},
   "outputs": [
    {
     "data": {
      "application/vnd.jupyter.widget-view+json": {
       "model_id": "ecdf30551a7b422987e65362b4c8d1c5",
       "version_major": 2,
       "version_minor": 0
      },
      "text/plain": [
       "  0%|          | 0/3 [00:00<?, ?it/s]"
      ]
     },
     "metadata": {},
     "output_type": "display_data"
    },
    {
     "data": {
      "application/vnd.jupyter.widget-view+json": {
       "model_id": "8cd231ed11de499aaed69e2113fad877",
       "version_major": 2,
       "version_minor": 0
      },
      "text/plain": [
       "  0%|          | 0/378 [00:00<?, ?it/s]"
      ]
     },
     "metadata": {},
     "output_type": "display_data"
    },
    {
     "data": {
      "application/vnd.jupyter.widget-view+json": {
       "model_id": "d966eb39eabb4c2ca4a1e6d19d4f630b",
       "version_major": 2,
       "version_minor": 0
      },
      "text/plain": [
       "  0%|          | 0/378 [00:00<?, ?it/s]"
      ]
     },
     "metadata": {},
     "output_type": "display_data"
    },
    {
     "data": {
      "application/vnd.jupyter.widget-view+json": {
       "model_id": "267467cdc9f944da99a08ef574ac502e",
       "version_major": 2,
       "version_minor": 0
      },
      "text/plain": [
       "  0%|          | 0/378 [00:00<?, ?it/s]"
      ]
     },
     "metadata": {},
     "output_type": "display_data"
    }
   ],
   "source": [
    "# ROLLING WINDOW OVER ENTIRE LIFETIME\n",
    "# uses newest asset prices on current day to get expected payoff for that day\n",
    "\n",
    "expected_payoffs = np.zeros(shape=(len(simulations), m))\n",
    "\n",
    "def simulate(t, sim_func, var_reduction):\n",
    "    r = calc_rates(t, m, rates)\n",
    "\n",
    "    paths = n_path_sim(asset_hist=asset_hist,\n",
    "                    Nsim=300,\n",
    "                    t=t,\n",
    "                    r=r,\n",
    "                    dt=dt,\n",
    "                    p=3,\n",
    "                    m=m,\n",
    "                    sim_func=sim_func,\n",
    "                    var_reduction=var_reduction\n",
    "                    )\n",
    "                    \n",
    "    return expected_payoff(payoff(paths, K, Barrier, m-t), r=r, T=T, t=t*dt)\n",
    "\n",
    "\n",
    "for i, (sim_func, var_reduction) in enumerate( tqdm( simulations ) ):\n",
    "    for t in tqdm(range(m), leave=False):\n",
    "        expected_payoffs[i][t] = simulate(t, sim_func, var_reduction)"
   ]
  },
  {
   "cell_type": "code",
   "execution_count": 21,
   "metadata": {},
   "outputs": [],
   "source": [
    "simulated_prices = pd.DataFrame(expected_payoffs.T, \n",
    "                                columns=[\n",
    "                                    \"Monte Carlo\", \n",
    "                                    \"Antithetic Variates\", \n",
    "                                    \"Empirical Martingale Correction\"\n",
    "                                    ]\n",
    "                                )\n",
    "\n",
    "merged = pd.concat([actual_prices, simulated_prices], axis=1)"
   ]
  },
  {
   "cell_type": "code",
   "execution_count": 31,
   "metadata": {},
   "outputs": [
    {
     "data": {
      "application/vnd.plotly.v1+json": {
       "config": {
        "plotlyServerURL": "https://plot.ly"
       },
       "data": [
        {
         "hovertemplate": "variable=Price<br>index=%{x}<br>value=%{y}<extra></extra>",
         "legendgroup": "Price",
         "line": {
          "color": "#636efa",
          "dash": "solid"
         },
         "marker": {
          "symbol": "circle"
         },
         "mode": "lines",
         "name": "Price",
         "showlegend": true,
         "type": "scattergl",
         "x": [
          0,
          1,
          2,
          3,
          4,
          5,
          6,
          7,
          8,
          9,
          10,
          11,
          12,
          13,
          14,
          15,
          16,
          17,
          18,
          19,
          20,
          21,
          22,
          23,
          24,
          25,
          26,
          27,
          28,
          29,
          30,
          31,
          32,
          33,
          34,
          35,
          36,
          37,
          38,
          39,
          40,
          41,
          42,
          43,
          44,
          45,
          46,
          47,
          48,
          49,
          50,
          51,
          52,
          53,
          54,
          55,
          56,
          57,
          58,
          59,
          60,
          61,
          62,
          63,
          64,
          65,
          66,
          67,
          68,
          69,
          70,
          71,
          72,
          73,
          74,
          75,
          76,
          77,
          78,
          79,
          80,
          81,
          82,
          83,
          84,
          85,
          86,
          87,
          88,
          89,
          90,
          91,
          92,
          93,
          94,
          95,
          96,
          97,
          98,
          99,
          100,
          101,
          102,
          103,
          104,
          105,
          106,
          107,
          108,
          109,
          110,
          111,
          112,
          113,
          114,
          115,
          116,
          117,
          118,
          119,
          120,
          121,
          122,
          123,
          124,
          125,
          126,
          127,
          128,
          129,
          130,
          131,
          132,
          133,
          134,
          135,
          136,
          137,
          138,
          139,
          140,
          141,
          142,
          143,
          144,
          145,
          146,
          147,
          148,
          149,
          150,
          151,
          152,
          153,
          154,
          155,
          156,
          157,
          158,
          159,
          160,
          161,
          162,
          163,
          164,
          165,
          166,
          167,
          168,
          169,
          170,
          171,
          172,
          173,
          174,
          175,
          176,
          177,
          178,
          179,
          180,
          181,
          182,
          183,
          184,
          185,
          186,
          187,
          188,
          189,
          190,
          191,
          192,
          193,
          194,
          195,
          196,
          197,
          198,
          199,
          200,
          201,
          202,
          203,
          204,
          205,
          206,
          207,
          208,
          209,
          210,
          211,
          212,
          213,
          214,
          215,
          216,
          217,
          218,
          219,
          220,
          221,
          222,
          223,
          224,
          225,
          226,
          227,
          228,
          229,
          230,
          231,
          232,
          233,
          234,
          235,
          236,
          237,
          238,
          239,
          240,
          241,
          242,
          243,
          244,
          245,
          246,
          247,
          248,
          249,
          250,
          251,
          252,
          253,
          254,
          255,
          256,
          257,
          258,
          259,
          260,
          261,
          262,
          263,
          264,
          265,
          266,
          267,
          268,
          269,
          270,
          271,
          272,
          273,
          274,
          275,
          276,
          277,
          278,
          279,
          280,
          281,
          282,
          283,
          284,
          285,
          286,
          287,
          288,
          289,
          290,
          291,
          292,
          293,
          294,
          295,
          296,
          297,
          298,
          299,
          300,
          301,
          302,
          303,
          304,
          305,
          306,
          307,
          308,
          309,
          310,
          311,
          312,
          313,
          314,
          315,
          316,
          317,
          318,
          319,
          320,
          321,
          322,
          323,
          324,
          325,
          326,
          327,
          328,
          329,
          330,
          331,
          332,
          333,
          334,
          335,
          336,
          337,
          338,
          339,
          340,
          341,
          342,
          343,
          344,
          345,
          346,
          347,
          348,
          349,
          350,
          351,
          352,
          353,
          354,
          355,
          356,
          357,
          358,
          359,
          360,
          361,
          362,
          363,
          364,
          365,
          366,
          367,
          368,
          369,
          370,
          371,
          372,
          373,
          374,
          375,
          376,
          377
         ],
         "xaxis": "x",
         "y": [
          1010.4,
          1010.4,
          1010.4,
          1010.4,
          1010.4,
          1010.4,
          1010.4,
          1010.4,
          1010.4,
          1010.4,
          1010.4,
          1010.4,
          998.1,
          998.1,
          998.1,
          998.1,
          998.1,
          999.3,
          999.3,
          999.3,
          996.2,
          996.2,
          996.2,
          996.2,
          987.7,
          979.2,
          977.1,
          977.1,
          977.1,
          977.1,
          975.4,
          969.8,
          958.2,
          926.9,
          926.9,
          938,
          938,
          938,
          940.4,
          940.4,
          940.4,
          942.7,
          942.7,
          942.7,
          942.7,
          942.7,
          942.7,
          942.7,
          941.7,
          941.7,
          941.7,
          941.7,
          941.7,
          939,
          939,
          939,
          918,
          915.7,
          921.9,
          928.4,
          928.4,
          928.4,
          932.6,
          932.6,
          932.6,
          929.1,
          933,
          933,
          933,
          933,
          933,
          933,
          926.5,
          926.8,
          926.8,
          926.8,
          926.8,
          926.8,
          914.8,
          902.4,
          912.4,
          923.7,
          927.3,
          937.6,
          937.6,
          936.4,
          933.8,
          925.4,
          925.4,
          931.7,
          931.7,
          933.6,
          942.4,
          947,
          947,
          947,
          959.3,
          965.3,
          965.3,
          967.9,
          971.4,
          971.4,
          972.9,
          977.5,
          982,
          982,
          982,
          982,
          982,
          982,
          982,
          982,
          983.9,
          985.5,
          985.5,
          985.5,
          985.5,
          985.5,
          985.5,
          987.4,
          987.4,
          987.4,
          976.2,
          976.2,
          976.2,
          981.5,
          981.5,
          967.8,
          967.1,
          967.1,
          967.1,
          963.6,
          963.6,
          963.6,
          969.3,
          971.9,
          975.4,
          975.4,
          975.4,
          977.3,
          977.3,
          981.4,
          981.4,
          967.6,
          967.6,
          971.1,
          975.1,
          977.8,
          981.4,
          981.4,
          981.4,
          986,
          995.5,
          998.6,
          998.6,
          998.6,
          998.6,
          998.6,
          1000.3,
          1000.3,
          1000.3,
          1000.4,
          1000.4,
          1000.5,
          1000.5,
          1000.5,
          995.3,
          995.3,
          995.3,
          995.3,
          995.3,
          995.3,
          996.1,
          999.7,
          1002.9,
          1002.9,
          1002.9,
          1002.9,
          1004.4,
          1004.7,
          1004.7,
          1000.1,
          1000.1,
          1000.1,
          1000.1,
          1000.1,
          995.7,
          995.7,
          995.7,
          995.7,
          995.7,
          995.7,
          995.7,
          995.7,
          995.7,
          995.7,
          995.7,
          990.3,
          990.3,
          990.3,
          990.7,
          990.7,
          990.7,
          990.7,
          994.6,
          994.6,
          1000,
          1000,
          1000,
          1000,
          1000,
          1000,
          1000,
          1004.2,
          1004.2,
          1004.2,
          1004.2,
          1006,
          1006,
          1006,
          1006,
          1006,
          1006,
          1006,
          1006,
          1006,
          1006.8,
          1007.3,
          1007.3,
          1003.9,
          1003.9,
          1003.9,
          1003.9,
          1003.9,
          1002.8,
          1000.3,
          1000.3,
          1000.3,
          1000.3,
          996.1,
          996.1,
          996.1,
          993.4,
          993.3,
          993.3,
          993.4,
          993.4,
          993.4,
          993.4,
          993.4,
          993.4,
          994.2,
          994.8,
          999.9,
          999.9,
          999.9,
          999.9,
          999.9,
          999.9,
          999.9,
          999.9,
          999.9,
          998.3,
          996.1,
          996.1,
          996.1,
          988.2,
          988.2,
          988.2,
          989.4,
          989.4,
          989.4,
          989.4,
          992.7,
          992.7,
          992.7,
          992.7,
          992.7,
          992.7,
          991.7,
          991.7,
          991.7,
          991.7,
          991.7,
          991.7,
          991.7,
          991.7,
          991.7,
          994.4,
          994.7,
          994.7,
          994.7,
          995.2,
          995.9,
          995.9,
          996.6,
          998.3,
          998.7,
          998.7,
          998.7,
          998.7,
          998.7,
          998.7,
          998.7,
          998.7,
          998.8,
          998.8,
          998.8,
          998.8,
          998.8,
          998.8,
          998.8,
          998.8,
          998.8,
          998.8,
          998.8,
          998.8,
          998.8,
          998.8,
          998.8,
          998.8,
          998.8,
          998.8,
          998.8,
          998.8,
          998.8,
          998.8,
          998.8,
          998.8,
          998.8,
          998.8,
          998.8,
          998.8,
          998.8,
          998.8,
          998.8,
          998.8,
          998.8,
          998.8,
          998.8,
          998.8,
          998.8,
          998.8,
          994.2,
          991.7,
          991.7,
          991.7,
          991.7,
          991.7,
          991.8,
          991.9,
          991.9,
          991.9,
          991.9,
          992.2,
          992.2,
          992.2,
          992.2,
          992.2,
          992.2,
          992.2,
          992.2,
          992.2,
          992.2,
          992.2,
          992.2,
          null,
          null,
          null,
          null,
          null,
          null,
          null,
          null,
          null,
          null,
          null,
          null
         ],
         "yaxis": "y"
        },
        {
         "hovertemplate": "variable=Monte Carlo<br>index=%{x}<br>value=%{y}<extra></extra>",
         "legendgroup": "Monte Carlo",
         "line": {
          "color": "#EF553B",
          "dash": "solid"
         },
         "marker": {
          "symbol": "circle"
         },
         "mode": "lines",
         "name": "Monte Carlo",
         "showlegend": true,
         "type": "scattergl",
         "x": [
          0,
          1,
          2,
          3,
          4,
          5,
          6,
          7,
          8,
          9,
          10,
          11,
          12,
          13,
          14,
          15,
          16,
          17,
          18,
          19,
          20,
          21,
          22,
          23,
          24,
          25,
          26,
          27,
          28,
          29,
          30,
          31,
          32,
          33,
          34,
          35,
          36,
          37,
          38,
          39,
          40,
          41,
          42,
          43,
          44,
          45,
          46,
          47,
          48,
          49,
          50,
          51,
          52,
          53,
          54,
          55,
          56,
          57,
          58,
          59,
          60,
          61,
          62,
          63,
          64,
          65,
          66,
          67,
          68,
          69,
          70,
          71,
          72,
          73,
          74,
          75,
          76,
          77,
          78,
          79,
          80,
          81,
          82,
          83,
          84,
          85,
          86,
          87,
          88,
          89,
          90,
          91,
          92,
          93,
          94,
          95,
          96,
          97,
          98,
          99,
          100,
          101,
          102,
          103,
          104,
          105,
          106,
          107,
          108,
          109,
          110,
          111,
          112,
          113,
          114,
          115,
          116,
          117,
          118,
          119,
          120,
          121,
          122,
          123,
          124,
          125,
          126,
          127,
          128,
          129,
          130,
          131,
          132,
          133,
          134,
          135,
          136,
          137,
          138,
          139,
          140,
          141,
          142,
          143,
          144,
          145,
          146,
          147,
          148,
          149,
          150,
          151,
          152,
          153,
          154,
          155,
          156,
          157,
          158,
          159,
          160,
          161,
          162,
          163,
          164,
          165,
          166,
          167,
          168,
          169,
          170,
          171,
          172,
          173,
          174,
          175,
          176,
          177,
          178,
          179,
          180,
          181,
          182,
          183,
          184,
          185,
          186,
          187,
          188,
          189,
          190,
          191,
          192,
          193,
          194,
          195,
          196,
          197,
          198,
          199,
          200,
          201,
          202,
          203,
          204,
          205,
          206,
          207,
          208,
          209,
          210,
          211,
          212,
          213,
          214,
          215,
          216,
          217,
          218,
          219,
          220,
          221,
          222,
          223,
          224,
          225,
          226,
          227,
          228,
          229,
          230,
          231,
          232,
          233,
          234,
          235,
          236,
          237,
          238,
          239,
          240,
          241,
          242,
          243,
          244,
          245,
          246,
          247,
          248,
          249,
          250,
          251,
          252,
          253,
          254,
          255,
          256,
          257,
          258,
          259,
          260,
          261,
          262,
          263,
          264,
          265,
          266,
          267,
          268,
          269,
          270,
          271,
          272,
          273,
          274,
          275,
          276,
          277,
          278,
          279,
          280,
          281,
          282,
          283,
          284,
          285,
          286,
          287,
          288,
          289,
          290,
          291,
          292,
          293,
          294,
          295,
          296,
          297,
          298,
          299,
          300,
          301,
          302,
          303,
          304,
          305,
          306,
          307,
          308,
          309,
          310,
          311,
          312,
          313,
          314,
          315,
          316,
          317,
          318,
          319,
          320,
          321,
          322,
          323,
          324,
          325,
          326,
          327,
          328,
          329,
          330,
          331,
          332,
          333,
          334,
          335,
          336,
          337,
          338,
          339,
          340,
          341,
          342,
          343,
          344,
          345,
          346,
          347,
          348,
          349,
          350,
          351,
          352,
          353,
          354,
          355,
          356,
          357,
          358,
          359,
          360,
          361,
          362,
          363,
          364,
          365,
          366,
          367,
          368,
          369,
          370,
          371,
          372,
          373,
          374,
          375,
          376,
          377
         ],
         "xaxis": "x",
         "y": [
          846.2375020631512,
          846.1566876258021,
          840.4284140306961,
          827.407237661578,
          838.678845628634,
          831.6253412758592,
          819.0488399922772,
          857.9797270039783,
          841.8159714011027,
          855.0629438803018,
          857.5268857655634,
          873.0847875981706,
          867.6859099957315,
          860.3063530382838,
          851.5404748822692,
          845.2477380850271,
          840.5249244773987,
          844.4950348130277,
          869.0908417197447,
          889.4949243733989,
          855.2553528938039,
          844.6504651842972,
          868.9000795362724,
          885.6622039615438,
          865.8626049023869,
          882.0175778749162,
          857.3238881086957,
          864.8969188134477,
          854.4939311583978,
          877.4260307463369,
          869.937474138066,
          863.3157664755785,
          868.4053873403678,
          853.6240713057309,
          834.6768537253756,
          855.7857495397483,
          844.6808245379054,
          853.9589202971098,
          843.504406212758,
          877.3514167424336,
          855.3416320440288,
          856.2672538909098,
          900.337482793155,
          857.7015413831909,
          858.519701797805,
          855.6870226373999,
          879.2506326360622,
          865.2349785316685,
          864.4320564737027,
          848.0193757705601,
          871.5658361994066,
          879.9588450268311,
          868.1780804365127,
          880.7423608356835,
          846.5772858861982,
          874.3593445538152,
          860.3713517539994,
          835.4058652687589,
          833.6980369883341,
          861.42888338442,
          861.9285833843963,
          851.149217507617,
          828.6392483101201,
          844.9756523589197,
          866.3987793680911,
          853.5138876895663,
          846.7425729049849,
          844.6217100275331,
          850.994115578606,
          859.3890611067881,
          858.1448473375073,
          838.7799083230699,
          833.6109714411048,
          862.9676618491096,
          871.2930770874813,
          873.2666947273032,
          848.8734595363414,
          865.9310805002111,
          829.7441988310105,
          845.3745409852829,
          853.3659211148515,
          871.5313429020466,
          885.9115463776279,
          909.5141538981239,
          902.561259530162,
          913.3347116527295,
          892.6047852702652,
          913.2712700145211,
          922.7315548310239,
          903.2854788390566,
          905.5792861476766,
          916.7285947784812,
          933.0394979033871,
          924.2336973295086,
          928.6758024909198,
          907.5536222236836,
          919.5517865813423,
          915.852918436925,
          938.7757362037668,
          942.578763897511,
          939.1436510272447,
          931.9281477321707,
          936.4851617427375,
          956.2390034406943,
          952.7974238231614,
          960.5774100402933,
          945.5564469318255,
          945.5809835664415,
          956.540319698167,
          956.3024003538567,
          953.6292667783448,
          950.2909922997374,
          973.5542365365363,
          969.2096889205415,
          973.3388189354042,
          955.152219148112,
          979.2243944916008,
          975.6020879431286,
          975.9698355572143,
          985.3069257376521,
          974.826346756124,
          983.5188363438936,
          970.6481632771838,
          973.3193472781803,
          972.5375733707547,
          979.9861570095591,
          971.0239702468959,
          973.8807835358191,
          960.0106141759637,
          965.3586105077221,
          963.2936537769065,
          972.71708526618,
          976.0742028338631,
          985.6876108705652,
          974.33523026884,
          980.9373007471456,
          981.6592602130744,
          972.8159549312165,
          985.8785481610803,
          982.879138192827,
          981.4850113897928,
          979.5648420116404,
          974.8160045296086,
          983.8937066363012,
          979.2142538182668,
          979.6942769598143,
          992.3531111815759,
          993.5198575317693,
          988.7771240340215,
          977.965701756586,
          988.1937386982756,
          982.6861069220308,
          992.9221932237783,
          998.0972387201849,
          992.7885134290376,
          994.9187208356504,
          1001.3859939074679,
          997.0355734932399,
          1000.941394984558,
          1000.8691162671455,
          1002.9853138146773,
          1000.74576186682,
          1000.5965376422174,
          1004.9629436025804,
          1003.4197550431585,
          1001.8159346987509,
          1004.7583526587201,
          1004.7985484514444,
          1004.9493329747698,
          1004.9913368526827,
          1004.0531060305391,
          1002.9613498927903,
          1004.7394891588611,
          1003.142161939622,
          1005.8632572768,
          1004.6888206924983,
          1003.3562046590281,
          1005.1619635611245,
          1005.6118608980711,
          1005.7549408359465,
          1005.3097286713447,
          1004.3290240621834,
          1005.5613915466222,
          1005.5761368482284,
          1005.7014046254036,
          1002.8962978599511,
          1002.8652373964565,
          1004.2305729918639,
          1005.2588565750665,
          1005.1567212334885,
          1002.3849093933218,
          1003.5783113158207,
          1003.5272803148199,
          1003.389200517103,
          1003.2597087178676,
          1003.2843923953009,
          1002.9915261564363,
          1003.0759652217121,
          1003.1391428006316,
          1003.1780028738375,
          1000.7951351401986,
          1001.6501273561688,
          1003.2126938694408,
          1003.4465576426394,
          1000.6419800847326,
          1003.142441109358,
          1002.8938093690042,
          1003.0371280549737,
          1003.1241678571754,
          1003.008527120606,
          1002.9135187380629,
          1002.6078017999022,
          1002.623602659608,
          1002.5018628993487,
          1002.1643804467175,
          1002.2479923195505,
          1000.4861355541216,
          1002.104881070132,
          1002.0940874815822,
          1001.7615693733217,
          1001.607020011078,
          1001.7489054607398,
          1001.8952032842933,
          1001.3269990881047,
          1001.4309404085103,
          1001.6554927557319,
          1001.6904528838613,
          1001.6109378693287,
          1001.2035437614269,
          1001.1233485262429,
          1001.2349879492524,
          1000.9061215199714,
          1001.0875001744115,
          1001.2723173796467,
          1001.2533781485323,
          1001.2134385467796,
          1001.1072875492024,
          1001.0243761444693,
          1001.0436893672095,
          1000.9422092619849,
          1000.6912675153468,
          1000.7397715838869,
          1000.7983388885576,
          1000.4940418549684,
          1000.7318859670952,
          1000.6624120191752,
          1000.7916820509972,
          1000.8105179900676,
          1000.6869939752195,
          1000.6854244938252,
          1000.7933462562362,
          1000.7632396983697,
          1000.0815082120981,
          998.3719167023944,
          998.3192639710645,
          998.3214900066745,
          998.2668215172059,
          997.9330464913658,
          997.6123903977049,
          996.795727051416,
          996.4029817893705,
          996.4122454429208,
          996.8549300371812,
          996.8058796521909,
          996.9755695922079,
          997.3179383817385,
          996.8322505269273,
          996.6239772948122,
          996.8162395554937,
          996.815203560318,
          997.1082824288757,
          996.5283496728489,
          996.5972729511548,
          996.5257321887467,
          996.6173858881878,
          995.8728000211747,
          995.8659501260024,
          995.8283706328231,
          995.670710289246,
          995.0206134216464,
          994.6084759733096,
          994.9103249213406,
          994.9371344685532,
          995.0027325429434,
          995.095336785048,
          995.0707041554799,
          995.1938357899367,
          995.2221386625878,
          995.1739396343594,
          995.4351412477062,
          995.5055314592912,
          995.6516700563585,
          995.587816439438,
          995.6794591349452,
          995.8975654198974,
          995.7831152886922,
          995.7816099487641,
          995.7534416950593,
          995.8487126861772,
          995.9410192680771,
          995.8132225651503,
          995.9418285175332,
          995.946646388372,
          996.1021293334096,
          996.2115522304174,
          996.1763880139397,
          996.1733384990522,
          996.2640373205762,
          996.36295325217,
          996.4125843587083,
          996.2870427761671,
          996.4242770239664,
          996.3729319938474,
          996.5319463708514,
          996.6689130169916,
          996.5640912587567,
          994.9671868618846,
          995.0223139330755,
          995.2067072222436,
          995.1290043957491,
          995.1994105709425,
          995.1994293766763,
          995.2887041987071,
          995.4057872787824,
          995.3216929613327,
          995.4941964805731,
          995.6050200394582,
          995.6777364779552,
          995.7748066183719,
          995.8155830391369,
          995.9815096729789,
          995.973078119168,
          996.0991071756207,
          996.2351671918032,
          996.2381039437898,
          996.3614176895388,
          996.3835969566129,
          996.548864985509,
          996.692727159507,
          996.6278651402569,
          996.7617371477374,
          996.7679339661597,
          996.8764881308724,
          996.7867130098388,
          996.9224148289502,
          997.0050053221942,
          997.1086675804938,
          997.2241745750963,
          997.2211595405778,
          997.426994263353,
          997.5234998049408,
          997.6944996389227,
          997.8091128895579,
          997.8500857489498,
          998.00669563685,
          998.1229102118438,
          998.2811663547701,
          998.4326366409898,
          998.5650717023492,
          998.7527637198536,
          998.9102891904224,
          999.0678395062533,
          999.225414671265,
          999.3830146893758,
          999.5406395645067,
          999.6982893005772,
          999.8559639015092,
          1000.0136633712243,
          1000.1713877136443,
          1000.3291369326927,
          1000.4869110322934,
          1000.6447100163693,
          1000.802533888847,
          1000.960382653651,
          1001.1182563147069,
          1001.2761548759426,
          1001.4340783412846,
          1001.5920267146608
         ],
         "yaxis": "y"
        },
        {
         "hovertemplate": "variable=Antithetic Variates<br>index=%{x}<br>value=%{y}<extra></extra>",
         "legendgroup": "Antithetic Variates",
         "line": {
          "color": "#00cc96",
          "dash": "solid"
         },
         "marker": {
          "symbol": "circle"
         },
         "mode": "lines",
         "name": "Antithetic Variates",
         "showlegend": true,
         "type": "scattergl",
         "x": [
          0,
          1,
          2,
          3,
          4,
          5,
          6,
          7,
          8,
          9,
          10,
          11,
          12,
          13,
          14,
          15,
          16,
          17,
          18,
          19,
          20,
          21,
          22,
          23,
          24,
          25,
          26,
          27,
          28,
          29,
          30,
          31,
          32,
          33,
          34,
          35,
          36,
          37,
          38,
          39,
          40,
          41,
          42,
          43,
          44,
          45,
          46,
          47,
          48,
          49,
          50,
          51,
          52,
          53,
          54,
          55,
          56,
          57,
          58,
          59,
          60,
          61,
          62,
          63,
          64,
          65,
          66,
          67,
          68,
          69,
          70,
          71,
          72,
          73,
          74,
          75,
          76,
          77,
          78,
          79,
          80,
          81,
          82,
          83,
          84,
          85,
          86,
          87,
          88,
          89,
          90,
          91,
          92,
          93,
          94,
          95,
          96,
          97,
          98,
          99,
          100,
          101,
          102,
          103,
          104,
          105,
          106,
          107,
          108,
          109,
          110,
          111,
          112,
          113,
          114,
          115,
          116,
          117,
          118,
          119,
          120,
          121,
          122,
          123,
          124,
          125,
          126,
          127,
          128,
          129,
          130,
          131,
          132,
          133,
          134,
          135,
          136,
          137,
          138,
          139,
          140,
          141,
          142,
          143,
          144,
          145,
          146,
          147,
          148,
          149,
          150,
          151,
          152,
          153,
          154,
          155,
          156,
          157,
          158,
          159,
          160,
          161,
          162,
          163,
          164,
          165,
          166,
          167,
          168,
          169,
          170,
          171,
          172,
          173,
          174,
          175,
          176,
          177,
          178,
          179,
          180,
          181,
          182,
          183,
          184,
          185,
          186,
          187,
          188,
          189,
          190,
          191,
          192,
          193,
          194,
          195,
          196,
          197,
          198,
          199,
          200,
          201,
          202,
          203,
          204,
          205,
          206,
          207,
          208,
          209,
          210,
          211,
          212,
          213,
          214,
          215,
          216,
          217,
          218,
          219,
          220,
          221,
          222,
          223,
          224,
          225,
          226,
          227,
          228,
          229,
          230,
          231,
          232,
          233,
          234,
          235,
          236,
          237,
          238,
          239,
          240,
          241,
          242,
          243,
          244,
          245,
          246,
          247,
          248,
          249,
          250,
          251,
          252,
          253,
          254,
          255,
          256,
          257,
          258,
          259,
          260,
          261,
          262,
          263,
          264,
          265,
          266,
          267,
          268,
          269,
          270,
          271,
          272,
          273,
          274,
          275,
          276,
          277,
          278,
          279,
          280,
          281,
          282,
          283,
          284,
          285,
          286,
          287,
          288,
          289,
          290,
          291,
          292,
          293,
          294,
          295,
          296,
          297,
          298,
          299,
          300,
          301,
          302,
          303,
          304,
          305,
          306,
          307,
          308,
          309,
          310,
          311,
          312,
          313,
          314,
          315,
          316,
          317,
          318,
          319,
          320,
          321,
          322,
          323,
          324,
          325,
          326,
          327,
          328,
          329,
          330,
          331,
          332,
          333,
          334,
          335,
          336,
          337,
          338,
          339,
          340,
          341,
          342,
          343,
          344,
          345,
          346,
          347,
          348,
          349,
          350,
          351,
          352,
          353,
          354,
          355,
          356,
          357,
          358,
          359,
          360,
          361,
          362,
          363,
          364,
          365,
          366,
          367,
          368,
          369,
          370,
          371,
          372,
          373,
          374,
          375,
          376,
          377
         ],
         "xaxis": "x",
         "y": [
          814.0514302428032,
          840.3421400819012,
          837.3449393969458,
          827.7959742366197,
          841.400931667763,
          840.5273207122696,
          850.0469336641647,
          849.4812736253539,
          855.2127357786677,
          855.7090962633544,
          857.3397446859458,
          870.8760042451934,
          871.8587470362415,
          864.3223246711668,
          834.3851606931511,
          865.056670118405,
          868.0499691004712,
          857.5936821042952,
          877.9085824005767,
          889.5278559849921,
          864.3051817062751,
          861.7039735010926,
          863.0684002900548,
          882.2859971861479,
          884.6679430885531,
          863.3417799222698,
          855.4650739352593,
          867.485855795409,
          880.6400242513864,
          877.0862042504017,
          873.0847297356697,
          856.3447822081022,
          871.2052521806208,
          854.4816243270207,
          829.3587673748722,
          846.8689349614828,
          852.1650899668283,
          852.3522098924128,
          854.3191034063037,
          853.2842637214625,
          861.3911160307296,
          864.0952476101976,
          854.5437983778124,
          868.3644046227441,
          852.2052101537996,
          864.9203025144694,
          858.664909393759,
          858.6939938734206,
          867.3366803503748,
          851.063925174655,
          879.6165132726721,
          880.750567748703,
          874.16109617497,
          864.9118725743325,
          867.1764357819903,
          861.3431764772239,
          842.2956210281762,
          834.0940925102861,
          824.3451843120482,
          859.8371770780686,
          861.9512897186854,
          866.988862598326,
          856.0227268706989,
          867.5097824685784,
          851.6929126960799,
          841.8265070215729,
          847.881991389196,
          852.153340283771,
          858.2248106212115,
          840.4706626295269,
          842.4392161791128,
          846.530422118214,
          850.8140881116178,
          853.5749938078792,
          865.2271288291017,
          864.4906643098755,
          870.5235601178979,
          858.7744513252685,
          848.5374594805937,
          859.9856842760647,
          862.5673866860823,
          871.2253296594364,
          891.3124467902122,
          893.895560594654,
          903.698808504763,
          899.6975613602204,
          895.6949035991496,
          906.9221246357571,
          905.7644937439959,
          915.3716763802096,
          907.036909246163,
          908.9606661168435,
          926.2422525954053,
          916.8622083598558,
          918.9595916593628,
          917.9187730792062,
          917.0523346421187,
          929.8720020011492,
          931.9762124690716,
          941.9659901696758,
          938.6301994866816,
          936.6277843357765,
          930.9793849086482,
          953.8562391419239,
          957.5060907291698,
          943.1306080657265,
          942.3644608785681,
          956.3872079162494,
          954.2101151540212,
          961.5293297862215,
          960.8911542248215,
          960.5188068260536,
          964.5476403073105,
          976.0243458585189,
          973.8977198711144,
          969.7502924705104,
          975.0983648134035,
          978.7833972838222,
          982.1196855438776,
          973.7875563759192,
          978.6607313298531,
          971.5972817116678,
          963.6985290617812,
          967.7375891119486,
          979.3436559423006,
          975.1651753979455,
          972.6378909289472,
          968.9280020776413,
          962.8813399775373,
          973.07833617266,
          973.9887967661703,
          970.885853131858,
          976.2096486704428,
          984.8486526946028,
          973.5173204887998,
          983.4308210596155,
          988.2283959178479,
          978.8588110039954,
          969.5849790741117,
          985.5882304327253,
          978.2443125575357,
          971.0845363881893,
          971.3555368749875,
          976.222257267388,
          975.4921699584615,
          978.4703232796074,
          986.1201138883139,
          982.4971976482752,
          988.4155480158806,
          974.3812643358051,
          980.5943947230429,
          990.4805606895894,
          996.1940930600804,
          998.5077298708809,
          994.4214444949585,
          998.321964512507,
          999.3234723708732,
          1001.4475851078231,
          1000.9470666636379,
          1003.2913859747152,
          1004.0766827975402,
          1003.4734295412587,
          1003.7722820144552,
          1001.8935657837875,
          1001.2353644634287,
          1003.1941075026423,
          1001.2589000080995,
          1002.7019143299598,
          1005.5346956286498,
          1000.5983283918168,
          1003.8088150558159,
          1003.7423529366187,
          1005.1771227109122,
          1005.9395172232046,
          1003.5688772586977,
          1003.4646155009116,
          1005.3715461020518,
          1004.4779372701552,
          1004.0836183987761,
          1004.441682715244,
          1005.3097286713447,
          1004.9522793220838,
          1004.9264040307668,
          1004.3399798598742,
          1005.0575633253285,
          1004.7544463404175,
          1004.1003945030883,
          1004.8465061996285,
          1005.2588565750665,
          1004.5320586737021,
          1001.6445849953159,
          1003.5783113158207,
          1003.5272803148197,
          1003.389200517103,
          1003.2597087178674,
          1003.2843923953006,
          1002.9915261564365,
          1002.4245198323987,
          1003.1391428006316,
          1003.1780028738373,
          1003.324547324758,
          1002.245087538954,
          1002.5261560302946,
          1003.4465576426394,
          1002.5047849575768,
          1002.4504506542464,
          1002.3804244756809,
          1003.0371280549737,
          1003.1241678571752,
          1003.008527120606,
          1002.9135187380629,
          1001.959003586631,
          1002.623602659608,
          1002.5018628993487,
          1002.1643804467175,
          1002.2479923195505,
          1001.9626801313623,
          1002.104881070132,
          1002.0940874815822,
          1001.7615693733214,
          1001.6070200110778,
          1001.7489054607396,
          1001.8952032842933,
          1001.3269990881047,
          1001.4309404085105,
          1001.6554927557319,
          1001.6904528838613,
          1001.6109378693287,
          1001.2035437614269,
          1001.1233485262429,
          1001.2349879492524,
          1000.9061215199713,
          1001.0875001744115,
          1001.2723173796467,
          1001.2533781485325,
          1001.2134385467796,
          1001.1072875492026,
          1001.0243761444691,
          1001.0436893672093,
          1000.9422092619851,
          1000.691267515347,
          1000.7397715838869,
          1000.7983388885576,
          1000.4940418549684,
          1000.7318859670953,
          1000.6624120191755,
          1000.7916820509972,
          1000.8105179900676,
          1000.6869939752195,
          1000.6854244938252,
          1000.7933462562362,
          1000.7632396983697,
          1000.0815082120982,
          998.3719167023944,
          998.3192639710645,
          998.3214900066743,
          998.2668215172059,
          997.9330464913658,
          997.6123903977049,
          996.795727051416,
          996.4029817893705,
          996.4122454429208,
          996.8549300371812,
          996.1134090661207,
          996.9755695922079,
          997.3179383817385,
          996.8322505269273,
          996.6239772948122,
          996.8162395554934,
          996.815203560318,
          997.1082824288757,
          996.5283496728489,
          996.5972729511548,
          996.5257321887467,
          996.6173858881878,
          995.8728000211747,
          995.8659501260026,
          995.1800182989414,
          995.6707102892462,
          995.0206134216467,
          994.6084759733096,
          994.9103249213406,
          994.9371344685532,
          995.0027325429436,
          995.095336785048,
          995.0707041554797,
          995.1938357899367,
          995.2221386625878,
          995.1739396343592,
          995.4351412477062,
          995.5055314592912,
          995.6516700563587,
          995.587816439438,
          995.6794591349451,
          995.8975654198974,
          995.7831152886922,
          995.7816099487638,
          995.7534416950591,
          995.8487126861772,
          995.9410192680768,
          995.8132225651503,
          995.9418285175332,
          995.946646388372,
          996.1021293334098,
          996.2115522304174,
          996.1763880139399,
          996.1733384990523,
          996.264037320576,
          996.3629532521697,
          996.4125843587083,
          996.2870427761671,
          996.4242770239664,
          996.3729319938474,
          996.5319463708512,
          996.6689130169914,
          996.5640912587567,
          994.9671868618843,
          995.0223139330755,
          995.2067072222436,
          995.1290043957489,
          995.1994105709425,
          995.1994293766763,
          995.2887041987071,
          995.4057872787824,
          995.3216929613329,
          995.4941964805731,
          995.6050200394584,
          995.6777364779552,
          995.7748066183719,
          995.8155830391369,
          995.9815096729789,
          995.973078119168,
          996.0991071756207,
          996.2351671918032,
          996.2381039437898,
          996.3614176895388,
          996.3835969566129,
          996.548864985509,
          996.692727159507,
          996.6278651402571,
          996.7617371477374,
          996.7679339661597,
          996.8764881308724,
          996.7867130098388,
          996.9224148289502,
          997.0050053221942,
          997.1086675804938,
          997.2241745750963,
          997.2211595405778,
          997.426994263353,
          997.5234998049407,
          997.6944996389227,
          997.8091128895577,
          997.8500857489498,
          998.0066956368498,
          998.122910211844,
          998.2811663547701,
          998.4326366409896,
          998.5650717023492,
          998.7527637198536,
          998.9102891904224,
          999.0678395062533,
          999.225414671265,
          999.3830146893758,
          999.5406395645067,
          999.6982893005772,
          999.8559639015092,
          1000.0136633712243,
          1000.1713877136443,
          1000.3291369326927,
          1000.4869110322934,
          1000.6447100163696,
          1000.802533888847,
          1000.9603826536512,
          1001.1182563147069,
          1001.2761548759426,
          1001.4340783412844,
          1001.5920267146611
         ],
         "yaxis": "y"
        },
        {
         "hovertemplate": "variable=Empirical Martingale Correction<br>index=%{x}<br>value=%{y}<extra></extra>",
         "legendgroup": "Empirical Martingale Correction",
         "line": {
          "color": "#ab63fa",
          "dash": "solid"
         },
         "marker": {
          "symbol": "circle"
         },
         "mode": "lines",
         "name": "Empirical Martingale Correction",
         "showlegend": true,
         "type": "scattergl",
         "x": [
          0,
          1,
          2,
          3,
          4,
          5,
          6,
          7,
          8,
          9,
          10,
          11,
          12,
          13,
          14,
          15,
          16,
          17,
          18,
          19,
          20,
          21,
          22,
          23,
          24,
          25,
          26,
          27,
          28,
          29,
          30,
          31,
          32,
          33,
          34,
          35,
          36,
          37,
          38,
          39,
          40,
          41,
          42,
          43,
          44,
          45,
          46,
          47,
          48,
          49,
          50,
          51,
          52,
          53,
          54,
          55,
          56,
          57,
          58,
          59,
          60,
          61,
          62,
          63,
          64,
          65,
          66,
          67,
          68,
          69,
          70,
          71,
          72,
          73,
          74,
          75,
          76,
          77,
          78,
          79,
          80,
          81,
          82,
          83,
          84,
          85,
          86,
          87,
          88,
          89,
          90,
          91,
          92,
          93,
          94,
          95,
          96,
          97,
          98,
          99,
          100,
          101,
          102,
          103,
          104,
          105,
          106,
          107,
          108,
          109,
          110,
          111,
          112,
          113,
          114,
          115,
          116,
          117,
          118,
          119,
          120,
          121,
          122,
          123,
          124,
          125,
          126,
          127,
          128,
          129,
          130,
          131,
          132,
          133,
          134,
          135,
          136,
          137,
          138,
          139,
          140,
          141,
          142,
          143,
          144,
          145,
          146,
          147,
          148,
          149,
          150,
          151,
          152,
          153,
          154,
          155,
          156,
          157,
          158,
          159,
          160,
          161,
          162,
          163,
          164,
          165,
          166,
          167,
          168,
          169,
          170,
          171,
          172,
          173,
          174,
          175,
          176,
          177,
          178,
          179,
          180,
          181,
          182,
          183,
          184,
          185,
          186,
          187,
          188,
          189,
          190,
          191,
          192,
          193,
          194,
          195,
          196,
          197,
          198,
          199,
          200,
          201,
          202,
          203,
          204,
          205,
          206,
          207,
          208,
          209,
          210,
          211,
          212,
          213,
          214,
          215,
          216,
          217,
          218,
          219,
          220,
          221,
          222,
          223,
          224,
          225,
          226,
          227,
          228,
          229,
          230,
          231,
          232,
          233,
          234,
          235,
          236,
          237,
          238,
          239,
          240,
          241,
          242,
          243,
          244,
          245,
          246,
          247,
          248,
          249,
          250,
          251,
          252,
          253,
          254,
          255,
          256,
          257,
          258,
          259,
          260,
          261,
          262,
          263,
          264,
          265,
          266,
          267,
          268,
          269,
          270,
          271,
          272,
          273,
          274,
          275,
          276,
          277,
          278,
          279,
          280,
          281,
          282,
          283,
          284,
          285,
          286,
          287,
          288,
          289,
          290,
          291,
          292,
          293,
          294,
          295,
          296,
          297,
          298,
          299,
          300,
          301,
          302,
          303,
          304,
          305,
          306,
          307,
          308,
          309,
          310,
          311,
          312,
          313,
          314,
          315,
          316,
          317,
          318,
          319,
          320,
          321,
          322,
          323,
          324,
          325,
          326,
          327,
          328,
          329,
          330,
          331,
          332,
          333,
          334,
          335,
          336,
          337,
          338,
          339,
          340,
          341,
          342,
          343,
          344,
          345,
          346,
          347,
          348,
          349,
          350,
          351,
          352,
          353,
          354,
          355,
          356,
          357,
          358,
          359,
          360,
          361,
          362,
          363,
          364,
          365,
          366,
          367,
          368,
          369,
          370,
          371,
          372,
          373,
          374,
          375,
          376,
          377
         ],
         "xaxis": "x",
         "y": [
          824.1222135536144,
          851.4614606775746,
          856.6595298311095,
          869.0840255635383,
          865.7986799361267,
          871.2623491387674,
          887.1982778184599,
          882.2362156349692,
          873.8465685641186,
          877.7333171207417,
          887.9860779836118,
          941.7137569419815,
          939.2703668288895,
          943.0219105400952,
          914.1043713366493,
          934.6823756566768,
          921.183958434281,
          949.1241230618773,
          944.5557028074707,
          957.5429345167743,
          926.0071914900494,
          940.1618055252673,
          930.4418710564248,
          941.3459071295117,
          948.1762535542276,
          942.2344445076998,
          922.029005683812,
          944.878665754759,
          938.9490250588779,
          933.1684695089251,
          955.3295813455072,
          943.151057998286,
          932.2356141869866,
          930.5568099470906,
          896.6958874472223,
          903.2809767592701,
          925.3897458594803,
          926.0839001851011,
          931.0919180191735,
          927.6571628477607,
          932.0653987881198,
          930.7273104725074,
          912.5226254466273,
          926.2549088370417,
          940.3974956880902,
          929.3747408754678,
          925.3598588628498,
          944.8237802955574,
          938.9049712776872,
          938.0638959714286,
          936.6349590209344,
          939.9506696418943,
          932.4190013184287,
          929.9297454374303,
          935.8701306073553,
          925.6912155682954,
          921.2400705886946,
          896.0541480451436,
          901.2988329422315,
          916.9842616348799,
          922.6163103862867,
          943.3968173718666,
          924.2787623098974,
          943.6411831876298,
          925.2911411241108,
          917.8168978723639,
          951.8959816582789,
          938.8122598066545,
          929.0230788472097,
          908.943316770863,
          938.0894256269944,
          918.1290880230422,
          945.6063069687318,
          928.030953568894,
          926.5511976745593,
          935.127620087096,
          947.9073599657548,
          921.9688793831158,
          909.672309060472,
          911.6964371946963,
          908.7929088077333,
          932.4999895159768,
          918.6334340042865,
          942.952414878604,
          944.9538802547235,
          957.7209909792055,
          945.8067408992559,
          957.1422505729956,
          955.353033203105,
          954.4769812098415,
          969.8046439882065,
          975.0382868687335,
          970.0947830288694,
          977.2624057832205,
          988.0294511081754,
          981.9455117921264,
          986.1389599197241,
          982.3901871622038,
          974.0852749466537,
          987.5258048553889,
          997.4766193283587,
          990.1593243226289,
          985.3803100223254,
          984.1290084014236,
          1001.3276798317298,
          976.6522527402785,
          996.7799999944035,
          990.0893234198708,
          996.1999109450219,
          991.7502752255846,
          985.5519035264465,
          993.6592279990316,
          987.4389823937005,
          999.5557559267197,
          997.9883095292838,
          998.6385389054524,
          996.6939522653408,
          994.5222209697262,
          992.002050309685,
          1002.2405806535115,
          988.1836534618598,
          995.4944686396987,
          977.6550588346137,
          983.884422529587,
          988.3766205229905,
          1000.42232524696,
          989.1246315797069,
          993.4517374145738,
          982.8206282203253,
          994.9183618769717,
          989.2206867681692,
          989.5489143269175,
          987.5018624696246,
          995.8498327727627,
          997.5426739672001,
          995.210133363719,
          995.8560674547119,
          997.1246036197218,
          994.9944584258109,
          1000.0530187529399,
          997.7280435942587,
          993.4788484573485,
          995.5406171628595,
          989.5340943697006,
          991.298324173781,
          992.6001654419587,
          995.2945442799619,
          1001.1197890463258,
          996.5560322014688,
          992.5805747495396,
          996.9134160786087,
          998.9872517341142,
          1002.3875228839765,
          999.410594253677,
          1002.2859687247036,
          1002.392913487129,
          1004.8864116682446,
          1006.558535288523,
          1004.9822643333546,
          1006.4833885704822,
          1006.2494445115151,
          1005.1240323470638,
          1006.2563277984535,
          1005.1888876881831,
          1006.1004576086032,
          1005.8900578453391,
          1006.2015670394239,
          1005.9847018780417,
          1006.2090964670765,
          1006.2128612020313,
          1005.8488879043344,
          1006.0629671865205,
          1005.9343468746497,
          1005.9395172232045,
          1005.8632572768,
          1004.6888206924983,
          1005.3715461020518,
          1005.1619635611245,
          1005.6118608980711,
          1005.7549408359465,
          1005.3097286713447,
          1005.625181732981,
          1005.5613915466222,
          1005.5761368482284,
          1005.7014046254036,
          1005.5833955683851,
          1005.5688401771096,
          1005.4710432924531,
          1005.2588565750665,
          1005.1567212334885,
          1003.7191293758422,
          1003.5783113158207,
          1003.5272803148199,
          1003.389200517103,
          1003.2597087178676,
          1003.2843923953009,
          1002.9915261564363,
          1003.0759652217121,
          1003.1391428006316,
          1003.1780028738375,
          1003.324547324758,
          1002.9964728955493,
          1003.2126938694408,
          1003.4465576426394,
          1003.1995376894646,
          1003.142441109358,
          1002.8938093690042,
          1003.0371280549737,
          1003.1241678571754,
          1003.008527120606,
          1002.9135187380629,
          1002.6078017999022,
          1002.623602659608,
          1002.5018628993487,
          1002.1643804467175,
          1002.2479923195505,
          1001.9626801313623,
          1002.104881070132,
          1002.0940874815822,
          1001.7615693733217,
          1001.607020011078,
          1001.7489054607398,
          1001.8952032842933,
          1001.3269990881047,
          1001.4309404085103,
          1001.6554927557319,
          1001.6904528838613,
          1001.6109378693287,
          1001.2035437614269,
          1001.1233485262429,
          1001.2349879492524,
          1000.9061215199714,
          1001.0875001744115,
          1001.2723173796467,
          1001.2533781485323,
          1001.2134385467796,
          1001.1072875492024,
          1001.0243761444693,
          1001.0436893672095,
          1000.9422092619849,
          1000.6912675153468,
          1000.7397715838869,
          1000.7983388885576,
          1000.4940418549684,
          1000.7318859670952,
          1000.6624120191752,
          1000.7916820509972,
          1000.8105179900676,
          1000.6869939752195,
          1000.6854244938252,
          1000.7933462562362,
          1000.7632396983697,
          1000.0815082120981,
          998.3719167023944,
          998.3192639710645,
          998.3214900066745,
          998.2668215172059,
          997.9330464913658,
          997.6123903977049,
          996.795727051416,
          996.4029817893705,
          996.4122454429208,
          996.8549300371812,
          996.8058796521909,
          996.9755695922079,
          997.3179383817385,
          996.8322505269273,
          996.6239772948122,
          996.8162395554937,
          996.815203560318,
          997.1082824288757,
          996.5283496728489,
          996.5972729511548,
          996.5257321887467,
          996.6173858881878,
          995.8728000211747,
          995.8659501260024,
          995.8283706328231,
          995.670710289246,
          995.0206134216464,
          994.6084759733096,
          994.9103249213406,
          994.9371344685532,
          995.0027325429434,
          995.095336785048,
          995.0707041554799,
          995.1938357899367,
          995.2221386625878,
          995.1739396343594,
          995.4351412477062,
          995.5055314592912,
          995.6516700563585,
          995.587816439438,
          995.6794591349452,
          995.8975654198974,
          995.7831152886922,
          995.7816099487641,
          995.7534416950593,
          995.8487126861772,
          995.9410192680771,
          995.8132225651503,
          995.9418285175332,
          995.946646388372,
          996.1021293334096,
          996.2115522304174,
          996.1763880139397,
          996.1733384990522,
          996.2640373205762,
          996.36295325217,
          996.4125843587083,
          996.2870427761671,
          996.4242770239664,
          996.3729319938474,
          996.5319463708514,
          996.6689130169916,
          996.5640912587567,
          994.9671868618846,
          995.0223139330755,
          995.2067072222436,
          995.1290043957491,
          995.1994105709425,
          995.1994293766763,
          995.2887041987071,
          995.4057872787824,
          995.3216929613327,
          995.4941964805731,
          995.6050200394582,
          995.6777364779552,
          995.7748066183719,
          995.8155830391369,
          995.9815096729789,
          995.973078119168,
          996.0991071756207,
          996.2351671918032,
          996.2381039437898,
          996.3614176895388,
          996.3835969566129,
          996.548864985509,
          996.692727159507,
          996.6278651402569,
          996.7617371477374,
          996.7679339661597,
          996.8764881308724,
          996.7867130098388,
          996.9224148289502,
          997.0050053221942,
          997.1086675804938,
          997.2241745750963,
          997.2211595405778,
          997.426994263353,
          997.5234998049408,
          997.6944996389227,
          997.8091128895579,
          997.8500857489498,
          998.00669563685,
          998.1229102118438,
          998.2811663547701,
          998.4326366409898,
          998.5650717023492,
          998.7527637198536,
          998.9102891904224,
          999.0678395062533,
          999.225414671265,
          999.3830146893758,
          999.5406395645067,
          999.6982893005772,
          999.8559639015092,
          1000.0136633712243,
          1000.1713877136443,
          1000.3291369326927,
          1000.4869110322934,
          1000.6447100163693,
          1000.802533888847,
          1000.960382653651,
          1001.1182563147069,
          1001.2761548759426,
          1001.4340783412846,
          1001.5920267146608
         ],
         "yaxis": "y"
        }
       ],
       "layout": {
        "legend": {
         "title": {
          "text": "variable"
         },
         "tracegroupgap": 0
        },
        "margin": {
         "t": 60
        },
        "template": {
         "data": {
          "bar": [
           {
            "error_x": {
             "color": "#2a3f5f"
            },
            "error_y": {
             "color": "#2a3f5f"
            },
            "marker": {
             "line": {
              "color": "#E5ECF6",
              "width": 0.5
             },
             "pattern": {
              "fillmode": "overlay",
              "size": 10,
              "solidity": 0.2
             }
            },
            "type": "bar"
           }
          ],
          "barpolar": [
           {
            "marker": {
             "line": {
              "color": "#E5ECF6",
              "width": 0.5
             },
             "pattern": {
              "fillmode": "overlay",
              "size": 10,
              "solidity": 0.2
             }
            },
            "type": "barpolar"
           }
          ],
          "carpet": [
           {
            "aaxis": {
             "endlinecolor": "#2a3f5f",
             "gridcolor": "white",
             "linecolor": "white",
             "minorgridcolor": "white",
             "startlinecolor": "#2a3f5f"
            },
            "baxis": {
             "endlinecolor": "#2a3f5f",
             "gridcolor": "white",
             "linecolor": "white",
             "minorgridcolor": "white",
             "startlinecolor": "#2a3f5f"
            },
            "type": "carpet"
           }
          ],
          "choropleth": [
           {
            "colorbar": {
             "outlinewidth": 0,
             "ticks": ""
            },
            "type": "choropleth"
           }
          ],
          "contour": [
           {
            "colorbar": {
             "outlinewidth": 0,
             "ticks": ""
            },
            "colorscale": [
             [
              0,
              "#0d0887"
             ],
             [
              0.1111111111111111,
              "#46039f"
             ],
             [
              0.2222222222222222,
              "#7201a8"
             ],
             [
              0.3333333333333333,
              "#9c179e"
             ],
             [
              0.4444444444444444,
              "#bd3786"
             ],
             [
              0.5555555555555556,
              "#d8576b"
             ],
             [
              0.6666666666666666,
              "#ed7953"
             ],
             [
              0.7777777777777778,
              "#fb9f3a"
             ],
             [
              0.8888888888888888,
              "#fdca26"
             ],
             [
              1,
              "#f0f921"
             ]
            ],
            "type": "contour"
           }
          ],
          "contourcarpet": [
           {
            "colorbar": {
             "outlinewidth": 0,
             "ticks": ""
            },
            "type": "contourcarpet"
           }
          ],
          "heatmap": [
           {
            "colorbar": {
             "outlinewidth": 0,
             "ticks": ""
            },
            "colorscale": [
             [
              0,
              "#0d0887"
             ],
             [
              0.1111111111111111,
              "#46039f"
             ],
             [
              0.2222222222222222,
              "#7201a8"
             ],
             [
              0.3333333333333333,
              "#9c179e"
             ],
             [
              0.4444444444444444,
              "#bd3786"
             ],
             [
              0.5555555555555556,
              "#d8576b"
             ],
             [
              0.6666666666666666,
              "#ed7953"
             ],
             [
              0.7777777777777778,
              "#fb9f3a"
             ],
             [
              0.8888888888888888,
              "#fdca26"
             ],
             [
              1,
              "#f0f921"
             ]
            ],
            "type": "heatmap"
           }
          ],
          "heatmapgl": [
           {
            "colorbar": {
             "outlinewidth": 0,
             "ticks": ""
            },
            "colorscale": [
             [
              0,
              "#0d0887"
             ],
             [
              0.1111111111111111,
              "#46039f"
             ],
             [
              0.2222222222222222,
              "#7201a8"
             ],
             [
              0.3333333333333333,
              "#9c179e"
             ],
             [
              0.4444444444444444,
              "#bd3786"
             ],
             [
              0.5555555555555556,
              "#d8576b"
             ],
             [
              0.6666666666666666,
              "#ed7953"
             ],
             [
              0.7777777777777778,
              "#fb9f3a"
             ],
             [
              0.8888888888888888,
              "#fdca26"
             ],
             [
              1,
              "#f0f921"
             ]
            ],
            "type": "heatmapgl"
           }
          ],
          "histogram": [
           {
            "marker": {
             "pattern": {
              "fillmode": "overlay",
              "size": 10,
              "solidity": 0.2
             }
            },
            "type": "histogram"
           }
          ],
          "histogram2d": [
           {
            "colorbar": {
             "outlinewidth": 0,
             "ticks": ""
            },
            "colorscale": [
             [
              0,
              "#0d0887"
             ],
             [
              0.1111111111111111,
              "#46039f"
             ],
             [
              0.2222222222222222,
              "#7201a8"
             ],
             [
              0.3333333333333333,
              "#9c179e"
             ],
             [
              0.4444444444444444,
              "#bd3786"
             ],
             [
              0.5555555555555556,
              "#d8576b"
             ],
             [
              0.6666666666666666,
              "#ed7953"
             ],
             [
              0.7777777777777778,
              "#fb9f3a"
             ],
             [
              0.8888888888888888,
              "#fdca26"
             ],
             [
              1,
              "#f0f921"
             ]
            ],
            "type": "histogram2d"
           }
          ],
          "histogram2dcontour": [
           {
            "colorbar": {
             "outlinewidth": 0,
             "ticks": ""
            },
            "colorscale": [
             [
              0,
              "#0d0887"
             ],
             [
              0.1111111111111111,
              "#46039f"
             ],
             [
              0.2222222222222222,
              "#7201a8"
             ],
             [
              0.3333333333333333,
              "#9c179e"
             ],
             [
              0.4444444444444444,
              "#bd3786"
             ],
             [
              0.5555555555555556,
              "#d8576b"
             ],
             [
              0.6666666666666666,
              "#ed7953"
             ],
             [
              0.7777777777777778,
              "#fb9f3a"
             ],
             [
              0.8888888888888888,
              "#fdca26"
             ],
             [
              1,
              "#f0f921"
             ]
            ],
            "type": "histogram2dcontour"
           }
          ],
          "mesh3d": [
           {
            "colorbar": {
             "outlinewidth": 0,
             "ticks": ""
            },
            "type": "mesh3d"
           }
          ],
          "parcoords": [
           {
            "line": {
             "colorbar": {
              "outlinewidth": 0,
              "ticks": ""
             }
            },
            "type": "parcoords"
           }
          ],
          "pie": [
           {
            "automargin": true,
            "type": "pie"
           }
          ],
          "scatter": [
           {
            "marker": {
             "colorbar": {
              "outlinewidth": 0,
              "ticks": ""
             }
            },
            "type": "scatter"
           }
          ],
          "scatter3d": [
           {
            "line": {
             "colorbar": {
              "outlinewidth": 0,
              "ticks": ""
             }
            },
            "marker": {
             "colorbar": {
              "outlinewidth": 0,
              "ticks": ""
             }
            },
            "type": "scatter3d"
           }
          ],
          "scattercarpet": [
           {
            "marker": {
             "colorbar": {
              "outlinewidth": 0,
              "ticks": ""
             }
            },
            "type": "scattercarpet"
           }
          ],
          "scattergeo": [
           {
            "marker": {
             "colorbar": {
              "outlinewidth": 0,
              "ticks": ""
             }
            },
            "type": "scattergeo"
           }
          ],
          "scattergl": [
           {
            "marker": {
             "colorbar": {
              "outlinewidth": 0,
              "ticks": ""
             }
            },
            "type": "scattergl"
           }
          ],
          "scattermapbox": [
           {
            "marker": {
             "colorbar": {
              "outlinewidth": 0,
              "ticks": ""
             }
            },
            "type": "scattermapbox"
           }
          ],
          "scatterpolar": [
           {
            "marker": {
             "colorbar": {
              "outlinewidth": 0,
              "ticks": ""
             }
            },
            "type": "scatterpolar"
           }
          ],
          "scatterpolargl": [
           {
            "marker": {
             "colorbar": {
              "outlinewidth": 0,
              "ticks": ""
             }
            },
            "type": "scatterpolargl"
           }
          ],
          "scatterternary": [
           {
            "marker": {
             "colorbar": {
              "outlinewidth": 0,
              "ticks": ""
             }
            },
            "type": "scatterternary"
           }
          ],
          "surface": [
           {
            "colorbar": {
             "outlinewidth": 0,
             "ticks": ""
            },
            "colorscale": [
             [
              0,
              "#0d0887"
             ],
             [
              0.1111111111111111,
              "#46039f"
             ],
             [
              0.2222222222222222,
              "#7201a8"
             ],
             [
              0.3333333333333333,
              "#9c179e"
             ],
             [
              0.4444444444444444,
              "#bd3786"
             ],
             [
              0.5555555555555556,
              "#d8576b"
             ],
             [
              0.6666666666666666,
              "#ed7953"
             ],
             [
              0.7777777777777778,
              "#fb9f3a"
             ],
             [
              0.8888888888888888,
              "#fdca26"
             ],
             [
              1,
              "#f0f921"
             ]
            ],
            "type": "surface"
           }
          ],
          "table": [
           {
            "cells": {
             "fill": {
              "color": "#EBF0F8"
             },
             "line": {
              "color": "white"
             }
            },
            "header": {
             "fill": {
              "color": "#C8D4E3"
             },
             "line": {
              "color": "white"
             }
            },
            "type": "table"
           }
          ]
         },
         "layout": {
          "annotationdefaults": {
           "arrowcolor": "#2a3f5f",
           "arrowhead": 0,
           "arrowwidth": 1
          },
          "autotypenumbers": "strict",
          "coloraxis": {
           "colorbar": {
            "outlinewidth": 0,
            "ticks": ""
           }
          },
          "colorscale": {
           "diverging": [
            [
             0,
             "#8e0152"
            ],
            [
             0.1,
             "#c51b7d"
            ],
            [
             0.2,
             "#de77ae"
            ],
            [
             0.3,
             "#f1b6da"
            ],
            [
             0.4,
             "#fde0ef"
            ],
            [
             0.5,
             "#f7f7f7"
            ],
            [
             0.6,
             "#e6f5d0"
            ],
            [
             0.7,
             "#b8e186"
            ],
            [
             0.8,
             "#7fbc41"
            ],
            [
             0.9,
             "#4d9221"
            ],
            [
             1,
             "#276419"
            ]
           ],
           "sequential": [
            [
             0,
             "#0d0887"
            ],
            [
             0.1111111111111111,
             "#46039f"
            ],
            [
             0.2222222222222222,
             "#7201a8"
            ],
            [
             0.3333333333333333,
             "#9c179e"
            ],
            [
             0.4444444444444444,
             "#bd3786"
            ],
            [
             0.5555555555555556,
             "#d8576b"
            ],
            [
             0.6666666666666666,
             "#ed7953"
            ],
            [
             0.7777777777777778,
             "#fb9f3a"
            ],
            [
             0.8888888888888888,
             "#fdca26"
            ],
            [
             1,
             "#f0f921"
            ]
           ],
           "sequentialminus": [
            [
             0,
             "#0d0887"
            ],
            [
             0.1111111111111111,
             "#46039f"
            ],
            [
             0.2222222222222222,
             "#7201a8"
            ],
            [
             0.3333333333333333,
             "#9c179e"
            ],
            [
             0.4444444444444444,
             "#bd3786"
            ],
            [
             0.5555555555555556,
             "#d8576b"
            ],
            [
             0.6666666666666666,
             "#ed7953"
            ],
            [
             0.7777777777777778,
             "#fb9f3a"
            ],
            [
             0.8888888888888888,
             "#fdca26"
            ],
            [
             1,
             "#f0f921"
            ]
           ]
          },
          "colorway": [
           "#636efa",
           "#EF553B",
           "#00cc96",
           "#ab63fa",
           "#FFA15A",
           "#19d3f3",
           "#FF6692",
           "#B6E880",
           "#FF97FF",
           "#FECB52"
          ],
          "font": {
           "color": "#2a3f5f"
          },
          "geo": {
           "bgcolor": "white",
           "lakecolor": "white",
           "landcolor": "#E5ECF6",
           "showlakes": true,
           "showland": true,
           "subunitcolor": "white"
          },
          "hoverlabel": {
           "align": "left"
          },
          "hovermode": "closest",
          "mapbox": {
           "style": "light"
          },
          "paper_bgcolor": "white",
          "plot_bgcolor": "#E5ECF6",
          "polar": {
           "angularaxis": {
            "gridcolor": "white",
            "linecolor": "white",
            "ticks": ""
           },
           "bgcolor": "#E5ECF6",
           "radialaxis": {
            "gridcolor": "white",
            "linecolor": "white",
            "ticks": ""
           }
          },
          "scene": {
           "xaxis": {
            "backgroundcolor": "#E5ECF6",
            "gridcolor": "white",
            "gridwidth": 2,
            "linecolor": "white",
            "showbackground": true,
            "ticks": "",
            "zerolinecolor": "white"
           },
           "yaxis": {
            "backgroundcolor": "#E5ECF6",
            "gridcolor": "white",
            "gridwidth": 2,
            "linecolor": "white",
            "showbackground": true,
            "ticks": "",
            "zerolinecolor": "white"
           },
           "zaxis": {
            "backgroundcolor": "#E5ECF6",
            "gridcolor": "white",
            "gridwidth": 2,
            "linecolor": "white",
            "showbackground": true,
            "ticks": "",
            "zerolinecolor": "white"
           }
          },
          "shapedefaults": {
           "line": {
            "color": "#2a3f5f"
           }
          },
          "ternary": {
           "aaxis": {
            "gridcolor": "white",
            "linecolor": "white",
            "ticks": ""
           },
           "baxis": {
            "gridcolor": "white",
            "linecolor": "white",
            "ticks": ""
           },
           "bgcolor": "#E5ECF6",
           "caxis": {
            "gridcolor": "white",
            "linecolor": "white",
            "ticks": ""
           }
          },
          "title": {
           "x": 0.05
          },
          "xaxis": {
           "automargin": true,
           "gridcolor": "white",
           "linecolor": "white",
           "ticks": "",
           "title": {
            "standoff": 15
           },
           "zerolinecolor": "white",
           "zerolinewidth": 2
          },
          "yaxis": {
           "automargin": true,
           "gridcolor": "white",
           "linecolor": "white",
           "ticks": "",
           "title": {
            "standoff": 15
           },
           "zerolinecolor": "white",
           "zerolinewidth": 2
          }
         }
        },
        "xaxis": {
         "anchor": "y",
         "domain": [
          0,
          1
         ],
         "title": {
          "text": "index"
         }
        },
        "yaxis": {
         "anchor": "x",
         "domain": [
          0,
          1
         ],
         "title": {
          "text": "value"
         }
        }
       }
      }
     },
     "metadata": {},
     "output_type": "display_data"
    }
   ],
   "source": [
    "px.line(merged, \n",
    "        y=[\"Price\", \n",
    "           \"Monte Carlo\", \n",
    "           \"Antithetic Variates\", \n",
    "           \"Empirical Martingale Correction\"\n",
    "           ]\n",
    "        )"
   ]
  },
  {
   "cell_type": "markdown",
   "metadata": {},
   "source": [
    "## Greeks"
   ]
  },
  {
   "cell_type": "code",
   "execution_count": 33,
   "metadata": {},
   "outputs": [
    {
     "data": {
      "application/vnd.jupyter.widget-view+json": {
       "model_id": "aabe3a15e8e84b98908ec1b2334e988c",
       "version_major": 2,
       "version_minor": 0
      },
      "text/plain": [
       "  0%|          | 0/378 [00:00<?, ?it/s]"
      ]
     },
     "metadata": {},
     "output_type": "display_data"
    }
   ],
   "source": [
    "expected_payoffs_greeks = np.zeros(shape=(9, m))\n",
    "h = 0.02\n",
    "p = 3\n",
    "z = np.random.multivariate_normal(mean=np.zeros(p), cov=np.identity(p), size=m)\n",
    "\n",
    "\n",
    "for t in tqdm(range(m), leave=False):\n",
    "    r = calc_rates(t, m, rates)\n",
    "\n",
    "    paths = n_path_sim_greeks(asset_hist=asset_hist,\n",
    "                    Nsim=100,\n",
    "                    t=t,\n",
    "                    r=r,\n",
    "                    dt=dt,\n",
    "                    p=3,\n",
    "                    m=m,\n",
    "                    h_=h,\n",
    "                    sim_func=multi_asset_GBM,\n",
    "                    z=z[t:]\n",
    "                    )\n",
    "                    \n",
    "    for i in range(9):\n",
    "        expected_payoffs_greeks[i][t] = expected_payoff(payoff(paths[i], K, Barrier, m-t), r=r, T=T, t=t*dt)"
   ]
  },
  {
   "cell_type": "code",
   "execution_count": 34,
   "metadata": {},
   "outputs": [
    {
     "data": {
      "text/html": [
       "<div>\n",
       "<style scoped>\n",
       "    .dataframe tbody tr th:only-of-type {\n",
       "        vertical-align: middle;\n",
       "    }\n",
       "\n",
       "    .dataframe tbody tr th {\n",
       "        vertical-align: top;\n",
       "    }\n",
       "\n",
       "    .dataframe thead th {\n",
       "        text-align: right;\n",
       "    }\n",
       "</style>\n",
       "<table border=\"1\" class=\"dataframe\">\n",
       "  <thead>\n",
       "    <tr style=\"text-align: right;\">\n",
       "      <th></th>\n",
       "      <th>Delta</th>\n",
       "      <th>Gamma</th>\n",
       "      <th>Vega</th>\n",
       "      <th>Theta</th>\n",
       "      <th>Rho</th>\n",
       "    </tr>\n",
       "  </thead>\n",
       "  <tbody>\n",
       "    <tr>\n",
       "      <th>0</th>\n",
       "      <td>427.192533</td>\n",
       "      <td>-1.421085e-10</td>\n",
       "      <td>-207.184752</td>\n",
       "      <td>-207.120837</td>\n",
       "      <td>0.063909</td>\n",
       "    </tr>\n",
       "    <tr>\n",
       "      <th>1</th>\n",
       "      <td>429.575133</td>\n",
       "      <td>2.700062e-09</td>\n",
       "      <td>-214.753726</td>\n",
       "      <td>-214.689625</td>\n",
       "      <td>0.064095</td>\n",
       "    </tr>\n",
       "    <tr>\n",
       "      <th>2</th>\n",
       "      <td>433.060485</td>\n",
       "      <td>2.842171e-09</td>\n",
       "      <td>-216.150918</td>\n",
       "      <td>-216.092607</td>\n",
       "      <td>0.058306</td>\n",
       "    </tr>\n",
       "    <tr>\n",
       "      <th>3</th>\n",
       "      <td>443.267514</td>\n",
       "      <td>-8.526513e-10</td>\n",
       "      <td>-216.883105</td>\n",
       "      <td>-216.757786</td>\n",
       "      <td>0.125308</td>\n",
       "    </tr>\n",
       "    <tr>\n",
       "      <th>4</th>\n",
       "      <td>436.229227</td>\n",
       "      <td>1.136868e-09</td>\n",
       "      <td>-216.856278</td>\n",
       "      <td>-216.733279</td>\n",
       "      <td>0.122988</td>\n",
       "    </tr>\n",
       "  </tbody>\n",
       "</table>\n",
       "</div>"
      ],
      "text/plain": [
       "        Delta         Gamma        Vega       Theta       Rho\n",
       "0  427.192533 -1.421085e-10 -207.184752 -207.120837  0.063909\n",
       "1  429.575133  2.700062e-09 -214.753726 -214.689625  0.064095\n",
       "2  433.060485  2.842171e-09 -216.150918 -216.092607  0.058306\n",
       "3  443.267514 -8.526513e-10 -216.883105 -216.757786  0.125308\n",
       "4  436.229227  1.136868e-09 -216.856278 -216.733279  0.122988"
      ]
     },
     "execution_count": 34,
     "metadata": {},
     "output_type": "execute_result"
    }
   ],
   "source": [
    "greeks_df = pd.DataFrame(\n",
    "    np.concatenate(\n",
    "        (\n",
    "            (\n",
    "                (expected_payoffs_greeks[2] - expected_payoffs_greeks[1])/(2 * h)\n",
    "            ).reshape(1, m), \n",
    "            (\n",
    "                (expected_payoffs_greeks[2] - ( 2 * expected_payoffs_greeks[0] ) + expected_payoffs_greeks[1])/ np.square(h)\n",
    "            ).reshape(1, m),\n",
    "            (\n",
    "                (expected_payoffs_greeks[4] - expected_payoffs_greeks[3])/(2 * h)\n",
    "            ).reshape(1, m), \n",
    "            (\n",
    "                (expected_payoffs_greeks[6] - expected_payoffs_greeks[5])/(2 * h)\n",
    "            ).reshape(1, m), \n",
    "            (\n",
    "                (expected_payoffs_greeks[8] - expected_payoffs_greeks[7])/(2 * h)\n",
    "            ).reshape(1, m), \n",
    "        ),\n",
    "        axis=0\n",
    "    ).T,\n",
    "    columns=[\"Delta\", \"Gamma\", \"Vega\", \"Theta\", \"Rho\"]\n",
    ")\n",
    "greeks_df.head()"
   ]
  },
  {
   "cell_type": "markdown",
   "metadata": {},
   "source": [
    "### Delta"
   ]
  },
  {
   "cell_type": "code",
   "execution_count": 46,
   "metadata": {},
   "outputs": [
    {
     "data": {
      "application/vnd.plotly.v1+json": {
       "config": {
        "plotlyServerURL": "https://plot.ly"
       },
       "data": [
        {
         "hovertemplate": "index=%{x}<br>Delta=%{y}<extra></extra>",
         "legendgroup": "",
         "line": {
          "color": "#636efa",
          "dash": "solid"
         },
         "marker": {
          "symbol": "circle"
         },
         "mode": "lines",
         "name": "",
         "orientation": "v",
         "showlegend": false,
         "type": "scatter",
         "x": [
          0,
          1,
          2,
          3,
          4,
          5,
          6,
          7,
          8,
          9,
          10,
          11,
          12,
          13,
          14,
          15,
          16,
          17,
          18,
          19,
          20,
          21,
          22,
          23,
          24,
          25,
          26,
          27,
          28,
          29,
          30,
          31,
          32,
          33,
          34,
          35,
          36,
          37,
          38,
          39,
          40,
          41,
          42,
          43,
          44,
          45,
          46,
          47,
          48,
          49,
          50,
          51,
          52,
          53,
          54,
          55,
          56,
          57,
          58,
          59,
          60,
          61,
          62,
          63,
          64,
          65,
          66,
          67,
          68,
          69,
          70,
          71,
          72,
          73,
          74,
          75,
          76,
          77,
          78,
          79,
          80,
          81,
          82,
          83,
          84,
          85,
          86,
          87,
          88,
          89,
          90,
          91,
          92,
          93,
          94,
          95,
          96,
          97,
          98,
          99,
          100,
          101,
          102,
          103,
          104,
          105,
          106,
          107,
          108,
          109,
          110,
          111,
          112,
          113,
          114,
          115,
          116,
          117,
          118,
          119,
          120,
          121,
          122,
          123,
          124,
          125,
          126,
          127,
          128,
          129,
          130,
          131,
          132,
          133,
          134,
          135,
          136,
          137,
          138,
          139,
          140,
          141,
          142,
          143,
          144,
          145,
          146,
          147,
          148,
          149,
          150,
          151,
          152,
          153,
          154,
          155,
          156,
          157,
          158,
          159,
          160,
          161,
          162,
          163,
          164,
          165,
          166,
          167,
          168,
          169,
          170,
          171,
          172,
          173,
          174,
          175,
          176,
          177,
          178,
          179,
          180,
          181,
          182,
          183,
          184,
          185,
          186,
          187,
          188,
          189,
          190,
          191,
          192,
          193,
          194,
          195,
          196,
          197,
          198,
          199,
          200,
          201,
          202,
          203,
          204,
          205,
          206,
          207,
          208,
          209,
          210,
          211,
          212,
          213,
          214,
          215,
          216,
          217,
          218,
          219,
          220,
          221,
          222,
          223,
          224,
          225,
          226,
          227,
          228,
          229,
          230,
          231,
          232,
          233,
          234,
          235,
          236,
          237,
          238,
          239,
          240,
          241,
          242,
          243,
          244,
          245,
          246,
          247,
          248,
          249,
          250,
          251,
          252,
          253,
          254,
          255,
          256,
          257,
          258,
          259,
          260,
          261,
          262,
          263,
          264,
          265,
          266,
          267,
          268,
          269,
          270,
          271,
          272,
          273,
          274,
          275,
          276,
          277,
          278,
          279,
          280,
          281,
          282,
          283,
          284,
          285,
          286,
          287,
          288,
          289,
          290,
          291,
          292,
          293,
          294,
          295,
          296,
          297,
          298,
          299,
          300,
          301,
          302,
          303,
          304,
          305,
          306,
          307,
          308,
          309,
          310,
          311,
          312,
          313,
          314,
          315,
          316,
          317,
          318,
          319,
          320,
          321,
          322,
          323,
          324,
          325,
          326,
          327,
          328,
          329,
          330,
          331,
          332,
          333,
          334,
          335,
          336,
          337,
          338,
          339,
          340,
          341,
          342,
          343,
          344,
          345,
          346,
          347,
          348,
          349,
          350,
          351,
          352,
          353,
          354,
          355,
          356,
          357,
          358,
          359,
          360,
          361,
          362,
          363,
          364,
          365,
          366,
          367,
          368,
          369,
          370,
          371,
          372,
          373,
          374,
          375,
          376,
          377
         ],
         "xaxis": "x",
         "y": [
          427.1925325694852,
          429.57513334796573,
          433.0604849689962,
          443.26751414742205,
          436.229226982104,
          416.0400616918466,
          411.6880353504669,
          414.1920289705837,
          428.5461081486005,
          442.00879022427415,
          414.40289933105845,
          428.25380743140613,
          436.59496123156316,
          411.7384569343386,
          402.11498173134146,
          421.0894886299471,
          437.66326117359426,
          469.43238494986304,
          472.996840825968,
          488.2869453842176,
          479.503425927426,
          485.5826112512716,
          487.5789634237236,
          479.42835313804295,
          481.64180954914286,
          460.6922379614687,
          442.0819002769491,
          436.66201224295236,
          457.8798984253254,
          466.62594031921003,
          468.78849932380433,
          462.13260448225384,
          455.2664084135216,
          448.31860011276916,
          417.60550519724546,
          434.87985875011645,
          455.4318681645668,
          442.4914760744116,
          458.2149294592142,
          476.835939397877,
          473.23122247652094,
          471.59672199924927,
          459.12510087345737,
          430.2807750103412,
          420.90978024050116,
          447.1104894389356,
          442.2754344277948,
          434.81525320656687,
          438.5637987354272,
          455.4194412476292,
          467.2027622530081,
          478.06274884342486,
          467.22382475758053,
          472.3742074663406,
          460.6759240490419,
          467.07188517056153,
          465.1575608253978,
          446.2918394690291,
          430.42669521571923,
          439.5658184579375,
          444.97325575840847,
          448.0122415779775,
          438.70580151524763,
          453.43530806080423,
          460.00903793028414,
          457.4576275016099,
          469.3835499467198,
          478.6913464192651,
          469.96944893402315,
          464.1146883566833,
          446.1712923210669,
          444.8415928309771,
          458.0682885584025,
          463.72135760893514,
          459.44834966434627,
          480.0471858358108,
          471.4964460002747,
          467.59696004822047,
          475.32432661135005,
          474.93737224972534,
          498.7682989993033,
          527.8412973283082,
          529.1339466576574,
          561.7329725644822,
          570.5998516760218,
          569.2308271820764,
          557.1864540197879,
          571.2809681779589,
          10310.635046985752,
          10556.768505346286,
          10440.538290559753,
          10114.445210155745,
          0,
          0,
          0,
          10324.273054997784,
          10328.922099635322,
          0,
          0,
          0,
          0,
          10352.525518411048,
          0,
          0,
          0,
          10409.125011759608,
          584.1450220805712,
          10545.559840681082,
          0,
          10326.319250521274,
          10472.503568400367,
          0,
          0,
          0,
          0,
          0,
          0,
          0,
          0,
          0,
          0,
          0,
          10164.42693293339,
          0,
          0,
          0,
          0,
          0,
          0,
          0,
          0,
          0,
          0,
          0,
          0,
          0,
          0,
          0,
          0,
          0,
          0,
          0,
          0,
          0,
          0,
          0,
          0,
          0,
          0,
          0,
          0,
          0,
          0,
          0,
          0,
          0,
          0,
          0,
          0,
          0,
          0,
          0,
          0,
          0,
          0,
          0,
          0,
          0,
          0,
          0,
          0,
          0,
          0,
          0,
          0,
          0,
          0,
          0,
          0,
          0,
          0,
          0,
          0,
          0,
          0,
          0,
          0,
          0,
          0,
          0,
          0,
          0,
          0,
          0,
          0,
          0,
          0,
          0,
          0,
          0,
          0,
          0,
          0,
          0,
          0,
          0,
          0,
          0,
          0,
          0,
          0,
          0,
          0,
          0,
          0,
          0,
          0,
          0,
          0,
          0,
          0,
          0,
          0,
          0,
          0,
          0,
          0,
          0,
          0,
          0,
          0,
          0,
          0,
          0,
          0,
          0,
          0,
          0,
          0,
          0,
          0,
          0,
          0,
          0,
          0,
          0,
          0,
          0,
          0,
          0,
          0,
          0,
          0,
          0,
          0,
          0,
          0,
          0,
          0,
          0,
          0,
          0,
          0,
          0,
          0,
          0,
          0,
          0,
          0,
          0,
          0,
          0,
          0,
          0,
          0,
          0,
          0,
          0,
          0,
          0,
          0,
          0,
          0,
          0,
          0,
          0,
          0,
          0,
          0,
          0,
          0,
          0,
          0,
          0,
          0,
          0,
          0,
          0,
          0,
          0,
          0,
          0,
          0,
          0,
          0,
          0,
          0,
          0,
          0,
          0,
          0,
          0,
          0,
          0,
          0,
          0,
          0,
          0,
          0,
          0,
          0,
          0,
          0,
          0,
          0,
          0,
          0,
          0,
          0,
          0,
          0,
          0,
          0,
          0,
          0,
          0,
          0,
          0,
          0,
          0,
          0,
          0,
          0,
          0,
          0,
          0,
          0,
          0,
          0,
          0,
          0,
          0,
          0,
          0,
          0,
          0,
          0,
          0,
          0,
          0,
          0,
          0,
          0,
          0,
          0,
          0,
          0,
          0,
          0,
          0,
          0,
          0,
          0,
          0,
          0,
          0,
          0,
          0
         ],
         "yaxis": "y"
        }
       ],
       "layout": {
        "legend": {
         "tracegroupgap": 0
        },
        "margin": {
         "t": 60
        },
        "template": {
         "data": {
          "bar": [
           {
            "error_x": {
             "color": "#2a3f5f"
            },
            "error_y": {
             "color": "#2a3f5f"
            },
            "marker": {
             "line": {
              "color": "#E5ECF6",
              "width": 0.5
             },
             "pattern": {
              "fillmode": "overlay",
              "size": 10,
              "solidity": 0.2
             }
            },
            "type": "bar"
           }
          ],
          "barpolar": [
           {
            "marker": {
             "line": {
              "color": "#E5ECF6",
              "width": 0.5
             },
             "pattern": {
              "fillmode": "overlay",
              "size": 10,
              "solidity": 0.2
             }
            },
            "type": "barpolar"
           }
          ],
          "carpet": [
           {
            "aaxis": {
             "endlinecolor": "#2a3f5f",
             "gridcolor": "white",
             "linecolor": "white",
             "minorgridcolor": "white",
             "startlinecolor": "#2a3f5f"
            },
            "baxis": {
             "endlinecolor": "#2a3f5f",
             "gridcolor": "white",
             "linecolor": "white",
             "minorgridcolor": "white",
             "startlinecolor": "#2a3f5f"
            },
            "type": "carpet"
           }
          ],
          "choropleth": [
           {
            "colorbar": {
             "outlinewidth": 0,
             "ticks": ""
            },
            "type": "choropleth"
           }
          ],
          "contour": [
           {
            "colorbar": {
             "outlinewidth": 0,
             "ticks": ""
            },
            "colorscale": [
             [
              0,
              "#0d0887"
             ],
             [
              0.1111111111111111,
              "#46039f"
             ],
             [
              0.2222222222222222,
              "#7201a8"
             ],
             [
              0.3333333333333333,
              "#9c179e"
             ],
             [
              0.4444444444444444,
              "#bd3786"
             ],
             [
              0.5555555555555556,
              "#d8576b"
             ],
             [
              0.6666666666666666,
              "#ed7953"
             ],
             [
              0.7777777777777778,
              "#fb9f3a"
             ],
             [
              0.8888888888888888,
              "#fdca26"
             ],
             [
              1,
              "#f0f921"
             ]
            ],
            "type": "contour"
           }
          ],
          "contourcarpet": [
           {
            "colorbar": {
             "outlinewidth": 0,
             "ticks": ""
            },
            "type": "contourcarpet"
           }
          ],
          "heatmap": [
           {
            "colorbar": {
             "outlinewidth": 0,
             "ticks": ""
            },
            "colorscale": [
             [
              0,
              "#0d0887"
             ],
             [
              0.1111111111111111,
              "#46039f"
             ],
             [
              0.2222222222222222,
              "#7201a8"
             ],
             [
              0.3333333333333333,
              "#9c179e"
             ],
             [
              0.4444444444444444,
              "#bd3786"
             ],
             [
              0.5555555555555556,
              "#d8576b"
             ],
             [
              0.6666666666666666,
              "#ed7953"
             ],
             [
              0.7777777777777778,
              "#fb9f3a"
             ],
             [
              0.8888888888888888,
              "#fdca26"
             ],
             [
              1,
              "#f0f921"
             ]
            ],
            "type": "heatmap"
           }
          ],
          "heatmapgl": [
           {
            "colorbar": {
             "outlinewidth": 0,
             "ticks": ""
            },
            "colorscale": [
             [
              0,
              "#0d0887"
             ],
             [
              0.1111111111111111,
              "#46039f"
             ],
             [
              0.2222222222222222,
              "#7201a8"
             ],
             [
              0.3333333333333333,
              "#9c179e"
             ],
             [
              0.4444444444444444,
              "#bd3786"
             ],
             [
              0.5555555555555556,
              "#d8576b"
             ],
             [
              0.6666666666666666,
              "#ed7953"
             ],
             [
              0.7777777777777778,
              "#fb9f3a"
             ],
             [
              0.8888888888888888,
              "#fdca26"
             ],
             [
              1,
              "#f0f921"
             ]
            ],
            "type": "heatmapgl"
           }
          ],
          "histogram": [
           {
            "marker": {
             "pattern": {
              "fillmode": "overlay",
              "size": 10,
              "solidity": 0.2
             }
            },
            "type": "histogram"
           }
          ],
          "histogram2d": [
           {
            "colorbar": {
             "outlinewidth": 0,
             "ticks": ""
            },
            "colorscale": [
             [
              0,
              "#0d0887"
             ],
             [
              0.1111111111111111,
              "#46039f"
             ],
             [
              0.2222222222222222,
              "#7201a8"
             ],
             [
              0.3333333333333333,
              "#9c179e"
             ],
             [
              0.4444444444444444,
              "#bd3786"
             ],
             [
              0.5555555555555556,
              "#d8576b"
             ],
             [
              0.6666666666666666,
              "#ed7953"
             ],
             [
              0.7777777777777778,
              "#fb9f3a"
             ],
             [
              0.8888888888888888,
              "#fdca26"
             ],
             [
              1,
              "#f0f921"
             ]
            ],
            "type": "histogram2d"
           }
          ],
          "histogram2dcontour": [
           {
            "colorbar": {
             "outlinewidth": 0,
             "ticks": ""
            },
            "colorscale": [
             [
              0,
              "#0d0887"
             ],
             [
              0.1111111111111111,
              "#46039f"
             ],
             [
              0.2222222222222222,
              "#7201a8"
             ],
             [
              0.3333333333333333,
              "#9c179e"
             ],
             [
              0.4444444444444444,
              "#bd3786"
             ],
             [
              0.5555555555555556,
              "#d8576b"
             ],
             [
              0.6666666666666666,
              "#ed7953"
             ],
             [
              0.7777777777777778,
              "#fb9f3a"
             ],
             [
              0.8888888888888888,
              "#fdca26"
             ],
             [
              1,
              "#f0f921"
             ]
            ],
            "type": "histogram2dcontour"
           }
          ],
          "mesh3d": [
           {
            "colorbar": {
             "outlinewidth": 0,
             "ticks": ""
            },
            "type": "mesh3d"
           }
          ],
          "parcoords": [
           {
            "line": {
             "colorbar": {
              "outlinewidth": 0,
              "ticks": ""
             }
            },
            "type": "parcoords"
           }
          ],
          "pie": [
           {
            "automargin": true,
            "type": "pie"
           }
          ],
          "scatter": [
           {
            "marker": {
             "colorbar": {
              "outlinewidth": 0,
              "ticks": ""
             }
            },
            "type": "scatter"
           }
          ],
          "scatter3d": [
           {
            "line": {
             "colorbar": {
              "outlinewidth": 0,
              "ticks": ""
             }
            },
            "marker": {
             "colorbar": {
              "outlinewidth": 0,
              "ticks": ""
             }
            },
            "type": "scatter3d"
           }
          ],
          "scattercarpet": [
           {
            "marker": {
             "colorbar": {
              "outlinewidth": 0,
              "ticks": ""
             }
            },
            "type": "scattercarpet"
           }
          ],
          "scattergeo": [
           {
            "marker": {
             "colorbar": {
              "outlinewidth": 0,
              "ticks": ""
             }
            },
            "type": "scattergeo"
           }
          ],
          "scattergl": [
           {
            "marker": {
             "colorbar": {
              "outlinewidth": 0,
              "ticks": ""
             }
            },
            "type": "scattergl"
           }
          ],
          "scattermapbox": [
           {
            "marker": {
             "colorbar": {
              "outlinewidth": 0,
              "ticks": ""
             }
            },
            "type": "scattermapbox"
           }
          ],
          "scatterpolar": [
           {
            "marker": {
             "colorbar": {
              "outlinewidth": 0,
              "ticks": ""
             }
            },
            "type": "scatterpolar"
           }
          ],
          "scatterpolargl": [
           {
            "marker": {
             "colorbar": {
              "outlinewidth": 0,
              "ticks": ""
             }
            },
            "type": "scatterpolargl"
           }
          ],
          "scatterternary": [
           {
            "marker": {
             "colorbar": {
              "outlinewidth": 0,
              "ticks": ""
             }
            },
            "type": "scatterternary"
           }
          ],
          "surface": [
           {
            "colorbar": {
             "outlinewidth": 0,
             "ticks": ""
            },
            "colorscale": [
             [
              0,
              "#0d0887"
             ],
             [
              0.1111111111111111,
              "#46039f"
             ],
             [
              0.2222222222222222,
              "#7201a8"
             ],
             [
              0.3333333333333333,
              "#9c179e"
             ],
             [
              0.4444444444444444,
              "#bd3786"
             ],
             [
              0.5555555555555556,
              "#d8576b"
             ],
             [
              0.6666666666666666,
              "#ed7953"
             ],
             [
              0.7777777777777778,
              "#fb9f3a"
             ],
             [
              0.8888888888888888,
              "#fdca26"
             ],
             [
              1,
              "#f0f921"
             ]
            ],
            "type": "surface"
           }
          ],
          "table": [
           {
            "cells": {
             "fill": {
              "color": "#EBF0F8"
             },
             "line": {
              "color": "white"
             }
            },
            "header": {
             "fill": {
              "color": "#C8D4E3"
             },
             "line": {
              "color": "white"
             }
            },
            "type": "table"
           }
          ]
         },
         "layout": {
          "annotationdefaults": {
           "arrowcolor": "#2a3f5f",
           "arrowhead": 0,
           "arrowwidth": 1
          },
          "autotypenumbers": "strict",
          "coloraxis": {
           "colorbar": {
            "outlinewidth": 0,
            "ticks": ""
           }
          },
          "colorscale": {
           "diverging": [
            [
             0,
             "#8e0152"
            ],
            [
             0.1,
             "#c51b7d"
            ],
            [
             0.2,
             "#de77ae"
            ],
            [
             0.3,
             "#f1b6da"
            ],
            [
             0.4,
             "#fde0ef"
            ],
            [
             0.5,
             "#f7f7f7"
            ],
            [
             0.6,
             "#e6f5d0"
            ],
            [
             0.7,
             "#b8e186"
            ],
            [
             0.8,
             "#7fbc41"
            ],
            [
             0.9,
             "#4d9221"
            ],
            [
             1,
             "#276419"
            ]
           ],
           "sequential": [
            [
             0,
             "#0d0887"
            ],
            [
             0.1111111111111111,
             "#46039f"
            ],
            [
             0.2222222222222222,
             "#7201a8"
            ],
            [
             0.3333333333333333,
             "#9c179e"
            ],
            [
             0.4444444444444444,
             "#bd3786"
            ],
            [
             0.5555555555555556,
             "#d8576b"
            ],
            [
             0.6666666666666666,
             "#ed7953"
            ],
            [
             0.7777777777777778,
             "#fb9f3a"
            ],
            [
             0.8888888888888888,
             "#fdca26"
            ],
            [
             1,
             "#f0f921"
            ]
           ],
           "sequentialminus": [
            [
             0,
             "#0d0887"
            ],
            [
             0.1111111111111111,
             "#46039f"
            ],
            [
             0.2222222222222222,
             "#7201a8"
            ],
            [
             0.3333333333333333,
             "#9c179e"
            ],
            [
             0.4444444444444444,
             "#bd3786"
            ],
            [
             0.5555555555555556,
             "#d8576b"
            ],
            [
             0.6666666666666666,
             "#ed7953"
            ],
            [
             0.7777777777777778,
             "#fb9f3a"
            ],
            [
             0.8888888888888888,
             "#fdca26"
            ],
            [
             1,
             "#f0f921"
            ]
           ]
          },
          "colorway": [
           "#636efa",
           "#EF553B",
           "#00cc96",
           "#ab63fa",
           "#FFA15A",
           "#19d3f3",
           "#FF6692",
           "#B6E880",
           "#FF97FF",
           "#FECB52"
          ],
          "font": {
           "color": "#2a3f5f"
          },
          "geo": {
           "bgcolor": "white",
           "lakecolor": "white",
           "landcolor": "#E5ECF6",
           "showlakes": true,
           "showland": true,
           "subunitcolor": "white"
          },
          "hoverlabel": {
           "align": "left"
          },
          "hovermode": "closest",
          "mapbox": {
           "style": "light"
          },
          "paper_bgcolor": "white",
          "plot_bgcolor": "#E5ECF6",
          "polar": {
           "angularaxis": {
            "gridcolor": "white",
            "linecolor": "white",
            "ticks": ""
           },
           "bgcolor": "#E5ECF6",
           "radialaxis": {
            "gridcolor": "white",
            "linecolor": "white",
            "ticks": ""
           }
          },
          "scene": {
           "xaxis": {
            "backgroundcolor": "#E5ECF6",
            "gridcolor": "white",
            "gridwidth": 2,
            "linecolor": "white",
            "showbackground": true,
            "ticks": "",
            "zerolinecolor": "white"
           },
           "yaxis": {
            "backgroundcolor": "#E5ECF6",
            "gridcolor": "white",
            "gridwidth": 2,
            "linecolor": "white",
            "showbackground": true,
            "ticks": "",
            "zerolinecolor": "white"
           },
           "zaxis": {
            "backgroundcolor": "#E5ECF6",
            "gridcolor": "white",
            "gridwidth": 2,
            "linecolor": "white",
            "showbackground": true,
            "ticks": "",
            "zerolinecolor": "white"
           }
          },
          "shapedefaults": {
           "line": {
            "color": "#2a3f5f"
           }
          },
          "ternary": {
           "aaxis": {
            "gridcolor": "white",
            "linecolor": "white",
            "ticks": ""
           },
           "baxis": {
            "gridcolor": "white",
            "linecolor": "white",
            "ticks": ""
           },
           "bgcolor": "#E5ECF6",
           "caxis": {
            "gridcolor": "white",
            "linecolor": "white",
            "ticks": ""
           }
          },
          "title": {
           "x": 0.05
          },
          "xaxis": {
           "automargin": true,
           "gridcolor": "white",
           "linecolor": "white",
           "ticks": "",
           "title": {
            "standoff": 15
           },
           "zerolinecolor": "white",
           "zerolinewidth": 2
          },
          "yaxis": {
           "automargin": true,
           "gridcolor": "white",
           "linecolor": "white",
           "ticks": "",
           "title": {
            "standoff": 15
           },
           "zerolinecolor": "white",
           "zerolinewidth": 2
          }
         }
        },
        "xaxis": {
         "anchor": "y",
         "domain": [
          0,
          1
         ],
         "title": {
          "text": "index"
         }
        },
        "yaxis": {
         "anchor": "x",
         "domain": [
          0,
          1
         ],
         "title": {
          "text": "Delta"
         },
         "type": "log"
        }
       }
      }
     },
     "metadata": {},
     "output_type": "display_data"
    }
   ],
   "source": [
    "px.line(greeks_df, y=\"Delta\", log_y=True)"
   ]
  },
  {
   "cell_type": "markdown",
   "metadata": {},
   "source": [
    "### Gamma"
   ]
  },
  {
   "cell_type": "code",
   "execution_count": 44,
   "metadata": {},
   "outputs": [
    {
     "data": {
      "application/vnd.plotly.v1+json": {
       "config": {
        "plotlyServerURL": "https://plot.ly"
       },
       "data": [
        {
         "hovertemplate": "index=%{x}<br>Gamma=%{y}<extra></extra>",
         "legendgroup": "",
         "line": {
          "color": "#636efa",
          "dash": "solid"
         },
         "marker": {
          "symbol": "circle"
         },
         "mode": "lines",
         "name": "",
         "orientation": "v",
         "showlegend": false,
         "type": "scatter",
         "x": [
          0,
          1,
          2,
          3,
          4,
          5,
          6,
          7,
          8,
          9,
          10,
          11,
          12,
          13,
          14,
          15,
          16,
          17,
          18,
          19,
          20,
          21,
          22,
          23,
          24,
          25,
          26,
          27,
          28,
          29,
          30,
          31,
          32,
          33,
          34,
          35,
          36,
          37,
          38,
          39,
          40,
          41,
          42,
          43,
          44,
          45,
          46,
          47,
          48,
          49,
          50,
          51,
          52,
          53,
          54,
          55,
          56,
          57,
          58,
          59,
          60,
          61,
          62,
          63,
          64,
          65,
          66,
          67,
          68,
          69,
          70,
          71,
          72,
          73,
          74,
          75,
          76,
          77,
          78,
          79,
          80,
          81,
          82,
          83,
          84,
          85,
          86,
          87,
          88,
          89,
          90,
          91,
          92,
          93,
          94,
          95,
          96,
          97,
          98,
          99,
          100,
          101,
          102,
          103,
          104,
          105,
          106,
          107,
          108,
          109,
          110,
          111,
          112,
          113,
          114,
          115,
          116,
          117,
          118,
          119,
          120,
          121,
          122,
          123,
          124,
          125,
          126,
          127,
          128,
          129,
          130,
          131,
          132,
          133,
          134,
          135,
          136,
          137,
          138,
          139,
          140,
          141,
          142,
          143,
          144,
          145,
          146,
          147,
          148,
          149,
          150,
          151,
          152,
          153,
          154,
          155,
          156,
          157,
          158,
          159,
          160,
          161,
          162,
          163,
          164,
          165,
          166,
          167,
          168,
          169,
          170,
          171,
          172,
          173,
          174,
          175,
          176,
          177,
          178,
          179,
          180,
          181,
          182,
          183,
          184,
          185,
          186,
          187,
          188,
          189,
          190,
          191,
          192,
          193,
          194,
          195,
          196,
          197,
          198,
          199,
          200,
          201,
          202,
          203,
          204,
          205,
          206,
          207,
          208,
          209,
          210,
          211,
          212,
          213,
          214,
          215,
          216,
          217,
          218,
          219,
          220,
          221,
          222,
          223,
          224,
          225,
          226,
          227,
          228,
          229,
          230,
          231,
          232,
          233,
          234,
          235,
          236,
          237,
          238,
          239,
          240,
          241,
          242,
          243,
          244,
          245,
          246,
          247,
          248,
          249,
          250,
          251,
          252,
          253,
          254,
          255,
          256,
          257,
          258,
          259,
          260,
          261,
          262,
          263,
          264,
          265,
          266,
          267,
          268,
          269,
          270,
          271,
          272,
          273,
          274,
          275,
          276,
          277,
          278,
          279,
          280,
          281,
          282,
          283,
          284,
          285,
          286,
          287,
          288,
          289,
          290,
          291,
          292,
          293,
          294,
          295,
          296,
          297,
          298,
          299,
          300,
          301,
          302,
          303,
          304,
          305,
          306,
          307,
          308,
          309,
          310,
          311,
          312,
          313,
          314,
          315,
          316,
          317,
          318,
          319,
          320,
          321,
          322,
          323,
          324,
          325,
          326,
          327,
          328,
          329,
          330,
          331,
          332,
          333,
          334,
          335,
          336,
          337,
          338,
          339,
          340,
          341,
          342,
          343,
          344,
          345,
          346,
          347,
          348,
          349,
          350,
          351,
          352,
          353,
          354,
          355,
          356,
          357,
          358,
          359,
          360,
          361,
          362,
          363,
          364,
          365,
          366,
          367,
          368,
          369,
          370,
          371,
          372,
          373,
          374,
          375,
          376,
          377
         ],
         "xaxis": "x",
         "y": [
          -1.4210854715202004e-10,
          2.7000623958883807e-9,
          2.8421709430404007e-9,
          -8.526512829121202e-10,
          1.1368683772161603e-9,
          -5.258016244624741e-9,
          -1.8474111129762605e-9,
          -1.9895196601282805e-9,
          -1.9895196601282805e-9,
          3.268496584496461e-9,
          7.105427357601002e-10,
          -3.126388037344441e-9,
          0,
          -2.2737367544323206e-9,
          5.684341886080801e-10,
          1.5631940186722204e-9,
          0,
          -1.1368683772161603e-9,
          8.526512829121202e-10,
          -3.410605131648481e-9,
          7.105427357601002e-10,
          -3.126388037344441e-9,
          1.7053025658242404e-9,
          -2.1316282072803006e-9,
          -2.842170943040401e-10,
          -1.2789769243681803e-9,
          -3.694822225952521e-9,
          9.947598300641403e-10,
          5.5422333389287814e-9,
          1.7053025658242404e-9,
          -4.263256414560601e-9,
          2.4158453015843406e-9,
          1.1368683772161603e-9,
          3.268496584496461e-9,
          -1.2789769243681803e-9,
          3.979039320256561e-9,
          2.5579538487363607e-9,
          -1.4210854715202004e-9,
          -3.410605131648481e-9,
          1.5631940186722204e-9,
          -2.4158453015843406e-9,
          -9.947598300641403e-10,
          4.263256414560601e-10,
          1.2789769243681803e-9,
          0,
          2.842170943040401e-10,
          1.2789769243681803e-9,
          7.531752999057062e-9,
          -5.684341886080801e-10,
          -2.9842794901924208e-9,
          -1.4210854715202004e-10,
          2.8421709430404007e-9,
          2.7000623958883807e-9,
          2.4158453015843406e-9,
          3.979039320256561e-9,
          3.836930773104541e-9,
          -1.1368683772161603e-9,
          1.1368683772161603e-9,
          -2.9842794901924208e-9,
          1.4210854715202004e-10,
          -1.4210854715202004e-10,
          9.947598300641403e-10,
          -7.105427357601002e-10,
          1.7053025658242404e-9,
          1.2789769243681803e-9,
          -1.8474111129762605e-9,
          2.4158453015843406e-9,
          -2.5579538487363607e-9,
          -8.526512829121202e-10,
          4.263256414560601e-10,
          2.9842794901924208e-9,
          8.526512829121202e-10,
          -1.1368683772161603e-9,
          8.526512829121202e-10,
          4.263256414560601e-10,
          1.8474111129762605e-9,
          2.4158453015843406e-9,
          4.831690603168681e-9,
          -2.1316282072803006e-9,
          1.5631940186722204e-9,
          -3.410605131648481e-9,
          2.2737367544323206e-9,
          5.684341886080801e-10,
          -6.252776074688882e-9,
          -2.842170943040401e-10,
          -5.684341886080801e-10,
          -2.5579538487363607e-9,
          2.842170943040401e-10,
          971160.580272315,
          996773.9116783451,
          984725.6997842825,
          -1011444.5210155745,
          0,
          0,
          0,
          972613.6511521601,
          973108.6315415336,
          0,
          0,
          0,
          0,
          975575.8427894604,
          0,
          0,
          0,
          981444.2026486619,
          -1.7053025658242404e-9,
          995623.0440967348,
          0,
          972793.7982940605,
          988018.5111613054,
          0,
          0,
          0,
          0,
          0,
          0,
          0,
          0,
          0,
          0,
          0,
          -1016442.6932933389,
          0,
          0,
          0,
          0,
          0,
          0,
          0,
          0,
          0,
          0,
          0,
          0,
          0,
          0,
          0,
          0,
          0,
          0,
          0,
          0,
          0,
          0,
          0,
          0,
          0,
          0,
          0,
          0,
          0,
          0,
          0,
          0,
          0,
          0,
          0,
          0,
          0,
          0,
          0,
          0,
          0,
          0,
          0,
          0,
          0,
          0,
          0,
          0,
          0,
          0,
          0,
          0,
          0,
          0,
          0,
          0,
          0,
          0,
          0,
          0,
          0,
          0,
          0,
          0,
          0,
          0,
          0,
          0,
          0,
          0,
          0,
          0,
          0,
          0,
          0,
          0,
          0,
          0,
          0,
          0,
          0,
          0,
          0,
          0,
          0,
          0,
          0,
          0,
          0,
          0,
          0,
          0,
          0,
          0,
          0,
          0,
          0,
          0,
          0,
          0,
          0,
          0,
          0,
          0,
          0,
          0,
          0,
          0,
          0,
          0,
          0,
          0,
          0,
          0,
          0,
          0,
          0,
          0,
          0,
          0,
          0,
          0,
          0,
          0,
          0,
          0,
          0,
          0,
          0,
          0,
          0,
          0,
          0,
          0,
          0,
          0,
          0,
          0,
          0,
          0,
          0,
          0,
          0,
          0,
          0,
          0,
          0,
          0,
          0,
          0,
          0,
          0,
          0,
          0,
          0,
          0,
          0,
          0,
          0,
          0,
          0,
          0,
          0,
          0,
          0,
          0,
          0,
          0,
          0,
          0,
          0,
          0,
          0,
          0,
          0,
          0,
          0,
          0,
          0,
          0,
          0,
          0,
          0,
          0,
          0,
          0,
          0,
          0,
          0,
          0,
          0,
          0,
          0,
          0,
          0,
          0,
          0,
          0,
          0,
          0,
          0,
          0,
          0,
          0,
          0,
          0,
          0,
          0,
          0,
          0,
          0,
          0,
          0,
          0,
          0,
          0,
          0,
          0,
          0,
          0,
          0,
          0,
          0,
          0,
          0,
          0,
          0,
          0,
          0,
          0,
          0,
          0,
          0,
          0,
          0,
          0,
          0,
          0,
          0,
          0,
          0,
          0,
          0,
          0,
          0,
          0,
          0,
          0,
          0,
          0,
          0,
          0,
          0,
          0,
          0
         ],
         "yaxis": "y"
        }
       ],
       "layout": {
        "legend": {
         "tracegroupgap": 0
        },
        "margin": {
         "t": 60
        },
        "template": {
         "data": {
          "bar": [
           {
            "error_x": {
             "color": "#2a3f5f"
            },
            "error_y": {
             "color": "#2a3f5f"
            },
            "marker": {
             "line": {
              "color": "#E5ECF6",
              "width": 0.5
             },
             "pattern": {
              "fillmode": "overlay",
              "size": 10,
              "solidity": 0.2
             }
            },
            "type": "bar"
           }
          ],
          "barpolar": [
           {
            "marker": {
             "line": {
              "color": "#E5ECF6",
              "width": 0.5
             },
             "pattern": {
              "fillmode": "overlay",
              "size": 10,
              "solidity": 0.2
             }
            },
            "type": "barpolar"
           }
          ],
          "carpet": [
           {
            "aaxis": {
             "endlinecolor": "#2a3f5f",
             "gridcolor": "white",
             "linecolor": "white",
             "minorgridcolor": "white",
             "startlinecolor": "#2a3f5f"
            },
            "baxis": {
             "endlinecolor": "#2a3f5f",
             "gridcolor": "white",
             "linecolor": "white",
             "minorgridcolor": "white",
             "startlinecolor": "#2a3f5f"
            },
            "type": "carpet"
           }
          ],
          "choropleth": [
           {
            "colorbar": {
             "outlinewidth": 0,
             "ticks": ""
            },
            "type": "choropleth"
           }
          ],
          "contour": [
           {
            "colorbar": {
             "outlinewidth": 0,
             "ticks": ""
            },
            "colorscale": [
             [
              0,
              "#0d0887"
             ],
             [
              0.1111111111111111,
              "#46039f"
             ],
             [
              0.2222222222222222,
              "#7201a8"
             ],
             [
              0.3333333333333333,
              "#9c179e"
             ],
             [
              0.4444444444444444,
              "#bd3786"
             ],
             [
              0.5555555555555556,
              "#d8576b"
             ],
             [
              0.6666666666666666,
              "#ed7953"
             ],
             [
              0.7777777777777778,
              "#fb9f3a"
             ],
             [
              0.8888888888888888,
              "#fdca26"
             ],
             [
              1,
              "#f0f921"
             ]
            ],
            "type": "contour"
           }
          ],
          "contourcarpet": [
           {
            "colorbar": {
             "outlinewidth": 0,
             "ticks": ""
            },
            "type": "contourcarpet"
           }
          ],
          "heatmap": [
           {
            "colorbar": {
             "outlinewidth": 0,
             "ticks": ""
            },
            "colorscale": [
             [
              0,
              "#0d0887"
             ],
             [
              0.1111111111111111,
              "#46039f"
             ],
             [
              0.2222222222222222,
              "#7201a8"
             ],
             [
              0.3333333333333333,
              "#9c179e"
             ],
             [
              0.4444444444444444,
              "#bd3786"
             ],
             [
              0.5555555555555556,
              "#d8576b"
             ],
             [
              0.6666666666666666,
              "#ed7953"
             ],
             [
              0.7777777777777778,
              "#fb9f3a"
             ],
             [
              0.8888888888888888,
              "#fdca26"
             ],
             [
              1,
              "#f0f921"
             ]
            ],
            "type": "heatmap"
           }
          ],
          "heatmapgl": [
           {
            "colorbar": {
             "outlinewidth": 0,
             "ticks": ""
            },
            "colorscale": [
             [
              0,
              "#0d0887"
             ],
             [
              0.1111111111111111,
              "#46039f"
             ],
             [
              0.2222222222222222,
              "#7201a8"
             ],
             [
              0.3333333333333333,
              "#9c179e"
             ],
             [
              0.4444444444444444,
              "#bd3786"
             ],
             [
              0.5555555555555556,
              "#d8576b"
             ],
             [
              0.6666666666666666,
              "#ed7953"
             ],
             [
              0.7777777777777778,
              "#fb9f3a"
             ],
             [
              0.8888888888888888,
              "#fdca26"
             ],
             [
              1,
              "#f0f921"
             ]
            ],
            "type": "heatmapgl"
           }
          ],
          "histogram": [
           {
            "marker": {
             "pattern": {
              "fillmode": "overlay",
              "size": 10,
              "solidity": 0.2
             }
            },
            "type": "histogram"
           }
          ],
          "histogram2d": [
           {
            "colorbar": {
             "outlinewidth": 0,
             "ticks": ""
            },
            "colorscale": [
             [
              0,
              "#0d0887"
             ],
             [
              0.1111111111111111,
              "#46039f"
             ],
             [
              0.2222222222222222,
              "#7201a8"
             ],
             [
              0.3333333333333333,
              "#9c179e"
             ],
             [
              0.4444444444444444,
              "#bd3786"
             ],
             [
              0.5555555555555556,
              "#d8576b"
             ],
             [
              0.6666666666666666,
              "#ed7953"
             ],
             [
              0.7777777777777778,
              "#fb9f3a"
             ],
             [
              0.8888888888888888,
              "#fdca26"
             ],
             [
              1,
              "#f0f921"
             ]
            ],
            "type": "histogram2d"
           }
          ],
          "histogram2dcontour": [
           {
            "colorbar": {
             "outlinewidth": 0,
             "ticks": ""
            },
            "colorscale": [
             [
              0,
              "#0d0887"
             ],
             [
              0.1111111111111111,
              "#46039f"
             ],
             [
              0.2222222222222222,
              "#7201a8"
             ],
             [
              0.3333333333333333,
              "#9c179e"
             ],
             [
              0.4444444444444444,
              "#bd3786"
             ],
             [
              0.5555555555555556,
              "#d8576b"
             ],
             [
              0.6666666666666666,
              "#ed7953"
             ],
             [
              0.7777777777777778,
              "#fb9f3a"
             ],
             [
              0.8888888888888888,
              "#fdca26"
             ],
             [
              1,
              "#f0f921"
             ]
            ],
            "type": "histogram2dcontour"
           }
          ],
          "mesh3d": [
           {
            "colorbar": {
             "outlinewidth": 0,
             "ticks": ""
            },
            "type": "mesh3d"
           }
          ],
          "parcoords": [
           {
            "line": {
             "colorbar": {
              "outlinewidth": 0,
              "ticks": ""
             }
            },
            "type": "parcoords"
           }
          ],
          "pie": [
           {
            "automargin": true,
            "type": "pie"
           }
          ],
          "scatter": [
           {
            "marker": {
             "colorbar": {
              "outlinewidth": 0,
              "ticks": ""
             }
            },
            "type": "scatter"
           }
          ],
          "scatter3d": [
           {
            "line": {
             "colorbar": {
              "outlinewidth": 0,
              "ticks": ""
             }
            },
            "marker": {
             "colorbar": {
              "outlinewidth": 0,
              "ticks": ""
             }
            },
            "type": "scatter3d"
           }
          ],
          "scattercarpet": [
           {
            "marker": {
             "colorbar": {
              "outlinewidth": 0,
              "ticks": ""
             }
            },
            "type": "scattercarpet"
           }
          ],
          "scattergeo": [
           {
            "marker": {
             "colorbar": {
              "outlinewidth": 0,
              "ticks": ""
             }
            },
            "type": "scattergeo"
           }
          ],
          "scattergl": [
           {
            "marker": {
             "colorbar": {
              "outlinewidth": 0,
              "ticks": ""
             }
            },
            "type": "scattergl"
           }
          ],
          "scattermapbox": [
           {
            "marker": {
             "colorbar": {
              "outlinewidth": 0,
              "ticks": ""
             }
            },
            "type": "scattermapbox"
           }
          ],
          "scatterpolar": [
           {
            "marker": {
             "colorbar": {
              "outlinewidth": 0,
              "ticks": ""
             }
            },
            "type": "scatterpolar"
           }
          ],
          "scatterpolargl": [
           {
            "marker": {
             "colorbar": {
              "outlinewidth": 0,
              "ticks": ""
             }
            },
            "type": "scatterpolargl"
           }
          ],
          "scatterternary": [
           {
            "marker": {
             "colorbar": {
              "outlinewidth": 0,
              "ticks": ""
             }
            },
            "type": "scatterternary"
           }
          ],
          "surface": [
           {
            "colorbar": {
             "outlinewidth": 0,
             "ticks": ""
            },
            "colorscale": [
             [
              0,
              "#0d0887"
             ],
             [
              0.1111111111111111,
              "#46039f"
             ],
             [
              0.2222222222222222,
              "#7201a8"
             ],
             [
              0.3333333333333333,
              "#9c179e"
             ],
             [
              0.4444444444444444,
              "#bd3786"
             ],
             [
              0.5555555555555556,
              "#d8576b"
             ],
             [
              0.6666666666666666,
              "#ed7953"
             ],
             [
              0.7777777777777778,
              "#fb9f3a"
             ],
             [
              0.8888888888888888,
              "#fdca26"
             ],
             [
              1,
              "#f0f921"
             ]
            ],
            "type": "surface"
           }
          ],
          "table": [
           {
            "cells": {
             "fill": {
              "color": "#EBF0F8"
             },
             "line": {
              "color": "white"
             }
            },
            "header": {
             "fill": {
              "color": "#C8D4E3"
             },
             "line": {
              "color": "white"
             }
            },
            "type": "table"
           }
          ]
         },
         "layout": {
          "annotationdefaults": {
           "arrowcolor": "#2a3f5f",
           "arrowhead": 0,
           "arrowwidth": 1
          },
          "autotypenumbers": "strict",
          "coloraxis": {
           "colorbar": {
            "outlinewidth": 0,
            "ticks": ""
           }
          },
          "colorscale": {
           "diverging": [
            [
             0,
             "#8e0152"
            ],
            [
             0.1,
             "#c51b7d"
            ],
            [
             0.2,
             "#de77ae"
            ],
            [
             0.3,
             "#f1b6da"
            ],
            [
             0.4,
             "#fde0ef"
            ],
            [
             0.5,
             "#f7f7f7"
            ],
            [
             0.6,
             "#e6f5d0"
            ],
            [
             0.7,
             "#b8e186"
            ],
            [
             0.8,
             "#7fbc41"
            ],
            [
             0.9,
             "#4d9221"
            ],
            [
             1,
             "#276419"
            ]
           ],
           "sequential": [
            [
             0,
             "#0d0887"
            ],
            [
             0.1111111111111111,
             "#46039f"
            ],
            [
             0.2222222222222222,
             "#7201a8"
            ],
            [
             0.3333333333333333,
             "#9c179e"
            ],
            [
             0.4444444444444444,
             "#bd3786"
            ],
            [
             0.5555555555555556,
             "#d8576b"
            ],
            [
             0.6666666666666666,
             "#ed7953"
            ],
            [
             0.7777777777777778,
             "#fb9f3a"
            ],
            [
             0.8888888888888888,
             "#fdca26"
            ],
            [
             1,
             "#f0f921"
            ]
           ],
           "sequentialminus": [
            [
             0,
             "#0d0887"
            ],
            [
             0.1111111111111111,
             "#46039f"
            ],
            [
             0.2222222222222222,
             "#7201a8"
            ],
            [
             0.3333333333333333,
             "#9c179e"
            ],
            [
             0.4444444444444444,
             "#bd3786"
            ],
            [
             0.5555555555555556,
             "#d8576b"
            ],
            [
             0.6666666666666666,
             "#ed7953"
            ],
            [
             0.7777777777777778,
             "#fb9f3a"
            ],
            [
             0.8888888888888888,
             "#fdca26"
            ],
            [
             1,
             "#f0f921"
            ]
           ]
          },
          "colorway": [
           "#636efa",
           "#EF553B",
           "#00cc96",
           "#ab63fa",
           "#FFA15A",
           "#19d3f3",
           "#FF6692",
           "#B6E880",
           "#FF97FF",
           "#FECB52"
          ],
          "font": {
           "color": "#2a3f5f"
          },
          "geo": {
           "bgcolor": "white",
           "lakecolor": "white",
           "landcolor": "#E5ECF6",
           "showlakes": true,
           "showland": true,
           "subunitcolor": "white"
          },
          "hoverlabel": {
           "align": "left"
          },
          "hovermode": "closest",
          "mapbox": {
           "style": "light"
          },
          "paper_bgcolor": "white",
          "plot_bgcolor": "#E5ECF6",
          "polar": {
           "angularaxis": {
            "gridcolor": "white",
            "linecolor": "white",
            "ticks": ""
           },
           "bgcolor": "#E5ECF6",
           "radialaxis": {
            "gridcolor": "white",
            "linecolor": "white",
            "ticks": ""
           }
          },
          "scene": {
           "xaxis": {
            "backgroundcolor": "#E5ECF6",
            "gridcolor": "white",
            "gridwidth": 2,
            "linecolor": "white",
            "showbackground": true,
            "ticks": "",
            "zerolinecolor": "white"
           },
           "yaxis": {
            "backgroundcolor": "#E5ECF6",
            "gridcolor": "white",
            "gridwidth": 2,
            "linecolor": "white",
            "showbackground": true,
            "ticks": "",
            "zerolinecolor": "white"
           },
           "zaxis": {
            "backgroundcolor": "#E5ECF6",
            "gridcolor": "white",
            "gridwidth": 2,
            "linecolor": "white",
            "showbackground": true,
            "ticks": "",
            "zerolinecolor": "white"
           }
          },
          "shapedefaults": {
           "line": {
            "color": "#2a3f5f"
           }
          },
          "ternary": {
           "aaxis": {
            "gridcolor": "white",
            "linecolor": "white",
            "ticks": ""
           },
           "baxis": {
            "gridcolor": "white",
            "linecolor": "white",
            "ticks": ""
           },
           "bgcolor": "#E5ECF6",
           "caxis": {
            "gridcolor": "white",
            "linecolor": "white",
            "ticks": ""
           }
          },
          "title": {
           "x": 0.05
          },
          "xaxis": {
           "automargin": true,
           "gridcolor": "white",
           "linecolor": "white",
           "ticks": "",
           "title": {
            "standoff": 15
           },
           "zerolinecolor": "white",
           "zerolinewidth": 2
          },
          "yaxis": {
           "automargin": true,
           "gridcolor": "white",
           "linecolor": "white",
           "ticks": "",
           "title": {
            "standoff": 15
           },
           "zerolinecolor": "white",
           "zerolinewidth": 2
          }
         }
        },
        "xaxis": {
         "anchor": "y",
         "domain": [
          0,
          1
         ],
         "title": {
          "text": "index"
         }
        },
        "yaxis": {
         "anchor": "x",
         "domain": [
          0,
          1
         ],
         "title": {
          "text": "Gamma"
         }
        }
       }
      }
     },
     "metadata": {},
     "output_type": "display_data"
    }
   ],
   "source": [
    "px.line(greeks_df, y=\"Gamma\")"
   ]
  },
  {
   "cell_type": "markdown",
   "metadata": {},
   "source": [
    "### Vega"
   ]
  },
  {
   "cell_type": "code",
   "execution_count": 43,
   "metadata": {},
   "outputs": [
    {
     "data": {
      "application/vnd.plotly.v1+json": {
       "config": {
        "plotlyServerURL": "https://plot.ly"
       },
       "data": [
        {
         "hovertemplate": "index=%{x}<br>Vega=%{y}<extra></extra>",
         "legendgroup": "",
         "line": {
          "color": "#636efa",
          "dash": "solid"
         },
         "marker": {
          "symbol": "circle"
         },
         "mode": "lines",
         "name": "",
         "orientation": "v",
         "showlegend": false,
         "type": "scatter",
         "x": [
          0,
          1,
          2,
          3,
          4,
          5,
          6,
          7,
          8,
          9,
          10,
          11,
          12,
          13,
          14,
          15,
          16,
          17,
          18,
          19,
          20,
          21,
          22,
          23,
          24,
          25,
          26,
          27,
          28,
          29,
          30,
          31,
          32,
          33,
          34,
          35,
          36,
          37,
          38,
          39,
          40,
          41,
          42,
          43,
          44,
          45,
          46,
          47,
          48,
          49,
          50,
          51,
          52,
          53,
          54,
          55,
          56,
          57,
          58,
          59,
          60,
          61,
          62,
          63,
          64,
          65,
          66,
          67,
          68,
          69,
          70,
          71,
          72,
          73,
          74,
          75,
          76,
          77,
          78,
          79,
          80,
          81,
          82,
          83,
          84,
          85,
          86,
          87,
          88,
          89,
          90,
          91,
          92,
          93,
          94,
          95,
          96,
          97,
          98,
          99,
          100,
          101,
          102,
          103,
          104,
          105,
          106,
          107,
          108,
          109,
          110,
          111,
          112,
          113,
          114,
          115,
          116,
          117,
          118,
          119,
          120,
          121,
          122,
          123,
          124,
          125,
          126,
          127,
          128,
          129,
          130,
          131,
          132,
          133,
          134,
          135,
          136,
          137,
          138,
          139,
          140,
          141,
          142,
          143,
          144,
          145,
          146,
          147,
          148,
          149,
          150,
          151,
          152,
          153,
          154,
          155,
          156,
          157,
          158,
          159,
          160,
          161,
          162,
          163,
          164,
          165,
          166,
          167,
          168,
          169,
          170,
          171,
          172,
          173,
          174,
          175,
          176,
          177,
          178,
          179,
          180,
          181,
          182,
          183,
          184,
          185,
          186,
          187,
          188,
          189,
          190,
          191,
          192,
          193,
          194,
          195,
          196,
          197,
          198,
          199,
          200,
          201,
          202,
          203,
          204,
          205,
          206,
          207,
          208,
          209,
          210,
          211,
          212,
          213,
          214,
          215,
          216,
          217,
          218,
          219,
          220,
          221,
          222,
          223,
          224,
          225,
          226,
          227,
          228,
          229,
          230,
          231,
          232,
          233,
          234,
          235,
          236,
          237,
          238,
          239,
          240,
          241,
          242,
          243,
          244,
          245,
          246,
          247,
          248,
          249,
          250,
          251,
          252,
          253,
          254,
          255,
          256,
          257,
          258,
          259,
          260,
          261,
          262,
          263,
          264,
          265,
          266,
          267,
          268,
          269,
          270,
          271,
          272,
          273,
          274,
          275,
          276,
          277,
          278,
          279,
          280,
          281,
          282,
          283,
          284,
          285,
          286,
          287,
          288,
          289,
          290,
          291,
          292,
          293,
          294,
          295,
          296,
          297,
          298,
          299,
          300,
          301,
          302,
          303,
          304,
          305,
          306,
          307,
          308,
          309,
          310,
          311,
          312,
          313,
          314,
          315,
          316,
          317,
          318,
          319,
          320,
          321,
          322,
          323,
          324,
          325,
          326,
          327,
          328,
          329,
          330,
          331,
          332,
          333,
          334,
          335,
          336,
          337,
          338,
          339,
          340,
          341,
          342,
          343,
          344,
          345,
          346,
          347,
          348,
          349,
          350,
          351,
          352,
          353,
          354,
          355,
          356,
          357,
          358,
          359,
          360,
          361,
          362,
          363,
          364,
          365,
          366,
          367,
          368,
          369,
          370,
          371,
          372,
          373,
          374,
          375,
          376,
          377
         ],
         "xaxis": "x",
         "y": [
          -207.18475155854748,
          -214.75372608807106,
          -216.15091800702402,
          -216.88310458932563,
          -216.85627830608638,
          -215.1240304508974,
          -218.55112627131206,
          -219.82058255776877,
          -219.03663020366508,
          -216.91983682141398,
          -216.34792734504487,
          -224.25700434708205,
          -223.3873076693584,
          -215.96756156726542,
          -210.43621419207454,
          -218.26949558040525,
          -222.5534443857086,
          -223.50594301536404,
          -224.27473688095176,
          -223.98729134012711,
          -218.14020513877068,
          -216.2730829793702,
          -217.78494955338914,
          -218.79685528255663,
          -218.28595759442777,
          -212.33974107650653,
          -209.37653969631782,
          -208.18170979528503,
          -211.39183339503944,
          -210.72453494570027,
          -209.28921927633013,
          -204.44791365743953,
          -202.53524491545818,
          -196.62530092433457,
          -190.71474147312983,
          -191.78145065870638,
          -197.53103788543172,
          -195.75753960510127,
          -194.36384808883673,
          -198.70834819930963,
          -196.29178124868503,
          -197.94240572374804,
          -201.19365756979306,
          -197.5212208713927,
          -197.83542784374646,
          -198.88779600036912,
          -193.9362381584843,
          -195.67963504138817,
          -197.95404288152412,
          -194.24378021433597,
          -197.23584014670763,
          -196.89549039124756,
          -193.64001559561927,
          -190.74072554929273,
          -188.3492190084894,
          -186.09536095763133,
          -181.32956001236238,
          -176.34824257282702,
          -177.84537330670815,
          -185.91514518333128,
          -187.08937675424266,
          -187.11507273940526,
          -184.8114882545218,
          -187.79550475920104,
          -184.58261900645851,
          -182.09785028198837,
          -177.5177232855043,
          -182.11306353840513,
          -182.1611653086194,
          -181.30420584362525,
          -180.98782868285497,
          -181.12183245348206,
          -179.26952319764666,
          -184.54496843549606,
          -181.62504945077416,
          -187.04970444774744,
          -185.39516322872203,
          -182.94340419427186,
          -175.63521018535795,
          -175.3040182826112,
          -178.95435012705718,
          -183.30746892288516,
          -185.3941588136223,
          -188.2431996939573,
          -189.48294294449397,
          -189.45039838583284,
          -186.1864590188901,
          -193.92667026764627,
          -10106.872211182828,
          -194.0289709718428,
          -187.80281518861273,
          0,
          0,
          0,
          0,
          -10119.041212841508,
          -10126.073865541272,
          0,
          0,
          0,
          0,
          -10151.530139087608,
          0,
          0,
          0,
          -202.73334117341903,
          -204.8497696453211,
          -204.69748720349514,
          0,
          -10128.627595605085,
          -201.34173612765665,
          0,
          0,
          0,
          0,
          0,
          0,
          0,
          0,
          0,
          0,
          0,
          0,
          0,
          0,
          0,
          0,
          0,
          0,
          0,
          0,
          0,
          0,
          0,
          0,
          0,
          0,
          0,
          0,
          0,
          0,
          0,
          0,
          0,
          0,
          0,
          0,
          0,
          0,
          0,
          0,
          0,
          0,
          0,
          0,
          0,
          0,
          0,
          0,
          0,
          0,
          0,
          0,
          0,
          0,
          0,
          0,
          0,
          0,
          0,
          0,
          0,
          0,
          0,
          0,
          0,
          0,
          0,
          0,
          0,
          0,
          0,
          0,
          0,
          0,
          0,
          0,
          0,
          0,
          0,
          0,
          0,
          0,
          0,
          0,
          0,
          0,
          0,
          0,
          0,
          0,
          0,
          0,
          0,
          0,
          0,
          0,
          0,
          0,
          0,
          0,
          0,
          0,
          0,
          0,
          0,
          0,
          0,
          0,
          0,
          0,
          0,
          0,
          0,
          0,
          0,
          0,
          0,
          0,
          0,
          0,
          0,
          0,
          0,
          0,
          0,
          0,
          0,
          0,
          0,
          0,
          0,
          0,
          0,
          0,
          0,
          0,
          0,
          0,
          0,
          0,
          0,
          0,
          0,
          0,
          0,
          0,
          0,
          0,
          0,
          0,
          0,
          0,
          0,
          0,
          0,
          0,
          0,
          0,
          0,
          0,
          0,
          0,
          0,
          0,
          0,
          0,
          0,
          0,
          0,
          0,
          0,
          0,
          0,
          0,
          0,
          0,
          0,
          0,
          0,
          0,
          0,
          0,
          0,
          0,
          0,
          0,
          0,
          0,
          0,
          0,
          0,
          0,
          0,
          0,
          0,
          0,
          0,
          0,
          0,
          0,
          0,
          0,
          0,
          0,
          0,
          0,
          0,
          0,
          0,
          0,
          0,
          0,
          0,
          0,
          0,
          0,
          0,
          0,
          0,
          0,
          0,
          0,
          0,
          0,
          0,
          0,
          0,
          0,
          0,
          0,
          0,
          0,
          0,
          0,
          0,
          0,
          0,
          0,
          0,
          0,
          0,
          0,
          0,
          0,
          0,
          0,
          0,
          0,
          0,
          0,
          0,
          0,
          0,
          0,
          0,
          0,
          0,
          0,
          0,
          0,
          0,
          0,
          0,
          0,
          0,
          0,
          0
         ],
         "yaxis": "y"
        }
       ],
       "layout": {
        "legend": {
         "tracegroupgap": 0
        },
        "margin": {
         "t": 60
        },
        "template": {
         "data": {
          "bar": [
           {
            "error_x": {
             "color": "#2a3f5f"
            },
            "error_y": {
             "color": "#2a3f5f"
            },
            "marker": {
             "line": {
              "color": "#E5ECF6",
              "width": 0.5
             },
             "pattern": {
              "fillmode": "overlay",
              "size": 10,
              "solidity": 0.2
             }
            },
            "type": "bar"
           }
          ],
          "barpolar": [
           {
            "marker": {
             "line": {
              "color": "#E5ECF6",
              "width": 0.5
             },
             "pattern": {
              "fillmode": "overlay",
              "size": 10,
              "solidity": 0.2
             }
            },
            "type": "barpolar"
           }
          ],
          "carpet": [
           {
            "aaxis": {
             "endlinecolor": "#2a3f5f",
             "gridcolor": "white",
             "linecolor": "white",
             "minorgridcolor": "white",
             "startlinecolor": "#2a3f5f"
            },
            "baxis": {
             "endlinecolor": "#2a3f5f",
             "gridcolor": "white",
             "linecolor": "white",
             "minorgridcolor": "white",
             "startlinecolor": "#2a3f5f"
            },
            "type": "carpet"
           }
          ],
          "choropleth": [
           {
            "colorbar": {
             "outlinewidth": 0,
             "ticks": ""
            },
            "type": "choropleth"
           }
          ],
          "contour": [
           {
            "colorbar": {
             "outlinewidth": 0,
             "ticks": ""
            },
            "colorscale": [
             [
              0,
              "#0d0887"
             ],
             [
              0.1111111111111111,
              "#46039f"
             ],
             [
              0.2222222222222222,
              "#7201a8"
             ],
             [
              0.3333333333333333,
              "#9c179e"
             ],
             [
              0.4444444444444444,
              "#bd3786"
             ],
             [
              0.5555555555555556,
              "#d8576b"
             ],
             [
              0.6666666666666666,
              "#ed7953"
             ],
             [
              0.7777777777777778,
              "#fb9f3a"
             ],
             [
              0.8888888888888888,
              "#fdca26"
             ],
             [
              1,
              "#f0f921"
             ]
            ],
            "type": "contour"
           }
          ],
          "contourcarpet": [
           {
            "colorbar": {
             "outlinewidth": 0,
             "ticks": ""
            },
            "type": "contourcarpet"
           }
          ],
          "heatmap": [
           {
            "colorbar": {
             "outlinewidth": 0,
             "ticks": ""
            },
            "colorscale": [
             [
              0,
              "#0d0887"
             ],
             [
              0.1111111111111111,
              "#46039f"
             ],
             [
              0.2222222222222222,
              "#7201a8"
             ],
             [
              0.3333333333333333,
              "#9c179e"
             ],
             [
              0.4444444444444444,
              "#bd3786"
             ],
             [
              0.5555555555555556,
              "#d8576b"
             ],
             [
              0.6666666666666666,
              "#ed7953"
             ],
             [
              0.7777777777777778,
              "#fb9f3a"
             ],
             [
              0.8888888888888888,
              "#fdca26"
             ],
             [
              1,
              "#f0f921"
             ]
            ],
            "type": "heatmap"
           }
          ],
          "heatmapgl": [
           {
            "colorbar": {
             "outlinewidth": 0,
             "ticks": ""
            },
            "colorscale": [
             [
              0,
              "#0d0887"
             ],
             [
              0.1111111111111111,
              "#46039f"
             ],
             [
              0.2222222222222222,
              "#7201a8"
             ],
             [
              0.3333333333333333,
              "#9c179e"
             ],
             [
              0.4444444444444444,
              "#bd3786"
             ],
             [
              0.5555555555555556,
              "#d8576b"
             ],
             [
              0.6666666666666666,
              "#ed7953"
             ],
             [
              0.7777777777777778,
              "#fb9f3a"
             ],
             [
              0.8888888888888888,
              "#fdca26"
             ],
             [
              1,
              "#f0f921"
             ]
            ],
            "type": "heatmapgl"
           }
          ],
          "histogram": [
           {
            "marker": {
             "pattern": {
              "fillmode": "overlay",
              "size": 10,
              "solidity": 0.2
             }
            },
            "type": "histogram"
           }
          ],
          "histogram2d": [
           {
            "colorbar": {
             "outlinewidth": 0,
             "ticks": ""
            },
            "colorscale": [
             [
              0,
              "#0d0887"
             ],
             [
              0.1111111111111111,
              "#46039f"
             ],
             [
              0.2222222222222222,
              "#7201a8"
             ],
             [
              0.3333333333333333,
              "#9c179e"
             ],
             [
              0.4444444444444444,
              "#bd3786"
             ],
             [
              0.5555555555555556,
              "#d8576b"
             ],
             [
              0.6666666666666666,
              "#ed7953"
             ],
             [
              0.7777777777777778,
              "#fb9f3a"
             ],
             [
              0.8888888888888888,
              "#fdca26"
             ],
             [
              1,
              "#f0f921"
             ]
            ],
            "type": "histogram2d"
           }
          ],
          "histogram2dcontour": [
           {
            "colorbar": {
             "outlinewidth": 0,
             "ticks": ""
            },
            "colorscale": [
             [
              0,
              "#0d0887"
             ],
             [
              0.1111111111111111,
              "#46039f"
             ],
             [
              0.2222222222222222,
              "#7201a8"
             ],
             [
              0.3333333333333333,
              "#9c179e"
             ],
             [
              0.4444444444444444,
              "#bd3786"
             ],
             [
              0.5555555555555556,
              "#d8576b"
             ],
             [
              0.6666666666666666,
              "#ed7953"
             ],
             [
              0.7777777777777778,
              "#fb9f3a"
             ],
             [
              0.8888888888888888,
              "#fdca26"
             ],
             [
              1,
              "#f0f921"
             ]
            ],
            "type": "histogram2dcontour"
           }
          ],
          "mesh3d": [
           {
            "colorbar": {
             "outlinewidth": 0,
             "ticks": ""
            },
            "type": "mesh3d"
           }
          ],
          "parcoords": [
           {
            "line": {
             "colorbar": {
              "outlinewidth": 0,
              "ticks": ""
             }
            },
            "type": "parcoords"
           }
          ],
          "pie": [
           {
            "automargin": true,
            "type": "pie"
           }
          ],
          "scatter": [
           {
            "marker": {
             "colorbar": {
              "outlinewidth": 0,
              "ticks": ""
             }
            },
            "type": "scatter"
           }
          ],
          "scatter3d": [
           {
            "line": {
             "colorbar": {
              "outlinewidth": 0,
              "ticks": ""
             }
            },
            "marker": {
             "colorbar": {
              "outlinewidth": 0,
              "ticks": ""
             }
            },
            "type": "scatter3d"
           }
          ],
          "scattercarpet": [
           {
            "marker": {
             "colorbar": {
              "outlinewidth": 0,
              "ticks": ""
             }
            },
            "type": "scattercarpet"
           }
          ],
          "scattergeo": [
           {
            "marker": {
             "colorbar": {
              "outlinewidth": 0,
              "ticks": ""
             }
            },
            "type": "scattergeo"
           }
          ],
          "scattergl": [
           {
            "marker": {
             "colorbar": {
              "outlinewidth": 0,
              "ticks": ""
             }
            },
            "type": "scattergl"
           }
          ],
          "scattermapbox": [
           {
            "marker": {
             "colorbar": {
              "outlinewidth": 0,
              "ticks": ""
             }
            },
            "type": "scattermapbox"
           }
          ],
          "scatterpolar": [
           {
            "marker": {
             "colorbar": {
              "outlinewidth": 0,
              "ticks": ""
             }
            },
            "type": "scatterpolar"
           }
          ],
          "scatterpolargl": [
           {
            "marker": {
             "colorbar": {
              "outlinewidth": 0,
              "ticks": ""
             }
            },
            "type": "scatterpolargl"
           }
          ],
          "scatterternary": [
           {
            "marker": {
             "colorbar": {
              "outlinewidth": 0,
              "ticks": ""
             }
            },
            "type": "scatterternary"
           }
          ],
          "surface": [
           {
            "colorbar": {
             "outlinewidth": 0,
             "ticks": ""
            },
            "colorscale": [
             [
              0,
              "#0d0887"
             ],
             [
              0.1111111111111111,
              "#46039f"
             ],
             [
              0.2222222222222222,
              "#7201a8"
             ],
             [
              0.3333333333333333,
              "#9c179e"
             ],
             [
              0.4444444444444444,
              "#bd3786"
             ],
             [
              0.5555555555555556,
              "#d8576b"
             ],
             [
              0.6666666666666666,
              "#ed7953"
             ],
             [
              0.7777777777777778,
              "#fb9f3a"
             ],
             [
              0.8888888888888888,
              "#fdca26"
             ],
             [
              1,
              "#f0f921"
             ]
            ],
            "type": "surface"
           }
          ],
          "table": [
           {
            "cells": {
             "fill": {
              "color": "#EBF0F8"
             },
             "line": {
              "color": "white"
             }
            },
            "header": {
             "fill": {
              "color": "#C8D4E3"
             },
             "line": {
              "color": "white"
             }
            },
            "type": "table"
           }
          ]
         },
         "layout": {
          "annotationdefaults": {
           "arrowcolor": "#2a3f5f",
           "arrowhead": 0,
           "arrowwidth": 1
          },
          "autotypenumbers": "strict",
          "coloraxis": {
           "colorbar": {
            "outlinewidth": 0,
            "ticks": ""
           }
          },
          "colorscale": {
           "diverging": [
            [
             0,
             "#8e0152"
            ],
            [
             0.1,
             "#c51b7d"
            ],
            [
             0.2,
             "#de77ae"
            ],
            [
             0.3,
             "#f1b6da"
            ],
            [
             0.4,
             "#fde0ef"
            ],
            [
             0.5,
             "#f7f7f7"
            ],
            [
             0.6,
             "#e6f5d0"
            ],
            [
             0.7,
             "#b8e186"
            ],
            [
             0.8,
             "#7fbc41"
            ],
            [
             0.9,
             "#4d9221"
            ],
            [
             1,
             "#276419"
            ]
           ],
           "sequential": [
            [
             0,
             "#0d0887"
            ],
            [
             0.1111111111111111,
             "#46039f"
            ],
            [
             0.2222222222222222,
             "#7201a8"
            ],
            [
             0.3333333333333333,
             "#9c179e"
            ],
            [
             0.4444444444444444,
             "#bd3786"
            ],
            [
             0.5555555555555556,
             "#d8576b"
            ],
            [
             0.6666666666666666,
             "#ed7953"
            ],
            [
             0.7777777777777778,
             "#fb9f3a"
            ],
            [
             0.8888888888888888,
             "#fdca26"
            ],
            [
             1,
             "#f0f921"
            ]
           ],
           "sequentialminus": [
            [
             0,
             "#0d0887"
            ],
            [
             0.1111111111111111,
             "#46039f"
            ],
            [
             0.2222222222222222,
             "#7201a8"
            ],
            [
             0.3333333333333333,
             "#9c179e"
            ],
            [
             0.4444444444444444,
             "#bd3786"
            ],
            [
             0.5555555555555556,
             "#d8576b"
            ],
            [
             0.6666666666666666,
             "#ed7953"
            ],
            [
             0.7777777777777778,
             "#fb9f3a"
            ],
            [
             0.8888888888888888,
             "#fdca26"
            ],
            [
             1,
             "#f0f921"
            ]
           ]
          },
          "colorway": [
           "#636efa",
           "#EF553B",
           "#00cc96",
           "#ab63fa",
           "#FFA15A",
           "#19d3f3",
           "#FF6692",
           "#B6E880",
           "#FF97FF",
           "#FECB52"
          ],
          "font": {
           "color": "#2a3f5f"
          },
          "geo": {
           "bgcolor": "white",
           "lakecolor": "white",
           "landcolor": "#E5ECF6",
           "showlakes": true,
           "showland": true,
           "subunitcolor": "white"
          },
          "hoverlabel": {
           "align": "left"
          },
          "hovermode": "closest",
          "mapbox": {
           "style": "light"
          },
          "paper_bgcolor": "white",
          "plot_bgcolor": "#E5ECF6",
          "polar": {
           "angularaxis": {
            "gridcolor": "white",
            "linecolor": "white",
            "ticks": ""
           },
           "bgcolor": "#E5ECF6",
           "radialaxis": {
            "gridcolor": "white",
            "linecolor": "white",
            "ticks": ""
           }
          },
          "scene": {
           "xaxis": {
            "backgroundcolor": "#E5ECF6",
            "gridcolor": "white",
            "gridwidth": 2,
            "linecolor": "white",
            "showbackground": true,
            "ticks": "",
            "zerolinecolor": "white"
           },
           "yaxis": {
            "backgroundcolor": "#E5ECF6",
            "gridcolor": "white",
            "gridwidth": 2,
            "linecolor": "white",
            "showbackground": true,
            "ticks": "",
            "zerolinecolor": "white"
           },
           "zaxis": {
            "backgroundcolor": "#E5ECF6",
            "gridcolor": "white",
            "gridwidth": 2,
            "linecolor": "white",
            "showbackground": true,
            "ticks": "",
            "zerolinecolor": "white"
           }
          },
          "shapedefaults": {
           "line": {
            "color": "#2a3f5f"
           }
          },
          "ternary": {
           "aaxis": {
            "gridcolor": "white",
            "linecolor": "white",
            "ticks": ""
           },
           "baxis": {
            "gridcolor": "white",
            "linecolor": "white",
            "ticks": ""
           },
           "bgcolor": "#E5ECF6",
           "caxis": {
            "gridcolor": "white",
            "linecolor": "white",
            "ticks": ""
           }
          },
          "title": {
           "x": 0.05
          },
          "xaxis": {
           "automargin": true,
           "gridcolor": "white",
           "linecolor": "white",
           "ticks": "",
           "title": {
            "standoff": 15
           },
           "zerolinecolor": "white",
           "zerolinewidth": 2
          },
          "yaxis": {
           "automargin": true,
           "gridcolor": "white",
           "linecolor": "white",
           "ticks": "",
           "title": {
            "standoff": 15
           },
           "zerolinecolor": "white",
           "zerolinewidth": 2
          }
         }
        },
        "xaxis": {
         "anchor": "y",
         "domain": [
          0,
          1
         ],
         "title": {
          "text": "index"
         }
        },
        "yaxis": {
         "anchor": "x",
         "domain": [
          0,
          1
         ],
         "title": {
          "text": "Vega"
         }
        }
       }
      }
     },
     "metadata": {},
     "output_type": "display_data"
    }
   ],
   "source": [
    "px.line(greeks_df, y=\"Vega\")"
   ]
  },
  {
   "cell_type": "markdown",
   "metadata": {},
   "source": [
    "### Theta"
   ]
  },
  {
   "cell_type": "code",
   "execution_count": 38,
   "metadata": {},
   "outputs": [
    {
     "data": {
      "application/vnd.plotly.v1+json": {
       "config": {
        "plotlyServerURL": "https://plot.ly"
       },
       "data": [
        {
         "hovertemplate": "index=%{x}<br>Theta=%{y}<extra></extra>",
         "legendgroup": "",
         "line": {
          "color": "#636efa",
          "dash": "solid"
         },
         "marker": {
          "symbol": "circle"
         },
         "mode": "lines",
         "name": "",
         "orientation": "v",
         "showlegend": false,
         "type": "scatter",
         "x": [
          0,
          1,
          2,
          3,
          4,
          5,
          6,
          7,
          8,
          9,
          10,
          11,
          12,
          13,
          14,
          15,
          16,
          17,
          18,
          19,
          20,
          21,
          22,
          23,
          24,
          25,
          26,
          27,
          28,
          29,
          30,
          31,
          32,
          33,
          34,
          35,
          36,
          37,
          38,
          39,
          40,
          41,
          42,
          43,
          44,
          45,
          46,
          47,
          48,
          49,
          50,
          51,
          52,
          53,
          54,
          55,
          56,
          57,
          58,
          59,
          60,
          61,
          62,
          63,
          64,
          65,
          66,
          67,
          68,
          69,
          70,
          71,
          72,
          73,
          74,
          75,
          76,
          77,
          78,
          79,
          80,
          81,
          82,
          83,
          84,
          85,
          86,
          87,
          88,
          89,
          90,
          91,
          92,
          93,
          94,
          95,
          96,
          97,
          98,
          99,
          100,
          101,
          102,
          103,
          104,
          105,
          106,
          107,
          108,
          109,
          110,
          111,
          112,
          113,
          114,
          115,
          116,
          117,
          118,
          119,
          120,
          121,
          122,
          123,
          124,
          125,
          126,
          127,
          128,
          129,
          130,
          131,
          132,
          133,
          134,
          135,
          136,
          137,
          138,
          139,
          140,
          141,
          142,
          143,
          144,
          145,
          146,
          147,
          148,
          149,
          150,
          151,
          152,
          153,
          154,
          155,
          156,
          157,
          158,
          159,
          160,
          161,
          162,
          163,
          164,
          165,
          166,
          167,
          168,
          169,
          170,
          171,
          172,
          173,
          174,
          175,
          176,
          177,
          178,
          179,
          180,
          181,
          182,
          183,
          184,
          185,
          186,
          187,
          188,
          189,
          190,
          191,
          192,
          193,
          194,
          195,
          196,
          197,
          198,
          199,
          200,
          201,
          202,
          203,
          204,
          205,
          206,
          207,
          208,
          209,
          210,
          211,
          212,
          213,
          214,
          215,
          216,
          217,
          218,
          219,
          220,
          221,
          222,
          223,
          224,
          225,
          226,
          227,
          228,
          229,
          230,
          231,
          232,
          233,
          234,
          235,
          236,
          237,
          238,
          239,
          240,
          241,
          242,
          243,
          244,
          245,
          246,
          247,
          248,
          249,
          250,
          251,
          252,
          253,
          254,
          255,
          256,
          257,
          258,
          259,
          260,
          261,
          262,
          263,
          264,
          265,
          266,
          267,
          268,
          269,
          270,
          271,
          272,
          273,
          274,
          275,
          276,
          277,
          278,
          279,
          280,
          281,
          282,
          283,
          284,
          285,
          286,
          287,
          288,
          289,
          290,
          291,
          292,
          293,
          294,
          295,
          296,
          297,
          298,
          299,
          300,
          301,
          302,
          303,
          304,
          305,
          306,
          307,
          308,
          309,
          310,
          311,
          312,
          313,
          314,
          315,
          316,
          317,
          318,
          319,
          320,
          321,
          322,
          323,
          324,
          325,
          326,
          327,
          328,
          329,
          330,
          331,
          332,
          333,
          334,
          335,
          336,
          337,
          338,
          339,
          340,
          341,
          342,
          343,
          344,
          345,
          346,
          347,
          348,
          349,
          350,
          351,
          352,
          353,
          354,
          355,
          356,
          357,
          358,
          359,
          360,
          361,
          362,
          363,
          364,
          365,
          366,
          367,
          368,
          369,
          370,
          371,
          372,
          373,
          374,
          375,
          376,
          377
         ],
         "xaxis": "x",
         "y": [
          -207.12083684533127,
          -214.68962509838292,
          -216.09260682475622,
          -216.75778624361328,
          -216.73327919991578,
          -215.00703765465232,
          -218.4356679979146,
          -219.70473511378827,
          -218.91709258928813,
          -216.79687883161876,
          -216.22721260540345,
          -224.00818511032412,
          -223.1283129953752,
          -215.67016592640726,
          -210.2044968723078,
          -217.97277898873517,
          -222.3026331890523,
          -223.17060630813899,
          -223.93779266424332,
          -223.64703242163557,
          -217.86846555607866,
          -215.93006652196465,
          -217.4414902149138,
          -218.46008777110768,
          -217.94859127571584,
          -212.01796233530672,
          -209.06277093483396,
          -207.87267045160718,
          -211.07474453150417,
          -210.40231614167908,
          -208.96028958598833,
          -204.13063241744567,
          -202.22358087566903,
          -196.31928330337303,
          -190.43051550567895,
          -191.5453555524266,
          -197.2845086017756,
          -195.4590112446681,
          -194.0556225970795,
          -198.39463531132253,
          -195.9813612021776,
          -197.6279864337073,
          -200.8884626954881,
          -197.23605186495377,
          -197.55730379944652,
          -198.59324862012642,
          -193.64575412362512,
          -195.40033596792767,
          -197.67318951463295,
          -193.9473752384231,
          -196.93269352581382,
          -196.53028826792394,
          -193.34444924216,
          -190.4428213485147,
          -188.0652125508803,
          -185.80830365317098,
          -181.03892427785553,
          -176.07026266822317,
          -177.57811179435237,
          -185.64834701335684,
          -186.81481465669805,
          -186.78867534833188,
          -184.49288216430375,
          -187.416125490428,
          -184.3078041995824,
          -181.76879186940766,
          -177.12323892216375,
          -181.71765856463225,
          -181.774216278086,
          -180.96923683644803,
          -180.65650034909027,
          -180.79771219988885,
          -178.83653012431182,
          -184.2146292095876,
          -181.3040926035157,
          -186.70450642362368,
          -185.05723633780065,
          -182.6597535336191,
          -175.40423549323378,
          -175.0793526732494,
          -178.71360507579226,
          -183.047644390507,
          -185.1906236394086,
          -187.96231962425907,
          -189.21123732427247,
          -189.10802599218357,
          -185.90456716927974,
          -193.6323790607247,
          -10106.716189901459,
          -193.74686465143043,
          -187.23328700763204,
          0,
          0,
          0,
          0,
          -10118.787822880133,
          -10125.788421774982,
          0,
          0,
          0,
          0,
          -10151.21474419253,
          0,
          0,
          0,
          -202.23203802069918,
          -204.30830291839754,
          -204.32462663198123,
          0,
          -10128.469580766216,
          -200.97114893054027,
          0,
          0,
          0,
          0,
          0,
          0,
          0,
          0,
          0,
          0,
          0,
          0,
          0,
          0,
          0,
          0,
          0,
          0,
          0,
          0,
          0,
          0,
          0,
          0,
          0,
          0,
          0,
          0,
          0,
          0,
          0,
          0,
          0,
          0,
          0,
          0,
          0,
          0,
          0,
          0,
          0,
          0,
          0,
          0,
          0,
          0,
          0,
          0,
          0,
          0,
          0,
          0,
          0,
          0,
          0,
          0,
          0,
          0,
          0,
          0,
          0,
          0,
          0,
          0,
          0,
          0,
          0,
          0,
          0,
          0,
          0,
          0,
          0,
          0,
          0,
          0,
          0,
          0,
          0,
          0,
          0,
          0,
          0,
          0,
          0,
          0,
          0,
          0,
          0,
          0,
          0,
          0,
          0,
          0,
          0,
          0,
          0,
          0,
          0,
          0,
          0,
          0,
          0,
          0,
          0,
          0,
          0,
          0,
          0,
          0,
          0,
          0,
          0,
          0,
          0,
          0,
          0,
          0,
          0,
          0,
          0,
          0,
          0,
          0,
          0,
          0,
          0,
          0,
          0,
          0,
          0,
          0,
          0,
          0,
          0,
          0,
          0,
          0,
          0,
          0,
          0,
          0,
          0,
          0,
          0,
          0,
          0,
          0,
          0,
          0,
          0,
          0,
          0,
          0,
          0,
          0,
          0,
          0,
          0,
          0,
          0,
          0,
          0,
          0,
          0,
          0,
          0,
          0,
          0,
          0,
          0,
          0,
          0,
          0,
          0,
          0,
          0,
          0,
          0,
          0,
          0,
          0,
          0,
          0,
          0,
          0,
          0,
          0,
          0,
          0,
          0,
          0,
          0,
          0,
          0,
          0,
          0,
          0,
          0,
          0,
          0,
          0,
          0,
          0,
          0,
          0,
          0,
          0,
          0,
          0,
          0,
          0,
          0,
          0,
          0,
          0,
          0,
          0,
          0,
          0,
          0,
          0,
          0,
          0,
          0,
          0,
          0,
          0,
          0,
          0,
          0,
          0,
          0,
          0,
          0,
          0,
          0,
          0,
          0,
          0,
          0,
          0,
          0,
          0,
          0,
          0,
          0,
          0,
          0,
          0,
          0,
          0,
          0,
          0,
          0,
          0,
          0,
          0,
          0,
          0,
          0,
          0,
          0,
          0,
          0,
          0,
          0
         ],
         "yaxis": "y"
        }
       ],
       "layout": {
        "legend": {
         "tracegroupgap": 0
        },
        "margin": {
         "t": 60
        },
        "template": {
         "data": {
          "bar": [
           {
            "error_x": {
             "color": "#2a3f5f"
            },
            "error_y": {
             "color": "#2a3f5f"
            },
            "marker": {
             "line": {
              "color": "#E5ECF6",
              "width": 0.5
             },
             "pattern": {
              "fillmode": "overlay",
              "size": 10,
              "solidity": 0.2
             }
            },
            "type": "bar"
           }
          ],
          "barpolar": [
           {
            "marker": {
             "line": {
              "color": "#E5ECF6",
              "width": 0.5
             },
             "pattern": {
              "fillmode": "overlay",
              "size": 10,
              "solidity": 0.2
             }
            },
            "type": "barpolar"
           }
          ],
          "carpet": [
           {
            "aaxis": {
             "endlinecolor": "#2a3f5f",
             "gridcolor": "white",
             "linecolor": "white",
             "minorgridcolor": "white",
             "startlinecolor": "#2a3f5f"
            },
            "baxis": {
             "endlinecolor": "#2a3f5f",
             "gridcolor": "white",
             "linecolor": "white",
             "minorgridcolor": "white",
             "startlinecolor": "#2a3f5f"
            },
            "type": "carpet"
           }
          ],
          "choropleth": [
           {
            "colorbar": {
             "outlinewidth": 0,
             "ticks": ""
            },
            "type": "choropleth"
           }
          ],
          "contour": [
           {
            "colorbar": {
             "outlinewidth": 0,
             "ticks": ""
            },
            "colorscale": [
             [
              0,
              "#0d0887"
             ],
             [
              0.1111111111111111,
              "#46039f"
             ],
             [
              0.2222222222222222,
              "#7201a8"
             ],
             [
              0.3333333333333333,
              "#9c179e"
             ],
             [
              0.4444444444444444,
              "#bd3786"
             ],
             [
              0.5555555555555556,
              "#d8576b"
             ],
             [
              0.6666666666666666,
              "#ed7953"
             ],
             [
              0.7777777777777778,
              "#fb9f3a"
             ],
             [
              0.8888888888888888,
              "#fdca26"
             ],
             [
              1,
              "#f0f921"
             ]
            ],
            "type": "contour"
           }
          ],
          "contourcarpet": [
           {
            "colorbar": {
             "outlinewidth": 0,
             "ticks": ""
            },
            "type": "contourcarpet"
           }
          ],
          "heatmap": [
           {
            "colorbar": {
             "outlinewidth": 0,
             "ticks": ""
            },
            "colorscale": [
             [
              0,
              "#0d0887"
             ],
             [
              0.1111111111111111,
              "#46039f"
             ],
             [
              0.2222222222222222,
              "#7201a8"
             ],
             [
              0.3333333333333333,
              "#9c179e"
             ],
             [
              0.4444444444444444,
              "#bd3786"
             ],
             [
              0.5555555555555556,
              "#d8576b"
             ],
             [
              0.6666666666666666,
              "#ed7953"
             ],
             [
              0.7777777777777778,
              "#fb9f3a"
             ],
             [
              0.8888888888888888,
              "#fdca26"
             ],
             [
              1,
              "#f0f921"
             ]
            ],
            "type": "heatmap"
           }
          ],
          "heatmapgl": [
           {
            "colorbar": {
             "outlinewidth": 0,
             "ticks": ""
            },
            "colorscale": [
             [
              0,
              "#0d0887"
             ],
             [
              0.1111111111111111,
              "#46039f"
             ],
             [
              0.2222222222222222,
              "#7201a8"
             ],
             [
              0.3333333333333333,
              "#9c179e"
             ],
             [
              0.4444444444444444,
              "#bd3786"
             ],
             [
              0.5555555555555556,
              "#d8576b"
             ],
             [
              0.6666666666666666,
              "#ed7953"
             ],
             [
              0.7777777777777778,
              "#fb9f3a"
             ],
             [
              0.8888888888888888,
              "#fdca26"
             ],
             [
              1,
              "#f0f921"
             ]
            ],
            "type": "heatmapgl"
           }
          ],
          "histogram": [
           {
            "marker": {
             "pattern": {
              "fillmode": "overlay",
              "size": 10,
              "solidity": 0.2
             }
            },
            "type": "histogram"
           }
          ],
          "histogram2d": [
           {
            "colorbar": {
             "outlinewidth": 0,
             "ticks": ""
            },
            "colorscale": [
             [
              0,
              "#0d0887"
             ],
             [
              0.1111111111111111,
              "#46039f"
             ],
             [
              0.2222222222222222,
              "#7201a8"
             ],
             [
              0.3333333333333333,
              "#9c179e"
             ],
             [
              0.4444444444444444,
              "#bd3786"
             ],
             [
              0.5555555555555556,
              "#d8576b"
             ],
             [
              0.6666666666666666,
              "#ed7953"
             ],
             [
              0.7777777777777778,
              "#fb9f3a"
             ],
             [
              0.8888888888888888,
              "#fdca26"
             ],
             [
              1,
              "#f0f921"
             ]
            ],
            "type": "histogram2d"
           }
          ],
          "histogram2dcontour": [
           {
            "colorbar": {
             "outlinewidth": 0,
             "ticks": ""
            },
            "colorscale": [
             [
              0,
              "#0d0887"
             ],
             [
              0.1111111111111111,
              "#46039f"
             ],
             [
              0.2222222222222222,
              "#7201a8"
             ],
             [
              0.3333333333333333,
              "#9c179e"
             ],
             [
              0.4444444444444444,
              "#bd3786"
             ],
             [
              0.5555555555555556,
              "#d8576b"
             ],
             [
              0.6666666666666666,
              "#ed7953"
             ],
             [
              0.7777777777777778,
              "#fb9f3a"
             ],
             [
              0.8888888888888888,
              "#fdca26"
             ],
             [
              1,
              "#f0f921"
             ]
            ],
            "type": "histogram2dcontour"
           }
          ],
          "mesh3d": [
           {
            "colorbar": {
             "outlinewidth": 0,
             "ticks": ""
            },
            "type": "mesh3d"
           }
          ],
          "parcoords": [
           {
            "line": {
             "colorbar": {
              "outlinewidth": 0,
              "ticks": ""
             }
            },
            "type": "parcoords"
           }
          ],
          "pie": [
           {
            "automargin": true,
            "type": "pie"
           }
          ],
          "scatter": [
           {
            "marker": {
             "colorbar": {
              "outlinewidth": 0,
              "ticks": ""
             }
            },
            "type": "scatter"
           }
          ],
          "scatter3d": [
           {
            "line": {
             "colorbar": {
              "outlinewidth": 0,
              "ticks": ""
             }
            },
            "marker": {
             "colorbar": {
              "outlinewidth": 0,
              "ticks": ""
             }
            },
            "type": "scatter3d"
           }
          ],
          "scattercarpet": [
           {
            "marker": {
             "colorbar": {
              "outlinewidth": 0,
              "ticks": ""
             }
            },
            "type": "scattercarpet"
           }
          ],
          "scattergeo": [
           {
            "marker": {
             "colorbar": {
              "outlinewidth": 0,
              "ticks": ""
             }
            },
            "type": "scattergeo"
           }
          ],
          "scattergl": [
           {
            "marker": {
             "colorbar": {
              "outlinewidth": 0,
              "ticks": ""
             }
            },
            "type": "scattergl"
           }
          ],
          "scattermapbox": [
           {
            "marker": {
             "colorbar": {
              "outlinewidth": 0,
              "ticks": ""
             }
            },
            "type": "scattermapbox"
           }
          ],
          "scatterpolar": [
           {
            "marker": {
             "colorbar": {
              "outlinewidth": 0,
              "ticks": ""
             }
            },
            "type": "scatterpolar"
           }
          ],
          "scatterpolargl": [
           {
            "marker": {
             "colorbar": {
              "outlinewidth": 0,
              "ticks": ""
             }
            },
            "type": "scatterpolargl"
           }
          ],
          "scatterternary": [
           {
            "marker": {
             "colorbar": {
              "outlinewidth": 0,
              "ticks": ""
             }
            },
            "type": "scatterternary"
           }
          ],
          "surface": [
           {
            "colorbar": {
             "outlinewidth": 0,
             "ticks": ""
            },
            "colorscale": [
             [
              0,
              "#0d0887"
             ],
             [
              0.1111111111111111,
              "#46039f"
             ],
             [
              0.2222222222222222,
              "#7201a8"
             ],
             [
              0.3333333333333333,
              "#9c179e"
             ],
             [
              0.4444444444444444,
              "#bd3786"
             ],
             [
              0.5555555555555556,
              "#d8576b"
             ],
             [
              0.6666666666666666,
              "#ed7953"
             ],
             [
              0.7777777777777778,
              "#fb9f3a"
             ],
             [
              0.8888888888888888,
              "#fdca26"
             ],
             [
              1,
              "#f0f921"
             ]
            ],
            "type": "surface"
           }
          ],
          "table": [
           {
            "cells": {
             "fill": {
              "color": "#EBF0F8"
             },
             "line": {
              "color": "white"
             }
            },
            "header": {
             "fill": {
              "color": "#C8D4E3"
             },
             "line": {
              "color": "white"
             }
            },
            "type": "table"
           }
          ]
         },
         "layout": {
          "annotationdefaults": {
           "arrowcolor": "#2a3f5f",
           "arrowhead": 0,
           "arrowwidth": 1
          },
          "autotypenumbers": "strict",
          "coloraxis": {
           "colorbar": {
            "outlinewidth": 0,
            "ticks": ""
           }
          },
          "colorscale": {
           "diverging": [
            [
             0,
             "#8e0152"
            ],
            [
             0.1,
             "#c51b7d"
            ],
            [
             0.2,
             "#de77ae"
            ],
            [
             0.3,
             "#f1b6da"
            ],
            [
             0.4,
             "#fde0ef"
            ],
            [
             0.5,
             "#f7f7f7"
            ],
            [
             0.6,
             "#e6f5d0"
            ],
            [
             0.7,
             "#b8e186"
            ],
            [
             0.8,
             "#7fbc41"
            ],
            [
             0.9,
             "#4d9221"
            ],
            [
             1,
             "#276419"
            ]
           ],
           "sequential": [
            [
             0,
             "#0d0887"
            ],
            [
             0.1111111111111111,
             "#46039f"
            ],
            [
             0.2222222222222222,
             "#7201a8"
            ],
            [
             0.3333333333333333,
             "#9c179e"
            ],
            [
             0.4444444444444444,
             "#bd3786"
            ],
            [
             0.5555555555555556,
             "#d8576b"
            ],
            [
             0.6666666666666666,
             "#ed7953"
            ],
            [
             0.7777777777777778,
             "#fb9f3a"
            ],
            [
             0.8888888888888888,
             "#fdca26"
            ],
            [
             1,
             "#f0f921"
            ]
           ],
           "sequentialminus": [
            [
             0,
             "#0d0887"
            ],
            [
             0.1111111111111111,
             "#46039f"
            ],
            [
             0.2222222222222222,
             "#7201a8"
            ],
            [
             0.3333333333333333,
             "#9c179e"
            ],
            [
             0.4444444444444444,
             "#bd3786"
            ],
            [
             0.5555555555555556,
             "#d8576b"
            ],
            [
             0.6666666666666666,
             "#ed7953"
            ],
            [
             0.7777777777777778,
             "#fb9f3a"
            ],
            [
             0.8888888888888888,
             "#fdca26"
            ],
            [
             1,
             "#f0f921"
            ]
           ]
          },
          "colorway": [
           "#636efa",
           "#EF553B",
           "#00cc96",
           "#ab63fa",
           "#FFA15A",
           "#19d3f3",
           "#FF6692",
           "#B6E880",
           "#FF97FF",
           "#FECB52"
          ],
          "font": {
           "color": "#2a3f5f"
          },
          "geo": {
           "bgcolor": "white",
           "lakecolor": "white",
           "landcolor": "#E5ECF6",
           "showlakes": true,
           "showland": true,
           "subunitcolor": "white"
          },
          "hoverlabel": {
           "align": "left"
          },
          "hovermode": "closest",
          "mapbox": {
           "style": "light"
          },
          "paper_bgcolor": "white",
          "plot_bgcolor": "#E5ECF6",
          "polar": {
           "angularaxis": {
            "gridcolor": "white",
            "linecolor": "white",
            "ticks": ""
           },
           "bgcolor": "#E5ECF6",
           "radialaxis": {
            "gridcolor": "white",
            "linecolor": "white",
            "ticks": ""
           }
          },
          "scene": {
           "xaxis": {
            "backgroundcolor": "#E5ECF6",
            "gridcolor": "white",
            "gridwidth": 2,
            "linecolor": "white",
            "showbackground": true,
            "ticks": "",
            "zerolinecolor": "white"
           },
           "yaxis": {
            "backgroundcolor": "#E5ECF6",
            "gridcolor": "white",
            "gridwidth": 2,
            "linecolor": "white",
            "showbackground": true,
            "ticks": "",
            "zerolinecolor": "white"
           },
           "zaxis": {
            "backgroundcolor": "#E5ECF6",
            "gridcolor": "white",
            "gridwidth": 2,
            "linecolor": "white",
            "showbackground": true,
            "ticks": "",
            "zerolinecolor": "white"
           }
          },
          "shapedefaults": {
           "line": {
            "color": "#2a3f5f"
           }
          },
          "ternary": {
           "aaxis": {
            "gridcolor": "white",
            "linecolor": "white",
            "ticks": ""
           },
           "baxis": {
            "gridcolor": "white",
            "linecolor": "white",
            "ticks": ""
           },
           "bgcolor": "#E5ECF6",
           "caxis": {
            "gridcolor": "white",
            "linecolor": "white",
            "ticks": ""
           }
          },
          "title": {
           "x": 0.05
          },
          "xaxis": {
           "automargin": true,
           "gridcolor": "white",
           "linecolor": "white",
           "ticks": "",
           "title": {
            "standoff": 15
           },
           "zerolinecolor": "white",
           "zerolinewidth": 2
          },
          "yaxis": {
           "automargin": true,
           "gridcolor": "white",
           "linecolor": "white",
           "ticks": "",
           "title": {
            "standoff": 15
           },
           "zerolinecolor": "white",
           "zerolinewidth": 2
          }
         }
        },
        "xaxis": {
         "anchor": "y",
         "domain": [
          0,
          1
         ],
         "title": {
          "text": "index"
         }
        },
        "yaxis": {
         "anchor": "x",
         "domain": [
          0,
          1
         ],
         "title": {
          "text": "Theta"
         }
        }
       }
      }
     },
     "metadata": {},
     "output_type": "display_data"
    }
   ],
   "source": [
    "px.line(greeks_df, y=\"Theta\")"
   ]
  },
  {
   "cell_type": "markdown",
   "metadata": {},
   "source": [
    "### Rho"
   ]
  },
  {
   "cell_type": "code",
   "execution_count": 39,
   "metadata": {},
   "outputs": [
    {
     "data": {
      "application/vnd.plotly.v1+json": {
       "config": {
        "plotlyServerURL": "https://plot.ly"
       },
       "data": [
        {
         "hovertemplate": "index=%{x}<br>Rho=%{y}<extra></extra>",
         "legendgroup": "",
         "line": {
          "color": "#636efa",
          "dash": "solid"
         },
         "marker": {
          "symbol": "circle"
         },
         "mode": "lines",
         "name": "",
         "orientation": "v",
         "showlegend": false,
         "type": "scatter",
         "x": [
          0,
          1,
          2,
          3,
          4,
          5,
          6,
          7,
          8,
          9,
          10,
          11,
          12,
          13,
          14,
          15,
          16,
          17,
          18,
          19,
          20,
          21,
          22,
          23,
          24,
          25,
          26,
          27,
          28,
          29,
          30,
          31,
          32,
          33,
          34,
          35,
          36,
          37,
          38,
          39,
          40,
          41,
          42,
          43,
          44,
          45,
          46,
          47,
          48,
          49,
          50,
          51,
          52,
          53,
          54,
          55,
          56,
          57,
          58,
          59,
          60,
          61,
          62,
          63,
          64,
          65,
          66,
          67,
          68,
          69,
          70,
          71,
          72,
          73,
          74,
          75,
          76,
          77,
          78,
          79,
          80,
          81,
          82,
          83,
          84,
          85,
          86,
          87,
          88,
          89,
          90,
          91,
          92,
          93,
          94,
          95,
          96,
          97,
          98,
          99,
          100,
          101,
          102,
          103,
          104,
          105,
          106,
          107,
          108,
          109,
          110,
          111,
          112,
          113,
          114,
          115,
          116,
          117,
          118,
          119,
          120,
          121,
          122,
          123,
          124,
          125,
          126,
          127,
          128,
          129,
          130,
          131,
          132,
          133,
          134,
          135,
          136,
          137,
          138,
          139,
          140,
          141,
          142,
          143,
          144,
          145,
          146,
          147,
          148,
          149,
          150,
          151,
          152,
          153,
          154,
          155,
          156,
          157,
          158,
          159,
          160,
          161,
          162,
          163,
          164,
          165,
          166,
          167,
          168,
          169,
          170,
          171,
          172,
          173,
          174,
          175,
          176,
          177,
          178,
          179,
          180,
          181,
          182,
          183,
          184,
          185,
          186,
          187,
          188,
          189,
          190,
          191,
          192,
          193,
          194,
          195,
          196,
          197,
          198,
          199,
          200,
          201,
          202,
          203,
          204,
          205,
          206,
          207,
          208,
          209,
          210,
          211,
          212,
          213,
          214,
          215,
          216,
          217,
          218,
          219,
          220,
          221,
          222,
          223,
          224,
          225,
          226,
          227,
          228,
          229,
          230,
          231,
          232,
          233,
          234,
          235,
          236,
          237,
          238,
          239,
          240,
          241,
          242,
          243,
          244,
          245,
          246,
          247,
          248,
          249,
          250,
          251,
          252,
          253,
          254,
          255,
          256,
          257,
          258,
          259,
          260,
          261,
          262,
          263,
          264,
          265,
          266,
          267,
          268,
          269,
          270,
          271,
          272,
          273,
          274,
          275,
          276,
          277,
          278,
          279,
          280,
          281,
          282,
          283,
          284,
          285,
          286,
          287,
          288,
          289,
          290,
          291,
          292,
          293,
          294,
          295,
          296,
          297,
          298,
          299,
          300,
          301,
          302,
          303,
          304,
          305,
          306,
          307,
          308,
          309,
          310,
          311,
          312,
          313,
          314,
          315,
          316,
          317,
          318,
          319,
          320,
          321,
          322,
          323,
          324,
          325,
          326,
          327,
          328,
          329,
          330,
          331,
          332,
          333,
          334,
          335,
          336,
          337,
          338,
          339,
          340,
          341,
          342,
          343,
          344,
          345,
          346,
          347,
          348,
          349,
          350,
          351,
          352,
          353,
          354,
          355,
          356,
          357,
          358,
          359,
          360,
          361,
          362,
          363,
          364,
          365,
          366,
          367,
          368,
          369,
          370,
          371,
          372,
          373,
          374,
          375,
          376,
          377
         ],
         "xaxis": "x",
         "y": [
          0.06390935905074002,
          0.06409533737326001,
          0.05830604599736944,
          0.1253076721781099,
          0.12298828547159246,
          0.11698178607133514,
          0.11544690941889257,
          0.11583601718001546,
          0.11952646552941815,
          0.12294726737422934,
          0.12070306672882225,
          0.2487950690763796,
          0.2589704427961692,
          0.2973666633252492,
          0.23169482276728104,
          0.29668825914797026,
          0.2507879957065029,
          0.3353088464649545,
          0.3369164005221137,
          0.34023229069646277,
          0.2717186080360534,
          0.34299089206371036,
          0.3434335952817946,
          0.33674134330965444,
          0.3373403943754738,
          0.32175330905062083,
          0.31374281803948634,
          0.3090134610829409,
          0.3170636598227361,
          0.3221941016619212,
          0.32890491670656274,
          0.3172577007291011,
          0.3116406962433871,
          0.3059952349602213,
          0.28420374655979685,
          0.23607763758377587,
          0.24651153496790812,
          0.29850615452033935,
          0.3082040894526017,
          0.31369173076285506,
          0.31039926235507664,
          0.3143978146511017,
          0.30517243805974203,
          0.2851463866406334,
          0.2781011048170967,
          0.2945251636973012,
          0.2904626365079821,
          0.2792775974441497,
          0.28083166005643534,
          0.29638408085190804,
          0.3031256017138162,
          0.3651777883533214,
          0.2955464386815265,
          0.2978849594015287,
          0.2839877299877003,
          0.2870391506036185,
          0.2906179976321255,
          0.27796256665197916,
          0.2672435737920864,
          0.2667795721279731,
          0.27454311737642456,
          0.32637505547796763,
          0.31858397491930646,
          0.37935364377830183,
          0.2747971601749555,
          0.329037549794009,
          0.3944613495193039,
          0.39538168469590573,
          0.386925527638482,
          0.33494837825145396,
          0.3313066345882021,
          0.32409887476489985,
          0.4329662848860494,
          0.3303182217635481,
          0.32093665334969046,
          0.34517678602412616,
          0.3379057863199364,
          0.2836330766783135,
          0.2309616351766408,
          0.2246529157488908,
          0.24073204635328693,
          0.25981122667531054,
          0.2035245933996066,
          0.2808664862754995,
          0.27169265045472457,
          0.3423559857651526,
          0.28187822653364947,
          0.29427662872762994,
          0.3140488917864559,
          0.2820929860490651,
          0.5695029551986863,
          0,
          0,
          0,
          0,
          0.5099758285012967,
          0.5745753178956647,
          0,
          0,
          0,
          0,
          0.6349277072331461,
          0,
          0,
          0,
          0.5012777514565414,
          0.5414379720320994,
          0.3728410487894962,
          0,
          0.31818686449867073,
          0.3705683951039873,
          0,
          0,
          0,
          0,
          0,
          0,
          0,
          0,
          0,
          0,
          0,
          0,
          0,
          0,
          0,
          0,
          0,
          0,
          0,
          0,
          0,
          0,
          0,
          0,
          0,
          0,
          0,
          0,
          0,
          0,
          0,
          0,
          0,
          0,
          0,
          0,
          0,
          0,
          0,
          0,
          0,
          0,
          0,
          0,
          0,
          0,
          0,
          0,
          0,
          0,
          0,
          0,
          0,
          0,
          0,
          0,
          0,
          0,
          0,
          0,
          0,
          0,
          0,
          0,
          0,
          0,
          0,
          0,
          0,
          0,
          0,
          0,
          0,
          0,
          0,
          0,
          0,
          0,
          0,
          0,
          0,
          0,
          0,
          0,
          0,
          0,
          0,
          0,
          0,
          0,
          0,
          0,
          0,
          0,
          0,
          0,
          0,
          0,
          0,
          0,
          0,
          0,
          0,
          0,
          0,
          0,
          0,
          0,
          0,
          0,
          0,
          0,
          0,
          0,
          0,
          0,
          0,
          0,
          0,
          0,
          0,
          0,
          0,
          0,
          0,
          0,
          0,
          0,
          0,
          0,
          0,
          0,
          0,
          0,
          0,
          0,
          0,
          0,
          0,
          0,
          0,
          0,
          0,
          0,
          0,
          0,
          0,
          0,
          0,
          0,
          0,
          0,
          0,
          0,
          0,
          0,
          0,
          0,
          0,
          0,
          0,
          0,
          0,
          0,
          0,
          0,
          0,
          0,
          0,
          0,
          0,
          0,
          0,
          0,
          0,
          0,
          0,
          0,
          0,
          0,
          0,
          0,
          0,
          0,
          0,
          0,
          0,
          0,
          0,
          0,
          0,
          0,
          0,
          0,
          0,
          0,
          0,
          0,
          0,
          0,
          0,
          0,
          0,
          0,
          0,
          0,
          0,
          0,
          0,
          0,
          0,
          0,
          0,
          0,
          0,
          0,
          0,
          0,
          0,
          0,
          0,
          0,
          0,
          0,
          0,
          0,
          0,
          0,
          0,
          0,
          0,
          0,
          0,
          0,
          0,
          0,
          0,
          0,
          0,
          0,
          0,
          0,
          0,
          0,
          0,
          0,
          0,
          0,
          0,
          0,
          0,
          0,
          0,
          0,
          0,
          0,
          0,
          0,
          0,
          0,
          0,
          0,
          0,
          0,
          0,
          0,
          0
         ],
         "yaxis": "y"
        }
       ],
       "layout": {
        "legend": {
         "tracegroupgap": 0
        },
        "margin": {
         "t": 60
        },
        "template": {
         "data": {
          "bar": [
           {
            "error_x": {
             "color": "#2a3f5f"
            },
            "error_y": {
             "color": "#2a3f5f"
            },
            "marker": {
             "line": {
              "color": "#E5ECF6",
              "width": 0.5
             },
             "pattern": {
              "fillmode": "overlay",
              "size": 10,
              "solidity": 0.2
             }
            },
            "type": "bar"
           }
          ],
          "barpolar": [
           {
            "marker": {
             "line": {
              "color": "#E5ECF6",
              "width": 0.5
             },
             "pattern": {
              "fillmode": "overlay",
              "size": 10,
              "solidity": 0.2
             }
            },
            "type": "barpolar"
           }
          ],
          "carpet": [
           {
            "aaxis": {
             "endlinecolor": "#2a3f5f",
             "gridcolor": "white",
             "linecolor": "white",
             "minorgridcolor": "white",
             "startlinecolor": "#2a3f5f"
            },
            "baxis": {
             "endlinecolor": "#2a3f5f",
             "gridcolor": "white",
             "linecolor": "white",
             "minorgridcolor": "white",
             "startlinecolor": "#2a3f5f"
            },
            "type": "carpet"
           }
          ],
          "choropleth": [
           {
            "colorbar": {
             "outlinewidth": 0,
             "ticks": ""
            },
            "type": "choropleth"
           }
          ],
          "contour": [
           {
            "colorbar": {
             "outlinewidth": 0,
             "ticks": ""
            },
            "colorscale": [
             [
              0,
              "#0d0887"
             ],
             [
              0.1111111111111111,
              "#46039f"
             ],
             [
              0.2222222222222222,
              "#7201a8"
             ],
             [
              0.3333333333333333,
              "#9c179e"
             ],
             [
              0.4444444444444444,
              "#bd3786"
             ],
             [
              0.5555555555555556,
              "#d8576b"
             ],
             [
              0.6666666666666666,
              "#ed7953"
             ],
             [
              0.7777777777777778,
              "#fb9f3a"
             ],
             [
              0.8888888888888888,
              "#fdca26"
             ],
             [
              1,
              "#f0f921"
             ]
            ],
            "type": "contour"
           }
          ],
          "contourcarpet": [
           {
            "colorbar": {
             "outlinewidth": 0,
             "ticks": ""
            },
            "type": "contourcarpet"
           }
          ],
          "heatmap": [
           {
            "colorbar": {
             "outlinewidth": 0,
             "ticks": ""
            },
            "colorscale": [
             [
              0,
              "#0d0887"
             ],
             [
              0.1111111111111111,
              "#46039f"
             ],
             [
              0.2222222222222222,
              "#7201a8"
             ],
             [
              0.3333333333333333,
              "#9c179e"
             ],
             [
              0.4444444444444444,
              "#bd3786"
             ],
             [
              0.5555555555555556,
              "#d8576b"
             ],
             [
              0.6666666666666666,
              "#ed7953"
             ],
             [
              0.7777777777777778,
              "#fb9f3a"
             ],
             [
              0.8888888888888888,
              "#fdca26"
             ],
             [
              1,
              "#f0f921"
             ]
            ],
            "type": "heatmap"
           }
          ],
          "heatmapgl": [
           {
            "colorbar": {
             "outlinewidth": 0,
             "ticks": ""
            },
            "colorscale": [
             [
              0,
              "#0d0887"
             ],
             [
              0.1111111111111111,
              "#46039f"
             ],
             [
              0.2222222222222222,
              "#7201a8"
             ],
             [
              0.3333333333333333,
              "#9c179e"
             ],
             [
              0.4444444444444444,
              "#bd3786"
             ],
             [
              0.5555555555555556,
              "#d8576b"
             ],
             [
              0.6666666666666666,
              "#ed7953"
             ],
             [
              0.7777777777777778,
              "#fb9f3a"
             ],
             [
              0.8888888888888888,
              "#fdca26"
             ],
             [
              1,
              "#f0f921"
             ]
            ],
            "type": "heatmapgl"
           }
          ],
          "histogram": [
           {
            "marker": {
             "pattern": {
              "fillmode": "overlay",
              "size": 10,
              "solidity": 0.2
             }
            },
            "type": "histogram"
           }
          ],
          "histogram2d": [
           {
            "colorbar": {
             "outlinewidth": 0,
             "ticks": ""
            },
            "colorscale": [
             [
              0,
              "#0d0887"
             ],
             [
              0.1111111111111111,
              "#46039f"
             ],
             [
              0.2222222222222222,
              "#7201a8"
             ],
             [
              0.3333333333333333,
              "#9c179e"
             ],
             [
              0.4444444444444444,
              "#bd3786"
             ],
             [
              0.5555555555555556,
              "#d8576b"
             ],
             [
              0.6666666666666666,
              "#ed7953"
             ],
             [
              0.7777777777777778,
              "#fb9f3a"
             ],
             [
              0.8888888888888888,
              "#fdca26"
             ],
             [
              1,
              "#f0f921"
             ]
            ],
            "type": "histogram2d"
           }
          ],
          "histogram2dcontour": [
           {
            "colorbar": {
             "outlinewidth": 0,
             "ticks": ""
            },
            "colorscale": [
             [
              0,
              "#0d0887"
             ],
             [
              0.1111111111111111,
              "#46039f"
             ],
             [
              0.2222222222222222,
              "#7201a8"
             ],
             [
              0.3333333333333333,
              "#9c179e"
             ],
             [
              0.4444444444444444,
              "#bd3786"
             ],
             [
              0.5555555555555556,
              "#d8576b"
             ],
             [
              0.6666666666666666,
              "#ed7953"
             ],
             [
              0.7777777777777778,
              "#fb9f3a"
             ],
             [
              0.8888888888888888,
              "#fdca26"
             ],
             [
              1,
              "#f0f921"
             ]
            ],
            "type": "histogram2dcontour"
           }
          ],
          "mesh3d": [
           {
            "colorbar": {
             "outlinewidth": 0,
             "ticks": ""
            },
            "type": "mesh3d"
           }
          ],
          "parcoords": [
           {
            "line": {
             "colorbar": {
              "outlinewidth": 0,
              "ticks": ""
             }
            },
            "type": "parcoords"
           }
          ],
          "pie": [
           {
            "automargin": true,
            "type": "pie"
           }
          ],
          "scatter": [
           {
            "marker": {
             "colorbar": {
              "outlinewidth": 0,
              "ticks": ""
             }
            },
            "type": "scatter"
           }
          ],
          "scatter3d": [
           {
            "line": {
             "colorbar": {
              "outlinewidth": 0,
              "ticks": ""
             }
            },
            "marker": {
             "colorbar": {
              "outlinewidth": 0,
              "ticks": ""
             }
            },
            "type": "scatter3d"
           }
          ],
          "scattercarpet": [
           {
            "marker": {
             "colorbar": {
              "outlinewidth": 0,
              "ticks": ""
             }
            },
            "type": "scattercarpet"
           }
          ],
          "scattergeo": [
           {
            "marker": {
             "colorbar": {
              "outlinewidth": 0,
              "ticks": ""
             }
            },
            "type": "scattergeo"
           }
          ],
          "scattergl": [
           {
            "marker": {
             "colorbar": {
              "outlinewidth": 0,
              "ticks": ""
             }
            },
            "type": "scattergl"
           }
          ],
          "scattermapbox": [
           {
            "marker": {
             "colorbar": {
              "outlinewidth": 0,
              "ticks": ""
             }
            },
            "type": "scattermapbox"
           }
          ],
          "scatterpolar": [
           {
            "marker": {
             "colorbar": {
              "outlinewidth": 0,
              "ticks": ""
             }
            },
            "type": "scatterpolar"
           }
          ],
          "scatterpolargl": [
           {
            "marker": {
             "colorbar": {
              "outlinewidth": 0,
              "ticks": ""
             }
            },
            "type": "scatterpolargl"
           }
          ],
          "scatterternary": [
           {
            "marker": {
             "colorbar": {
              "outlinewidth": 0,
              "ticks": ""
             }
            },
            "type": "scatterternary"
           }
          ],
          "surface": [
           {
            "colorbar": {
             "outlinewidth": 0,
             "ticks": ""
            },
            "colorscale": [
             [
              0,
              "#0d0887"
             ],
             [
              0.1111111111111111,
              "#46039f"
             ],
             [
              0.2222222222222222,
              "#7201a8"
             ],
             [
              0.3333333333333333,
              "#9c179e"
             ],
             [
              0.4444444444444444,
              "#bd3786"
             ],
             [
              0.5555555555555556,
              "#d8576b"
             ],
             [
              0.6666666666666666,
              "#ed7953"
             ],
             [
              0.7777777777777778,
              "#fb9f3a"
             ],
             [
              0.8888888888888888,
              "#fdca26"
             ],
             [
              1,
              "#f0f921"
             ]
            ],
            "type": "surface"
           }
          ],
          "table": [
           {
            "cells": {
             "fill": {
              "color": "#EBF0F8"
             },
             "line": {
              "color": "white"
             }
            },
            "header": {
             "fill": {
              "color": "#C8D4E3"
             },
             "line": {
              "color": "white"
             }
            },
            "type": "table"
           }
          ]
         },
         "layout": {
          "annotationdefaults": {
           "arrowcolor": "#2a3f5f",
           "arrowhead": 0,
           "arrowwidth": 1
          },
          "autotypenumbers": "strict",
          "coloraxis": {
           "colorbar": {
            "outlinewidth": 0,
            "ticks": ""
           }
          },
          "colorscale": {
           "diverging": [
            [
             0,
             "#8e0152"
            ],
            [
             0.1,
             "#c51b7d"
            ],
            [
             0.2,
             "#de77ae"
            ],
            [
             0.3,
             "#f1b6da"
            ],
            [
             0.4,
             "#fde0ef"
            ],
            [
             0.5,
             "#f7f7f7"
            ],
            [
             0.6,
             "#e6f5d0"
            ],
            [
             0.7,
             "#b8e186"
            ],
            [
             0.8,
             "#7fbc41"
            ],
            [
             0.9,
             "#4d9221"
            ],
            [
             1,
             "#276419"
            ]
           ],
           "sequential": [
            [
             0,
             "#0d0887"
            ],
            [
             0.1111111111111111,
             "#46039f"
            ],
            [
             0.2222222222222222,
             "#7201a8"
            ],
            [
             0.3333333333333333,
             "#9c179e"
            ],
            [
             0.4444444444444444,
             "#bd3786"
            ],
            [
             0.5555555555555556,
             "#d8576b"
            ],
            [
             0.6666666666666666,
             "#ed7953"
            ],
            [
             0.7777777777777778,
             "#fb9f3a"
            ],
            [
             0.8888888888888888,
             "#fdca26"
            ],
            [
             1,
             "#f0f921"
            ]
           ],
           "sequentialminus": [
            [
             0,
             "#0d0887"
            ],
            [
             0.1111111111111111,
             "#46039f"
            ],
            [
             0.2222222222222222,
             "#7201a8"
            ],
            [
             0.3333333333333333,
             "#9c179e"
            ],
            [
             0.4444444444444444,
             "#bd3786"
            ],
            [
             0.5555555555555556,
             "#d8576b"
            ],
            [
             0.6666666666666666,
             "#ed7953"
            ],
            [
             0.7777777777777778,
             "#fb9f3a"
            ],
            [
             0.8888888888888888,
             "#fdca26"
            ],
            [
             1,
             "#f0f921"
            ]
           ]
          },
          "colorway": [
           "#636efa",
           "#EF553B",
           "#00cc96",
           "#ab63fa",
           "#FFA15A",
           "#19d3f3",
           "#FF6692",
           "#B6E880",
           "#FF97FF",
           "#FECB52"
          ],
          "font": {
           "color": "#2a3f5f"
          },
          "geo": {
           "bgcolor": "white",
           "lakecolor": "white",
           "landcolor": "#E5ECF6",
           "showlakes": true,
           "showland": true,
           "subunitcolor": "white"
          },
          "hoverlabel": {
           "align": "left"
          },
          "hovermode": "closest",
          "mapbox": {
           "style": "light"
          },
          "paper_bgcolor": "white",
          "plot_bgcolor": "#E5ECF6",
          "polar": {
           "angularaxis": {
            "gridcolor": "white",
            "linecolor": "white",
            "ticks": ""
           },
           "bgcolor": "#E5ECF6",
           "radialaxis": {
            "gridcolor": "white",
            "linecolor": "white",
            "ticks": ""
           }
          },
          "scene": {
           "xaxis": {
            "backgroundcolor": "#E5ECF6",
            "gridcolor": "white",
            "gridwidth": 2,
            "linecolor": "white",
            "showbackground": true,
            "ticks": "",
            "zerolinecolor": "white"
           },
           "yaxis": {
            "backgroundcolor": "#E5ECF6",
            "gridcolor": "white",
            "gridwidth": 2,
            "linecolor": "white",
            "showbackground": true,
            "ticks": "",
            "zerolinecolor": "white"
           },
           "zaxis": {
            "backgroundcolor": "#E5ECF6",
            "gridcolor": "white",
            "gridwidth": 2,
            "linecolor": "white",
            "showbackground": true,
            "ticks": "",
            "zerolinecolor": "white"
           }
          },
          "shapedefaults": {
           "line": {
            "color": "#2a3f5f"
           }
          },
          "ternary": {
           "aaxis": {
            "gridcolor": "white",
            "linecolor": "white",
            "ticks": ""
           },
           "baxis": {
            "gridcolor": "white",
            "linecolor": "white",
            "ticks": ""
           },
           "bgcolor": "#E5ECF6",
           "caxis": {
            "gridcolor": "white",
            "linecolor": "white",
            "ticks": ""
           }
          },
          "title": {
           "x": 0.05
          },
          "xaxis": {
           "automargin": true,
           "gridcolor": "white",
           "linecolor": "white",
           "ticks": "",
           "title": {
            "standoff": 15
           },
           "zerolinecolor": "white",
           "zerolinewidth": 2
          },
          "yaxis": {
           "automargin": true,
           "gridcolor": "white",
           "linecolor": "white",
           "ticks": "",
           "title": {
            "standoff": 15
           },
           "zerolinecolor": "white",
           "zerolinewidth": 2
          }
         }
        },
        "xaxis": {
         "anchor": "y",
         "domain": [
          0,
          1
         ],
         "title": {
          "text": "index"
         }
        },
        "yaxis": {
         "anchor": "x",
         "domain": [
          0,
          1
         ],
         "title": {
          "text": "Rho"
         }
        }
       }
      }
     },
     "metadata": {},
     "output_type": "display_data"
    }
   ],
   "source": [
    "px.line(greeks_df, y=\"Rho\")"
   ]
  },
  {
   "cell_type": "code",
   "execution_count": null,
   "metadata": {},
   "outputs": [],
   "source": []
  },
  {
   "cell_type": "code",
   "execution_count": null,
   "metadata": {},
   "outputs": [],
   "source": []
  }
 ],
 "metadata": {
  "kernelspec": {
   "display_name": "Python 3.8.13 ('base')",
   "language": "python",
   "name": "python3"
  },
  "language_info": {
   "codemirror_mode": {
    "name": "ipython",
    "version": 3
   },
   "file_extension": ".py",
   "mimetype": "text/x-python",
   "name": "python",
   "nbconvert_exporter": "python",
   "pygments_lexer": "ipython3",
   "version": "3.8.13"
  },
  "orig_nbformat": 4,
  "vscode": {
   "interpreter": {
    "hash": "2d9c564e6a05589c32a2531fa102af305ee1407ba7f6d08389f6f6dfdc9c338b"
   }
  }
 },
 "nbformat": 4,
 "nbformat_minor": 2
}
