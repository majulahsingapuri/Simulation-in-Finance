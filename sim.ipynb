{
 "cells": [
  {
   "cell_type": "code",
   "execution_count": 1,
   "metadata": {},
   "outputs": [],
   "source": [
    "import pandas as pd\n",
    "import numpy as np\n",
    "# import cupy as np\n",
    "import plotly.express as px\n",
    "import pandas_market_calendars as mcal\n",
    "from tqdm.notebook import tqdm"
   ]
  },
  {
   "cell_type": "markdown",
   "metadata": {},
   "source": [
    "## Payoff Function"
   ]
  },
  {
   "cell_type": "code",
   "execution_count": 2,
   "metadata": {},
   "outputs": [],
   "source": [
    "def payoff(paths, K, Barrier, ratio):\n",
    "    Nsim = paths.shape[0]\n",
    "    final_prices = paths[:, :, -1] #S_T\n",
    "    above_strike = np.all(final_prices >= K, axis=1)\n",
    "    barrier_event = np.any(paths.min(axis=2) <= Barrier, axis=1)\n",
    "\n",
    "    # No barrier event or (barrier event and above strike)\n",
    "    cash_payout = np.where(np.logical_or(np.logical_not(barrier_event), np.logical_and(barrier_event,  above_strike)), 1105, 0)\n",
    "\n",
    "    # barrier event and below strike\n",
    "    percent_change = final_prices / K # Based on final strike price\n",
    "    min_loc = np.argmin(percent_change, axis=1) # Finding the worst performing underlying\n",
    "    j = np.indices(min_loc.shape)\n",
    "    payouts = 1000 * percent_change[j, min_loc] + 105 # certificate to stock ratio * final price of the stock + coupon payment\n",
    "    stock_payout = np.where(np.logical_and(barrier_event,  np.logical_not(above_strike)), payouts, 0)\n",
    "\n",
    "    return np.sum(np.concatenate((cash_payout.reshape(1, Nsim), stock_payout.reshape(1, Nsim))), axis=0)"
   ]
  },
  {
   "cell_type": "markdown",
   "metadata": {},
   "source": [
    "Expected Payoff: $ \\hat{f}(S, t) = \\frac{1}{n} \\sum^n_{i=1} e^{-r(T-t)} \\chi(S^{(i)})$"
   ]
  },
  {
   "cell_type": "code",
   "execution_count": 3,
   "metadata": {},
   "outputs": [],
   "source": [
    "def expected_payoff(payoffs, r, T, t):\n",
    "    return np.mean(np.exp(-r*(T-t)) * payoffs)"
   ]
  },
  {
   "cell_type": "markdown",
   "metadata": {},
   "source": [
    "## Plotting"
   ]
  },
  {
   "cell_type": "code",
   "execution_count": 4,
   "metadata": {},
   "outputs": [],
   "source": [
    "def plot_simulations(price_hist, Nsim, sim_paths, stock=0):\n",
    "    \"\"\"plots simulations for chosen stock\n",
    "\n",
    "    Args:\n",
    "        price_hist (df): df of historical prices\n",
    "        sim_paths (list): simulated price paths\n",
    "        stock (int, optional): index of stock. Defaults to 0.\n",
    "    \"\"\"\n",
    "    # df of historical prices\n",
    "    price_hist = price_hist.to_numpy()[:, [0]].reshape(-1)\n",
    "    price_hist = np.vstack([price_hist]*Nsim)\n",
    "    price_hist = pd.DataFrame(price_hist).transpose()\n",
    "\n",
    "    sim_paths = pd.DataFrame(sim_paths[:, stock, :]).transpose()\n",
    "    sim_paths = pd.concat((price_hist, sim_paths))\n",
    "    sim_paths = sim_paths.reset_index(drop=True)\n",
    "    fig = px.line(sim_paths)\n",
    "    return fig"
   ]
  },
  {
   "cell_type": "markdown",
   "metadata": {},
   "source": [
    "# GBM Simlulations\n"
   ]
  },
  {
   "cell_type": "markdown",
   "metadata": {},
   "source": [
    "## Standard MC"
   ]
  },
  {
   "cell_type": "code",
   "execution_count": 5,
   "metadata": {},
   "outputs": [],
   "source": [
    "def multi_asset_GBM(S0, v, r, Sigma, dt, m, p):\n",
    "    \"\"\"GBM simulation of multiple asset paths\n",
    "\n",
    "    Args:\n",
    "        S0 (vector of start prices): vector of starting prices\n",
    "        v (array): mu/dt\n",
    "        r (int): risk free interest rate\n",
    "        Sigma (matrix): covariance matrix\n",
    "        dt (float): delta between each time step\n",
    "        m (int): number of days simulated\n",
    "        p (int): number of assets\n",
    "    \"\"\"\n",
    "\n",
    "    S = np.zeros(shape=(m, p))\n",
    "    S[0] = S0\n",
    "\n",
    "    z = np.random.multivariate_normal(mean=np.zeros(p), cov=np.identity(p), size=m)\n",
    "    for step in range(1, m):\n",
    "        S[step] = S[step-1] * np.exp(( r * dt * np.ones(p) ) # Rate discount\n",
    "             - ( 0.5 * dt * np.diagonal(Sigma) ) # Volatility\n",
    "             + ( np.matmul(np.linalg.cholesky(Sigma * dt), z[step-1]) )) # Weiner process\n",
    "    return np.transpose(S)"
   ]
  },
  {
   "cell_type": "markdown",
   "metadata": {},
   "source": [
    "## Antithetic Variate"
   ]
  },
  {
   "cell_type": "code",
   "execution_count": 6,
   "metadata": {},
   "outputs": [],
   "source": [
    "def multi_asset_GBM_av(S0, v, r, Sigma, dt, m, p):\n",
    "    \"\"\"GBM simulation of multiple asset paths\n",
    "\n",
    "    Args:\n",
    "        S0 (vector of start prices): vector of starting prices\n",
    "        v (array): mu/dt\n",
    "        r (int): risk free interest rate\n",
    "        Sigma (matrix): covariance matrix\n",
    "        dt (float): delta between each time step\n",
    "        m (int): number of days simulated\n",
    "        p (int): number of assets\n",
    "    \"\"\"\n",
    "\n",
    "    S = np.zeros(shape=(m, p))\n",
    "    Stilde = np.zeros(shape=(m, p))\n",
    "    S[0] = S0\n",
    "    Stilde[0] = S0\n",
    "\n",
    "    z = np.random.multivariate_normal(mean=np.zeros(p), cov=np.identity(p), size=m)\n",
    "    for step in range(1, m):\n",
    "        S[step] = S[step-1] * np.exp(( r * dt * np.ones(p) ) # Rate discount\n",
    "             - ( 0.5 * dt * np.diagonal(Sigma) ) # Volatility\n",
    "             + ( np.matmul(np.linalg.cholesky(Sigma * dt), z[step-1]) )) # Weiner process\n",
    "\n",
    "        Stilde[step] = S[step-1] * np.exp(( r * dt * np.ones(p) ) # Rate discount\n",
    "             - ( 0.5 * dt * np.diagonal(Sigma) ) # Volatility\n",
    "             + ( np.matmul(np.linalg.cholesky(Sigma * dt), -z[step-1]) )) # Weiner process\n",
    "    return np.transpose(S), np.transpose(Stilde)"
   ]
  },
  {
   "cell_type": "markdown",
   "metadata": {},
   "source": [
    "## Helper Functions"
   ]
  },
  {
   "cell_type": "code",
   "execution_count": 7,
   "metadata": {},
   "outputs": [],
   "source": [
    "# function to get v and Sigma from within a 1 year window\n",
    "def get_simulation_params(asset_hist, t, dt):\n",
    "    prices = asset_hist[t: t+252, :]\n",
    "    log_returns = np.diff(np.log(prices), axis=0)\n",
    "    S0 = prices[-1, :]\n",
    "    v = np.mean(log_returns, axis=0)/dt\n",
    "    Sigma = np.cov(log_returns, rowvar=False)/dt\n",
    "    return S0, Sigma, v"
   ]
  },
  {
   "cell_type": "code",
   "execution_count": 8,
   "metadata": {},
   "outputs": [],
   "source": [
    "def n_path_sim(asset_hist, Nsim, t, r, dt, p, m, sim_func, var_reduction=None):\n",
    "\n",
    "    paths = None\n",
    "    remaining_steps = m-t\n",
    "\n",
    "    if var_reduction == None:\n",
    "        paths = np.zeros(shape=(Nsim, p, remaining_steps))\n",
    "        for i in range(Nsim):\n",
    "            S0, Sigma, v = get_simulation_params(asset_hist, t, dt)\n",
    "            paths[i] = sim_func(S0, v, r, Sigma, dt, remaining_steps, p)\n",
    "\n",
    "    elif var_reduction == \"av\":\n",
    "        paths = np.zeros(shape=(2 * Nsim, p, remaining_steps))\n",
    "        for i in range(Nsim):\n",
    "            S0, Sigma, v = get_simulation_params(asset_hist, t, dt)\n",
    "            paths[i], paths[Nsim + i] = sim_func(S0, v, r, Sigma, dt, remaining_steps, p)\n",
    "\n",
    "    return paths"
   ]
  },
  {
   "cell_type": "code",
   "execution_count": 9,
   "metadata": {},
   "outputs": [],
   "source": [
    "def n_path_sim_greeks(asset_hist, Nsim, t, r, dt, p, m, sim_func):\n",
    "\n",
    "    remaining_steps = m-t\n",
    "    paths = np.zeros(shape=(3, Nsim, p, remaining_steps))\n",
    "    for j, h in enumerate([0.998, 1, 1.002]):\n",
    "        for i in range(Nsim):\n",
    "            S0, Sigma, v = get_simulation_params(asset_hist, t, dt)\n",
    "            paths[j][i] = sim_func(S0 * h, v, r, Sigma, dt, remaining_steps, p)\n",
    "\n",
    "    return paths"
   ]
  },
  {
   "cell_type": "code",
   "execution_count": 10,
   "metadata": {},
   "outputs": [],
   "source": [
    "def calc_rates(t, m, rates):\n",
    "    if t + 251 < len(rates):\n",
    "        rates_today = rates[t + 251]\n",
    "    else:\n",
    "        rates_today = rates[-1]\n",
    "    time_frame = np.array([21, 42, 63, 126, 252, 504])\n",
    "    return np.interp(40, time_frame, rates_today)"
   ]
  },
  {
   "cell_type": "markdown",
   "metadata": {},
   "source": [
    "# Run Simulations"
   ]
  },
  {
   "cell_type": "code",
   "execution_count": 11,
   "metadata": {},
   "outputs": [
    {
     "data": {
      "text/html": [
       "<div>\n",
       "<style scoped>\n",
       "    .dataframe tbody tr th:only-of-type {\n",
       "        vertical-align: middle;\n",
       "    }\n",
       "\n",
       "    .dataframe tbody tr th {\n",
       "        vertical-align: top;\n",
       "    }\n",
       "\n",
       "    .dataframe thead th {\n",
       "        text-align: right;\n",
       "    }\n",
       "</style>\n",
       "<table border=\"1\" class=\"dataframe\">\n",
       "  <thead>\n",
       "    <tr style=\"text-align: right;\">\n",
       "      <th></th>\n",
       "      <th>CVX</th>\n",
       "      <th>UNH</th>\n",
       "      <th>XOM</th>\n",
       "    </tr>\n",
       "    <tr>\n",
       "      <th>Date</th>\n",
       "      <th></th>\n",
       "      <th></th>\n",
       "      <th></th>\n",
       "    </tr>\n",
       "  </thead>\n",
       "  <tbody>\n",
       "    <tr>\n",
       "      <th>2020-05-26</th>\n",
       "      <td>93.300003</td>\n",
       "      <td>294.890015</td>\n",
       "      <td>45.910000</td>\n",
       "    </tr>\n",
       "    <tr>\n",
       "      <th>2020-05-27</th>\n",
       "      <td>93.900002</td>\n",
       "      <td>303.769989</td>\n",
       "      <td>46.240002</td>\n",
       "    </tr>\n",
       "    <tr>\n",
       "      <th>2020-05-28</th>\n",
       "      <td>90.870003</td>\n",
       "      <td>303.970001</td>\n",
       "      <td>45.040001</td>\n",
       "    </tr>\n",
       "    <tr>\n",
       "      <th>2020-05-29</th>\n",
       "      <td>91.699997</td>\n",
       "      <td>304.850006</td>\n",
       "      <td>45.470001</td>\n",
       "    </tr>\n",
       "    <tr>\n",
       "      <th>2020-06-01</th>\n",
       "      <td>92.790001</td>\n",
       "      <td>305.929993</td>\n",
       "      <td>46.279999</td>\n",
       "    </tr>\n",
       "  </tbody>\n",
       "</table>\n",
       "</div>"
      ],
      "text/plain": [
       "                  CVX         UNH        XOM\n",
       "Date                                        \n",
       "2020-05-26  93.300003  294.890015  45.910000\n",
       "2020-05-27  93.900002  303.769989  46.240002\n",
       "2020-05-28  90.870003  303.970001  45.040001\n",
       "2020-05-29  91.699997  304.850006  45.470001\n",
       "2020-06-01  92.790001  305.929993  46.279999"
      ]
     },
     "execution_count": 11,
     "metadata": {},
     "output_type": "execute_result"
    }
   ],
   "source": [
    "assets_df = pd.read_csv(\"assets.csv\", index_col='Date', parse_dates=True)\n",
    "assets_df.head()"
   ]
  },
  {
   "cell_type": "code",
   "execution_count": 12,
   "metadata": {},
   "outputs": [
    {
     "data": {
      "text/html": [
       "<div>\n",
       "<style scoped>\n",
       "    .dataframe tbody tr th:only-of-type {\n",
       "        vertical-align: middle;\n",
       "    }\n",
       "\n",
       "    .dataframe tbody tr th {\n",
       "        vertical-align: top;\n",
       "    }\n",
       "\n",
       "    .dataframe thead th {\n",
       "        text-align: right;\n",
       "    }\n",
       "</style>\n",
       "<table border=\"1\" class=\"dataframe\">\n",
       "  <thead>\n",
       "    <tr style=\"text-align: right;\">\n",
       "      <th></th>\n",
       "      <th>1 Mo</th>\n",
       "      <th>2 Mo</th>\n",
       "      <th>3 Mo</th>\n",
       "      <th>6 Mo</th>\n",
       "      <th>1 Yr</th>\n",
       "      <th>2 Yr</th>\n",
       "    </tr>\n",
       "    <tr>\n",
       "      <th>Date</th>\n",
       "      <th></th>\n",
       "      <th></th>\n",
       "      <th></th>\n",
       "      <th></th>\n",
       "      <th></th>\n",
       "      <th></th>\n",
       "    </tr>\n",
       "  </thead>\n",
       "  <tbody>\n",
       "    <tr>\n",
       "      <th>2020-05-26</th>\n",
       "      <td>0.10</td>\n",
       "      <td>0.12</td>\n",
       "      <td>0.14</td>\n",
       "      <td>0.17</td>\n",
       "      <td>0.17</td>\n",
       "      <td>0.18</td>\n",
       "    </tr>\n",
       "    <tr>\n",
       "      <th>2020-05-27</th>\n",
       "      <td>0.11</td>\n",
       "      <td>0.14</td>\n",
       "      <td>0.15</td>\n",
       "      <td>0.17</td>\n",
       "      <td>0.18</td>\n",
       "      <td>0.19</td>\n",
       "    </tr>\n",
       "    <tr>\n",
       "      <th>2020-05-28</th>\n",
       "      <td>0.14</td>\n",
       "      <td>0.15</td>\n",
       "      <td>0.15</td>\n",
       "      <td>0.18</td>\n",
       "      <td>0.17</td>\n",
       "      <td>0.17</td>\n",
       "    </tr>\n",
       "    <tr>\n",
       "      <th>2020-05-29</th>\n",
       "      <td>0.13</td>\n",
       "      <td>0.14</td>\n",
       "      <td>0.14</td>\n",
       "      <td>0.18</td>\n",
       "      <td>0.17</td>\n",
       "      <td>0.16</td>\n",
       "    </tr>\n",
       "    <tr>\n",
       "      <th>2020-06-01</th>\n",
       "      <td>0.12</td>\n",
       "      <td>0.14</td>\n",
       "      <td>0.14</td>\n",
       "      <td>0.18</td>\n",
       "      <td>0.17</td>\n",
       "      <td>0.14</td>\n",
       "    </tr>\n",
       "  </tbody>\n",
       "</table>\n",
       "</div>"
      ],
      "text/plain": [
       "            1 Mo  2 Mo  3 Mo  6 Mo  1 Yr  2 Yr\n",
       "Date                                          \n",
       "2020-05-26  0.10  0.12  0.14  0.17  0.17  0.18\n",
       "2020-05-27  0.11  0.14  0.15  0.17  0.18  0.19\n",
       "2020-05-28  0.14  0.15  0.15  0.18  0.17  0.17\n",
       "2020-05-29  0.13  0.14  0.14  0.18  0.17  0.16\n",
       "2020-06-01  0.12  0.14  0.14  0.18  0.17  0.14"
      ]
     },
     "execution_count": 12,
     "metadata": {},
     "output_type": "execute_result"
    }
   ],
   "source": [
    "rates_df = pd.read_csv(\"rates.csv\", index_col='Date', parse_dates=True)\n",
    "rates_df.head()"
   ]
  },
  {
   "cell_type": "code",
   "execution_count": 13,
   "metadata": {},
   "outputs": [
    {
     "data": {
      "text/html": [
       "<div>\n",
       "<style scoped>\n",
       "    .dataframe tbody tr th:only-of-type {\n",
       "        vertical-align: middle;\n",
       "    }\n",
       "\n",
       "    .dataframe tbody tr th {\n",
       "        vertical-align: top;\n",
       "    }\n",
       "\n",
       "    .dataframe thead th {\n",
       "        text-align: right;\n",
       "    }\n",
       "</style>\n",
       "<table border=\"1\" class=\"dataframe\">\n",
       "  <thead>\n",
       "    <tr style=\"text-align: right;\">\n",
       "      <th></th>\n",
       "      <th>Date</th>\n",
       "      <th>Price</th>\n",
       "    </tr>\n",
       "  </thead>\n",
       "  <tbody>\n",
       "    <tr>\n",
       "      <th>0</th>\n",
       "      <td>2021-06-02 00:00:00</td>\n",
       "      <td>1010.4</td>\n",
       "    </tr>\n",
       "    <tr>\n",
       "      <th>1</th>\n",
       "      <td>2021-06-03 00:00:00</td>\n",
       "      <td>1010.4</td>\n",
       "    </tr>\n",
       "    <tr>\n",
       "      <th>2</th>\n",
       "      <td>2021-06-04 00:00:00</td>\n",
       "      <td>1010.4</td>\n",
       "    </tr>\n",
       "    <tr>\n",
       "      <th>3</th>\n",
       "      <td>2021-06-07 00:00:00</td>\n",
       "      <td>1010.4</td>\n",
       "    </tr>\n",
       "    <tr>\n",
       "      <th>4</th>\n",
       "      <td>2021-06-08 00:00:00</td>\n",
       "      <td>1010.4</td>\n",
       "    </tr>\n",
       "  </tbody>\n",
       "</table>\n",
       "</div>"
      ],
      "text/plain": [
       "                  Date   Price\n",
       "0  2021-06-02 00:00:00  1010.4\n",
       "1  2021-06-03 00:00:00  1010.4\n",
       "2  2021-06-04 00:00:00  1010.4\n",
       "3  2021-06-07 00:00:00  1010.4\n",
       "4  2021-06-08 00:00:00  1010.4"
      ]
     },
     "execution_count": 13,
     "metadata": {},
     "output_type": "execute_result"
    }
   ],
   "source": [
    "actual_prices = pd.read_csv(\"actual.csv\")\n",
    "actual_prices.head()"
   ]
  },
  {
   "cell_type": "code",
   "execution_count": 14,
   "metadata": {},
   "outputs": [],
   "source": [
    "# Create a calendar\n",
    "nyse = mcal.get_calendar('NYSE')\n",
    "\n",
    "# set vars for product lifetime\n",
    "initial_fixing = pd.to_datetime(\"2021-06-02\")\n",
    "maturity = pd.to_datetime(\"2022-11-29\")\n",
    "lifetime = nyse.schedule(start_date=initial_fixing, end_date=maturity).index\n",
    "\n",
    "# if using cupy, move data to GPU\n",
    "asset_hist = np.asarray(assets_df.loc[\"2020-06-01\":].to_numpy())\n",
    "rates = np.asarray(rates_df.loc[\"2020-06-01\":].to_numpy()) / 100\n",
    "\n",
    "# gathered from product description\n",
    "K = np.array([103.87, 413.05, 58.26])\n",
    "Barrier = np.array([62.322, 247.830, 34.956])\n",
    "ratio = np.array([9.6274, 2.4210, 17.1644])\n",
    "\n",
    "asset_hist = asset_hist / K\n",
    "Barrier = Barrier / K\n",
    "K = K / K\n",
    "\n",
    "m = len(lifetime)  # no of days product is active for \n",
    "T = m/252 # period in terms of no. of financial years\n",
    "dt = 1/252  # daily increment\n",
    "\n",
    "simulations = [(multi_asset_GBM, None), (multi_asset_GBM_av, \"av\")]"
   ]
  },
  {
   "cell_type": "code",
   "execution_count": 35,
   "metadata": {},
   "outputs": [
    {
     "data": {
      "text/plain": [
       "<AxesSubplot:xlabel='Date'>"
      ]
     },
     "execution_count": 35,
     "metadata": {},
     "output_type": "execute_result"
    },
    {
     "data": {
      "image/png": "[encoded data removed]",
      "text/plain": [
       "<Figure size 640x480 with 1 Axes>"
      ]
     },
     "metadata": {},
     "output_type": "display_data"
    }
   ],
   "source": [
    "assets_df.loc[lifetime[0]:].plot()"
   ]
  },
  {
   "cell_type": "code",
   "execution_count": 31,
   "metadata": {},
   "outputs": [],
   "source": [
    "S0, Sigma, v = get_simulation_params(asset_hist, 30, dt)\n",
    "test_paths = multi_asset_GBM(S0, v, 0.04, Sigma, dt, m-30, 3)"
   ]
  },
  {
   "cell_type": "code",
   "execution_count": 32,
   "metadata": {},
   "outputs": [
    {
     "data": {
      "text/html": [
       "<div>\n",
       "<style scoped>\n",
       "    .dataframe tbody tr th:only-of-type {\n",
       "        vertical-align: middle;\n",
       "    }\n",
       "\n",
       "    .dataframe tbody tr th {\n",
       "        vertical-align: top;\n",
       "    }\n",
       "\n",
       "    .dataframe thead th {\n",
       "        text-align: right;\n",
       "    }\n",
       "</style>\n",
       "<table border=\"1\" class=\"dataframe\">\n",
       "  <thead>\n",
       "    <tr style=\"text-align: right;\">\n",
       "      <th></th>\n",
       "      <th>Stock 1</th>\n",
       "      <th>stock 2</th>\n",
       "      <th>stock 3</th>\n",
       "    </tr>\n",
       "  </thead>\n",
       "  <tbody>\n",
       "    <tr>\n",
       "      <th>0</th>\n",
       "      <td>1.000578</td>\n",
       "      <td>1.013291</td>\n",
       "      <td>1.044971</td>\n",
       "    </tr>\n",
       "    <tr>\n",
       "      <th>1</th>\n",
       "      <td>1.011019</td>\n",
       "      <td>1.006962</td>\n",
       "      <td>1.054866</td>\n",
       "    </tr>\n",
       "    <tr>\n",
       "      <th>2</th>\n",
       "      <td>1.005123</td>\n",
       "      <td>1.020697</td>\n",
       "      <td>1.045579</td>\n",
       "    </tr>\n",
       "    <tr>\n",
       "      <th>3</th>\n",
       "      <td>0.996403</td>\n",
       "      <td>1.002849</td>\n",
       "      <td>1.056176</td>\n",
       "    </tr>\n",
       "    <tr>\n",
       "      <th>4</th>\n",
       "      <td>0.978705</td>\n",
       "      <td>0.997331</td>\n",
       "      <td>1.048012</td>\n",
       "    </tr>\n",
       "  </tbody>\n",
       "</table>\n",
       "</div>"
      ],
      "text/plain": [
       "    Stock 1   stock 2   stock 3\n",
       "0  1.000578  1.013291  1.044971\n",
       "1  1.011019  1.006962  1.054866\n",
       "2  1.005123  1.020697  1.045579\n",
       "3  0.996403  1.002849  1.056176\n",
       "4  0.978705  0.997331  1.048012"
      ]
     },
     "execution_count": 32,
     "metadata": {},
     "output_type": "execute_result"
    }
   ],
   "source": [
    "test_df = pd.DataFrame(data=test_paths.T, columns=[\"Stock 1\", \"stock 2\", \"stock 3\"])\n",
    "test_df.head()"
   ]
  },
  {
   "cell_type": "code",
   "execution_count": 33,
   "metadata": {},
   "outputs": [
    {
     "data": {
      "application/vnd.plotly.v1+json": {
       "config": {
        "plotlyServerURL": "https://plot.ly"
       },
       "data": [
        {
         "hovertemplate": "variable=Stock 1<br>index=%{x}<br>value=%{y}<extra></extra>",
         "legendgroup": "Stock 1",
         "line": {
          "color": "#636efa",
          "dash": "solid"
         },
         "marker": {
          "symbol": "circle"
         },
         "mode": "lines",
         "name": "Stock 1",
         "showlegend": true,
         "type": "scattergl",
         "x": [
          0,
          1,
          2,
          3,
          4,
          5,
          6,
          7,
          8,
          9,
          10,
          11,
          12,
          13,
          14,
          15,
          16,
          17,
          18,
          19,
          20,
          21,
          22,
          23,
          24,
          25,
          26,
          27,
          28,
          29,
          30,
          31,
          32,
          33,
          34,
          35,
          36,
          37,
          38,
          39,
          40,
          41,
          42,
          43,
          44,
          45,
          46,
          47,
          48,
          49,
          50,
          51,
          52,
          53,
          54,
          55,
          56,
          57,
          58,
          59,
          60,
          61,
          62,
          63,
          64,
          65,
          66,
          67,
          68,
          69,
          70,
          71,
          72,
          73,
          74,
          75,
          76,
          77,
          78,
          79,
          80,
          81,
          82,
          83,
          84,
          85,
          86,
          87,
          88,
          89,
          90,
          91,
          92,
          93,
          94,
          95,
          96,
          97,
          98,
          99,
          100,
          101,
          102,
          103,
          104,
          105,
          106,
          107,
          108,
          109,
          110,
          111,
          112,
          113,
          114,
          115,
          116,
          117,
          118,
          119,
          120,
          121,
          122,
          123,
          124,
          125,
          126,
          127,
          128,
          129,
          130,
          131,
          132,
          133,
          134,
          135,
          136,
          137,
          138,
          139,
          140,
          141,
          142,
          143,
          144,
          145,
          146,
          147,
          148,
          149,
          150,
          151,
          152,
          153,
          154,
          155,
          156,
          157,
          158,
          159,
          160,
          161,
          162,
          163,
          164,
          165,
          166,
          167,
          168,
          169,
          170,
          171,
          172,
          173,
          174,
          175,
          176,
          177,
          178,
          179,
          180,
          181,
          182,
          183,
          184,
          185,
          186,
          187,
          188,
          189,
          190,
          191,
          192,
          193,
          194,
          195,
          196,
          197,
          198,
          199,
          200,
          201,
          202,
          203,
          204,
          205,
          206,
          207,
          208,
          209,
          210,
          211,
          212,
          213,
          214,
          215,
          216,
          217,
          218,
          219,
          220,
          221,
          222,
          223,
          224,
          225,
          226,
          227,
          228,
          229,
          230,
          231,
          232,
          233,
          234,
          235,
          236,
          237,
          238,
          239,
          240,
          241,
          242,
          243,
          244,
          245,
          246,
          247,
          248,
          249,
          250,
          251,
          252,
          253,
          254,
          255,
          256,
          257,
          258,
          259,
          260,
          261,
          262,
          263,
          264,
          265,
          266,
          267,
          268,
          269,
          270,
          271,
          272,
          273,
          274,
          275,
          276,
          277,
          278,
          279,
          280,
          281,
          282,
          283,
          284,
          285,
          286,
          287,
          288,
          289,
          290,
          291,
          292,
          293,
          294,
          295,
          296,
          297,
          298,
          299,
          300,
          301,
          302,
          303,
          304,
          305,
          306,
          307,
          308,
          309,
          310,
          311,
          312,
          313,
          314,
          315,
          316,
          317,
          318,
          319,
          320,
          321,
          322,
          323,
          324,
          325,
          326,
          327,
          328,
          329,
          330,
          331,
          332,
          333,
          334,
          335,
          336,
          337,
          338,
          339,
          340,
          341,
          342,
          343,
          344,
          345,
          346,
          347
         ],
         "xaxis": "x",
         "y": [
          1.0005776451333397,
          1.011018745885106,
          1.0051231465548043,
          0.9964031722495651,
          0.978705445939093,
          1.013325807409655,
          0.9803419855219886,
          0.9782492784692426,
          1.0043822861762155,
          1.0149149053754536,
          0.9987995056030792,
          0.9917148700721605,
          0.9634515024324681,
          0.9815588614997693,
          1.0107358323170228,
          1.0421856036572594,
          1.0104266207936994,
          1.019763798555308,
          1.0296470335666412,
          1.0334416662789432,
          0.9952979740119408,
          0.9629694031191576,
          0.9561628256032919,
          0.9602196570038055,
          0.944111663756718,
          0.9730993550021877,
          0.9785211267522868,
          0.9793998807327486,
          0.9718382750640233,
          0.9656977817881605,
          0.9832822297739982,
          0.97203999700704,
          0.9221375985335668,
          0.9049976843673925,
          0.889198553495055,
          0.8838864060089737,
          0.9189382579858403,
          0.9457068369601275,
          0.9154930544382524,
          0.8876218657508326,
          0.900268143171534,
          0.8770066586259141,
          0.8543149121733034,
          0.854388033321572,
          0.8654825239898745,
          0.8778842318459301,
          0.8657300223353684,
          0.876015970661922,
          0.887920623982247,
          0.9137859388124654,
          0.909380225722974,
          0.8969297884272454,
          0.9069681388919889,
          0.8757678833401085,
          0.8853156825713491,
          0.9030118587882947,
          0.9082122767998062,
          0.8859641528761176,
          0.9067484760540112,
          0.9162194896437342,
          0.9309246239867374,
          0.9281083803239009,
          0.9161445797054723,
          0.8878926776861569,
          0.8933901371303581,
          0.8867785356715143,
          0.8918023197117807,
          0.8942426682770712,
          0.9081339577781989,
          0.9313449478510929,
          0.9392596020841192,
          0.9405300680745328,
          0.954064838532796,
          0.9705962047572326,
          0.9855923268255883,
          0.9766253419326727,
          0.9680660486062123,
          0.9685052178690772,
          0.9494583449041215,
          0.963422282600361,
          0.9433619381862964,
          0.9227112994883141,
          0.9761961057295869,
          0.9858987201672595,
          0.9772348163384293,
          0.9562677417535508,
          0.988876027262296,
          0.9798331342256366,
          0.9758766409934524,
          0.9361387993700433,
          0.8877110411147205,
          0.898794896128012,
          0.8979672348186211,
          0.9056561017608143,
          0.9112444369091541,
          0.8931368925365221,
          0.8995381818776627,
          0.8668717058473762,
          0.866492752577341,
          0.8613817531326874,
          0.858683298101764,
          0.8491342159510994,
          0.8814468925611492,
          0.879915931977795,
          0.8975259029955294,
          0.9178142899189596,
          0.9441466935759913,
          0.9455248763158242,
          0.9534494330711926,
          0.9564341383102661,
          0.9539617555112347,
          0.9383934680722971,
          1.002763471267637,
          1.0372677877255303,
          1.0260476303739918,
          1.0465002751177763,
          1.064145319777387,
          1.0555788780603006,
          1.077440468088871,
          1.084363783856084,
          1.098296705343661,
          1.0823408219340962,
          1.0653112879782267,
          1.0025919759817972,
          0.9928737268523793,
          1.000069993443149,
          1.0233908519853723,
          1.0310797798324982,
          1.043246065242686,
          1.0652289755900144,
          1.0470677709354583,
          1.02931912132106,
          1.014527566621813,
          0.9856371016011106,
          0.9884390851622743,
          1.004291364160869,
          1.0297662526679456,
          1.0383044873489817,
          1.0551825041305414,
          1.0800852457897612,
          1.0660392808550598,
          1.1140262408877344,
          1.0872305205456492,
          1.0344681447216009,
          1.0309211684100268,
          1.043679230733537,
          1.0676555000966033,
          1.0741383513589091,
          1.0645772205466912,
          1.0503732446871745,
          1.0600010437900866,
          1.1001909419072842,
          1.071114161787592,
          1.0820230768926729,
          1.0900015235767289,
          1.0879990761043874,
          1.0758401102165192,
          1.0502435689615006,
          1.0755594402592716,
          1.0636883426212036,
          1.0831787757893414,
          1.0748719261501531,
          1.119131758021415,
          1.1240696307216294,
          1.1503127861159916,
          1.156090733928859,
          1.1489620059875185,
          1.1299248544614495,
          1.1293716485667833,
          1.0721912345463205,
          1.1186832723870583,
          1.1207387614248534,
          1.106002630530929,
          1.0713293984573005,
          1.0700709832261754,
          1.0745051963521062,
          1.0495804757753044,
          1.091799182720022,
          1.0950606984977223,
          1.0704997439177502,
          1.0483019832735974,
          1.0480192343793049,
          1.0295388279065831,
          1.0515222601803444,
          1.0759634708464618,
          1.0514484071058028,
          1.0764012162087295,
          1.0900778436465064,
          1.1049419056668526,
          1.1209724912603212,
          1.1636674624862848,
          1.1633426830562434,
          1.1508228893984613,
          1.1329341901562802,
          1.1572162405786575,
          1.1363291456122848,
          1.0937859911624395,
          1.1179328405207616,
          1.1030235165824813,
          1.104230646848287,
          1.1136385456340436,
          1.1112503354194438,
          1.1286303520598904,
          1.1793195779758456,
          1.18167988048496,
          1.1875504176813392,
          1.182915226583336,
          1.1770912406579497,
          1.2060521038570202,
          1.218828538009695,
          1.2015602572444355,
          1.2209765337229515,
          1.2174411633533582,
          1.185574451082162,
          1.206601777745838,
          1.1953271496563147,
          1.22563264309486,
          1.233384041090197,
          1.2423925138713372,
          1.2117854950423201,
          1.2199540307708343,
          1.2262966368953128,
          1.259416905144194,
          1.2270979970812808,
          1.243395952165717,
          1.2394780195143908,
          1.25223927820839,
          1.2430912550929374,
          1.2653982962083732,
          1.269822512391451,
          1.2796724035179246,
          1.2525130319213191,
          1.24500358916346,
          1.2556381133410293,
          1.3285477089663635,
          1.333839652664483,
          1.3327099705180152,
          1.2956821168609154,
          1.2790780809489626,
          1.3184780341621487,
          1.2993164930086794,
          1.258101569253426,
          1.2849456024944763,
          1.2843081617612455,
          1.2897393141077476,
          1.2817256943714979,
          1.2496495917668973,
          1.228293471988754,
          1.1800230595743704,
          1.176201810893612,
          1.1568355209236854,
          1.162311791875252,
          1.178355141553462,
          1.167974375698984,
          1.1984423430730413,
          1.2077633052526369,
          1.1922717066769495,
          1.2104044841669876,
          1.2469742983629897,
          1.2086737746634222,
          1.1896510159611497,
          1.212855450373333,
          1.2034127422495433,
          1.1754940237169755,
          1.1810888531369819,
          1.1455073158857838,
          1.1469244259843385,
          1.101064872660943,
          1.1081484095023721,
          1.0975130938351052,
          1.1108948196275843,
          1.1005556564680268,
          1.0924756341778177,
          1.110213272243621,
          1.1305574205676114,
          1.148439727851868,
          1.1856922923387279,
          1.1832722136579576,
          1.1930953669392794,
          1.1783659524775643,
          1.2221516543695339,
          1.1865460372929313,
          1.1943545914395097,
          1.1656512272014958,
          1.155247863193566,
          1.1565926371150315,
          1.1316579526499493,
          1.1700279141915928,
          1.1303801796593795,
          1.1251788711308464,
          1.15240783422405,
          1.1795707127455146,
          1.1784828709385144,
          1.186891870128924,
          1.155357601044731,
          1.1595108255364113,
          1.1680302379133327,
          1.1873104084784791,
          1.1839128168674704,
          1.2081382238521368,
          1.2164233121214914,
          1.2338306193230215,
          1.2276225193662258,
          1.2282686986566926,
          1.2512299748382365,
          1.2668956305828973,
          1.3025131279652264,
          1.2798735297596775,
          1.2498373447738673,
          1.2618650053126192,
          1.246282779016318,
          1.2315767063596568,
          1.2428097736354673,
          1.2651340461205665,
          1.2427350008514155,
          1.2339350712361892,
          1.2436646288440096,
          1.2309675335739172,
          1.2238218160279262,
          1.2599818324302028,
          1.266102446459867,
          1.2450737955014846,
          1.2208505925506672,
          1.203388196751626,
          1.221569133957685,
          1.2818726047959323,
          1.3274521169534543,
          1.2797072954224389,
          1.2721509740465957,
          1.2901066263312182,
          1.304641956092658,
          1.3352812707502202,
          1.30890981448325,
          1.307401225764176,
          1.2902296795954744,
          1.2592275961873696,
          1.2366183598500073,
          1.2281446037933383,
          1.2206630994411602,
          1.1646832096510846,
          1.1410326869733978,
          1.1244836022312237,
          1.1335574508778758,
          1.1104460565934973,
          1.0980589253804696,
          1.082563312218725,
          1.0811609680986582,
          1.081968058037995
         ],
         "yaxis": "y"
        },
        {
         "hovertemplate": "variable=stock 2<br>index=%{x}<br>value=%{y}<extra></extra>",
         "legendgroup": "stock 2",
         "line": {
          "color": "#EF553B",
          "dash": "solid"
         },
         "marker": {
          "symbol": "circle"
         },
         "mode": "lines",
         "name": "stock 2",
         "showlegend": true,
         "type": "scattergl",
         "x": [
          0,
          1,
          2,
          3,
          4,
          5,
          6,
          7,
          8,
          9,
          10,
          11,
          12,
          13,
          14,
          15,
          16,
          17,
          18,
          19,
          20,
          21,
          22,
          23,
          24,
          25,
          26,
          27,
          28,
          29,
          30,
          31,
          32,
          33,
          34,
          35,
          36,
          37,
          38,
          39,
          40,
          41,
          42,
          43,
          44,
          45,
          46,
          47,
          48,
          49,
          50,
          51,
          52,
          53,
          54,
          55,
          56,
          57,
          58,
          59,
          60,
          61,
          62,
          63,
          64,
          65,
          66,
          67,
          68,
          69,
          70,
          71,
          72,
          73,
          74,
          75,
          76,
          77,
          78,
          79,
          80,
          81,
          82,
          83,
          84,
          85,
          86,
          87,
          88,
          89,
          90,
          91,
          92,
          93,
          94,
          95,
          96,
          97,
          98,
          99,
          100,
          101,
          102,
          103,
          104,
          105,
          106,
          107,
          108,
          109,
          110,
          111,
          112,
          113,
          114,
          115,
          116,
          117,
          118,
          119,
          120,
          121,
          122,
          123,
          124,
          125,
          126,
          127,
          128,
          129,
          130,
          131,
          132,
          133,
          134,
          135,
          136,
          137,
          138,
          139,
          140,
          141,
          142,
          143,
          144,
          145,
          146,
          147,
          148,
          149,
          150,
          151,
          152,
          153,
          154,
          155,
          156,
          157,
          158,
          159,
          160,
          161,
          162,
          163,
          164,
          165,
          166,
          167,
          168,
          169,
          170,
          171,
          172,
          173,
          174,
          175,
          176,
          177,
          178,
          179,
          180,
          181,
          182,
          183,
          184,
          185,
          186,
          187,
          188,
          189,
          190,
          191,
          192,
          193,
          194,
          195,
          196,
          197,
          198,
          199,
          200,
          201,
          202,
          203,
          204,
          205,
          206,
          207,
          208,
          209,
          210,
          211,
          212,
          213,
          214,
          215,
          216,
          217,
          218,
          219,
          220,
          221,
          222,
          223,
          224,
          225,
          226,
          227,
          228,
          229,
          230,
          231,
          232,
          233,
          234,
          235,
          236,
          237,
          238,
          239,
          240,
          241,
          242,
          243,
          244,
          245,
          246,
          247,
          248,
          249,
          250,
          251,
          252,
          253,
          254,
          255,
          256,
          257,
          258,
          259,
          260,
          261,
          262,
          263,
          264,
          265,
          266,
          267,
          268,
          269,
          270,
          271,
          272,
          273,
          274,
          275,
          276,
          277,
          278,
          279,
          280,
          281,
          282,
          283,
          284,
          285,
          286,
          287,
          288,
          289,
          290,
          291,
          292,
          293,
          294,
          295,
          296,
          297,
          298,
          299,
          300,
          301,
          302,
          303,
          304,
          305,
          306,
          307,
          308,
          309,
          310,
          311,
          312,
          313,
          314,
          315,
          316,
          317,
          318,
          319,
          320,
          321,
          322,
          323,
          324,
          325,
          326,
          327,
          328,
          329,
          330,
          331,
          332,
          333,
          334,
          335,
          336,
          337,
          338,
          339,
          340,
          341,
          342,
          343,
          344,
          345,
          346,
          347
         ],
         "xaxis": "x",
         "y": [
          1.0132913908727756,
          1.0069622631632364,
          1.0206970287812878,
          1.0028489466446693,
          0.9973306026346604,
          0.9922195108547912,
          0.9768106816387292,
          0.969787018957791,
          0.9859328122980557,
          0.9821581675627976,
          0.9586307052520938,
          0.9626767416853739,
          0.9562285985508259,
          0.9663281185479985,
          0.9450114150530554,
          0.9520795151327108,
          0.9500345574611943,
          0.9354621021326799,
          0.9490976328167893,
          0.9718238478870411,
          0.9676814054036181,
          0.9676527082793934,
          0.9953097426881675,
          1.0011034811906891,
          1.0061478384094602,
          1.0287214734260441,
          1.0402913055708272,
          1.036314123787174,
          1.0228798466660316,
          1.029621364296591,
          1.0173049937016128,
          1.027594480144662,
          1.0193607872529253,
          1.0190506024894308,
          1.0126975857356488,
          1.0119689943640175,
          1.0330126987249955,
          1.0322737911725135,
          1.0067579771995223,
          0.9921921013272387,
          0.9957024167939654,
          0.9865164080910038,
          0.9808922234804408,
          1.0009714893813988,
          0.9956145532967638,
          0.9901814839730717,
          0.9998657748940872,
          0.9882558803143767,
          1.000263224621517,
          1.0228075784283426,
          1.029367832730349,
          1.021483669693552,
          1.017233722574994,
          1.0505583346373806,
          1.049938091816686,
          1.0527962159607036,
          1.0602858961933967,
          1.0570474894420079,
          1.0695833219024824,
          1.065652470648153,
          1.0608752216507138,
          1.0655887137839688,
          1.0832733716454535,
          1.0836121184404715,
          1.106525633934493,
          1.1193535379687651,
          1.132075937818902,
          1.1306450491889497,
          1.1439954132328887,
          1.1276146259066442,
          1.1476342830398876,
          1.1192089528042939,
          1.1423437224852386,
          1.1418371687277993,
          1.1326709589594646,
          1.1362488927759706,
          1.134085359430025,
          1.1463436904779645,
          1.16224295261738,
          1.1510986042171842,
          1.1546922757591214,
          1.1495723098872428,
          1.154904679743722,
          1.157260850454776,
          1.1620611631329893,
          1.1701907984428792,
          1.1941605103518225,
          1.1698595277736887,
          1.193064185214858,
          1.1933148215236742,
          1.164588815997257,
          1.1662734470572267,
          1.1405735542589968,
          1.1508386244826965,
          1.1517245945587016,
          1.1379984864071149,
          1.1808999375524505,
          1.1648212950936354,
          1.1601057411730087,
          1.1531088834063095,
          1.156057239664578,
          1.1500404039065513,
          1.1354551284892627,
          1.1540439191839487,
          1.1467147322877231,
          1.1376318994546673,
          1.1749906323736792,
          1.1817221754240506,
          1.1698177514433419,
          1.1586860627336153,
          1.1588283186753827,
          1.1879370582093842,
          1.1770131319138815,
          1.1745655550850447,
          1.156656464189347,
          1.1387470063826843,
          1.1389798817578267,
          1.1452775723216313,
          1.1356448480843495,
          1.164568288160626,
          1.174663702305723,
          1.178179726903232,
          1.1664026245250898,
          1.1394076354199667,
          1.160354287651517,
          1.1304434017529588,
          1.1357974810650449,
          1.1369670770430564,
          1.1350604808705074,
          1.130800924129581,
          1.0968322427857133,
          1.1183663638857204,
          1.1133755404103318,
          1.087143467757055,
          1.0971322464155977,
          1.1154425763992868,
          1.0974604671781003,
          1.1143469740941994,
          1.0958489704925185,
          1.0968752643758044,
          1.1074131094218789,
          1.122400404619773,
          1.1000852395030132,
          1.0752447637417746,
          1.073393488812303,
          1.0501036664368013,
          1.046910724149287,
          1.0452379534170304,
          1.0268774328726005,
          1.0319666658028455,
          1.0136329314762846,
          1.0114943575218722,
          1.0249948760140333,
          1.0108467366617313,
          1.0030235974088475,
          1.0197186243546668,
          1.0194189251161327,
          0.9949108539386841,
          0.9877805918252978,
          0.9867939651783456,
          0.9896150450035247,
          0.9812489618076053,
          0.9781515627488429,
          0.9652481365365247,
          0.9617205161378616,
          0.9564218322998237,
          0.9471505595359155,
          0.94663471031243,
          0.9584355271462367,
          0.9517653382705867,
          0.9511302903558908,
          0.9344429832774851,
          0.938075813826766,
          0.9388385158975717,
          0.9442165519116797,
          0.9380794318726199,
          0.922767884482651,
          0.9261469131507656,
          0.9199723204034834,
          0.914147452592821,
          0.9168332558826269,
          0.912342300124686,
          0.9162177012238903,
          0.9276269669818771,
          0.9218052472848314,
          0.915743754665347,
          0.916190528378654,
          0.9258477981692734,
          0.9158335363388144,
          0.9094917511301499,
          0.9238721066094268,
          0.9372080543562731,
          0.9386309219169724,
          0.9540532533965672,
          0.9720510027981374,
          0.961442360927184,
          0.9682397799684996,
          0.9625362868531243,
          0.9628023628435948,
          0.9657716999294267,
          0.9741775321984842,
          0.9807683789502885,
          0.9874366811392913,
          1.0046942230923286,
          1.0042659150179019,
          0.9837962839489468,
          0.9982511035837083,
          1.0148163001181079,
          1.0259673314349544,
          1.006816003642427,
          0.9837928102126634,
          0.9966648898634307,
          0.9864502235753136,
          1.0145958280520802,
          1.0365263771356383,
          1.01930619362515,
          1.0466981863191485,
          1.051374123369335,
          1.039140909575511,
          1.004610381357573,
          1.0031461264905495,
          1.0028986408273546,
          1.0164622586837204,
          1.0406892462942618,
          1.0267184260154412,
          1.057534749818407,
          1.0891446510133165,
          1.0597643443482845,
          1.054077487987482,
          1.0890419896684234,
          1.0781729453568927,
          1.0497289351582737,
          1.0451587247030627,
          1.04751185814865,
          1.037798535601849,
          1.0405415575577688,
          1.0506519489930735,
          1.0683353096944315,
          1.073234680744323,
          1.0929054165129577,
          1.0841975614067276,
          1.0992696207940462,
          1.1018223064469936,
          1.0949847557802506,
          1.093047259219188,
          1.096804415494058,
          1.061099893586501,
          1.0598121225748833,
          1.070352839380288,
          1.0878793845854644,
          1.083150215829248,
          1.0951447235390537,
          1.1217391895402253,
          1.1332022127375736,
          1.1189059631720741,
          1.1050356229873242,
          1.106503152826464,
          1.1049149423128597,
          1.135620070442403,
          1.1349613201957895,
          1.1328137127443232,
          1.117041894141157,
          1.1111246794644873,
          1.0931920574494178,
          1.087396908295786,
          1.0721816468117589,
          1.0539608919828265,
          1.043074553831674,
          1.0656559642438241,
          1.0490179100367156,
          1.0530112136518508,
          1.0623546616656174,
          1.0268045353603343,
          1.0031241820469288,
          0.9965913607068458,
          1.0099620232701003,
          1.0189615148229327,
          1.0119303309528789,
          1.003425962182965,
          0.9888425110907645,
          1.0240591083108443,
          1.014711634938496,
          0.997266357429163,
          0.9933811346458612,
          0.9836930493260279,
          0.991207585027415,
          0.9977461983985708,
          1.0229042326959232,
          0.9994947256840124,
          0.9981355642713376,
          0.9830680244744936,
          0.9856220850828856,
          0.9885162481685402,
          0.9933732832511135,
          0.9948450742921345,
          0.9982117306124149,
          0.9847052872895363,
          0.9818458985685838,
          0.9658107321087093,
          0.956329375600939,
          0.944777635562941,
          0.9516763767647575,
          0.9491078992092297,
          0.9493663763692536,
          0.9678506157398448,
          0.9545251110827683,
          0.9618443175011586,
          0.9694474786925625,
          0.9359936274332454,
          0.9497249055159437,
          0.9474165558369219,
          0.9679575349126136,
          0.9540512336153164,
          0.958538604298026,
          0.9549067697181699,
          0.9697111642652334,
          0.9793612725496511,
          0.9891117241736399,
          0.9815342502925493,
          0.9866981858642724,
          1.0049291876083464,
          0.9899089189167564,
          0.9979440076856906,
          0.9914610007229058,
          1.0100832411020004,
          1.017688994349156,
          1.0246233516996681,
          1.0128341028000856,
          0.9840066801577532,
          0.98483288295605,
          0.9934863962341217,
          0.9855997297277841,
          0.9606813474375956,
          0.94066620413738,
          0.9305254797979119,
          0.9257847249543197,
          0.8978047101853025,
          0.9033884415071592,
          0.9246468016714273,
          0.9306586612670646,
          0.9039817048247564,
          0.9197203888971412,
          0.9410332415962612,
          0.9356756713792228,
          0.9383380130726181,
          0.9328065033018995,
          0.9445129481151486,
          0.9422262949692003
         ],
         "yaxis": "y"
        },
        {
         "hovertemplate": "variable=stock 3<br>index=%{x}<br>value=%{y}<extra></extra>",
         "legendgroup": "stock 3",
         "line": {
          "color": "#00cc96",
          "dash": "solid"
         },
         "marker": {
          "symbol": "circle"
         },
         "mode": "lines",
         "name": "stock 3",
         "showlegend": true,
         "type": "scattergl",
         "x": [
          0,
          1,
          2,
          3,
          4,
          5,
          6,
          7,
          8,
          9,
          10,
          11,
          12,
          13,
          14,
          15,
          16,
          17,
          18,
          19,
          20,
          21,
          22,
          23,
          24,
          25,
          26,
          27,
          28,
          29,
          30,
          31,
          32,
          33,
          34,
          35,
          36,
          37,
          38,
          39,
          40,
          41,
          42,
          43,
          44,
          45,
          46,
          47,
          48,
          49,
          50,
          51,
          52,
          53,
          54,
          55,
          56,
          57,
          58,
          59,
          60,
          61,
          62,
          63,
          64,
          65,
          66,
          67,
          68,
          69,
          70,
          71,
          72,
          73,
          74,
          75,
          76,
          77,
          78,
          79,
          80,
          81,
          82,
          83,
          84,
          85,
          86,
          87,
          88,
          89,
          90,
          91,
          92,
          93,
          94,
          95,
          96,
          97,
          98,
          99,
          100,
          101,
          102,
          103,
          104,
          105,
          106,
          107,
          108,
          109,
          110,
          111,
          112,
          113,
          114,
          115,
          116,
          117,
          118,
          119,
          120,
          121,
          122,
          123,
          124,
          125,
          126,
          127,
          128,
          129,
          130,
          131,
          132,
          133,
          134,
          135,
          136,
          137,
          138,
          139,
          140,
          141,
          142,
          143,
          144,
          145,
          146,
          147,
          148,
          149,
          150,
          151,
          152,
          153,
          154,
          155,
          156,
          157,
          158,
          159,
          160,
          161,
          162,
          163,
          164,
          165,
          166,
          167,
          168,
          169,
          170,
          171,
          172,
          173,
          174,
          175,
          176,
          177,
          178,
          179,
          180,
          181,
          182,
          183,
          184,
          185,
          186,
          187,
          188,
          189,
          190,
          191,
          192,
          193,
          194,
          195,
          196,
          197,
          198,
          199,
          200,
          201,
          202,
          203,
          204,
          205,
          206,
          207,
          208,
          209,
          210,
          211,
          212,
          213,
          214,
          215,
          216,
          217,
          218,
          219,
          220,
          221,
          222,
          223,
          224,
          225,
          226,
          227,
          228,
          229,
          230,
          231,
          232,
          233,
          234,
          235,
          236,
          237,
          238,
          239,
          240,
          241,
          242,
          243,
          244,
          245,
          246,
          247,
          248,
          249,
          250,
          251,
          252,
          253,
          254,
          255,
          256,
          257,
          258,
          259,
          260,
          261,
          262,
          263,
          264,
          265,
          266,
          267,
          268,
          269,
          270,
          271,
          272,
          273,
          274,
          275,
          276,
          277,
          278,
          279,
          280,
          281,
          282,
          283,
          284,
          285,
          286,
          287,
          288,
          289,
          290,
          291,
          292,
          293,
          294,
          295,
          296,
          297,
          298,
          299,
          300,
          301,
          302,
          303,
          304,
          305,
          306,
          307,
          308,
          309,
          310,
          311,
          312,
          313,
          314,
          315,
          316,
          317,
          318,
          319,
          320,
          321,
          322,
          323,
          324,
          325,
          326,
          327,
          328,
          329,
          330,
          331,
          332,
          333,
          334,
          335,
          336,
          337,
          338,
          339,
          340,
          341,
          342,
          343,
          344,
          345,
          346,
          347
         ],
         "xaxis": "x",
         "y": [
          1.0449708376244422,
          1.0548658214986548,
          1.0455790357918673,
          1.056175918523904,
          1.04801218487108,
          1.0940423425389154,
          1.0727568147748376,
          1.0623129521806662,
          1.0746372272043938,
          1.0895297502267411,
          1.0777677134085664,
          1.0834097512721859,
          1.057749830715629,
          1.0709356131532475,
          1.1104477212646846,
          1.1592573174914367,
          1.1224955182902927,
          1.1389494765148114,
          1.1702711046522862,
          1.1516859510293718,
          1.1004906566338808,
          1.0585802843081824,
          1.0573587249463858,
          1.0601765939528724,
          1.0315514723116461,
          1.064399054141204,
          1.065990283612244,
          1.0622256697115142,
          1.0597877761886623,
          1.0451337429710943,
          1.06103488019792,
          1.0461895837986608,
          0.9831032960624856,
          0.9527891405234348,
          0.9415068220546372,
          0.9362662207475047,
          0.9741724683317733,
          0.9974159273894057,
          0.9760695714135988,
          0.9521427646813674,
          0.9673229875540436,
          0.9501138417862094,
          0.917341699176567,
          0.9241676563606821,
          0.9299831321571018,
          0.9494978102741796,
          0.9399974986549346,
          0.9628044296290661,
          0.9676789767680861,
          1.0056604817610422,
          0.9958712950303243,
          0.9727745550693955,
          0.9958464295619143,
          0.9462444499364877,
          0.9540840300207449,
          0.9755340241284751,
          0.9552349904416284,
          0.9379384612382065,
          0.958952222997928,
          0.9659513767760827,
          0.9714491217782059,
          0.9646106483194956,
          0.9461362036795004,
          0.9241434799521193,
          0.9335349114751116,
          0.9011154206126688,
          0.9008974215698883,
          0.8955065384805374,
          0.8976113634016393,
          0.9141579084531559,
          0.9088416318139154,
          0.9097829267013249,
          0.9087128158837191,
          0.9254223729378659,
          0.941651954332615,
          0.931529679556546,
          0.9087241483667725,
          0.9058431723913895,
          0.8815440746446543,
          0.8888274534697376,
          0.876882439625038,
          0.8616883741256708,
          0.9338865023613204,
          0.9629364147263848,
          0.9614024583540144,
          0.9247746247884742,
          0.9468811248486618,
          0.9458138278799679,
          0.9350749476935389,
          0.9124295363366857,
          0.8740517414680458,
          0.894898049592077,
          0.9075783327768988,
          0.9148263727586349,
          0.9186856845936958,
          0.9072846611518253,
          0.9034043665203929,
          0.8706699160117448,
          0.8746910036944002,
          0.8761895768142457,
          0.8703195943822253,
          0.879244597523314,
          0.9086036236190566,
          0.9062209345479628,
          0.9277923206170655,
          0.9585688118782879,
          0.9665013446280545,
          0.9728763144373198,
          0.9779698352202628,
          0.9838162493988236,
          0.9803032191807896,
          0.9578822599609316,
          1.0120033849325538,
          1.0312019198626483,
          1.0250448436316033,
          1.0372727641487427,
          1.039728601828466,
          1.0340269099040567,
          1.0452889942816863,
          1.0541511112255877,
          1.0669013198132131,
          1.0590864699185218,
          1.050793333779346,
          0.9941500301583005,
          0.9920801967903256,
          1.0141230482923245,
          1.027917558415381,
          1.046677205158681,
          1.0485583402342114,
          1.0750532421283263,
          1.0576664662306512,
          1.0431783227655063,
          1.0198956507064483,
          0.9989694941798489,
          0.9917686707399923,
          1.00569323845736,
          1.0329157862461305,
          1.0488352832780499,
          1.0596014452992166,
          1.094427729592564,
          1.0686393842919382,
          1.11911509016752,
          1.081737528039473,
          1.0389913756029165,
          1.0315610203383558,
          1.0471429767578424,
          1.0820147376314309,
          1.1028461358666453,
          1.1127797077393646,
          1.0878948810569953,
          1.1001971568679392,
          1.1435227489876278,
          1.1285467718067366,
          1.1653616616593505,
          1.152181590732252,
          1.1551257374207113,
          1.126143673938891,
          1.0981416496292815,
          1.1155988109510686,
          1.072093634558632,
          1.0854277322307535,
          1.088072215056135,
          1.1276128933754073,
          1.1400004887425768,
          1.1734599500088494,
          1.1943807311050674,
          1.2000740942215182,
          1.171566039688123,
          1.155289334224687,
          1.0938406721175535,
          1.150525340060886,
          1.1688307882151479,
          1.1663163896455937,
          1.1483024097161496,
          1.1432121621732316,
          1.1458565194238364,
          1.1113248583774515,
          1.1445566618880012,
          1.1348958125324455,
          1.0990237692048006,
          1.0632241860272063,
          1.075338439018043,
          1.058035328128054,
          1.0731626925041415,
          1.0807519752477803,
          1.0530348054766225,
          1.0801739634896543,
          1.1059736707464314,
          1.1452936276740895,
          1.1716168421557331,
          1.2121325692756884,
          1.1937424714097673,
          1.1720539767402733,
          1.1632666531772446,
          1.1920845622656795,
          1.1592365952812012,
          1.1056668427312273,
          1.1132490593499524,
          1.0958104452132562,
          1.0975015575677995,
          1.1149379145145772,
          1.1262761294710506,
          1.1434431097886568,
          1.1779357444599294,
          1.1757783861377797,
          1.1839113270965045,
          1.182256409440513,
          1.1871275159382426,
          1.2011412974723585,
          1.1979092871204764,
          1.1678991354889388,
          1.1825873371993612,
          1.2032619705543652,
          1.1878852416786037,
          1.1871091879015672,
          1.202917550396922,
          1.2058042896872345,
          1.2217249535955965,
          1.256643618023445,
          1.2592586275195692,
          1.2625986015703587,
          1.2714706110350478,
          1.3000089293234445,
          1.2801673312321342,
          1.3065686776293874,
          1.282987887731639,
          1.2896320754713966,
          1.2857650736335398,
          1.2968299428607104,
          1.2833612808820678,
          1.3030046903842623,
          1.2917580043852526,
          1.2648352780377539,
          1.2613632189000488,
          1.340716283082272,
          1.3338400025199528,
          1.3249359254690982,
          1.290067552743133,
          1.2628673033562385,
          1.2651089206936588,
          1.2203377519048746,
          1.1676605384620005,
          1.1956856089711279,
          1.1753262024044506,
          1.157942261865497,
          1.1527116225504757,
          1.1384532000404544,
          1.1362703806697554,
          1.086507995756341,
          1.0947592412556524,
          1.0827572972348654,
          1.0973322471258995,
          1.1005497389492964,
          1.1070644130759348,
          1.1522455314881372,
          1.1809190370567986,
          1.166247159996643,
          1.2038349963388613,
          1.2055026084694904,
          1.1719775242763868,
          1.1581220249243382,
          1.1874968389590301,
          1.1937615990384205,
          1.1459926772289768,
          1.1290538617897705,
          1.1138697217521476,
          1.1161282386036935,
          1.0866272165135231,
          1.079187189212025,
          1.07217723895032,
          1.0948633473305047,
          1.0764502218158385,
          1.1071491711901804,
          1.1546047772756656,
          1.173586242343001,
          1.1792633348806072,
          1.189908029940199,
          1.1921687680885709,
          1.2024291622730001,
          1.207997022886289,
          1.2171725288932056,
          1.1802093052862603,
          1.17756421269954,
          1.1481014017896607,
          1.1461151991700413,
          1.1685801564994662,
          1.1267179103174532,
          1.1451012009306347,
          1.1042146179955636,
          1.1015515764654207,
          1.134975533772477,
          1.1603385313589685,
          1.170748915419388,
          1.1838025589155032,
          1.1467516405696054,
          1.1336428087442085,
          1.1568896349786315,
          1.2041304276569587,
          1.2163392559619364,
          1.2353481687512209,
          1.2353936625035578,
          1.2571047346855186,
          1.2554686222071156,
          1.2665002508048646,
          1.2849338404532598,
          1.2943524800792363,
          1.3263520722258204,
          1.2789843613789122,
          1.2546428747292477,
          1.25837528351896,
          1.2159462844332305,
          1.2099810861349056,
          1.2326297225776797,
          1.255302279710674,
          1.2464153658922792,
          1.2282853759274406,
          1.2393730215001302,
          1.2201192886793073,
          1.22386704610424,
          1.2656748197117855,
          1.2479193063956564,
          1.2311781038260579,
          1.198080144813625,
          1.1863313448829105,
          1.1800788904477348,
          1.242495828110169,
          1.292248105633936,
          1.249463134617218,
          1.2608822886444762,
          1.2739076344607627,
          1.3038687619884022,
          1.3352594518986005,
          1.326306404562653,
          1.3038498742951992,
          1.281649417056913,
          1.2473453009714248,
          1.2371429466083512,
          1.2282469572531163,
          1.2217720473586908,
          1.1662091746929775,
          1.1458770836284298,
          1.132460609791064,
          1.130348602945459,
          1.117523776027222,
          1.1164440232961084,
          1.0908197011818108,
          1.1068560343307425,
          1.1078840931462894
         ],
         "yaxis": "y"
        }
       ],
       "layout": {
        "legend": {
         "title": {
          "text": "variable"
         },
         "tracegroupgap": 0
        },
        "margin": {
         "t": 60
        },
        "template": {
         "data": {
          "bar": [
           {
            "error_x": {
             "color": "#2a3f5f"
            },
            "error_y": {
             "color": "#2a3f5f"
            },
            "marker": {
             "line": {
              "color": "#E5ECF6",
              "width": 0.5
             },
             "pattern": {
              "fillmode": "overlay",
              "size": 10,
              "solidity": 0.2
             }
            },
            "type": "bar"
           }
          ],
          "barpolar": [
           {
            "marker": {
             "line": {
              "color": "#E5ECF6",
              "width": 0.5
             },
             "pattern": {
              "fillmode": "overlay",
              "size": 10,
              "solidity": 0.2
             }
            },
            "type": "barpolar"
           }
          ],
          "carpet": [
           {
            "aaxis": {
             "endlinecolor": "#2a3f5f",
             "gridcolor": "white",
             "linecolor": "white",
             "minorgridcolor": "white",
             "startlinecolor": "#2a3f5f"
            },
            "baxis": {
             "endlinecolor": "#2a3f5f",
             "gridcolor": "white",
             "linecolor": "white",
             "minorgridcolor": "white",
             "startlinecolor": "#2a3f5f"
            },
            "type": "carpet"
           }
          ],
          "choropleth": [
           {
            "colorbar": {
             "outlinewidth": 0,
             "ticks": ""
            },
            "type": "choropleth"
           }
          ],
          "contour": [
           {
            "colorbar": {
             "outlinewidth": 0,
             "ticks": ""
            },
            "colorscale": [
             [
              0,
              "#0d0887"
             ],
             [
              0.1111111111111111,
              "#46039f"
             ],
             [
              0.2222222222222222,
              "#7201a8"
             ],
             [
              0.3333333333333333,
              "#9c179e"
             ],
             [
              0.4444444444444444,
              "#bd3786"
             ],
             [
              0.5555555555555556,
              "#d8576b"
             ],
             [
              0.6666666666666666,
              "#ed7953"
             ],
             [
              0.7777777777777778,
              "#fb9f3a"
             ],
             [
              0.8888888888888888,
              "#fdca26"
             ],
             [
              1,
              "#f0f921"
             ]
            ],
            "type": "contour"
           }
          ],
          "contourcarpet": [
           {
            "colorbar": {
             "outlinewidth": 0,
             "ticks": ""
            },
            "type": "contourcarpet"
           }
          ],
          "heatmap": [
           {
            "colorbar": {
             "outlinewidth": 0,
             "ticks": ""
            },
            "colorscale": [
             [
              0,
              "#0d0887"
             ],
             [
              0.1111111111111111,
              "#46039f"
             ],
             [
              0.2222222222222222,
              "#7201a8"
             ],
             [
              0.3333333333333333,
              "#9c179e"
             ],
             [
              0.4444444444444444,
              "#bd3786"
             ],
             [
              0.5555555555555556,
              "#d8576b"
             ],
             [
              0.6666666666666666,
              "#ed7953"
             ],
             [
              0.7777777777777778,
              "#fb9f3a"
             ],
             [
              0.8888888888888888,
              "#fdca26"
             ],
             [
              1,
              "#f0f921"
             ]
            ],
            "type": "heatmap"
           }
          ],
          "heatmapgl": [
           {
            "colorbar": {
             "outlinewidth": 0,
             "ticks": ""
            },
            "colorscale": [
             [
              0,
              "#0d0887"
             ],
             [
              0.1111111111111111,
              "#46039f"
             ],
             [
              0.2222222222222222,
              "#7201a8"
             ],
             [
              0.3333333333333333,
              "#9c179e"
             ],
             [
              0.4444444444444444,
              "#bd3786"
             ],
             [
              0.5555555555555556,
              "#d8576b"
             ],
             [
              0.6666666666666666,
              "#ed7953"
             ],
             [
              0.7777777777777778,
              "#fb9f3a"
             ],
             [
              0.8888888888888888,
              "#fdca26"
             ],
             [
              1,
              "#f0f921"
             ]
            ],
            "type": "heatmapgl"
           }
          ],
          "histogram": [
           {
            "marker": {
             "pattern": {
              "fillmode": "overlay",
              "size": 10,
              "solidity": 0.2
             }
            },
            "type": "histogram"
           }
          ],
          "histogram2d": [
           {
            "colorbar": {
             "outlinewidth": 0,
             "ticks": ""
            },
            "colorscale": [
             [
              0,
              "#0d0887"
             ],
             [
              0.1111111111111111,
              "#46039f"
             ],
             [
              0.2222222222222222,
              "#7201a8"
             ],
             [
              0.3333333333333333,
              "#9c179e"
             ],
             [
              0.4444444444444444,
              "#bd3786"
             ],
             [
              0.5555555555555556,
              "#d8576b"
             ],
             [
              0.6666666666666666,
              "#ed7953"
             ],
             [
              0.7777777777777778,
              "#fb9f3a"
             ],
             [
              0.8888888888888888,
              "#fdca26"
             ],
             [
              1,
              "#f0f921"
             ]
            ],
            "type": "histogram2d"
           }
          ],
          "histogram2dcontour": [
           {
            "colorbar": {
             "outlinewidth": 0,
             "ticks": ""
            },
            "colorscale": [
             [
              0,
              "#0d0887"
             ],
             [
              0.1111111111111111,
              "#46039f"
             ],
             [
              0.2222222222222222,
              "#7201a8"
             ],
             [
              0.3333333333333333,
              "#9c179e"
             ],
             [
              0.4444444444444444,
              "#bd3786"
             ],
             [
              0.5555555555555556,
              "#d8576b"
             ],
             [
              0.6666666666666666,
              "#ed7953"
             ],
             [
              0.7777777777777778,
              "#fb9f3a"
             ],
             [
              0.8888888888888888,
              "#fdca26"
             ],
             [
              1,
              "#f0f921"
             ]
            ],
            "type": "histogram2dcontour"
           }
          ],
          "mesh3d": [
           {
            "colorbar": {
             "outlinewidth": 0,
             "ticks": ""
            },
            "type": "mesh3d"
           }
          ],
          "parcoords": [
           {
            "line": {
             "colorbar": {
              "outlinewidth": 0,
              "ticks": ""
             }
            },
            "type": "parcoords"
           }
          ],
          "pie": [
           {
            "automargin": true,
            "type": "pie"
           }
          ],
          "scatter": [
           {
            "marker": {
             "colorbar": {
              "outlinewidth": 0,
              "ticks": ""
             }
            },
            "type": "scatter"
           }
          ],
          "scatter3d": [
           {
            "line": {
             "colorbar": {
              "outlinewidth": 0,
              "ticks": ""
             }
            },
            "marker": {
             "colorbar": {
              "outlinewidth": 0,
              "ticks": ""
             }
            },
            "type": "scatter3d"
           }
          ],
          "scattercarpet": [
           {
            "marker": {
             "colorbar": {
              "outlinewidth": 0,
              "ticks": ""
             }
            },
            "type": "scattercarpet"
           }
          ],
          "scattergeo": [
           {
            "marker": {
             "colorbar": {
              "outlinewidth": 0,
              "ticks": ""
             }
            },
            "type": "scattergeo"
           }
          ],
          "scattergl": [
           {
            "marker": {
             "colorbar": {
              "outlinewidth": 0,
              "ticks": ""
             }
            },
            "type": "scattergl"
           }
          ],
          "scattermapbox": [
           {
            "marker": {
             "colorbar": {
              "outlinewidth": 0,
              "ticks": ""
             }
            },
            "type": "scattermapbox"
           }
          ],
          "scatterpolar": [
           {
            "marker": {
             "colorbar": {
              "outlinewidth": 0,
              "ticks": ""
             }
            },
            "type": "scatterpolar"
           }
          ],
          "scatterpolargl": [
           {
            "marker": {
             "colorbar": {
              "outlinewidth": 0,
              "ticks": ""
             }
            },
            "type": "scatterpolargl"
           }
          ],
          "scatterternary": [
           {
            "marker": {
             "colorbar": {
              "outlinewidth": 0,
              "ticks": ""
             }
            },
            "type": "scatterternary"
           }
          ],
          "surface": [
           {
            "colorbar": {
             "outlinewidth": 0,
             "ticks": ""
            },
            "colorscale": [
             [
              0,
              "#0d0887"
             ],
             [
              0.1111111111111111,
              "#46039f"
             ],
             [
              0.2222222222222222,
              "#7201a8"
             ],
             [
              0.3333333333333333,
              "#9c179e"
             ],
             [
              0.4444444444444444,
              "#bd3786"
             ],
             [
              0.5555555555555556,
              "#d8576b"
             ],
             [
              0.6666666666666666,
              "#ed7953"
             ],
             [
              0.7777777777777778,
              "#fb9f3a"
             ],
             [
              0.8888888888888888,
              "#fdca26"
             ],
             [
              1,
              "#f0f921"
             ]
            ],
            "type": "surface"
           }
          ],
          "table": [
           {
            "cells": {
             "fill": {
              "color": "#EBF0F8"
             },
             "line": {
              "color": "white"
             }
            },
            "header": {
             "fill": {
              "color": "#C8D4E3"
             },
             "line": {
              "color": "white"
             }
            },
            "type": "table"
           }
          ]
         },
         "layout": {
          "annotationdefaults": {
           "arrowcolor": "#2a3f5f",
           "arrowhead": 0,
           "arrowwidth": 1
          },
          "autotypenumbers": "strict",
          "coloraxis": {
           "colorbar": {
            "outlinewidth": 0,
            "ticks": ""
           }
          },
          "colorscale": {
           "diverging": [
            [
             0,
             "#8e0152"
            ],
            [
             0.1,
             "#c51b7d"
            ],
            [
             0.2,
             "#de77ae"
            ],
            [
             0.3,
             "#f1b6da"
            ],
            [
             0.4,
             "#fde0ef"
            ],
            [
             0.5,
             "#f7f7f7"
            ],
            [
             0.6,
             "#e6f5d0"
            ],
            [
             0.7,
             "#b8e186"
            ],
            [
             0.8,
             "#7fbc41"
            ],
            [
             0.9,
             "#4d9221"
            ],
            [
             1,
             "#276419"
            ]
           ],
           "sequential": [
            [
             0,
             "#0d0887"
            ],
            [
             0.1111111111111111,
             "#46039f"
            ],
            [
             0.2222222222222222,
             "#7201a8"
            ],
            [
             0.3333333333333333,
             "#9c179e"
            ],
            [
             0.4444444444444444,
             "#bd3786"
            ],
            [
             0.5555555555555556,
             "#d8576b"
            ],
            [
             0.6666666666666666,
             "#ed7953"
            ],
            [
             0.7777777777777778,
             "#fb9f3a"
            ],
            [
             0.8888888888888888,
             "#fdca26"
            ],
            [
             1,
             "#f0f921"
            ]
           ],
           "sequentialminus": [
            [
             0,
             "#0d0887"
            ],
            [
             0.1111111111111111,
             "#46039f"
            ],
            [
             0.2222222222222222,
             "#7201a8"
            ],
            [
             0.3333333333333333,
             "#9c179e"
            ],
            [
             0.4444444444444444,
             "#bd3786"
            ],
            [
             0.5555555555555556,
             "#d8576b"
            ],
            [
             0.6666666666666666,
             "#ed7953"
            ],
            [
             0.7777777777777778,
             "#fb9f3a"
            ],
            [
             0.8888888888888888,
             "#fdca26"
            ],
            [
             1,
             "#f0f921"
            ]
           ]
          },
          "colorway": [
           "#636efa",
           "#EF553B",
           "#00cc96",
           "#ab63fa",
           "#FFA15A",
           "#19d3f3",
           "#FF6692",
           "#B6E880",
           "#FF97FF",
           "#FECB52"
          ],
          "font": {
           "color": "#2a3f5f"
          },
          "geo": {
           "bgcolor": "white",
           "lakecolor": "white",
           "landcolor": "#E5ECF6",
           "showlakes": true,
           "showland": true,
           "subunitcolor": "white"
          },
          "hoverlabel": {
           "align": "left"
          },
          "hovermode": "closest",
          "mapbox": {
           "style": "light"
          },
          "paper_bgcolor": "white",
          "plot_bgcolor": "#E5ECF6",
          "polar": {
           "angularaxis": {
            "gridcolor": "white",
            "linecolor": "white",
            "ticks": ""
           },
           "bgcolor": "#E5ECF6",
           "radialaxis": {
            "gridcolor": "white",
            "linecolor": "white",
            "ticks": ""
           }
          },
          "scene": {
           "xaxis": {
            "backgroundcolor": "#E5ECF6",
            "gridcolor": "white",
            "gridwidth": 2,
            "linecolor": "white",
            "showbackground": true,
            "ticks": "",
            "zerolinecolor": "white"
           },
           "yaxis": {
            "backgroundcolor": "#E5ECF6",
            "gridcolor": "white",
            "gridwidth": 2,
            "linecolor": "white",
            "showbackground": true,
            "ticks": "",
            "zerolinecolor": "white"
           },
           "zaxis": {
            "backgroundcolor": "#E5ECF6",
            "gridcolor": "white",
            "gridwidth": 2,
            "linecolor": "white",
            "showbackground": true,
            "ticks": "",
            "zerolinecolor": "white"
           }
          },
          "shapedefaults": {
           "line": {
            "color": "#2a3f5f"
           }
          },
          "ternary": {
           "aaxis": {
            "gridcolor": "white",
            "linecolor": "white",
            "ticks": ""
           },
           "baxis": {
            "gridcolor": "white",
            "linecolor": "white",
            "ticks": ""
           },
           "bgcolor": "#E5ECF6",
           "caxis": {
            "gridcolor": "white",
            "linecolor": "white",
            "ticks": ""
           }
          },
          "title": {
           "x": 0.05
          },
          "xaxis": {
           "automargin": true,
           "gridcolor": "white",
           "linecolor": "white",
           "ticks": "",
           "title": {
            "standoff": 15
           },
           "zerolinecolor": "white",
           "zerolinewidth": 2
          },
          "yaxis": {
           "automargin": true,
           "gridcolor": "white",
           "linecolor": "white",
           "ticks": "",
           "title": {
            "standoff": 15
           },
           "zerolinecolor": "white",
           "zerolinewidth": 2
          }
         }
        },
        "xaxis": {
         "anchor": "y",
         "domain": [
          0,
          1
         ],
         "title": {
          "text": "index"
         }
        },
        "yaxis": {
         "anchor": "x",
         "domain": [
          0,
          1
         ],
         "title": {
          "text": "value"
         }
        }
       }
      }
     },
     "metadata": {},
     "output_type": "display_data"
    }
   ],
   "source": [
    "px.line(test_df)"
   ]
  },
  {
   "cell_type": "code",
   "execution_count": 18,
   "metadata": {},
   "outputs": [
    {
     "data": {
      "application/vnd.jupyter.widget-view+json": {
       "model_id": "a4dc12207b8b440382286631cd07f87e",
       "version_major": 2,
       "version_minor": 0
      },
      "text/plain": [
       "  0%|          | 0/2 [00:00<?, ?it/s]"
      ]
     },
     "metadata": {},
     "output_type": "display_data"
    },
    {
     "data": {
      "application/vnd.jupyter.widget-view+json": {
       "model_id": "ef134522f7fc44aca43b7153c96fb4b8",
       "version_major": 2,
       "version_minor": 0
      },
      "text/plain": [
       "  0%|          | 0/378 [00:00<?, ?it/s]"
      ]
     },
     "metadata": {},
     "output_type": "display_data"
    },
    {
     "data": {
      "application/vnd.jupyter.widget-view+json": {
       "model_id": "82be4fa741494bc8ab094a2a1705fbb7",
       "version_major": 2,
       "version_minor": 0
      },
      "text/plain": [
       "  0%|          | 0/378 [00:00<?, ?it/s]"
      ]
     },
     "metadata": {},
     "output_type": "display_data"
    }
   ],
   "source": [
    "# ROLLING WINDOW OVER ENTIRE LIFETIME\n",
    "# uses newest asset prices on current day to get expected payoff for that day\n",
    "# make sure to run previous cell before running this one\n",
    "expected_payoffs = np.zeros(shape=(len(simulations), m))\n",
    "\n",
    "def simulate(t, sim_func, var_reduction):\n",
    "    r = calc_rates(t, m, rates)\n",
    "\n",
    "    paths = n_path_sim(asset_hist=asset_hist,\n",
    "                    Nsim=50,\n",
    "                    t=t,\n",
    "                    r=r,\n",
    "                    dt=dt,\n",
    "                    p=3,\n",
    "                    m=m,\n",
    "                    sim_func=sim_func,\n",
    "                    var_reduction=var_reduction\n",
    "                    )\n",
    "                    \n",
    "    return expected_payoff(payoff(paths, K, Barrier, ratio), r=r, T=T, t=t*dt)\n",
    "\n",
    "\n",
    "for i, (sim_func, var_reduction) in enumerate( tqdm( simulations ) ):\n",
    "    for t in tqdm(range(m), leave=False):\n",
    "        expected_payoffs[i][t] = simulate(t, sim_func, var_reduction)"
   ]
  },
  {
   "cell_type": "code",
   "execution_count": 19,
   "metadata": {},
   "outputs": [],
   "source": [
    "simulated_prices = pd.DataFrame(data=expected_payoffs.T, columns=[\"Monte Carlo\", \"Antithetic Variates\"])"
   ]
  },
  {
   "cell_type": "code",
   "execution_count": 20,
   "metadata": {},
   "outputs": [],
   "source": [
    "merged = pd.concat([actual_prices, simulated_prices], axis=1)"
   ]
  },
  {
   "cell_type": "code",
   "execution_count": 21,
   "metadata": {},
   "outputs": [
    {
     "data": {
      "application/vnd.plotly.v1+json": {
       "config": {
        "plotlyServerURL": "https://plot.ly"
       },
       "data": [
        {
         "hovertemplate": "variable=Price<br>index=%{x}<br>value=%{y}<extra></extra>",
         "legendgroup": "Price",
         "line": {
          "color": "#636efa",
          "dash": "solid"
         },
         "marker": {
          "symbol": "circle"
         },
         "mode": "lines",
         "name": "Price",
         "showlegend": true,
         "type": "scattergl",
         "x": [
          0,
          1,
          2,
          3,
          4,
          5,
          6,
          7,
          8,
          9,
          10,
          11,
          12,
          13,
          14,
          15,
          16,
          17,
          18,
          19,
          20,
          21,
          22,
          23,
          24,
          25,
          26,
          27,
          28,
          29,
          30,
          31,
          32,
          33,
          34,
          35,
          36,
          37,
          38,
          39,
          40,
          41,
          42,
          43,
          44,
          45,
          46,
          47,
          48,
          49,
          50,
          51,
          52,
          53,
          54,
          55,
          56,
          57,
          58,
          59,
          60,
          61,
          62,
          63,
          64,
          65,
          66,
          67,
          68,
          69,
          70,
          71,
          72,
          73,
          74,
          75,
          76,
          77,
          78,
          79,
          80,
          81,
          82,
          83,
          84,
          85,
          86,
          87,
          88,
          89,
          90,
          91,
          92,
          93,
          94,
          95,
          96,
          97,
          98,
          99,
          100,
          101,
          102,
          103,
          104,
          105,
          106,
          107,
          108,
          109,
          110,
          111,
          112,
          113,
          114,
          115,
          116,
          117,
          118,
          119,
          120,
          121,
          122,
          123,
          124,
          125,
          126,
          127,
          128,
          129,
          130,
          131,
          132,
          133,
          134,
          135,
          136,
          137,
          138,
          139,
          140,
          141,
          142,
          143,
          144,
          145,
          146,
          147,
          148,
          149,
          150,
          151,
          152,
          153,
          154,
          155,
          156,
          157,
          158,
          159,
          160,
          161,
          162,
          163,
          164,
          165,
          166,
          167,
          168,
          169,
          170,
          171,
          172,
          173,
          174,
          175,
          176,
          177,
          178,
          179,
          180,
          181,
          182,
          183,
          184,
          185,
          186,
          187,
          188,
          189,
          190,
          191,
          192,
          193,
          194,
          195,
          196,
          197,
          198,
          199,
          200,
          201,
          202,
          203,
          204,
          205,
          206,
          207,
          208,
          209,
          210,
          211,
          212,
          213,
          214,
          215,
          216,
          217,
          218,
          219,
          220,
          221,
          222,
          223,
          224,
          225,
          226,
          227,
          228,
          229,
          230,
          231,
          232,
          233,
          234,
          235,
          236,
          237,
          238,
          239,
          240,
          241,
          242,
          243,
          244,
          245,
          246,
          247,
          248,
          249,
          250,
          251,
          252,
          253,
          254,
          255,
          256,
          257,
          258,
          259,
          260,
          261,
          262,
          263,
          264,
          265,
          266,
          267,
          268,
          269,
          270,
          271,
          272,
          273,
          274,
          275,
          276,
          277,
          278,
          279,
          280,
          281,
          282,
          283,
          284,
          285,
          286,
          287,
          288,
          289,
          290,
          291,
          292,
          293,
          294,
          295,
          296,
          297,
          298,
          299,
          300,
          301,
          302,
          303,
          304,
          305,
          306,
          307,
          308,
          309,
          310,
          311,
          312,
          313,
          314,
          315,
          316,
          317,
          318,
          319,
          320,
          321,
          322,
          323,
          324,
          325,
          326,
          327,
          328,
          329,
          330,
          331,
          332,
          333,
          334,
          335,
          336,
          337,
          338,
          339,
          340,
          341,
          342,
          343,
          344,
          345,
          346,
          347,
          348,
          349,
          350,
          351,
          352,
          353,
          354,
          355,
          356,
          357,
          358,
          359,
          360,
          361,
          362,
          363,
          364,
          365,
          366,
          367,
          368,
          369,
          370,
          371,
          372,
          373,
          374,
          375,
          376,
          377
         ],
         "xaxis": "x",
         "y": [
          1010.4,
          1010.4,
          1010.4,
          1010.4,
          1010.4,
          1010.4,
          1010.4,
          1010.4,
          1010.4,
          1010.4,
          1010.4,
          1010.4,
          998.1,
          998.1,
          998.1,
          998.1,
          998.1,
          999.3,
          999.3,
          999.3,
          996.2,
          996.2,
          996.2,
          996.2,
          987.7,
          979.2,
          977.1,
          977.1,
          977.1,
          977.1,
          975.4,
          969.8,
          958.2,
          926.9,
          926.9,
          938,
          938,
          938,
          940.4,
          940.4,
          940.4,
          942.7,
          942.7,
          942.7,
          942.7,
          942.7,
          942.7,
          942.7,
          941.7,
          941.7,
          941.7,
          941.7,
          941.7,
          939,
          939,
          939,
          918,
          915.7,
          921.9,
          928.4,
          928.4,
          928.4,
          932.6,
          932.6,
          932.6,
          929.1,
          933,
          933,
          933,
          933,
          933,
          933,
          926.5,
          926.8,
          926.8,
          926.8,
          926.8,
          926.8,
          914.8,
          902.4,
          912.4,
          923.7,
          927.3,
          937.6,
          937.6,
          936.4,
          933.8,
          925.4,
          925.4,
          931.7,
          931.7,
          933.6,
          942.4,
          947,
          947,
          947,
          959.3,
          965.3,
          965.3,
          967.9,
          971.4,
          971.4,
          972.9,
          977.5,
          982,
          982,
          982,
          982,
          982,
          982,
          982,
          982,
          983.9,
          985.5,
          985.5,
          985.5,
          985.5,
          985.5,
          985.5,
          987.4,
          987.4,
          987.4,
          976.2,
          976.2,
          976.2,
          981.5,
          981.5,
          967.8,
          967.1,
          967.1,
          967.1,
          963.6,
          963.6,
          963.6,
          969.3,
          971.9,
          975.4,
          975.4,
          975.4,
          977.3,
          977.3,
          981.4,
          981.4,
          967.6,
          967.6,
          971.1,
          975.1,
          977.8,
          981.4,
          981.4,
          981.4,
          986,
          995.5,
          998.6,
          998.6,
          998.6,
          998.6,
          998.6,
          1000.3,
          1000.3,
          1000.3,
          1000.4,
          1000.4,
          1000.5,
          1000.5,
          1000.5,
          995.3,
          995.3,
          995.3,
          995.3,
          995.3,
          995.3,
          996.1,
          999.7,
          1002.9,
          1002.9,
          1002.9,
          1002.9,
          1004.4,
          1004.7,
          1004.7,
          1000.1,
          1000.1,
          1000.1,
          1000.1,
          1000.1,
          995.7,
          995.7,
          995.7,
          995.7,
          995.7,
          995.7,
          995.7,
          995.7,
          995.7,
          995.7,
          995.7,
          990.3,
          990.3,
          990.3,
          990.7,
          990.7,
          990.7,
          990.7,
          994.6,
          994.6,
          1000,
          1000,
          1000,
          1000,
          1000,
          1000,
          1000,
          1004.2,
          1004.2,
          1004.2,
          1004.2,
          1006,
          1006,
          1006,
          1006,
          1006,
          1006,
          1006,
          1006,
          1006,
          1006.8,
          1007.3,
          1007.3,
          1003.9,
          1003.9,
          1003.9,
          1003.9,
          1003.9,
          1002.8,
          1000.3,
          1000.3,
          1000.3,
          1000.3,
          996.1,
          996.1,
          996.1,
          993.4,
          993.3,
          993.3,
          993.4,
          993.4,
          993.4,
          993.4,
          993.4,
          993.4,
          994.2,
          994.8,
          999.9,
          999.9,
          999.9,
          999.9,
          999.9,
          999.9,
          999.9,
          999.9,
          999.9,
          998.3,
          996.1,
          996.1,
          996.1,
          988.2,
          988.2,
          988.2,
          989.4,
          989.4,
          989.4,
          989.4,
          992.7,
          992.7,
          992.7,
          992.7,
          992.7,
          992.7,
          991.7,
          991.7,
          991.7,
          991.7,
          991.7,
          991.7,
          991.7,
          991.7,
          991.7,
          994.4,
          994.7,
          994.7,
          994.7,
          995.2,
          995.9,
          995.9,
          996.6,
          998.3,
          998.7,
          998.7,
          998.7,
          998.7,
          998.7,
          998.7,
          998.7,
          998.7,
          998.8,
          998.8,
          998.8,
          998.8,
          998.8,
          998.8,
          998.8,
          998.8,
          998.8,
          998.8,
          998.8,
          998.8,
          998.8,
          998.8,
          998.8,
          998.8,
          998.8,
          998.8,
          998.8,
          998.8,
          998.8,
          998.8,
          998.8,
          998.8,
          998.8,
          998.8,
          998.8,
          998.8,
          998.8,
          998.8,
          998.8,
          998.8,
          998.8,
          998.8,
          998.8,
          998.8,
          998.8,
          998.8,
          994.2,
          991.7,
          991.7,
          991.7,
          991.7,
          991.7,
          991.8,
          991.9,
          991.9,
          991.9,
          991.9,
          992.2,
          992.2,
          992.2,
          992.2,
          992.2,
          992.2,
          992.2,
          992.2,
          992.2,
          992.2,
          992.2,
          992.2,
          null,
          null,
          null,
          null,
          null,
          null,
          null,
          null,
          null,
          null,
          null,
          null
         ],
         "yaxis": "y"
        },
        {
         "hovertemplate": "variable=Monte Carlo<br>index=%{x}<br>value=%{y}<extra></extra>",
         "legendgroup": "Monte Carlo",
         "line": {
          "color": "#EF553B",
          "dash": "solid"
         },
         "marker": {
          "symbol": "circle"
         },
         "mode": "lines",
         "name": "Monte Carlo",
         "showlegend": true,
         "type": "scattergl",
         "x": [
          0,
          1,
          2,
          3,
          4,
          5,
          6,
          7,
          8,
          9,
          10,
          11,
          12,
          13,
          14,
          15,
          16,
          17,
          18,
          19,
          20,
          21,
          22,
          23,
          24,
          25,
          26,
          27,
          28,
          29,
          30,
          31,
          32,
          33,
          34,
          35,
          36,
          37,
          38,
          39,
          40,
          41,
          42,
          43,
          44,
          45,
          46,
          47,
          48,
          49,
          50,
          51,
          52,
          53,
          54,
          55,
          56,
          57,
          58,
          59,
          60,
          61,
          62,
          63,
          64,
          65,
          66,
          67,
          68,
          69,
          70,
          71,
          72,
          73,
          74,
          75,
          76,
          77,
          78,
          79,
          80,
          81,
          82,
          83,
          84,
          85,
          86,
          87,
          88,
          89,
          90,
          91,
          92,
          93,
          94,
          95,
          96,
          97,
          98,
          99,
          100,
          101,
          102,
          103,
          104,
          105,
          106,
          107,
          108,
          109,
          110,
          111,
          112,
          113,
          114,
          115,
          116,
          117,
          118,
          119,
          120,
          121,
          122,
          123,
          124,
          125,
          126,
          127,
          128,
          129,
          130,
          131,
          132,
          133,
          134,
          135,
          136,
          137,
          138,
          139,
          140,
          141,
          142,
          143,
          144,
          145,
          146,
          147,
          148,
          149,
          150,
          151,
          152,
          153,
          154,
          155,
          156,
          157,
          158,
          159,
          160,
          161,
          162,
          163,
          164,
          165,
          166,
          167,
          168,
          169,
          170,
          171,
          172,
          173,
          174,
          175,
          176,
          177,
          178,
          179,
          180,
          181,
          182,
          183,
          184,
          185,
          186,
          187,
          188,
          189,
          190,
          191,
          192,
          193,
          194,
          195,
          196,
          197,
          198,
          199,
          200,
          201,
          202,
          203,
          204,
          205,
          206,
          207,
          208,
          209,
          210,
          211,
          212,
          213,
          214,
          215,
          216,
          217,
          218,
          219,
          220,
          221,
          222,
          223,
          224,
          225,
          226,
          227,
          228,
          229,
          230,
          231,
          232,
          233,
          234,
          235,
          236,
          237,
          238,
          239,
          240,
          241,
          242,
          243,
          244,
          245,
          246,
          247,
          248,
          249,
          250,
          251,
          252,
          253,
          254,
          255,
          256,
          257,
          258,
          259,
          260,
          261,
          262,
          263,
          264,
          265,
          266,
          267,
          268,
          269,
          270,
          271,
          272,
          273,
          274,
          275,
          276,
          277,
          278,
          279,
          280,
          281,
          282,
          283,
          284,
          285,
          286,
          287,
          288,
          289,
          290,
          291,
          292,
          293,
          294,
          295,
          296,
          297,
          298,
          299,
          300,
          301,
          302,
          303,
          304,
          305,
          306,
          307,
          308,
          309,
          310,
          311,
          312,
          313,
          314,
          315,
          316,
          317,
          318,
          319,
          320,
          321,
          322,
          323,
          324,
          325,
          326,
          327,
          328,
          329,
          330,
          331,
          332,
          333,
          334,
          335,
          336,
          337,
          338,
          339,
          340,
          341,
          342,
          343,
          344,
          345,
          346,
          347,
          348,
          349,
          350,
          351,
          352,
          353,
          354,
          355,
          356,
          357,
          358,
          359,
          360,
          361,
          362,
          363,
          364,
          365,
          366,
          367,
          368,
          369,
          370,
          371,
          372,
          373,
          374,
          375,
          376,
          377
         ],
         "xaxis": "x",
         "y": [
          934.6406101712486,
          907.8674141981878,
          928.2285944675804,
          885.4128339937728,
          954.1725656914907,
          975.9545741538673,
          971.5628931479814,
          901.8324408133494,
          978.1137461991983,
          936.6859360221366,
          909.5054560424779,
          943.4500607522126,
          962.5425008173719,
          981.3605873447166,
          940.592252149255,
          982.9737998608758,
          1000.3138955298114,
          930.0372033252225,
          975.871199839465,
          984.1678808140439,
          947.3763979496231,
          935.6845594239069,
          1030.6815937792862,
          950.0171576064947,
          963.2021982606404,
          964.0266024872831,
          942.7723040703864,
          959.1625991364704,
          985.1210069973472,
          978.5041510120848,
          932.2071465426905,
          968.5769946359891,
          965.59237739436,
          1025.129757641831,
          921.2637422293138,
          910.0807657928817,
          995.9638276309656,
          1004.3589558456465,
          968.0809764291547,
          954.555998639151,
          938.0002971878799,
          939.1409152320825,
          952.1036384006856,
          971.4342409861744,
          969.0895392854603,
          976.8578879887001,
          873.5474713843906,
          932.545410318847,
          979.8547192292737,
          958.4094507320217,
          977.8420448834382,
          1007.3485510441269,
          938.8712381577716,
          931.8244796466767,
          937.2844189742765,
          961.5166251547031,
          922.1567507384024,
          911.3133444738805,
          891.8141894800688,
          956.8967550197151,
          914.2417578181866,
          945.9522139820756,
          905.0645585042905,
          985.057189766534,
          948.7372572277933,
          908.8865692647778,
          975.0797605063583,
          970.9242461207768,
          977.9585997911589,
          955.7023389287195,
          949.6940264143046,
          978.1404730398953,
          911.5549023801328,
          927.5135663233589,
          956.5393058239034,
          975.3852207071363,
          957.3825375350777,
          949.5311832840467,
          932.0785624086886,
          963.4440214221147,
          969.0450940685541,
          1003.995374018976,
          966.601722927483,
          996.069079198721,
          972.57997161369,
          1004.9934956465156,
          958.5130277822842,
          1042.1561349234457,
          991.5270716703649,
          1019.4070766613696,
          1036.6153636210604,
          979.7455920886798,
          978.1161861002797,
          1004.8670817577378,
          1026.1072070218943,
          1033.248185380364,
          1028.351937076169,
          1008.3979416596372,
          1026.4628386054721,
          1004.1285388645783,
          994.7672135021475,
          1051.7893716787812,
          1027.9324108125645,
          1003.058832102189,
          1092.478027433476,
          1032.6592123288772,
          1029.1070522401437,
          1053.8075564419444,
          1071.9309120827722,
          1049.8471939541646,
          1053.2123946769505,
          1065.7630145600353,
          1067.8978670746926,
          1089.0748341447372,
          1068.9805030663413,
          1085.8962717343084,
          1079.7127323350483,
          1073.3799760819777,
          1076.0026179324914,
          1069.6335169767624,
          1071.825874446582,
          1073.9302730948793,
          1084.3139739128778,
          1068.493797592461,
          1082.1654497875422,
          1088.4089514296816,
          1080.6608229238263,
          1028.6339397290594,
          1059.6699424982241,
          1054.5739618781251,
          1060.4940950918938,
          1091.1036604027395,
          1088.089208999857,
          1094.4059966215937,
          1094.8257513313158,
          1073.959411161449,
          1068.9042966964967,
          1085.0362031327977,
          1088.720356498134,
          1104.4960787516984,
          1077.9885266986635,
          1086.350460092172,
          1060.2995423847199,
          1095.461694646217,
          1061.4319202097627,
          1083.4713298376146,
          1080.6858952696816,
          1091.9050401796335,
          1081.1174265206803,
          1081.8568315066996,
          1042.8482726997825,
          1086.3144173266583,
          1072.8654062628948,
          1096.5611562231177,
          1104.5183483888268,
          1096.0654950112134,
          1092.315051296873,
          1104.5155724864135,
          1095.4188901895575,
          1104.4331125823066,
          1088.0294824123393,
          1104.2662080364573,
          1104.1839545355424,
          1097.6060404360628,
          1104.012915250751,
          1103.7820396416082,
          1104.1238645268752,
          1103.885894315031,
          1104.1321267091553,
          1104.1362578234805,
          1103.7368630926414,
          1103.9717763069564,
          1103.830638824715,
          1103.8363123452243,
          1103.7526308747408,
          1102.4638995682328,
          1103.2130669739497,
          1095.9336054737496,
          1103.4767689099986,
          1103.6337732112422,
          1103.145233547007,
          1103.491386112159,
          1103.4213879434135,
          1103.4375682396148,
          1103.5750269226128,
          1103.4455333694789,
          1103.4295614654484,
          1103.3222471084018,
          1103.0894106409614,
          1102.9773356137086,
          1103.3172225419605,
          1092.2665367647232,
          1103.1063364813488,
          1102.9545551568253,
          1102.8122140096932,
          1102.8393470249266,
          1102.5174199481341,
          1102.610237821429,
          1102.6796844513283,
          1102.7224005725843,
          1102.8834864897865,
          1102.522857547458,
          1102.7605339226384,
          1103.0176037752963,
          1102.746072267454,
          1102.683310048088,
          1102.4100068169605,
          1102.5675468796278,
          1102.6632235584966,
          1102.5361079017853,
          1102.4316719279377,
          1102.0956189891988,
          1102.112987753163,
          1101.9791678724503,
          1101.6081973574962,
          1101.7001059568297,
          1101.3864825119674,
          1101.5427939144447,
          1101.5309292883844,
          1101.1654157249643,
          1100.9955305767135,
          1101.1514951843994,
          1101.3123100016355,
          1100.687723444273,
          1100.8019787628991,
          1101.0488132256496,
          1101.0872424139936,
          1100.999837200307,
          1100.5520177631204,
          1100.4638648311354,
          1100.5865821277532,
          1100.22508259594,
          1100.4244592814966,
          1100.6276157219693,
          1100.6067971689909,
          1100.5628943985992,
          1100.4462101386407,
          1100.3550715141891,
          1100.3763011696258,
          1100.2647512902195,
          1099.9889088330845,
          1100.0422259141455,
          1100.1066047966735,
          1099.772112658284,
          1100.033557815111,
          1099.9571900335131,
          1100.099287407463,
          1100.1199924188259,
          1099.9842112336407,
          1099.9824860141025,
          1100.1011167502027,
          1100.0680227472758,
          1099.31864369497,
          1099.353231645387,
          1099.2952533014711,
          1099.2977044916545,
          1099.2375065037495,
          1098.8699714728045,
          1098.5168823014092,
          1097.6176167332483,
          1097.185146863233,
          1097.195347498184,
          1097.6828078635624,
          1097.6287962288698,
          1097.8156496257,
          1098.1926476450633,
          1097.6578344118132,
          1097.4284951776453,
          1097.640203994838,
          1097.639063212906,
          1097.9617858334902,
          1097.3231952052797,
          1097.3990897967376,
          1097.320312973159,
          1097.421237076679,
          1096.6013393357232,
          1096.5937966011286,
          1096.5524160929444,
          1096.378809037984,
          1095.6629574797405,
          1095.2091339815715,
          1095.5415137399914,
          1095.571034965372,
          1095.6432680218759,
          1095.7452388116371,
          1095.7181146903888,
          1095.8537005957949,
          1095.8848661904924,
          1095.8317920238835,
          1096.1194131327504,
          1096.196923031905,
          1096.3578429619092,
          1096.2875308077519,
          1096.3884427943342,
          1096.6286096551935,
          1096.5025833522723,
          1096.5009257532477,
          1096.4699083936628,
          1096.574815663404,
          1096.6764586858246,
          1096.5357358589845,
          1096.6773497876175,
          1096.6826549667674,
          1096.85386438806,
          1096.9743549722089,
          1096.9356340362765,
          1096.9322760751895,
          1097.032148718721,
          1097.1410696000473,
          1097.195720693944,
          1097.0574810838714,
          1097.208596025394,
          1097.1520576514215,
          1097.3271556948584,
          1097.477975967888,
          1097.3625519092438,
          1097.5180848339226,
          1097.5788938318424,
          1097.782292468759,
          1097.696580840831,
          1097.7742437543218,
          1097.7742644983553,
          1097.872740843096,
          1098.0018916326972,
          1097.9091297452187,
          1098.0994131380417,
          1098.2216592399318,
          1098.301870534705,
          1098.4089456583986,
          1098.4539248896892,
          1098.6369535199815,
          1098.627652929055,
          1098.7666717534923,
          1098.9167554249489,
          1098.9199948668709,
          1099.0560185145396,
          1099.080483790424,
          1099.2627859336037,
          1099.4214759283805,
          1099.3499286049255,
          1099.4975987504367,
          1099.5044342726296,
          1099.6241770747333,
          1099.5251488653576,
          1099.6748374205044,
          1099.7659404851754,
          1099.8802871738912,
          1100.0076994314763,
          1100.0043736384712,
          1100.231423669583,
          1100.337876001457,
          1100.5265007247415,
          1100.6529271205002,
          1100.6981230372742,
          1100.8708746480852,
          1100.9990674161093,
          1101.1736349608398,
          1101.3407172331356,
          1101.486802327024,
          1101.6938396909793,
          1101.867601253224,
          1102.0413902215225,
          1102.2152066001972,
          1102.3890503935718,
          1102.5629216059692,
          1102.7368202417147,
          1102.9107463051334,
          1103.0846998005516,
          1103.2586807322953,
          1103.4326891046924,
          1103.6067249220705,
          1103.7807881887582,
          1103.954878909085,
          1104.1289970873813,
          1104.3031427279775,
          1104.477315835205,
          1104.651516413396,
          1104.8257444668834
         ],
         "yaxis": "y"
        },
        {
         "hovertemplate": "variable=Antithetic Variates<br>index=%{x}<br>value=%{y}<extra></extra>",
         "legendgroup": "Antithetic Variates",
         "line": {
          "color": "#00cc96",
          "dash": "solid"
         },
         "marker": {
          "symbol": "circle"
         },
         "mode": "lines",
         "name": "Antithetic Variates",
         "showlegend": true,
         "type": "scattergl",
         "x": [
          0,
          1,
          2,
          3,
          4,
          5,
          6,
          7,
          8,
          9,
          10,
          11,
          12,
          13,
          14,
          15,
          16,
          17,
          18,
          19,
          20,
          21,
          22,
          23,
          24,
          25,
          26,
          27,
          28,
          29,
          30,
          31,
          32,
          33,
          34,
          35,
          36,
          37,
          38,
          39,
          40,
          41,
          42,
          43,
          44,
          45,
          46,
          47,
          48,
          49,
          50,
          51,
          52,
          53,
          54,
          55,
          56,
          57,
          58,
          59,
          60,
          61,
          62,
          63,
          64,
          65,
          66,
          67,
          68,
          69,
          70,
          71,
          72,
          73,
          74,
          75,
          76,
          77,
          78,
          79,
          80,
          81,
          82,
          83,
          84,
          85,
          86,
          87,
          88,
          89,
          90,
          91,
          92,
          93,
          94,
          95,
          96,
          97,
          98,
          99,
          100,
          101,
          102,
          103,
          104,
          105,
          106,
          107,
          108,
          109,
          110,
          111,
          112,
          113,
          114,
          115,
          116,
          117,
          118,
          119,
          120,
          121,
          122,
          123,
          124,
          125,
          126,
          127,
          128,
          129,
          130,
          131,
          132,
          133,
          134,
          135,
          136,
          137,
          138,
          139,
          140,
          141,
          142,
          143,
          144,
          145,
          146,
          147,
          148,
          149,
          150,
          151,
          152,
          153,
          154,
          155,
          156,
          157,
          158,
          159,
          160,
          161,
          162,
          163,
          164,
          165,
          166,
          167,
          168,
          169,
          170,
          171,
          172,
          173,
          174,
          175,
          176,
          177,
          178,
          179,
          180,
          181,
          182,
          183,
          184,
          185,
          186,
          187,
          188,
          189,
          190,
          191,
          192,
          193,
          194,
          195,
          196,
          197,
          198,
          199,
          200,
          201,
          202,
          203,
          204,
          205,
          206,
          207,
          208,
          209,
          210,
          211,
          212,
          213,
          214,
          215,
          216,
          217,
          218,
          219,
          220,
          221,
          222,
          223,
          224,
          225,
          226,
          227,
          228,
          229,
          230,
          231,
          232,
          233,
          234,
          235,
          236,
          237,
          238,
          239,
          240,
          241,
          242,
          243,
          244,
          245,
          246,
          247,
          248,
          249,
          250,
          251,
          252,
          253,
          254,
          255,
          256,
          257,
          258,
          259,
          260,
          261,
          262,
          263,
          264,
          265,
          266,
          267,
          268,
          269,
          270,
          271,
          272,
          273,
          274,
          275,
          276,
          277,
          278,
          279,
          280,
          281,
          282,
          283,
          284,
          285,
          286,
          287,
          288,
          289,
          290,
          291,
          292,
          293,
          294,
          295,
          296,
          297,
          298,
          299,
          300,
          301,
          302,
          303,
          304,
          305,
          306,
          307,
          308,
          309,
          310,
          311,
          312,
          313,
          314,
          315,
          316,
          317,
          318,
          319,
          320,
          321,
          322,
          323,
          324,
          325,
          326,
          327,
          328,
          329,
          330,
          331,
          332,
          333,
          334,
          335,
          336,
          337,
          338,
          339,
          340,
          341,
          342,
          343,
          344,
          345,
          346,
          347,
          348,
          349,
          350,
          351,
          352,
          353,
          354,
          355,
          356,
          357,
          358,
          359,
          360,
          361,
          362,
          363,
          364,
          365,
          366,
          367,
          368,
          369,
          370,
          371,
          372,
          373,
          374,
          375,
          376,
          377
         ],
         "xaxis": "x",
         "y": [
          918.5873479854375,
          898.9300933654172,
          896.453659457547,
          873.8357896295915,
          921.0098153528534,
          961.2995891952805,
          904.5696391317349,
          958.9885103372548,
          936.6298200910838,
          952.1593761664532,
          958.8409833223351,
          940.7587503532887,
          943.6836268439527,
          940.7516712075486,
          930.3859236633389,
          897.7628285815259,
          979.8273927007583,
          951.2353350573649,
          989.129851074138,
          999.4846828085178,
          969.292808117276,
          925.4543442099898,
          926.5753742930257,
          968.7554400207587,
          995.9746229008337,
          945.3038324787273,
          980.994055851191,
          974.5153850202753,
          933.149015038298,
          962.5761176990845,
          957.4113890829029,
          944.383418223264,
          936.8617397837756,
          956.6342703135172,
          927.9985762150649,
          900.1448553751115,
          940.8100047504948,
          926.7083804328736,
          917.9804046923242,
          954.2501720963261,
          943.5791783812255,
          950.1244464417391,
          982.6669998220495,
          957.4179710113355,
          938.5457841117193,
          972.0570580518447,
          941.0052640486794,
          985.5642233797848,
          944.6672218710611,
          971.9927938318883,
          944.6191062847714,
          979.0048162739536,
          931.9129309399142,
          948.8513320392105,
          965.6519000270587,
          996.1238502621854,
          938.9701735164728,
          890.3374062603958,
          886.0564770021294,
          920.6100467073437,
          891.375561534386,
          968.5990128643094,
          932.4644174470927,
          1008.4796548527343,
          967.2039286217341,
          934.426689960786,
          955.5844478189456,
          987.411163930553,
          915.2779801347274,
          950.918220608119,
          924.4455094422951,
          928.0205778598538,
          931.1703200336046,
          998.9358211855417,
          931.2786442257847,
          949.0092545908161,
          968.8592470306172,
          967.3411097709209,
          909.4795678819326,
          958.4212539226203,
          951.898199842501,
          948.4628675771269,
          943.926364013345,
          942.3486338867132,
          965.5318750529259,
          958.6656949767771,
          1011.2928812882258,
          969.979518403268,
          996.8603588119769,
          997.4841563657855,
          989.4989289167802,
          1000.5708523927392,
          1036.7734532367876,
          1034.3383220537703,
          1028.2550789116008,
          1026.2190954410491,
          1014.9786138605795,
          974.5580123071079,
          1023.9250896904942,
          1028.7919149177267,
          1064.0869874405657,
          1004.104951985828,
          1034.880068229217,
          1075.0994853812635,
          1060.1440582509563,
          1061.388399062602,
          1038.3010128079604,
          1062.1548719722855,
          1082.7040291958363,
          1065.7594139502576,
          1050.9855986469463,
          1068.6525538684082,
          1056.664445863967,
          1078.741644621618,
          1087.4598684461098,
          1084.6381661341534,
          1073.7605532867174,
          1057.4857475944975,
          1076.0954573575216,
          1086.980858334192,
          1096.4953061008878,
          1077.1222141370497,
          1071.7994613686878,
          1085.2638830721487,
          1084.3728636298722,
          1071.583055932115,
          1045.6115015065675,
          1048.433855390007,
          1044.3786176841545,
          1060.4612481084707,
          1067.9496051281303,
          1043.1215539938107,
          1081.8306618816016,
          1050.5826206041943,
          1081.4163993853913,
          1077.2974925050391,
          1094.9169182184748,
          1062.9499039376562,
          1080.755468823805,
          1080.9750473044562,
          1057.8364026927834,
          1079.710868234305,
          1097.1126555688284,
          1058.3152061285073,
          1075.3693422709603,
          1094.5620232943083,
          1086.434531873108,
          1098.1518038685347,
          1050.3946442242884,
          1081.0843327227506,
          1079.7750739445216,
          1075.3051407669525,
          1078.2800444654213,
          1096.9270328455057,
          1104.5183483888268,
          1092.3663237829483,
          1104.5133809894357,
          1104.5155724864132,
          1100.5250020541273,
          1096.4991713690674,
          1104.1764013755947,
          1104.266208036457,
          1096.27425462374,
          1104.1877311348915,
          1096.513147607833,
          1099.782256167018,
          1104.1238645268752,
          1100.4642507466606,
          1104.1321267091553,
          1091.1804035480532,
          1103.7368630926412,
          1103.9717763069561,
          1103.830638824715,
          1103.8363123452243,
          1103.7526308747408,
          1102.4638995682328,
          1103.2130669739497,
          1102.9830881182152,
          1103.4767689099988,
          1103.6337732112424,
          1103.1452335470071,
          1103.4913861121588,
          1103.4213879434135,
          1103.437568239615,
          1095.48661863219,
          1103.4455333694789,
          1093.2965660766567,
          1103.3222471084023,
          1095.3340604434954,
          1102.9773356137089,
          1095.3658156192914,
          1103.162431239972,
          1103.1063364813488,
          1102.954555156826,
          1102.8122140096932,
          1102.8393470249266,
          1102.5174199481341,
          1102.610237821429,
          1102.6796844513283,
          1102.722400572584,
          1102.8834864897865,
          1102.5228575474578,
          1102.7605339226388,
          1103.0176037752965,
          1102.7460722674548,
          1102.6833100480878,
          1102.410006816961,
          1102.5675468796276,
          1102.6632235584966,
          1102.5361079017857,
          1102.431671927938,
          1102.0956189891988,
          1102.1129877531625,
          1101.97916787245,
          1101.608197357496,
          1101.70010595683,
          1101.3864825119674,
          1101.5427939144447,
          1101.5309292883849,
          1101.1654157249643,
          1100.9955305767135,
          1101.1514951843997,
          1101.3123100016353,
          1100.6877234442732,
          1100.801978762899,
          1101.048813225649,
          1101.0872424139939,
          1100.9998372003065,
          1100.5520177631206,
          1100.4638648311357,
          1100.5865821277532,
          1100.2250825959395,
          1100.4244592814969,
          1100.6276157219693,
          1100.606797168991,
          1100.562894398599,
          1100.4462101386412,
          1100.3550715141887,
          1100.376301169626,
          1100.26475129022,
          1099.9889088330842,
          1100.0422259141453,
          1100.1066047966738,
          1099.7721126582842,
          1100.0335578151112,
          1099.9571900335127,
          1100.099287407463,
          1100.1199924188259,
          1099.9842112336405,
          1099.9824860141032,
          1100.1011167502024,
          1100.0680227472753,
          1099.31864369497,
          1099.3532316453875,
          1099.2952533014711,
          1099.2977044916545,
          1099.2375065037493,
          1098.869971472804,
          1098.5168823014087,
          1097.6176167332485,
          1097.1851468632335,
          1097.195347498184,
          1097.6828078635624,
          1097.62879622887,
          1097.8156496257,
          1098.192647645063,
          1097.6578344118134,
          1097.428495177646,
          1097.6402039948387,
          1097.639063212906,
          1097.9617858334902,
          1097.3231952052793,
          1097.3990897967374,
          1097.320312973159,
          1097.4212370766793,
          1096.6013393357232,
          1096.5937966011284,
          1096.552416092945,
          1096.378809037984,
          1087.700792096566,
          1095.209133981571,
          1095.541513739992,
          1095.571034965372,
          1095.6432680218754,
          1095.7452388116376,
          1095.718114690389,
          1095.8537005957949,
          1095.8848661904924,
          1095.8317920238835,
          1096.1194131327504,
          1096.1969230319048,
          1096.3578429619097,
          1096.287530807752,
          1096.3884427943344,
          1096.6286096551937,
          1096.5025833522718,
          1096.5009257532477,
          1096.4699083936625,
          1096.5748156634038,
          1096.6764586858244,
          1096.5357358589845,
          1096.677349787617,
          1096.6826549667671,
          1096.85386438806,
          1096.9743549722082,
          1096.935634036276,
          1096.9322760751897,
          1097.032148718721,
          1097.1410696000476,
          1097.195720693944,
          1097.0574810838716,
          1097.2085960253935,
          1097.1520576514213,
          1097.3271556948584,
          1097.4779759678881,
          1097.3625519092438,
          1097.5180848339226,
          1097.5788938318422,
          1097.7822924687594,
          1097.696580840831,
          1097.7742437543218,
          1097.7742644983553,
          1097.8727408430966,
          1098.0018916326972,
          1097.9091297452187,
          1098.0994131380414,
          1098.2216592399316,
          1098.3018705347044,
          1098.4089456583988,
          1098.4539248896892,
          1098.636953519981,
          1098.6276529290549,
          1098.7666717534921,
          1098.9167554249484,
          1098.9199948668706,
          1099.05601851454,
          1099.080483790424,
          1099.262785933604,
          1099.4214759283805,
          1099.3499286049248,
          1099.4975987504365,
          1099.5044342726294,
          1099.6241770747329,
          1099.5251488653576,
          1099.674837420504,
          1099.7659404851752,
          1099.8802871738915,
          1100.0076994314766,
          1100.004373638471,
          1100.2314236695834,
          1100.3378760014568,
          1100.5265007247413,
          1100.6529271205004,
          1100.6981230372744,
          1100.870874648085,
          1100.9990674161093,
          1101.1736349608398,
          1101.3407172331356,
          1101.4868023270242,
          1101.6938396909793,
          1101.8676012532237,
          1102.0413902215225,
          1102.215206600198,
          1102.389050393572,
          1102.5629216059697,
          1102.7368202417147,
          1102.9107463051334,
          1103.0846998005516,
          1103.2586807322953,
          1103.4326891046926,
          1103.60672492207,
          1103.7807881887582,
          1103.9548789090857,
          1104.1289970873809,
          1104.3031427279777,
          1104.4773158352052,
          1104.6515164133957,
          1104.8257444668834
         ],
         "yaxis": "y"
        }
       ],
       "layout": {
        "legend": {
         "title": {
          "text": "variable"
         },
         "tracegroupgap": 0
        },
        "margin": {
         "t": 60
        },
        "template": {
         "data": {
          "bar": [
           {
            "error_x": {
             "color": "#2a3f5f"
            },
            "error_y": {
             "color": "#2a3f5f"
            },
            "marker": {
             "line": {
              "color": "#E5ECF6",
              "width": 0.5
             },
             "pattern": {
              "fillmode": "overlay",
              "size": 10,
              "solidity": 0.2
             }
            },
            "type": "bar"
           }
          ],
          "barpolar": [
           {
            "marker": {
             "line": {
              "color": "#E5ECF6",
              "width": 0.5
             },
             "pattern": {
              "fillmode": "overlay",
              "size": 10,
              "solidity": 0.2
             }
            },
            "type": "barpolar"
           }
          ],
          "carpet": [
           {
            "aaxis": {
             "endlinecolor": "#2a3f5f",
             "gridcolor": "white",
             "linecolor": "white",
             "minorgridcolor": "white",
             "startlinecolor": "#2a3f5f"
            },
            "baxis": {
             "endlinecolor": "#2a3f5f",
             "gridcolor": "white",
             "linecolor": "white",
             "minorgridcolor": "white",
             "startlinecolor": "#2a3f5f"
            },
            "type": "carpet"
           }
          ],
          "choropleth": [
           {
            "colorbar": {
             "outlinewidth": 0,
             "ticks": ""
            },
            "type": "choropleth"
           }
          ],
          "contour": [
           {
            "colorbar": {
             "outlinewidth": 0,
             "ticks": ""
            },
            "colorscale": [
             [
              0,
              "#0d0887"
             ],
             [
              0.1111111111111111,
              "#46039f"
             ],
             [
              0.2222222222222222,
              "#7201a8"
             ],
             [
              0.3333333333333333,
              "#9c179e"
             ],
             [
              0.4444444444444444,
              "#bd3786"
             ],
             [
              0.5555555555555556,
              "#d8576b"
             ],
             [
              0.6666666666666666,
              "#ed7953"
             ],
             [
              0.7777777777777778,
              "#fb9f3a"
             ],
             [
              0.8888888888888888,
              "#fdca26"
             ],
             [
              1,
              "#f0f921"
             ]
            ],
            "type": "contour"
           }
          ],
          "contourcarpet": [
           {
            "colorbar": {
             "outlinewidth": 0,
             "ticks": ""
            },
            "type": "contourcarpet"
           }
          ],
          "heatmap": [
           {
            "colorbar": {
             "outlinewidth": 0,
             "ticks": ""
            },
            "colorscale": [
             [
              0,
              "#0d0887"
             ],
             [
              0.1111111111111111,
              "#46039f"
             ],
             [
              0.2222222222222222,
              "#7201a8"
             ],
             [
              0.3333333333333333,
              "#9c179e"
             ],
             [
              0.4444444444444444,
              "#bd3786"
             ],
             [
              0.5555555555555556,
              "#d8576b"
             ],
             [
              0.6666666666666666,
              "#ed7953"
             ],
             [
              0.7777777777777778,
              "#fb9f3a"
             ],
             [
              0.8888888888888888,
              "#fdca26"
             ],
             [
              1,
              "#f0f921"
             ]
            ],
            "type": "heatmap"
           }
          ],
          "heatmapgl": [
           {
            "colorbar": {
             "outlinewidth": 0,
             "ticks": ""
            },
            "colorscale": [
             [
              0,
              "#0d0887"
             ],
             [
              0.1111111111111111,
              "#46039f"
             ],
             [
              0.2222222222222222,
              "#7201a8"
             ],
             [
              0.3333333333333333,
              "#9c179e"
             ],
             [
              0.4444444444444444,
              "#bd3786"
             ],
             [
              0.5555555555555556,
              "#d8576b"
             ],
             [
              0.6666666666666666,
              "#ed7953"
             ],
             [
              0.7777777777777778,
              "#fb9f3a"
             ],
             [
              0.8888888888888888,
              "#fdca26"
             ],
             [
              1,
              "#f0f921"
             ]
            ],
            "type": "heatmapgl"
           }
          ],
          "histogram": [
           {
            "marker": {
             "pattern": {
              "fillmode": "overlay",
              "size": 10,
              "solidity": 0.2
             }
            },
            "type": "histogram"
           }
          ],
          "histogram2d": [
           {
            "colorbar": {
             "outlinewidth": 0,
             "ticks": ""
            },
            "colorscale": [
             [
              0,
              "#0d0887"
             ],
             [
              0.1111111111111111,
              "#46039f"
             ],
             [
              0.2222222222222222,
              "#7201a8"
             ],
             [
              0.3333333333333333,
              "#9c179e"
             ],
             [
              0.4444444444444444,
              "#bd3786"
             ],
             [
              0.5555555555555556,
              "#d8576b"
             ],
             [
              0.6666666666666666,
              "#ed7953"
             ],
             [
              0.7777777777777778,
              "#fb9f3a"
             ],
             [
              0.8888888888888888,
              "#fdca26"
             ],
             [
              1,
              "#f0f921"
             ]
            ],
            "type": "histogram2d"
           }
          ],
          "histogram2dcontour": [
           {
            "colorbar": {
             "outlinewidth": 0,
             "ticks": ""
            },
            "colorscale": [
             [
              0,
              "#0d0887"
             ],
             [
              0.1111111111111111,
              "#46039f"
             ],
             [
              0.2222222222222222,
              "#7201a8"
             ],
             [
              0.3333333333333333,
              "#9c179e"
             ],
             [
              0.4444444444444444,
              "#bd3786"
             ],
             [
              0.5555555555555556,
              "#d8576b"
             ],
             [
              0.6666666666666666,
              "#ed7953"
             ],
             [
              0.7777777777777778,
              "#fb9f3a"
             ],
             [
              0.8888888888888888,
              "#fdca26"
             ],
             [
              1,
              "#f0f921"
             ]
            ],
            "type": "histogram2dcontour"
           }
          ],
          "mesh3d": [
           {
            "colorbar": {
             "outlinewidth": 0,
             "ticks": ""
            },
            "type": "mesh3d"
           }
          ],
          "parcoords": [
           {
            "line": {
             "colorbar": {
              "outlinewidth": 0,
              "ticks": ""
             }
            },
            "type": "parcoords"
           }
          ],
          "pie": [
           {
            "automargin": true,
            "type": "pie"
           }
          ],
          "scatter": [
           {
            "marker": {
             "colorbar": {
              "outlinewidth": 0,
              "ticks": ""
             }
            },
            "type": "scatter"
           }
          ],
          "scatter3d": [
           {
            "line": {
             "colorbar": {
              "outlinewidth": 0,
              "ticks": ""
             }
            },
            "marker": {
             "colorbar": {
              "outlinewidth": 0,
              "ticks": ""
             }
            },
            "type": "scatter3d"
           }
          ],
          "scattercarpet": [
           {
            "marker": {
             "colorbar": {
              "outlinewidth": 0,
              "ticks": ""
             }
            },
            "type": "scattercarpet"
           }
          ],
          "scattergeo": [
           {
            "marker": {
             "colorbar": {
              "outlinewidth": 0,
              "ticks": ""
             }
            },
            "type": "scattergeo"
           }
          ],
          "scattergl": [
           {
            "marker": {
             "colorbar": {
              "outlinewidth": 0,
              "ticks": ""
             }
            },
            "type": "scattergl"
           }
          ],
          "scattermapbox": [
           {
            "marker": {
             "colorbar": {
              "outlinewidth": 0,
              "ticks": ""
             }
            },
            "type": "scattermapbox"
           }
          ],
          "scatterpolar": [
           {
            "marker": {
             "colorbar": {
              "outlinewidth": 0,
              "ticks": ""
             }
            },
            "type": "scatterpolar"
           }
          ],
          "scatterpolargl": [
           {
            "marker": {
             "colorbar": {
              "outlinewidth": 0,
              "ticks": ""
             }
            },
            "type": "scatterpolargl"
           }
          ],
          "scatterternary": [
           {
            "marker": {
             "colorbar": {
              "outlinewidth": 0,
              "ticks": ""
             }
            },
            "type": "scatterternary"
           }
          ],
          "surface": [
           {
            "colorbar": {
             "outlinewidth": 0,
             "ticks": ""
            },
            "colorscale": [
             [
              0,
              "#0d0887"
             ],
             [
              0.1111111111111111,
              "#46039f"
             ],
             [
              0.2222222222222222,
              "#7201a8"
             ],
             [
              0.3333333333333333,
              "#9c179e"
             ],
             [
              0.4444444444444444,
              "#bd3786"
             ],
             [
              0.5555555555555556,
              "#d8576b"
             ],
             [
              0.6666666666666666,
              "#ed7953"
             ],
             [
              0.7777777777777778,
              "#fb9f3a"
             ],
             [
              0.8888888888888888,
              "#fdca26"
             ],
             [
              1,
              "#f0f921"
             ]
            ],
            "type": "surface"
           }
          ],
          "table": [
           {
            "cells": {
             "fill": {
              "color": "#EBF0F8"
             },
             "line": {
              "color": "white"
             }
            },
            "header": {
             "fill": {
              "color": "#C8D4E3"
             },
             "line": {
              "color": "white"
             }
            },
            "type": "table"
           }
          ]
         },
         "layout": {
          "annotationdefaults": {
           "arrowcolor": "#2a3f5f",
           "arrowhead": 0,
           "arrowwidth": 1
          },
          "autotypenumbers": "strict",
          "coloraxis": {
           "colorbar": {
            "outlinewidth": 0,
            "ticks": ""
           }
          },
          "colorscale": {
           "diverging": [
            [
             0,
             "#8e0152"
            ],
            [
             0.1,
             "#c51b7d"
            ],
            [
             0.2,
             "#de77ae"
            ],
            [
             0.3,
             "#f1b6da"
            ],
            [
             0.4,
             "#fde0ef"
            ],
            [
             0.5,
             "#f7f7f7"
            ],
            [
             0.6,
             "#e6f5d0"
            ],
            [
             0.7,
             "#b8e186"
            ],
            [
             0.8,
             "#7fbc41"
            ],
            [
             0.9,
             "#4d9221"
            ],
            [
             1,
             "#276419"
            ]
           ],
           "sequential": [
            [
             0,
             "#0d0887"
            ],
            [
             0.1111111111111111,
             "#46039f"
            ],
            [
             0.2222222222222222,
             "#7201a8"
            ],
            [
             0.3333333333333333,
             "#9c179e"
            ],
            [
             0.4444444444444444,
             "#bd3786"
            ],
            [
             0.5555555555555556,
             "#d8576b"
            ],
            [
             0.6666666666666666,
             "#ed7953"
            ],
            [
             0.7777777777777778,
             "#fb9f3a"
            ],
            [
             0.8888888888888888,
             "#fdca26"
            ],
            [
             1,
             "#f0f921"
            ]
           ],
           "sequentialminus": [
            [
             0,
             "#0d0887"
            ],
            [
             0.1111111111111111,
             "#46039f"
            ],
            [
             0.2222222222222222,
             "#7201a8"
            ],
            [
             0.3333333333333333,
             "#9c179e"
            ],
            [
             0.4444444444444444,
             "#bd3786"
            ],
            [
             0.5555555555555556,
             "#d8576b"
            ],
            [
             0.6666666666666666,
             "#ed7953"
            ],
            [
             0.7777777777777778,
             "#fb9f3a"
            ],
            [
             0.8888888888888888,
             "#fdca26"
            ],
            [
             1,
             "#f0f921"
            ]
           ]
          },
          "colorway": [
           "#636efa",
           "#EF553B",
           "#00cc96",
           "#ab63fa",
           "#FFA15A",
           "#19d3f3",
           "#FF6692",
           "#B6E880",
           "#FF97FF",
           "#FECB52"
          ],
          "font": {
           "color": "#2a3f5f"
          },
          "geo": {
           "bgcolor": "white",
           "lakecolor": "white",
           "landcolor": "#E5ECF6",
           "showlakes": true,
           "showland": true,
           "subunitcolor": "white"
          },
          "hoverlabel": {
           "align": "left"
          },
          "hovermode": "closest",
          "mapbox": {
           "style": "light"
          },
          "paper_bgcolor": "white",
          "plot_bgcolor": "#E5ECF6",
          "polar": {
           "angularaxis": {
            "gridcolor": "white",
            "linecolor": "white",
            "ticks": ""
           },
           "bgcolor": "#E5ECF6",
           "radialaxis": {
            "gridcolor": "white",
            "linecolor": "white",
            "ticks": ""
           }
          },
          "scene": {
           "xaxis": {
            "backgroundcolor": "#E5ECF6",
            "gridcolor": "white",
            "gridwidth": 2,
            "linecolor": "white",
            "showbackground": true,
            "ticks": "",
            "zerolinecolor": "white"
           },
           "yaxis": {
            "backgroundcolor": "#E5ECF6",
            "gridcolor": "white",
            "gridwidth": 2,
            "linecolor": "white",
            "showbackground": true,
            "ticks": "",
            "zerolinecolor": "white"
           },
           "zaxis": {
            "backgroundcolor": "#E5ECF6",
            "gridcolor": "white",
            "gridwidth": 2,
            "linecolor": "white",
            "showbackground": true,
            "ticks": "",
            "zerolinecolor": "white"
           }
          },
          "shapedefaults": {
           "line": {
            "color": "#2a3f5f"
           }
          },
          "ternary": {
           "aaxis": {
            "gridcolor": "white",
            "linecolor": "white",
            "ticks": ""
           },
           "baxis": {
            "gridcolor": "white",
            "linecolor": "white",
            "ticks": ""
           },
           "bgcolor": "#E5ECF6",
           "caxis": {
            "gridcolor": "white",
            "linecolor": "white",
            "ticks": ""
           }
          },
          "title": {
           "x": 0.05
          },
          "xaxis": {
           "automargin": true,
           "gridcolor": "white",
           "linecolor": "white",
           "ticks": "",
           "title": {
            "standoff": 15
           },
           "zerolinecolor": "white",
           "zerolinewidth": 2
          },
          "yaxis": {
           "automargin": true,
           "gridcolor": "white",
           "linecolor": "white",
           "ticks": "",
           "title": {
            "standoff": 15
           },
           "zerolinecolor": "white",
           "zerolinewidth": 2
          }
         }
        },
        "xaxis": {
         "anchor": "y",
         "domain": [
          0,
          1
         ],
         "title": {
          "text": "index"
         }
        },
        "yaxis": {
         "anchor": "x",
         "domain": [
          0,
          1
         ],
         "title": {
          "text": "value"
         }
        }
       }
      }
     },
     "metadata": {},
     "output_type": "display_data"
    }
   ],
   "source": [
    "px.line(merged, y=[\"Price\", \"Monte Carlo\", \"Antithetic Variates\"])"
   ]
  },
  {
   "cell_type": "code",
   "execution_count": 22,
   "metadata": {},
   "outputs": [
    {
     "data": {
      "application/vnd.jupyter.widget-view+json": {
       "model_id": "d1bd16d826794b998fbe3c6094c56ff4",
       "version_major": 2,
       "version_minor": 0
      },
      "text/plain": [
       "  0%|          | 0/378 [00:00<?, ?it/s]"
      ]
     },
     "metadata": {},
     "output_type": "display_data"
    }
   ],
   "source": [
    "expected_payoffs_greeks = np.zeros(shape=(3, m))\n",
    "\n",
    "for t in tqdm(range(m), leave=False):\n",
    "    r = calc_rates(t, m, rates)\n",
    "\n",
    "    paths = n_path_sim_greeks(asset_hist=asset_hist,\n",
    "                    Nsim=30,\n",
    "                    t=t,\n",
    "                    r=r,\n",
    "                    dt=dt,\n",
    "                    p=3,\n",
    "                    m=m,\n",
    "                    sim_func=multi_asset_GBM,\n",
    "                    )\n",
    "                    \n",
    "    for i in range(3):\n",
    "        expected_payoffs_greeks[i][t] = expected_payoff(payoff(paths[i], K, Barrier, ratio), r=r, T=T, t=t*dt)"
   ]
  },
  {
   "cell_type": "markdown",
   "metadata": {},
   "source": [
    "### Delta"
   ]
  },
  {
   "cell_type": "code",
   "execution_count": 23,
   "metadata": {},
   "outputs": [
    {
     "data": {
      "application/vnd.plotly.v1+json": {
       "config": {
        "plotlyServerURL": "https://plot.ly"
       },
       "data": [
        {
         "hovertemplate": "variable=0<br>index=%{x}<br>value=%{y}<extra></extra>",
         "legendgroup": "0",
         "line": {
          "color": "#636efa",
          "dash": "solid"
         },
         "marker": {
          "symbol": "circle"
         },
         "mode": "lines",
         "name": "0",
         "orientation": "v",
         "showlegend": true,
         "type": "scatter",
         "x": [
          0,
          1,
          2,
          3,
          4,
          5,
          6,
          7,
          8,
          9,
          10,
          11,
          12,
          13,
          14,
          15,
          16,
          17,
          18,
          19,
          20,
          21,
          22,
          23,
          24,
          25,
          26,
          27,
          28,
          29,
          30,
          31,
          32,
          33,
          34,
          35,
          36,
          37,
          38,
          39,
          40,
          41,
          42,
          43,
          44,
          45,
          46,
          47,
          48,
          49,
          50,
          51,
          52,
          53,
          54,
          55,
          56,
          57,
          58,
          59,
          60,
          61,
          62,
          63,
          64,
          65,
          66,
          67,
          68,
          69,
          70,
          71,
          72,
          73,
          74,
          75,
          76,
          77,
          78,
          79,
          80,
          81,
          82,
          83,
          84,
          85,
          86,
          87,
          88,
          89,
          90,
          91,
          92,
          93,
          94,
          95,
          96,
          97,
          98,
          99,
          100,
          101,
          102,
          103,
          104,
          105,
          106,
          107,
          108,
          109,
          110,
          111,
          112,
          113,
          114,
          115,
          116,
          117,
          118,
          119,
          120,
          121,
          122,
          123,
          124,
          125,
          126,
          127,
          128,
          129,
          130,
          131,
          132,
          133,
          134,
          135,
          136,
          137,
          138,
          139,
          140,
          141,
          142,
          143,
          144,
          145,
          146,
          147,
          148,
          149,
          150,
          151,
          152,
          153,
          154,
          155,
          156,
          157,
          158,
          159,
          160,
          161,
          162,
          163,
          164,
          165,
          166,
          167,
          168,
          169,
          170,
          171,
          172,
          173,
          174,
          175,
          176,
          177,
          178,
          179,
          180,
          181,
          182,
          183,
          184,
          185,
          186,
          187,
          188,
          189,
          190,
          191,
          192,
          193,
          194,
          195,
          196,
          197,
          198,
          199,
          200,
          201,
          202,
          203,
          204,
          205,
          206,
          207,
          208,
          209,
          210,
          211,
          212,
          213,
          214,
          215,
          216,
          217,
          218,
          219,
          220,
          221,
          222,
          223,
          224,
          225,
          226,
          227,
          228,
          229,
          230,
          231,
          232,
          233,
          234,
          235,
          236,
          237,
          238,
          239,
          240,
          241,
          242,
          243,
          244,
          245,
          246,
          247,
          248,
          249,
          250,
          251,
          252,
          253,
          254,
          255,
          256,
          257,
          258,
          259,
          260,
          261,
          262,
          263,
          264,
          265,
          266,
          267,
          268,
          269,
          270,
          271,
          272,
          273,
          274,
          275,
          276,
          277,
          278,
          279,
          280,
          281,
          282,
          283,
          284,
          285,
          286,
          287,
          288,
          289,
          290,
          291,
          292,
          293,
          294,
          295,
          296,
          297,
          298,
          299,
          300,
          301,
          302,
          303,
          304,
          305,
          306,
          307,
          308,
          309,
          310,
          311,
          312,
          313,
          314,
          315,
          316,
          317,
          318,
          319,
          320,
          321,
          322,
          323,
          324,
          325,
          326,
          327,
          328,
          329,
          330,
          331,
          332,
          333,
          334,
          335,
          336,
          337,
          338,
          339,
          340,
          341,
          342,
          343,
          344,
          345,
          346,
          347,
          348,
          349,
          350,
          351,
          352,
          353,
          354,
          355,
          356,
          357,
          358,
          359,
          360,
          361,
          362,
          363,
          364,
          365,
          366,
          367,
          368,
          369,
          370,
          371,
          372,
          373,
          374,
          375,
          376,
          377
         ],
         "xaxis": "x",
         "y": [
          -8376.472701071832,
          9203.531876612942,
          -8774.71116179845,
          -25516.858626675257,
          20301.069438934916,
          8377.418744990848,
          11191.551891321353,
          9150.005120906882,
          -21698.371261466007,
          17362.39730173631,
          -11398.507549349773,
          12411.790055769046,
          12171.234535306496,
          2638.3371342230644,
          -475.35644043369985,
          -267.92540673261556,
          -4297.629109904989,
          134.82406200233754,
          -20082.926253141748,
          4734.298377444788,
          -25125.073590838892,
          -13788.6349710798,
          -5077.051396328357,
          11090.33428666325,
          3183.425399452858,
          -18529.221459541135,
          2668.8432368561334,
          4929.506888799039,
          -7446.4439089675525,
          -22360.24065712621,
          -13920.337381910684,
          -25252.042000502937,
          -2091.1121408533686,
          -2900.5406200254242,
          10747.565302434112,
          -3540.3670533902696,
          -16754.07577555896,
          147.28422943386477,
          8736.739963843633,
          -12778.196079453692,
          11211.042200660757,
          14420.27314646603,
          12134.203234248162,
          15488.463294852409,
          -8627.201756530183,
          -17339.54893146367,
          10995.97711486902,
          39747.97785435791,
          10734.001276910305,
          12527.510283207448,
          4622.990847704927,
          -3532.0995610851182,
          11756.362830413791,
          -15303.915887391695,
          -9814.806246278522,
          -5987.167979394627,
          24801.084284515127,
          -18565.749068601122,
          28956.73570799744,
          6797.423626364889,
          -8236.299023911954,
          -9289.748932983088,
          19918.87138441132,
          17201.64013340613,
          -9959.103333340066,
          13382.612637986142,
          -18242.09379536242,
          -7769.090967148088,
          -6157.267508239726,
          6783.706722729135,
          6081.096197425126,
          10327.871591464344,
          -10529.398430396184,
          -14267.870701913353,
          -13429.391022521144,
          16875.88097747158,
          6548.988560185649,
          3163.8087573651032,
          22312.711045341755,
          20012.336792605765,
          4706.680183514919,
          -5444.772294233559,
          -23289.822690267727,
          13638.369620195333,
          4107.6266668317485,
          -11495.114832656298,
          25552.72339887034,
          45172.915894671234,
          4301.366704481808,
          -2233.928126422086,
          8038.772539318472,
          1576.0931438618684,
          -14321.889429671273,
          8596.811315077388,
          -14637.518062076679,
          13436.579735746676,
          -3629.3288636630905,
          -13955.95838447025,
          4652.463010867165,
          -557.8579045302945,
          -20235.776297338078,
          -1882.656291847752,
          -446.7843633162829,
          -5974.814924437965,
          27.250280271346128,
          844.4636177421785,
          -9689.897919550902,
          730.1865056738563,
          5217.61417257369,
          3339.252528324664,
          12380.694342423198,
          2854.1529057729917,
          8517.28557544584,
          11157.177873134686,
          -10219.335036248025,
          -3706.1034848271106,
          -4573.380266255469,
          -2636.853711149172,
          7917.985528756844,
          13332.490150672924,
          102.50093731656307,
          10012.521840018337,
          -5113.896468911491,
          -7621.343019398693,
          172.85323689742427,
          14898.107750112444,
          11806.859089153533,
          13662.920571315652,
          -4156.148594743968,
          -6283.6797925914425,
          2968.8235902974043,
          5163.242525024372,
          -3327.568239580728,
          -3981.531110020512,
          27.09270233060579,
          -3118.2455417348365,
          -1784.4289659788046,
          12990.169287662355,
          2179.2241829386967,
          4198.424546813726,
          -8211.096673592465,
          5790.604867834986,
          4308.062651319233,
          -3214.2784796068895,
          429.5857863884862,
          3481.5346200809927,
          -6776.365308678237,
          2923.836280845478,
          3243.6564252739686,
          3410.5468923735316,
          -12859.015047881769,
          6029.099996051627,
          3306.3908213763398,
          0,
          3343.390019546689,
          0,
          -2867.4043502221593,
          2712.667657673137,
          4222.697923489136,
          0,
          -6456.54910376561,
          1008.6265340005411,
          0,
          0,
          -2554.707177289572,
          3905.3592158430206,
          -7761.126679100186,
          0,
          -3292.1236976178534,
          3072.3646530681776,
          0,
          0,
          0,
          0,
          0,
          0,
          0,
          0,
          0,
          -3866.909107541005,
          0,
          0,
          0,
          0,
          0,
          0,
          0,
          0,
          3782.256183154857,
          0,
          0,
          0,
          0,
          0,
          0,
          0,
          0,
          3364.0540630894407,
          0,
          0,
          0,
          0,
          0,
          0,
          0,
          0,
          0,
          0,
          0,
          0,
          3380.232777398419,
          0,
          0,
          0,
          0,
          0,
          0,
          0,
          0,
          0,
          0,
          0,
          0,
          0,
          0,
          0,
          0,
          0,
          0,
          0,
          0,
          0,
          0,
          0,
          0,
          0,
          0,
          0,
          0,
          0,
          0,
          0,
          0,
          0,
          0,
          0,
          0,
          0,
          0,
          0,
          0,
          0,
          0,
          0,
          0,
          0,
          0,
          0,
          0,
          0,
          0,
          0,
          0,
          0,
          0,
          0,
          0,
          0,
          0,
          0,
          0,
          0,
          0,
          0,
          0,
          0,
          0,
          0,
          0,
          0,
          0,
          0,
          0,
          0,
          0,
          0,
          0,
          0,
          0,
          0,
          0,
          0,
          0,
          0,
          0,
          0,
          0,
          0,
          0,
          0,
          0,
          0,
          0,
          0,
          0,
          0,
          0,
          0,
          0,
          0,
          0,
          0,
          0,
          0,
          0,
          0,
          0,
          0,
          0,
          0,
          0,
          0,
          0,
          0,
          0,
          0,
          0,
          0,
          0,
          0,
          0,
          0,
          0,
          0,
          0,
          0,
          0,
          0,
          0,
          0,
          0,
          0,
          0,
          0,
          0,
          0,
          0,
          0,
          0,
          0,
          0,
          0,
          0,
          0,
          0,
          0,
          0,
          0,
          0,
          0,
          0,
          0,
          0,
          0,
          0,
          0,
          0,
          0,
          0,
          0,
          0,
          0,
          0,
          0,
          0,
          0,
          0,
          0
         ],
         "yaxis": "y"
        }
       ],
       "layout": {
        "legend": {
         "title": {
          "text": "variable"
         },
         "tracegroupgap": 0
        },
        "margin": {
         "t": 60
        },
        "template": {
         "data": {
          "bar": [
           {
            "error_x": {
             "color": "#2a3f5f"
            },
            "error_y": {
             "color": "#2a3f5f"
            },
            "marker": {
             "line": {
              "color": "#E5ECF6",
              "width": 0.5
             },
             "pattern": {
              "fillmode": "overlay",
              "size": 10,
              "solidity": 0.2
             }
            },
            "type": "bar"
           }
          ],
          "barpolar": [
           {
            "marker": {
             "line": {
              "color": "#E5ECF6",
              "width": 0.5
             },
             "pattern": {
              "fillmode": "overlay",
              "size": 10,
              "solidity": 0.2
             }
            },
            "type": "barpolar"
           }
          ],
          "carpet": [
           {
            "aaxis": {
             "endlinecolor": "#2a3f5f",
             "gridcolor": "white",
             "linecolor": "white",
             "minorgridcolor": "white",
             "startlinecolor": "#2a3f5f"
            },
            "baxis": {
             "endlinecolor": "#2a3f5f",
             "gridcolor": "white",
             "linecolor": "white",
             "minorgridcolor": "white",
             "startlinecolor": "#2a3f5f"
            },
            "type": "carpet"
           }
          ],
          "choropleth": [
           {
            "colorbar": {
             "outlinewidth": 0,
             "ticks": ""
            },
            "type": "choropleth"
           }
          ],
          "contour": [
           {
            "colorbar": {
             "outlinewidth": 0,
             "ticks": ""
            },
            "colorscale": [
             [
              0,
              "#0d0887"
             ],
             [
              0.1111111111111111,
              "#46039f"
             ],
             [
              0.2222222222222222,
              "#7201a8"
             ],
             [
              0.3333333333333333,
              "#9c179e"
             ],
             [
              0.4444444444444444,
              "#bd3786"
             ],
             [
              0.5555555555555556,
              "#d8576b"
             ],
             [
              0.6666666666666666,
              "#ed7953"
             ],
             [
              0.7777777777777778,
              "#fb9f3a"
             ],
             [
              0.8888888888888888,
              "#fdca26"
             ],
             [
              1,
              "#f0f921"
             ]
            ],
            "type": "contour"
           }
          ],
          "contourcarpet": [
           {
            "colorbar": {
             "outlinewidth": 0,
             "ticks": ""
            },
            "type": "contourcarpet"
           }
          ],
          "heatmap": [
           {
            "colorbar": {
             "outlinewidth": 0,
             "ticks": ""
            },
            "colorscale": [
             [
              0,
              "#0d0887"
             ],
             [
              0.1111111111111111,
              "#46039f"
             ],
             [
              0.2222222222222222,
              "#7201a8"
             ],
             [
              0.3333333333333333,
              "#9c179e"
             ],
             [
              0.4444444444444444,
              "#bd3786"
             ],
             [
              0.5555555555555556,
              "#d8576b"
             ],
             [
              0.6666666666666666,
              "#ed7953"
             ],
             [
              0.7777777777777778,
              "#fb9f3a"
             ],
             [
              0.8888888888888888,
              "#fdca26"
             ],
             [
              1,
              "#f0f921"
             ]
            ],
            "type": "heatmap"
           }
          ],
          "heatmapgl": [
           {
            "colorbar": {
             "outlinewidth": 0,
             "ticks": ""
            },
            "colorscale": [
             [
              0,
              "#0d0887"
             ],
             [
              0.1111111111111111,
              "#46039f"
             ],
             [
              0.2222222222222222,
              "#7201a8"
             ],
             [
              0.3333333333333333,
              "#9c179e"
             ],
             [
              0.4444444444444444,
              "#bd3786"
             ],
             [
              0.5555555555555556,
              "#d8576b"
             ],
             [
              0.6666666666666666,
              "#ed7953"
             ],
             [
              0.7777777777777778,
              "#fb9f3a"
             ],
             [
              0.8888888888888888,
              "#fdca26"
             ],
             [
              1,
              "#f0f921"
             ]
            ],
            "type": "heatmapgl"
           }
          ],
          "histogram": [
           {
            "marker": {
             "pattern": {
              "fillmode": "overlay",
              "size": 10,
              "solidity": 0.2
             }
            },
            "type": "histogram"
           }
          ],
          "histogram2d": [
           {
            "colorbar": {
             "outlinewidth": 0,
             "ticks": ""
            },
            "colorscale": [
             [
              0,
              "#0d0887"
             ],
             [
              0.1111111111111111,
              "#46039f"
             ],
             [
              0.2222222222222222,
              "#7201a8"
             ],
             [
              0.3333333333333333,
              "#9c179e"
             ],
             [
              0.4444444444444444,
              "#bd3786"
             ],
             [
              0.5555555555555556,
              "#d8576b"
             ],
             [
              0.6666666666666666,
              "#ed7953"
             ],
             [
              0.7777777777777778,
              "#fb9f3a"
             ],
             [
              0.8888888888888888,
              "#fdca26"
             ],
             [
              1,
              "#f0f921"
             ]
            ],
            "type": "histogram2d"
           }
          ],
          "histogram2dcontour": [
           {
            "colorbar": {
             "outlinewidth": 0,
             "ticks": ""
            },
            "colorscale": [
             [
              0,
              "#0d0887"
             ],
             [
              0.1111111111111111,
              "#46039f"
             ],
             [
              0.2222222222222222,
              "#7201a8"
             ],
             [
              0.3333333333333333,
              "#9c179e"
             ],
             [
              0.4444444444444444,
              "#bd3786"
             ],
             [
              0.5555555555555556,
              "#d8576b"
             ],
             [
              0.6666666666666666,
              "#ed7953"
             ],
             [
              0.7777777777777778,
              "#fb9f3a"
             ],
             [
              0.8888888888888888,
              "#fdca26"
             ],
             [
              1,
              "#f0f921"
             ]
            ],
            "type": "histogram2dcontour"
           }
          ],
          "mesh3d": [
           {
            "colorbar": {
             "outlinewidth": 0,
             "ticks": ""
            },
            "type": "mesh3d"
           }
          ],
          "parcoords": [
           {
            "line": {
             "colorbar": {
              "outlinewidth": 0,
              "ticks": ""
             }
            },
            "type": "parcoords"
           }
          ],
          "pie": [
           {
            "automargin": true,
            "type": "pie"
           }
          ],
          "scatter": [
           {
            "marker": {
             "colorbar": {
              "outlinewidth": 0,
              "ticks": ""
             }
            },
            "type": "scatter"
           }
          ],
          "scatter3d": [
           {
            "line": {
             "colorbar": {
              "outlinewidth": 0,
              "ticks": ""
             }
            },
            "marker": {
             "colorbar": {
              "outlinewidth": 0,
              "ticks": ""
             }
            },
            "type": "scatter3d"
           }
          ],
          "scattercarpet": [
           {
            "marker": {
             "colorbar": {
              "outlinewidth": 0,
              "ticks": ""
             }
            },
            "type": "scattercarpet"
           }
          ],
          "scattergeo": [
           {
            "marker": {
             "colorbar": {
              "outlinewidth": 0,
              "ticks": ""
             }
            },
            "type": "scattergeo"
           }
          ],
          "scattergl": [
           {
            "marker": {
             "colorbar": {
              "outlinewidth": 0,
              "ticks": ""
             }
            },
            "type": "scattergl"
           }
          ],
          "scattermapbox": [
           {
            "marker": {
             "colorbar": {
              "outlinewidth": 0,
              "ticks": ""
             }
            },
            "type": "scattermapbox"
           }
          ],
          "scatterpolar": [
           {
            "marker": {
             "colorbar": {
              "outlinewidth": 0,
              "ticks": ""
             }
            },
            "type": "scatterpolar"
           }
          ],
          "scatterpolargl": [
           {
            "marker": {
             "colorbar": {
              "outlinewidth": 0,
              "ticks": ""
             }
            },
            "type": "scatterpolargl"
           }
          ],
          "scatterternary": [
           {
            "marker": {
             "colorbar": {
              "outlinewidth": 0,
              "ticks": ""
             }
            },
            "type": "scatterternary"
           }
          ],
          "surface": [
           {
            "colorbar": {
             "outlinewidth": 0,
             "ticks": ""
            },
            "colorscale": [
             [
              0,
              "#0d0887"
             ],
             [
              0.1111111111111111,
              "#46039f"
             ],
             [
              0.2222222222222222,
              "#7201a8"
             ],
             [
              0.3333333333333333,
              "#9c179e"
             ],
             [
              0.4444444444444444,
              "#bd3786"
             ],
             [
              0.5555555555555556,
              "#d8576b"
             ],
             [
              0.6666666666666666,
              "#ed7953"
             ],
             [
              0.7777777777777778,
              "#fb9f3a"
             ],
             [
              0.8888888888888888,
              "#fdca26"
             ],
             [
              1,
              "#f0f921"
             ]
            ],
            "type": "surface"
           }
          ],
          "table": [
           {
            "cells": {
             "fill": {
              "color": "#EBF0F8"
             },
             "line": {
              "color": "white"
             }
            },
            "header": {
             "fill": {
              "color": "#C8D4E3"
             },
             "line": {
              "color": "white"
             }
            },
            "type": "table"
           }
          ]
         },
         "layout": {
          "annotationdefaults": {
           "arrowcolor": "#2a3f5f",
           "arrowhead": 0,
           "arrowwidth": 1
          },
          "autotypenumbers": "strict",
          "coloraxis": {
           "colorbar": {
            "outlinewidth": 0,
            "ticks": ""
           }
          },
          "colorscale": {
           "diverging": [
            [
             0,
             "#8e0152"
            ],
            [
             0.1,
             "#c51b7d"
            ],
            [
             0.2,
             "#de77ae"
            ],
            [
             0.3,
             "#f1b6da"
            ],
            [
             0.4,
             "#fde0ef"
            ],
            [
             0.5,
             "#f7f7f7"
            ],
            [
             0.6,
             "#e6f5d0"
            ],
            [
             0.7,
             "#b8e186"
            ],
            [
             0.8,
             "#7fbc41"
            ],
            [
             0.9,
             "#4d9221"
            ],
            [
             1,
             "#276419"
            ]
           ],
           "sequential": [
            [
             0,
             "#0d0887"
            ],
            [
             0.1111111111111111,
             "#46039f"
            ],
            [
             0.2222222222222222,
             "#7201a8"
            ],
            [
             0.3333333333333333,
             "#9c179e"
            ],
            [
             0.4444444444444444,
             "#bd3786"
            ],
            [
             0.5555555555555556,
             "#d8576b"
            ],
            [
             0.6666666666666666,
             "#ed7953"
            ],
            [
             0.7777777777777778,
             "#fb9f3a"
            ],
            [
             0.8888888888888888,
             "#fdca26"
            ],
            [
             1,
             "#f0f921"
            ]
           ],
           "sequentialminus": [
            [
             0,
             "#0d0887"
            ],
            [
             0.1111111111111111,
             "#46039f"
            ],
            [
             0.2222222222222222,
             "#7201a8"
            ],
            [
             0.3333333333333333,
             "#9c179e"
            ],
            [
             0.4444444444444444,
             "#bd3786"
            ],
            [
             0.5555555555555556,
             "#d8576b"
            ],
            [
             0.6666666666666666,
             "#ed7953"
            ],
            [
             0.7777777777777778,
             "#fb9f3a"
            ],
            [
             0.8888888888888888,
             "#fdca26"
            ],
            [
             1,
             "#f0f921"
            ]
           ]
          },
          "colorway": [
           "#636efa",
           "#EF553B",
           "#00cc96",
           "#ab63fa",
           "#FFA15A",
           "#19d3f3",
           "#FF6692",
           "#B6E880",
           "#FF97FF",
           "#FECB52"
          ],
          "font": {
           "color": "#2a3f5f"
          },
          "geo": {
           "bgcolor": "white",
           "lakecolor": "white",
           "landcolor": "#E5ECF6",
           "showlakes": true,
           "showland": true,
           "subunitcolor": "white"
          },
          "hoverlabel": {
           "align": "left"
          },
          "hovermode": "closest",
          "mapbox": {
           "style": "light"
          },
          "paper_bgcolor": "white",
          "plot_bgcolor": "#E5ECF6",
          "polar": {
           "angularaxis": {
            "gridcolor": "white",
            "linecolor": "white",
            "ticks": ""
           },
           "bgcolor": "#E5ECF6",
           "radialaxis": {
            "gridcolor": "white",
            "linecolor": "white",
            "ticks": ""
           }
          },
          "scene": {
           "xaxis": {
            "backgroundcolor": "#E5ECF6",
            "gridcolor": "white",
            "gridwidth": 2,
            "linecolor": "white",
            "showbackground": true,
            "ticks": "",
            "zerolinecolor": "white"
           },
           "yaxis": {
            "backgroundcolor": "#E5ECF6",
            "gridcolor": "white",
            "gridwidth": 2,
            "linecolor": "white",
            "showbackground": true,
            "ticks": "",
            "zerolinecolor": "white"
           },
           "zaxis": {
            "backgroundcolor": "#E5ECF6",
            "gridcolor": "white",
            "gridwidth": 2,
            "linecolor": "white",
            "showbackground": true,
            "ticks": "",
            "zerolinecolor": "white"
           }
          },
          "shapedefaults": {
           "line": {
            "color": "#2a3f5f"
           }
          },
          "ternary": {
           "aaxis": {
            "gridcolor": "white",
            "linecolor": "white",
            "ticks": ""
           },
           "baxis": {
            "gridcolor": "white",
            "linecolor": "white",
            "ticks": ""
           },
           "bgcolor": "#E5ECF6",
           "caxis": {
            "gridcolor": "white",
            "linecolor": "white",
            "ticks": ""
           }
          },
          "title": {
           "x": 0.05
          },
          "xaxis": {
           "automargin": true,
           "gridcolor": "white",
           "linecolor": "white",
           "ticks": "",
           "title": {
            "standoff": 15
           },
           "zerolinecolor": "white",
           "zerolinewidth": 2
          },
          "yaxis": {
           "automargin": true,
           "gridcolor": "white",
           "linecolor": "white",
           "ticks": "",
           "title": {
            "standoff": 15
           },
           "zerolinecolor": "white",
           "zerolinewidth": 2
          }
         }
        },
        "xaxis": {
         "anchor": "y",
         "domain": [
          0,
          1
         ],
         "title": {
          "text": "index"
         }
        },
        "yaxis": {
         "anchor": "x",
         "domain": [
          0,
          1
         ],
         "title": {
          "text": "value"
         }
        }
       }
      }
     },
     "metadata": {},
     "output_type": "display_data"
    }
   ],
   "source": [
    "px.line((expected_payoffs_greeks[2] - expected_payoffs_greeks[0])/0.004)"
   ]
  },
  {
   "cell_type": "markdown",
   "metadata": {},
   "source": [
    "### Gamma"
   ]
  },
  {
   "cell_type": "code",
   "execution_count": 24,
   "metadata": {},
   "outputs": [
    {
     "data": {
      "application/vnd.plotly.v1+json": {
       "config": {
        "plotlyServerURL": "https://plot.ly"
       },
       "data": [
        {
         "hovertemplate": "variable=0<br>index=%{x}<br>value=%{y}<extra></extra>",
         "legendgroup": "0",
         "line": {
          "color": "#636efa",
          "dash": "solid"
         },
         "marker": {
          "symbol": "circle"
         },
         "mode": "lines",
         "name": "0",
         "orientation": "v",
         "showlegend": true,
         "type": "scatter",
         "x": [
          0,
          1,
          2,
          3,
          4,
          5,
          6,
          7,
          8,
          9,
          10,
          11,
          12,
          13,
          14,
          15,
          16,
          17,
          18,
          19,
          20,
          21,
          22,
          23,
          24,
          25,
          26,
          27,
          28,
          29,
          30,
          31,
          32,
          33,
          34,
          35,
          36,
          37,
          38,
          39,
          40,
          41,
          42,
          43,
          44,
          45,
          46,
          47,
          48,
          49,
          50,
          51,
          52,
          53,
          54,
          55,
          56,
          57,
          58,
          59,
          60,
          61,
          62,
          63,
          64,
          65,
          66,
          67,
          68,
          69,
          70,
          71,
          72,
          73,
          74,
          75,
          76,
          77,
          78,
          79,
          80,
          81,
          82,
          83,
          84,
          85,
          86,
          87,
          88,
          89,
          90,
          91,
          92,
          93,
          94,
          95,
          96,
          97,
          98,
          99,
          100,
          101,
          102,
          103,
          104,
          105,
          106,
          107,
          108,
          109,
          110,
          111,
          112,
          113,
          114,
          115,
          116,
          117,
          118,
          119,
          120,
          121,
          122,
          123,
          124,
          125,
          126,
          127,
          128,
          129,
          130,
          131,
          132,
          133,
          134,
          135,
          136,
          137,
          138,
          139,
          140,
          141,
          142,
          143,
          144,
          145,
          146,
          147,
          148,
          149,
          150,
          151,
          152,
          153,
          154,
          155,
          156,
          157,
          158,
          159,
          160,
          161,
          162,
          163,
          164,
          165,
          166,
          167,
          168,
          169,
          170,
          171,
          172,
          173,
          174,
          175,
          176,
          177,
          178,
          179,
          180,
          181,
          182,
          183,
          184,
          185,
          186,
          187,
          188,
          189,
          190,
          191,
          192,
          193,
          194,
          195,
          196,
          197,
          198,
          199,
          200,
          201,
          202,
          203,
          204,
          205,
          206,
          207,
          208,
          209,
          210,
          211,
          212,
          213,
          214,
          215,
          216,
          217,
          218,
          219,
          220,
          221,
          222,
          223,
          224,
          225,
          226,
          227,
          228,
          229,
          230,
          231,
          232,
          233,
          234,
          235,
          236,
          237,
          238,
          239,
          240,
          241,
          242,
          243,
          244,
          245,
          246,
          247,
          248,
          249,
          250,
          251,
          252,
          253,
          254,
          255,
          256,
          257,
          258,
          259,
          260,
          261,
          262,
          263,
          264,
          265,
          266,
          267,
          268,
          269,
          270,
          271,
          272,
          273,
          274,
          275,
          276,
          277,
          278,
          279,
          280,
          281,
          282,
          283,
          284,
          285,
          286,
          287,
          288,
          289,
          290,
          291,
          292,
          293,
          294,
          295,
          296,
          297,
          298,
          299,
          300,
          301,
          302,
          303,
          304,
          305,
          306,
          307,
          308,
          309,
          310,
          311,
          312,
          313,
          314,
          315,
          316,
          317,
          318,
          319,
          320,
          321,
          322,
          323,
          324,
          325,
          326,
          327,
          328,
          329,
          330,
          331,
          332,
          333,
          334,
          335,
          336,
          337,
          338,
          339,
          340,
          341,
          342,
          343,
          344,
          345,
          346,
          347,
          348,
          349,
          350,
          351,
          352,
          353,
          354,
          355,
          356,
          357,
          358,
          359,
          360,
          361,
          362,
          363,
          364,
          365,
          366,
          367,
          368,
          369,
          370,
          371,
          372,
          373,
          374,
          375,
          376,
          377
         ],
         "xaxis": "x",
         "y": [
          -53932401.50265857,
          -5842936.690422562,
          -24222372.348377634,
          19788516.41205054,
          -15078834.217844758,
          -51244438.17747505,
          -41425731.29845136,
          -31664473.775639467,
          -16984771.527196586,
          -28405936.35020528,
          -26350667.58151578,
          15562124.895609232,
          6244731.378724567,
          18393919.642005105,
          -360096.5353131755,
          -13779610.117964495,
          12188567.887493748,
          2991122.7896790253,
          4125177.0218963204,
          -5896618.516602501,
          -4578508.232814158,
          -8649117.524391813,
          -31511094.846171718,
          9729915.985758083,
          29261284.519896835,
          -27976288.129626397,
          -32176614.04520618,
          14317834.089017026,
          -7373667.024486821,
          20491458.204601374,
          3431978.1887746505,
          -25302437.574974563,
          31235608.127348457,
          8996076.502164101,
          45295309.37440666,
          -27522475.0824338,
          1303878.5826439324,
          9246311.10859923,
          -20827836.73796931,
          6447658.351777221,
          -18305787.89205012,
          2674141.126056526,
          11330268.194100711,
          11199557.672750872,
          -24025226.527897105,
          10231025.82673053,
          41382585.58812769,
          -31743623.785052508,
          -14166834.370950824,
          -1671205.356687324,
          -1760739.7478344354,
          -11013450.490047462,
          44604602.53012562,
          -10500134.846035196,
          15519516.805554532,
          -9859437.461602652,
          25173026.52594134,
          10103589.088613035,
          781803.3840935641,
          8973541.112155886,
          32790633.606747918,
          30670959.643435452,
          -61934338.57072725,
          -7911691.643263482,
          3085382.088698282,
          -17667949.57554288,
          9767069.272706721,
          -14424049.53266879,
          29166259.272513572,
          2114966.19290719,
          34841065.44339611,
          61533661.111514874,
          21641734.176394295,
          -2178903.273367894,
          3580369.274340512,
          35025085.37028325,
          -19953974.81729464,
          -6942874.354734982,
          -25094508.11257557,
          -23338423.05208583,
          -8693819.111727152,
          -4442423.921637101,
          16186276.074954094,
          -23429169.913724508,
          -5678963.670099592,
          9642321.72816341,
          44790715.96313162,
          2812246.9047650043,
          2266355.817310597,
          15900555.674095813,
          -19959198.919611964,
          2262946.0134177464,
          24517411.358628523,
          4876269.426337444,
          20153815.827882256,
          -6129373.438714283,
          10017408.439031215,
          -37919884.432142794,
          -29812.314120533756,
          5292527.213820051,
          6450287.628949638,
          21389429.898957815,
          7327102.806304652,
          -16807229.053214543,
          -8690375.690728843,
          -25424837.304720145,
          11352965.457160793,
          -40493018.2066845,
          6177059.659988004,
          18691979.464666076,
          14378892.4714722,
          -23166696.5707214,
          14050708.703443434,
          -3401437.769720644,
          -3000250.412364494,
          19170501.675640993,
          9467144.064448064,
          -10590178.452666748,
          -14636894.644375844,
          -9656693.674326107,
          20351141.65224786,
          9874908.171076925,
          -4000162.712961071,
          -18666502.912183035,
          -7285430.401054043,
          -10165949.220670315,
          -11172656.896376055,
          -22371189.576591603,
          9913278.991277026,
          18379025.163086455,
          -2669010.8987064036,
          5474629.297810054,
          27569882.097169057,
          -15117002.39120677,
          -4223781.346974761,
          -3118245.5417348365,
          -13917884.464793246,
          -3168596.063499365,
          11695296.119613772,
          -11767420.0746593,
          917571.119852255,
          -14533751.789300824,
          -5144765.885718357,
          38376103.89168839,
          -2527899.482711007,
          29493689.294376396,
          308754.8277850374,
          -2147857.593068068,
          19781675.062050626,
          -17863908.6346725,
          2566418.617773877,
          413141.0267538058,
          2776373.057166893,
          13022253.716601996,
          -3343390.019546689,
          0,
          -2867404.3502221596,
          -2712667.6576731373,
          2742322.1300506387,
          0,
          -6456549.103765611,
          -5669528.515154526,
          8053990.415044609,
          0,
          -2554707.177289572,
          -3905359.215843021,
          -7761126.6791001875,
          0,
          -3292123.6976178535,
          -3072364.653068178,
          0,
          0,
          0,
          0,
          0,
          0,
          0,
          0,
          0,
          -3866909.107541005,
          0,
          0,
          0,
          0,
          0,
          0,
          0,
          0,
          -3782256.1831548573,
          0,
          0,
          0,
          0,
          6604514.185932885,
          0,
          0,
          0,
          -3364054.063089441,
          0,
          0,
          0,
          0,
          0,
          0,
          0,
          0,
          0,
          0,
          0,
          0,
          -3380232.777398419,
          0,
          0,
          0,
          0,
          0,
          0,
          0,
          0,
          0,
          0,
          0,
          0,
          0,
          0,
          0,
          0,
          0,
          0,
          0,
          0,
          0,
          0,
          0,
          0,
          0,
          0,
          0,
          0,
          0,
          0,
          0,
          0,
          0,
          0,
          0,
          0,
          0,
          0,
          0,
          0,
          0,
          0,
          0,
          0,
          0,
          0,
          0,
          0,
          0,
          0,
          0,
          0,
          0,
          0,
          0,
          0,
          0,
          0,
          0,
          0,
          0,
          0,
          0,
          0,
          0,
          0,
          0,
          0,
          0,
          0,
          0,
          0,
          0,
          0,
          0,
          0,
          0,
          0,
          0,
          0,
          0,
          0,
          0,
          0,
          0,
          0,
          0,
          0,
          0,
          0,
          0,
          0,
          0,
          0,
          0,
          0,
          0,
          0,
          0,
          0,
          0,
          0,
          0,
          0,
          0,
          0,
          0,
          0,
          0,
          0,
          0,
          0,
          0,
          0,
          0,
          0,
          0,
          0,
          0,
          0,
          0,
          0,
          0,
          0,
          0,
          0,
          0,
          0,
          0,
          0,
          0,
          0,
          0,
          0,
          0,
          0,
          0,
          0,
          0,
          0,
          0,
          0,
          0,
          0,
          0,
          0,
          0,
          0,
          0,
          0,
          0,
          0,
          0,
          0,
          0,
          0,
          0,
          0,
          0,
          0,
          0,
          0,
          0,
          0,
          0,
          0,
          0
         ],
         "yaxis": "y"
        }
       ],
       "layout": {
        "legend": {
         "title": {
          "text": "variable"
         },
         "tracegroupgap": 0
        },
        "margin": {
         "t": 60
        },
        "template": {
         "data": {
          "bar": [
           {
            "error_x": {
             "color": "#2a3f5f"
            },
            "error_y": {
             "color": "#2a3f5f"
            },
            "marker": {
             "line": {
              "color": "#E5ECF6",
              "width": 0.5
             },
             "pattern": {
              "fillmode": "overlay",
              "size": 10,
              "solidity": 0.2
             }
            },
            "type": "bar"
           }
          ],
          "barpolar": [
           {
            "marker": {
             "line": {
              "color": "#E5ECF6",
              "width": 0.5
             },
             "pattern": {
              "fillmode": "overlay",
              "size": 10,
              "solidity": 0.2
             }
            },
            "type": "barpolar"
           }
          ],
          "carpet": [
           {
            "aaxis": {
             "endlinecolor": "#2a3f5f",
             "gridcolor": "white",
             "linecolor": "white",
             "minorgridcolor": "white",
             "startlinecolor": "#2a3f5f"
            },
            "baxis": {
             "endlinecolor": "#2a3f5f",
             "gridcolor": "white",
             "linecolor": "white",
             "minorgridcolor": "white",
             "startlinecolor": "#2a3f5f"
            },
            "type": "carpet"
           }
          ],
          "choropleth": [
           {
            "colorbar": {
             "outlinewidth": 0,
             "ticks": ""
            },
            "type": "choropleth"
           }
          ],
          "contour": [
           {
            "colorbar": {
             "outlinewidth": 0,
             "ticks": ""
            },
            "colorscale": [
             [
              0,
              "#0d0887"
             ],
             [
              0.1111111111111111,
              "#46039f"
             ],
             [
              0.2222222222222222,
              "#7201a8"
             ],
             [
              0.3333333333333333,
              "#9c179e"
             ],
             [
              0.4444444444444444,
              "#bd3786"
             ],
             [
              0.5555555555555556,
              "#d8576b"
             ],
             [
              0.6666666666666666,
              "#ed7953"
             ],
             [
              0.7777777777777778,
              "#fb9f3a"
             ],
             [
              0.8888888888888888,
              "#fdca26"
             ],
             [
              1,
              "#f0f921"
             ]
            ],
            "type": "contour"
           }
          ],
          "contourcarpet": [
           {
            "colorbar": {
             "outlinewidth": 0,
             "ticks": ""
            },
            "type": "contourcarpet"
           }
          ],
          "heatmap": [
           {
            "colorbar": {
             "outlinewidth": 0,
             "ticks": ""
            },
            "colorscale": [
             [
              0,
              "#0d0887"
             ],
             [
              0.1111111111111111,
              "#46039f"
             ],
             [
              0.2222222222222222,
              "#7201a8"
             ],
             [
              0.3333333333333333,
              "#9c179e"
             ],
             [
              0.4444444444444444,
              "#bd3786"
             ],
             [
              0.5555555555555556,
              "#d8576b"
             ],
             [
              0.6666666666666666,
              "#ed7953"
             ],
             [
              0.7777777777777778,
              "#fb9f3a"
             ],
             [
              0.8888888888888888,
              "#fdca26"
             ],
             [
              1,
              "#f0f921"
             ]
            ],
            "type": "heatmap"
           }
          ],
          "heatmapgl": [
           {
            "colorbar": {
             "outlinewidth": 0,
             "ticks": ""
            },
            "colorscale": [
             [
              0,
              "#0d0887"
             ],
             [
              0.1111111111111111,
              "#46039f"
             ],
             [
              0.2222222222222222,
              "#7201a8"
             ],
             [
              0.3333333333333333,
              "#9c179e"
             ],
             [
              0.4444444444444444,
              "#bd3786"
             ],
             [
              0.5555555555555556,
              "#d8576b"
             ],
             [
              0.6666666666666666,
              "#ed7953"
             ],
             [
              0.7777777777777778,
              "#fb9f3a"
             ],
             [
              0.8888888888888888,
              "#fdca26"
             ],
             [
              1,
              "#f0f921"
             ]
            ],
            "type": "heatmapgl"
           }
          ],
          "histogram": [
           {
            "marker": {
             "pattern": {
              "fillmode": "overlay",
              "size": 10,
              "solidity": 0.2
             }
            },
            "type": "histogram"
           }
          ],
          "histogram2d": [
           {
            "colorbar": {
             "outlinewidth": 0,
             "ticks": ""
            },
            "colorscale": [
             [
              0,
              "#0d0887"
             ],
             [
              0.1111111111111111,
              "#46039f"
             ],
             [
              0.2222222222222222,
              "#7201a8"
             ],
             [
              0.3333333333333333,
              "#9c179e"
             ],
             [
              0.4444444444444444,
              "#bd3786"
             ],
             [
              0.5555555555555556,
              "#d8576b"
             ],
             [
              0.6666666666666666,
              "#ed7953"
             ],
             [
              0.7777777777777778,
              "#fb9f3a"
             ],
             [
              0.8888888888888888,
              "#fdca26"
             ],
             [
              1,
              "#f0f921"
             ]
            ],
            "type": "histogram2d"
           }
          ],
          "histogram2dcontour": [
           {
            "colorbar": {
             "outlinewidth": 0,
             "ticks": ""
            },
            "colorscale": [
             [
              0,
              "#0d0887"
             ],
             [
              0.1111111111111111,
              "#46039f"
             ],
             [
              0.2222222222222222,
              "#7201a8"
             ],
             [
              0.3333333333333333,
              "#9c179e"
             ],
             [
              0.4444444444444444,
              "#bd3786"
             ],
             [
              0.5555555555555556,
              "#d8576b"
             ],
             [
              0.6666666666666666,
              "#ed7953"
             ],
             [
              0.7777777777777778,
              "#fb9f3a"
             ],
             [
              0.8888888888888888,
              "#fdca26"
             ],
             [
              1,
              "#f0f921"
             ]
            ],
            "type": "histogram2dcontour"
           }
          ],
          "mesh3d": [
           {
            "colorbar": {
             "outlinewidth": 0,
             "ticks": ""
            },
            "type": "mesh3d"
           }
          ],
          "parcoords": [
           {
            "line": {
             "colorbar": {
              "outlinewidth": 0,
              "ticks": ""
             }
            },
            "type": "parcoords"
           }
          ],
          "pie": [
           {
            "automargin": true,
            "type": "pie"
           }
          ],
          "scatter": [
           {
            "marker": {
             "colorbar": {
              "outlinewidth": 0,
              "ticks": ""
             }
            },
            "type": "scatter"
           }
          ],
          "scatter3d": [
           {
            "line": {
             "colorbar": {
              "outlinewidth": 0,
              "ticks": ""
             }
            },
            "marker": {
             "colorbar": {
              "outlinewidth": 0,
              "ticks": ""
             }
            },
            "type": "scatter3d"
           }
          ],
          "scattercarpet": [
           {
            "marker": {
             "colorbar": {
              "outlinewidth": 0,
              "ticks": ""
             }
            },
            "type": "scattercarpet"
           }
          ],
          "scattergeo": [
           {
            "marker": {
             "colorbar": {
              "outlinewidth": 0,
              "ticks": ""
             }
            },
            "type": "scattergeo"
           }
          ],
          "scattergl": [
           {
            "marker": {
             "colorbar": {
              "outlinewidth": 0,
              "ticks": ""
             }
            },
            "type": "scattergl"
           }
          ],
          "scattermapbox": [
           {
            "marker": {
             "colorbar": {
              "outlinewidth": 0,
              "ticks": ""
             }
            },
            "type": "scattermapbox"
           }
          ],
          "scatterpolar": [
           {
            "marker": {
             "colorbar": {
              "outlinewidth": 0,
              "ticks": ""
             }
            },
            "type": "scatterpolar"
           }
          ],
          "scatterpolargl": [
           {
            "marker": {
             "colorbar": {
              "outlinewidth": 0,
              "ticks": ""
             }
            },
            "type": "scatterpolargl"
           }
          ],
          "scatterternary": [
           {
            "marker": {
             "colorbar": {
              "outlinewidth": 0,
              "ticks": ""
             }
            },
            "type": "scatterternary"
           }
          ],
          "surface": [
           {
            "colorbar": {
             "outlinewidth": 0,
             "ticks": ""
            },
            "colorscale": [
             [
              0,
              "#0d0887"
             ],
             [
              0.1111111111111111,
              "#46039f"
             ],
             [
              0.2222222222222222,
              "#7201a8"
             ],
             [
              0.3333333333333333,
              "#9c179e"
             ],
             [
              0.4444444444444444,
              "#bd3786"
             ],
             [
              0.5555555555555556,
              "#d8576b"
             ],
             [
              0.6666666666666666,
              "#ed7953"
             ],
             [
              0.7777777777777778,
              "#fb9f3a"
             ],
             [
              0.8888888888888888,
              "#fdca26"
             ],
             [
              1,
              "#f0f921"
             ]
            ],
            "type": "surface"
           }
          ],
          "table": [
           {
            "cells": {
             "fill": {
              "color": "#EBF0F8"
             },
             "line": {
              "color": "white"
             }
            },
            "header": {
             "fill": {
              "color": "#C8D4E3"
             },
             "line": {
              "color": "white"
             }
            },
            "type": "table"
           }
          ]
         },
         "layout": {
          "annotationdefaults": {
           "arrowcolor": "#2a3f5f",
           "arrowhead": 0,
           "arrowwidth": 1
          },
          "autotypenumbers": "strict",
          "coloraxis": {
           "colorbar": {
            "outlinewidth": 0,
            "ticks": ""
           }
          },
          "colorscale": {
           "diverging": [
            [
             0,
             "#8e0152"
            ],
            [
             0.1,
             "#c51b7d"
            ],
            [
             0.2,
             "#de77ae"
            ],
            [
             0.3,
             "#f1b6da"
            ],
            [
             0.4,
             "#fde0ef"
            ],
            [
             0.5,
             "#f7f7f7"
            ],
            [
             0.6,
             "#e6f5d0"
            ],
            [
             0.7,
             "#b8e186"
            ],
            [
             0.8,
             "#7fbc41"
            ],
            [
             0.9,
             "#4d9221"
            ],
            [
             1,
             "#276419"
            ]
           ],
           "sequential": [
            [
             0,
             "#0d0887"
            ],
            [
             0.1111111111111111,
             "#46039f"
            ],
            [
             0.2222222222222222,
             "#7201a8"
            ],
            [
             0.3333333333333333,
             "#9c179e"
            ],
            [
             0.4444444444444444,
             "#bd3786"
            ],
            [
             0.5555555555555556,
             "#d8576b"
            ],
            [
             0.6666666666666666,
             "#ed7953"
            ],
            [
             0.7777777777777778,
             "#fb9f3a"
            ],
            [
             0.8888888888888888,
             "#fdca26"
            ],
            [
             1,
             "#f0f921"
            ]
           ],
           "sequentialminus": [
            [
             0,
             "#0d0887"
            ],
            [
             0.1111111111111111,
             "#46039f"
            ],
            [
             0.2222222222222222,
             "#7201a8"
            ],
            [
             0.3333333333333333,
             "#9c179e"
            ],
            [
             0.4444444444444444,
             "#bd3786"
            ],
            [
             0.5555555555555556,
             "#d8576b"
            ],
            [
             0.6666666666666666,
             "#ed7953"
            ],
            [
             0.7777777777777778,
             "#fb9f3a"
            ],
            [
             0.8888888888888888,
             "#fdca26"
            ],
            [
             1,
             "#f0f921"
            ]
           ]
          },
          "colorway": [
           "#636efa",
           "#EF553B",
           "#00cc96",
           "#ab63fa",
           "#FFA15A",
           "#19d3f3",
           "#FF6692",
           "#B6E880",
           "#FF97FF",
           "#FECB52"
          ],
          "font": {
           "color": "#2a3f5f"
          },
          "geo": {
           "bgcolor": "white",
           "lakecolor": "white",
           "landcolor": "#E5ECF6",
           "showlakes": true,
           "showland": true,
           "subunitcolor": "white"
          },
          "hoverlabel": {
           "align": "left"
          },
          "hovermode": "closest",
          "mapbox": {
           "style": "light"
          },
          "paper_bgcolor": "white",
          "plot_bgcolor": "#E5ECF6",
          "polar": {
           "angularaxis": {
            "gridcolor": "white",
            "linecolor": "white",
            "ticks": ""
           },
           "bgcolor": "#E5ECF6",
           "radialaxis": {
            "gridcolor": "white",
            "linecolor": "white",
            "ticks": ""
           }
          },
          "scene": {
           "xaxis": {
            "backgroundcolor": "#E5ECF6",
            "gridcolor": "white",
            "gridwidth": 2,
            "linecolor": "white",
            "showbackground": true,
            "ticks": "",
            "zerolinecolor": "white"
           },
           "yaxis": {
            "backgroundcolor": "#E5ECF6",
            "gridcolor": "white",
            "gridwidth": 2,
            "linecolor": "white",
            "showbackground": true,
            "ticks": "",
            "zerolinecolor": "white"
           },
           "zaxis": {
            "backgroundcolor": "#E5ECF6",
            "gridcolor": "white",
            "gridwidth": 2,
            "linecolor": "white",
            "showbackground": true,
            "ticks": "",
            "zerolinecolor": "white"
           }
          },
          "shapedefaults": {
           "line": {
            "color": "#2a3f5f"
           }
          },
          "ternary": {
           "aaxis": {
            "gridcolor": "white",
            "linecolor": "white",
            "ticks": ""
           },
           "baxis": {
            "gridcolor": "white",
            "linecolor": "white",
            "ticks": ""
           },
           "bgcolor": "#E5ECF6",
           "caxis": {
            "gridcolor": "white",
            "linecolor": "white",
            "ticks": ""
           }
          },
          "title": {
           "x": 0.05
          },
          "xaxis": {
           "automargin": true,
           "gridcolor": "white",
           "linecolor": "white",
           "ticks": "",
           "title": {
            "standoff": 15
           },
           "zerolinecolor": "white",
           "zerolinewidth": 2
          },
          "yaxis": {
           "automargin": true,
           "gridcolor": "white",
           "linecolor": "white",
           "ticks": "",
           "title": {
            "standoff": 15
           },
           "zerolinecolor": "white",
           "zerolinewidth": 2
          }
         }
        },
        "xaxis": {
         "anchor": "y",
         "domain": [
          0,
          1
         ],
         "title": {
          "text": "index"
         }
        },
        "yaxis": {
         "anchor": "x",
         "domain": [
          0,
          1
         ],
         "title": {
          "text": "value"
         }
        }
       }
      }
     },
     "metadata": {},
     "output_type": "display_data"
    }
   ],
   "source": [
    "px.line((expected_payoffs_greeks[2] - ( 2 * expected_payoffs_greeks[1] ) + expected_payoffs_greeks[0])/ np.square(0.002))"
   ]
  },
  {
   "cell_type": "code",
   "execution_count": null,
   "metadata": {},
   "outputs": [],
   "source": []
  }
 ],
 "metadata": {
  "kernelspec": {
   "display_name": "Python 3.8.13 ('base')",
   "language": "python",
   "name": "python3"
  },
  "language_info": {
   "codemirror_mode": {
    "name": "ipython",
    "version": 3
   },
   "file_extension": ".py",
   "mimetype": "text/x-python",
   "name": "python",
   "nbconvert_exporter": "python",
   "pygments_lexer": "ipython3",
   "version": "3.8.13"
  },
  "orig_nbformat": 4,
  "vscode": {
   "interpreter": {
    "hash": "2d9c564e6a05589c32a2531fa102af305ee1407ba7f6d08389f6f6dfdc9c338b"
   }
  }
 },
 "nbformat": 4,
 "nbformat_minor": 2
}
